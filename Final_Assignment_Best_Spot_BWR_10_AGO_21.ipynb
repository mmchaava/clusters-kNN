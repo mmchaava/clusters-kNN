{
  "nbformat": 4,
  "nbformat_minor": 0,
  "metadata": {
    "colab": {
      "name": "Final_Assignment_Best_Spot_BWR_10_AGO_21.ipynb",
      "provenance": [],
      "collapsed_sections": [
        "rIGoixr1MB_Q",
        "Stif2hoc7iXR",
        "FHNzMjmOOtb9",
        "siX1yeS1XBYS",
        "PlXJdATlXiP0",
        "t3ivVsUf1Myf",
        "9PCnI6c4Buwl",
        "LJ5u7hci81Fx",
        "6zNdDVLrKyd4"
      ],
      "include_colab_link": true
    },
    "kernelspec": {
      "display_name": "Python 3",
      "name": "python3"
    },
    "language_info": {
      "name": "python"
    }
  },
  "cells": [
    {
      "cell_type": "markdown",
      "metadata": {
        "id": "view-in-github",
        "colab_type": "text"
      },
      "source": [
        "<a href=\"https://colab.research.google.com/github/mmchaava/clusters-kNN/blob/main/Final_Assignment_Best_Spot_BWR_10_AGO_21.ipynb\" target=\"_parent\"><img src=\"https://colab.research.google.com/assets/colab-badge.svg\" alt=\"Open In Colab\"/></a>"
      ]
    },
    {
      "cell_type": "markdown",
      "metadata": {
        "id": "QlcjOHzW5EOZ"
      },
      "source": [
        "<p><img alt=\"\" src=\"data:image/x-icon;base64,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\"  height=\"70px\" align=\"left\" hspace=\"10px\" vspace=\"0px\"></p>\n",
        "\n",
        "<h1>Segmenting and Clustering Neighborhoods on São Paulo City</h1> <h1>The Best spot for a Brewery</h1>\n",
        "<h2>Scraping the data from Internet</h2>\n",
        "\n",
        "This script aim to select the hot points in São Paulo for brewery and beer related restaurants. The key objective is join enough data to assure best place for new beer business related shops in the city.\n",
        "\n",
        "The main topics is: \n",
        "\n",
        "- Summarise the streets São Paulo city in a dataframe with postal codes and geo coordinates.\n",
        "- Join a side dataframe with the streets names for all key beer stores in São Paulo.\n",
        "- Select the places with higher citations on google.\n",
        "- Apply a classification algorithm to group this places.\n",
        "- Represent the results in a folium map.\n",
        "\n",
        "Reference sites:\n",
        "\n",
        " São Paulo Streets : https://cep.guiamais.com.br/busca/sao+paulo-sp?page=1\n",
        "\n",
        " Beer places : https://www.listamais.com.br\n",
        "\n"
      ]
    },
    {
      "cell_type": "markdown",
      "metadata": {
        "id": "rIGoixr1MB_Q"
      },
      "source": [
        "# INSTALL AND IMPORT"
      ]
    },
    {
      "cell_type": "markdown",
      "metadata": {
        "id": "Stif2hoc7iXR"
      },
      "source": [
        "## Install Libraries\n"
      ]
    },
    {
      "cell_type": "code",
      "metadata": {
        "colab": {
          "base_uri": "https://localhost:8080/"
        },
        "id": "47Tcvn3Q60QR",
        "outputId": "9f989de6-c58d-44cb-f4f5-728150e98b94"
      },
      "source": [
        "!pip install folium"
      ],
      "execution_count": null,
      "outputs": [
        {
          "output_type": "stream",
          "text": [
            "Requirement already satisfied: folium in /usr/local/lib/python3.7/dist-packages (0.8.3)\n",
            "Requirement already satisfied: jinja2 in /usr/local/lib/python3.7/dist-packages (from folium) (2.11.3)\n",
            "Requirement already satisfied: requests in /usr/local/lib/python3.7/dist-packages (from folium) (2.23.0)\n",
            "Requirement already satisfied: six in /usr/local/lib/python3.7/dist-packages (from folium) (1.15.0)\n",
            "Requirement already satisfied: branca>=0.3.0 in /usr/local/lib/python3.7/dist-packages (from folium) (0.4.2)\n",
            "Requirement already satisfied: numpy in /usr/local/lib/python3.7/dist-packages (from folium) (1.19.5)\n",
            "Requirement already satisfied: MarkupSafe>=0.23 in /usr/local/lib/python3.7/dist-packages (from jinja2->folium) (2.0.1)\n",
            "Requirement already satisfied: urllib3!=1.25.0,!=1.25.1,<1.26,>=1.21.1 in /usr/local/lib/python3.7/dist-packages (from requests->folium) (1.24.3)\n",
            "Requirement already satisfied: certifi>=2017.4.17 in /usr/local/lib/python3.7/dist-packages (from requests->folium) (2021.5.30)\n",
            "Requirement already satisfied: chardet<4,>=3.0.2 in /usr/local/lib/python3.7/dist-packages (from requests->folium) (3.0.4)\n",
            "Requirement already satisfied: idna<3,>=2.5 in /usr/local/lib/python3.7/dist-packages (from requests->folium) (2.10)\n"
          ],
          "name": "stdout"
        }
      ]
    },
    {
      "cell_type": "code",
      "metadata": {
        "colab": {
          "base_uri": "https://localhost:8080/"
        },
        "id": "LTc2RXqdOLE6",
        "outputId": "427bc998-b52b-4803-f042-9312458e4693"
      },
      "source": [
        "!pip install pycep_correios"
      ],
      "execution_count": null,
      "outputs": [
        {
          "output_type": "stream",
          "text": [
            "Collecting pycep_correios\n",
            "  Downloading pycep_correios-5.0.0-py2.py3-none-any.whl (7.1 kB)\n",
            "Requirement already satisfied: requests>=2.7.0 in /usr/local/lib/python3.7/dist-packages (from pycep_correios) (2.23.0)\n",
            "Collecting zeep>=2.0.0\n",
            "  Downloading zeep-4.0.0-py2.py3-none-any.whl (100 kB)\n",
            "\u001b[K     |████████████████████████████████| 100 kB 4.0 MB/s \n",
            "\u001b[?25hRequirement already satisfied: urllib3!=1.25.0,!=1.25.1,<1.26,>=1.21.1 in /usr/local/lib/python3.7/dist-packages (from requests>=2.7.0->pycep_correios) (1.24.3)\n",
            "Requirement already satisfied: certifi>=2017.4.17 in /usr/local/lib/python3.7/dist-packages (from requests>=2.7.0->pycep_correios) (2021.5.30)\n",
            "Requirement already satisfied: chardet<4,>=3.0.2 in /usr/local/lib/python3.7/dist-packages (from requests>=2.7.0->pycep_correios) (3.0.4)\n",
            "Requirement already satisfied: idna<3,>=2.5 in /usr/local/lib/python3.7/dist-packages (from requests>=2.7.0->pycep_correios) (2.10)\n",
            "Requirement already satisfied: pytz in /usr/local/lib/python3.7/dist-packages (from zeep>=2.0.0->pycep_correios) (2018.9)\n",
            "Requirement already satisfied: lxml>=3.1.0 in /usr/local/lib/python3.7/dist-packages (from zeep>=2.0.0->pycep_correios) (4.2.6)\n",
            "Requirement already satisfied: cached-property>=1.3.0 in /usr/local/lib/python3.7/dist-packages (from zeep>=2.0.0->pycep_correios) (1.5.2)\n",
            "Requirement already satisfied: attrs>=17.2.0 in /usr/local/lib/python3.7/dist-packages (from zeep>=2.0.0->pycep_correios) (21.2.0)\n",
            "Collecting isodate>=0.5.4\n",
            "  Downloading isodate-0.6.0-py2.py3-none-any.whl (45 kB)\n",
            "\u001b[K     |████████████████████████████████| 45 kB 3.4 MB/s \n",
            "\u001b[?25hRequirement already satisfied: defusedxml>=0.4.1 in /usr/local/lib/python3.7/dist-packages (from zeep>=2.0.0->pycep_correios) (0.7.1)\n",
            "Requirement already satisfied: appdirs>=1.4.0 in /usr/local/lib/python3.7/dist-packages (from zeep>=2.0.0->pycep_correios) (1.4.4)\n",
            "Collecting requests-toolbelt>=0.7.1\n",
            "  Downloading requests_toolbelt-0.9.1-py2.py3-none-any.whl (54 kB)\n",
            "\u001b[K     |████████████████████████████████| 54 kB 2.8 MB/s \n",
            "\u001b[?25hCollecting requests-file>=1.5.1\n",
            "  Downloading requests_file-1.5.1-py2.py3-none-any.whl (3.7 kB)\n",
            "Requirement already satisfied: six in /usr/local/lib/python3.7/dist-packages (from isodate>=0.5.4->zeep>=2.0.0->pycep_correios) (1.15.0)\n",
            "Installing collected packages: requests-toolbelt, requests-file, isodate, zeep, pycep-correios\n",
            "Successfully installed isodate-0.6.0 pycep-correios-5.0.0 requests-file-1.5.1 requests-toolbelt-0.9.1 zeep-4.0.0\n"
          ],
          "name": "stdout"
        }
      ]
    },
    {
      "cell_type": "code",
      "metadata": {
        "colab": {
          "base_uri": "https://localhost:8080/"
        },
        "id": "V9rT3yIQ4-ID",
        "outputId": "89b9216f-61ca-43ac-8947-87437988c8fb"
      },
      "source": [
        "!pip install geopy"
      ],
      "execution_count": null,
      "outputs": [
        {
          "output_type": "stream",
          "text": [
            "Requirement already satisfied: geopy in /usr/local/lib/python3.7/dist-packages (1.17.0)\n",
            "Requirement already satisfied: geographiclib<2,>=1.49 in /usr/local/lib/python3.7/dist-packages (from geopy) (1.52)\n"
          ],
          "name": "stdout"
        }
      ]
    },
    {
      "cell_type": "code",
      "metadata": {
        "colab": {
          "base_uri": "https://localhost:8080/"
        },
        "id": "_1z9XA175l4g",
        "outputId": "80a5272d-7b8f-4ca2-b6e6-7b796d3cab83"
      },
      "source": [
        "!pip install alive_progress"
      ],
      "execution_count": null,
      "outputs": [
        {
          "output_type": "stream",
          "text": [
            "Collecting alive_progress\n",
            "  Downloading alive_progress-1.6.2-py3-none-any.whl (38 kB)\n",
            "Installing collected packages: alive-progress\n",
            "Successfully installed alive-progress-1.6.2\n"
          ],
          "name": "stdout"
        }
      ]
    },
    {
      "cell_type": "markdown",
      "metadata": {
        "id": "TiuthwQr7rSY"
      },
      "source": [
        "## Import Libraries"
      ]
    },
    {
      "cell_type": "code",
      "metadata": {
        "colab": {
          "base_uri": "https://localhost:8080/"
        },
        "id": "To0Ot53e7uYD",
        "outputId": "4c13e1bc-a243-4b0b-c630-0d24c990c7fe"
      },
      "source": [
        "import folium # plotting library\n",
        "from sklearn.cluster import KMeans\n",
        "import matplotlib.cm as cm\n",
        "import matplotlib.colors as colors\n",
        "\n",
        "from geopy.geocoders import Nominatim # module to convert an address into latitude and longitude values\n",
        "import requests # library to handle request\n",
        "\n",
        "import pandas as pd # library for data analsysis\n",
        "import numpy as np # library to handle data in a vectorized manner\n",
        "import random # library for random number generation\n",
        "\n",
        "# tranforming json file into a pandas dataframe library\n",
        "import json\n",
        "\n",
        "# libraries for displaying images\n",
        "from IPython.display import Image \n",
        "from IPython.core.display import HTML\n",
        "from IPython.display import display_html\n",
        "\n",
        "#libraries for geolocation\n",
        "import pycep_correios\n",
        "import geopy\n",
        "from geopy.geocoders import Nominatim\n",
        "\n",
        "#Beatiful Soap\n",
        "import json\n",
        "import urllib3\n",
        "from bs4 import BeautifulSoup\n",
        "import pandas as pd\n",
        "import requests\n",
        "\n",
        "#progress bar\n",
        "from alive_progress import alive_bar\n",
        "from tqdm import tqdm\n",
        "\n",
        "#time pause\n",
        "from random import randint\n",
        "from time import sleep\n",
        "\n",
        "#google colab\n",
        "from google.colab import files\n",
        "\n",
        "print('Libraries imported.')"
      ],
      "execution_count": null,
      "outputs": [
        {
          "output_type": "stream",
          "text": [
            "Libraries imported.\n"
          ],
          "name": "stdout"
        }
      ]
    },
    {
      "cell_type": "markdown",
      "metadata": {
        "id": "Fo1WznTJcnKa"
      },
      "source": [
        "### Classes"
      ]
    },
    {
      "cell_type": "code",
      "metadata": {
        "id": "sTRny7vacmFg"
      },
      "source": [
        "class bcolors:\n",
        "    HEADER = '\\033[95m'\n",
        "    OKBLUE = '\\033[94m'\n",
        "    OKCYAN = '\\033[96m'\n",
        "    OKGREEN = '\\033[92m'\n",
        "    WARNING = '\\033[93m'\n",
        "    FAIL = '\\033[91m'\n",
        "    ENDC = '\\033[0m'\n",
        "    BOLD = '\\033[1m'\n",
        "    UNDERLINE = '\\033[4m'"
      ],
      "execution_count": null,
      "outputs": []
    },
    {
      "cell_type": "markdown",
      "metadata": {
        "id": "Yt96qPdWWXFH"
      },
      "source": [
        "# FINDING - Beers Stores in São Paulo"
      ]
    },
    {
      "cell_type": "markdown",
      "metadata": {
        "id": "FHNzMjmOOtb9"
      },
      "source": [
        "## SCRAPING THE DATA"
      ]
    },
    {
      "cell_type": "markdown",
      "metadata": {
        "id": "siX1yeS1XBYS"
      },
      "source": [
        "### Acquiring the Data from Reference Site"
      ]
    },
    {
      "cell_type": "code",
      "metadata": {
        "id": "ABYQcL7RWV7r"
      },
      "source": [
        "def carrega(pag):\n",
        "  \n",
        "  site_txt=\"https://www.listamais.com.br/ResultadoBusca/PaginacaoPagina?vGlobalCidade=75&vGlobalBusca=cervejaria&vGlobalSize=10&vGlobalOrdem=melhor_resultado&vGlobalRestricoes=&vGlobalTipoRestricao=and&vGlobalCidadeDescricao=S%C3%A3o+Paulo++-+SP&vGlobalCampoTravado=0&vGlobalCursorAnterior=2&vGlobalCursorProximo=4&vGlobalCamposAceitos=todos&vGlobalQuantidadeDeRegistros=2250&vGlobalCampoTravadoDescricaoPaginacao=&vGlobalExibeh1=Cervejaria&vGlobalIntervalo=&vGlobalComecoPaginacao=10&sLocalizacao=&sCluster=&filtros=&segmento=&buscaES=true&buscaInfoCod=&total_paginas=225&pagina_atual=3&localizacaoUsuarioPaginacao=&cidadePaginacao=&proximo=col-md-12+NoPadding2%40ViewBag.proximo&usuarioPaginacao=0&random_ordem=0&sPagina=\"+str(pag)\n",
        "  #site_txt=\"https://www.guiamais.com.br/encontre?searchbox=true&what=cervejaria&where=s%C3%A3o+paulo%2C+sp&page=\"+str(pag)\n",
        "  URL = (site_txt)\n",
        "  page = requests.get(URL)\n",
        "  soup = BeautifulSoup(page.content, \"html.parser\")\n",
        "  job_elements = soup.find_all(\"script\", type=\"application/ld+json\")\n",
        "\n",
        "  return job_elements"
      ],
      "execution_count": null,
      "outputs": []
    },
    {
      "cell_type": "code",
      "metadata": {
        "colab": {
          "base_uri": "https://localhost:8080/"
        },
        "id": "8yRjeKt8bXeU",
        "outputId": "4c727857-fed9-4f63-a65a-021dee98d148"
      },
      "source": [
        "# checking the authorization of the searched site for scrapping\n",
        "\n",
        "r=requests.get(\"https://www.listamais.com.br/ResultadoBusca/PaginacaoPagina?vGlobalCidade=75&vGlobalBusca=cervejaria&vGlobalSize=10&vGlobalOrdem=melhor_resultado&vGlobalRestricoes=&vGlobalTipoRestricao=and&vGlobalCidadeDescricao=S%C3%A3o+Paulo++-+SP&vGlobalCampoTravado=0&vGlobalCursorAnterior=2&vGlobalCursorProximo=4&vGlobalCamposAceitos=todos&vGlobalQuantidadeDeRegistros=2250&vGlobalCampoTravadoDescricaoPaginacao=&vGlobalExibeh1=Cervejaria&vGlobalIntervalo=&vGlobalComecoPaginacao=10&sLocalizacao=&sCluster=&filtros=&segmento=&buscaES=true&buscaInfoCod=&total_paginas=225&pagina_atual=3&localizacaoUsuarioPaginacao=&cidadePaginacao=&proximo=col-md-12+NoPadding2%40ViewBag.proximo&usuarioPaginacao=0&random_ordem=0&sPagina=1\")\n",
        "\n",
        "if r.status_code==200:\n",
        "  print (f\"{bcolors.OKGREEN}This site accept web scrapping.\")\n",
        "else:\n",
        "  print(f\"{bcolors.FAIL}Scrapping this site is not allowed.\")\n",
        "\n"
      ],
      "execution_count": null,
      "outputs": [
        {
          "output_type": "stream",
          "text": [
            "\u001b[92mThis site accept web scrapping.\n"
          ],
          "name": "stdout"
        }
      ]
    },
    {
      "cell_type": "code",
      "metadata": {
        "colab": {
          "base_uri": "https://localhost:8080/",
          "height": 436
        },
        "id": "KtwWD7bdXPSH",
        "outputId": "b91d10a4-f57e-4bfd-f6b3-7ad5d683a272"
      },
      "source": [
        "pag=0\n",
        "df=pd.DataFrame()\n",
        "df_t=pd.DataFrame()\n",
        "\n",
        "for pag in tqdm(range(1,226)):\n",
        "\n",
        "  df=pd.concat([df,df_t])\n",
        "\n",
        "  job_elements = carrega(pag)\n",
        "\n",
        "  # inital values - set up\n",
        "  texto = str(job_elements)\n",
        "  procura = '\"name\": \"'\n",
        "  s = 0\n",
        "  frag = \"\"\n",
        "  lista_n = []\n",
        "  pos=0\n",
        "  cond=','\n",
        "\n",
        "  procura_l = ['\"name\": \"',\n",
        "                 '\"addressLocality\":\"',\n",
        "                 '\"postalCode\":\"',\n",
        "            '\"streetAddress\":\"']\n",
        "           \n",
        "\n",
        "  col_nom   = [\"Store_Name\",\n",
        "                 \"Locality\",\n",
        "                 \"Postal_Code\",\n",
        "              \"Street_Address\"]\n",
        "             \n",
        "  for i in range(0,len(procura_l)):\n",
        "\n",
        "    procura = procura_l[i]\n",
        "\n",
        "    while not(pos==-1):\n",
        "      txt = \"\"\n",
        "      frag = \"\"\n",
        "      pos  = texto.find( procura , s )\n",
        "      pos_ = pos + len(procura)\n",
        "\n",
        "      while not(frag==cond):\n",
        "        frag = texto[pos_:pos_+1]\n",
        "        txt = txt + frag\n",
        "        pos_ = pos_ + 1\n",
        "  \n",
        "      s=pos_\n",
        "      txt.replace('\",',\"\")\n",
        "      lista_n.append(txt)\n",
        "\n",
        "    df_t[col_nom[i]]=lista_n\n",
        "\n",
        "    s=0\n",
        "    frag = \"\"\n",
        "    lista_n = []\n",
        "    pos=0\n",
        "\n",
        "    if i==2 :\n",
        "      cond = '\"' \n",
        "    else:\n",
        "      cond = ','\n",
        "\n",
        "\n",
        "df.reset_index(inplace=True, drop=True)\n",
        "df=pd.DataFrame(data=df, columns=col_nom)\n",
        "\n",
        "df"
      ],
      "execution_count": null,
      "outputs": [
        {
          "output_type": "stream",
          "text": [
            "100%|██████████| 225/225 [05:34<00:00,  1.49s/it]\n"
          ],
          "name": "stderr"
        },
        {
          "output_type": "execute_result",
          "data": {
            "text/html": [
              "<div>\n",
              "<style scoped>\n",
              "    .dataframe tbody tr th:only-of-type {\n",
              "        vertical-align: middle;\n",
              "    }\n",
              "\n",
              "    .dataframe tbody tr th {\n",
              "        vertical-align: top;\n",
              "    }\n",
              "\n",
              "    .dataframe thead th {\n",
              "        text-align: right;\n",
              "    }\n",
              "</style>\n",
              "<table border=\"1\" class=\"dataframe\">\n",
              "  <thead>\n",
              "    <tr style=\"text-align: right;\">\n",
              "      <th></th>\n",
              "      <th>Store_Name</th>\n",
              "      <th>Locality</th>\n",
              "      <th>Postal_Code</th>\n",
              "      <th>Street_Address</th>\n",
              "    </tr>\n",
              "  </thead>\n",
              "  <tbody>\n",
              "    <tr>\n",
              "      <th>0</th>\n",
              "      <td>Lanchonete Choperia Bilu Bilu Ltda - Me \",</td>\n",
              "      <td>São Paulo \",</td>\n",
              "      <td>08140-000\",</td>\n",
              "      <td>Rua Tibúrcio Sousa, 148,  Itaim Paulista\"</td>\n",
              "    </tr>\n",
              "    <tr>\n",
              "      <th>1</th>\n",
              "      <td>Choperia Takeu Ltda \",</td>\n",
              "      <td>São Paulo \",</td>\n",
              "      <td>01510-001\",</td>\n",
              "      <td>Rua Glória, 523,  Liberdade\"</td>\n",
              "    </tr>\n",
              "    <tr>\n",
              "      <th>2</th>\n",
              "      <td>Cervejaria Nacional \",</td>\n",
              "      <td>São Paulo \",</td>\n",
              "      <td>54200-01 \",</td>\n",
              "      <td>Avenida Pedroso Morais, 604,  \"</td>\n",
              "    </tr>\n",
              "    <tr>\n",
              "      <th>3</th>\n",
              "      <td>Toca do Nego Veio Bar &amp; Cervejaria \",</td>\n",
              "      <td>São Paulo \",</td>\n",
              "      <td>53520-50 \",</td>\n",
              "      <td>Rua Doutor Teodoro Quartim Barbosa, 114,  \"</td>\n",
              "    </tr>\n",
              "    <tr>\n",
              "      <th>4</th>\n",
              "      <td>Restaurante Choperia Tche Gaúcho Ltda \",</td>\n",
              "      <td>São Paulo \",</td>\n",
              "      <td>\",</td>\n",
              "      <td>Estrada Guarapiranga, 884,  Guarapiranga\"</td>\n",
              "    </tr>\n",
              "    <tr>\n",
              "      <th>...</th>\n",
              "      <td>...</td>\n",
              "      <td>...</td>\n",
              "      <td>...</td>\n",
              "      <td>...</td>\n",
              "    </tr>\n",
              "    <tr>\n",
              "      <th>2459</th>\n",
              "      <td>Qg Auto Shop - Jd Peri Peri \",</td>\n",
              "      <td>São Paulo \",</td>\n",
              "      <td>\",</td>\n",
              "      <td>Rua Salvado Isoleu, 85,  \"</td>\n",
              "    </tr>\n",
              "    <tr>\n",
              "      <th>2460</th>\n",
              "      <td>Universal Distribuidora de Maçanetas e Ferrage...</td>\n",
              "      <td>São Paulo \",</td>\n",
              "      <td>\",</td>\n",
              "      <td>Rua Belamino José Costa, 19,  \"</td>\n",
              "    </tr>\n",
              "    <tr>\n",
              "      <th>2461</th>\n",
              "      <td>Triplicar Auto Shop \",</td>\n",
              "      <td>São Paulo \",</td>\n",
              "      <td>\",</td>\n",
              "      <td>Av Guapira, 1650, Bro Vl Constanca  \"</td>\n",
              "    </tr>\n",
              "    <tr>\n",
              "      <th>2462</th>\n",
              "      <td>W W Auto Shop \",</td>\n",
              "      <td>São Paulo \",</td>\n",
              "      <td>21250-00 \",</td>\n",
              "      <td>Rua Mere Amedea, 90,  \"</td>\n",
              "    </tr>\n",
              "    <tr>\n",
              "      <th>2463</th>\n",
              "      <td>type=\"application/ld+json\"&gt;\\r\\n            {\\...</td>\n",
              "      <td>lication/ld+json\"&gt;\\r\\n            {\\r\\n       ...</td>\n",
              "      <td>=\"application/ld+json\"&gt;\\r\\n            {\\r\\n  ...</td>\n",
              "      <td>pplication/ld+json\"</td>\n",
              "    </tr>\n",
              "  </tbody>\n",
              "</table>\n",
              "<p>2464 rows × 4 columns</p>\n",
              "</div>"
            ],
            "text/plain": [
              "                                             Store_Name  ...                               Street_Address\n",
              "0            Lanchonete Choperia Bilu Bilu Ltda - Me \",  ...    Rua Tibúrcio Sousa, 148,  Itaim Paulista\"\n",
              "1                                Choperia Takeu Ltda \",  ...                 Rua Glória, 523,  Liberdade\"\n",
              "2                                Cervejaria Nacional \",  ...              Avenida Pedroso Morais, 604,  \"\n",
              "3                 Toca do Nego Veio Bar & Cervejaria \",  ...  Rua Doutor Teodoro Quartim Barbosa, 114,  \"\n",
              "4              Restaurante Choperia Tche Gaúcho Ltda \",  ...    Estrada Guarapiranga, 884,  Guarapiranga\"\n",
              "...                                                 ...  ...                                          ...\n",
              "2459                     Qg Auto Shop - Jd Peri Peri \",  ...                   Rua Salvado Isoleu, 85,  \"\n",
              "2460  Universal Distribuidora de Maçanetas e Ferrage...  ...              Rua Belamino José Costa, 19,  \"\n",
              "2461                             Triplicar Auto Shop \",  ...        Av Guapira, 1650, Bro Vl Constanca  \"\n",
              "2462                                   W W Auto Shop \",  ...                      Rua Mere Amedea, 90,  \"\n",
              "2463   type=\"application/ld+json\">\\r\\n            {\\...  ...                          pplication/ld+json\"\n",
              "\n",
              "[2464 rows x 4 columns]"
            ]
          },
          "metadata": {
            "tags": []
          },
          "execution_count": 17
        }
      ]
    },
    {
      "cell_type": "markdown",
      "metadata": {
        "id": "PlXJdATlXiP0"
      },
      "source": [
        "### Cleasing and Pre Processing the Data"
      ]
    },
    {
      "cell_type": "code",
      "metadata": {
        "id": "kIsfV5N2XWit",
        "colab": {
          "base_uri": "https://localhost:8080/",
          "height": 418
        },
        "outputId": "95d20588-1699-4fc4-d9d4-06b0f191670d"
      },
      "source": [
        "# Remove not valide rows\n",
        "\n",
        "for i in range(0,df.shape[0]):\n",
        "  proc=str(df['Store_Name'].loc[i:i])\n",
        "  if proc[0:18+len(str(i))] == str(i)+'     type=\"applica':\n",
        "    df['Store_Name'].loc[i:i]=\"deletar\"\n",
        "\n",
        "df.drop(df[df['Store_Name'] == \"deletar\"].index, inplace = True)\n",
        "df.reset_index(inplace=True, drop=True)\n",
        "\n",
        "df\n"
      ],
      "execution_count": null,
      "outputs": [
        {
          "output_type": "execute_result",
          "data": {
            "text/html": [
              "<div>\n",
              "<style scoped>\n",
              "    .dataframe tbody tr th:only-of-type {\n",
              "        vertical-align: middle;\n",
              "    }\n",
              "\n",
              "    .dataframe tbody tr th {\n",
              "        vertical-align: top;\n",
              "    }\n",
              "\n",
              "    .dataframe thead th {\n",
              "        text-align: right;\n",
              "    }\n",
              "</style>\n",
              "<table border=\"1\" class=\"dataframe\">\n",
              "  <thead>\n",
              "    <tr style=\"text-align: right;\">\n",
              "      <th></th>\n",
              "      <th>Store_Name</th>\n",
              "      <th>Locality</th>\n",
              "      <th>Postal_Code</th>\n",
              "      <th>Street_Address</th>\n",
              "    </tr>\n",
              "  </thead>\n",
              "  <tbody>\n",
              "    <tr>\n",
              "      <th>0</th>\n",
              "      <td>Lanchonete Choperia Bilu Bilu Ltda - Me \",</td>\n",
              "      <td>São Paulo \",</td>\n",
              "      <td>08140-000\",</td>\n",
              "      <td>Rua Tibúrcio Sousa, 148,  Itaim Paulista\"</td>\n",
              "    </tr>\n",
              "    <tr>\n",
              "      <th>1</th>\n",
              "      <td>Choperia Takeu Ltda \",</td>\n",
              "      <td>São Paulo \",</td>\n",
              "      <td>01510-001\",</td>\n",
              "      <td>Rua Glória, 523,  Liberdade\"</td>\n",
              "    </tr>\n",
              "    <tr>\n",
              "      <th>2</th>\n",
              "      <td>Cervejaria Nacional \",</td>\n",
              "      <td>São Paulo \",</td>\n",
              "      <td>54200-01 \",</td>\n",
              "      <td>Avenida Pedroso Morais, 604,  \"</td>\n",
              "    </tr>\n",
              "    <tr>\n",
              "      <th>3</th>\n",
              "      <td>Toca do Nego Veio Bar &amp; Cervejaria \",</td>\n",
              "      <td>São Paulo \",</td>\n",
              "      <td>53520-50 \",</td>\n",
              "      <td>Rua Doutor Teodoro Quartim Barbosa, 114,  \"</td>\n",
              "    </tr>\n",
              "    <tr>\n",
              "      <th>4</th>\n",
              "      <td>Restaurante Choperia Tche Gaúcho Ltda \",</td>\n",
              "      <td>São Paulo \",</td>\n",
              "      <td>\",</td>\n",
              "      <td>Estrada Guarapiranga, 884,  Guarapiranga\"</td>\n",
              "    </tr>\n",
              "    <tr>\n",
              "      <th>...</th>\n",
              "      <td>...</td>\n",
              "      <td>...</td>\n",
              "      <td>...</td>\n",
              "      <td>...</td>\n",
              "    </tr>\n",
              "    <tr>\n",
              "      <th>2235</th>\n",
              "      <td>Shop Car Moraes Serviços Automotivos S/c \",</td>\n",
              "      <td>São Paulo \",</td>\n",
              "      <td>\",</td>\n",
              "      <td>Rua Odovalho Jr, 475,  \"</td>\n",
              "    </tr>\n",
              "    <tr>\n",
              "      <th>2236</th>\n",
              "      <td>Qg Auto Shop - Jd Peri Peri \",</td>\n",
              "      <td>São Paulo \",</td>\n",
              "      <td>\",</td>\n",
              "      <td>Rua Salvado Isoleu, 85,  \"</td>\n",
              "    </tr>\n",
              "    <tr>\n",
              "      <th>2237</th>\n",
              "      <td>Universal Distribuidora de Maçanetas e Ferrage...</td>\n",
              "      <td>São Paulo \",</td>\n",
              "      <td>\",</td>\n",
              "      <td>Rua Belamino José Costa, 19,  \"</td>\n",
              "    </tr>\n",
              "    <tr>\n",
              "      <th>2238</th>\n",
              "      <td>Triplicar Auto Shop \",</td>\n",
              "      <td>São Paulo \",</td>\n",
              "      <td>\",</td>\n",
              "      <td>Av Guapira, 1650, Bro Vl Constanca  \"</td>\n",
              "    </tr>\n",
              "    <tr>\n",
              "      <th>2239</th>\n",
              "      <td>W W Auto Shop \",</td>\n",
              "      <td>São Paulo \",</td>\n",
              "      <td>21250-00 \",</td>\n",
              "      <td>Rua Mere Amedea, 90,  \"</td>\n",
              "    </tr>\n",
              "  </tbody>\n",
              "</table>\n",
              "<p>2240 rows × 4 columns</p>\n",
              "</div>"
            ],
            "text/plain": [
              "                                             Store_Name  ...                               Street_Address\n",
              "0            Lanchonete Choperia Bilu Bilu Ltda - Me \",  ...    Rua Tibúrcio Sousa, 148,  Itaim Paulista\"\n",
              "1                                Choperia Takeu Ltda \",  ...                 Rua Glória, 523,  Liberdade\"\n",
              "2                                Cervejaria Nacional \",  ...              Avenida Pedroso Morais, 604,  \"\n",
              "3                 Toca do Nego Veio Bar & Cervejaria \",  ...  Rua Doutor Teodoro Quartim Barbosa, 114,  \"\n",
              "4              Restaurante Choperia Tche Gaúcho Ltda \",  ...    Estrada Guarapiranga, 884,  Guarapiranga\"\n",
              "...                                                 ...  ...                                          ...\n",
              "2235        Shop Car Moraes Serviços Automotivos S/c \",  ...                     Rua Odovalho Jr, 475,  \"\n",
              "2236                     Qg Auto Shop - Jd Peri Peri \",  ...                   Rua Salvado Isoleu, 85,  \"\n",
              "2237  Universal Distribuidora de Maçanetas e Ferrage...  ...              Rua Belamino José Costa, 19,  \"\n",
              "2238                             Triplicar Auto Shop \",  ...        Av Guapira, 1650, Bro Vl Constanca  \"\n",
              "2239                                   W W Auto Shop \",  ...                      Rua Mere Amedea, 90,  \"\n",
              "\n",
              "[2240 rows x 4 columns]"
            ]
          },
          "metadata": {
            "tags": []
          },
          "execution_count": 18
        }
      ]
    },
    {
      "cell_type": "code",
      "metadata": {
        "id": "Nqggs3NiXzKt",
        "colab": {
          "base_uri": "https://localhost:8080/",
          "height": 418
        },
        "outputId": "d9d679c1-4b8b-47c1-f523-dbfcd07129d7"
      },
      "source": [
        "# Cleanning Data\n",
        "\n",
        "street=\"\"\n",
        "number=\"\"\n",
        "neighb=\"\"\n",
        "\n",
        "street_l=[]\n",
        "number_l=[]\n",
        "neighb_l=[]\n",
        "\n",
        "for i in range(0,df.shape[0]):\n",
        "  proc=str(df['Street_Address'].loc[i:i])\n",
        "  proc_=proc.split(sep=\",\")\n",
        "\n",
        "  if not(len(proc_)==4):\n",
        "    df['Street_Address'].loc[i:i]=\"deletar\"\n",
        "\n",
        "df.drop(df[df['Street_Address'] == \"deletar\"].index, inplace = True)\n",
        "df.reset_index(inplace=True, drop=True)\n",
        "\n",
        "df"
      ],
      "execution_count": null,
      "outputs": [
        {
          "output_type": "execute_result",
          "data": {
            "text/html": [
              "<div>\n",
              "<style scoped>\n",
              "    .dataframe tbody tr th:only-of-type {\n",
              "        vertical-align: middle;\n",
              "    }\n",
              "\n",
              "    .dataframe tbody tr th {\n",
              "        vertical-align: top;\n",
              "    }\n",
              "\n",
              "    .dataframe thead th {\n",
              "        text-align: right;\n",
              "    }\n",
              "</style>\n",
              "<table border=\"1\" class=\"dataframe\">\n",
              "  <thead>\n",
              "    <tr style=\"text-align: right;\">\n",
              "      <th></th>\n",
              "      <th>Store_Name</th>\n",
              "      <th>Locality</th>\n",
              "      <th>Postal_Code</th>\n",
              "      <th>Street_Address</th>\n",
              "    </tr>\n",
              "  </thead>\n",
              "  <tbody>\n",
              "    <tr>\n",
              "      <th>0</th>\n",
              "      <td>Lanchonete Choperia Bilu Bilu Ltda - Me \",</td>\n",
              "      <td>São Paulo \",</td>\n",
              "      <td>08140-000\",</td>\n",
              "      <td>Rua Tibúrcio Sousa, 148,  Itaim Paulista\"</td>\n",
              "    </tr>\n",
              "    <tr>\n",
              "      <th>1</th>\n",
              "      <td>Choperia Takeu Ltda \",</td>\n",
              "      <td>São Paulo \",</td>\n",
              "      <td>01510-001\",</td>\n",
              "      <td>Rua Glória, 523,  Liberdade\"</td>\n",
              "    </tr>\n",
              "    <tr>\n",
              "      <th>2</th>\n",
              "      <td>Cervejaria Nacional \",</td>\n",
              "      <td>São Paulo \",</td>\n",
              "      <td>54200-01 \",</td>\n",
              "      <td>Avenida Pedroso Morais, 604,  \"</td>\n",
              "    </tr>\n",
              "    <tr>\n",
              "      <th>3</th>\n",
              "      <td>Toca do Nego Veio Bar &amp; Cervejaria \",</td>\n",
              "      <td>São Paulo \",</td>\n",
              "      <td>53520-50 \",</td>\n",
              "      <td>Rua Doutor Teodoro Quartim Barbosa, 114,  \"</td>\n",
              "    </tr>\n",
              "    <tr>\n",
              "      <th>4</th>\n",
              "      <td>Restaurante Choperia Tche Gaúcho Ltda \",</td>\n",
              "      <td>São Paulo \",</td>\n",
              "      <td>\",</td>\n",
              "      <td>Estrada Guarapiranga, 884,  Guarapiranga\"</td>\n",
              "    </tr>\n",
              "    <tr>\n",
              "      <th>...</th>\n",
              "      <td>...</td>\n",
              "      <td>...</td>\n",
              "      <td>...</td>\n",
              "      <td>...</td>\n",
              "    </tr>\n",
              "    <tr>\n",
              "      <th>2229</th>\n",
              "      <td>Shop Car Moraes Serviços Automotivos S/c \",</td>\n",
              "      <td>São Paulo \",</td>\n",
              "      <td>\",</td>\n",
              "      <td>Rua Odovalho Jr, 475,  \"</td>\n",
              "    </tr>\n",
              "    <tr>\n",
              "      <th>2230</th>\n",
              "      <td>Qg Auto Shop - Jd Peri Peri \",</td>\n",
              "      <td>São Paulo \",</td>\n",
              "      <td>\",</td>\n",
              "      <td>Rua Salvado Isoleu, 85,  \"</td>\n",
              "    </tr>\n",
              "    <tr>\n",
              "      <th>2231</th>\n",
              "      <td>Universal Distribuidora de Maçanetas e Ferrage...</td>\n",
              "      <td>São Paulo \",</td>\n",
              "      <td>\",</td>\n",
              "      <td>Rua Belamino José Costa, 19,  \"</td>\n",
              "    </tr>\n",
              "    <tr>\n",
              "      <th>2232</th>\n",
              "      <td>Triplicar Auto Shop \",</td>\n",
              "      <td>São Paulo \",</td>\n",
              "      <td>\",</td>\n",
              "      <td>Av Guapira, 1650, Bro Vl Constanca  \"</td>\n",
              "    </tr>\n",
              "    <tr>\n",
              "      <th>2233</th>\n",
              "      <td>W W Auto Shop \",</td>\n",
              "      <td>São Paulo \",</td>\n",
              "      <td>21250-00 \",</td>\n",
              "      <td>Rua Mere Amedea, 90,  \"</td>\n",
              "    </tr>\n",
              "  </tbody>\n",
              "</table>\n",
              "<p>2234 rows × 4 columns</p>\n",
              "</div>"
            ],
            "text/plain": [
              "                                             Store_Name  ...                               Street_Address\n",
              "0            Lanchonete Choperia Bilu Bilu Ltda - Me \",  ...    Rua Tibúrcio Sousa, 148,  Itaim Paulista\"\n",
              "1                                Choperia Takeu Ltda \",  ...                 Rua Glória, 523,  Liberdade\"\n",
              "2                                Cervejaria Nacional \",  ...              Avenida Pedroso Morais, 604,  \"\n",
              "3                 Toca do Nego Veio Bar & Cervejaria \",  ...  Rua Doutor Teodoro Quartim Barbosa, 114,  \"\n",
              "4              Restaurante Choperia Tche Gaúcho Ltda \",  ...    Estrada Guarapiranga, 884,  Guarapiranga\"\n",
              "...                                                 ...  ...                                          ...\n",
              "2229        Shop Car Moraes Serviços Automotivos S/c \",  ...                     Rua Odovalho Jr, 475,  \"\n",
              "2230                     Qg Auto Shop - Jd Peri Peri \",  ...                   Rua Salvado Isoleu, 85,  \"\n",
              "2231  Universal Distribuidora de Maçanetas e Ferrage...  ...              Rua Belamino José Costa, 19,  \"\n",
              "2232                             Triplicar Auto Shop \",  ...        Av Guapira, 1650, Bro Vl Constanca  \"\n",
              "2233                                   W W Auto Shop \",  ...                      Rua Mere Amedea, 90,  \"\n",
              "\n",
              "[2234 rows x 4 columns]"
            ]
          },
          "metadata": {
            "tags": []
          },
          "execution_count": 19
        }
      ]
    },
    {
      "cell_type": "code",
      "metadata": {
        "id": "OCdpztdOX-Gf",
        "colab": {
          "base_uri": "https://localhost:8080/",
          "height": 418
        },
        "outputId": "ee4317ed-c686-4319-bb4b-171305ce1552"
      },
      "source": [
        "# Detailing Address\n",
        "\n",
        "df[[ 'Street_Name', 'Number', 'Neighborhood' ]] = df['Street_Address'].str.split(',', expand=True)\n",
        "\n",
        "df"
      ],
      "execution_count": null,
      "outputs": [
        {
          "output_type": "execute_result",
          "data": {
            "text/html": [
              "<div>\n",
              "<style scoped>\n",
              "    .dataframe tbody tr th:only-of-type {\n",
              "        vertical-align: middle;\n",
              "    }\n",
              "\n",
              "    .dataframe tbody tr th {\n",
              "        vertical-align: top;\n",
              "    }\n",
              "\n",
              "    .dataframe thead th {\n",
              "        text-align: right;\n",
              "    }\n",
              "</style>\n",
              "<table border=\"1\" class=\"dataframe\">\n",
              "  <thead>\n",
              "    <tr style=\"text-align: right;\">\n",
              "      <th></th>\n",
              "      <th>Store_Name</th>\n",
              "      <th>Locality</th>\n",
              "      <th>Postal_Code</th>\n",
              "      <th>Street_Address</th>\n",
              "      <th>Street_Name</th>\n",
              "      <th>Number</th>\n",
              "      <th>Neighborhood</th>\n",
              "    </tr>\n",
              "  </thead>\n",
              "  <tbody>\n",
              "    <tr>\n",
              "      <th>0</th>\n",
              "      <td>Lanchonete Choperia Bilu Bilu Ltda - Me \",</td>\n",
              "      <td>São Paulo \",</td>\n",
              "      <td>08140-000\",</td>\n",
              "      <td>Rua Tibúrcio Sousa, 148,  Itaim Paulista\"</td>\n",
              "      <td>Rua Tibúrcio Sousa</td>\n",
              "      <td>148</td>\n",
              "      <td>Itaim Paulista\"</td>\n",
              "    </tr>\n",
              "    <tr>\n",
              "      <th>1</th>\n",
              "      <td>Choperia Takeu Ltda \",</td>\n",
              "      <td>São Paulo \",</td>\n",
              "      <td>01510-001\",</td>\n",
              "      <td>Rua Glória, 523,  Liberdade\"</td>\n",
              "      <td>Rua Glória</td>\n",
              "      <td>523</td>\n",
              "      <td>Liberdade\"</td>\n",
              "    </tr>\n",
              "    <tr>\n",
              "      <th>2</th>\n",
              "      <td>Cervejaria Nacional \",</td>\n",
              "      <td>São Paulo \",</td>\n",
              "      <td>54200-01 \",</td>\n",
              "      <td>Avenida Pedroso Morais, 604,  \"</td>\n",
              "      <td>Avenida Pedroso Morais</td>\n",
              "      <td>604</td>\n",
              "      <td>\"</td>\n",
              "    </tr>\n",
              "    <tr>\n",
              "      <th>3</th>\n",
              "      <td>Toca do Nego Veio Bar &amp; Cervejaria \",</td>\n",
              "      <td>São Paulo \",</td>\n",
              "      <td>53520-50 \",</td>\n",
              "      <td>Rua Doutor Teodoro Quartim Barbosa, 114,  \"</td>\n",
              "      <td>Rua Doutor Teodoro Quartim Barbosa</td>\n",
              "      <td>114</td>\n",
              "      <td>\"</td>\n",
              "    </tr>\n",
              "    <tr>\n",
              "      <th>4</th>\n",
              "      <td>Restaurante Choperia Tche Gaúcho Ltda \",</td>\n",
              "      <td>São Paulo \",</td>\n",
              "      <td>\",</td>\n",
              "      <td>Estrada Guarapiranga, 884,  Guarapiranga\"</td>\n",
              "      <td>Estrada Guarapiranga</td>\n",
              "      <td>884</td>\n",
              "      <td>Guarapiranga\"</td>\n",
              "    </tr>\n",
              "    <tr>\n",
              "      <th>...</th>\n",
              "      <td>...</td>\n",
              "      <td>...</td>\n",
              "      <td>...</td>\n",
              "      <td>...</td>\n",
              "      <td>...</td>\n",
              "      <td>...</td>\n",
              "      <td>...</td>\n",
              "    </tr>\n",
              "    <tr>\n",
              "      <th>2229</th>\n",
              "      <td>Shop Car Moraes Serviços Automotivos S/c \",</td>\n",
              "      <td>São Paulo \",</td>\n",
              "      <td>\",</td>\n",
              "      <td>Rua Odovalho Jr, 475,  \"</td>\n",
              "      <td>Rua Odovalho Jr</td>\n",
              "      <td>475</td>\n",
              "      <td>\"</td>\n",
              "    </tr>\n",
              "    <tr>\n",
              "      <th>2230</th>\n",
              "      <td>Qg Auto Shop - Jd Peri Peri \",</td>\n",
              "      <td>São Paulo \",</td>\n",
              "      <td>\",</td>\n",
              "      <td>Rua Salvado Isoleu, 85,  \"</td>\n",
              "      <td>Rua Salvado Isoleu</td>\n",
              "      <td>85</td>\n",
              "      <td>\"</td>\n",
              "    </tr>\n",
              "    <tr>\n",
              "      <th>2231</th>\n",
              "      <td>Universal Distribuidora de Maçanetas e Ferrage...</td>\n",
              "      <td>São Paulo \",</td>\n",
              "      <td>\",</td>\n",
              "      <td>Rua Belamino José Costa, 19,  \"</td>\n",
              "      <td>Rua Belamino José Costa</td>\n",
              "      <td>19</td>\n",
              "      <td>\"</td>\n",
              "    </tr>\n",
              "    <tr>\n",
              "      <th>2232</th>\n",
              "      <td>Triplicar Auto Shop \",</td>\n",
              "      <td>São Paulo \",</td>\n",
              "      <td>\",</td>\n",
              "      <td>Av Guapira, 1650, Bro Vl Constanca  \"</td>\n",
              "      <td>Av Guapira</td>\n",
              "      <td>1650</td>\n",
              "      <td>Bro Vl Constanca  \"</td>\n",
              "    </tr>\n",
              "    <tr>\n",
              "      <th>2233</th>\n",
              "      <td>W W Auto Shop \",</td>\n",
              "      <td>São Paulo \",</td>\n",
              "      <td>21250-00 \",</td>\n",
              "      <td>Rua Mere Amedea, 90,  \"</td>\n",
              "      <td>Rua Mere Amedea</td>\n",
              "      <td>90</td>\n",
              "      <td>\"</td>\n",
              "    </tr>\n",
              "  </tbody>\n",
              "</table>\n",
              "<p>2234 rows × 7 columns</p>\n",
              "</div>"
            ],
            "text/plain": [
              "                                             Store_Name  ...          Neighborhood\n",
              "0            Lanchonete Choperia Bilu Bilu Ltda - Me \",  ...       Itaim Paulista\"\n",
              "1                                Choperia Takeu Ltda \",  ...            Liberdade\"\n",
              "2                                Cervejaria Nacional \",  ...                     \"\n",
              "3                 Toca do Nego Veio Bar & Cervejaria \",  ...                     \"\n",
              "4              Restaurante Choperia Tche Gaúcho Ltda \",  ...         Guarapiranga\"\n",
              "...                                                 ...  ...                   ...\n",
              "2229        Shop Car Moraes Serviços Automotivos S/c \",  ...                     \"\n",
              "2230                     Qg Auto Shop - Jd Peri Peri \",  ...                     \"\n",
              "2231  Universal Distribuidora de Maçanetas e Ferrage...  ...                     \"\n",
              "2232                             Triplicar Auto Shop \",  ...   Bro Vl Constanca  \"\n",
              "2233                                   W W Auto Shop \",  ...                     \"\n",
              "\n",
              "[2234 rows x 7 columns]"
            ]
          },
          "metadata": {
            "tags": []
          },
          "execution_count": 20
        }
      ]
    },
    {
      "cell_type": "code",
      "metadata": {
        "id": "gFf3GBgGYUPR",
        "colab": {
          "base_uri": "https://localhost:8080/",
          "height": 418
        },
        "outputId": "032993f0-39b3-46b6-940d-5a957e1a6605"
      },
      "source": [
        "# Polishing data\n",
        "\n",
        "df['Store_Name'] = df.Store_Name.replace('\",', '', regex = True)\n",
        "\n",
        "df['Locality'] = df.Locality.replace('\",', '', regex = True)\n",
        "\n",
        "df['Postal_Code'] = df.Postal_Code.replace('\",', '', regex = True)\n",
        "\n",
        "df['Street_Address'] = df.Street_Address.replace('\"', '', regex = True)\n",
        "\n",
        "df['Neighborhood'] = df.Neighborhood.replace('\"', '', regex = True)\n",
        "\n",
        "df"
      ],
      "execution_count": null,
      "outputs": [
        {
          "output_type": "execute_result",
          "data": {
            "text/html": [
              "<div>\n",
              "<style scoped>\n",
              "    .dataframe tbody tr th:only-of-type {\n",
              "        vertical-align: middle;\n",
              "    }\n",
              "\n",
              "    .dataframe tbody tr th {\n",
              "        vertical-align: top;\n",
              "    }\n",
              "\n",
              "    .dataframe thead th {\n",
              "        text-align: right;\n",
              "    }\n",
              "</style>\n",
              "<table border=\"1\" class=\"dataframe\">\n",
              "  <thead>\n",
              "    <tr style=\"text-align: right;\">\n",
              "      <th></th>\n",
              "      <th>Store_Name</th>\n",
              "      <th>Locality</th>\n",
              "      <th>Postal_Code</th>\n",
              "      <th>Street_Address</th>\n",
              "      <th>Street_Name</th>\n",
              "      <th>Number</th>\n",
              "      <th>Neighborhood</th>\n",
              "    </tr>\n",
              "  </thead>\n",
              "  <tbody>\n",
              "    <tr>\n",
              "      <th>0</th>\n",
              "      <td>Lanchonete Choperia Bilu Bilu Ltda - Me</td>\n",
              "      <td>São Paulo</td>\n",
              "      <td>08140-000</td>\n",
              "      <td>Rua Tibúrcio Sousa, 148,  Itaim Paulista</td>\n",
              "      <td>Rua Tibúrcio Sousa</td>\n",
              "      <td>148</td>\n",
              "      <td>Itaim Paulista</td>\n",
              "    </tr>\n",
              "    <tr>\n",
              "      <th>1</th>\n",
              "      <td>Choperia Takeu Ltda</td>\n",
              "      <td>São Paulo</td>\n",
              "      <td>01510-001</td>\n",
              "      <td>Rua Glória, 523,  Liberdade</td>\n",
              "      <td>Rua Glória</td>\n",
              "      <td>523</td>\n",
              "      <td>Liberdade</td>\n",
              "    </tr>\n",
              "    <tr>\n",
              "      <th>2</th>\n",
              "      <td>Cervejaria Nacional</td>\n",
              "      <td>São Paulo</td>\n",
              "      <td>54200-01</td>\n",
              "      <td>Avenida Pedroso Morais, 604,</td>\n",
              "      <td>Avenida Pedroso Morais</td>\n",
              "      <td>604</td>\n",
              "      <td></td>\n",
              "    </tr>\n",
              "    <tr>\n",
              "      <th>3</th>\n",
              "      <td>Toca do Nego Veio Bar &amp; Cervejaria</td>\n",
              "      <td>São Paulo</td>\n",
              "      <td>53520-50</td>\n",
              "      <td>Rua Doutor Teodoro Quartim Barbosa, 114,</td>\n",
              "      <td>Rua Doutor Teodoro Quartim Barbosa</td>\n",
              "      <td>114</td>\n",
              "      <td></td>\n",
              "    </tr>\n",
              "    <tr>\n",
              "      <th>4</th>\n",
              "      <td>Restaurante Choperia Tche Gaúcho Ltda</td>\n",
              "      <td>São Paulo</td>\n",
              "      <td></td>\n",
              "      <td>Estrada Guarapiranga, 884,  Guarapiranga</td>\n",
              "      <td>Estrada Guarapiranga</td>\n",
              "      <td>884</td>\n",
              "      <td>Guarapiranga</td>\n",
              "    </tr>\n",
              "    <tr>\n",
              "      <th>...</th>\n",
              "      <td>...</td>\n",
              "      <td>...</td>\n",
              "      <td>...</td>\n",
              "      <td>...</td>\n",
              "      <td>...</td>\n",
              "      <td>...</td>\n",
              "      <td>...</td>\n",
              "    </tr>\n",
              "    <tr>\n",
              "      <th>2229</th>\n",
              "      <td>Shop Car Moraes Serviços Automotivos S/c</td>\n",
              "      <td>São Paulo</td>\n",
              "      <td></td>\n",
              "      <td>Rua Odovalho Jr, 475,</td>\n",
              "      <td>Rua Odovalho Jr</td>\n",
              "      <td>475</td>\n",
              "      <td></td>\n",
              "    </tr>\n",
              "    <tr>\n",
              "      <th>2230</th>\n",
              "      <td>Qg Auto Shop - Jd Peri Peri</td>\n",
              "      <td>São Paulo</td>\n",
              "      <td></td>\n",
              "      <td>Rua Salvado Isoleu, 85,</td>\n",
              "      <td>Rua Salvado Isoleu</td>\n",
              "      <td>85</td>\n",
              "      <td></td>\n",
              "    </tr>\n",
              "    <tr>\n",
              "      <th>2231</th>\n",
              "      <td>Universal Distribuidora de Maçanetas e Ferrage...</td>\n",
              "      <td>São Paulo</td>\n",
              "      <td></td>\n",
              "      <td>Rua Belamino José Costa, 19,</td>\n",
              "      <td>Rua Belamino José Costa</td>\n",
              "      <td>19</td>\n",
              "      <td></td>\n",
              "    </tr>\n",
              "    <tr>\n",
              "      <th>2232</th>\n",
              "      <td>Triplicar Auto Shop</td>\n",
              "      <td>São Paulo</td>\n",
              "      <td></td>\n",
              "      <td>Av Guapira, 1650, Bro Vl Constanca</td>\n",
              "      <td>Av Guapira</td>\n",
              "      <td>1650</td>\n",
              "      <td>Bro Vl Constanca</td>\n",
              "    </tr>\n",
              "    <tr>\n",
              "      <th>2233</th>\n",
              "      <td>W W Auto Shop</td>\n",
              "      <td>São Paulo</td>\n",
              "      <td>21250-00</td>\n",
              "      <td>Rua Mere Amedea, 90,</td>\n",
              "      <td>Rua Mere Amedea</td>\n",
              "      <td>90</td>\n",
              "      <td></td>\n",
              "    </tr>\n",
              "  </tbody>\n",
              "</table>\n",
              "<p>2234 rows × 7 columns</p>\n",
              "</div>"
            ],
            "text/plain": [
              "                                             Store_Name  ...         Neighborhood\n",
              "0              Lanchonete Choperia Bilu Bilu Ltda - Me   ...       Itaim Paulista\n",
              "1                                  Choperia Takeu Ltda   ...            Liberdade\n",
              "2                                  Cervejaria Nacional   ...                     \n",
              "3                   Toca do Nego Veio Bar & Cervejaria   ...                     \n",
              "4                Restaurante Choperia Tche Gaúcho Ltda   ...         Guarapiranga\n",
              "...                                                 ...  ...                  ...\n",
              "2229          Shop Car Moraes Serviços Automotivos S/c   ...                     \n",
              "2230                       Qg Auto Shop - Jd Peri Peri   ...                     \n",
              "2231  Universal Distribuidora de Maçanetas e Ferrage...  ...                     \n",
              "2232                               Triplicar Auto Shop   ...   Bro Vl Constanca  \n",
              "2233                                     W W Auto Shop   ...                     \n",
              "\n",
              "[2234 rows x 7 columns]"
            ]
          },
          "metadata": {
            "tags": []
          },
          "execution_count": 21
        }
      ]
    },
    {
      "cell_type": "markdown",
      "metadata": {
        "id": "t3ivVsUf1Myf"
      },
      "source": [
        "## SELECTING THE STORES"
      ]
    },
    {
      "cell_type": "markdown",
      "metadata": {
        "id": "8uQFyIx-KK5t"
      },
      "source": [
        "### Ranking the Selected Stores"
      ]
    },
    {
      "cell_type": "code",
      "metadata": {
        "id": "GUoxmiIwtKmb"
      },
      "source": [
        "def browse(urll,text,i):\n",
        "\n",
        "  import requests\n",
        "  import bs4\n",
        "  \n",
        "  # Fetch the URL data using requests.get(url),\n",
        "  #url = 'https://google.com/search?q=' + text\n",
        "  #url = 'https://br.search.yahoo.com/search?p=' + text\n",
        "\n",
        "  url = urll+text\n",
        "\n",
        "  # Fetch the URL data using requests.get(url),\n",
        "  # store it in a variable, request_result.\n",
        "  request_result=requests.get( url )\n",
        "  sleep(randint(0,2))\n",
        "  \n",
        "  # Creating soup from the fetched request\n",
        "  soup = bs4.BeautifulSoup(request_result.text,\n",
        "                         \"html.parser\")\n",
        "  \n",
        "  if i/250==int(i/250):\n",
        "    sleep(randint(5*60,8*60))\n",
        "\n",
        "  return soup\n"
      ],
      "execution_count": null,
      "outputs": []
    },
    {
      "cell_type": "code",
      "metadata": {
        "id": "EiDQ0f573Vh_"
      },
      "source": [
        "def minhash(input_question, compare_question):\n",
        "    score = 0.0\n",
        "\n",
        "    # calculate the jaccard distance\n",
        "    shingles = lambda s: set(s[i:i+3] for i in range(len(s)-2))\n",
        "    jaccard_distance = lambda seta, setb: len(seta & setb)/float(len(seta | setb))\n",
        "    try:\n",
        "        score = jaccard_distance(shingles(input_question), shingles(compare_question))\n",
        "    except ZeroDivisionError:\n",
        "        print('ZeroDivisionError')\n",
        "\n",
        "    return score"
      ],
      "execution_count": null,
      "outputs": []
    },
    {
      "cell_type": "code",
      "metadata": {
        "id": "hN_zljY94ffp",
        "colab": {
          "base_uri": "https://localhost:8080/"
        },
        "outputId": "e72f2f8b-f734-4df8-e04f-0415ad8a360b"
      },
      "source": [
        "# Pre-filter - excluding the stores not directly related to the brewery segment\n",
        "\n",
        "# Remove not valide rows\n",
        "\n",
        "exclude_KW = [\"pet \",\n",
        "              \"sex \",\n",
        "              \"posto \",\n",
        "              \"shop \",\n",
        "              \"pet-shop\",\n",
        "              \"distribuidora\",\n",
        "              \"sindicato\",\n",
        "              \"secção\",\n",
        "              \"indústria\",\n",
        "              \"especializado\",\n",
        "              \"especializada\",\n",
        "              \"lava\"\n",
        "              ]\n",
        "\n",
        "ini=df.shape[0]\n",
        "\n",
        "for k in tqdm(range(0,len(exclude_KW))):\n",
        "\n",
        "  for i in range(0,df.shape[0]):\n",
        "    proc=str(df['Store_Name'].loc[i:i]).lower()\n",
        "\n",
        "    if proc.find(exclude_KW[k]) != -1:\n",
        "      df['Store_Name'].loc[i:i]=\"deletar\"\n",
        "\n",
        "df.drop(df[df['Store_Name'] == \"deletar\"].index, inplace = True)\n",
        "df.reset_index(inplace=True, drop=True)\n",
        "\n",
        "fin=df.shape[0]\n",
        "\n",
        "print(f\"Percentual de redução de {(1-fin/ini)*100} %\")"
      ],
      "execution_count": null,
      "outputs": [
        {
          "output_type": "stream",
          "text": [
            "100%|██████████| 12/12 [00:12<00:00,  1.01s/it]"
          ],
          "name": "stderr"
        },
        {
          "output_type": "stream",
          "text": [
            "Percentual de redução de 70.68039391226499 %\n"
          ],
          "name": "stdout"
        },
        {
          "output_type": "stream",
          "text": [
            "\n"
          ],
          "name": "stderr"
        }
      ]
    },
    {
      "cell_type": "code",
      "metadata": {
        "id": "Yyp86qb4w6XU",
        "colab": {
          "base_uri": "https://localhost:8080/",
          "height": 944
        },
        "outputId": "7f52c1ad-1037-4ed5-9349-172d3c99216c"
      },
      "source": [
        "key_words = 'cerveja beer artesanal cervejaria'\n",
        "text=\"\"\n",
        "minhash_l=[]\n",
        "count_f=[]\n",
        "score_f=[]\n",
        "\n",
        "opt_keyw    = [\"cerveja\",\"cervejaria\",\"boas cervejas\"]\n",
        "opt_nam_col = [\"geral_1\",\"geral_2\",\"espec_1\"]\n",
        "\n",
        "urll = 'https://br.search.yahoo.com/search?p='\n",
        "\n",
        "k=0\n",
        "while k<3:\n",
        "\n",
        "  for j in tqdm(range(df.shape[0])):\n",
        "\n",
        "    #print(opt_nam_col[k])\n",
        "\n",
        "    score_l_médio=0\n",
        "    score_l=[]\n",
        "    count=0\n",
        "\n",
        "    key_word=opt_keyw[k]\n",
        "\n",
        "    text = '\"' + str(df[\"Store_Name\"].loc[j:j]) + \" \" + str(df[\"Locality\"].loc[j:j]) + \" \" + key_word + '\"'\n",
        "    soup = browse(urll,text,j)\n",
        "  \n",
        "    # soup.find.all( h3 ) to grab \n",
        "    heading_object=soup.find_all( 'h3' )\n",
        "  \n",
        "    # take all h3 \n",
        "    results=[]\n",
        "    for info in heading_object:\n",
        "      results.append(info.getText())\n",
        "\n",
        "    # number of citations\n",
        "    count = len(results)\n",
        "    count_f.append(count)\n",
        "\n",
        "    #score of similarity \n",
        "    for l in range(1, len(results)):\n",
        "      score_t=minhash(results[l] , key_words)\n",
        "      score_l.append(score_t)\n",
        "\n",
        "      if len(score_l)==0:\n",
        "        score_l_médio=0\n",
        "      else:\n",
        "        score_l_médio = sum(score_l)/len(score_l)\n",
        "  \n",
        "    score_f.append(score_l_médio)\n",
        "\n",
        "    if j/250 == int(j/250):\n",
        "      print(score_f)\n",
        "  \n",
        "  name_1 = \"Num_oc_\" + opt_nam_col[k]\n",
        "  name_2 = \"Sscore_\" + opt_nam_col[k]\n",
        "\n",
        "\n",
        "  df[name_1] = count_f\n",
        "  df[name_2] = score_f\n",
        "\n",
        "  count_f=[]\n",
        "  score_f=[]\n",
        "\n",
        "  k=k+1\n",
        "\n",
        "  df.to_excel('Cervejarias em Sampa.xlsx')\n",
        "\n",
        "  #files.download('Cervejarias em Sampa.xlsx')\n",
        "\n",
        "df"
      ],
      "execution_count": null,
      "outputs": [
        {
          "output_type": "stream",
          "text": [
            "  0%|          | 1/655 [06:08<66:56:38, 368.50s/it]"
          ],
          "name": "stderr"
        },
        {
          "output_type": "stream",
          "text": [
            "[0]\n"
          ],
          "name": "stdout"
        },
        {
          "output_type": "stream",
          "text": [
            " 38%|███▊      | 251/655 [18:21<12:42:48, 113.29s/it]"
          ],
          "name": "stderr"
        },
        {
          "output_type": "stream",
          "text": [
            "[0, 0, 0, 0.008208732075134633, 0.006073677425752392, 0.006024096385542169, 0.0030120481927710845, 0.022972417717902118, 0.003904850169910411, 0.08835147171494369, 0.013559531205224263, 0.00550654008722836, 0.0030780322777438853, 0.009791944527461939, 0, 0.008611727167513305, 0, 0.0060265745197252045, 0.0030780322777438853, 0, 0.006196535396247004, 0.004844506954211595, 0, 0.0024096385542168677, 0.0029239766081871343, 0.061224489795918366, 0.01227409638554217, 0.0030902832107651385, 0.010906111534394572, 0, 0.003289473684210526, 0.00560135277953921, 0.012196935891715008, 0.006973094892022062, 0.007802243704499343, 0.004201014584654407, 0.15714285714285714, 0.006355947295142672, 0.005102294575978787, 0.007134621700186966, 0, 0.008050103514875364, 0.006196535396247004, 0.0030780322777438853, 0.006712913345934254, 0.005399287954164997, 0.010906111534394572, 0.006301521876981611, 0.013310927087303512, 0.004819277108433735, 0.04538253657627434, 0.010906111534394572, 0.010906111534394572, 0.018221032277257177, 0.009067791280146719, 0, 0.004049118283834929, 0.004819277108433735, 0.02930907302680108, 0.00872094547444831, 0.012196935891715008, 0.00872094547444831, 0.006024096385542169, 0.01218869647686958, 0.0034423407917383822, 0.0030120481927710845, 0.061224489795918366, 0.008345930964978583, 0.023333872210781467, 0, 0.006533754815018125, 0.004016064257028113, 0.0164948086390636, 0, 0.0076017758267494535, 0.014432957559180651, 0, 0.00872094547444831, 0.006196535396247004, 0.006196535396247004, 0.006196535396247004, 0.011814954162260785, 0, 0.007323178195564641, 0.008050103514875364, 0.0, 0.00700749307884863, 0.008556143608323047, 0.0030780322777438853, 0.011504273294585227, 0, 0.012048192771084338, 0.00872094547444831, 0.0030902832107651385, 0.04081632653061224, 0.00914806473588699, 0.061224489795918366, 0, 0.012196935891715008, 0.01311968525115658, 0.009067791280146719, 0.005322040039858683, 0.004120377614353517, 0.007732868635124275, 0, 0.012635795098981176, 0.01575838959553384, 0.012957393585676621, 0.010942534908700322, 0.009110516138628589, 0.009726697696622509, 0.006301521876981611, 0.006397016637980493, 0.0020242914979757085, 0.009791944527461939, 0, 0.0030780322777438853, 0, 0.010906111534394572, 0.005477065538985044, 0, 0.0030780322777438853, 0.017210748389962244, 0, 0.005185513837280239, 0, 0.009089899817300507, 0, 0.0011507479861910242, 0.007979870440238226, 0, 0.0, 0.008895076209630596, 0.0028073430329069427, 0.0030232924969767075, 0.0030780322777438853, 0, 0.018305504019789733, 0.007970072569576516, 0.0016233766233766235, 0.006196535396247004, 0.0020242914979757085, 0.011510373380997379, 0, 0.00366994116994117, 0.007323178195564641, 0.004975124378109453, 0.005822014223127237, 0.006196535396247004, 0.006196535396247004, 0, 0.003246753246753247, 0.0030232924969767075, 0.006682471945629841, 0.011814954162260785, 0.004199446186572775, 0.008878794433628956, 0, 0.0030780322777438853, 0.0030780322777438853, 0, 0.0024659742969602126, 0.0, 0.00619979171673476, 0.006802721088435374, 0.025914838490043036, 0.009726697696622509, 0.0030232924969767075, 0.0, 0.0022331469699890753, 0.0030780322777438853, 0.0009615384615384616, 0.008703950691077279, 0.007123422794759909, 0.009621971706120435, 0.009353884479673278, 0.019162767850043103, 0.00872094547444831, 0.006196535396247004, 0.0030780322777438853, 0.013040042149631191, 0.0030780322777438853, 0, 0.011814954162260785, 0.010906111534394572, 0.006977047470005216, 0.006196535396247004, 0.006196535396247004, 0.0030104847918613095, 0.006196535396247004, 0.02584880849377708, 0.009852370754626395, 0.009963452229832467, 0.008050103514875364, 0, 0.0, 0.0, 0.0030232924969767075, 0.0050070411516194655, 0.0009861932938856016, 0.01067340165084526, 0.00734464102196457, 0.007323178195564641, 0.007058977319767316, 0.006779896334690855, 0.0, 0.0, 0, 0, 0.005651533839099698, 0.0014814814814814816, 0.002666666666666667, 0.0, 0.0, 0.0034027017159547284, 0.0032445032445032446, 0.0037593984962406013, 0.0037593984962406013, 0.02463400900900901, 0.0016666666666666668, 0.005041217501585289, 0, 0.004971831494309207, 0.004777305215901707, 0.0020824246176358854, 0.0, 0.001201923076923077, 0.001180637544273908, 0.0, 0.0, 0.007590924257590924, 0.004120377614353517, 0.0012987012987012987, 0.007958207206327507, 0.007323178195564641, 0.00872094547444831, 0.00789761583751891, 0, 0.0030780322777438853, 0.001053740779768177, 0, 0.00872094547444831, 0.004272954074684428, 0.006196535396247004, 0.006209358202653847, 0.004016064257028113, 0, 0.0018552875695732839, 0.001053740779768177, 0.0, 0.00700749307884863]\n"
          ],
          "name": "stdout"
        },
        {
          "output_type": "stream",
          "text": [
            " 76%|███████▋  | 501/655 [31:09<5:30:01, 128.58s/it]"
          ],
          "name": "stderr"
        },
        {
          "output_type": "stream",
          "text": [
            "[0, 0, 0, 0.008208732075134633, 0.006073677425752392, 0.006024096385542169, 0.0030120481927710845, 0.022972417717902118, 0.003904850169910411, 0.08835147171494369, 0.013559531205224263, 0.00550654008722836, 0.0030780322777438853, 0.009791944527461939, 0, 0.008611727167513305, 0, 0.0060265745197252045, 0.0030780322777438853, 0, 0.006196535396247004, 0.004844506954211595, 0, 0.0024096385542168677, 0.0029239766081871343, 0.061224489795918366, 0.01227409638554217, 0.0030902832107651385, 0.010906111534394572, 0, 0.003289473684210526, 0.00560135277953921, 0.012196935891715008, 0.006973094892022062, 0.007802243704499343, 0.004201014584654407, 0.15714285714285714, 0.006355947295142672, 0.005102294575978787, 0.007134621700186966, 0, 0.008050103514875364, 0.006196535396247004, 0.0030780322777438853, 0.006712913345934254, 0.005399287954164997, 0.010906111534394572, 0.006301521876981611, 0.013310927087303512, 0.004819277108433735, 0.04538253657627434, 0.010906111534394572, 0.010906111534394572, 0.018221032277257177, 0.009067791280146719, 0, 0.004049118283834929, 0.004819277108433735, 0.02930907302680108, 0.00872094547444831, 0.012196935891715008, 0.00872094547444831, 0.006024096385542169, 0.01218869647686958, 0.0034423407917383822, 0.0030120481927710845, 0.061224489795918366, 0.008345930964978583, 0.023333872210781467, 0, 0.006533754815018125, 0.004016064257028113, 0.0164948086390636, 0, 0.0076017758267494535, 0.014432957559180651, 0, 0.00872094547444831, 0.006196535396247004, 0.006196535396247004, 0.006196535396247004, 0.011814954162260785, 0, 0.007323178195564641, 0.008050103514875364, 0.0, 0.00700749307884863, 0.008556143608323047, 0.0030780322777438853, 0.011504273294585227, 0, 0.012048192771084338, 0.00872094547444831, 0.0030902832107651385, 0.04081632653061224, 0.00914806473588699, 0.061224489795918366, 0, 0.012196935891715008, 0.01311968525115658, 0.009067791280146719, 0.005322040039858683, 0.004120377614353517, 0.007732868635124275, 0, 0.012635795098981176, 0.01575838959553384, 0.012957393585676621, 0.010942534908700322, 0.009110516138628589, 0.009726697696622509, 0.006301521876981611, 0.006397016637980493, 0.0020242914979757085, 0.009791944527461939, 0, 0.0030780322777438853, 0, 0.010906111534394572, 0.005477065538985044, 0, 0.0030780322777438853, 0.017210748389962244, 0, 0.005185513837280239, 0, 0.009089899817300507, 0, 0.0011507479861910242, 0.007979870440238226, 0, 0.0, 0.008895076209630596, 0.0028073430329069427, 0.0030232924969767075, 0.0030780322777438853, 0, 0.018305504019789733, 0.007970072569576516, 0.0016233766233766235, 0.006196535396247004, 0.0020242914979757085, 0.011510373380997379, 0, 0.00366994116994117, 0.007323178195564641, 0.004975124378109453, 0.005822014223127237, 0.006196535396247004, 0.006196535396247004, 0, 0.003246753246753247, 0.0030232924969767075, 0.006682471945629841, 0.011814954162260785, 0.004199446186572775, 0.008878794433628956, 0, 0.0030780322777438853, 0.0030780322777438853, 0, 0.0024659742969602126, 0.0, 0.00619979171673476, 0.006802721088435374, 0.025914838490043036, 0.009726697696622509, 0.0030232924969767075, 0.0, 0.0022331469699890753, 0.0030780322777438853, 0.0009615384615384616, 0.008703950691077279, 0.007123422794759909, 0.009621971706120435, 0.009353884479673278, 0.019162767850043103, 0.00872094547444831, 0.006196535396247004, 0.0030780322777438853, 0.013040042149631191, 0.0030780322777438853, 0, 0.011814954162260785, 0.010906111534394572, 0.006977047470005216, 0.006196535396247004, 0.006196535396247004, 0.0030104847918613095, 0.006196535396247004, 0.02584880849377708, 0.009852370754626395, 0.009963452229832467, 0.008050103514875364, 0, 0.0, 0.0, 0.0030232924969767075, 0.0050070411516194655, 0.0009861932938856016, 0.01067340165084526, 0.00734464102196457, 0.007323178195564641, 0.007058977319767316, 0.006779896334690855, 0.0, 0.0, 0, 0, 0.005651533839099698, 0.0014814814814814816, 0.002666666666666667, 0.0, 0.0, 0.0034027017159547284, 0.0032445032445032446, 0.0037593984962406013, 0.0037593984962406013, 0.02463400900900901, 0.0016666666666666668, 0.005041217501585289, 0, 0.004971831494309207, 0.004777305215901707, 0.0020824246176358854, 0.0, 0.001201923076923077, 0.001180637544273908, 0.0, 0.0, 0.007590924257590924, 0.004120377614353517, 0.0012987012987012987, 0.007958207206327507, 0.007323178195564641, 0.00872094547444831, 0.00789761583751891, 0, 0.0030780322777438853, 0.001053740779768177, 0, 0.00872094547444831, 0.004272954074684428, 0.006196535396247004, 0.006209358202653847, 0.004016064257028113, 0, 0.0018552875695732839, 0.001053740779768177, 0.0, 0.00700749307884863, 0.006336170546031061, 0.0021929824561403508, 0.006196535396247004, 0.006756756756756757, 0.00867383572863025, 0.006578947368421052, 0.0, 0, 0.0030780322777438853, 0.006196535396247004, 0.010906111534394572, 0.008589172998682696, 0.005563379057354961, 0.0014285714285714286, 0.011989535153029456, 0.005693661656825908, 0, 0.006196535396247004, 0.010906111534394572, 0.006168435642119853, 0.008050103514875364, 0, 0.0034832529591956457, 0.008881820036418863, 0.005142794616478827, 0.010906111534394572, 0.005211744937772335, 0.0026773761713520753, 0.000784313725490196, 0, 0.0035419110567128237, 0.0, 0.007323178195564641, 0.010906111534394572, 0.010684974710339908, 0.010906111534394572, 0.0009737098344693282, 0, 0.006712913345934254, 0, 0.0, 0.007913844962139378, 0, 0.004819277108433735, 0.006196535396247004, 0.0, 0, 0, 0.006712913345934254, 0, 0.011814954162260785, 0.007250276176015181, 0.0062588014395243315, 0.0018552875695732839, 0.018221032277257177, 0.10874387195149086, 0.0, 0.007732868635124275, 0.000999000999000999, 0.007208681145234859, 0, 0.006712913345934254, 0.005691572451552037, 0.0, 0.007775632775632776, 0.00839100839100839, 0.007321141784011286, 0, 0.0, 0.007323178195564641, 0.002666666666666667, 0.0033333333333333335, 0.0, 0.0030780322777438853, 0.001984126984126984, 0.0030864197530864196, 0.004832683560753736, 0, 0.0030232924969767075, 0.0030232924969767075, 0.00560135277953921, 0.009621971706120435, 0.007323178195564641, 0, 0.007467467467467469, 0.005797101449275362, 0.007401206851756302, 0.0030780322777438853, 0.003629764065335753, 0.00872094547444831, 0.006196535396247004, 0.004172243898271296, 0.004172243898271296, 0.0029893683552220138, 0.0010040160642570282, 0.0030780322777438853, 0.0061549403654666815, 0.007323178195564641, 0.0030232924969767075, 0.0062588014395243315, 0.0030780322777438853, 0, 0, 0.0027432808155699725, 0.0009380863039399625, 0.002295995182174044, 0.009852370754626395, 0.001736111111111111, 0.0, 0.0, 0, 0.0037593984962406013, 0.006196535396247004, 0.0030232924969767075, 0.00479607328761464, 0.0077484529539324064, 0.0059171940841892855, 0.0, 0.003383458646616541, 0.010906111534394572, 0.006682471945629841, 0, 0.004172243898271296, 0.006666666666666667, 0, 0.011814954162260785, 0.006712913345934254, 0.010906111534394572, 0.0030232924969767075, 0.0030232924969767075, 0.024583272050907688, 0.005142794616478827, 0.0029239766081871343, 0, 0, 0, 0.006815845587922964, 0.0030780322777438853, 0.0016233766233766235, 0.0, 0.0, 0.01533903105944697, 0.006196535396247004, 0.010077220077220077, 0.00872094547444831, 0.00940120864932895, 0.002631578947368421, 0.0029980013324450365, 0.01075268817204301, 0, 0.0, 0.01503007844809609, 0.004272753877670472, 0, 0.001053740779768177, 0.008541291484435297, 0.0, 0.007164750957854406, 0.0020242914979757085, 0.0, 0.006196535396247004, 0.0009737098344693282, 0, 0, 0, 0.006196535396247004, 0, 0.0, 0.004195014256933762, 0.010684974710339908, 0.00228310502283105, 0.00872094547444831, 0.001053740779768177, 0.001053740779768177, 0.007773368675624314, 0, 0, 0.004456403429344374, 0.001564945226917058, 0.0, 0.0, 0, 0.0016233766233766235, 0.0030902832107651385, 0, 0.0010834236186348862, 0, 0.01020455386893743, 0.0030780322777438853, 0, 0, 0.002666666666666667, 0.0, 0, 0.003861003861003861, 0, 0.0, 0.004975124378109453, 0.0, 0.0, 0.0, 0.0, 0, 0.0020242914979757085, 0.003289473684210526, 0.010200580390211631, 0.0, 0.0031746031746031746, 0.0, 0.0, 0, 0.0, 0, 0.002471139971139971, 0.011989535153029456, 0.00872094547444831, 0.013219718325613304, 0.0164948086390636, 0.01071323305092825, 0.0, 0.0020242914979757085, 0, 0.000999000999000999, 0.0030780322777438853, 0, 0.0009737098344693282, 0.0030780322777438853, 0.0020242914979757085, 0.0028169014084507044, 0.004172243898271296, 0.006196535396247004, 0.008050103514875364, 0, 0.008050103514875364, 0.0046354248161477075, 0.0016233766233766235, 0.006196535396247004, 0.009348707137121067, 0.002973959114309991, 0.00560135277953921, 0.006196535396247004, 0.006196535396247004, 0.0030780322777438853, 0.006196535396247004, 0.0030232924969767075, 0, 0.0012987012987012987, 0.009089899817300505, 0.00326099339257234, 0]\n"
          ],
          "name": "stdout"
        },
        {
          "output_type": "stream",
          "text": [
            "100%|██████████| 655/655 [34:56<00:00,  3.20s/it]\n",
            "  0%|          | 1/655 [05:10<56:23:33, 310.42s/it]"
          ],
          "name": "stderr"
        },
        {
          "output_type": "stream",
          "text": [
            "[0]\n"
          ],
          "name": "stdout"
        },
        {
          "output_type": "stream",
          "text": [
            " 38%|███▊      | 251/655 [17:04<11:46:26, 104.92s/it]"
          ],
          "name": "stderr"
        },
        {
          "output_type": "stream",
          "text": [
            "[0, 0.00872094547444831, 0, 0.0068941153697251265, 0.018221032277257177, 0.006024096385542169, 0.0030120481927710845, 0.023333872210781467, 0.0020512820512820513, 0.030612244897959183, 0.013559531205224263, 0.00550654008722836, 0.0030780322777438853, 0.006996362735107186, 0.006745069754706523, 0.00560135277953921, 0, 0.00700749307884863, 0.0030780322777438853, 0.006712913345934254, 0.006779896334690855, 0, 0, 0.0030120481927710845, 0, 0.061224489795918366, 0.00914909638554217, 0.0030902832107651385, 0.007787608415891452, 0, 0.003289473684210526, 0.00560135277953921, 0.012196935891715008, 0.01533903105944697, 0, 0.004201014584654407, 0, 0.0062757854028198555, 0.005102294575978787, 0.007134621700186966, 0.0020242914979757085, 0.008050103514875364, 0.006196535396247004, 0.0030780322777438853, 0.006779896334690855, 0.005399287954164997, 0.010496696406676838, 0.006301521876981611, 0.010942534908700322, 0, 0.022881880024737167, 0, 0, 0.018221032277257177, 0.009067791280146719, 0.018305504019789733, 0, 0.004819277108433735, 0.02930907302680108, 0, 0.018221032277257177, 0.00872094547444831, 0.006024096385542169, 0.01218869647686958, 0.018961090262690106, 0, 0.061224489795918366, 0, 0.023333872210781467, 0, 0.006533754815018125, 0.006024096385542169, 0.0164948086390636, 0, 0.007577990088678002, 0.008452430679874287, 0.018451755801490215, 0.00872094547444831, 0.0077484529539324064, 0.006196535396247004, 0.009791944527461939, 0.011814954162260785, 0.007279959014881891, 0.007323178195564641, 0.008050103514875364, 0.008050103514875364, 0.00700749307884863, 0.007264911464623073, 0.0030780322777438853, 0.00872094547444831, 0.0030780322777438853, 0.012048192771084338, 0, 0.0030902832107651385, 0.04081632653061224, 0.00914806473588699, 0.061224489795918366, 0.010906111534394572, 0.012196935891715008, 0.013145792185158251, 0, 0.004819277108433735, 0.004120377614353517, 0.007732868635124275, 0.010246565240393093, 0.012196935891715008, 0.0157361579962782, 0.012957393585676621, 0.021527048435071916, 0, 0, 0.006301521876981611, 0.006397016637980493, 0.0, 0, 0.006779896334690855, 0.0030780322777438853, 0.008050103514875364, 0.0164948086390636, 0.005477065538985044, 0.012829295608160578, 0.0030780322777438853, 0.008050103514875364, 0.007323178195564641, 0.0030780322777438853, 0.010906111534394572, 0.009089899817300507, 0, 0.0011507479861910242, 0, 0.006196535396247004, 0.00390625, 0, 0.0030232924969767075, 0, 0.0030780322777438853, 0.008713647914964684, 0.018398744113029827, 0.013568144241351311, 0.0016233766233766235, 0, 0.0020242914979757085, 0, 0.0022372372372372377, 0.00366994116994117, 0.007323178195564641, 0, 0.001053740779768177, 0.006196535396247004, 0.006196535396247004, 0, 0, 0.004091668565352776, 0.006682471945629841, 0, 0.004199446186572775, 0.011178997798531709, 0.009702992383715275, 0.0030780322777438853, 0, 0.007323178195564641, 0.00472734608408024, 0.0, 0.0030780322777438853, 0.006802721088435374, 0.027610455104674646, 0.009726697696622509, 0, 0.0, 0.0022605022605022606, 0, 0.0009615384615384616, 0.0030232924969767075, 0, 0, 0.008050103514875364, 0.009852370754626395, 0.00872094547444831, 0.006196535396247004, 0.0030780322777438853, 0.008575936709242782, 0, 0.0030780322777438853, 0.011814954162260785, 0.010906111534394572, 0.006977047470005216, 0, 0.006196535396247004, 0.0030104847918613095, 0.006196535396247004, 0.010906111534394572, 0.009852370754626395, 0.00510204081632653, 0.008050103514875364, 0.0029858299595141697, 0.0, 0.0, 0.0030232924969767075, 0.0062588014395243315, 0.0009861932938856016, 0, 0.00734464102196457, 0.007323178195564641, 0, 0.006779896334690855, 0.0, 0.0008771929824561403, 0.0050608828006088276, 0.0, 0.0076758253370754065, 0, 0.002666666666666667, 0.0, 0.0, 0.0034027017159547284, 0.005242505242505242, 0.0037593984962406013, 0.0037593984962406013, 0.01875, 0, 0.005041217501585289, 0, 0, 0.0037593984962406013, 0.0, 0.0, 0.001201923076923077, 0, 0, 0.006712913345934254, 0.00578944328944329, 0.004120377614353517, 0, 0.007958207206327507, 0, 0.00872094547444831, 0.008042644263090324, 0, 0.0030780322777438853, 0.001053740779768177, 0.0, 0.008703950691077279, 0.004272954074684428, 0.006196535396247004, 0.006830294022919231, 0.004016064257028113, 0, 0.0018552875695732839, 0.004172243898271296, 0.0, 0.00700749307884863]\n"
          ],
          "name": "stdout"
        },
        {
          "output_type": "stream",
          "text": [
            " 76%|███████▋  | 501/655 [28:13<4:04:42, 95.34s/it]"
          ],
          "name": "stderr"
        },
        {
          "output_type": "stream",
          "text": [
            "[0, 0.00872094547444831, 0, 0.0068941153697251265, 0.018221032277257177, 0.006024096385542169, 0.0030120481927710845, 0.023333872210781467, 0.0020512820512820513, 0.030612244897959183, 0.013559531205224263, 0.00550654008722836, 0.0030780322777438853, 0.006996362735107186, 0.006745069754706523, 0.00560135277953921, 0, 0.00700749307884863, 0.0030780322777438853, 0.006712913345934254, 0.006779896334690855, 0, 0, 0.0030120481927710845, 0, 0.061224489795918366, 0.00914909638554217, 0.0030902832107651385, 0.007787608415891452, 0, 0.003289473684210526, 0.00560135277953921, 0.012196935891715008, 0.01533903105944697, 0, 0.004201014584654407, 0, 0.0062757854028198555, 0.005102294575978787, 0.007134621700186966, 0.0020242914979757085, 0.008050103514875364, 0.006196535396247004, 0.0030780322777438853, 0.006779896334690855, 0.005399287954164997, 0.010496696406676838, 0.006301521876981611, 0.010942534908700322, 0, 0.022881880024737167, 0, 0, 0.018221032277257177, 0.009067791280146719, 0.018305504019789733, 0, 0.004819277108433735, 0.02930907302680108, 0, 0.018221032277257177, 0.00872094547444831, 0.006024096385542169, 0.01218869647686958, 0.018961090262690106, 0, 0.061224489795918366, 0, 0.023333872210781467, 0, 0.006533754815018125, 0.006024096385542169, 0.0164948086390636, 0, 0.007577990088678002, 0.008452430679874287, 0.018451755801490215, 0.00872094547444831, 0.0077484529539324064, 0.006196535396247004, 0.009791944527461939, 0.011814954162260785, 0.007279959014881891, 0.007323178195564641, 0.008050103514875364, 0.008050103514875364, 0.00700749307884863, 0.007264911464623073, 0.0030780322777438853, 0.00872094547444831, 0.0030780322777438853, 0.012048192771084338, 0, 0.0030902832107651385, 0.04081632653061224, 0.00914806473588699, 0.061224489795918366, 0.010906111534394572, 0.012196935891715008, 0.013145792185158251, 0, 0.004819277108433735, 0.004120377614353517, 0.007732868635124275, 0.010246565240393093, 0.012196935891715008, 0.0157361579962782, 0.012957393585676621, 0.021527048435071916, 0, 0, 0.006301521876981611, 0.006397016637980493, 0.0, 0, 0.006779896334690855, 0.0030780322777438853, 0.008050103514875364, 0.0164948086390636, 0.005477065538985044, 0.012829295608160578, 0.0030780322777438853, 0.008050103514875364, 0.007323178195564641, 0.0030780322777438853, 0.010906111534394572, 0.009089899817300507, 0, 0.0011507479861910242, 0, 0.006196535396247004, 0.00390625, 0, 0.0030232924969767075, 0, 0.0030780322777438853, 0.008713647914964684, 0.018398744113029827, 0.013568144241351311, 0.0016233766233766235, 0, 0.0020242914979757085, 0, 0.0022372372372372377, 0.00366994116994117, 0.007323178195564641, 0, 0.001053740779768177, 0.006196535396247004, 0.006196535396247004, 0, 0, 0.004091668565352776, 0.006682471945629841, 0, 0.004199446186572775, 0.011178997798531709, 0.009702992383715275, 0.0030780322777438853, 0, 0.007323178195564641, 0.00472734608408024, 0.0, 0.0030780322777438853, 0.006802721088435374, 0.027610455104674646, 0.009726697696622509, 0, 0.0, 0.0022605022605022606, 0, 0.0009615384615384616, 0.0030232924969767075, 0, 0, 0.008050103514875364, 0.009852370754626395, 0.00872094547444831, 0.006196535396247004, 0.0030780322777438853, 0.008575936709242782, 0, 0.0030780322777438853, 0.011814954162260785, 0.010906111534394572, 0.006977047470005216, 0, 0.006196535396247004, 0.0030104847918613095, 0.006196535396247004, 0.010906111534394572, 0.009852370754626395, 0.00510204081632653, 0.008050103514875364, 0.0029858299595141697, 0.0, 0.0, 0.0030232924969767075, 0.0062588014395243315, 0.0009861932938856016, 0, 0.00734464102196457, 0.007323178195564641, 0, 0.006779896334690855, 0.0, 0.0008771929824561403, 0.0050608828006088276, 0.0, 0.0076758253370754065, 0, 0.002666666666666667, 0.0, 0.0, 0.0034027017159547284, 0.005242505242505242, 0.0037593984962406013, 0.0037593984962406013, 0.01875, 0, 0.005041217501585289, 0, 0, 0.0037593984962406013, 0.0, 0.0, 0.001201923076923077, 0, 0, 0.006712913345934254, 0.00578944328944329, 0.004120377614353517, 0, 0.007958207206327507, 0, 0.00872094547444831, 0.008042644263090324, 0, 0.0030780322777438853, 0.001053740779768177, 0.0, 0.008703950691077279, 0.004272954074684428, 0.006196535396247004, 0.006830294022919231, 0.004016064257028113, 0, 0.0018552875695732839, 0.004172243898271296, 0.0, 0.00700749307884863, 0.006336170546031061, 0.0021929824561403508, 0.006196535396247004, 0.003063792537476748, 0.004175985957362475, 0.006578947368421052, 0.0029239766081871343, 0.006326226569141549, 0.0030780322777438853, 0.006196535396247004, 0.010906111534394572, 0.008589172998682696, 0.005563379057354961, 0.003135687172916156, 0.011989535153029456, 0.005693661656825908, 0, 0.006196535396247004, 0.010906111534394572, 0.006734234234234235, 0.008050103514875364, 0.0, 0.0034832529591956457, 0.008881820036418863, 0.005142794616478827, 0, 0.005211744937772335, 0.004386777880753785, 0.0017944147355912063, 0.0020824246176358854, 0.0035419110567128237, 0.0, 0.007323178195564641, 0.010906111534394572, 0.010558261663850741, 0.010906111534394572, 0.006649846048580226, 0.008754027926960258, 0.009039861779587807, 0.004819277108433735, 0.0, 0.00790103725702398, 0.0, 0.004819277108433735, 0.00734464102196457, 0.0, 0.010906111534394572, 0, 0.006712913345934254, 0.0, 0.011814954162260785, 0.00970540011635902, 0.0062588014395243315, 0.0018552875695732839, 0.012196935891715008, 0.10874387195149086, 0.0, 0.007732868635124275, 0.000999000999000999, 0, 0.017539425319762974, 0.006712913345934254, 0, 0.0, 0.007813734787418997, 0.006831831831831832, 0.004833846758864783, 0.0009737098344693282, 0.0, 0, 0.0033333333333333335, 0.0033333333333333335, 0.0, 0.006779896334690855, 0.004181929181929182, 0.0030864197530864196, 0, 0.004049118283834929, 0.0030232924969767075, 0.0030232924969767075, 0.0026773761713520753, 0, 0.007323178195564641, 0.006172839506172839, 0.006977051678544216, 0.0, 0.007482517482517482, 0.0077484529539324064, 0.003629764065335753, 0.00872094547444831, 0.006196535396247004, 0.004172243898271296, 0, 0.0029893683552220138, 0.0010040160642570282, 0.0077484529539324064, 0.0061549403654666815, 0.007323178195564641, 0.013509510214332813, 0.010014082303238931, 0, 0.0030232924969767075, 0.0020242914979757085, 0.0015384615384615385, 0.0009380863039399625, 0.002295995182174044, 0.009852370754626395, 0.001736111111111111, 0.011322966802418857, 0, 0.006196535396247004, 0.0037593984962406013, 0.006196535396247004, 0.0030232924969767075, 0.00479607328761464, 0.006196535396247004, 0.008125562620969628, 0, 0.003383458646616541, 0.010906111534394572, 0.006682471945629841, 0.009039861779587807, 0.004172243898271296, 0.006666666666666667, 0.0, 0.011814954162260785, 0.006712913345934254, 0.010906111534394572, 0.0030232924969767075, 0.0030232924969767075, 0.01578414570538727, 0.005142794616478827, 0.0029239766081871343, 0.010906111534394572, 0.0029980013324450365, 0, 0.008528742467395534, 0, 0.0016233766233766235, 0, 0.0, 0.0030120481927710845, 0.006196535396247004, 0.002510822510822511, 0.00872094547444831, 0.00940120864932895, 0.002631578947368421, 0, 0, 0.006712913345934254, 0.0, 0.01503007844809609, 0.004272753877670472, 0.008116269163551532, 0.001053740779768177, 0.008541291484435297, 0, 0.007164750957854406, 0.005661483401209429, 0.0, 0.006196535396247004, 0.0009737098344693282, 0.006196535396247004, 0.0062588014395243315, 0.0, 0.006196535396247004, 0.016093358943018454, 0.0, 0.004195014256933762, 0, 0, 0.011190793745670788, 0, 0.001053740779768177, 0.007773368675624314, 0, 0.00970540011635902, 0.004456403429344374, 0.0011737089201877935, 0, 0.0, 0.0020080321285140565, 0, 0.004456403429344374, 0.0, 0.0, 0.012127630792014354, 0.007323178195564641, 0, 0, 0.0083667442142438, 0.002666666666666667, 0.0, 0.005081733317027435, 0.002702702702702703, 0, 0.0, 0, 0.0, 0.0, 0.0, 0.0020242914979757085, 0, 0.002079002079002079, 0.003289473684210526, 0.010191199947270583, 0.0, 0.003129890453834116, 0.0, 0.008928571428571428, 0.009678954884434337, 0, 0.0030232924969767075, 0.0010822510822510823, 0, 0.00872094547444831, 0.013219718325613304, 0.010906111534394572, 0.01071323305092825, 0.0, 0.0020242914979757085, 0.0077484529539324064, 0.006468661589143517, 0.0030780322777438853, 0, 0, 0.0030780322777438853, 0.0020242914979757085, 0.001141552511415525, 0.0060265745197252045, 0.006196535396247004, 0.008050103514875364, 0.0, 0.008050103514875364, 0.010014082303238931, 0.0016233766233766235, 0.006196535396247004, 0.0030780322777438853, 0.004122064740027557, 0.00560135277953921, 0.011190793745670788, 0.006196535396247004, 0, 0.006196535396247004, 0.0030232924969767075, 0.006196535396247004, 0.0013888888888888887, 0.009089899817300507, 0.003289473684210526, 0.008752502269138474]\n"
          ],
          "name": "stdout"
        },
        {
          "output_type": "stream",
          "text": [
            "100%|██████████| 655/655 [31:50<00:00,  2.92s/it]\n",
            "  0%|          | 1/655 [05:00<54:34:33, 300.42s/it]"
          ],
          "name": "stderr"
        },
        {
          "output_type": "stream",
          "text": [
            "[0]\n"
          ],
          "name": "stdout"
        },
        {
          "output_type": "stream",
          "text": [
            " 38%|███▊      | 251/655 [16:34<11:06:28, 98.98s/it]"
          ],
          "name": "stderr"
        },
        {
          "output_type": "stream",
          "text": [
            "[0, 0.00872094547444831, 0.010906111534394572, 0.008208732075134633, 0.018221032277257177, 0, 0, 0.022972417717902118, 0.003904850169910411, 0.030612244897959183, 0.006712913345934254, 0.010193871169480926, 0.005340475716657913, 0.006996362735107186, 0.006745069754706523, 0.00560135277953921, 0.0017123287671232876, 0.00700749307884863, 0.0030780322777438853, 0.006712913345934254, 0.006196535396247004, 0.005232745214833658, 0.006024096385542169, 0.0030120481927710845, 0, 0.061224489795918366, 0.00914909638554217, 0.0030902832107651385, 0.010906111534394572, 0, 0.003289473684210526, 0.00560135277953921, 0.012196935891715008, 0.006973094892022062, 0.007802243704499343, 0.004201014584654407, 0, 0.0063232687836365705, 0.005102294575978787, 0.008560483343511211, 0, 0.01041335240047899, 0.006196535396247004, 0.0030780322777438853, 0, 0, 0.010496696406676838, 0.006301521876981611, 0.010942534908700322, 0, 0.04538253657627434, 0.010906111534394572, 0.010906111534394572, 0.018221032277257177, 0.009067791280146719, 0.018305504019789733, 0.004049118283834929, 0.004819277108433735, 0.014220145889681174, 0.00872094547444831, 0, 0, 0, 0.01218869647686958, 0.0034423407917383822, 0.0030120481927710845, 0.061224489795918366, 0.008345930964978583, 0.022972417717902118, 0, 0.006533754815018125, 0, 0.010906111534394572, 0, 0.007510156687511267, 0, 0, 0.00652796301830796, 0, 0.0060265745197252045, 0.006196535396247004, 0.011814954162260785, 0.005255667516906182, 0.009039861779587807, 0, 0.008050103514875364, 0.00700749307884863, 0.006196535396247004, 0.0030780322777438853, 0, 0.0030780322777438853, 0, 0.00872094547444831, 0, 0.04081632653061224, 0.00954910625449296, 0.061224489795918366, 0.0164948086390636, 0.012196935891715008, 0.01317284846221453, 0.009067791280146719, 0.004819277108433735, 0.004120377614353517, 0.007732868635124275, 0.010246565240393093, 0.012196935891715008, 0.01575838959553384, 0, 0.010942534908700322, 0, 0.006802721088435374, 0.006301521876981611, 0.006397016637980493, 0.0020242914979757085, 0.00872094547444831, 0.00700749307884863, 0.0030780322777438853, 0.008050103514875364, 0.010906111534394572, 0.005477065538985044, 0.008754027926960258, 0.0030780322777438853, 0.008050103514875364, 0.007323178195564641, 0, 0.010906111534394572, 0.009089899817300507, 0.0, 0.0011507479861910242, 0.007979870440238226, 0.006196535396247004, 0.0, 0.0046354248161477075, 0.0030232924969767075, 0.0049308336979569855, 0.008133819437707432, 0.014252307262688642, 0.018398744113029827, 0.007970072569576516, 0.003246753246753247, 0.00722217642188803, 0.0020242914979757085, 0.011178997798531709, 0.0022372372372372377, 0.006047714381047714, 0.007323178195564641, 0, 0, 0.006196535396247004, 0, 0.0030232924969767075, 0.003246753246753247, 0.0030232924969767075, 0.006682471945629841, 0.011814954162260785, 0.004199446186572775, 0.011178997798531709, 0.000999000999000999, 0, 0.0030780322777438853, 0.007323178195564641, 0.0024659742969602126, 0, 0.0030780322777438853, 0, 0.026153746649787327, 0.018451755801490215, 0.0030232924969767075, 0.0, 0.0022605022605022606, 0.0030780322777438853, 0, 0.0030232924969767075, 0.007123422794759909, 0, 0.009353884479673278, 0.009852370754626395, 0.00872094547444831, 0.006196535396247004, 0, 0.008304016955783358, 0.0030780322777438853, 0.0030780322777438853, 0.011814954162260785, 0.010906111534394572, 0.006794131794131794, 0.006196535396247004, 0.006196535396247004, 0, 0.0077484529539324064, 0.010906111534394572, 0.009852370754626395, 0.007295023272466881, 0, 0.001899624765478424, 0.0, 0.0, 0.0030232924969767075, 0, 0.0009861932938856016, 0.011814954162260785, 0.00734464102196457, 0.007323178195564641, 0.00334132849002454, 0.006196535396247004, 0.0, 0.0, 0.006818462297914353, 0.0, 0.0076758253370754065, 0.0033333333333333335, 0.002666666666666667, 0.0, 0.0, 0.0034027017159547284, 0.0032445032445032446, 0.003861003861003861, 0.01358756016290263, 0, 0.0016666666666666668, 0.011190793745670788, 0.0037593984962406013, 0.003825522569407109, 0.0037593984962406013, 0.0020824246176358854, 0.0, 0.001201923076923077, 0.001180637544273908, 0.0, 0.006712913345934254, 0.007813734787418997, 0.004120377614353517, 0.0012987012987012987, 0.007958207206327507, 0.007323178195564641, 0, 0.00691142254363331, 0, 0.0030780322777438853, 0.001053740779768177, 0.0, 0, 0.004272954074684428, 0.006196535396247004, 0.006209358202653847, 0.006024096385542169, 0, 0.0018552875695732839, 0.001053740779768177, 0.0, 0.00700749307884863]\n"
          ],
          "name": "stdout"
        },
        {
          "output_type": "stream",
          "text": [
            " 76%|███████▋  | 501/655 [28:39<4:49:39, 112.85s/it]"
          ],
          "name": "stderr"
        },
        {
          "output_type": "stream",
          "text": [
            "[0, 0.00872094547444831, 0.010906111534394572, 0.008208732075134633, 0.018221032277257177, 0, 0, 0.022972417717902118, 0.003904850169910411, 0.030612244897959183, 0.006712913345934254, 0.010193871169480926, 0.005340475716657913, 0.006996362735107186, 0.006745069754706523, 0.00560135277953921, 0.0017123287671232876, 0.00700749307884863, 0.0030780322777438853, 0.006712913345934254, 0.006196535396247004, 0.005232745214833658, 0.006024096385542169, 0.0030120481927710845, 0, 0.061224489795918366, 0.00914909638554217, 0.0030902832107651385, 0.010906111534394572, 0, 0.003289473684210526, 0.00560135277953921, 0.012196935891715008, 0.006973094892022062, 0.007802243704499343, 0.004201014584654407, 0, 0.0063232687836365705, 0.005102294575978787, 0.008560483343511211, 0, 0.01041335240047899, 0.006196535396247004, 0.0030780322777438853, 0, 0, 0.010496696406676838, 0.006301521876981611, 0.010942534908700322, 0, 0.04538253657627434, 0.010906111534394572, 0.010906111534394572, 0.018221032277257177, 0.009067791280146719, 0.018305504019789733, 0.004049118283834929, 0.004819277108433735, 0.014220145889681174, 0.00872094547444831, 0, 0, 0, 0.01218869647686958, 0.0034423407917383822, 0.0030120481927710845, 0.061224489795918366, 0.008345930964978583, 0.022972417717902118, 0, 0.006533754815018125, 0, 0.010906111534394572, 0, 0.007510156687511267, 0, 0, 0.00652796301830796, 0, 0.0060265745197252045, 0.006196535396247004, 0.011814954162260785, 0.005255667516906182, 0.009039861779587807, 0, 0.008050103514875364, 0.00700749307884863, 0.006196535396247004, 0.0030780322777438853, 0, 0.0030780322777438853, 0, 0.00872094547444831, 0, 0.04081632653061224, 0.00954910625449296, 0.061224489795918366, 0.0164948086390636, 0.012196935891715008, 0.01317284846221453, 0.009067791280146719, 0.004819277108433735, 0.004120377614353517, 0.007732868635124275, 0.010246565240393093, 0.012196935891715008, 0.01575838959553384, 0, 0.010942534908700322, 0, 0.006802721088435374, 0.006301521876981611, 0.006397016637980493, 0.0020242914979757085, 0.00872094547444831, 0.00700749307884863, 0.0030780322777438853, 0.008050103514875364, 0.010906111534394572, 0.005477065538985044, 0.008754027926960258, 0.0030780322777438853, 0.008050103514875364, 0.007323178195564641, 0, 0.010906111534394572, 0.009089899817300507, 0.0, 0.0011507479861910242, 0.007979870440238226, 0.006196535396247004, 0.0, 0.0046354248161477075, 0.0030232924969767075, 0.0049308336979569855, 0.008133819437707432, 0.014252307262688642, 0.018398744113029827, 0.007970072569576516, 0.003246753246753247, 0.00722217642188803, 0.0020242914979757085, 0.011178997798531709, 0.0022372372372372377, 0.006047714381047714, 0.007323178195564641, 0, 0, 0.006196535396247004, 0, 0.0030232924969767075, 0.003246753246753247, 0.0030232924969767075, 0.006682471945629841, 0.011814954162260785, 0.004199446186572775, 0.011178997798531709, 0.000999000999000999, 0, 0.0030780322777438853, 0.007323178195564641, 0.0024659742969602126, 0, 0.0030780322777438853, 0, 0.026153746649787327, 0.018451755801490215, 0.0030232924969767075, 0.0, 0.0022605022605022606, 0.0030780322777438853, 0, 0.0030232924969767075, 0.007123422794759909, 0, 0.009353884479673278, 0.009852370754626395, 0.00872094547444831, 0.006196535396247004, 0, 0.008304016955783358, 0.0030780322777438853, 0.0030780322777438853, 0.011814954162260785, 0.010906111534394572, 0.006794131794131794, 0.006196535396247004, 0.006196535396247004, 0, 0.0077484529539324064, 0.010906111534394572, 0.009852370754626395, 0.007295023272466881, 0, 0.001899624765478424, 0.0, 0.0, 0.0030232924969767075, 0, 0.0009861932938856016, 0.011814954162260785, 0.00734464102196457, 0.007323178195564641, 0.00334132849002454, 0.006196535396247004, 0.0, 0.0, 0.006818462297914353, 0.0, 0.0076758253370754065, 0.0033333333333333335, 0.002666666666666667, 0.0, 0.0, 0.0034027017159547284, 0.0032445032445032446, 0.003861003861003861, 0.01358756016290263, 0, 0.0016666666666666668, 0.011190793745670788, 0.0037593984962406013, 0.003825522569407109, 0.0037593984962406013, 0.0020824246176358854, 0.0, 0.001201923076923077, 0.001180637544273908, 0.0, 0.006712913345934254, 0.007813734787418997, 0.004120377614353517, 0.0012987012987012987, 0.007958207206327507, 0.007323178195564641, 0, 0.00691142254363331, 0, 0.0030780322777438853, 0.001053740779768177, 0.0, 0, 0.004272954074684428, 0.006196535396247004, 0.006209358202653847, 0.006024096385542169, 0, 0.0018552875695732839, 0.001053740779768177, 0.0, 0.00700749307884863, 0.006336170546031061, 0.0021929824561403508, 0, 0.003063792537476748, 0, 0.006578947368421052, 0.0029239766081871343, 0.006344717693401904, 0.0030780322777438853, 0.006196535396247004, 0.010906111534394572, 0, 0.005563379057354961, 0.0014285714285714286, 0.011989535153029456, 0.005693661656825908, 0.006196535396247004, 0, 0.010906111534394572, 0.006168435642119853, 0.008050103514875364, 0.0, 0.0034832529591956457, 0.008881820036418863, 0.007405238055392855, 0.010906111534394572, 0.005211744937772335, 0.004386777880753785, 0.0017944147355912063, 0.006792000755783452, 0.0035419110567128237, 0.0, 0.009039861779587807, 0.010906111534394572, 0, 0.010906111534394572, 0.0029980013324450365, 0.008754027926960258, 0, 0.004819277108433735, 0.0, 0, 0.0, 0.004819277108433735, 0.00734464102196457, 0.0, 0.010906111534394572, 0.009852370754626395, 0.006712913345934254, 0.0, 0, 0.007250276176015181, 0, 0.0018552875695732839, 0, 0.10349971188701336, 0.0, 0.007732868635124275, 0.002079002079002079, 0.007208681145234859, 0.017539425319762974, 0.006712913345934254, 0, 0, 0.007813734787418997, 0.006831831831831832, 0.007321141784011286, 0, 0.0, 0.007323178195564641, 0, 0.0033333333333333335, 0.0, 0, 0.009207921707921708, 0.0030864197530864196, 0.004832683560753736, 0.0052060092220734796, 0, 0.0030232924969767075, 0.00560135277953921, 0.011814954162260785, 0, 0, 0.006977051678544216, 0, 0.007468009350169743, 0.0030780322777438853, 0.0021929824561403508, 0.00872094547444831, 0.006196535396247004, 0.004172243898271296, 0.004172243898271296, 0.0029893683552220138, 0.0010040160642570282, 0.005374243529179017, 0, 0.009039861779587807, 0, 0, 0.0030780322777438853, 0.0030232924969767075, 0.0020242914979757085, 0.0015384615384615385, 0.0009380863039399625, 0.002295995182174044, 0.009852370754626395, 0.0, 0.0, 0.0, 0, 0.0037593984962406013, 0.003334534967555876, 0, 0.007710076203226888, 0.006196535396247004, 0.005765216436862626, 0.0, 0.0021929824561403508, 0.010906111534394572, 0.006682471945629841, 0.007323178195564641, 0.004172243898271296, 0.0033333333333333335, 0, 0.011814954162260785, 0.006712913345934254, 0.010906111534394572, 0.0030232924969767075, 0.007227735093822732, 0.027041599255998455, 0.005142794616478827, 0.0029239766081871343, 0, 0, 0, 0.005901129418969506, 0.0030780322777438853, 0.0016233766233766235, 0.0, 0.0, 0.0030120481927710845, 0.0077484529539324064, 0.010077220077220077, 0.00872094547444831, 0.00940120864932895, 0.002631578947368421, 0.0029980013324450365, 0.016129032258064516, 0.006712913345934254, 0.0, 0.01503007844809609, 0.002479186558788549, 0.008056999367439631, 0, 0.015006124264555273, 0.0, 0, 0.0020242914979757085, 0.0014084507042253522, 0.006196535396247004, 0, 0.006196535396247004, 0.0046354248161477075, 0.0, 0.006196535396247004, 0.011262441068622314, 0, 0.004195014256933762, 0.0117935026251191, 0.004244482173174873, 0.00872094547444831, 0.001053740779768177, 0.001053740779768177, 0.011546366047344521, 0.003289473684210526, 0.00970540011635902, 0.004456403429344374, 0.0011737089201877935, 0.0, 0.0, 0.015104688070524017, 0.0016233766233766235, 0.004456403429344374, 0.0, 0.0, 0.006712913345934254, 0.007323178195564641, 0.0030780322777438853, 0.006712913345934254, 0, 0.002666666666666667, 0.0, 0.0, 0.003861003861003861, 0.01533903105944697, 0.0, 0.004975124378109453, 0.0, 0.0, 0.0, 0.0, 0.006779896334690855, 0.0020242914979757085, 0.003289473684210526, 0.01034899087429228, 0, 0.003129890453834116, 0, 0.0, 0, 0.0, 0.0030232924969767075, 0.001180637544273908, 0.011989535153029456, 0, 0.013219718325613304, 0.010906111534394572, 0.01071323305092825, 0.0, 0.0020242914979757085, 0.006196535396247004, 0.0030232924969767075, 0.0030780322777438853, 0, 0, 0, 0.0020242914979757085, 0.001141552511415525, 0.004172243898271296, 0, 0.008050103514875364, 0.0, 0.009791944527461939, 0.0046354248161477075, 0, 0, 0.0030780322777438853, 0, 0.00560135277953921, 0.006196535396247004, 0, 0.0030780322777438853, 0, 0.000999000999000999, 0.006196535396247004, 0.006779896334690855, 0, 0, 0]\n"
          ],
          "name": "stdout"
        },
        {
          "output_type": "stream",
          "text": [
            "100%|██████████| 655/655 [31:17<00:00,  2.87s/it]\n"
          ],
          "name": "stderr"
        },
        {
          "output_type": "execute_result",
          "data": {
            "text/html": [
              "<div>\n",
              "<style scoped>\n",
              "    .dataframe tbody tr th:only-of-type {\n",
              "        vertical-align: middle;\n",
              "    }\n",
              "\n",
              "    .dataframe tbody tr th {\n",
              "        vertical-align: top;\n",
              "    }\n",
              "\n",
              "    .dataframe thead th {\n",
              "        text-align: right;\n",
              "    }\n",
              "</style>\n",
              "<table border=\"1\" class=\"dataframe\">\n",
              "  <thead>\n",
              "    <tr style=\"text-align: right;\">\n",
              "      <th></th>\n",
              "      <th>Store_Name</th>\n",
              "      <th>Locality</th>\n",
              "      <th>Postal_Code</th>\n",
              "      <th>Street_Address</th>\n",
              "      <th>Street_Name</th>\n",
              "      <th>Number</th>\n",
              "      <th>Neighborhood</th>\n",
              "      <th>Num_oc_geral_1</th>\n",
              "      <th>Sscore_geral_1</th>\n",
              "      <th>Num_oc_geral_2</th>\n",
              "      <th>Sscore_geral_2</th>\n",
              "      <th>Num_oc_espec_1</th>\n",
              "      <th>Sscore_espec_1</th>\n",
              "    </tr>\n",
              "  </thead>\n",
              "  <tbody>\n",
              "    <tr>\n",
              "      <th>0</th>\n",
              "      <td>Lanchonete Choperia Bilu Bilu Ltda - Me</td>\n",
              "      <td>São Paulo</td>\n",
              "      <td>08140-000</td>\n",
              "      <td>Rua Tibúrcio Sousa, 148,  Itaim Paulista</td>\n",
              "      <td>Rua Tibúrcio Sousa</td>\n",
              "      <td>148</td>\n",
              "      <td>Itaim Paulista</td>\n",
              "      <td>1</td>\n",
              "      <td>0.000000</td>\n",
              "      <td>0</td>\n",
              "      <td>0.000000</td>\n",
              "      <td>1</td>\n",
              "      <td>0.000000</td>\n",
              "    </tr>\n",
              "    <tr>\n",
              "      <th>1</th>\n",
              "      <td>Choperia Takeu Ltda</td>\n",
              "      <td>São Paulo</td>\n",
              "      <td>01510-001</td>\n",
              "      <td>Rua Glória, 523,  Liberdade</td>\n",
              "      <td>Rua Glória</td>\n",
              "      <td>523</td>\n",
              "      <td>Liberdade</td>\n",
              "      <td>0</td>\n",
              "      <td>0.000000</td>\n",
              "      <td>13</td>\n",
              "      <td>0.008721</td>\n",
              "      <td>13</td>\n",
              "      <td>0.008721</td>\n",
              "    </tr>\n",
              "    <tr>\n",
              "      <th>2</th>\n",
              "      <td>Cervejaria Nacional</td>\n",
              "      <td>São Paulo</td>\n",
              "      <td>54200-01</td>\n",
              "      <td>Avenida Pedroso Morais, 604,</td>\n",
              "      <td>Avenida Pedroso Morais</td>\n",
              "      <td>604</td>\n",
              "      <td></td>\n",
              "      <td>0</td>\n",
              "      <td>0.000000</td>\n",
              "      <td>0</td>\n",
              "      <td>0.000000</td>\n",
              "      <td>14</td>\n",
              "      <td>0.010906</td>\n",
              "    </tr>\n",
              "    <tr>\n",
              "      <th>3</th>\n",
              "      <td>Toca do Nego Veio Bar &amp; Cervejaria</td>\n",
              "      <td>São Paulo</td>\n",
              "      <td>53520-50</td>\n",
              "      <td>Rua Doutor Teodoro Quartim Barbosa, 114,</td>\n",
              "      <td>Rua Doutor Teodoro Quartim Barbosa</td>\n",
              "      <td>114</td>\n",
              "      <td></td>\n",
              "      <td>22</td>\n",
              "      <td>0.008209</td>\n",
              "      <td>11</td>\n",
              "      <td>0.006894</td>\n",
              "      <td>22</td>\n",
              "      <td>0.008209</td>\n",
              "    </tr>\n",
              "    <tr>\n",
              "      <th>4</th>\n",
              "      <td>Restaurante Choperia Tche Gaúcho Ltda</td>\n",
              "      <td>São Paulo</td>\n",
              "      <td></td>\n",
              "      <td>Estrada Guarapiranga, 884,  Guarapiranga</td>\n",
              "      <td>Estrada Guarapiranga</td>\n",
              "      <td>884</td>\n",
              "      <td>Guarapiranga</td>\n",
              "      <td>7</td>\n",
              "      <td>0.006074</td>\n",
              "      <td>3</td>\n",
              "      <td>0.018221</td>\n",
              "      <td>3</td>\n",
              "      <td>0.018221</td>\n",
              "    </tr>\n",
              "    <tr>\n",
              "      <th>...</th>\n",
              "      <td>...</td>\n",
              "      <td>...</td>\n",
              "      <td>...</td>\n",
              "      <td>...</td>\n",
              "      <td>...</td>\n",
              "      <td>...</td>\n",
              "      <td>...</td>\n",
              "      <td>...</td>\n",
              "      <td>...</td>\n",
              "      <td>...</td>\n",
              "      <td>...</td>\n",
              "      <td>...</td>\n",
              "      <td>...</td>\n",
              "    </tr>\n",
              "    <tr>\n",
              "      <th>650</th>\n",
              "      <td>Lisboa Chopp e Grill</td>\n",
              "      <td>São Paulo</td>\n",
              "      <td>33210-00</td>\n",
              "      <td>Rua Euclides Pacheco, 287,</td>\n",
              "      <td>Rua Euclides Pacheco</td>\n",
              "      <td>287</td>\n",
              "      <td></td>\n",
              "      <td>1</td>\n",
              "      <td>0.000000</td>\n",
              "      <td>14</td>\n",
              "      <td>0.002024</td>\n",
              "      <td>0</td>\n",
              "      <td>0.000000</td>\n",
              "    </tr>\n",
              "    <tr>\n",
              "      <th>651</th>\n",
              "      <td>Belgaria da Cerveja</td>\n",
              "      <td>São Paulo</td>\n",
              "      <td>03057-040</td>\n",
              "      <td>Largo S José Belém, 131,</td>\n",
              "      <td>Largo S José Belém</td>\n",
              "      <td>131</td>\n",
              "      <td></td>\n",
              "      <td>14</td>\n",
              "      <td>0.009852</td>\n",
              "      <td>14</td>\n",
              "      <td>0.009852</td>\n",
              "      <td>0</td>\n",
              "      <td>0.000000</td>\n",
              "    </tr>\n",
              "    <tr>\n",
              "      <th>652</th>\n",
              "      <td>Cervejaria Via North</td>\n",
              "      <td>São Paulo</td>\n",
              "      <td></td>\n",
              "      <td>Av Luiz Dumont Villares, 1607,</td>\n",
              "      <td>Av Luiz Dumont Villares</td>\n",
              "      <td>1607</td>\n",
              "      <td></td>\n",
              "      <td>14</td>\n",
              "      <td>0.010906</td>\n",
              "      <td>14</td>\n",
              "      <td>0.010906</td>\n",
              "      <td>0</td>\n",
              "      <td>0.000000</td>\n",
              "    </tr>\n",
              "    <tr>\n",
              "      <th>653</th>\n",
              "      <td>Vip Chopp Bar e Lanchonete - Vl Zelina</td>\n",
              "      <td>São Paulo</td>\n",
              "      <td></td>\n",
              "      <td>Av Zelina, 752,</td>\n",
              "      <td>Av Zelina</td>\n",
              "      <td>752</td>\n",
              "      <td></td>\n",
              "      <td>14</td>\n",
              "      <td>0.000999</td>\n",
              "      <td>14</td>\n",
              "      <td>0.002260</td>\n",
              "      <td>0</td>\n",
              "      <td>0.000000</td>\n",
              "    </tr>\n",
              "    <tr>\n",
              "      <th>654</th>\n",
              "      <td>Restaurante e Choperia Vaca Louca - Moóca</td>\n",
              "      <td>São Paulo</td>\n",
              "      <td></td>\n",
              "      <td>Rua Madre de Deus, 1176,</td>\n",
              "      <td>Rua Madre de Deus</td>\n",
              "      <td>1176</td>\n",
              "      <td></td>\n",
              "      <td>9</td>\n",
              "      <td>0.006259</td>\n",
              "      <td>9</td>\n",
              "      <td>0.006259</td>\n",
              "      <td>0</td>\n",
              "      <td>0.000000</td>\n",
              "    </tr>\n",
              "  </tbody>\n",
              "</table>\n",
              "<p>655 rows × 13 columns</p>\n",
              "</div>"
            ],
            "text/plain": [
              "                                     Store_Name  ... Sscore_espec_1\n",
              "0      Lanchonete Choperia Bilu Bilu Ltda - Me   ...       0.000000\n",
              "1                          Choperia Takeu Ltda   ...       0.008721\n",
              "2                          Cervejaria Nacional   ...       0.010906\n",
              "3           Toca do Nego Veio Bar & Cervejaria   ...       0.008209\n",
              "4        Restaurante Choperia Tche Gaúcho Ltda   ...       0.018221\n",
              "..                                          ...  ...            ...\n",
              "650                       Lisboa Chopp e Grill   ...       0.000000\n",
              "651                        Belgaria da Cerveja   ...       0.000000\n",
              "652                       Cervejaria Via North   ...       0.000000\n",
              "653     Vip Chopp Bar e Lanchonete - Vl Zelina   ...       0.000000\n",
              "654  Restaurante e Choperia Vaca Louca - Moóca   ...       0.000000\n",
              "\n",
              "[655 rows x 13 columns]"
            ]
          },
          "metadata": {
            "tags": []
          },
          "execution_count": 25
        }
      ]
    },
    {
      "cell_type": "code",
      "metadata": {
        "id": "XVB-rzqYogyr",
        "colab": {
          "base_uri": "https://localhost:8080/"
        },
        "outputId": "ae87663e-f39c-461b-b719-3d77edae3ea7"
      },
      "source": [
        "# Post-filter - excluding the stores with null scores\n",
        "\n",
        "# Remove not valide rows\n",
        "\n",
        "ini=df.shape[0]\n",
        "\n",
        "for i in tqdm(range(0,ini)):\n",
        "  score1=df['Sscore_geral_1'].loc[i:i]\n",
        "  score2=df['Sscore_geral_2'].loc[i:i]\n",
        "  score3=df['Sscore_espec_1'].loc[i:i]\n",
        "  \n",
        "  if (int(score1*100000)/100000==0) or (int(score2*100000)/100000==0) or (int(score3*100000)/100000==0):\n",
        "     df['Store_Name'].loc[i:i]=\"deletar\"\n",
        "    \n",
        "df.drop(df[df['Store_Name'] == \"deletar\"].index, inplace = True)\n",
        "df.reset_index(inplace=True, drop=True)\n",
        "\n",
        "fin=df.shape[0]\n",
        "\n",
        "print(f\"Percentual de redução de {(1-fin/ini)*100} %\")\n"
      ],
      "execution_count": null,
      "outputs": [
        {
          "output_type": "stream",
          "text": [
            "100%|██████████| 252/252 [00:00<00:00, 1461.61it/s]\n"
          ],
          "name": "stderr"
        },
        {
          "output_type": "stream",
          "text": [
            "Percentual de redução de 0.0 %\n"
          ],
          "name": "stdout"
        }
      ]
    },
    {
      "cell_type": "code",
      "metadata": {
        "colab": {
          "base_uri": "https://localhost:8080/"
        },
        "id": "wj8gSsWDKyBQ",
        "outputId": "73f70c2d-d974-40a3-9c8a-1caacaed193d"
      },
      "source": [
        "df"
      ],
      "execution_count": null,
      "outputs": [
        {
          "output_type": "execute_result",
          "data": {
            "text/html": [
              "<div>\n",
              "<style scoped>\n",
              "    .dataframe tbody tr th:only-of-type {\n",
              "        vertical-align: middle;\n",
              "    }\n",
              "\n",
              "    .dataframe tbody tr th {\n",
              "        vertical-align: top;\n",
              "    }\n",
              "\n",
              "    .dataframe thead th {\n",
              "        text-align: right;\n",
              "    }\n",
              "</style>\n",
              "<table border=\"1\" class=\"dataframe\">\n",
              "  <thead>\n",
              "    <tr style=\"text-align: right;\">\n",
              "      <th></th>\n",
              "      <th>Store_Name</th>\n",
              "      <th>Locality</th>\n",
              "      <th>Postal_Code</th>\n",
              "      <th>Street_Address</th>\n",
              "      <th>Street_Name</th>\n",
              "      <th>Number</th>\n",
              "      <th>Neighborhood</th>\n",
              "      <th>Num_oc_geral_1</th>\n",
              "      <th>Sscore_geral_1</th>\n",
              "      <th>Num_oc_geral_2</th>\n",
              "      <th>Sscore_geral_2</th>\n",
              "      <th>Num_oc_espec_1</th>\n",
              "      <th>Sscore_espec_1</th>\n",
              "    </tr>\n",
              "  </thead>\n",
              "  <tbody>\n",
              "    <tr>\n",
              "      <th>0</th>\n",
              "      <td>Toca do Nego Veio Bar &amp; Cervejaria</td>\n",
              "      <td>São Paulo</td>\n",
              "      <td>53520-50</td>\n",
              "      <td>Rua Doutor Teodoro Quartim Barbosa, 114,</td>\n",
              "      <td>Rua Doutor Teodoro Quartim Barbosa</td>\n",
              "      <td>114</td>\n",
              "      <td></td>\n",
              "      <td>22</td>\n",
              "      <td>0.008209</td>\n",
              "      <td>11</td>\n",
              "      <td>0.006894</td>\n",
              "      <td>22</td>\n",
              "      <td>0.008209</td>\n",
              "    </tr>\n",
              "    <tr>\n",
              "      <th>1</th>\n",
              "      <td>Restaurante Choperia Tche Gaúcho Ltda</td>\n",
              "      <td>São Paulo</td>\n",
              "      <td></td>\n",
              "      <td>Estrada Guarapiranga, 884,  Guarapiranga</td>\n",
              "      <td>Estrada Guarapiranga</td>\n",
              "      <td>884</td>\n",
              "      <td>Guarapiranga</td>\n",
              "      <td>7</td>\n",
              "      <td>0.006074</td>\n",
              "      <td>3</td>\n",
              "      <td>0.018221</td>\n",
              "      <td>3</td>\n",
              "      <td>0.018221</td>\n",
              "    </tr>\n",
              "    <tr>\n",
              "      <th>2</th>\n",
              "      <td>The Old Beer Cervejaria Ltda</td>\n",
              "      <td>São Paulo</td>\n",
              "      <td>04583-020</td>\n",
              "      <td>Rua Baltazar Fernandes, 54,  Vl Gertrudes</td>\n",
              "      <td>Rua Baltazar Fernandes</td>\n",
              "      <td>54</td>\n",
              "      <td>Vl Gertrudes</td>\n",
              "      <td>10</td>\n",
              "      <td>0.022972</td>\n",
              "      <td>10</td>\n",
              "      <td>0.023334</td>\n",
              "      <td>10</td>\n",
              "      <td>0.022972</td>\n",
              "    </tr>\n",
              "    <tr>\n",
              "      <th>3</th>\n",
              "      <td>Pe No Parque Lanchonete Choperia Ltda Epp</td>\n",
              "      <td>São Paulo</td>\n",
              "      <td></td>\n",
              "      <td>Rua Inhambu, 240,  Vl Helena</td>\n",
              "      <td>Rua Inhambu</td>\n",
              "      <td>240</td>\n",
              "      <td>Vl Helena</td>\n",
              "      <td>14</td>\n",
              "      <td>0.003905</td>\n",
              "      <td>14</td>\n",
              "      <td>0.002051</td>\n",
              "      <td>14</td>\n",
              "      <td>0.003905</td>\n",
              "    </tr>\n",
              "    <tr>\n",
              "      <th>4</th>\n",
              "      <td>Cervejaria Der Braumeister Jardim Sul Ltda</td>\n",
              "      <td>São Paulo</td>\n",
              "      <td></td>\n",
              "      <td>Avenida das Nações Unidas, 13947, Lj 246 Pi 1 ...</td>\n",
              "      <td>Avenida das Nações Unidas</td>\n",
              "      <td>13947</td>\n",
              "      <td>Lj 246 Pi 1  Alto de Pinheiros</td>\n",
              "      <td>4</td>\n",
              "      <td>0.088351</td>\n",
              "      <td>3</td>\n",
              "      <td>0.030612</td>\n",
              "      <td>3</td>\n",
              "      <td>0.030612</td>\n",
              "    </tr>\n",
              "    <tr>\n",
              "      <th>...</th>\n",
              "      <td>...</td>\n",
              "      <td>...</td>\n",
              "      <td>...</td>\n",
              "      <td>...</td>\n",
              "      <td>...</td>\n",
              "      <td>...</td>\n",
              "      <td>...</td>\n",
              "      <td>...</td>\n",
              "      <td>...</td>\n",
              "      <td>...</td>\n",
              "      <td>...</td>\n",
              "      <td>...</td>\n",
              "      <td>...</td>\n",
              "    </tr>\n",
              "    <tr>\n",
              "      <th>247</th>\n",
              "      <td>Choperia Pedro I</td>\n",
              "      <td>São Paulo</td>\n",
              "      <td></td>\n",
              "      <td>Rua Lode Cochane, 320,</td>\n",
              "      <td>Rua Lode Cochane</td>\n",
              "      <td>320</td>\n",
              "      <td></td>\n",
              "      <td>11</td>\n",
              "      <td>0.009349</td>\n",
              "      <td>14</td>\n",
              "      <td>0.003078</td>\n",
              "      <td>14</td>\n",
              "      <td>0.003078</td>\n",
              "    </tr>\n",
              "    <tr>\n",
              "      <th>248</th>\n",
              "      <td>Choperia Sócrates - Santo Amaro</td>\n",
              "      <td>São Paulo</td>\n",
              "      <td></td>\n",
              "      <td>Rua Socates, 769,</td>\n",
              "      <td>Rua Socates</td>\n",
              "      <td>769</td>\n",
              "      <td></td>\n",
              "      <td>10</td>\n",
              "      <td>0.005601</td>\n",
              "      <td>10</td>\n",
              "      <td>0.005601</td>\n",
              "      <td>10</td>\n",
              "      <td>0.005601</td>\n",
              "    </tr>\n",
              "    <tr>\n",
              "      <th>249</th>\n",
              "      <td>Sei La Choperia</td>\n",
              "      <td>São Paulo</td>\n",
              "      <td></td>\n",
              "      <td>Rua F Cuz Mellão, S/N,</td>\n",
              "      <td>Rua F Cuz Mellão</td>\n",
              "      <td>S/N</td>\n",
              "      <td></td>\n",
              "      <td>14</td>\n",
              "      <td>0.006197</td>\n",
              "      <td>8</td>\n",
              "      <td>0.011191</td>\n",
              "      <td>14</td>\n",
              "      <td>0.006197</td>\n",
              "    </tr>\n",
              "    <tr>\n",
              "      <th>250</th>\n",
              "      <td>Restaurante e Choperia Mc</td>\n",
              "      <td>São Paulo</td>\n",
              "      <td></td>\n",
              "      <td>Rua Ilídio Figueiedo, 469,</td>\n",
              "      <td>Rua Ilídio Figueiedo</td>\n",
              "      <td>469</td>\n",
              "      <td></td>\n",
              "      <td>14</td>\n",
              "      <td>0.003023</td>\n",
              "      <td>14</td>\n",
              "      <td>0.003023</td>\n",
              "      <td>14</td>\n",
              "      <td>0.000999</td>\n",
              "    </tr>\n",
              "    <tr>\n",
              "      <th>251</th>\n",
              "      <td>A Imperial Choperia e Restaurante</td>\n",
              "      <td>São Paulo</td>\n",
              "      <td></td>\n",
              "      <td>Rua G Cavalho, 955,</td>\n",
              "      <td>Rua G Cavalho</td>\n",
              "      <td>955</td>\n",
              "      <td></td>\n",
              "      <td>11</td>\n",
              "      <td>0.001299</td>\n",
              "      <td>11</td>\n",
              "      <td>0.001389</td>\n",
              "      <td>9</td>\n",
              "      <td>0.006780</td>\n",
              "    </tr>\n",
              "  </tbody>\n",
              "</table>\n",
              "<p>252 rows × 13 columns</p>\n",
              "</div>"
            ],
            "text/plain": [
              "                                      Store_Name  ... Sscore_espec_1\n",
              "0            Toca do Nego Veio Bar & Cervejaria   ...       0.008209\n",
              "1         Restaurante Choperia Tche Gaúcho Ltda   ...       0.018221\n",
              "2                  The Old Beer Cervejaria Ltda   ...       0.022972\n",
              "3     Pe No Parque Lanchonete Choperia Ltda Epp   ...       0.003905\n",
              "4    Cervejaria Der Braumeister Jardim Sul Ltda   ...       0.030612\n",
              "..                                           ...  ...            ...\n",
              "247                            Choperia Pedro I   ...       0.003078\n",
              "248             Choperia Sócrates - Santo Amaro   ...       0.005601\n",
              "249                             Sei La Choperia   ...       0.006197\n",
              "250                   Restaurante e Choperia Mc   ...       0.000999\n",
              "251           A Imperial Choperia e Restaurante   ...       0.006780\n",
              "\n",
              "[252 rows x 13 columns]"
            ]
          },
          "metadata": {
            "tags": []
          },
          "execution_count": 28
        }
      ]
    },
    {
      "cell_type": "code",
      "metadata": {
        "id": "Hvxvz02UK4Vi"
      },
      "source": [
        "df.to_excel(\"Cervejarias em Sampa.xlsx\")"
      ],
      "execution_count": null,
      "outputs": []
    },
    {
      "cell_type": "markdown",
      "metadata": {
        "id": "9PCnI6c4Buwl"
      },
      "source": [
        "## FIND GEOLOCATIONS USING GOOGLE GEOLOCATOR\n",
        "\n",
        "---\n",
        "\n"
      ]
    },
    {
      "cell_type": "code",
      "metadata": {
        "colab": {
          "base_uri": "https://localhost:8080/",
          "height": 948
        },
        "id": "cD39-1cGZ4nY",
        "outputId": "a2b90960-64f3-4efe-9c32-df4e94d5490a"
      },
      "source": [
        "#found latitudes and longitudes on final dataset\n",
        "\n",
        "from time import sleep\n",
        "from geopy.geocoders import GoogleV3\n",
        "\n",
        "ini=df.shape[0]\n",
        "lati_ = []\n",
        "long_ = []\n",
        "\n",
        "for i in tqdm(range(0,ini)):\n",
        "\n",
        "  CEP    = df['Postal_Code'].loc[i:i].to_list()[0]\n",
        "  RUA    = df['Street_Name'].loc[i:i]\n",
        "  NUM    = df['Number'].loc[i:i]\n",
        "  BAIRRO = df['Neighborhood'].loc[i:i]\n",
        "  CIDADE = df['Locality'].loc[i:i]\n",
        "\n",
        "  if len(CEP) == 9 and CEP[8]!=\" \":\n",
        "\n",
        "    line = CEP + \" , \" + RUA + \" , \" + NUM + \" , \" + BAIRRO + \" , \" + CIDADE\n",
        "\n",
        "    sleep(2)\n",
        "    geolocator = GoogleV3(api_key='PUT HERE YOUR OWN GOOGLE CLOUD KEY') #Chave adquirida através da Google\n",
        "    location = geolocator.geocode(str(line), timeout=100)\n",
        "    if location:\n",
        "      lat=location.latitude\n",
        "      lon=location.longitude\n",
        "    else:\n",
        "      lat = None\n",
        "      lon = None\n",
        "  else:\n",
        "    lat = None\n",
        "    lon = None\n",
        "\n",
        "  lati_.append(lat)\n",
        "  long_.append(lon)\n",
        "\n",
        "df[\"latitude\"]  = lati_\n",
        "df[\"longitude\"] = long_\n",
        "\n",
        "df.drop(df[df['latitude'] == None].index, inplace = True)\n",
        "df.reset_index(inplace=True, drop=True)\n",
        "\n",
        "fin=df.shape[0]\n",
        "\n",
        "print(f\"Percentual de redução de {(1-fin/ini)*100} %\")\n",
        "print(\"Geolocation coordinates found!\")\n",
        "\n",
        "######################################################\n",
        "\n",
        "df = df.dropna(axis = 0)\n",
        "\n",
        "print(df.shape)\n",
        "\n",
        "df"
      ],
      "execution_count": null,
      "outputs": [
        {
          "output_type": "stream",
          "text": [
            "100%|██████████| 252/252 [03:44<00:00,  1.12it/s]"
          ],
          "name": "stderr"
        },
        {
          "output_type": "stream",
          "text": [
            "Percentual de redução de 0.0 %\n",
            "Geolocation coordinates found!\n",
            "(91, 15)\n"
          ],
          "name": "stdout"
        },
        {
          "output_type": "stream",
          "text": [
            "\n"
          ],
          "name": "stderr"
        },
        {
          "output_type": "execute_result",
          "data": {
            "text/html": [
              "<div>\n",
              "<style scoped>\n",
              "    .dataframe tbody tr th:only-of-type {\n",
              "        vertical-align: middle;\n",
              "    }\n",
              "\n",
              "    .dataframe tbody tr th {\n",
              "        vertical-align: top;\n",
              "    }\n",
              "\n",
              "    .dataframe thead th {\n",
              "        text-align: right;\n",
              "    }\n",
              "</style>\n",
              "<table border=\"1\" class=\"dataframe\">\n",
              "  <thead>\n",
              "    <tr style=\"text-align: right;\">\n",
              "      <th></th>\n",
              "      <th>Store_Name</th>\n",
              "      <th>Locality</th>\n",
              "      <th>Postal_Code</th>\n",
              "      <th>Street_Address</th>\n",
              "      <th>Street_Name</th>\n",
              "      <th>Number</th>\n",
              "      <th>Neighborhood</th>\n",
              "      <th>Num_oc_geral_1</th>\n",
              "      <th>Sscore_geral_1</th>\n",
              "      <th>Num_oc_geral_2</th>\n",
              "      <th>Sscore_geral_2</th>\n",
              "      <th>Num_oc_espec_1</th>\n",
              "      <th>Sscore_espec_1</th>\n",
              "      <th>latitude</th>\n",
              "      <th>longitude</th>\n",
              "    </tr>\n",
              "  </thead>\n",
              "  <tbody>\n",
              "    <tr>\n",
              "      <th>2</th>\n",
              "      <td>The Old Beer Cervejaria Ltda</td>\n",
              "      <td>São Paulo</td>\n",
              "      <td>04583-020</td>\n",
              "      <td>Rua Baltazar Fernandes, 54,  Vl Gertrudes</td>\n",
              "      <td>Rua Baltazar Fernandes</td>\n",
              "      <td>54</td>\n",
              "      <td>Vl Gertrudes</td>\n",
              "      <td>10</td>\n",
              "      <td>0.022972</td>\n",
              "      <td>10</td>\n",
              "      <td>0.023334</td>\n",
              "      <td>10</td>\n",
              "      <td>0.022972</td>\n",
              "      <td>-23.619878</td>\n",
              "      <td>-46.693677</td>\n",
              "    </tr>\n",
              "    <tr>\n",
              "      <th>13</th>\n",
              "      <td>Choperia Nova Palace Ltda Me</td>\n",
              "      <td>São Paulo</td>\n",
              "      <td>04142-082</td>\n",
              "      <td>Avenida Bosque Saúde, 2198,  Bosque da Saúde</td>\n",
              "      <td>Avenida Bosque Saúde</td>\n",
              "      <td>2198</td>\n",
              "      <td>Bosque da Saúde</td>\n",
              "      <td>11</td>\n",
              "      <td>0.002410</td>\n",
              "      <td>9</td>\n",
              "      <td>0.003012</td>\n",
              "      <td>9</td>\n",
              "      <td>0.003012</td>\n",
              "      <td>-23.612507</td>\n",
              "      <td>-46.617928</td>\n",
              "    </tr>\n",
              "    <tr>\n",
              "      <th>14</th>\n",
              "      <td>Cervejaria Der Braumeister Paulista Ltda</td>\n",
              "      <td>São Paulo</td>\n",
              "      <td>04849-529</td>\n",
              "      <td>Rua Treze Maio, 1947, Lj 423  Bela Vista</td>\n",
              "      <td>Rua Treze Maio</td>\n",
              "      <td>1947</td>\n",
              "      <td>Lj 423  Bela Vista</td>\n",
              "      <td>2</td>\n",
              "      <td>0.061224</td>\n",
              "      <td>2</td>\n",
              "      <td>0.061224</td>\n",
              "      <td>2</td>\n",
              "      <td>0.061224</td>\n",
              "      <td>-23.570553</td>\n",
              "      <td>-46.643525</td>\n",
              "    </tr>\n",
              "    <tr>\n",
              "      <th>15</th>\n",
              "      <td>Lanchonete Choperia Mallorca Ltda Epp</td>\n",
              "      <td>São Paulo</td>\n",
              "      <td>01037-001</td>\n",
              "      <td>Rua Conselheiro Crispiniano, 65,  Sé</td>\n",
              "      <td>Rua Conselheiro Crispiniano</td>\n",
              "      <td>65</td>\n",
              "      <td>Sé</td>\n",
              "      <td>5</td>\n",
              "      <td>0.012274</td>\n",
              "      <td>5</td>\n",
              "      <td>0.009149</td>\n",
              "      <td>5</td>\n",
              "      <td>0.009149</td>\n",
              "      <td>-23.546337</td>\n",
              "      <td>-46.640149</td>\n",
              "    </tr>\n",
              "    <tr>\n",
              "      <th>16</th>\n",
              "      <td>Plínio Bar e Choperia Ltda</td>\n",
              "      <td>São Paulo</td>\n",
              "      <td>02512-000</td>\n",
              "      <td>Rua Bernardino Fanganiello, 282, Ap 102  Casa ...</td>\n",
              "      <td>Rua Bernardino Fanganiello</td>\n",
              "      <td>282</td>\n",
              "      <td>Ap 102  Casa Verde Baixa</td>\n",
              "      <td>13</td>\n",
              "      <td>0.003090</td>\n",
              "      <td>13</td>\n",
              "      <td>0.003090</td>\n",
              "      <td>13</td>\n",
              "      <td>0.003090</td>\n",
              "      <td>-23.512952</td>\n",
              "      <td>-46.658629</td>\n",
              "    </tr>\n",
              "    <tr>\n",
              "      <th>...</th>\n",
              "      <td>...</td>\n",
              "      <td>...</td>\n",
              "      <td>...</td>\n",
              "      <td>...</td>\n",
              "      <td>...</td>\n",
              "      <td>...</td>\n",
              "      <td>...</td>\n",
              "      <td>...</td>\n",
              "      <td>...</td>\n",
              "      <td>...</td>\n",
              "      <td>...</td>\n",
              "      <td>...</td>\n",
              "      <td>...</td>\n",
              "      <td>...</td>\n",
              "      <td>...</td>\n",
              "    </tr>\n",
              "    <tr>\n",
              "      <th>230</th>\n",
              "      <td>Nevada Chopperia Lancheteria L</td>\n",
              "      <td>São Paulo</td>\n",
              "      <td>02341-001</td>\n",
              "      <td>Avenida Nova Cantareira, 4055,  Tucuruvi</td>\n",
              "      <td>Avenida Nova Cantareira</td>\n",
              "      <td>4055</td>\n",
              "      <td>Tucuruvi</td>\n",
              "      <td>14</td>\n",
              "      <td>0.002024</td>\n",
              "      <td>14</td>\n",
              "      <td>0.002079</td>\n",
              "      <td>14</td>\n",
              "      <td>0.002024</td>\n",
              "      <td>-23.465241</td>\n",
              "      <td>-46.616764</td>\n",
              "    </tr>\n",
              "    <tr>\n",
              "      <th>231</th>\n",
              "      <td>Chopps Frios Donn Ltda</td>\n",
              "      <td>São Paulo</td>\n",
              "      <td>05419-000</td>\n",
              "      <td>Avenida Pedroso Morais, 221,  Alto de Pinheiros</td>\n",
              "      <td>Avenida Pedroso Morais</td>\n",
              "      <td>221</td>\n",
              "      <td>Alto de Pinheiros</td>\n",
              "      <td>9</td>\n",
              "      <td>0.003289</td>\n",
              "      <td>9</td>\n",
              "      <td>0.003289</td>\n",
              "      <td>9</td>\n",
              "      <td>0.003289</td>\n",
              "      <td>-23.567733</td>\n",
              "      <td>-46.688796</td>\n",
              "    </tr>\n",
              "    <tr>\n",
              "      <th>232</th>\n",
              "      <td>General Galinha Choperia e Res</td>\n",
              "      <td>São Paulo</td>\n",
              "      <td>02033-010</td>\n",
              "      <td>Avenida General Ataliba Leonel, 2493,  Santana</td>\n",
              "      <td>Avenida General Ataliba Leonel</td>\n",
              "      <td>2493</td>\n",
              "      <td>Santana</td>\n",
              "      <td>14</td>\n",
              "      <td>0.010201</td>\n",
              "      <td>14</td>\n",
              "      <td>0.010191</td>\n",
              "      <td>14</td>\n",
              "      <td>0.010349</td>\n",
              "      <td>-23.508186</td>\n",
              "      <td>-46.626204</td>\n",
              "    </tr>\n",
              "    <tr>\n",
              "      <th>233</th>\n",
              "      <td>Brasimax Com Equip Sup Esc Se</td>\n",
              "      <td>São Paulo</td>\n",
              "      <td>03401-001</td>\n",
              "      <td>Rua Antônio Barros, 2391, Ap 112  Vl Carrão</td>\n",
              "      <td>Rua Antônio Barros</td>\n",
              "      <td>2391</td>\n",
              "      <td>Ap 112  Vl Carrão</td>\n",
              "      <td>10</td>\n",
              "      <td>0.003175</td>\n",
              "      <td>10</td>\n",
              "      <td>0.003130</td>\n",
              "      <td>10</td>\n",
              "      <td>0.003130</td>\n",
              "      <td>-23.551103</td>\n",
              "      <td>-46.554006</td>\n",
              "    </tr>\n",
              "    <tr>\n",
              "      <th>235</th>\n",
              "      <td>Cervejaria Cristal</td>\n",
              "      <td>São Paulo</td>\n",
              "      <td>08340-140</td>\n",
              "      <td>Rua Forte Rio Branco, 455,</td>\n",
              "      <td>Rua Forte Rio Branco</td>\n",
              "      <td>455</td>\n",
              "      <td></td>\n",
              "      <td>14</td>\n",
              "      <td>0.013220</td>\n",
              "      <td>14</td>\n",
              "      <td>0.013220</td>\n",
              "      <td>14</td>\n",
              "      <td>0.013220</td>\n",
              "      <td>-23.604773</td>\n",
              "      <td>-46.464194</td>\n",
              "    </tr>\n",
              "  </tbody>\n",
              "</table>\n",
              "<p>91 rows × 15 columns</p>\n",
              "</div>"
            ],
            "text/plain": [
              "                                    Store_Name  ...  longitude\n",
              "2                The Old Beer Cervejaria Ltda   ... -46.693677\n",
              "13               Choperia Nova Palace Ltda Me   ... -46.617928\n",
              "14   Cervejaria Der Braumeister Paulista Ltda   ... -46.643525\n",
              "15      Lanchonete Choperia Mallorca Ltda Epp   ... -46.640149\n",
              "16                 Plínio Bar e Choperia Ltda   ... -46.658629\n",
              "..                                         ...  ...        ...\n",
              "230            Nevada Chopperia Lancheteria L   ... -46.616764\n",
              "231                    Chopps Frios Donn Ltda   ... -46.688796\n",
              "232            General Galinha Choperia e Res   ... -46.626204\n",
              "233             Brasimax Com Equip Sup Esc Se   ... -46.554006\n",
              "235                        Cervejaria Cristal   ... -46.464194\n",
              "\n",
              "[91 rows x 15 columns]"
            ]
          },
          "metadata": {
            "tags": []
          },
          "execution_count": 30
        }
      ]
    },
    {
      "cell_type": "code",
      "metadata": {
        "id": "1Q8sDjurIBrq"
      },
      "source": [
        "df.to_excel(\"Cervejarias em Sampa (Matriz Final - última versão).xlsx\")"
      ],
      "execution_count": null,
      "outputs": []
    },
    {
      "cell_type": "markdown",
      "metadata": {
        "id": "LJ5u7hci81Fx"
      },
      "source": [
        "## Exploratory Analysis of Selected Data"
      ]
    },
    {
      "cell_type": "markdown",
      "metadata": {
        "id": "RsZJasjEHFhO"
      },
      "source": [
        "### Scores visualization"
      ]
    },
    {
      "cell_type": "code",
      "metadata": {
        "colab": {
          "base_uri": "https://localhost:8080/"
        },
        "id": "eYEa5uED88dN",
        "outputId": "3c05395f-38f2-4e3f-cb5a-cc0ed581eb1a"
      },
      "source": [
        "vdf = df._get_numeric_data()\n",
        "\n",
        "del vdf['Number']\n",
        "\n",
        "vdf"
      ],
      "execution_count": null,
      "outputs": [
        {
          "output_type": "execute_result",
          "data": {
            "text/html": [
              "<div>\n",
              "<style scoped>\n",
              "    .dataframe tbody tr th:only-of-type {\n",
              "        vertical-align: middle;\n",
              "    }\n",
              "\n",
              "    .dataframe tbody tr th {\n",
              "        vertical-align: top;\n",
              "    }\n",
              "\n",
              "    .dataframe thead th {\n",
              "        text-align: right;\n",
              "    }\n",
              "</style>\n",
              "<table border=\"1\" class=\"dataframe\">\n",
              "  <thead>\n",
              "    <tr style=\"text-align: right;\">\n",
              "      <th></th>\n",
              "      <th>Num_oc_geral_1</th>\n",
              "      <th>Score_geral_1</th>\n",
              "      <th>Num_oc_geral_2</th>\n",
              "      <th>Score_geral_2</th>\n",
              "      <th>Num_oc_espec_1</th>\n",
              "      <th>Score_espec_1</th>\n",
              "      <th>latitude</th>\n",
              "      <th>longitude</th>\n",
              "    </tr>\n",
              "  </thead>\n",
              "  <tbody>\n",
              "    <tr>\n",
              "      <th>0</th>\n",
              "      <td>10</td>\n",
              "      <td>0.022972</td>\n",
              "      <td>10</td>\n",
              "      <td>0.023334</td>\n",
              "      <td>10</td>\n",
              "      <td>0.022972</td>\n",
              "      <td>-23.619878</td>\n",
              "      <td>-46.693677</td>\n",
              "    </tr>\n",
              "    <tr>\n",
              "      <th>1</th>\n",
              "      <td>11</td>\n",
              "      <td>0.002410</td>\n",
              "      <td>9</td>\n",
              "      <td>0.003012</td>\n",
              "      <td>9</td>\n",
              "      <td>0.003012</td>\n",
              "      <td>-23.612507</td>\n",
              "      <td>-46.617928</td>\n",
              "    </tr>\n",
              "    <tr>\n",
              "      <th>2</th>\n",
              "      <td>2</td>\n",
              "      <td>0.061224</td>\n",
              "      <td>2</td>\n",
              "      <td>0.061224</td>\n",
              "      <td>2</td>\n",
              "      <td>0.061224</td>\n",
              "      <td>-23.570553</td>\n",
              "      <td>-46.643525</td>\n",
              "    </tr>\n",
              "    <tr>\n",
              "      <th>3</th>\n",
              "      <td>5</td>\n",
              "      <td>0.012274</td>\n",
              "      <td>5</td>\n",
              "      <td>0.009149</td>\n",
              "      <td>5</td>\n",
              "      <td>0.009149</td>\n",
              "      <td>-23.546337</td>\n",
              "      <td>-46.640149</td>\n",
              "    </tr>\n",
              "    <tr>\n",
              "      <th>4</th>\n",
              "      <td>13</td>\n",
              "      <td>0.003090</td>\n",
              "      <td>13</td>\n",
              "      <td>0.003090</td>\n",
              "      <td>13</td>\n",
              "      <td>0.003090</td>\n",
              "      <td>-23.512952</td>\n",
              "      <td>-46.658629</td>\n",
              "    </tr>\n",
              "    <tr>\n",
              "      <th>...</th>\n",
              "      <td>...</td>\n",
              "      <td>...</td>\n",
              "      <td>...</td>\n",
              "      <td>...</td>\n",
              "      <td>...</td>\n",
              "      <td>...</td>\n",
              "      <td>...</td>\n",
              "      <td>...</td>\n",
              "    </tr>\n",
              "    <tr>\n",
              "      <th>86</th>\n",
              "      <td>14</td>\n",
              "      <td>0.002024</td>\n",
              "      <td>14</td>\n",
              "      <td>0.002079</td>\n",
              "      <td>14</td>\n",
              "      <td>0.002024</td>\n",
              "      <td>-23.465241</td>\n",
              "      <td>-46.616764</td>\n",
              "    </tr>\n",
              "    <tr>\n",
              "      <th>87</th>\n",
              "      <td>9</td>\n",
              "      <td>0.003289</td>\n",
              "      <td>9</td>\n",
              "      <td>0.003289</td>\n",
              "      <td>9</td>\n",
              "      <td>0.003289</td>\n",
              "      <td>-23.567733</td>\n",
              "      <td>-46.688796</td>\n",
              "    </tr>\n",
              "    <tr>\n",
              "      <th>88</th>\n",
              "      <td>14</td>\n",
              "      <td>0.010201</td>\n",
              "      <td>14</td>\n",
              "      <td>0.010191</td>\n",
              "      <td>14</td>\n",
              "      <td>0.010349</td>\n",
              "      <td>-23.508186</td>\n",
              "      <td>-46.626204</td>\n",
              "    </tr>\n",
              "    <tr>\n",
              "      <th>89</th>\n",
              "      <td>10</td>\n",
              "      <td>0.003175</td>\n",
              "      <td>10</td>\n",
              "      <td>0.003130</td>\n",
              "      <td>10</td>\n",
              "      <td>0.003130</td>\n",
              "      <td>-23.551103</td>\n",
              "      <td>-46.554006</td>\n",
              "    </tr>\n",
              "    <tr>\n",
              "      <th>90</th>\n",
              "      <td>14</td>\n",
              "      <td>0.013220</td>\n",
              "      <td>14</td>\n",
              "      <td>0.013220</td>\n",
              "      <td>14</td>\n",
              "      <td>0.013220</td>\n",
              "      <td>-23.604773</td>\n",
              "      <td>-46.464194</td>\n",
              "    </tr>\n",
              "  </tbody>\n",
              "</table>\n",
              "<p>91 rows × 8 columns</p>\n",
              "</div>"
            ],
            "text/plain": [
              "    Num_oc_geral_1  Score_geral_1  ...   latitude  longitude\n",
              "0               10       0.022972  ... -23.619878 -46.693677\n",
              "1               11       0.002410  ... -23.612507 -46.617928\n",
              "2                2       0.061224  ... -23.570553 -46.643525\n",
              "3                5       0.012274  ... -23.546337 -46.640149\n",
              "4               13       0.003090  ... -23.512952 -46.658629\n",
              "..             ...            ...  ...        ...        ...\n",
              "86              14       0.002024  ... -23.465241 -46.616764\n",
              "87               9       0.003289  ... -23.567733 -46.688796\n",
              "88              14       0.010201  ... -23.508186 -46.626204\n",
              "89              10       0.003175  ... -23.551103 -46.554006\n",
              "90              14       0.013220  ... -23.604773 -46.464194\n",
              "\n",
              "[91 rows x 8 columns]"
            ]
          },
          "metadata": {
            "tags": []
          },
          "execution_count": 44
        }
      ]
    },
    {
      "cell_type": "code",
      "metadata": {
        "colab": {
          "base_uri": "https://localhost:8080/"
        },
        "id": "LYg3bOCw_H2H",
        "outputId": "97ae5dc8-353c-4232-bc02-96e2d76ced92"
      },
      "source": [
        "vdf.describe()"
      ],
      "execution_count": null,
      "outputs": [
        {
          "output_type": "execute_result",
          "data": {
            "text/html": [
              "<div>\n",
              "<style scoped>\n",
              "    .dataframe tbody tr th:only-of-type {\n",
              "        vertical-align: middle;\n",
              "    }\n",
              "\n",
              "    .dataframe tbody tr th {\n",
              "        vertical-align: top;\n",
              "    }\n",
              "\n",
              "    .dataframe thead th {\n",
              "        text-align: right;\n",
              "    }\n",
              "</style>\n",
              "<table border=\"1\" class=\"dataframe\">\n",
              "  <thead>\n",
              "    <tr style=\"text-align: right;\">\n",
              "      <th></th>\n",
              "      <th>Num_oc_geral_1</th>\n",
              "      <th>Score_geral_1</th>\n",
              "      <th>Num_oc_geral_2</th>\n",
              "      <th>Score_geral_2</th>\n",
              "      <th>Num_oc_espec_1</th>\n",
              "      <th>Score_espec_1</th>\n",
              "      <th>latitude</th>\n",
              "      <th>longitude</th>\n",
              "    </tr>\n",
              "  </thead>\n",
              "  <tbody>\n",
              "    <tr>\n",
              "      <th>count</th>\n",
              "      <td>91.000000</td>\n",
              "      <td>91.000000</td>\n",
              "      <td>91.000000</td>\n",
              "      <td>91.000000</td>\n",
              "      <td>91.000000</td>\n",
              "      <td>91.000000</td>\n",
              "      <td>91.000000</td>\n",
              "      <td>91.000000</td>\n",
              "    </tr>\n",
              "    <tr>\n",
              "      <th>mean</th>\n",
              "      <td>10.978022</td>\n",
              "      <td>0.008693</td>\n",
              "      <td>10.780220</td>\n",
              "      <td>0.008815</td>\n",
              "      <td>10.802198</td>\n",
              "      <td>0.008728</td>\n",
              "      <td>-23.544906</td>\n",
              "      <td>-46.633162</td>\n",
              "    </tr>\n",
              "    <tr>\n",
              "      <th>std</th>\n",
              "      <td>3.319900</td>\n",
              "      <td>0.009333</td>\n",
              "      <td>3.418259</td>\n",
              "      <td>0.008625</td>\n",
              "      <td>3.383686</td>\n",
              "      <td>0.008962</td>\n",
              "      <td>0.161395</td>\n",
              "      <td>0.057926</td>\n",
              "    </tr>\n",
              "    <tr>\n",
              "      <th>min</th>\n",
              "      <td>2.000000</td>\n",
              "      <td>0.000999</td>\n",
              "      <td>2.000000</td>\n",
              "      <td>0.000999</td>\n",
              "      <td>2.000000</td>\n",
              "      <td>0.001054</td>\n",
              "      <td>-23.713724</td>\n",
              "      <td>-46.741370</td>\n",
              "    </tr>\n",
              "    <tr>\n",
              "      <th>25%</th>\n",
              "      <td>8.500000</td>\n",
              "      <td>0.003311</td>\n",
              "      <td>8.000000</td>\n",
              "      <td>0.003940</td>\n",
              "      <td>8.000000</td>\n",
              "      <td>0.003311</td>\n",
              "      <td>-23.580074</td>\n",
              "      <td>-46.679869</td>\n",
              "    </tr>\n",
              "    <tr>\n",
              "      <th>50%</th>\n",
              "      <td>12.000000</td>\n",
              "      <td>0.006209</td>\n",
              "      <td>12.000000</td>\n",
              "      <td>0.006534</td>\n",
              "      <td>12.000000</td>\n",
              "      <td>0.006534</td>\n",
              "      <td>-23.559216</td>\n",
              "      <td>-46.646123</td>\n",
              "    </tr>\n",
              "    <tr>\n",
              "      <th>75%</th>\n",
              "      <td>14.000000</td>\n",
              "      <td>0.010906</td>\n",
              "      <td>14.000000</td>\n",
              "      <td>0.010701</td>\n",
              "      <td>14.000000</td>\n",
              "      <td>0.010906</td>\n",
              "      <td>-23.534832</td>\n",
              "      <td>-46.587967</td>\n",
              "    </tr>\n",
              "    <tr>\n",
              "      <th>max</th>\n",
              "      <td>16.000000</td>\n",
              "      <td>0.061224</td>\n",
              "      <td>14.000000</td>\n",
              "      <td>0.061224</td>\n",
              "      <td>14.000000</td>\n",
              "      <td>0.061224</td>\n",
              "      <td>-22.070986</td>\n",
              "      <td>-46.458516</td>\n",
              "    </tr>\n",
              "  </tbody>\n",
              "</table>\n",
              "</div>"
            ],
            "text/plain": [
              "       Num_oc_geral_1  Score_geral_1  ...   latitude  longitude\n",
              "count       91.000000      91.000000  ...  91.000000  91.000000\n",
              "mean        10.978022       0.008693  ... -23.544906 -46.633162\n",
              "std          3.319900       0.009333  ...   0.161395   0.057926\n",
              "min          2.000000       0.000999  ... -23.713724 -46.741370\n",
              "25%          8.500000       0.003311  ... -23.580074 -46.679869\n",
              "50%         12.000000       0.006209  ... -23.559216 -46.646123\n",
              "75%         14.000000       0.010906  ... -23.534832 -46.587967\n",
              "max         16.000000       0.061224  ... -22.070986 -46.458516\n",
              "\n",
              "[8 rows x 8 columns]"
            ]
          },
          "metadata": {
            "tags": []
          },
          "execution_count": 28
        }
      ]
    },
    {
      "cell_type": "code",
      "metadata": {
        "id": "Cn7ZjttXBA1A"
      },
      "source": [
        "vdf_scores=vdf"
      ],
      "execution_count": null,
      "outputs": []
    },
    {
      "cell_type": "code",
      "metadata": {
        "id": "-eHD8l29BDZl"
      },
      "source": [
        "del vdf_scores['Num_oc_geral_1']\n",
        "del vdf_scores['Num_oc_geral_2']\n",
        "del vdf_scores['Num_oc_espec_1']\n",
        "del vdf_scores['latitude']\n",
        "del vdf_scores['longitude']"
      ],
      "execution_count": null,
      "outputs": []
    },
    {
      "cell_type": "code",
      "metadata": {
        "colab": {
          "base_uri": "https://localhost:8080/",
          "height": 418
        },
        "id": "HX78fgA-A1jM",
        "outputId": "1235f3c0-2dc8-4cd1-8e8f-79251490bf6d"
      },
      "source": [
        "vdf_scores"
      ],
      "execution_count": null,
      "outputs": [
        {
          "output_type": "execute_result",
          "data": {
            "text/html": [
              "<div>\n",
              "<style scoped>\n",
              "    .dataframe tbody tr th:only-of-type {\n",
              "        vertical-align: middle;\n",
              "    }\n",
              "\n",
              "    .dataframe tbody tr th {\n",
              "        vertical-align: top;\n",
              "    }\n",
              "\n",
              "    .dataframe thead th {\n",
              "        text-align: right;\n",
              "    }\n",
              "</style>\n",
              "<table border=\"1\" class=\"dataframe\">\n",
              "  <thead>\n",
              "    <tr style=\"text-align: right;\">\n",
              "      <th></th>\n",
              "      <th>Score_geral_1</th>\n",
              "      <th>Score_geral_2</th>\n",
              "      <th>Score_espec_1</th>\n",
              "    </tr>\n",
              "  </thead>\n",
              "  <tbody>\n",
              "    <tr>\n",
              "      <th>0</th>\n",
              "      <td>0.022972</td>\n",
              "      <td>0.023334</td>\n",
              "      <td>0.022972</td>\n",
              "    </tr>\n",
              "    <tr>\n",
              "      <th>1</th>\n",
              "      <td>0.002410</td>\n",
              "      <td>0.003012</td>\n",
              "      <td>0.003012</td>\n",
              "    </tr>\n",
              "    <tr>\n",
              "      <th>2</th>\n",
              "      <td>0.061224</td>\n",
              "      <td>0.061224</td>\n",
              "      <td>0.061224</td>\n",
              "    </tr>\n",
              "    <tr>\n",
              "      <th>3</th>\n",
              "      <td>0.012274</td>\n",
              "      <td>0.009149</td>\n",
              "      <td>0.009149</td>\n",
              "    </tr>\n",
              "    <tr>\n",
              "      <th>4</th>\n",
              "      <td>0.003090</td>\n",
              "      <td>0.003090</td>\n",
              "      <td>0.003090</td>\n",
              "    </tr>\n",
              "    <tr>\n",
              "      <th>...</th>\n",
              "      <td>...</td>\n",
              "      <td>...</td>\n",
              "      <td>...</td>\n",
              "    </tr>\n",
              "    <tr>\n",
              "      <th>86</th>\n",
              "      <td>0.002024</td>\n",
              "      <td>0.002079</td>\n",
              "      <td>0.002024</td>\n",
              "    </tr>\n",
              "    <tr>\n",
              "      <th>87</th>\n",
              "      <td>0.003289</td>\n",
              "      <td>0.003289</td>\n",
              "      <td>0.003289</td>\n",
              "    </tr>\n",
              "    <tr>\n",
              "      <th>88</th>\n",
              "      <td>0.010201</td>\n",
              "      <td>0.010191</td>\n",
              "      <td>0.010349</td>\n",
              "    </tr>\n",
              "    <tr>\n",
              "      <th>89</th>\n",
              "      <td>0.003175</td>\n",
              "      <td>0.003130</td>\n",
              "      <td>0.003130</td>\n",
              "    </tr>\n",
              "    <tr>\n",
              "      <th>90</th>\n",
              "      <td>0.013220</td>\n",
              "      <td>0.013220</td>\n",
              "      <td>0.013220</td>\n",
              "    </tr>\n",
              "  </tbody>\n",
              "</table>\n",
              "<p>91 rows × 3 columns</p>\n",
              "</div>"
            ],
            "text/plain": [
              "    Score_geral_1  Score_geral_2  Score_espec_1\n",
              "0        0.022972       0.023334       0.022972\n",
              "1        0.002410       0.003012       0.003012\n",
              "2        0.061224       0.061224       0.061224\n",
              "3        0.012274       0.009149       0.009149\n",
              "4        0.003090       0.003090       0.003090\n",
              "..            ...            ...            ...\n",
              "86       0.002024       0.002079       0.002024\n",
              "87       0.003289       0.003289       0.003289\n",
              "88       0.010201       0.010191       0.010349\n",
              "89       0.003175       0.003130       0.003130\n",
              "90       0.013220       0.013220       0.013220\n",
              "\n",
              "[91 rows x 3 columns]"
            ]
          },
          "metadata": {
            "tags": []
          },
          "execution_count": 34
        }
      ]
    },
    {
      "cell_type": "code",
      "metadata": {
        "colab": {
          "base_uri": "https://localhost:8080/",
          "height": 283
        },
        "id": "5nGtw45p_x7c",
        "outputId": "9cf4c90a-2676-44f2-a0f6-ea067166fe8e"
      },
      "source": [
        "vdf_scores.plot()"
      ],
      "execution_count": null,
      "outputs": [
        {
          "output_type": "execute_result",
          "data": {
            "text/plain": [
              "<matplotlib.axes._subplots.AxesSubplot at 0x7f44d5bbda50>"
            ]
          },
          "metadata": {
            "tags": []
          },
          "execution_count": 35
        },
        {
          "output_type": "display_data",
          "data": {
            "image/png": "[encoded data removed]",
            "text/plain": [
              "<Figure size 432x288 with 1 Axes>"
            ]
          },
          "metadata": {
            "tags": [],
            "needs_background": "light"
          }
        }
      ]
    },
    {
      "cell_type": "code",
      "metadata": {
        "id": "-VJBggqrBOKp"
      },
      "source": [
        "vdf_num_ocur=vdf"
      ],
      "execution_count": null,
      "outputs": []
    },
    {
      "cell_type": "code",
      "metadata": {
        "id": "PuRNvcyGBTw-"
      },
      "source": [
        "del vdf_num_ocur['Score_geral_1']\n",
        "del vdf_num_ocur['Score_geral_2']\n",
        "del vdf_num_ocur['Score_espec_1']\n",
        "del vdf_num_ocur['latitude']\n",
        "del vdf_num_ocur['longitude']"
      ],
      "execution_count": null,
      "outputs": []
    },
    {
      "cell_type": "code",
      "metadata": {
        "colab": {
          "base_uri": "https://localhost:8080/",
          "height": 418
        },
        "id": "iVvokd2FB0J5",
        "outputId": "dc8b51dd-8cdc-4929-9115-9d0a8abc7287"
      },
      "source": [
        "vdf_num_ocur"
      ],
      "execution_count": null,
      "outputs": [
        {
          "output_type": "execute_result",
          "data": {
            "text/html": [
              "<div>\n",
              "<style scoped>\n",
              "    .dataframe tbody tr th:only-of-type {\n",
              "        vertical-align: middle;\n",
              "    }\n",
              "\n",
              "    .dataframe tbody tr th {\n",
              "        vertical-align: top;\n",
              "    }\n",
              "\n",
              "    .dataframe thead th {\n",
              "        text-align: right;\n",
              "    }\n",
              "</style>\n",
              "<table border=\"1\" class=\"dataframe\">\n",
              "  <thead>\n",
              "    <tr style=\"text-align: right;\">\n",
              "      <th></th>\n",
              "      <th>Num_oc_geral_1</th>\n",
              "      <th>Num_oc_geral_2</th>\n",
              "      <th>Num_oc_espec_1</th>\n",
              "    </tr>\n",
              "  </thead>\n",
              "  <tbody>\n",
              "    <tr>\n",
              "      <th>0</th>\n",
              "      <td>10</td>\n",
              "      <td>10</td>\n",
              "      <td>10</td>\n",
              "    </tr>\n",
              "    <tr>\n",
              "      <th>1</th>\n",
              "      <td>11</td>\n",
              "      <td>9</td>\n",
              "      <td>9</td>\n",
              "    </tr>\n",
              "    <tr>\n",
              "      <th>2</th>\n",
              "      <td>2</td>\n",
              "      <td>2</td>\n",
              "      <td>2</td>\n",
              "    </tr>\n",
              "    <tr>\n",
              "      <th>3</th>\n",
              "      <td>5</td>\n",
              "      <td>5</td>\n",
              "      <td>5</td>\n",
              "    </tr>\n",
              "    <tr>\n",
              "      <th>4</th>\n",
              "      <td>13</td>\n",
              "      <td>13</td>\n",
              "      <td>13</td>\n",
              "    </tr>\n",
              "    <tr>\n",
              "      <th>...</th>\n",
              "      <td>...</td>\n",
              "      <td>...</td>\n",
              "      <td>...</td>\n",
              "    </tr>\n",
              "    <tr>\n",
              "      <th>86</th>\n",
              "      <td>14</td>\n",
              "      <td>14</td>\n",
              "      <td>14</td>\n",
              "    </tr>\n",
              "    <tr>\n",
              "      <th>87</th>\n",
              "      <td>9</td>\n",
              "      <td>9</td>\n",
              "      <td>9</td>\n",
              "    </tr>\n",
              "    <tr>\n",
              "      <th>88</th>\n",
              "      <td>14</td>\n",
              "      <td>14</td>\n",
              "      <td>14</td>\n",
              "    </tr>\n",
              "    <tr>\n",
              "      <th>89</th>\n",
              "      <td>10</td>\n",
              "      <td>10</td>\n",
              "      <td>10</td>\n",
              "    </tr>\n",
              "    <tr>\n",
              "      <th>90</th>\n",
              "      <td>14</td>\n",
              "      <td>14</td>\n",
              "      <td>14</td>\n",
              "    </tr>\n",
              "  </tbody>\n",
              "</table>\n",
              "<p>91 rows × 3 columns</p>\n",
              "</div>"
            ],
            "text/plain": [
              "    Num_oc_geral_1  Num_oc_geral_2  Num_oc_espec_1\n",
              "0               10              10              10\n",
              "1               11               9               9\n",
              "2                2               2               2\n",
              "3                5               5               5\n",
              "4               13              13              13\n",
              "..             ...             ...             ...\n",
              "86              14              14              14\n",
              "87               9               9               9\n",
              "88              14              14              14\n",
              "89              10              10              10\n",
              "90              14              14              14\n",
              "\n",
              "[91 rows x 3 columns]"
            ]
          },
          "metadata": {
            "tags": []
          },
          "execution_count": 47
        }
      ]
    },
    {
      "cell_type": "code",
      "metadata": {
        "colab": {
          "base_uri": "https://localhost:8080/",
          "height": 283
        },
        "id": "5PzoCDBfBvcR",
        "outputId": "91091017-9935-485a-fb93-417ed31f736c"
      },
      "source": [
        "vdf_num_ocur.plot()"
      ],
      "execution_count": null,
      "outputs": [
        {
          "output_type": "execute_result",
          "data": {
            "text/plain": [
              "<matplotlib.axes._subplots.AxesSubplot at 0x7f44d552d150>"
            ]
          },
          "metadata": {
            "tags": []
          },
          "execution_count": 47
        },
        {
          "output_type": "display_data",
          "data": {
            "image/png": "[encoded data removed]",
            "text/plain": [
              "<Figure size 432x288 with 1 Axes>"
            ]
          },
          "metadata": {
            "tags": [],
            "needs_background": "light"
          }
        }
      ]
    },
    {
      "cell_type": "markdown",
      "metadata": {
        "id": "3afwVnBJFPBq"
      },
      "source": [
        "## VISUALIZING ON FOLIUM RESULTS"
      ]
    },
    {
      "cell_type": "markdown",
      "metadata": {
        "id": "PERkeXT7ziUG"
      },
      "source": [
        "## FINAL VISUALIZATION WITH KMEANS CLUSTER"
      ]
    },
    {
      "cell_type": "markdown",
      "metadata": {
        "id": "Evfryu0CIA4i"
      },
      "source": [
        "### Mapping from found breweries"
      ]
    },
    {
      "cell_type": "code",
      "metadata": {
        "id": "F5XjR2jPIADV"
      },
      "source": [
        "map_sampa = folium.Map(location=[-23.56247,-46.63039],zoom_start=10)\n",
        "\n",
        "for lat,lng, neighbourhood in zip(df['latitude'],df['longitude'],df['Neighborhood']):\n",
        "    label = '{}'.format(neighbourhood)\n",
        "    label = folium.Popup(label, parse_html=True)\n",
        "    folium.CircleMarker(\n",
        "    [lat,lng],\n",
        "    radius=5,\n",
        "    popup=label,\n",
        "    color='blue',\n",
        "    fill=True,\n",
        "    fill_color='#3186cc',\n",
        "    fill_opacity=0.7,\n",
        "    parse_html=False).add_to(map_sampa)"
      ],
      "execution_count": null,
      "outputs": []
    },
    {
      "cell_type": "code",
      "metadata": {
        "colab": {
          "base_uri": "https://localhost:8080/",
          "height": 968
        },
        "id": "FBKQ6wZWuIve",
        "outputId": "139d4dc2-bc28-482f-d32c-445afe3eb7bd"
      },
      "source": [
        "map_sampa"
      ],
      "execution_count": null,
      "outputs": [
        {
          "output_type": "execute_result",
          "data": {
            "text/html": [
              "<div style=\"width:100%;\"><div style=\"position:relative;width:100%;height:0;padding-bottom:60%;\"><span style=\"color:#565656\">Make this Notebook Trusted to load map: File -> Trust Notebook</span><iframe src=\"about:blank\" style=\"position:absolute;width:100%;height:100%;left:0;top:0;border:none !important;\" data-html=%3C%21DOCTYPE%20html%3E%0A%3Chead%3E%20%20%20%20%0A%20%20%20%20%3Cmeta%20http-equiv%3D%22content-type%22%20content%3D%22text/html%3B%20charset%3DUTF-8%22%20/%3E%0A%20%20%20%20%3Cscript%3EL_PREFER_CANVAS%3Dfalse%3B%20L_NO_TOUCH%3Dfalse%3B%20L_DISABLE_3D%3Dfalse%3B%3C/script%3E%0A%20%20%20%20%3Cscript%20src%3D%22https%3A//cdn.jsdelivr.net/npm/leaflet%401.4.0/dist/leaflet.js%22%3E%3C/script%3E%0A%20%20%20%20%3Cscript%20src%3D%22https%3A//code.jquery.com/jquery-1.12.4.min.js%22%3E%3C/script%3E%0A%20%20%20%20%3Cscript%20src%3D%22https%3A//maxcdn.bootstrapcdn.com/bootstrap/3.2.0/js/bootstrap.min.js%22%3E%3C/script%3E%0A%20%20%20%20%3Cscript%20src%3D%22https%3A//cdnjs.cloudflare.com/ajax/libs/Leaflet.awesome-markers/2.0.2/leaflet.awesome-markers.js%22%3E%3C/script%3E%0A%20%20%20%20%3Clink%20rel%3D%22stylesheet%22%20href%3D%22https%3A//cdn.jsdelivr.net/npm/leaflet%401.4.0/dist/leaflet.css%22/%3E%0A%20%20%20%20%3Clink%20rel%3D%22stylesheet%22%20href%3D%22https%3A//maxcdn.bootstrapcdn.com/bootstrap/3.2.0/css/bootstrap.min.css%22/%3E%0A%20%20%20%20%3Clink%20rel%3D%22stylesheet%22%20href%3D%22https%3A//maxcdn.bootstrapcdn.com/bootstrap/3.2.0/css/bootstrap-theme.min.css%22/%3E%0A%20%20%20%20%3Clink%20rel%3D%22stylesheet%22%20href%3D%22https%3A//maxcdn.bootstrapcdn.com/font-awesome/4.6.3/css/font-awesome.min.css%22/%3E%0A%20%20%20%20%3Clink%20rel%3D%22stylesheet%22%20href%3D%22https%3A//cdnjs.cloudflare.com/ajax/libs/Leaflet.awesome-markers/2.0.2/leaflet.awesome-markers.css%22/%3E%0A%20%20%20%20%3Clink%20rel%3D%22stylesheet%22%20href%3D%22https%3A//rawcdn.githack.com/python-visualization/folium/master/folium/templates/leaflet.awesome.rotate.css%22/%3E%0A%20%20%20%20%3Cstyle%3Ehtml%2C%20body%20%7Bwidth%3A%20100%25%3Bheight%3A%20100%25%3Bmargin%3A%200%3Bpadding%3A%200%3B%7D%3C/style%3E%0A%20%20%20%20%3Cstyle%3E%23map%20%7Bposition%3Aabsolute%3Btop%3A0%3Bbottom%3A0%3Bright%3A0%3Bleft%3A0%3B%7D%3C/style%3E%0A%20%20%20%20%0A%20%20%20%20%3Cmeta%20name%3D%22viewport%22%20content%3D%22width%3Ddevice-width%2C%0A%20%20%20%20%20%20%20%20initial-scale%3D1.0%2C%20maximum-scale%3D1.0%2C%20user-scalable%3Dno%22%20/%3E%0A%20%20%20%20%3Cstyle%3E%23map_b5b67bda42714c19b60ce8993be67a72%20%7B%0A%20%20%20%20%20%20%20%20position%3A%20relative%3B%0A%20%20%20%20%20%20%20%20width%3A%20100.0%25%3B%0A%20%20%20%20%20%20%20%20height%3A%20100.0%25%3B%0A%20%20%20%20%20%20%20%20left%3A%200.0%25%3B%0A%20%20%20%20%20%20%20%20top%3A%200.0%25%3B%0A%20%20%20%20%20%20%20%20%7D%0A%20%20%20%20%3C/style%3E%0A%3C/head%3E%0A%3Cbody%3E%20%20%20%20%0A%20%20%20%20%0A%20%20%20%20%3Cdiv%20class%3D%22folium-map%22%20id%3D%22map_b5b67bda42714c19b60ce8993be67a72%22%20%3E%3C/div%3E%0A%3C/body%3E%0A%3Cscript%3E%20%20%20%20%0A%20%20%20%20%0A%20%20%20%20%0A%20%20%20%20%20%20%20%20var%20bounds%20%3D%20null%3B%0A%20%20%20%20%0A%0A%20%20%20%20var%20map_b5b67bda42714c19b60ce8993be67a72%20%3D%20L.map%28%0A%20%20%20%20%20%20%20%20%27map_b5b67bda42714c19b60ce8993be67a72%27%2C%20%7B%0A%20%20%20%20%20%20%20%20center%3A%20%5B-23.56247%2C%20-46.63039%5D%2C%0A%20%20%20%20%20%20%20%20zoom%3A%2010%2C%0A%20%20%20%20%20%20%20%20maxBounds%3A%20bounds%2C%0A%20%20%20%20%20%20%20%20layers%3A%20%5B%5D%2C%0A%20%20%20%20%20%20%20%20worldCopyJump%3A%20false%2C%0A%20%20%20%20%20%20%20%20crs%3A%20L.CRS.EPSG3857%2C%0A%20%20%20%20%20%20%20%20zoomControl%3A%20true%2C%0A%20%20%20%20%20%20%20%20%7D%29%3B%0A%0A%0A%20%20%20%20%0A%20%20%20%20var%20tile_layer_04cb0b7c08ec4336a450b1593e164553%20%3D%20L.tileLayer%28%0A%20%20%20%20%20%20%20%20%27https%3A//%7Bs%7D.tile.openstreetmap.org/%7Bz%7D/%7Bx%7D/%7By%7D.png%27%2C%0A%20%20%20%20%20%20%20%20%7B%0A%20%20%20%20%20%20%20%20%22attribution%22%3A%20null%2C%0A%20%20%20%20%20%20%20%20%22detectRetina%22%3A%20false%2C%0A%20%20%20%20%20%20%20%20%22maxNativeZoom%22%3A%2018%2C%0A%20%20%20%20%20%20%20%20%22maxZoom%22%3A%2018%2C%0A%20%20%20%20%20%20%20%20%22minZoom%22%3A%200%2C%0A%20%20%20%20%20%20%20%20%22noWrap%22%3A%20false%2C%0A%20%20%20%20%20%20%20%20%22opacity%22%3A%201%2C%0A%20%20%20%20%20%20%20%20%22subdomains%22%3A%20%22abc%22%2C%0A%20%20%20%20%20%20%20%20%22tms%22%3A%20false%0A%7D%29.addTo%28map_b5b67bda42714c19b60ce8993be67a72%29%3B%0A%20%20%20%20%0A%20%20%20%20%20%20%20%20%20%20%20%20var%20circle_marker_b56f1453b83146c3b52435400355709d%20%3D%20L.circleMarker%28%0A%20%20%20%20%20%20%20%20%20%20%20%20%20%20%20%20%5B-23.6198783%2C%20-46.6936771%5D%2C%0A%20%20%20%20%20%20%20%20%20%20%20%20%20%20%20%20%7B%0A%20%20%22bubblingMouseEvents%22%3A%20true%2C%0A%20%20%22color%22%3A%20%22blue%22%2C%0A%20%20%22dashArray%22%3A%20null%2C%0A%20%20%22dashOffset%22%3A%20null%2C%0A%20%20%22fill%22%3A%20true%2C%0A%20%20%22fillColor%22%3A%20%22%233186cc%22%2C%0A%20%20%22fillOpacity%22%3A%200.7%2C%0A%20%20%22fillRule%22%3A%20%22evenodd%22%2C%0A%20%20%22lineCap%22%3A%20%22round%22%2C%0A%20%20%22lineJoin%22%3A%20%22round%22%2C%0A%20%20%22opacity%22%3A%201.0%2C%0A%20%20%22radius%22%3A%205%2C%0A%20%20%22stroke%22%3A%20true%2C%0A%20%20%22weight%22%3A%203%0A%7D%0A%20%20%20%20%20%20%20%20%20%20%20%20%20%20%20%20%29%0A%20%20%20%20%20%20%20%20%20%20%20%20%20%20%20%20.addTo%28map_b5b67bda42714c19b60ce8993be67a72%29%3B%0A%20%20%20%20%20%20%20%20%20%20%20%20%0A%20%20%20%20%0A%20%20%20%20%20%20%20%20%20%20%20%20var%20popup_3d2f2a0666d14e4e9801608f86310777%20%3D%20L.popup%28%7BmaxWidth%3A%20%27100%25%27%0A%20%20%20%20%20%20%20%20%20%20%20%20%0A%20%20%20%20%20%20%20%20%20%20%20%20%7D%29%3B%0A%0A%20%20%20%20%20%20%20%20%20%20%20%20%0A%20%20%20%20%20%20%20%20%20%20%20%20%20%20%20%20var%20html_84fcad9811b64ce2803e6eaf29e0140b%20%3D%20%24%28%60%3Cdiv%20id%3D%22html_84fcad9811b64ce2803e6eaf29e0140b%22%20style%3D%22width%3A%20100.0%25%3B%20height%3A%20100.0%25%3B%22%3E%20%20Vl%20Gertrudes%3C/div%3E%60%29%5B0%5D%3B%0A%20%20%20%20%20%20%20%20%20%20%20%20%20%20%20%20popup_3d2f2a0666d14e4e9801608f86310777.setContent%28html_84fcad9811b64ce2803e6eaf29e0140b%29%3B%0A%20%20%20%20%20%20%20%20%20%20%20%20%0A%0A%20%20%20%20%20%20%20%20%20%20%20%20circle_marker_b56f1453b83146c3b52435400355709d.bindPopup%28popup_3d2f2a0666d14e4e9801608f86310777%29%0A%20%20%20%20%20%20%20%20%20%20%20%20%3B%0A%0A%20%20%20%20%20%20%20%20%20%20%20%20%0A%20%20%20%20%20%20%20%20%0A%20%20%20%20%0A%20%20%20%20%20%20%20%20%20%20%20%20var%20circle_marker_a8220db5053e447db7a01d5f341a595e%20%3D%20L.circleMarker%28%0A%20%20%20%20%20%20%20%20%20%20%20%20%20%20%20%20%5B-23.6125073%2C%20-46.6179285%5D%2C%0A%20%20%20%20%20%20%20%20%20%20%20%20%20%20%20%20%7B%0A%20%20%22bubblingMouseEvents%22%3A%20true%2C%0A%20%20%22color%22%3A%20%22blue%22%2C%0A%20%20%22dashArray%22%3A%20null%2C%0A%20%20%22dashOffset%22%3A%20null%2C%0A%20%20%22fill%22%3A%20true%2C%0A%20%20%22fillColor%22%3A%20%22%233186cc%22%2C%0A%20%20%22fillOpacity%22%3A%200.7%2C%0A%20%20%22fillRule%22%3A%20%22evenodd%22%2C%0A%20%20%22lineCap%22%3A%20%22round%22%2C%0A%20%20%22lineJoin%22%3A%20%22round%22%2C%0A%20%20%22opacity%22%3A%201.0%2C%0A%20%20%22radius%22%3A%205%2C%0A%20%20%22stroke%22%3A%20true%2C%0A%20%20%22weight%22%3A%203%0A%7D%0A%20%20%20%20%20%20%20%20%20%20%20%20%20%20%20%20%29%0A%20%20%20%20%20%20%20%20%20%20%20%20%20%20%20%20.addTo%28map_b5b67bda42714c19b60ce8993be67a72%29%3B%0A%20%20%20%20%20%20%20%20%20%20%20%20%0A%20%20%20%20%0A%20%20%20%20%20%20%20%20%20%20%20%20var%20popup_7c9ab090173b409087ce846b434ef034%20%3D%20L.popup%28%7BmaxWidth%3A%20%27100%25%27%0A%20%20%20%20%20%20%20%20%20%20%20%20%0A%20%20%20%20%20%20%20%20%20%20%20%20%7D%29%3B%0A%0A%20%20%20%20%20%20%20%20%20%20%20%20%0A%20%20%20%20%20%20%20%20%20%20%20%20%20%20%20%20var%20html_835b2304313f471780edf0184b68d32b%20%3D%20%24%28%60%3Cdiv%20id%3D%22html_835b2304313f471780edf0184b68d32b%22%20style%3D%22width%3A%20100.0%25%3B%20height%3A%20100.0%25%3B%22%3E%20%20Bosque%20da%20Sa%C3%BAde%3C/div%3E%60%29%5B0%5D%3B%0A%20%20%20%20%20%20%20%20%20%20%20%20%20%20%20%20popup_7c9ab090173b409087ce846b434ef034.setContent%28html_835b2304313f471780edf0184b68d32b%29%3B%0A%20%20%20%20%20%20%20%20%20%20%20%20%0A%0A%20%20%20%20%20%20%20%20%20%20%20%20circle_marker_a8220db5053e447db7a01d5f341a595e.bindPopup%28popup_7c9ab090173b409087ce846b434ef034%29%0A%20%20%20%20%20%20%20%20%20%20%20%20%3B%0A%0A%20%20%20%20%20%20%20%20%20%20%20%20%0A%20%20%20%20%20%20%20%20%0A%20%20%20%20%0A%20%20%20%20%20%20%20%20%20%20%20%20var%20circle_marker_97d329d352a74bc8b0703ae85b2d4879%20%3D%20L.circleMarker%28%0A%20%20%20%20%20%20%20%20%20%20%20%20%20%20%20%20%5B-23.5705533%2C%20-46.6435249%5D%2C%0A%20%20%20%20%20%20%20%20%20%20%20%20%20%20%20%20%7B%0A%20%20%22bubblingMouseEvents%22%3A%20true%2C%0A%20%20%22color%22%3A%20%22blue%22%2C%0A%20%20%22dashArray%22%3A%20null%2C%0A%20%20%22dashOffset%22%3A%20null%2C%0A%20%20%22fill%22%3A%20true%2C%0A%20%20%22fillColor%22%3A%20%22%233186cc%22%2C%0A%20%20%22fillOpacity%22%3A%200.7%2C%0A%20%20%22fillRule%22%3A%20%22evenodd%22%2C%0A%20%20%22lineCap%22%3A%20%22round%22%2C%0A%20%20%22lineJoin%22%3A%20%22round%22%2C%0A%20%20%22opacity%22%3A%201.0%2C%0A%20%20%22radius%22%3A%205%2C%0A%20%20%22stroke%22%3A%20true%2C%0A%20%20%22weight%22%3A%203%0A%7D%0A%20%20%20%20%20%20%20%20%20%20%20%20%20%20%20%20%29%0A%20%20%20%20%20%20%20%20%20%20%20%20%20%20%20%20.addTo%28map_b5b67bda42714c19b60ce8993be67a72%29%3B%0A%20%20%20%20%20%20%20%20%20%20%20%20%0A%20%20%20%20%0A%20%20%20%20%20%20%20%20%20%20%20%20var%20popup_d36e8756444c49f4bfedb582b1e4db0f%20%3D%20L.popup%28%7BmaxWidth%3A%20%27100%25%27%0A%20%20%20%20%20%20%20%20%20%20%20%20%0A%20%20%20%20%20%20%20%20%20%20%20%20%7D%29%3B%0A%0A%20%20%20%20%20%20%20%20%20%20%20%20%0A%20%20%20%20%20%20%20%20%20%20%20%20%20%20%20%20var%20html_4bfa7a21da294f80a1d652c0f469efde%20%3D%20%24%28%60%3Cdiv%20id%3D%22html_4bfa7a21da294f80a1d652c0f469efde%22%20style%3D%22width%3A%20100.0%25%3B%20height%3A%20100.0%25%3B%22%3E%20Lj%20423%20%20Bela%20Vista%3C/div%3E%60%29%5B0%5D%3B%0A%20%20%20%20%20%20%20%20%20%20%20%20%20%20%20%20popup_d36e8756444c49f4bfedb582b1e4db0f.setContent%28html_4bfa7a21da294f80a1d652c0f469efde%29%3B%0A%20%20%20%20%20%20%20%20%20%20%20%20%0A%0A%20%20%20%20%20%20%20%20%20%20%20%20circle_marker_97d329d352a74bc8b0703ae85b2d4879.bindPopup%28popup_d36e8756444c49f4bfedb582b1e4db0f%29%0A%20%20%20%20%20%20%20%20%20%20%20%20%3B%0A%0A%20%20%20%20%20%20%20%20%20%20%20%20%0A%20%20%20%20%20%20%20%20%0A%20%20%20%20%0A%20%20%20%20%20%20%20%20%20%20%20%20var%20circle_marker_1614be8b7c244e18aed3036c641f17d7%20%3D%20L.circleMarker%28%0A%20%20%20%20%20%20%20%20%20%20%20%20%20%20%20%20%5B-23.5463366%2C%20-46.640149%5D%2C%0A%20%20%20%20%20%20%20%20%20%20%20%20%20%20%20%20%7B%0A%20%20%22bubblingMouseEvents%22%3A%20true%2C%0A%20%20%22color%22%3A%20%22blue%22%2C%0A%20%20%22dashArray%22%3A%20null%2C%0A%20%20%22dashOffset%22%3A%20null%2C%0A%20%20%22fill%22%3A%20true%2C%0A%20%20%22fillColor%22%3A%20%22%233186cc%22%2C%0A%20%20%22fillOpacity%22%3A%200.7%2C%0A%20%20%22fillRule%22%3A%20%22evenodd%22%2C%0A%20%20%22lineCap%22%3A%20%22round%22%2C%0A%20%20%22lineJoin%22%3A%20%22round%22%2C%0A%20%20%22opacity%22%3A%201.0%2C%0A%20%20%22radius%22%3A%205%2C%0A%20%20%22stroke%22%3A%20true%2C%0A%20%20%22weight%22%3A%203%0A%7D%0A%20%20%20%20%20%20%20%20%20%20%20%20%20%20%20%20%29%0A%20%20%20%20%20%20%20%20%20%20%20%20%20%20%20%20.addTo%28map_b5b67bda42714c19b60ce8993be67a72%29%3B%0A%20%20%20%20%20%20%20%20%20%20%20%20%0A%20%20%20%20%0A%20%20%20%20%20%20%20%20%20%20%20%20var%20popup_edc84a1f7af840daba622270cc0bd6a0%20%3D%20L.popup%28%7BmaxWidth%3A%20%27100%25%27%0A%20%20%20%20%20%20%20%20%20%20%20%20%0A%20%20%20%20%20%20%20%20%20%20%20%20%7D%29%3B%0A%0A%20%20%20%20%20%20%20%20%20%20%20%20%0A%20%20%20%20%20%20%20%20%20%20%20%20%20%20%20%20var%20html_75d2f4e0a7d7499981087352ef3b8587%20%3D%20%24%28%60%3Cdiv%20id%3D%22html_75d2f4e0a7d7499981087352ef3b8587%22%20style%3D%22width%3A%20100.0%25%3B%20height%3A%20100.0%25%3B%22%3E%20%20S%C3%A9%3C/div%3E%60%29%5B0%5D%3B%0A%20%20%20%20%20%20%20%20%20%20%20%20%20%20%20%20popup_edc84a1f7af840daba622270cc0bd6a0.setContent%28html_75d2f4e0a7d7499981087352ef3b8587%29%3B%0A%20%20%20%20%20%20%20%20%20%20%20%20%0A%0A%20%20%20%20%20%20%20%20%20%20%20%20circle_marker_1614be8b7c244e18aed3036c641f17d7.bindPopup%28popup_edc84a1f7af840daba622270cc0bd6a0%29%0A%20%20%20%20%20%20%20%20%20%20%20%20%3B%0A%0A%20%20%20%20%20%20%20%20%20%20%20%20%0A%20%20%20%20%20%20%20%20%0A%20%20%20%20%0A%20%20%20%20%20%20%20%20%20%20%20%20var%20circle_marker_057479445bc14b1eb4e194d929d16bcc%20%3D%20L.circleMarker%28%0A%20%20%20%20%20%20%20%20%20%20%20%20%20%20%20%20%5B-23.5129523%2C%20-46.6586286%5D%2C%0A%20%20%20%20%20%20%20%20%20%20%20%20%20%20%20%20%7B%0A%20%20%22bubblingMouseEvents%22%3A%20true%2C%0A%20%20%22color%22%3A%20%22blue%22%2C%0A%20%20%22dashArray%22%3A%20null%2C%0A%20%20%22dashOffset%22%3A%20null%2C%0A%20%20%22fill%22%3A%20true%2C%0A%20%20%22fillColor%22%3A%20%22%233186cc%22%2C%0A%20%20%22fillOpacity%22%3A%200.7%2C%0A%20%20%22fillRule%22%3A%20%22evenodd%22%2C%0A%20%20%22lineCap%22%3A%20%22round%22%2C%0A%20%20%22lineJoin%22%3A%20%22round%22%2C%0A%20%20%22opacity%22%3A%201.0%2C%0A%20%20%22radius%22%3A%205%2C%0A%20%20%22stroke%22%3A%20true%2C%0A%20%20%22weight%22%3A%203%0A%7D%0A%20%20%20%20%20%20%20%20%20%20%20%20%20%20%20%20%29%0A%20%20%20%20%20%20%20%20%20%20%20%20%20%20%20%20.addTo%28map_b5b67bda42714c19b60ce8993be67a72%29%3B%0A%20%20%20%20%20%20%20%20%20%20%20%20%0A%20%20%20%20%0A%20%20%20%20%20%20%20%20%20%20%20%20var%20popup_cd8d6de3d4af4d89b497be612a8ef8ec%20%3D%20L.popup%28%7BmaxWidth%3A%20%27100%25%27%0A%20%20%20%20%20%20%20%20%20%20%20%20%0A%20%20%20%20%20%20%20%20%20%20%20%20%7D%29%3B%0A%0A%20%20%20%20%20%20%20%20%20%20%20%20%0A%20%20%20%20%20%20%20%20%20%20%20%20%20%20%20%20var%20html_9f394ad389da4a86ab1e125ac40a32cc%20%3D%20%24%28%60%3Cdiv%20id%3D%22html_9f394ad389da4a86ab1e125ac40a32cc%22%20style%3D%22width%3A%20100.0%25%3B%20height%3A%20100.0%25%3B%22%3E%20Ap%20102%20%20Casa%20Verde%20Baixa%3C/div%3E%60%29%5B0%5D%3B%0A%20%20%20%20%20%20%20%20%20%20%20%20%20%20%20%20popup_cd8d6de3d4af4d89b497be612a8ef8ec.setContent%28html_9f394ad389da4a86ab1e125ac40a32cc%29%3B%0A%20%20%20%20%20%20%20%20%20%20%20%20%0A%0A%20%20%20%20%20%20%20%20%20%20%20%20circle_marker_057479445bc14b1eb4e194d929d16bcc.bindPopup%28popup_cd8d6de3d4af4d89b497be612a8ef8ec%29%0A%20%20%20%20%20%20%20%20%20%20%20%20%3B%0A%0A%20%20%20%20%20%20%20%20%20%20%20%20%0A%20%20%20%20%20%20%20%20%0A%20%20%20%20%0A%20%20%20%20%20%20%20%20%20%20%20%20var%20circle_marker_e087e90d15ff4873b4e7607944a4b41e%20%3D%20L.circleMarker%28%0A%20%20%20%20%20%20%20%20%20%20%20%20%20%20%20%20%5B-23.5238573%2C%20-46.7374961%5D%2C%0A%20%20%20%20%20%20%20%20%20%20%20%20%20%20%20%20%7B%0A%20%20%22bubblingMouseEvents%22%3A%20true%2C%0A%20%20%22color%22%3A%20%22blue%22%2C%0A%20%20%22dashArray%22%3A%20null%2C%0A%20%20%22dashOffset%22%3A%20null%2C%0A%20%20%22fill%22%3A%20true%2C%0A%20%20%22fillColor%22%3A%20%22%233186cc%22%2C%0A%20%20%22fillOpacity%22%3A%200.7%2C%0A%20%20%22fillRule%22%3A%20%22evenodd%22%2C%0A%20%20%22lineCap%22%3A%20%22round%22%2C%0A%20%20%22lineJoin%22%3A%20%22round%22%2C%0A%20%20%22opacity%22%3A%201.0%2C%0A%20%20%22radius%22%3A%205%2C%0A%20%20%22stroke%22%3A%20true%2C%0A%20%20%22weight%22%3A%203%0A%7D%0A%20%20%20%20%20%20%20%20%20%20%20%20%20%20%20%20%29%0A%20%20%20%20%20%20%20%20%20%20%20%20%20%20%20%20.addTo%28map_b5b67bda42714c19b60ce8993be67a72%29%3B%0A%20%20%20%20%20%20%20%20%20%20%20%20%0A%20%20%20%20%0A%20%20%20%20%20%20%20%20%20%20%20%20var%20popup_2ab947834574429eadf4ec91f5ca85ba%20%3D%20L.popup%28%7BmaxWidth%3A%20%27100%25%27%0A%20%20%20%20%20%20%20%20%20%20%20%20%0A%20%20%20%20%20%20%20%20%20%20%20%20%7D%29%3B%0A%0A%20%20%20%20%20%20%20%20%20%20%20%20%0A%20%20%20%20%20%20%20%20%20%20%20%20%20%20%20%20var%20html_3714148ffcdc4501afd622a6c2cd39ae%20%3D%20%24%28%60%3Cdiv%20id%3D%22html_3714148ffcdc4501afd622a6c2cd39ae%22%20style%3D%22width%3A%20100.0%25%3B%20height%3A%20100.0%25%3B%22%3E%20%20Vl%20Leopoldina%3C/div%3E%60%29%5B0%5D%3B%0A%20%20%20%20%20%20%20%20%20%20%20%20%20%20%20%20popup_2ab947834574429eadf4ec91f5ca85ba.setContent%28html_3714148ffcdc4501afd622a6c2cd39ae%29%3B%0A%20%20%20%20%20%20%20%20%20%20%20%20%0A%0A%20%20%20%20%20%20%20%20%20%20%20%20circle_marker_e087e90d15ff4873b4e7607944a4b41e.bindPopup%28popup_2ab947834574429eadf4ec91f5ca85ba%29%0A%20%20%20%20%20%20%20%20%20%20%20%20%3B%0A%0A%20%20%20%20%20%20%20%20%20%20%20%20%0A%20%20%20%20%20%20%20%20%0A%20%20%20%20%0A%20%20%20%20%20%20%20%20%20%20%20%20var%20circle_marker_a135a0a317ba4a2e92e2fdbef5e476c9%20%3D%20L.circleMarker%28%0A%20%20%20%20%20%20%20%20%20%20%20%20%20%20%20%20%5B-23.5599621%2C%20-46.6892798%5D%2C%0A%20%20%20%20%20%20%20%20%20%20%20%20%20%20%20%20%7B%0A%20%20%22bubblingMouseEvents%22%3A%20true%2C%0A%20%20%22color%22%3A%20%22blue%22%2C%0A%20%20%22dashArray%22%3A%20null%2C%0A%20%20%22dashOffset%22%3A%20null%2C%0A%20%20%22fill%22%3A%20true%2C%0A%20%20%22fillColor%22%3A%20%22%233186cc%22%2C%0A%20%20%22fillOpacity%22%3A%200.7%2C%0A%20%20%22fillRule%22%3A%20%22evenodd%22%2C%0A%20%20%22lineCap%22%3A%20%22round%22%2C%0A%20%20%22lineJoin%22%3A%20%22round%22%2C%0A%20%20%22opacity%22%3A%201.0%2C%0A%20%20%22radius%22%3A%205%2C%0A%20%20%22stroke%22%3A%20true%2C%0A%20%20%22weight%22%3A%203%0A%7D%0A%20%20%20%20%20%20%20%20%20%20%20%20%20%20%20%20%29%0A%20%20%20%20%20%20%20%20%20%20%20%20%20%20%20%20.addTo%28map_b5b67bda42714c19b60ce8993be67a72%29%3B%0A%20%20%20%20%20%20%20%20%20%20%20%20%0A%20%20%20%20%0A%20%20%20%20%20%20%20%20%20%20%20%20var%20popup_a7f918b49d874e70bace221ae042ec21%20%3D%20L.popup%28%7BmaxWidth%3A%20%27100%25%27%0A%20%20%20%20%20%20%20%20%20%20%20%20%0A%20%20%20%20%20%20%20%20%20%20%20%20%7D%29%3B%0A%0A%20%20%20%20%20%20%20%20%20%20%20%20%0A%20%20%20%20%20%20%20%20%20%20%20%20%20%20%20%20var%20html_5f4ceda1f957431497052d9d78cee552%20%3D%20%24%28%60%3Cdiv%20id%3D%22html_5f4ceda1f957431497052d9d78cee552%22%20style%3D%22width%3A%20100.0%25%3B%20height%3A%20100.0%25%3B%22%3E%20%20Pinheiros%3C/div%3E%60%29%5B0%5D%3B%0A%20%20%20%20%20%20%20%20%20%20%20%20%20%20%20%20popup_a7f918b49d874e70bace221ae042ec21.setContent%28html_5f4ceda1f957431497052d9d78cee552%29%3B%0A%20%20%20%20%20%20%20%20%20%20%20%20%0A%0A%20%20%20%20%20%20%20%20%20%20%20%20circle_marker_a135a0a317ba4a2e92e2fdbef5e476c9.bindPopup%28popup_a7f918b49d874e70bace221ae042ec21%29%0A%20%20%20%20%20%20%20%20%20%20%20%20%3B%0A%0A%20%20%20%20%20%20%20%20%20%20%20%20%0A%20%20%20%20%20%20%20%20%0A%20%20%20%20%0A%20%20%20%20%20%20%20%20%20%20%20%20var%20circle_marker_be92e83011db4341afdf3b14e1af858a%20%3D%20L.circleMarker%28%0A%20%20%20%20%20%20%20%20%20%20%20%20%20%20%20%20%5B-23.5618321%2C%20-46.5971704%5D%2C%0A%20%20%20%20%20%20%20%20%20%20%20%20%20%20%20%20%7B%0A%20%20%22bubblingMouseEvents%22%3A%20true%2C%0A%20%20%22color%22%3A%20%22blue%22%2C%0A%20%20%22dashArray%22%3A%20null%2C%0A%20%20%22dashOffset%22%3A%20null%2C%0A%20%20%22fill%22%3A%20true%2C%0A%20%20%22fillColor%22%3A%20%22%233186cc%22%2C%0A%20%20%22fillOpacity%22%3A%200.7%2C%0A%20%20%22fillRule%22%3A%20%22evenodd%22%2C%0A%20%20%22lineCap%22%3A%20%22round%22%2C%0A%20%20%22lineJoin%22%3A%20%22round%22%2C%0A%20%20%22opacity%22%3A%201.0%2C%0A%20%20%22radius%22%3A%205%2C%0A%20%20%22stroke%22%3A%20true%2C%0A%20%20%22weight%22%3A%203%0A%7D%0A%20%20%20%20%20%20%20%20%20%20%20%20%20%20%20%20%29%0A%20%20%20%20%20%20%20%20%20%20%20%20%20%20%20%20.addTo%28map_b5b67bda42714c19b60ce8993be67a72%29%3B%0A%20%20%20%20%20%20%20%20%20%20%20%20%0A%20%20%20%20%0A%20%20%20%20%20%20%20%20%20%20%20%20var%20popup_f238b9c3431548c2817cb2f3d5cb38a5%20%3D%20L.popup%28%7BmaxWidth%3A%20%27100%25%27%0A%20%20%20%20%20%20%20%20%20%20%20%20%0A%20%20%20%20%20%20%20%20%20%20%20%20%7D%29%3B%0A%0A%20%20%20%20%20%20%20%20%20%20%20%20%0A%20%20%20%20%20%20%20%20%20%20%20%20%20%20%20%20var%20html_19023b5b827c4227b1c660a2345ae31d%20%3D%20%24%28%60%3Cdiv%20id%3D%22html_19023b5b827c4227b1c660a2345ae31d%22%20style%3D%22width%3A%20100.0%25%3B%20height%3A%20100.0%25%3B%22%3E%20%20Mooca%3C/div%3E%60%29%5B0%5D%3B%0A%20%20%20%20%20%20%20%20%20%20%20%20%20%20%20%20popup_f238b9c3431548c2817cb2f3d5cb38a5.setContent%28html_19023b5b827c4227b1c660a2345ae31d%29%3B%0A%20%20%20%20%20%20%20%20%20%20%20%20%0A%0A%20%20%20%20%20%20%20%20%20%20%20%20circle_marker_be92e83011db4341afdf3b14e1af858a.bindPopup%28popup_f238b9c3431548c2817cb2f3d5cb38a5%29%0A%20%20%20%20%20%20%20%20%20%20%20%20%3B%0A%0A%20%20%20%20%20%20%20%20%20%20%20%20%0A%20%20%20%20%20%20%20%20%0A%20%20%20%20%0A%20%20%20%20%20%20%20%20%20%20%20%20var%20circle_marker_f53fc82668724ab296ddd33b910b67dd%20%3D%20L.circleMarker%28%0A%20%20%20%20%20%20%20%20%20%20%20%20%20%20%20%20%5B-23.5281629%2C%20-46.6177882%5D%2C%0A%20%20%20%20%20%20%20%20%20%20%20%20%20%20%20%20%7B%0A%20%20%22bubblingMouseEvents%22%3A%20true%2C%0A%20%20%22color%22%3A%20%22blue%22%2C%0A%20%20%22dashArray%22%3A%20null%2C%0A%20%20%22dashOffset%22%3A%20null%2C%0A%20%20%22fill%22%3A%20true%2C%0A%20%20%22fillColor%22%3A%20%22%233186cc%22%2C%0A%20%20%22fillOpacity%22%3A%200.7%2C%0A%20%20%22fillRule%22%3A%20%22evenodd%22%2C%0A%20%20%22lineCap%22%3A%20%22round%22%2C%0A%20%20%22lineJoin%22%3A%20%22round%22%2C%0A%20%20%22opacity%22%3A%201.0%2C%0A%20%20%22radius%22%3A%205%2C%0A%20%20%22stroke%22%3A%20true%2C%0A%20%20%22weight%22%3A%203%0A%7D%0A%20%20%20%20%20%20%20%20%20%20%20%20%20%20%20%20%29%0A%20%20%20%20%20%20%20%20%20%20%20%20%20%20%20%20.addTo%28map_b5b67bda42714c19b60ce8993be67a72%29%3B%0A%20%20%20%20%20%20%20%20%20%20%20%20%0A%20%20%20%20%0A%20%20%20%20%20%20%20%20%20%20%20%20var%20popup_dc9ffbe6585d40a29c48a81ce9769a9d%20%3D%20L.popup%28%7BmaxWidth%3A%20%27100%25%27%0A%20%20%20%20%20%20%20%20%20%20%20%20%0A%20%20%20%20%20%20%20%20%20%20%20%20%7D%29%3B%0A%0A%20%20%20%20%20%20%20%20%20%20%20%20%0A%20%20%20%20%20%20%20%20%20%20%20%20%20%20%20%20var%20html_c876ee453659442294e72fabae7f232b%20%3D%20%24%28%60%3Cdiv%20id%3D%22html_c876ee453659442294e72fabae7f232b%22%20style%3D%22width%3A%20100.0%25%3B%20height%3A%20100.0%25%3B%22%3E%20Sb%20%20Caninde%3C/div%3E%60%29%5B0%5D%3B%0A%20%20%20%20%20%20%20%20%20%20%20%20%20%20%20%20popup_dc9ffbe6585d40a29c48a81ce9769a9d.setContent%28html_c876ee453659442294e72fabae7f232b%29%3B%0A%20%20%20%20%20%20%20%20%20%20%20%20%0A%0A%20%20%20%20%20%20%20%20%20%20%20%20circle_marker_f53fc82668724ab296ddd33b910b67dd.bindPopup%28popup_dc9ffbe6585d40a29c48a81ce9769a9d%29%0A%20%20%20%20%20%20%20%20%20%20%20%20%3B%0A%0A%20%20%20%20%20%20%20%20%20%20%20%20%0A%20%20%20%20%20%20%20%20%0A%20%20%20%20%0A%20%20%20%20%20%20%20%20%20%20%20%20var%20circle_marker_03f3a0c625f54297ac013f68b4854643%20%3D%20L.circleMarker%28%0A%20%20%20%20%20%20%20%20%20%20%20%20%20%20%20%20%5B-23.527016%2C%20-46.6750091%5D%2C%0A%20%20%20%20%20%20%20%20%20%20%20%20%20%20%20%20%7B%0A%20%20%22bubblingMouseEvents%22%3A%20true%2C%0A%20%20%22color%22%3A%20%22blue%22%2C%0A%20%20%22dashArray%22%3A%20null%2C%0A%20%20%22dashOffset%22%3A%20null%2C%0A%20%20%22fill%22%3A%20true%2C%0A%20%20%22fillColor%22%3A%20%22%233186cc%22%2C%0A%20%20%22fillOpacity%22%3A%200.7%2C%0A%20%20%22fillRule%22%3A%20%22evenodd%22%2C%0A%20%20%22lineCap%22%3A%20%22round%22%2C%0A%20%20%22lineJoin%22%3A%20%22round%22%2C%0A%20%20%22opacity%22%3A%201.0%2C%0A%20%20%22radius%22%3A%205%2C%0A%20%20%22stroke%22%3A%20true%2C%0A%20%20%22weight%22%3A%203%0A%7D%0A%20%20%20%20%20%20%20%20%20%20%20%20%20%20%20%20%29%0A%20%20%20%20%20%20%20%20%20%20%20%20%20%20%20%20.addTo%28map_b5b67bda42714c19b60ce8993be67a72%29%3B%0A%20%20%20%20%20%20%20%20%20%20%20%20%0A%20%20%20%20%0A%20%20%20%20%20%20%20%20%20%20%20%20var%20popup_b11ed9e895e54dcfa0b1e66b5fdf00ad%20%3D%20L.popup%28%7BmaxWidth%3A%20%27100%25%27%0A%20%20%20%20%20%20%20%20%20%20%20%20%0A%20%20%20%20%20%20%20%20%20%20%20%20%7D%29%3B%0A%0A%20%20%20%20%20%20%20%20%20%20%20%20%0A%20%20%20%20%20%20%20%20%20%20%20%20%20%20%20%20var%20html_d08ad11b4e3b41349f4d899a0042d260%20%3D%20%24%28%60%3Cdiv%20id%3D%22html_d08ad11b4e3b41349f4d899a0042d260%22%20style%3D%22width%3A%20100.0%25%3B%20height%3A%20100.0%25%3B%22%3E%20%20%C3%81gua%20Branca%3C/div%3E%60%29%5B0%5D%3B%0A%20%20%20%20%20%20%20%20%20%20%20%20%20%20%20%20popup_b11ed9e895e54dcfa0b1e66b5fdf00ad.setContent%28html_d08ad11b4e3b41349f4d899a0042d260%29%3B%0A%20%20%20%20%20%20%20%20%20%20%20%20%0A%0A%20%20%20%20%20%20%20%20%20%20%20%20circle_marker_03f3a0c625f54297ac013f68b4854643.bindPopup%28popup_b11ed9e895e54dcfa0b1e66b5fdf00ad%29%0A%20%20%20%20%20%20%20%20%20%20%20%20%3B%0A%0A%20%20%20%20%20%20%20%20%20%20%20%20%0A%20%20%20%20%20%20%20%20%0A%20%20%20%20%0A%20%20%20%20%20%20%20%20%20%20%20%20var%20circle_marker_5ebba73de341427fa1bf0a973b3b5096%20%3D%20L.circleMarker%28%0A%20%20%20%20%20%20%20%20%20%20%20%20%20%20%20%20%5B-23.5446441%2C%20-46.5717326%5D%2C%0A%20%20%20%20%20%20%20%20%20%20%20%20%20%20%20%20%7B%0A%20%20%22bubblingMouseEvents%22%3A%20true%2C%0A%20%20%22color%22%3A%20%22blue%22%2C%0A%20%20%22dashArray%22%3A%20null%2C%0A%20%20%22dashOffset%22%3A%20null%2C%0A%20%20%22fill%22%3A%20true%2C%0A%20%20%22fillColor%22%3A%20%22%233186cc%22%2C%0A%20%20%22fillOpacity%22%3A%200.7%2C%0A%20%20%22fillRule%22%3A%20%22evenodd%22%2C%0A%20%20%22lineCap%22%3A%20%22round%22%2C%0A%20%20%22lineJoin%22%3A%20%22round%22%2C%0A%20%20%22opacity%22%3A%201.0%2C%0A%20%20%22radius%22%3A%205%2C%0A%20%20%22stroke%22%3A%20true%2C%0A%20%20%22weight%22%3A%203%0A%7D%0A%20%20%20%20%20%20%20%20%20%20%20%20%20%20%20%20%29%0A%20%20%20%20%20%20%20%20%20%20%20%20%20%20%20%20.addTo%28map_b5b67bda42714c19b60ce8993be67a72%29%3B%0A%20%20%20%20%20%20%20%20%20%20%20%20%0A%20%20%20%20%0A%20%20%20%20%20%20%20%20%20%20%20%20var%20popup_4f382674c4624c21aa4a4bebab3b71ae%20%3D%20L.popup%28%7BmaxWidth%3A%20%27100%25%27%0A%20%20%20%20%20%20%20%20%20%20%20%20%0A%20%20%20%20%20%20%20%20%20%20%20%20%7D%29%3B%0A%0A%20%20%20%20%20%20%20%20%20%20%20%20%0A%20%20%20%20%20%20%20%20%20%20%20%20%20%20%20%20var%20html_76bcb08a81094e6bb8f9a7a3018ac859%20%3D%20%24%28%60%3Cdiv%20id%3D%22html_76bcb08a81094e6bb8f9a7a3018ac859%22%20style%3D%22width%3A%20100.0%25%3B%20height%3A%20100.0%25%3B%22%3E%20%20%3C/div%3E%60%29%5B0%5D%3B%0A%20%20%20%20%20%20%20%20%20%20%20%20%20%20%20%20popup_4f382674c4624c21aa4a4bebab3b71ae.setContent%28html_76bcb08a81094e6bb8f9a7a3018ac859%29%3B%0A%20%20%20%20%20%20%20%20%20%20%20%20%0A%0A%20%20%20%20%20%20%20%20%20%20%20%20circle_marker_5ebba73de341427fa1bf0a973b3b5096.bindPopup%28popup_4f382674c4624c21aa4a4bebab3b71ae%29%0A%20%20%20%20%20%20%20%20%20%20%20%20%3B%0A%0A%20%20%20%20%20%20%20%20%20%20%20%20%0A%20%20%20%20%20%20%20%20%0A%20%20%20%20%0A%20%20%20%20%20%20%20%20%20%20%20%20var%20circle_marker_6a3e5941ecd540979fe692ab65cb7280%20%3D%20L.circleMarker%28%0A%20%20%20%20%20%20%20%20%20%20%20%20%20%20%20%20%5B-23.5453045%2C%20-46.5691493%5D%2C%0A%20%20%20%20%20%20%20%20%20%20%20%20%20%20%20%20%7B%0A%20%20%22bubblingMouseEvents%22%3A%20true%2C%0A%20%20%22color%22%3A%20%22blue%22%2C%0A%20%20%22dashArray%22%3A%20null%2C%0A%20%20%22dashOffset%22%3A%20null%2C%0A%20%20%22fill%22%3A%20true%2C%0A%20%20%22fillColor%22%3A%20%22%233186cc%22%2C%0A%20%20%22fillOpacity%22%3A%200.7%2C%0A%20%20%22fillRule%22%3A%20%22evenodd%22%2C%0A%20%20%22lineCap%22%3A%20%22round%22%2C%0A%20%20%22lineJoin%22%3A%20%22round%22%2C%0A%20%20%22opacity%22%3A%201.0%2C%0A%20%20%22radius%22%3A%205%2C%0A%20%20%22stroke%22%3A%20true%2C%0A%20%20%22weight%22%3A%203%0A%7D%0A%20%20%20%20%20%20%20%20%20%20%20%20%20%20%20%20%29%0A%20%20%20%20%20%20%20%20%20%20%20%20%20%20%20%20.addTo%28map_b5b67bda42714c19b60ce8993be67a72%29%3B%0A%20%20%20%20%20%20%20%20%20%20%20%20%0A%20%20%20%20%0A%20%20%20%20%20%20%20%20%20%20%20%20var%20popup_b3de03d2df784abdb21477ce9ebbd372%20%3D%20L.popup%28%7BmaxWidth%3A%20%27100%25%27%0A%20%20%20%20%20%20%20%20%20%20%20%20%0A%20%20%20%20%20%20%20%20%20%20%20%20%7D%29%3B%0A%0A%20%20%20%20%20%20%20%20%20%20%20%20%0A%20%20%20%20%20%20%20%20%20%20%20%20%20%20%20%20var%20html_3906f07b3ca14063beb1cffbba06a10b%20%3D%20%24%28%60%3Cdiv%20id%3D%22html_3906f07b3ca14063beb1cffbba06a10b%22%20style%3D%22width%3A%20100.0%25%3B%20height%3A%20100.0%25%3B%22%3E%20%20%3C/div%3E%60%29%5B0%5D%3B%0A%20%20%20%20%20%20%20%20%20%20%20%20%20%20%20%20popup_b3de03d2df784abdb21477ce9ebbd372.setContent%28html_3906f07b3ca14063beb1cffbba06a10b%29%3B%0A%20%20%20%20%20%20%20%20%20%20%20%20%0A%0A%20%20%20%20%20%20%20%20%20%20%20%20circle_marker_6a3e5941ecd540979fe692ab65cb7280.bindPopup%28popup_b3de03d2df784abdb21477ce9ebbd372%29%0A%20%20%20%20%20%20%20%20%20%20%20%20%3B%0A%0A%20%20%20%20%20%20%20%20%20%20%20%20%0A%20%20%20%20%20%20%20%20%0A%20%20%20%20%0A%20%20%20%20%20%20%20%20%20%20%20%20var%20circle_marker_baeb7de5d3b642a7ab4be01cba656b19%20%3D%20L.circleMarker%28%0A%20%20%20%20%20%20%20%20%20%20%20%20%20%20%20%20%5B-23.5141109%2C%20-46.5342972%5D%2C%0A%20%20%20%20%20%20%20%20%20%20%20%20%20%20%20%20%7B%0A%20%20%22bubblingMouseEvents%22%3A%20true%2C%0A%20%20%22color%22%3A%20%22blue%22%2C%0A%20%20%22dashArray%22%3A%20null%2C%0A%20%20%22dashOffset%22%3A%20null%2C%0A%20%20%22fill%22%3A%20true%2C%0A%20%20%22fillColor%22%3A%20%22%233186cc%22%2C%0A%20%20%22fillOpacity%22%3A%200.7%2C%0A%20%20%22fillRule%22%3A%20%22evenodd%22%2C%0A%20%20%22lineCap%22%3A%20%22round%22%2C%0A%20%20%22lineJoin%22%3A%20%22round%22%2C%0A%20%20%22opacity%22%3A%201.0%2C%0A%20%20%22radius%22%3A%205%2C%0A%20%20%22stroke%22%3A%20true%2C%0A%20%20%22weight%22%3A%203%0A%7D%0A%20%20%20%20%20%20%20%20%20%20%20%20%20%20%20%20%29%0A%20%20%20%20%20%20%20%20%20%20%20%20%20%20%20%20.addTo%28map_b5b67bda42714c19b60ce8993be67a72%29%3B%0A%20%20%20%20%20%20%20%20%20%20%20%20%0A%20%20%20%20%0A%20%20%20%20%20%20%20%20%20%20%20%20var%20popup_d9012a1b732c4f0ab800b86fa690ec8f%20%3D%20L.popup%28%7BmaxWidth%3A%20%27100%25%27%0A%20%20%20%20%20%20%20%20%20%20%20%20%0A%20%20%20%20%20%20%20%20%20%20%20%20%7D%29%3B%0A%0A%20%20%20%20%20%20%20%20%20%20%20%20%0A%20%20%20%20%20%20%20%20%20%20%20%20%20%20%20%20var%20html_d5717e273c6b4adc9962bbccaecac77f%20%3D%20%24%28%60%3Cdiv%20id%3D%22html_d5717e273c6b4adc9962bbccaecac77f%22%20style%3D%22width%3A%20100.0%25%3B%20height%3A%20100.0%25%3B%22%3E%20%20%3C/div%3E%60%29%5B0%5D%3B%0A%20%20%20%20%20%20%20%20%20%20%20%20%20%20%20%20popup_d9012a1b732c4f0ab800b86fa690ec8f.setContent%28html_d5717e273c6b4adc9962bbccaecac77f%29%3B%0A%20%20%20%20%20%20%20%20%20%20%20%20%0A%0A%20%20%20%20%20%20%20%20%20%20%20%20circle_marker_baeb7de5d3b642a7ab4be01cba656b19.bindPopup%28popup_d9012a1b732c4f0ab800b86fa690ec8f%29%0A%20%20%20%20%20%20%20%20%20%20%20%20%3B%0A%0A%20%20%20%20%20%20%20%20%20%20%20%20%0A%20%20%20%20%20%20%20%20%0A%20%20%20%20%0A%20%20%20%20%20%20%20%20%20%20%20%20var%20circle_marker_c7bb4feec3c34769a102e6a57b2631e6%20%3D%20L.circleMarker%28%0A%20%20%20%20%20%20%20%20%20%20%20%20%20%20%20%20%5B-23.5865485%2C%20-46.5932629%5D%2C%0A%20%20%20%20%20%20%20%20%20%20%20%20%20%20%20%20%7B%0A%20%20%22bubblingMouseEvents%22%3A%20true%2C%0A%20%20%22color%22%3A%20%22blue%22%2C%0A%20%20%22dashArray%22%3A%20null%2C%0A%20%20%22dashOffset%22%3A%20null%2C%0A%20%20%22fill%22%3A%20true%2C%0A%20%20%22fillColor%22%3A%20%22%233186cc%22%2C%0A%20%20%22fillOpacity%22%3A%200.7%2C%0A%20%20%22fillRule%22%3A%20%22evenodd%22%2C%0A%20%20%22lineCap%22%3A%20%22round%22%2C%0A%20%20%22lineJoin%22%3A%20%22round%22%2C%0A%20%20%22opacity%22%3A%201.0%2C%0A%20%20%22radius%22%3A%205%2C%0A%20%20%22stroke%22%3A%20true%2C%0A%20%20%22weight%22%3A%203%0A%7D%0A%20%20%20%20%20%20%20%20%20%20%20%20%20%20%20%20%29%0A%20%20%20%20%20%20%20%20%20%20%20%20%20%20%20%20.addTo%28map_b5b67bda42714c19b60ce8993be67a72%29%3B%0A%20%20%20%20%20%20%20%20%20%20%20%20%0A%20%20%20%20%0A%20%20%20%20%20%20%20%20%20%20%20%20var%20popup_8cc13caa1333463b83c32c9ec1e22470%20%3D%20L.popup%28%7BmaxWidth%3A%20%27100%25%27%0A%20%20%20%20%20%20%20%20%20%20%20%20%0A%20%20%20%20%20%20%20%20%20%20%20%20%7D%29%3B%0A%0A%20%20%20%20%20%20%20%20%20%20%20%20%0A%20%20%20%20%20%20%20%20%20%20%20%20%20%20%20%20var%20html_20095b425c93444fa221f47032b56ad9%20%3D%20%24%28%60%3Cdiv%20id%3D%22html_20095b425c93444fa221f47032b56ad9%22%20style%3D%22width%3A%20100.0%25%3B%20height%3A%20100.0%25%3B%22%3E%20%20Prq%20da%20Mooca%3C/div%3E%60%29%5B0%5D%3B%0A%20%20%20%20%20%20%20%20%20%20%20%20%20%20%20%20popup_8cc13caa1333463b83c32c9ec1e22470.setContent%28html_20095b425c93444fa221f47032b56ad9%29%3B%0A%20%20%20%20%20%20%20%20%20%20%20%20%0A%0A%20%20%20%20%20%20%20%20%20%20%20%20circle_marker_c7bb4feec3c34769a102e6a57b2631e6.bindPopup%28popup_8cc13caa1333463b83c32c9ec1e22470%29%0A%20%20%20%20%20%20%20%20%20%20%20%20%3B%0A%0A%20%20%20%20%20%20%20%20%20%20%20%20%0A%20%20%20%20%20%20%20%20%0A%20%20%20%20%0A%20%20%20%20%20%20%20%20%20%20%20%20var%20circle_marker_f8d08b7d612d4002ac17d48f0bec169c%20%3D%20L.circleMarker%28%0A%20%20%20%20%20%20%20%20%20%20%20%20%20%20%20%20%5B-23.5475059%2C%20-46.6493454%5D%2C%0A%20%20%20%20%20%20%20%20%20%20%20%20%20%20%20%20%7B%0A%20%20%22bubblingMouseEvents%22%3A%20true%2C%0A%20%20%22color%22%3A%20%22blue%22%2C%0A%20%20%22dashArray%22%3A%20null%2C%0A%20%20%22dashOffset%22%3A%20null%2C%0A%20%20%22fill%22%3A%20true%2C%0A%20%20%22fillColor%22%3A%20%22%233186cc%22%2C%0A%20%20%22fillOpacity%22%3A%200.7%2C%0A%20%20%22fillRule%22%3A%20%22evenodd%22%2C%0A%20%20%22lineCap%22%3A%20%22round%22%2C%0A%20%20%22lineJoin%22%3A%20%22round%22%2C%0A%20%20%22opacity%22%3A%201.0%2C%0A%20%20%22radius%22%3A%205%2C%0A%20%20%22stroke%22%3A%20true%2C%0A%20%20%22weight%22%3A%203%0A%7D%0A%20%20%20%20%20%20%20%20%20%20%20%20%20%20%20%20%29%0A%20%20%20%20%20%20%20%20%20%20%20%20%20%20%20%20.addTo%28map_b5b67bda42714c19b60ce8993be67a72%29%3B%0A%20%20%20%20%20%20%20%20%20%20%20%20%0A%20%20%20%20%0A%20%20%20%20%20%20%20%20%20%20%20%20var%20popup_25622e2bd2534a76a5b7b4ea1b31418c%20%3D%20L.popup%28%7BmaxWidth%3A%20%27100%25%27%0A%20%20%20%20%20%20%20%20%20%20%20%20%0A%20%20%20%20%20%20%20%20%20%20%20%20%7D%29%3B%0A%0A%20%20%20%20%20%20%20%20%20%20%20%20%0A%20%20%20%20%20%20%20%20%20%20%20%20%20%20%20%20var%20html_c27ba8e9ec854536bc86458214878840%20%3D%20%24%28%60%3Cdiv%20id%3D%22html_c27ba8e9ec854536bc86458214878840%22%20style%3D%22width%3A%20100.0%25%3B%20height%3A%20100.0%25%3B%22%3E%20%20Vl%20Buarque%3C/div%3E%60%29%5B0%5D%3B%0A%20%20%20%20%20%20%20%20%20%20%20%20%20%20%20%20popup_25622e2bd2534a76a5b7b4ea1b31418c.setContent%28html_c27ba8e9ec854536bc86458214878840%29%3B%0A%20%20%20%20%20%20%20%20%20%20%20%20%0A%0A%20%20%20%20%20%20%20%20%20%20%20%20circle_marker_f8d08b7d612d4002ac17d48f0bec169c.bindPopup%28popup_25622e2bd2534a76a5b7b4ea1b31418c%29%0A%20%20%20%20%20%20%20%20%20%20%20%20%3B%0A%0A%20%20%20%20%20%20%20%20%20%20%20%20%0A%20%20%20%20%20%20%20%20%0A%20%20%20%20%0A%20%20%20%20%20%20%20%20%20%20%20%20var%20circle_marker_ebf9f58c824c43148d48b9890ad1beaa%20%3D%20L.circleMarker%28%0A%20%20%20%20%20%20%20%20%20%20%20%20%20%20%20%20%5B-23.5642202%2C%20-46.5961066%5D%2C%0A%20%20%20%20%20%20%20%20%20%20%20%20%20%20%20%20%7B%0A%20%20%22bubblingMouseEvents%22%3A%20true%2C%0A%20%20%22color%22%3A%20%22blue%22%2C%0A%20%20%22dashArray%22%3A%20null%2C%0A%20%20%22dashOffset%22%3A%20null%2C%0A%20%20%22fill%22%3A%20true%2C%0A%20%20%22fillColor%22%3A%20%22%233186cc%22%2C%0A%20%20%22fillOpacity%22%3A%200.7%2C%0A%20%20%22fillRule%22%3A%20%22evenodd%22%2C%0A%20%20%22lineCap%22%3A%20%22round%22%2C%0A%20%20%22lineJoin%22%3A%20%22round%22%2C%0A%20%20%22opacity%22%3A%201.0%2C%0A%20%20%22radius%22%3A%205%2C%0A%20%20%22stroke%22%3A%20true%2C%0A%20%20%22weight%22%3A%203%0A%7D%0A%20%20%20%20%20%20%20%20%20%20%20%20%20%20%20%20%29%0A%20%20%20%20%20%20%20%20%20%20%20%20%20%20%20%20.addTo%28map_b5b67bda42714c19b60ce8993be67a72%29%3B%0A%20%20%20%20%20%20%20%20%20%20%20%20%0A%20%20%20%20%0A%20%20%20%20%20%20%20%20%20%20%20%20var%20popup_6f4bd3b396a444f1b20cdef46037d0e4%20%3D%20L.popup%28%7BmaxWidth%3A%20%27100%25%27%0A%20%20%20%20%20%20%20%20%20%20%20%20%0A%20%20%20%20%20%20%20%20%20%20%20%20%7D%29%3B%0A%0A%20%20%20%20%20%20%20%20%20%20%20%20%0A%20%20%20%20%20%20%20%20%20%20%20%20%20%20%20%20var%20html_f4aaa621a1944ac98ef77a20f0d48bea%20%3D%20%24%28%60%3Cdiv%20id%3D%22html_f4aaa621a1944ac98ef77a20f0d48bea%22%20style%3D%22width%3A%20100.0%25%3B%20height%3A%20100.0%25%3B%22%3E%20%20Prq%20da%20Mooca%3C/div%3E%60%29%5B0%5D%3B%0A%20%20%20%20%20%20%20%20%20%20%20%20%20%20%20%20popup_6f4bd3b396a444f1b20cdef46037d0e4.setContent%28html_f4aaa621a1944ac98ef77a20f0d48bea%29%3B%0A%20%20%20%20%20%20%20%20%20%20%20%20%0A%0A%20%20%20%20%20%20%20%20%20%20%20%20circle_marker_ebf9f58c824c43148d48b9890ad1beaa.bindPopup%28popup_6f4bd3b396a444f1b20cdef46037d0e4%29%0A%20%20%20%20%20%20%20%20%20%20%20%20%3B%0A%0A%20%20%20%20%20%20%20%20%20%20%20%20%0A%20%20%20%20%20%20%20%20%0A%20%20%20%20%0A%20%20%20%20%20%20%20%20%20%20%20%20var%20circle_marker_4941d1ac981a401b8429cfb4d9ef5a85%20%3D%20L.circleMarker%28%0A%20%20%20%20%20%20%20%20%20%20%20%20%20%20%20%20%5B-23.6198179%2C%20-46.62680839999999%5D%2C%0A%20%20%20%20%20%20%20%20%20%20%20%20%20%20%20%20%7B%0A%20%20%22bubblingMouseEvents%22%3A%20true%2C%0A%20%20%22color%22%3A%20%22blue%22%2C%0A%20%20%22dashArray%22%3A%20null%2C%0A%20%20%22dashOffset%22%3A%20null%2C%0A%20%20%22fill%22%3A%20true%2C%0A%20%20%22fillColor%22%3A%20%22%233186cc%22%2C%0A%20%20%22fillOpacity%22%3A%200.7%2C%0A%20%20%22fillRule%22%3A%20%22evenodd%22%2C%0A%20%20%22lineCap%22%3A%20%22round%22%2C%0A%20%20%22lineJoin%22%3A%20%22round%22%2C%0A%20%20%22opacity%22%3A%201.0%2C%0A%20%20%22radius%22%3A%205%2C%0A%20%20%22stroke%22%3A%20true%2C%0A%20%20%22weight%22%3A%203%0A%7D%0A%20%20%20%20%20%20%20%20%20%20%20%20%20%20%20%20%29%0A%20%20%20%20%20%20%20%20%20%20%20%20%20%20%20%20.addTo%28map_b5b67bda42714c19b60ce8993be67a72%29%3B%0A%20%20%20%20%20%20%20%20%20%20%20%20%0A%20%20%20%20%0A%20%20%20%20%20%20%20%20%20%20%20%20var%20popup_a5c8010b67f64026a6708c23d64dafd5%20%3D%20L.popup%28%7BmaxWidth%3A%20%27100%25%27%0A%20%20%20%20%20%20%20%20%20%20%20%20%0A%20%20%20%20%20%20%20%20%20%20%20%20%7D%29%3B%0A%0A%20%20%20%20%20%20%20%20%20%20%20%20%0A%20%20%20%20%20%20%20%20%20%20%20%20%20%20%20%20var%20html_28371140a8c848c395cf5c66bd4c10c5%20%3D%20%24%28%60%3Cdiv%20id%3D%22html_28371140a8c848c395cf5c66bd4c10c5%22%20style%3D%22width%3A%20100.0%25%3B%20height%3A%20100.0%25%3B%22%3E%20Lj%20337%20%20Jd%20da%20Sa%C3%BAde%3C/div%3E%60%29%5B0%5D%3B%0A%20%20%20%20%20%20%20%20%20%20%20%20%20%20%20%20popup_a5c8010b67f64026a6708c23d64dafd5.setContent%28html_28371140a8c848c395cf5c66bd4c10c5%29%3B%0A%20%20%20%20%20%20%20%20%20%20%20%20%0A%0A%20%20%20%20%20%20%20%20%20%20%20%20circle_marker_4941d1ac981a401b8429cfb4d9ef5a85.bindPopup%28popup_a5c8010b67f64026a6708c23d64dafd5%29%0A%20%20%20%20%20%20%20%20%20%20%20%20%3B%0A%0A%20%20%20%20%20%20%20%20%20%20%20%20%0A%20%20%20%20%20%20%20%20%0A%20%20%20%20%0A%20%20%20%20%20%20%20%20%20%20%20%20var%20circle_marker_cc820a140c384791950765586fc97f60%20%3D%20L.circleMarker%28%0A%20%20%20%20%20%20%20%20%20%20%20%20%20%20%20%20%5B-23.567432%2C%20-46.5882487%5D%2C%0A%20%20%20%20%20%20%20%20%20%20%20%20%20%20%20%20%7B%0A%20%20%22bubblingMouseEvents%22%3A%20true%2C%0A%20%20%22color%22%3A%20%22blue%22%2C%0A%20%20%22dashArray%22%3A%20null%2C%0A%20%20%22dashOffset%22%3A%20null%2C%0A%20%20%22fill%22%3A%20true%2C%0A%20%20%22fillColor%22%3A%20%22%233186cc%22%2C%0A%20%20%22fillOpacity%22%3A%200.7%2C%0A%20%20%22fillRule%22%3A%20%22evenodd%22%2C%0A%20%20%22lineCap%22%3A%20%22round%22%2C%0A%20%20%22lineJoin%22%3A%20%22round%22%2C%0A%20%20%22opacity%22%3A%201.0%2C%0A%20%20%22radius%22%3A%205%2C%0A%20%20%22stroke%22%3A%20true%2C%0A%20%20%22weight%22%3A%203%0A%7D%0A%20%20%20%20%20%20%20%20%20%20%20%20%20%20%20%20%29%0A%20%20%20%20%20%20%20%20%20%20%20%20%20%20%20%20.addTo%28map_b5b67bda42714c19b60ce8993be67a72%29%3B%0A%20%20%20%20%20%20%20%20%20%20%20%20%0A%20%20%20%20%0A%20%20%20%20%20%20%20%20%20%20%20%20var%20popup_ca91e11a607c4ef5a5123618e604cd1c%20%3D%20L.popup%28%7BmaxWidth%3A%20%27100%25%27%0A%20%20%20%20%20%20%20%20%20%20%20%20%0A%20%20%20%20%20%20%20%20%20%20%20%20%7D%29%3B%0A%0A%20%20%20%20%20%20%20%20%20%20%20%20%0A%20%20%20%20%20%20%20%20%20%20%20%20%20%20%20%20var%20html_abb9958dfb37464382fe7be40630fe1d%20%3D%20%24%28%60%3Cdiv%20id%3D%22html_abb9958dfb37464382fe7be40630fe1d%22%20style%3D%22width%3A%20100.0%25%3B%20height%3A%20100.0%25%3B%22%3E%20%20Mooca%3C/div%3E%60%29%5B0%5D%3B%0A%20%20%20%20%20%20%20%20%20%20%20%20%20%20%20%20popup_ca91e11a607c4ef5a5123618e604cd1c.setContent%28html_abb9958dfb37464382fe7be40630fe1d%29%3B%0A%20%20%20%20%20%20%20%20%20%20%20%20%0A%0A%20%20%20%20%20%20%20%20%20%20%20%20circle_marker_cc820a140c384791950765586fc97f60.bindPopup%28popup_ca91e11a607c4ef5a5123618e604cd1c%29%0A%20%20%20%20%20%20%20%20%20%20%20%20%3B%0A%0A%20%20%20%20%20%20%20%20%20%20%20%20%0A%20%20%20%20%20%20%20%20%0A%20%20%20%20%0A%20%20%20%20%20%20%20%20%20%20%20%20var%20circle_marker_87784d34461e45c9923c7e15781ce46f%20%3D%20L.circleMarker%28%0A%20%20%20%20%20%20%20%20%20%20%20%20%20%20%20%20%5B-23.5966062%2C%20-46.67934349999999%5D%2C%0A%20%20%20%20%20%20%20%20%20%20%20%20%20%20%20%20%7B%0A%20%20%22bubblingMouseEvents%22%3A%20true%2C%0A%20%20%22color%22%3A%20%22blue%22%2C%0A%20%20%22dashArray%22%3A%20null%2C%0A%20%20%22dashOffset%22%3A%20null%2C%0A%20%20%22fill%22%3A%20true%2C%0A%20%20%22fillColor%22%3A%20%22%233186cc%22%2C%0A%20%20%22fillOpacity%22%3A%200.7%2C%0A%20%20%22fillRule%22%3A%20%22evenodd%22%2C%0A%20%20%22lineCap%22%3A%20%22round%22%2C%0A%20%20%22lineJoin%22%3A%20%22round%22%2C%0A%20%20%22opacity%22%3A%201.0%2C%0A%20%20%22radius%22%3A%205%2C%0A%20%20%22stroke%22%3A%20true%2C%0A%20%20%22weight%22%3A%203%0A%7D%0A%20%20%20%20%20%20%20%20%20%20%20%20%20%20%20%20%29%0A%20%20%20%20%20%20%20%20%20%20%20%20%20%20%20%20.addTo%28map_b5b67bda42714c19b60ce8993be67a72%29%3B%0A%20%20%20%20%20%20%20%20%20%20%20%20%0A%20%20%20%20%0A%20%20%20%20%20%20%20%20%20%20%20%20var%20popup_e207ab58f1634678a7060e228244a166%20%3D%20L.popup%28%7BmaxWidth%3A%20%27100%25%27%0A%20%20%20%20%20%20%20%20%20%20%20%20%0A%20%20%20%20%20%20%20%20%20%20%20%20%7D%29%3B%0A%0A%20%20%20%20%20%20%20%20%20%20%20%20%0A%20%20%20%20%20%20%20%20%20%20%20%20%20%20%20%20var%20html_2f80805ee3414904be19a5ce39d43dc4%20%3D%20%24%28%60%3Cdiv%20id%3D%22html_2f80805ee3414904be19a5ce39d43dc4%22%20style%3D%22width%3A%20100.0%25%3B%20height%3A%20100.0%25%3B%22%3E%20%20Vl%20Olimpia%3C/div%3E%60%29%5B0%5D%3B%0A%20%20%20%20%20%20%20%20%20%20%20%20%20%20%20%20popup_e207ab58f1634678a7060e228244a166.setContent%28html_2f80805ee3414904be19a5ce39d43dc4%29%3B%0A%20%20%20%20%20%20%20%20%20%20%20%20%0A%0A%20%20%20%20%20%20%20%20%20%20%20%20circle_marker_87784d34461e45c9923c7e15781ce46f.bindPopup%28popup_e207ab58f1634678a7060e228244a166%29%0A%20%20%20%20%20%20%20%20%20%20%20%20%3B%0A%0A%20%20%20%20%20%20%20%20%20%20%20%20%0A%20%20%20%20%20%20%20%20%0A%20%20%20%20%0A%20%20%20%20%20%20%20%20%20%20%20%20var%20circle_marker_0363849955fe4737a97b4054f4764dad%20%3D%20L.circleMarker%28%0A%20%20%20%20%20%20%20%20%20%20%20%20%20%20%20%20%5B-23.5180305%2C%20-46.7041035%5D%2C%0A%20%20%20%20%20%20%20%20%20%20%20%20%20%20%20%20%7B%0A%20%20%22bubblingMouseEvents%22%3A%20true%2C%0A%20%20%22color%22%3A%20%22blue%22%2C%0A%20%20%22dashArray%22%3A%20null%2C%0A%20%20%22dashOffset%22%3A%20null%2C%0A%20%20%22fill%22%3A%20true%2C%0A%20%20%22fillColor%22%3A%20%22%233186cc%22%2C%0A%20%20%22fillOpacity%22%3A%200.7%2C%0A%20%20%22fillRule%22%3A%20%22evenodd%22%2C%0A%20%20%22lineCap%22%3A%20%22round%22%2C%0A%20%20%22lineJoin%22%3A%20%22round%22%2C%0A%20%20%22opacity%22%3A%201.0%2C%0A%20%20%22radius%22%3A%205%2C%0A%20%20%22stroke%22%3A%20true%2C%0A%20%20%22weight%22%3A%203%0A%7D%0A%20%20%20%20%20%20%20%20%20%20%20%20%20%20%20%20%29%0A%20%20%20%20%20%20%20%20%20%20%20%20%20%20%20%20.addTo%28map_b5b67bda42714c19b60ce8993be67a72%29%3B%0A%20%20%20%20%20%20%20%20%20%20%20%20%0A%20%20%20%20%0A%20%20%20%20%20%20%20%20%20%20%20%20var%20popup_0d1878dc4f5a457e817ac1ee801b4366%20%3D%20L.popup%28%7BmaxWidth%3A%20%27100%25%27%0A%20%20%20%20%20%20%20%20%20%20%20%20%0A%20%20%20%20%20%20%20%20%20%20%20%20%7D%29%3B%0A%0A%20%20%20%20%20%20%20%20%20%20%20%20%0A%20%20%20%20%20%20%20%20%20%20%20%20%20%20%20%20var%20html_d8ad8f2f549f46a1b4d9d66ffd711035%20%3D%20%24%28%60%3Cdiv%20id%3D%22html_d8ad8f2f549f46a1b4d9d66ffd711035%22%20style%3D%22width%3A%20100.0%25%3B%20height%3A%20100.0%25%3B%22%3E%20A%20%20Lapa%3C/div%3E%60%29%5B0%5D%3B%0A%20%20%20%20%20%20%20%20%20%20%20%20%20%20%20%20popup_0d1878dc4f5a457e817ac1ee801b4366.setContent%28html_d8ad8f2f549f46a1b4d9d66ffd711035%29%3B%0A%20%20%20%20%20%20%20%20%20%20%20%20%0A%0A%20%20%20%20%20%20%20%20%20%20%20%20circle_marker_0363849955fe4737a97b4054f4764dad.bindPopup%28popup_0d1878dc4f5a457e817ac1ee801b4366%29%0A%20%20%20%20%20%20%20%20%20%20%20%20%3B%0A%0A%20%20%20%20%20%20%20%20%20%20%20%20%0A%20%20%20%20%20%20%20%20%0A%20%20%20%20%0A%20%20%20%20%20%20%20%20%20%20%20%20var%20circle_marker_62def4ddfe034c9dadcc876979b86331%20%3D%20L.circleMarker%28%0A%20%20%20%20%20%20%20%20%20%20%20%20%20%20%20%20%5B-23.615213%2C%20-46.6730349%5D%2C%0A%20%20%20%20%20%20%20%20%20%20%20%20%20%20%20%20%7B%0A%20%20%22bubblingMouseEvents%22%3A%20true%2C%0A%20%20%22color%22%3A%20%22blue%22%2C%0A%20%20%22dashArray%22%3A%20null%2C%0A%20%20%22dashOffset%22%3A%20null%2C%0A%20%20%22fill%22%3A%20true%2C%0A%20%20%22fillColor%22%3A%20%22%233186cc%22%2C%0A%20%20%22fillOpacity%22%3A%200.7%2C%0A%20%20%22fillRule%22%3A%20%22evenodd%22%2C%0A%20%20%22lineCap%22%3A%20%22round%22%2C%0A%20%20%22lineJoin%22%3A%20%22round%22%2C%0A%20%20%22opacity%22%3A%201.0%2C%0A%20%20%22radius%22%3A%205%2C%0A%20%20%22stroke%22%3A%20true%2C%0A%20%20%22weight%22%3A%203%0A%7D%0A%20%20%20%20%20%20%20%20%20%20%20%20%20%20%20%20%29%0A%20%20%20%20%20%20%20%20%20%20%20%20%20%20%20%20.addTo%28map_b5b67bda42714c19b60ce8993be67a72%29%3B%0A%20%20%20%20%20%20%20%20%20%20%20%20%0A%20%20%20%20%0A%20%20%20%20%20%20%20%20%20%20%20%20var%20popup_5c59e6c8ad0a4898ab3c48933f4dad6a%20%3D%20L.popup%28%7BmaxWidth%3A%20%27100%25%27%0A%20%20%20%20%20%20%20%20%20%20%20%20%0A%20%20%20%20%20%20%20%20%20%20%20%20%7D%29%3B%0A%0A%20%20%20%20%20%20%20%20%20%20%20%20%0A%20%20%20%20%20%20%20%20%20%20%20%20%20%20%20%20var%20html_2c3e2b394f5f465b8d66485d58a26cae%20%3D%20%24%28%60%3Cdiv%20id%3D%22html_2c3e2b394f5f465b8d66485d58a26cae%22%20style%3D%22width%3A%20100.0%25%3B%20height%3A%20100.0%25%3B%22%3E%20%20Alto%20da%20Boa%20Vista%3C/div%3E%60%29%5B0%5D%3B%0A%20%20%20%20%20%20%20%20%20%20%20%20%20%20%20%20popup_5c59e6c8ad0a4898ab3c48933f4dad6a.setContent%28html_2c3e2b394f5f465b8d66485d58a26cae%29%3B%0A%20%20%20%20%20%20%20%20%20%20%20%20%0A%0A%20%20%20%20%20%20%20%20%20%20%20%20circle_marker_62def4ddfe034c9dadcc876979b86331.bindPopup%28popup_5c59e6c8ad0a4898ab3c48933f4dad6a%29%0A%20%20%20%20%20%20%20%20%20%20%20%20%3B%0A%0A%20%20%20%20%20%20%20%20%20%20%20%20%0A%20%20%20%20%20%20%20%20%0A%20%20%20%20%0A%20%20%20%20%20%20%20%20%20%20%20%20var%20circle_marker_9e5de8177cd94ca3bf7736299c308e9a%20%3D%20L.circleMarker%28%0A%20%20%20%20%20%20%20%20%20%20%20%20%20%20%20%20%5B-23.6169209%2C%20-46.6729427%5D%2C%0A%20%20%20%20%20%20%20%20%20%20%20%20%20%20%20%20%7B%0A%20%20%22bubblingMouseEvents%22%3A%20true%2C%0A%20%20%22color%22%3A%20%22blue%22%2C%0A%20%20%22dashArray%22%3A%20null%2C%0A%20%20%22dashOffset%22%3A%20null%2C%0A%20%20%22fill%22%3A%20true%2C%0A%20%20%22fillColor%22%3A%20%22%233186cc%22%2C%0A%20%20%22fillOpacity%22%3A%200.7%2C%0A%20%20%22fillRule%22%3A%20%22evenodd%22%2C%0A%20%20%22lineCap%22%3A%20%22round%22%2C%0A%20%20%22lineJoin%22%3A%20%22round%22%2C%0A%20%20%22opacity%22%3A%201.0%2C%0A%20%20%22radius%22%3A%205%2C%0A%20%20%22stroke%22%3A%20true%2C%0A%20%20%22weight%22%3A%203%0A%7D%0A%20%20%20%20%20%20%20%20%20%20%20%20%20%20%20%20%29%0A%20%20%20%20%20%20%20%20%20%20%20%20%20%20%20%20.addTo%28map_b5b67bda42714c19b60ce8993be67a72%29%3B%0A%20%20%20%20%20%20%20%20%20%20%20%20%0A%20%20%20%20%0A%20%20%20%20%20%20%20%20%20%20%20%20var%20popup_c996ddfff87743e3a03b0a6916c6168c%20%3D%20L.popup%28%7BmaxWidth%3A%20%27100%25%27%0A%20%20%20%20%20%20%20%20%20%20%20%20%0A%20%20%20%20%20%20%20%20%20%20%20%20%7D%29%3B%0A%0A%20%20%20%20%20%20%20%20%20%20%20%20%0A%20%20%20%20%20%20%20%20%20%20%20%20%20%20%20%20var%20html_c8727be6ec794599a468ff91ade57c7e%20%3D%20%24%28%60%3Cdiv%20id%3D%22html_c8727be6ec794599a468ff91ade57c7e%22%20style%3D%22width%3A%20100.0%25%3B%20height%3A%20100.0%25%3B%22%3E%20%20Campo%20Belo%3C/div%3E%60%29%5B0%5D%3B%0A%20%20%20%20%20%20%20%20%20%20%20%20%20%20%20%20popup_c996ddfff87743e3a03b0a6916c6168c.setContent%28html_c8727be6ec794599a468ff91ade57c7e%29%3B%0A%20%20%20%20%20%20%20%20%20%20%20%20%0A%0A%20%20%20%20%20%20%20%20%20%20%20%20circle_marker_9e5de8177cd94ca3bf7736299c308e9a.bindPopup%28popup_c996ddfff87743e3a03b0a6916c6168c%29%0A%20%20%20%20%20%20%20%20%20%20%20%20%3B%0A%0A%20%20%20%20%20%20%20%20%20%20%20%20%0A%20%20%20%20%20%20%20%20%0A%20%20%20%20%0A%20%20%20%20%20%20%20%20%20%20%20%20var%20circle_marker_723449645b2940ed91db09951ea880e1%20%3D%20L.circleMarker%28%0A%20%20%20%20%20%20%20%20%20%20%20%20%20%20%20%20%5B-23.7137237%2C%20-46.7054206%5D%2C%0A%20%20%20%20%20%20%20%20%20%20%20%20%20%20%20%20%7B%0A%20%20%22bubblingMouseEvents%22%3A%20true%2C%0A%20%20%22color%22%3A%20%22blue%22%2C%0A%20%20%22dashArray%22%3A%20null%2C%0A%20%20%22dashOffset%22%3A%20null%2C%0A%20%20%22fill%22%3A%20true%2C%0A%20%20%22fillColor%22%3A%20%22%233186cc%22%2C%0A%20%20%22fillOpacity%22%3A%200.7%2C%0A%20%20%22fillRule%22%3A%20%22evenodd%22%2C%0A%20%20%22lineCap%22%3A%20%22round%22%2C%0A%20%20%22lineJoin%22%3A%20%22round%22%2C%0A%20%20%22opacity%22%3A%201.0%2C%0A%20%20%22radius%22%3A%205%2C%0A%20%20%22stroke%22%3A%20true%2C%0A%20%20%22weight%22%3A%203%0A%7D%0A%20%20%20%20%20%20%20%20%20%20%20%20%20%20%20%20%29%0A%20%20%20%20%20%20%20%20%20%20%20%20%20%20%20%20.addTo%28map_b5b67bda42714c19b60ce8993be67a72%29%3B%0A%20%20%20%20%20%20%20%20%20%20%20%20%0A%20%20%20%20%0A%20%20%20%20%20%20%20%20%20%20%20%20var%20popup_cc1c8e29ba3841308439c0e1750c5f75%20%3D%20L.popup%28%7BmaxWidth%3A%20%27100%25%27%0A%20%20%20%20%20%20%20%20%20%20%20%20%0A%20%20%20%20%20%20%20%20%20%20%20%20%7D%29%3B%0A%0A%20%20%20%20%20%20%20%20%20%20%20%20%0A%20%20%20%20%20%20%20%20%20%20%20%20%20%20%20%20var%20html_93e1ac8a557e4d82b486ca2a8d7561c2%20%3D%20%24%28%60%3Cdiv%20id%3D%22html_93e1ac8a557e4d82b486ca2a8d7561c2%22%20style%3D%22width%3A%20100.0%25%3B%20height%3A%20100.0%25%3B%22%3E%20%20Cidade%20Dutra%3C/div%3E%60%29%5B0%5D%3B%0A%20%20%20%20%20%20%20%20%20%20%20%20%20%20%20%20popup_cc1c8e29ba3841308439c0e1750c5f75.setContent%28html_93e1ac8a557e4d82b486ca2a8d7561c2%29%3B%0A%20%20%20%20%20%20%20%20%20%20%20%20%0A%0A%20%20%20%20%20%20%20%20%20%20%20%20circle_marker_723449645b2940ed91db09951ea880e1.bindPopup%28popup_cc1c8e29ba3841308439c0e1750c5f75%29%0A%20%20%20%20%20%20%20%20%20%20%20%20%3B%0A%0A%20%20%20%20%20%20%20%20%20%20%20%20%0A%20%20%20%20%20%20%20%20%0A%20%20%20%20%0A%20%20%20%20%20%20%20%20%20%20%20%20var%20circle_marker_f60bb04db85e496a8ed75f12bc56243d%20%3D%20L.circleMarker%28%0A%20%20%20%20%20%20%20%20%20%20%20%20%20%20%20%20%5B-23.6198783%2C%20-46.6936771%5D%2C%0A%20%20%20%20%20%20%20%20%20%20%20%20%20%20%20%20%7B%0A%20%20%22bubblingMouseEvents%22%3A%20true%2C%0A%20%20%22color%22%3A%20%22blue%22%2C%0A%20%20%22dashArray%22%3A%20null%2C%0A%20%20%22dashOffset%22%3A%20null%2C%0A%20%20%22fill%22%3A%20true%2C%0A%20%20%22fillColor%22%3A%20%22%233186cc%22%2C%0A%20%20%22fillOpacity%22%3A%200.7%2C%0A%20%20%22fillRule%22%3A%20%22evenodd%22%2C%0A%20%20%22lineCap%22%3A%20%22round%22%2C%0A%20%20%22lineJoin%22%3A%20%22round%22%2C%0A%20%20%22opacity%22%3A%201.0%2C%0A%20%20%22radius%22%3A%205%2C%0A%20%20%22stroke%22%3A%20true%2C%0A%20%20%22weight%22%3A%203%0A%7D%0A%20%20%20%20%20%20%20%20%20%20%20%20%20%20%20%20%29%0A%20%20%20%20%20%20%20%20%20%20%20%20%20%20%20%20.addTo%28map_b5b67bda42714c19b60ce8993be67a72%29%3B%0A%20%20%20%20%20%20%20%20%20%20%20%20%0A%20%20%20%20%0A%20%20%20%20%20%20%20%20%20%20%20%20var%20popup_a7c7f7465ba94e6d8aee615ce97df7e1%20%3D%20L.popup%28%7BmaxWidth%3A%20%27100%25%27%0A%20%20%20%20%20%20%20%20%20%20%20%20%0A%20%20%20%20%20%20%20%20%20%20%20%20%7D%29%3B%0A%0A%20%20%20%20%20%20%20%20%20%20%20%20%0A%20%20%20%20%20%20%20%20%20%20%20%20%20%20%20%20var%20html_9eec8d39bf144000b10cb304352ad024%20%3D%20%24%28%60%3Cdiv%20id%3D%22html_9eec8d39bf144000b10cb304352ad024%22%20style%3D%22width%3A%20100.0%25%3B%20height%3A%20100.0%25%3B%22%3E%20%20Vl%20Gertrudes%3C/div%3E%60%29%5B0%5D%3B%0A%20%20%20%20%20%20%20%20%20%20%20%20%20%20%20%20popup_a7c7f7465ba94e6d8aee615ce97df7e1.setContent%28html_9eec8d39bf144000b10cb304352ad024%29%3B%0A%20%20%20%20%20%20%20%20%20%20%20%20%0A%0A%20%20%20%20%20%20%20%20%20%20%20%20circle_marker_f60bb04db85e496a8ed75f12bc56243d.bindPopup%28popup_a7c7f7465ba94e6d8aee615ce97df7e1%29%0A%20%20%20%20%20%20%20%20%20%20%20%20%3B%0A%0A%20%20%20%20%20%20%20%20%20%20%20%20%0A%20%20%20%20%20%20%20%20%0A%20%20%20%20%0A%20%20%20%20%20%20%20%20%20%20%20%20var%20circle_marker_64d2d21ea40f4568b088ee3407310eaf%20%3D%20L.circleMarker%28%0A%20%20%20%20%20%20%20%20%20%20%20%20%20%20%20%20%5B-23.5592161%2C%20-46.68799310000001%5D%2C%0A%20%20%20%20%20%20%20%20%20%20%20%20%20%20%20%20%7B%0A%20%20%22bubblingMouseEvents%22%3A%20true%2C%0A%20%20%22color%22%3A%20%22blue%22%2C%0A%20%20%22dashArray%22%3A%20null%2C%0A%20%20%22dashOffset%22%3A%20null%2C%0A%20%20%22fill%22%3A%20true%2C%0A%20%20%22fillColor%22%3A%20%22%233186cc%22%2C%0A%20%20%22fillOpacity%22%3A%200.7%2C%0A%20%20%22fillRule%22%3A%20%22evenodd%22%2C%0A%20%20%22lineCap%22%3A%20%22round%22%2C%0A%20%20%22lineJoin%22%3A%20%22round%22%2C%0A%20%20%22opacity%22%3A%201.0%2C%0A%20%20%22radius%22%3A%205%2C%0A%20%20%22stroke%22%3A%20true%2C%0A%20%20%22weight%22%3A%203%0A%7D%0A%20%20%20%20%20%20%20%20%20%20%20%20%20%20%20%20%29%0A%20%20%20%20%20%20%20%20%20%20%20%20%20%20%20%20.addTo%28map_b5b67bda42714c19b60ce8993be67a72%29%3B%0A%20%20%20%20%20%20%20%20%20%20%20%20%0A%20%20%20%20%0A%20%20%20%20%20%20%20%20%20%20%20%20var%20popup_f7e24aeb072a49dbaa96bcb1501d6766%20%3D%20L.popup%28%7BmaxWidth%3A%20%27100%25%27%0A%20%20%20%20%20%20%20%20%20%20%20%20%0A%20%20%20%20%20%20%20%20%20%20%20%20%7D%29%3B%0A%0A%20%20%20%20%20%20%20%20%20%20%20%20%0A%20%20%20%20%20%20%20%20%20%20%20%20%20%20%20%20var%20html_cc9eaa185fdf47f5a54e09ae8d937236%20%3D%20%24%28%60%3Cdiv%20id%3D%22html_cc9eaa185fdf47f5a54e09ae8d937236%22%20style%3D%22width%3A%20100.0%25%3B%20height%3A%20100.0%25%3B%22%3E%20%20Pinheiros%3C/div%3E%60%29%5B0%5D%3B%0A%20%20%20%20%20%20%20%20%20%20%20%20%20%20%20%20popup_f7e24aeb072a49dbaa96bcb1501d6766.setContent%28html_cc9eaa185fdf47f5a54e09ae8d937236%29%3B%0A%20%20%20%20%20%20%20%20%20%20%20%20%0A%0A%20%20%20%20%20%20%20%20%20%20%20%20circle_marker_64d2d21ea40f4568b088ee3407310eaf.bindPopup%28popup_f7e24aeb072a49dbaa96bcb1501d6766%29%0A%20%20%20%20%20%20%20%20%20%20%20%20%3B%0A%0A%20%20%20%20%20%20%20%20%20%20%20%20%0A%20%20%20%20%20%20%20%20%0A%20%20%20%20%0A%20%20%20%20%20%20%20%20%20%20%20%20var%20circle_marker_f60bc1d619a34ad0940948776b1445af%20%3D%20L.circleMarker%28%0A%20%20%20%20%20%20%20%20%20%20%20%20%20%20%20%20%5B-23.5219993%2C%20-46.7007895%5D%2C%0A%20%20%20%20%20%20%20%20%20%20%20%20%20%20%20%20%7B%0A%20%20%22bubblingMouseEvents%22%3A%20true%2C%0A%20%20%22color%22%3A%20%22blue%22%2C%0A%20%20%22dashArray%22%3A%20null%2C%0A%20%20%22dashOffset%22%3A%20null%2C%0A%20%20%22fill%22%3A%20true%2C%0A%20%20%22fillColor%22%3A%20%22%233186cc%22%2C%0A%20%20%22fillOpacity%22%3A%200.7%2C%0A%20%20%22fillRule%22%3A%20%22evenodd%22%2C%0A%20%20%22lineCap%22%3A%20%22round%22%2C%0A%20%20%22lineJoin%22%3A%20%22round%22%2C%0A%20%20%22opacity%22%3A%201.0%2C%0A%20%20%22radius%22%3A%205%2C%0A%20%20%22stroke%22%3A%20true%2C%0A%20%20%22weight%22%3A%203%0A%7D%0A%20%20%20%20%20%20%20%20%20%20%20%20%20%20%20%20%29%0A%20%20%20%20%20%20%20%20%20%20%20%20%20%20%20%20.addTo%28map_b5b67bda42714c19b60ce8993be67a72%29%3B%0A%20%20%20%20%20%20%20%20%20%20%20%20%0A%20%20%20%20%0A%20%20%20%20%20%20%20%20%20%20%20%20var%20popup_7e37ae03362944848ded3b0b662b62cd%20%3D%20L.popup%28%7BmaxWidth%3A%20%27100%25%27%0A%20%20%20%20%20%20%20%20%20%20%20%20%0A%20%20%20%20%20%20%20%20%20%20%20%20%7D%29%3B%0A%0A%20%20%20%20%20%20%20%20%20%20%20%20%0A%20%20%20%20%20%20%20%20%20%20%20%20%20%20%20%20var%20html_e446f0164032432ab2540d0240b0729f%20%3D%20%24%28%60%3Cdiv%20id%3D%22html_e446f0164032432ab2540d0240b0729f%22%20style%3D%22width%3A%20100.0%25%3B%20height%3A%20100.0%25%3B%22%3E%20Cj%2012%20%20Vl%20Romana%3C/div%3E%60%29%5B0%5D%3B%0A%20%20%20%20%20%20%20%20%20%20%20%20%20%20%20%20popup_7e37ae03362944848ded3b0b662b62cd.setContent%28html_e446f0164032432ab2540d0240b0729f%29%3B%0A%20%20%20%20%20%20%20%20%20%20%20%20%0A%0A%20%20%20%20%20%20%20%20%20%20%20%20circle_marker_f60bc1d619a34ad0940948776b1445af.bindPopup%28popup_7e37ae03362944848ded3b0b662b62cd%29%0A%20%20%20%20%20%20%20%20%20%20%20%20%3B%0A%0A%20%20%20%20%20%20%20%20%20%20%20%20%0A%20%20%20%20%20%20%20%20%0A%20%20%20%20%0A%20%20%20%20%20%20%20%20%20%20%20%20var%20circle_marker_67841a6c5d4a4b63a30eec715b2c716b%20%3D%20L.circleMarker%28%0A%20%20%20%20%20%20%20%20%20%20%20%20%20%20%20%20%5B-23.5492994%2C%20-46.683555%5D%2C%0A%20%20%20%20%20%20%20%20%20%20%20%20%20%20%20%20%7B%0A%20%20%22bubblingMouseEvents%22%3A%20true%2C%0A%20%20%22color%22%3A%20%22blue%22%2C%0A%20%20%22dashArray%22%3A%20null%2C%0A%20%20%22dashOffset%22%3A%20null%2C%0A%20%20%22fill%22%3A%20true%2C%0A%20%20%22fillColor%22%3A%20%22%233186cc%22%2C%0A%20%20%22fillOpacity%22%3A%200.7%2C%0A%20%20%22fillRule%22%3A%20%22evenodd%22%2C%0A%20%20%22lineCap%22%3A%20%22round%22%2C%0A%20%20%22lineJoin%22%3A%20%22round%22%2C%0A%20%20%22opacity%22%3A%201.0%2C%0A%20%20%22radius%22%3A%205%2C%0A%20%20%22stroke%22%3A%20true%2C%0A%20%20%22weight%22%3A%203%0A%7D%0A%20%20%20%20%20%20%20%20%20%20%20%20%20%20%20%20%29%0A%20%20%20%20%20%20%20%20%20%20%20%20%20%20%20%20.addTo%28map_b5b67bda42714c19b60ce8993be67a72%29%3B%0A%20%20%20%20%20%20%20%20%20%20%20%20%0A%20%20%20%20%0A%20%20%20%20%20%20%20%20%20%20%20%20var%20popup_53b18eef728747219b1a4d06d0cce74b%20%3D%20L.popup%28%7BmaxWidth%3A%20%27100%25%27%0A%20%20%20%20%20%20%20%20%20%20%20%20%0A%20%20%20%20%20%20%20%20%20%20%20%20%7D%29%3B%0A%0A%20%20%20%20%20%20%20%20%20%20%20%20%0A%20%20%20%20%20%20%20%20%20%20%20%20%20%20%20%20var%20html_8c0fb2309e934381979e7900c2e8fb3d%20%3D%20%24%28%60%3Cdiv%20id%3D%22html_8c0fb2309e934381979e7900c2e8fb3d%22%20style%3D%22width%3A%20100.0%25%3B%20height%3A%20100.0%25%3B%22%3E%20%20Jd%20das%20Bandeiras%3C/div%3E%60%29%5B0%5D%3B%0A%20%20%20%20%20%20%20%20%20%20%20%20%20%20%20%20popup_53b18eef728747219b1a4d06d0cce74b.setContent%28html_8c0fb2309e934381979e7900c2e8fb3d%29%3B%0A%20%20%20%20%20%20%20%20%20%20%20%20%0A%0A%20%20%20%20%20%20%20%20%20%20%20%20circle_marker_67841a6c5d4a4b63a30eec715b2c716b.bindPopup%28popup_53b18eef728747219b1a4d06d0cce74b%29%0A%20%20%20%20%20%20%20%20%20%20%20%20%3B%0A%0A%20%20%20%20%20%20%20%20%20%20%20%20%0A%20%20%20%20%20%20%20%20%0A%20%20%20%20%0A%20%20%20%20%20%20%20%20%20%20%20%20var%20circle_marker_5a8182a29fc246fc95fab4bde21db157%20%3D%20L.circleMarker%28%0A%20%20%20%20%20%20%20%20%20%20%20%20%20%20%20%20%5B-23.4973417%2C%20-46.7034321%5D%2C%0A%20%20%20%20%20%20%20%20%20%20%20%20%20%20%20%20%7B%0A%20%20%22bubblingMouseEvents%22%3A%20true%2C%0A%20%20%22color%22%3A%20%22blue%22%2C%0A%20%20%22dashArray%22%3A%20null%2C%0A%20%20%22dashOffset%22%3A%20null%2C%0A%20%20%22fill%22%3A%20true%2C%0A%20%20%22fillColor%22%3A%20%22%233186cc%22%2C%0A%20%20%22fillOpacity%22%3A%200.7%2C%0A%20%20%22fillRule%22%3A%20%22evenodd%22%2C%0A%20%20%22lineCap%22%3A%20%22round%22%2C%0A%20%20%22lineJoin%22%3A%20%22round%22%2C%0A%20%20%22opacity%22%3A%201.0%2C%0A%20%20%22radius%22%3A%205%2C%0A%20%20%22stroke%22%3A%20true%2C%0A%20%20%22weight%22%3A%203%0A%7D%0A%20%20%20%20%20%20%20%20%20%20%20%20%20%20%20%20%29%0A%20%20%20%20%20%20%20%20%20%20%20%20%20%20%20%20.addTo%28map_b5b67bda42714c19b60ce8993be67a72%29%3B%0A%20%20%20%20%20%20%20%20%20%20%20%20%0A%20%20%20%20%0A%20%20%20%20%20%20%20%20%20%20%20%20var%20popup_e3883cec01bc496999f2758266b6aee6%20%3D%20L.popup%28%7BmaxWidth%3A%20%27100%25%27%0A%20%20%20%20%20%20%20%20%20%20%20%20%0A%20%20%20%20%20%20%20%20%20%20%20%20%7D%29%3B%0A%0A%20%20%20%20%20%20%20%20%20%20%20%20%0A%20%20%20%20%20%20%20%20%20%20%20%20%20%20%20%20var%20html_ec7964cb411d491c8e963866c81d6fe9%20%3D%20%24%28%60%3Cdiv%20id%3D%22html_ec7964cb411d491c8e963866c81d6fe9%22%20style%3D%22width%3A%20100.0%25%3B%20height%3A%20100.0%25%3B%22%3E%20%20Moinho%20Velho%3C/div%3E%60%29%5B0%5D%3B%0A%20%20%20%20%20%20%20%20%20%20%20%20%20%20%20%20popup_e3883cec01bc496999f2758266b6aee6.setContent%28html_ec7964cb411d491c8e963866c81d6fe9%29%3B%0A%20%20%20%20%20%20%20%20%20%20%20%20%0A%0A%20%20%20%20%20%20%20%20%20%20%20%20circle_marker_5a8182a29fc246fc95fab4bde21db157.bindPopup%28popup_e3883cec01bc496999f2758266b6aee6%29%0A%20%20%20%20%20%20%20%20%20%20%20%20%3B%0A%0A%20%20%20%20%20%20%20%20%20%20%20%20%0A%20%20%20%20%20%20%20%20%0A%20%20%20%20%0A%20%20%20%20%20%20%20%20%20%20%20%20var%20circle_marker_25c7725ded604fc5906abff1036684d9%20%3D%20L.circleMarker%28%0A%20%20%20%20%20%20%20%20%20%20%20%20%20%20%20%20%5B-23.577089%2C%20-46.5876848%5D%2C%0A%20%20%20%20%20%20%20%20%20%20%20%20%20%20%20%20%7B%0A%20%20%22bubblingMouseEvents%22%3A%20true%2C%0A%20%20%22color%22%3A%20%22blue%22%2C%0A%20%20%22dashArray%22%3A%20null%2C%0A%20%20%22dashOffset%22%3A%20null%2C%0A%20%20%22fill%22%3A%20true%2C%0A%20%20%22fillColor%22%3A%20%22%233186cc%22%2C%0A%20%20%22fillOpacity%22%3A%200.7%2C%0A%20%20%22fillRule%22%3A%20%22evenodd%22%2C%0A%20%20%22lineCap%22%3A%20%22round%22%2C%0A%20%20%22lineJoin%22%3A%20%22round%22%2C%0A%20%20%22opacity%22%3A%201.0%2C%0A%20%20%22radius%22%3A%205%2C%0A%20%20%22stroke%22%3A%20true%2C%0A%20%20%22weight%22%3A%203%0A%7D%0A%20%20%20%20%20%20%20%20%20%20%20%20%20%20%20%20%29%0A%20%20%20%20%20%20%20%20%20%20%20%20%20%20%20%20.addTo%28map_b5b67bda42714c19b60ce8993be67a72%29%3B%0A%20%20%20%20%20%20%20%20%20%20%20%20%0A%20%20%20%20%0A%20%20%20%20%20%20%20%20%20%20%20%20var%20popup_c7036a0ccdf04d1a9b95daaee4bf0858%20%3D%20L.popup%28%7BmaxWidth%3A%20%27100%25%27%0A%20%20%20%20%20%20%20%20%20%20%20%20%0A%20%20%20%20%20%20%20%20%20%20%20%20%7D%29%3B%0A%0A%20%20%20%20%20%20%20%20%20%20%20%20%0A%20%20%20%20%20%20%20%20%20%20%20%20%20%20%20%20var%20html_f7adda9baffc4e6cb1e0da0e3b8f858c%20%3D%20%24%28%60%3Cdiv%20id%3D%22html_f7adda9baffc4e6cb1e0da0e3b8f858c%22%20style%3D%22width%3A%20100.0%25%3B%20height%3A%20100.0%25%3B%22%3E%20%20Prq%20da%20Mooca%3C/div%3E%60%29%5B0%5D%3B%0A%20%20%20%20%20%20%20%20%20%20%20%20%20%20%20%20popup_c7036a0ccdf04d1a9b95daaee4bf0858.setContent%28html_f7adda9baffc4e6cb1e0da0e3b8f858c%29%3B%0A%20%20%20%20%20%20%20%20%20%20%20%20%0A%0A%20%20%20%20%20%20%20%20%20%20%20%20circle_marker_25c7725ded604fc5906abff1036684d9.bindPopup%28popup_c7036a0ccdf04d1a9b95daaee4bf0858%29%0A%20%20%20%20%20%20%20%20%20%20%20%20%3B%0A%0A%20%20%20%20%20%20%20%20%20%20%20%20%0A%20%20%20%20%20%20%20%20%0A%20%20%20%20%0A%20%20%20%20%20%20%20%20%20%20%20%20var%20circle_marker_0be2a07819514ffe9859ddc8d6240c50%20%3D%20L.circleMarker%28%0A%20%20%20%20%20%20%20%20%20%20%20%20%20%20%20%20%5B-23.5069934%2C%20-46.6252499%5D%2C%0A%20%20%20%20%20%20%20%20%20%20%20%20%20%20%20%20%7B%0A%20%20%22bubblingMouseEvents%22%3A%20true%2C%0A%20%20%22color%22%3A%20%22blue%22%2C%0A%20%20%22dashArray%22%3A%20null%2C%0A%20%20%22dashOffset%22%3A%20null%2C%0A%20%20%22fill%22%3A%20true%2C%0A%20%20%22fillColor%22%3A%20%22%233186cc%22%2C%0A%20%20%22fillOpacity%22%3A%200.7%2C%0A%20%20%22fillRule%22%3A%20%22evenodd%22%2C%0A%20%20%22lineCap%22%3A%20%22round%22%2C%0A%20%20%22lineJoin%22%3A%20%22round%22%2C%0A%20%20%22opacity%22%3A%201.0%2C%0A%20%20%22radius%22%3A%205%2C%0A%20%20%22stroke%22%3A%20true%2C%0A%20%20%22weight%22%3A%203%0A%7D%0A%20%20%20%20%20%20%20%20%20%20%20%20%20%20%20%20%29%0A%20%20%20%20%20%20%20%20%20%20%20%20%20%20%20%20.addTo%28map_b5b67bda42714c19b60ce8993be67a72%29%3B%0A%20%20%20%20%20%20%20%20%20%20%20%20%0A%20%20%20%20%0A%20%20%20%20%20%20%20%20%20%20%20%20var%20popup_e86a81e2689f4b36bd69839aa96aaa27%20%3D%20L.popup%28%7BmaxWidth%3A%20%27100%25%27%0A%20%20%20%20%20%20%20%20%20%20%20%20%0A%20%20%20%20%20%20%20%20%20%20%20%20%7D%29%3B%0A%0A%20%20%20%20%20%20%20%20%20%20%20%20%0A%20%20%20%20%20%20%20%20%20%20%20%20%20%20%20%20var%20html_039c5065ec9149d98f17676b05ce5058%20%3D%20%24%28%60%3Cdiv%20id%3D%22html_039c5065ec9149d98f17676b05ce5058%22%20style%3D%22width%3A%20100.0%25%3B%20height%3A%20100.0%25%3B%22%3E%20%20Pte%20Pequena%3C/div%3E%60%29%5B0%5D%3B%0A%20%20%20%20%20%20%20%20%20%20%20%20%20%20%20%20popup_e86a81e2689f4b36bd69839aa96aaa27.setContent%28html_039c5065ec9149d98f17676b05ce5058%29%3B%0A%20%20%20%20%20%20%20%20%20%20%20%20%0A%0A%20%20%20%20%20%20%20%20%20%20%20%20circle_marker_0be2a07819514ffe9859ddc8d6240c50.bindPopup%28popup_e86a81e2689f4b36bd69839aa96aaa27%29%0A%20%20%20%20%20%20%20%20%20%20%20%20%3B%0A%0A%20%20%20%20%20%20%20%20%20%20%20%20%0A%20%20%20%20%20%20%20%20%0A%20%20%20%20%0A%20%20%20%20%20%20%20%20%20%20%20%20var%20circle_marker_8c32df6877114d0088314e575561f48c%20%3D%20L.circleMarker%28%0A%20%20%20%20%20%20%20%20%20%20%20%20%20%20%20%20%5B-23.5218596%2C%20-46.5792539%5D%2C%0A%20%20%20%20%20%20%20%20%20%20%20%20%20%20%20%20%7B%0A%20%20%22bubblingMouseEvents%22%3A%20true%2C%0A%20%20%22color%22%3A%20%22blue%22%2C%0A%20%20%22dashArray%22%3A%20null%2C%0A%20%20%22dashOffset%22%3A%20null%2C%0A%20%20%22fill%22%3A%20true%2C%0A%20%20%22fillColor%22%3A%20%22%233186cc%22%2C%0A%20%20%22fillOpacity%22%3A%200.7%2C%0A%20%20%22fillRule%22%3A%20%22evenodd%22%2C%0A%20%20%22lineCap%22%3A%20%22round%22%2C%0A%20%20%22lineJoin%22%3A%20%22round%22%2C%0A%20%20%22opacity%22%3A%201.0%2C%0A%20%20%22radius%22%3A%205%2C%0A%20%20%22stroke%22%3A%20true%2C%0A%20%20%22weight%22%3A%203%0A%7D%0A%20%20%20%20%20%20%20%20%20%20%20%20%20%20%20%20%29%0A%20%20%20%20%20%20%20%20%20%20%20%20%20%20%20%20.addTo%28map_b5b67bda42714c19b60ce8993be67a72%29%3B%0A%20%20%20%20%20%20%20%20%20%20%20%20%0A%20%20%20%20%0A%20%20%20%20%20%20%20%20%20%20%20%20var%20popup_415bc90b2655475584f1b79766cd55e3%20%3D%20L.popup%28%7BmaxWidth%3A%20%27100%25%27%0A%20%20%20%20%20%20%20%20%20%20%20%20%0A%20%20%20%20%20%20%20%20%20%20%20%20%7D%29%3B%0A%0A%20%20%20%20%20%20%20%20%20%20%20%20%0A%20%20%20%20%20%20%20%20%20%20%20%20%20%20%20%20var%20html_9433ad1b9c4c4690b4268bac2c436610%20%3D%20%24%28%60%3Cdiv%20id%3D%22html_9433ad1b9c4c4690b4268bac2c436610%22%20style%3D%22width%3A%20100.0%25%3B%20height%3A%20100.0%25%3B%22%3E%20%20Sto%20Amaro%3C/div%3E%60%29%5B0%5D%3B%0A%20%20%20%20%20%20%20%20%20%20%20%20%20%20%20%20popup_415bc90b2655475584f1b79766cd55e3.setContent%28html_9433ad1b9c4c4690b4268bac2c436610%29%3B%0A%20%20%20%20%20%20%20%20%20%20%20%20%0A%0A%20%20%20%20%20%20%20%20%20%20%20%20circle_marker_8c32df6877114d0088314e575561f48c.bindPopup%28popup_415bc90b2655475584f1b79766cd55e3%29%0A%20%20%20%20%20%20%20%20%20%20%20%20%3B%0A%0A%20%20%20%20%20%20%20%20%20%20%20%20%0A%20%20%20%20%20%20%20%20%0A%20%20%20%20%0A%20%20%20%20%20%20%20%20%20%20%20%20var%20circle_marker_356f77b62d1c4dbeb08230bf88167311%20%3D%20L.circleMarker%28%0A%20%20%20%20%20%20%20%20%20%20%20%20%20%20%20%20%5B-23.5492322%2C%20-46.5850668%5D%2C%0A%20%20%20%20%20%20%20%20%20%20%20%20%20%20%20%20%7B%0A%20%20%22bubblingMouseEvents%22%3A%20true%2C%0A%20%20%22color%22%3A%20%22blue%22%2C%0A%20%20%22dashArray%22%3A%20null%2C%0A%20%20%22dashOffset%22%3A%20null%2C%0A%20%20%22fill%22%3A%20true%2C%0A%20%20%22fillColor%22%3A%20%22%233186cc%22%2C%0A%20%20%22fillOpacity%22%3A%200.7%2C%0A%20%20%22fillRule%22%3A%20%22evenodd%22%2C%0A%20%20%22lineCap%22%3A%20%22round%22%2C%0A%20%20%22lineJoin%22%3A%20%22round%22%2C%0A%20%20%22opacity%22%3A%201.0%2C%0A%20%20%22radius%22%3A%205%2C%0A%20%20%22stroke%22%3A%20true%2C%0A%20%20%22weight%22%3A%203%0A%7D%0A%20%20%20%20%20%20%20%20%20%20%20%20%20%20%20%20%29%0A%20%20%20%20%20%20%20%20%20%20%20%20%20%20%20%20.addTo%28map_b5b67bda42714c19b60ce8993be67a72%29%3B%0A%20%20%20%20%20%20%20%20%20%20%20%20%0A%20%20%20%20%0A%20%20%20%20%20%20%20%20%20%20%20%20var%20popup_44091e6c842f49848fdfdc75b7abdb8c%20%3D%20L.popup%28%7BmaxWidth%3A%20%27100%25%27%0A%20%20%20%20%20%20%20%20%20%20%20%20%0A%20%20%20%20%20%20%20%20%20%20%20%20%7D%29%3B%0A%0A%20%20%20%20%20%20%20%20%20%20%20%20%0A%20%20%20%20%20%20%20%20%20%20%20%20%20%20%20%20var%20html_aad25f1051f94772acd62d884f3297e5%20%3D%20%24%28%60%3Cdiv%20id%3D%22html_aad25f1051f94772acd62d884f3297e5%22%20style%3D%22width%3A%20100.0%25%3B%20height%3A%20100.0%25%3B%22%3E%20%20Quarta%20Parada%3C/div%3E%60%29%5B0%5D%3B%0A%20%20%20%20%20%20%20%20%20%20%20%20%20%20%20%20popup_44091e6c842f49848fdfdc75b7abdb8c.setContent%28html_aad25f1051f94772acd62d884f3297e5%29%3B%0A%20%20%20%20%20%20%20%20%20%20%20%20%0A%0A%20%20%20%20%20%20%20%20%20%20%20%20circle_marker_356f77b62d1c4dbeb08230bf88167311.bindPopup%28popup_44091e6c842f49848fdfdc75b7abdb8c%29%0A%20%20%20%20%20%20%20%20%20%20%20%20%3B%0A%0A%20%20%20%20%20%20%20%20%20%20%20%20%0A%20%20%20%20%20%20%20%20%0A%20%20%20%20%0A%20%20%20%20%20%20%20%20%20%20%20%20var%20circle_marker_28fa823137784c53b1e6b22dcb92d0b8%20%3D%20L.circleMarker%28%0A%20%20%20%20%20%20%20%20%20%20%20%20%20%20%20%20%5B-23.5081861%2C%20-46.626204%5D%2C%0A%20%20%20%20%20%20%20%20%20%20%20%20%20%20%20%20%7B%0A%20%20%22bubblingMouseEvents%22%3A%20true%2C%0A%20%20%22color%22%3A%20%22blue%22%2C%0A%20%20%22dashArray%22%3A%20null%2C%0A%20%20%22dashOffset%22%3A%20null%2C%0A%20%20%22fill%22%3A%20true%2C%0A%20%20%22fillColor%22%3A%20%22%233186cc%22%2C%0A%20%20%22fillOpacity%22%3A%200.7%2C%0A%20%20%22fillRule%22%3A%20%22evenodd%22%2C%0A%20%20%22lineCap%22%3A%20%22round%22%2C%0A%20%20%22lineJoin%22%3A%20%22round%22%2C%0A%20%20%22opacity%22%3A%201.0%2C%0A%20%20%22radius%22%3A%205%2C%0A%20%20%22stroke%22%3A%20true%2C%0A%20%20%22weight%22%3A%203%0A%7D%0A%20%20%20%20%20%20%20%20%20%20%20%20%20%20%20%20%29%0A%20%20%20%20%20%20%20%20%20%20%20%20%20%20%20%20.addTo%28map_b5b67bda42714c19b60ce8993be67a72%29%3B%0A%20%20%20%20%20%20%20%20%20%20%20%20%0A%20%20%20%20%0A%20%20%20%20%20%20%20%20%20%20%20%20var%20popup_5a342f1e667348ce9619176d1812c44a%20%3D%20L.popup%28%7BmaxWidth%3A%20%27100%25%27%0A%20%20%20%20%20%20%20%20%20%20%20%20%0A%20%20%20%20%20%20%20%20%20%20%20%20%7D%29%3B%0A%0A%20%20%20%20%20%20%20%20%20%20%20%20%0A%20%20%20%20%20%20%20%20%20%20%20%20%20%20%20%20var%20html_b9a64c7cb85b470fa7c7a4a7f28e7e08%20%3D%20%24%28%60%3Cdiv%20id%3D%22html_b9a64c7cb85b470fa7c7a4a7f28e7e08%22%20style%3D%22width%3A%20100.0%25%3B%20height%3A%20100.0%25%3B%22%3E%20%20Carandiru%3C/div%3E%60%29%5B0%5D%3B%0A%20%20%20%20%20%20%20%20%20%20%20%20%20%20%20%20popup_5a342f1e667348ce9619176d1812c44a.setContent%28html_b9a64c7cb85b470fa7c7a4a7f28e7e08%29%3B%0A%20%20%20%20%20%20%20%20%20%20%20%20%0A%0A%20%20%20%20%20%20%20%20%20%20%20%20circle_marker_28fa823137784c53b1e6b22dcb92d0b8.bindPopup%28popup_5a342f1e667348ce9619176d1812c44a%29%0A%20%20%20%20%20%20%20%20%20%20%20%20%3B%0A%0A%20%20%20%20%20%20%20%20%20%20%20%20%0A%20%20%20%20%20%20%20%20%0A%20%20%20%20%0A%20%20%20%20%20%20%20%20%20%20%20%20var%20circle_marker_16b2908107a047319134749f7b95ff88%20%3D%20L.circleMarker%28%0A%20%20%20%20%20%20%20%20%20%20%20%20%20%20%20%20%5B-23.5245028%2C%20-46.606615%5D%2C%0A%20%20%20%20%20%20%20%20%20%20%20%20%20%20%20%20%7B%0A%20%20%22bubblingMouseEvents%22%3A%20true%2C%0A%20%20%22color%22%3A%20%22blue%22%2C%0A%20%20%22dashArray%22%3A%20null%2C%0A%20%20%22dashOffset%22%3A%20null%2C%0A%20%20%22fill%22%3A%20true%2C%0A%20%20%22fillColor%22%3A%20%22%233186cc%22%2C%0A%20%20%22fillOpacity%22%3A%200.7%2C%0A%20%20%22fillRule%22%3A%20%22evenodd%22%2C%0A%20%20%22lineCap%22%3A%20%22round%22%2C%0A%20%20%22lineJoin%22%3A%20%22round%22%2C%0A%20%20%22opacity%22%3A%201.0%2C%0A%20%20%22radius%22%3A%205%2C%0A%20%20%22stroke%22%3A%20true%2C%0A%20%20%22weight%22%3A%203%0A%7D%0A%20%20%20%20%20%20%20%20%20%20%20%20%20%20%20%20%29%0A%20%20%20%20%20%20%20%20%20%20%20%20%20%20%20%20.addTo%28map_b5b67bda42714c19b60ce8993be67a72%29%3B%0A%20%20%20%20%20%20%20%20%20%20%20%20%0A%20%20%20%20%0A%20%20%20%20%20%20%20%20%20%20%20%20var%20popup_e6d91ee9ad77441b884ae82d4c9b5924%20%3D%20L.popup%28%7BmaxWidth%3A%20%27100%25%27%0A%20%20%20%20%20%20%20%20%20%20%20%20%0A%20%20%20%20%20%20%20%20%20%20%20%20%7D%29%3B%0A%0A%20%20%20%20%20%20%20%20%20%20%20%20%0A%20%20%20%20%20%20%20%20%20%20%20%20%20%20%20%20var%20html_d89c5db3e2134e52a5653a18bdf4ca6e%20%3D%20%24%28%60%3Cdiv%20id%3D%22html_d89c5db3e2134e52a5653a18bdf4ca6e%22%20style%3D%22width%3A%20100.0%25%3B%20height%3A%20100.0%25%3B%22%3E%20%20Catumbi%3C/div%3E%60%29%5B0%5D%3B%0A%20%20%20%20%20%20%20%20%20%20%20%20%20%20%20%20popup_e6d91ee9ad77441b884ae82d4c9b5924.setContent%28html_d89c5db3e2134e52a5653a18bdf4ca6e%29%3B%0A%20%20%20%20%20%20%20%20%20%20%20%20%0A%0A%20%20%20%20%20%20%20%20%20%20%20%20circle_marker_16b2908107a047319134749f7b95ff88.bindPopup%28popup_e6d91ee9ad77441b884ae82d4c9b5924%29%0A%20%20%20%20%20%20%20%20%20%20%20%20%3B%0A%0A%20%20%20%20%20%20%20%20%20%20%20%20%0A%20%20%20%20%20%20%20%20%0A%20%20%20%20%0A%20%20%20%20%20%20%20%20%20%20%20%20var%20circle_marker_1faedb1ed0d4437bbba1804c6d8a571c%20%3D%20L.circleMarker%28%0A%20%20%20%20%20%20%20%20%20%20%20%20%20%20%20%20%5B-23.5634803%2C%20-46.5534876%5D%2C%0A%20%20%20%20%20%20%20%20%20%20%20%20%20%20%20%20%7B%0A%20%20%22bubblingMouseEvents%22%3A%20true%2C%0A%20%20%22color%22%3A%20%22blue%22%2C%0A%20%20%22dashArray%22%3A%20null%2C%0A%20%20%22dashOffset%22%3A%20null%2C%0A%20%20%22fill%22%3A%20true%2C%0A%20%20%22fillColor%22%3A%20%22%233186cc%22%2C%0A%20%20%22fillOpacity%22%3A%200.7%2C%0A%20%20%22fillRule%22%3A%20%22evenodd%22%2C%0A%20%20%22lineCap%22%3A%20%22round%22%2C%0A%20%20%22lineJoin%22%3A%20%22round%22%2C%0A%20%20%22opacity%22%3A%201.0%2C%0A%20%20%22radius%22%3A%205%2C%0A%20%20%22stroke%22%3A%20true%2C%0A%20%20%22weight%22%3A%203%0A%7D%0A%20%20%20%20%20%20%20%20%20%20%20%20%20%20%20%20%29%0A%20%20%20%20%20%20%20%20%20%20%20%20%20%20%20%20.addTo%28map_b5b67bda42714c19b60ce8993be67a72%29%3B%0A%20%20%20%20%20%20%20%20%20%20%20%20%0A%20%20%20%20%0A%20%20%20%20%20%20%20%20%20%20%20%20var%20popup_26482baea56a42248cd077881e56f7c1%20%3D%20L.popup%28%7BmaxWidth%3A%20%27100%25%27%0A%20%20%20%20%20%20%20%20%20%20%20%20%0A%20%20%20%20%20%20%20%20%20%20%20%20%7D%29%3B%0A%0A%20%20%20%20%20%20%20%20%20%20%20%20%0A%20%20%20%20%20%20%20%20%20%20%20%20%20%20%20%20var%20html_e4d533d95fa443f2886278b88c286a9d%20%3D%20%24%28%60%3Cdiv%20id%3D%22html_e4d533d95fa443f2886278b88c286a9d%22%20style%3D%22width%3A%20100.0%25%3B%20height%3A%20100.0%25%3B%22%3E%20%20Vl%20Formosa%3C/div%3E%60%29%5B0%5D%3B%0A%20%20%20%20%20%20%20%20%20%20%20%20%20%20%20%20popup_26482baea56a42248cd077881e56f7c1.setContent%28html_e4d533d95fa443f2886278b88c286a9d%29%3B%0A%20%20%20%20%20%20%20%20%20%20%20%20%0A%0A%20%20%20%20%20%20%20%20%20%20%20%20circle_marker_1faedb1ed0d4437bbba1804c6d8a571c.bindPopup%28popup_26482baea56a42248cd077881e56f7c1%29%0A%20%20%20%20%20%20%20%20%20%20%20%20%3B%0A%0A%20%20%20%20%20%20%20%20%20%20%20%20%0A%20%20%20%20%20%20%20%20%0A%20%20%20%20%0A%20%20%20%20%20%20%20%20%20%20%20%20var%20circle_marker_3ec718a4aa3c446eb94618ec6d149d1a%20%3D%20L.circleMarker%28%0A%20%20%20%20%20%20%20%20%20%20%20%20%20%20%20%20%5B-23.5298378%2C%20-46.6850028%5D%2C%0A%20%20%20%20%20%20%20%20%20%20%20%20%20%20%20%20%7B%0A%20%20%22bubblingMouseEvents%22%3A%20true%2C%0A%20%20%22color%22%3A%20%22blue%22%2C%0A%20%20%22dashArray%22%3A%20null%2C%0A%20%20%22dashOffset%22%3A%20null%2C%0A%20%20%22fill%22%3A%20true%2C%0A%20%20%22fillColor%22%3A%20%22%233186cc%22%2C%0A%20%20%22fillOpacity%22%3A%200.7%2C%0A%20%20%22fillRule%22%3A%20%22evenodd%22%2C%0A%20%20%22lineCap%22%3A%20%22round%22%2C%0A%20%20%22lineJoin%22%3A%20%22round%22%2C%0A%20%20%22opacity%22%3A%201.0%2C%0A%20%20%22radius%22%3A%205%2C%0A%20%20%22stroke%22%3A%20true%2C%0A%20%20%22weight%22%3A%203%0A%7D%0A%20%20%20%20%20%20%20%20%20%20%20%20%20%20%20%20%29%0A%20%20%20%20%20%20%20%20%20%20%20%20%20%20%20%20.addTo%28map_b5b67bda42714c19b60ce8993be67a72%29%3B%0A%20%20%20%20%20%20%20%20%20%20%20%20%0A%20%20%20%20%0A%20%20%20%20%20%20%20%20%20%20%20%20var%20popup_aa9b2952c2ec4532b00b53880f50341d%20%3D%20L.popup%28%7BmaxWidth%3A%20%27100%25%27%0A%20%20%20%20%20%20%20%20%20%20%20%20%0A%20%20%20%20%20%20%20%20%20%20%20%20%7D%29%3B%0A%0A%20%20%20%20%20%20%20%20%20%20%20%20%0A%20%20%20%20%20%20%20%20%20%20%20%20%20%20%20%20var%20html_00475878e2d448208f74f032b4f8bc5c%20%3D%20%24%28%60%3Cdiv%20id%3D%22html_00475878e2d448208f74f032b4f8bc5c%22%20style%3D%22width%3A%20100.0%25%3B%20height%3A%20100.0%25%3B%22%3E%20%20Vl%20Pomp%C3%A9ia%3C/div%3E%60%29%5B0%5D%3B%0A%20%20%20%20%20%20%20%20%20%20%20%20%20%20%20%20popup_aa9b2952c2ec4532b00b53880f50341d.setContent%28html_00475878e2d448208f74f032b4f8bc5c%29%3B%0A%20%20%20%20%20%20%20%20%20%20%20%20%0A%0A%20%20%20%20%20%20%20%20%20%20%20%20circle_marker_3ec718a4aa3c446eb94618ec6d149d1a.bindPopup%28popup_aa9b2952c2ec4532b00b53880f50341d%29%0A%20%20%20%20%20%20%20%20%20%20%20%20%3B%0A%0A%20%20%20%20%20%20%20%20%20%20%20%20%0A%20%20%20%20%20%20%20%20%0A%20%20%20%20%0A%20%20%20%20%20%20%20%20%20%20%20%20var%20circle_marker_834bed734efc40af915114188d8e1077%20%3D%20L.circleMarker%28%0A%20%20%20%20%20%20%20%20%20%20%20%20%20%20%20%20%5B-23.5523952%2C%20-46.5874203%5D%2C%0A%20%20%20%20%20%20%20%20%20%20%20%20%20%20%20%20%7B%0A%20%20%22bubblingMouseEvents%22%3A%20true%2C%0A%20%20%22color%22%3A%20%22blue%22%2C%0A%20%20%22dashArray%22%3A%20null%2C%0A%20%20%22dashOffset%22%3A%20null%2C%0A%20%20%22fill%22%3A%20true%2C%0A%20%20%22fillColor%22%3A%20%22%233186cc%22%2C%0A%20%20%22fillOpacity%22%3A%200.7%2C%0A%20%20%22fillRule%22%3A%20%22evenodd%22%2C%0A%20%20%22lineCap%22%3A%20%22round%22%2C%0A%20%20%22lineJoin%22%3A%20%22round%22%2C%0A%20%20%22opacity%22%3A%201.0%2C%0A%20%20%22radius%22%3A%205%2C%0A%20%20%22stroke%22%3A%20true%2C%0A%20%20%22weight%22%3A%203%0A%7D%0A%20%20%20%20%20%20%20%20%20%20%20%20%20%20%20%20%29%0A%20%20%20%20%20%20%20%20%20%20%20%20%20%20%20%20.addTo%28map_b5b67bda42714c19b60ce8993be67a72%29%3B%0A%20%20%20%20%20%20%20%20%20%20%20%20%0A%20%20%20%20%0A%20%20%20%20%20%20%20%20%20%20%20%20var%20popup_459f8851110546589084275e9ddd0b50%20%3D%20L.popup%28%7BmaxWidth%3A%20%27100%25%27%0A%20%20%20%20%20%20%20%20%20%20%20%20%0A%20%20%20%20%20%20%20%20%20%20%20%20%7D%29%3B%0A%0A%20%20%20%20%20%20%20%20%20%20%20%20%0A%20%20%20%20%20%20%20%20%20%20%20%20%20%20%20%20var%20html_7edb848071bb4f0c9bc0362037f795d7%20%3D%20%24%28%60%3Cdiv%20id%3D%22html_7edb848071bb4f0c9bc0362037f795d7%22%20style%3D%22width%3A%20100.0%25%3B%20height%3A%20100.0%25%3B%22%3E%20%20Mooca%3C/div%3E%60%29%5B0%5D%3B%0A%20%20%20%20%20%20%20%20%20%20%20%20%20%20%20%20popup_459f8851110546589084275e9ddd0b50.setContent%28html_7edb848071bb4f0c9bc0362037f795d7%29%3B%0A%20%20%20%20%20%20%20%20%20%20%20%20%0A%0A%20%20%20%20%20%20%20%20%20%20%20%20circle_marker_834bed734efc40af915114188d8e1077.bindPopup%28popup_459f8851110546589084275e9ddd0b50%29%0A%20%20%20%20%20%20%20%20%20%20%20%20%3B%0A%0A%20%20%20%20%20%20%20%20%20%20%20%20%0A%20%20%20%20%20%20%20%20%0A%20%20%20%20%0A%20%20%20%20%20%20%20%20%20%20%20%20var%20circle_marker_b1030fdef8a747c6a632dec9dde2501d%20%3D%20L.circleMarker%28%0A%20%20%20%20%20%20%20%20%20%20%20%20%20%20%20%20%5B-23.5826859%2C%20-46.4983628%5D%2C%0A%20%20%20%20%20%20%20%20%20%20%20%20%20%20%20%20%7B%0A%20%20%22bubblingMouseEvents%22%3A%20true%2C%0A%20%20%22color%22%3A%20%22blue%22%2C%0A%20%20%22dashArray%22%3A%20null%2C%0A%20%20%22dashOffset%22%3A%20null%2C%0A%20%20%22fill%22%3A%20true%2C%0A%20%20%22fillColor%22%3A%20%22%233186cc%22%2C%0A%20%20%22fillOpacity%22%3A%200.7%2C%0A%20%20%22fillRule%22%3A%20%22evenodd%22%2C%0A%20%20%22lineCap%22%3A%20%22round%22%2C%0A%20%20%22lineJoin%22%3A%20%22round%22%2C%0A%20%20%22opacity%22%3A%201.0%2C%0A%20%20%22radius%22%3A%205%2C%0A%20%20%22stroke%22%3A%20true%2C%0A%20%20%22weight%22%3A%203%0A%7D%0A%20%20%20%20%20%20%20%20%20%20%20%20%20%20%20%20%29%0A%20%20%20%20%20%20%20%20%20%20%20%20%20%20%20%20.addTo%28map_b5b67bda42714c19b60ce8993be67a72%29%3B%0A%20%20%20%20%20%20%20%20%20%20%20%20%0A%20%20%20%20%0A%20%20%20%20%20%20%20%20%20%20%20%20var%20popup_5f130f4af81147f0b5dd1ca3cbec11df%20%3D%20L.popup%28%7BmaxWidth%3A%20%27100%25%27%0A%20%20%20%20%20%20%20%20%20%20%20%20%0A%20%20%20%20%20%20%20%20%20%20%20%20%7D%29%3B%0A%0A%20%20%20%20%20%20%20%20%20%20%20%20%0A%20%20%20%20%20%20%20%20%20%20%20%20%20%20%20%20var%20html_3c98df7468884410b344efe0437ace16%20%3D%20%24%28%60%3Cdiv%20id%3D%22html_3c98df7468884410b344efe0437ace16%22%20style%3D%22width%3A%20100.0%25%3B%20height%3A%20100.0%25%3B%22%3E%20%20Jd%20Imperador%3C/div%3E%60%29%5B0%5D%3B%0A%20%20%20%20%20%20%20%20%20%20%20%20%20%20%20%20popup_5f130f4af81147f0b5dd1ca3cbec11df.setContent%28html_3c98df7468884410b344efe0437ace16%29%3B%0A%20%20%20%20%20%20%20%20%20%20%20%20%0A%0A%20%20%20%20%20%20%20%20%20%20%20%20circle_marker_b1030fdef8a747c6a632dec9dde2501d.bindPopup%28popup_5f130f4af81147f0b5dd1ca3cbec11df%29%0A%20%20%20%20%20%20%20%20%20%20%20%20%3B%0A%0A%20%20%20%20%20%20%20%20%20%20%20%20%0A%20%20%20%20%20%20%20%20%0A%20%20%20%20%0A%20%20%20%20%20%20%20%20%20%20%20%20var%20circle_marker_e2e6018f55534b6a8ce1b2fd59002189%20%3D%20L.circleMarker%28%0A%20%20%20%20%20%20%20%20%20%20%20%20%20%20%20%20%5B-23.5451378%2C%20-46.5704217%5D%2C%0A%20%20%20%20%20%20%20%20%20%20%20%20%20%20%20%20%7B%0A%20%20%22bubblingMouseEvents%22%3A%20true%2C%0A%20%20%22color%22%3A%20%22blue%22%2C%0A%20%20%22dashArray%22%3A%20null%2C%0A%20%20%22dashOffset%22%3A%20null%2C%0A%20%20%22fill%22%3A%20true%2C%0A%20%20%22fillColor%22%3A%20%22%233186cc%22%2C%0A%20%20%22fillOpacity%22%3A%200.7%2C%0A%20%20%22fillRule%22%3A%20%22evenodd%22%2C%0A%20%20%22lineCap%22%3A%20%22round%22%2C%0A%20%20%22lineJoin%22%3A%20%22round%22%2C%0A%20%20%22opacity%22%3A%201.0%2C%0A%20%20%22radius%22%3A%205%2C%0A%20%20%22stroke%22%3A%20true%2C%0A%20%20%22weight%22%3A%203%0A%7D%0A%20%20%20%20%20%20%20%20%20%20%20%20%20%20%20%20%29%0A%20%20%20%20%20%20%20%20%20%20%20%20%20%20%20%20.addTo%28map_b5b67bda42714c19b60ce8993be67a72%29%3B%0A%20%20%20%20%20%20%20%20%20%20%20%20%0A%20%20%20%20%0A%20%20%20%20%20%20%20%20%20%20%20%20var%20popup_b56697a560244426b41507f1cb6bc687%20%3D%20L.popup%28%7BmaxWidth%3A%20%27100%25%27%0A%20%20%20%20%20%20%20%20%20%20%20%20%0A%20%20%20%20%20%20%20%20%20%20%20%20%7D%29%3B%0A%0A%20%20%20%20%20%20%20%20%20%20%20%20%0A%20%20%20%20%20%20%20%20%20%20%20%20%20%20%20%20var%20html_01dde9c690f64ed699ef45b1f7a84ef6%20%3D%20%24%28%60%3Cdiv%20id%3D%22html_01dde9c690f64ed699ef45b1f7a84ef6%22%20style%3D%22width%3A%20100.0%25%3B%20height%3A%20100.0%25%3B%22%3E%20%20Vl%20Gomes%20Cardim%3C/div%3E%60%29%5B0%5D%3B%0A%20%20%20%20%20%20%20%20%20%20%20%20%20%20%20%20popup_b56697a560244426b41507f1cb6bc687.setContent%28html_01dde9c690f64ed699ef45b1f7a84ef6%29%3B%0A%20%20%20%20%20%20%20%20%20%20%20%20%0A%0A%20%20%20%20%20%20%20%20%20%20%20%20circle_marker_e2e6018f55534b6a8ce1b2fd59002189.bindPopup%28popup_b56697a560244426b41507f1cb6bc687%29%0A%20%20%20%20%20%20%20%20%20%20%20%20%3B%0A%0A%20%20%20%20%20%20%20%20%20%20%20%20%0A%20%20%20%20%20%20%20%20%0A%20%20%20%20%0A%20%20%20%20%20%20%20%20%20%20%20%20var%20circle_marker_d61e2f4688f64c8eb110e6ad8f7cae9e%20%3D%20L.circleMarker%28%0A%20%20%20%20%20%20%20%20%20%20%20%20%20%20%20%20%5B-23.547802%2C%20-46.649413%5D%2C%0A%20%20%20%20%20%20%20%20%20%20%20%20%20%20%20%20%7B%0A%20%20%22bubblingMouseEvents%22%3A%20true%2C%0A%20%20%22color%22%3A%20%22blue%22%2C%0A%20%20%22dashArray%22%3A%20null%2C%0A%20%20%22dashOffset%22%3A%20null%2C%0A%20%20%22fill%22%3A%20true%2C%0A%20%20%22fillColor%22%3A%20%22%233186cc%22%2C%0A%20%20%22fillOpacity%22%3A%200.7%2C%0A%20%20%22fillRule%22%3A%20%22evenodd%22%2C%0A%20%20%22lineCap%22%3A%20%22round%22%2C%0A%20%20%22lineJoin%22%3A%20%22round%22%2C%0A%20%20%22opacity%22%3A%201.0%2C%0A%20%20%22radius%22%3A%205%2C%0A%20%20%22stroke%22%3A%20true%2C%0A%20%20%22weight%22%3A%203%0A%7D%0A%20%20%20%20%20%20%20%20%20%20%20%20%20%20%20%20%29%0A%20%20%20%20%20%20%20%20%20%20%20%20%20%20%20%20.addTo%28map_b5b67bda42714c19b60ce8993be67a72%29%3B%0A%20%20%20%20%20%20%20%20%20%20%20%20%0A%20%20%20%20%0A%20%20%20%20%20%20%20%20%20%20%20%20var%20popup_f36d1be5b6684b968be47c6ce6c8b329%20%3D%20L.popup%28%7BmaxWidth%3A%20%27100%25%27%0A%20%20%20%20%20%20%20%20%20%20%20%20%0A%20%20%20%20%20%20%20%20%20%20%20%20%7D%29%3B%0A%0A%20%20%20%20%20%20%20%20%20%20%20%20%0A%20%20%20%20%20%20%20%20%20%20%20%20%20%20%20%20var%20html_7ac4d66536a24992b9c90a2cbf683d74%20%3D%20%24%28%60%3Cdiv%20id%3D%22html_7ac4d66536a24992b9c90a2cbf683d74%22%20style%3D%22width%3A%20100.0%25%3B%20height%3A%20100.0%25%3B%22%3E%20%20Vl%20Buarque%3C/div%3E%60%29%5B0%5D%3B%0A%20%20%20%20%20%20%20%20%20%20%20%20%20%20%20%20popup_f36d1be5b6684b968be47c6ce6c8b329.setContent%28html_7ac4d66536a24992b9c90a2cbf683d74%29%3B%0A%20%20%20%20%20%20%20%20%20%20%20%20%0A%0A%20%20%20%20%20%20%20%20%20%20%20%20circle_marker_d61e2f4688f64c8eb110e6ad8f7cae9e.bindPopup%28popup_f36d1be5b6684b968be47c6ce6c8b329%29%0A%20%20%20%20%20%20%20%20%20%20%20%20%3B%0A%0A%20%20%20%20%20%20%20%20%20%20%20%20%0A%20%20%20%20%20%20%20%20%0A%20%20%20%20%0A%20%20%20%20%20%20%20%20%20%20%20%20var%20circle_marker_8295d07ce40d4a5f9dd8e1197783062b%20%3D%20L.circleMarker%28%0A%20%20%20%20%20%20%20%20%20%20%20%20%20%20%20%20%5B-23.5822459%2C%20-46.6494602%5D%2C%0A%20%20%20%20%20%20%20%20%20%20%20%20%20%20%20%20%7B%0A%20%20%22bubblingMouseEvents%22%3A%20true%2C%0A%20%20%22color%22%3A%20%22blue%22%2C%0A%20%20%22dashArray%22%3A%20null%2C%0A%20%20%22dashOffset%22%3A%20null%2C%0A%20%20%22fill%22%3A%20true%2C%0A%20%20%22fillColor%22%3A%20%22%233186cc%22%2C%0A%20%20%22fillOpacity%22%3A%200.7%2C%0A%20%20%22fillRule%22%3A%20%22evenodd%22%2C%0A%20%20%22lineCap%22%3A%20%22round%22%2C%0A%20%20%22lineJoin%22%3A%20%22round%22%2C%0A%20%20%22opacity%22%3A%201.0%2C%0A%20%20%22radius%22%3A%205%2C%0A%20%20%22stroke%22%3A%20true%2C%0A%20%20%22weight%22%3A%203%0A%7D%0A%20%20%20%20%20%20%20%20%20%20%20%20%20%20%20%20%29%0A%20%20%20%20%20%20%20%20%20%20%20%20%20%20%20%20.addTo%28map_b5b67bda42714c19b60ce8993be67a72%29%3B%0A%20%20%20%20%20%20%20%20%20%20%20%20%0A%20%20%20%20%0A%20%20%20%20%20%20%20%20%20%20%20%20var%20popup_b58af5488fb2488bb8edbb4ea0ba9bbf%20%3D%20L.popup%28%7BmaxWidth%3A%20%27100%25%27%0A%20%20%20%20%20%20%20%20%20%20%20%20%0A%20%20%20%20%20%20%20%20%20%20%20%20%7D%29%3B%0A%0A%20%20%20%20%20%20%20%20%20%20%20%20%0A%20%20%20%20%20%20%20%20%20%20%20%20%20%20%20%20var%20html_769393fc266d4b0ca9cf71f81c5a0a06%20%3D%20%24%28%60%3Cdiv%20id%3D%22html_769393fc266d4b0ca9cf71f81c5a0a06%22%20style%3D%22width%3A%20100.0%25%3B%20height%3A%20100.0%25%3B%22%3E%20%20Vl%20Mariana%3C/div%3E%60%29%5B0%5D%3B%0A%20%20%20%20%20%20%20%20%20%20%20%20%20%20%20%20popup_b58af5488fb2488bb8edbb4ea0ba9bbf.setContent%28html_769393fc266d4b0ca9cf71f81c5a0a06%29%3B%0A%20%20%20%20%20%20%20%20%20%20%20%20%0A%0A%20%20%20%20%20%20%20%20%20%20%20%20circle_marker_8295d07ce40d4a5f9dd8e1197783062b.bindPopup%28popup_b58af5488fb2488bb8edbb4ea0ba9bbf%29%0A%20%20%20%20%20%20%20%20%20%20%20%20%3B%0A%0A%20%20%20%20%20%20%20%20%20%20%20%20%0A%20%20%20%20%20%20%20%20%0A%20%20%20%20%0A%20%20%20%20%20%20%20%20%20%20%20%20var%20circle_marker_8cf85997106f4773bb5b70669e46aab0%20%3D%20L.circleMarker%28%0A%20%20%20%20%20%20%20%20%20%20%20%20%20%20%20%20%5B-23.6595545%2C%20-46.7000605%5D%2C%0A%20%20%20%20%20%20%20%20%20%20%20%20%20%20%20%20%7B%0A%20%20%22bubblingMouseEvents%22%3A%20true%2C%0A%20%20%22color%22%3A%20%22blue%22%2C%0A%20%20%22dashArray%22%3A%20null%2C%0A%20%20%22dashOffset%22%3A%20null%2C%0A%20%20%22fill%22%3A%20true%2C%0A%20%20%22fillColor%22%3A%20%22%233186cc%22%2C%0A%20%20%22fillOpacity%22%3A%200.7%2C%0A%20%20%22fillRule%22%3A%20%22evenodd%22%2C%0A%20%20%22lineCap%22%3A%20%22round%22%2C%0A%20%20%22lineJoin%22%3A%20%22round%22%2C%0A%20%20%22opacity%22%3A%201.0%2C%0A%20%20%22radius%22%3A%205%2C%0A%20%20%22stroke%22%3A%20true%2C%0A%20%20%22weight%22%3A%203%0A%7D%0A%20%20%20%20%20%20%20%20%20%20%20%20%20%20%20%20%29%0A%20%20%20%20%20%20%20%20%20%20%20%20%20%20%20%20.addTo%28map_b5b67bda42714c19b60ce8993be67a72%29%3B%0A%20%20%20%20%20%20%20%20%20%20%20%20%0A%20%20%20%20%0A%20%20%20%20%20%20%20%20%20%20%20%20var%20popup_667941310bba4951a3cdbbf493ad2132%20%3D%20L.popup%28%7BmaxWidth%3A%20%27100%25%27%0A%20%20%20%20%20%20%20%20%20%20%20%20%0A%20%20%20%20%20%20%20%20%20%20%20%20%7D%29%3B%0A%0A%20%20%20%20%20%20%20%20%20%20%20%20%0A%20%20%20%20%20%20%20%20%20%20%20%20%20%20%20%20var%20html_ef6fc34065104e4e84ed1c3c534b52ff%20%3D%20%24%28%60%3Cdiv%20id%3D%22html_ef6fc34065104e4e84ed1c3c534b52ff%22%20style%3D%22width%3A%20100.0%25%3B%20height%3A%20100.0%25%3B%22%3E%20%20%3C/div%3E%60%29%5B0%5D%3B%0A%20%20%20%20%20%20%20%20%20%20%20%20%20%20%20%20popup_667941310bba4951a3cdbbf493ad2132.setContent%28html_ef6fc34065104e4e84ed1c3c534b52ff%29%3B%0A%20%20%20%20%20%20%20%20%20%20%20%20%0A%0A%20%20%20%20%20%20%20%20%20%20%20%20circle_marker_8cf85997106f4773bb5b70669e46aab0.bindPopup%28popup_667941310bba4951a3cdbbf493ad2132%29%0A%20%20%20%20%20%20%20%20%20%20%20%20%3B%0A%0A%20%20%20%20%20%20%20%20%20%20%20%20%0A%20%20%20%20%20%20%20%20%0A%20%20%20%20%0A%20%20%20%20%20%20%20%20%20%20%20%20var%20circle_marker_578a510351194bc793e1ba0783d336c2%20%3D%20L.circleMarker%28%0A%20%20%20%20%20%20%20%20%20%20%20%20%20%20%20%20%5B-23.5598155%2C%20-46.6793848%5D%2C%0A%20%20%20%20%20%20%20%20%20%20%20%20%20%20%20%20%7B%0A%20%20%22bubblingMouseEvents%22%3A%20true%2C%0A%20%20%22color%22%3A%20%22blue%22%2C%0A%20%20%22dashArray%22%3A%20null%2C%0A%20%20%22dashOffset%22%3A%20null%2C%0A%20%20%22fill%22%3A%20true%2C%0A%20%20%22fillColor%22%3A%20%22%233186cc%22%2C%0A%20%20%22fillOpacity%22%3A%200.7%2C%0A%20%20%22fillRule%22%3A%20%22evenodd%22%2C%0A%20%20%22lineCap%22%3A%20%22round%22%2C%0A%20%20%22lineJoin%22%3A%20%22round%22%2C%0A%20%20%22opacity%22%3A%201.0%2C%0A%20%20%22radius%22%3A%205%2C%0A%20%20%22stroke%22%3A%20true%2C%0A%20%20%22weight%22%3A%203%0A%7D%0A%20%20%20%20%20%20%20%20%20%20%20%20%20%20%20%20%29%0A%20%20%20%20%20%20%20%20%20%20%20%20%20%20%20%20.addTo%28map_b5b67bda42714c19b60ce8993be67a72%29%3B%0A%20%20%20%20%20%20%20%20%20%20%20%20%0A%20%20%20%20%0A%20%20%20%20%20%20%20%20%20%20%20%20var%20popup_570cc32f06724a9bb8ae37edb75889ec%20%3D%20L.popup%28%7BmaxWidth%3A%20%27100%25%27%0A%20%20%20%20%20%20%20%20%20%20%20%20%0A%20%20%20%20%20%20%20%20%20%20%20%20%7D%29%3B%0A%0A%20%20%20%20%20%20%20%20%20%20%20%20%0A%20%20%20%20%20%20%20%20%20%20%20%20%20%20%20%20var%20html_cfb7be047a364edcaa76ce581a734dd5%20%3D%20%24%28%60%3Cdiv%20id%3D%22html_cfb7be047a364edcaa76ce581a734dd5%22%20style%3D%22width%3A%20100.0%25%3B%20height%3A%20100.0%25%3B%22%3E%20%20%3C/div%3E%60%29%5B0%5D%3B%0A%20%20%20%20%20%20%20%20%20%20%20%20%20%20%20%20popup_570cc32f06724a9bb8ae37edb75889ec.setContent%28html_cfb7be047a364edcaa76ce581a734dd5%29%3B%0A%20%20%20%20%20%20%20%20%20%20%20%20%0A%0A%20%20%20%20%20%20%20%20%20%20%20%20circle_marker_578a510351194bc793e1ba0783d336c2.bindPopup%28popup_570cc32f06724a9bb8ae37edb75889ec%29%0A%20%20%20%20%20%20%20%20%20%20%20%20%3B%0A%0A%20%20%20%20%20%20%20%20%20%20%20%20%0A%20%20%20%20%20%20%20%20%0A%20%20%20%20%0A%20%20%20%20%20%20%20%20%20%20%20%20var%20circle_marker_022cc4cbfb5245d2adb2f34122430d5f%20%3D%20L.circleMarker%28%0A%20%20%20%20%20%20%20%20%20%20%20%20%20%20%20%20%5B-22.0709856%2C%20-46.5734039%5D%2C%0A%20%20%20%20%20%20%20%20%20%20%20%20%20%20%20%20%7B%0A%20%20%22bubblingMouseEvents%22%3A%20true%2C%0A%20%20%22color%22%3A%20%22blue%22%2C%0A%20%20%22dashArray%22%3A%20null%2C%0A%20%20%22dashOffset%22%3A%20null%2C%0A%20%20%22fill%22%3A%20true%2C%0A%20%20%22fillColor%22%3A%20%22%233186cc%22%2C%0A%20%20%22fillOpacity%22%3A%200.7%2C%0A%20%20%22fillRule%22%3A%20%22evenodd%22%2C%0A%20%20%22lineCap%22%3A%20%22round%22%2C%0A%20%20%22lineJoin%22%3A%20%22round%22%2C%0A%20%20%22opacity%22%3A%201.0%2C%0A%20%20%22radius%22%3A%205%2C%0A%20%20%22stroke%22%3A%20true%2C%0A%20%20%22weight%22%3A%203%0A%7D%0A%20%20%20%20%20%20%20%20%20%20%20%20%20%20%20%20%29%0A%20%20%20%20%20%20%20%20%20%20%20%20%20%20%20%20.addTo%28map_b5b67bda42714c19b60ce8993be67a72%29%3B%0A%20%20%20%20%20%20%20%20%20%20%20%20%0A%20%20%20%20%0A%20%20%20%20%20%20%20%20%20%20%20%20var%20popup_14ffdf3603124b4db8345f9eaeee81e3%20%3D%20L.popup%28%7BmaxWidth%3A%20%27100%25%27%0A%20%20%20%20%20%20%20%20%20%20%20%20%0A%20%20%20%20%20%20%20%20%20%20%20%20%7D%29%3B%0A%0A%20%20%20%20%20%20%20%20%20%20%20%20%0A%20%20%20%20%20%20%20%20%20%20%20%20%20%20%20%20var%20html_3ac204d528f24c0d887b3dc1327ec8b0%20%3D%20%24%28%60%3Cdiv%20id%3D%22html_3ac204d528f24c0d887b3dc1327ec8b0%22%20style%3D%22width%3A%20100.0%25%3B%20height%3A%20100.0%25%3B%22%3E%20%20Sta%20Ifigenia%3C/div%3E%60%29%5B0%5D%3B%0A%20%20%20%20%20%20%20%20%20%20%20%20%20%20%20%20popup_14ffdf3603124b4db8345f9eaeee81e3.setContent%28html_3ac204d528f24c0d887b3dc1327ec8b0%29%3B%0A%20%20%20%20%20%20%20%20%20%20%20%20%0A%0A%20%20%20%20%20%20%20%20%20%20%20%20circle_marker_022cc4cbfb5245d2adb2f34122430d5f.bindPopup%28popup_14ffdf3603124b4db8345f9eaeee81e3%29%0A%20%20%20%20%20%20%20%20%20%20%20%20%3B%0A%0A%20%20%20%20%20%20%20%20%20%20%20%20%0A%20%20%20%20%20%20%20%20%0A%20%20%20%20%0A%20%20%20%20%20%20%20%20%20%20%20%20var%20circle_marker_e397243dbf62418caad01389abd34af7%20%3D%20L.circleMarker%28%0A%20%20%20%20%20%20%20%20%20%20%20%20%20%20%20%20%5B-23.6109307%2C%20-46.6461231%5D%2C%0A%20%20%20%20%20%20%20%20%20%20%20%20%20%20%20%20%7B%0A%20%20%22bubblingMouseEvents%22%3A%20true%2C%0A%20%20%22color%22%3A%20%22blue%22%2C%0A%20%20%22dashArray%22%3A%20null%2C%0A%20%20%22dashOffset%22%3A%20null%2C%0A%20%20%22fill%22%3A%20true%2C%0A%20%20%22fillColor%22%3A%20%22%233186cc%22%2C%0A%20%20%22fillOpacity%22%3A%200.7%2C%0A%20%20%22fillRule%22%3A%20%22evenodd%22%2C%0A%20%20%22lineCap%22%3A%20%22round%22%2C%0A%20%20%22lineJoin%22%3A%20%22round%22%2C%0A%20%20%22opacity%22%3A%201.0%2C%0A%20%20%22radius%22%3A%205%2C%0A%20%20%22stroke%22%3A%20true%2C%0A%20%20%22weight%22%3A%203%0A%7D%0A%20%20%20%20%20%20%20%20%20%20%20%20%20%20%20%20%29%0A%20%20%20%20%20%20%20%20%20%20%20%20%20%20%20%20.addTo%28map_b5b67bda42714c19b60ce8993be67a72%29%3B%0A%20%20%20%20%20%20%20%20%20%20%20%20%0A%20%20%20%20%0A%20%20%20%20%20%20%20%20%20%20%20%20var%20popup_58ed1c18eb2343f49cee7ad28ce06e01%20%3D%20L.popup%28%7BmaxWidth%3A%20%27100%25%27%0A%20%20%20%20%20%20%20%20%20%20%20%20%0A%20%20%20%20%20%20%20%20%20%20%20%20%7D%29%3B%0A%0A%20%20%20%20%20%20%20%20%20%20%20%20%0A%20%20%20%20%20%20%20%20%20%20%20%20%20%20%20%20var%20html_19e2d8f6f91f4850842192cb47418429%20%3D%20%24%28%60%3Cdiv%20id%3D%22html_19e2d8f6f91f4850842192cb47418429%22%20style%3D%22width%3A%20100.0%25%3B%20height%3A%20100.0%25%3B%22%3E%20%20Planalto%20Paulista%3C/div%3E%60%29%5B0%5D%3B%0A%20%20%20%20%20%20%20%20%20%20%20%20%20%20%20%20popup_58ed1c18eb2343f49cee7ad28ce06e01.setContent%28html_19e2d8f6f91f4850842192cb47418429%29%3B%0A%20%20%20%20%20%20%20%20%20%20%20%20%0A%0A%20%20%20%20%20%20%20%20%20%20%20%20circle_marker_e397243dbf62418caad01389abd34af7.bindPopup%28popup_58ed1c18eb2343f49cee7ad28ce06e01%29%0A%20%20%20%20%20%20%20%20%20%20%20%20%3B%0A%0A%20%20%20%20%20%20%20%20%20%20%20%20%0A%20%20%20%20%20%20%20%20%0A%20%20%20%20%0A%20%20%20%20%20%20%20%20%20%20%20%20var%20circle_marker_bf1d300ae5c14a3baada695cb3b43a35%20%3D%20L.circleMarker%28%0A%20%20%20%20%20%20%20%20%20%20%20%20%20%20%20%20%5B-23.5376348%2C%20-46.6745843%5D%2C%0A%20%20%20%20%20%20%20%20%20%20%20%20%20%20%20%20%7B%0A%20%20%22bubblingMouseEvents%22%3A%20true%2C%0A%20%20%22color%22%3A%20%22blue%22%2C%0A%20%20%22dashArray%22%3A%20null%2C%0A%20%20%22dashOffset%22%3A%20null%2C%0A%20%20%22fill%22%3A%20true%2C%0A%20%20%22fillColor%22%3A%20%22%233186cc%22%2C%0A%20%20%22fillOpacity%22%3A%200.7%2C%0A%20%20%22fillRule%22%3A%20%22evenodd%22%2C%0A%20%20%22lineCap%22%3A%20%22round%22%2C%0A%20%20%22lineJoin%22%3A%20%22round%22%2C%0A%20%20%22opacity%22%3A%201.0%2C%0A%20%20%22radius%22%3A%205%2C%0A%20%20%22stroke%22%3A%20true%2C%0A%20%20%22weight%22%3A%203%0A%7D%0A%20%20%20%20%20%20%20%20%20%20%20%20%20%20%20%20%29%0A%20%20%20%20%20%20%20%20%20%20%20%20%20%20%20%20.addTo%28map_b5b67bda42714c19b60ce8993be67a72%29%3B%0A%20%20%20%20%20%20%20%20%20%20%20%20%0A%20%20%20%20%0A%20%20%20%20%20%20%20%20%20%20%20%20var%20popup_753b05e452ed4819870b90a4a2cb62f4%20%3D%20L.popup%28%7BmaxWidth%3A%20%27100%25%27%0A%20%20%20%20%20%20%20%20%20%20%20%20%0A%20%20%20%20%20%20%20%20%20%20%20%20%7D%29%3B%0A%0A%20%20%20%20%20%20%20%20%20%20%20%20%0A%20%20%20%20%20%20%20%20%20%20%20%20%20%20%20%20var%20html_3980649e88ad482a96f2dce64446e93c%20%3D%20%24%28%60%3Cdiv%20id%3D%22html_3980649e88ad482a96f2dce64446e93c%22%20style%3D%22width%3A%20100.0%25%3B%20height%3A%20100.0%25%3B%22%3E%20%20Perdizes%3C/div%3E%60%29%5B0%5D%3B%0A%20%20%20%20%20%20%20%20%20%20%20%20%20%20%20%20popup_753b05e452ed4819870b90a4a2cb62f4.setContent%28html_3980649e88ad482a96f2dce64446e93c%29%3B%0A%20%20%20%20%20%20%20%20%20%20%20%20%0A%0A%20%20%20%20%20%20%20%20%20%20%20%20circle_marker_bf1d300ae5c14a3baada695cb3b43a35.bindPopup%28popup_753b05e452ed4819870b90a4a2cb62f4%29%0A%20%20%20%20%20%20%20%20%20%20%20%20%3B%0A%0A%20%20%20%20%20%20%20%20%20%20%20%20%0A%20%20%20%20%20%20%20%20%0A%20%20%20%20%0A%20%20%20%20%20%20%20%20%20%20%20%20var%20circle_marker_250cf88b8ee84dcaa6371a3fdaaeb034%20%3D%20L.circleMarker%28%0A%20%20%20%20%20%20%20%20%20%20%20%20%20%20%20%20%5B-23.5416425%2C%20-46.6902068%5D%2C%0A%20%20%20%20%20%20%20%20%20%20%20%20%20%20%20%20%7B%0A%20%20%22bubblingMouseEvents%22%3A%20true%2C%0A%20%20%22color%22%3A%20%22blue%22%2C%0A%20%20%22dashArray%22%3A%20null%2C%0A%20%20%22dashOffset%22%3A%20null%2C%0A%20%20%22fill%22%3A%20true%2C%0A%20%20%22fillColor%22%3A%20%22%233186cc%22%2C%0A%20%20%22fillOpacity%22%3A%200.7%2C%0A%20%20%22fillRule%22%3A%20%22evenodd%22%2C%0A%20%20%22lineCap%22%3A%20%22round%22%2C%0A%20%20%22lineJoin%22%3A%20%22round%22%2C%0A%20%20%22opacity%22%3A%201.0%2C%0A%20%20%22radius%22%3A%205%2C%0A%20%20%22stroke%22%3A%20true%2C%0A%20%20%22weight%22%3A%203%0A%7D%0A%20%20%20%20%20%20%20%20%20%20%20%20%20%20%20%20%29%0A%20%20%20%20%20%20%20%20%20%20%20%20%20%20%20%20.addTo%28map_b5b67bda42714c19b60ce8993be67a72%29%3B%0A%20%20%20%20%20%20%20%20%20%20%20%20%0A%20%20%20%20%0A%20%20%20%20%20%20%20%20%20%20%20%20var%20popup_0e989f51543e4455a296957e681fe9ca%20%3D%20L.popup%28%7BmaxWidth%3A%20%27100%25%27%0A%20%20%20%20%20%20%20%20%20%20%20%20%0A%20%20%20%20%20%20%20%20%20%20%20%20%7D%29%3B%0A%0A%20%20%20%20%20%20%20%20%20%20%20%20%0A%20%20%20%20%20%20%20%20%20%20%20%20%20%20%20%20var%20html_99c84b18560c489a82fb166543dbe7d4%20%3D%20%24%28%60%3Cdiv%20id%3D%22html_99c84b18560c489a82fb166543dbe7d4%22%20style%3D%22width%3A%20100.0%25%3B%20height%3A%20100.0%25%3B%22%3E%20%20Vila%20Pomp%C3%A9ia%3C/div%3E%60%29%5B0%5D%3B%0A%20%20%20%20%20%20%20%20%20%20%20%20%20%20%20%20popup_0e989f51543e4455a296957e681fe9ca.setContent%28html_99c84b18560c489a82fb166543dbe7d4%29%3B%0A%20%20%20%20%20%20%20%20%20%20%20%20%0A%0A%20%20%20%20%20%20%20%20%20%20%20%20circle_marker_250cf88b8ee84dcaa6371a3fdaaeb034.bindPopup%28popup_0e989f51543e4455a296957e681fe9ca%29%0A%20%20%20%20%20%20%20%20%20%20%20%20%3B%0A%0A%20%20%20%20%20%20%20%20%20%20%20%20%0A%20%20%20%20%20%20%20%20%0A%20%20%20%20%0A%20%20%20%20%20%20%20%20%20%20%20%20var%20circle_marker_423e2bcde232405ea8e6faf625e48887%20%3D%20L.circleMarker%28%0A%20%20%20%20%20%20%20%20%20%20%20%20%20%20%20%20%5B-23.5373918%2C%20-46.6761311%5D%2C%0A%20%20%20%20%20%20%20%20%20%20%20%20%20%20%20%20%7B%0A%20%20%22bubblingMouseEvents%22%3A%20true%2C%0A%20%20%22color%22%3A%20%22blue%22%2C%0A%20%20%22dashArray%22%3A%20null%2C%0A%20%20%22dashOffset%22%3A%20null%2C%0A%20%20%22fill%22%3A%20true%2C%0A%20%20%22fillColor%22%3A%20%22%233186cc%22%2C%0A%20%20%22fillOpacity%22%3A%200.7%2C%0A%20%20%22fillRule%22%3A%20%22evenodd%22%2C%0A%20%20%22lineCap%22%3A%20%22round%22%2C%0A%20%20%22lineJoin%22%3A%20%22round%22%2C%0A%20%20%22opacity%22%3A%201.0%2C%0A%20%20%22radius%22%3A%205%2C%0A%20%20%22stroke%22%3A%20true%2C%0A%20%20%22weight%22%3A%203%0A%7D%0A%20%20%20%20%20%20%20%20%20%20%20%20%20%20%20%20%29%0A%20%20%20%20%20%20%20%20%20%20%20%20%20%20%20%20.addTo%28map_b5b67bda42714c19b60ce8993be67a72%29%3B%0A%20%20%20%20%20%20%20%20%20%20%20%20%0A%20%20%20%20%0A%20%20%20%20%20%20%20%20%20%20%20%20var%20popup_228201c833d6416c9c8a09454b3492a9%20%3D%20L.popup%28%7BmaxWidth%3A%20%27100%25%27%0A%20%20%20%20%20%20%20%20%20%20%20%20%0A%20%20%20%20%20%20%20%20%20%20%20%20%7D%29%3B%0A%0A%20%20%20%20%20%20%20%20%20%20%20%20%0A%20%20%20%20%20%20%20%20%20%20%20%20%20%20%20%20var%20html_8f0e64a648b34557bc4ed48186d52d76%20%3D%20%24%28%60%3Cdiv%20id%3D%22html_8f0e64a648b34557bc4ed48186d52d76%22%20style%3D%22width%3A%20100.0%25%3B%20height%3A%20100.0%25%3B%22%3E%20%20Perdizes%3C/div%3E%60%29%5B0%5D%3B%0A%20%20%20%20%20%20%20%20%20%20%20%20%20%20%20%20popup_228201c833d6416c9c8a09454b3492a9.setContent%28html_8f0e64a648b34557bc4ed48186d52d76%29%3B%0A%20%20%20%20%20%20%20%20%20%20%20%20%0A%0A%20%20%20%20%20%20%20%20%20%20%20%20circle_marker_423e2bcde232405ea8e6faf625e48887.bindPopup%28popup_228201c833d6416c9c8a09454b3492a9%29%0A%20%20%20%20%20%20%20%20%20%20%20%20%3B%0A%0A%20%20%20%20%20%20%20%20%20%20%20%20%0A%20%20%20%20%20%20%20%20%0A%20%20%20%20%0A%20%20%20%20%20%20%20%20%20%20%20%20var%20circle_marker_fa434211d0b94832a0360d9b20a57d05%20%3D%20L.circleMarker%28%0A%20%20%20%20%20%20%20%20%20%20%20%20%20%20%20%20%5B-23.5771286%2C%20-46.7413703%5D%2C%0A%20%20%20%20%20%20%20%20%20%20%20%20%20%20%20%20%7B%0A%20%20%22bubblingMouseEvents%22%3A%20true%2C%0A%20%20%22color%22%3A%20%22blue%22%2C%0A%20%20%22dashArray%22%3A%20null%2C%0A%20%20%22dashOffset%22%3A%20null%2C%0A%20%20%22fill%22%3A%20true%2C%0A%20%20%22fillColor%22%3A%20%22%233186cc%22%2C%0A%20%20%22fillOpacity%22%3A%200.7%2C%0A%20%20%22fillRule%22%3A%20%22evenodd%22%2C%0A%20%20%22lineCap%22%3A%20%22round%22%2C%0A%20%20%22lineJoin%22%3A%20%22round%22%2C%0A%20%20%22opacity%22%3A%201.0%2C%0A%20%20%22radius%22%3A%205%2C%0A%20%20%22stroke%22%3A%20true%2C%0A%20%20%22weight%22%3A%203%0A%7D%0A%20%20%20%20%20%20%20%20%20%20%20%20%20%20%20%20%29%0A%20%20%20%20%20%20%20%20%20%20%20%20%20%20%20%20.addTo%28map_b5b67bda42714c19b60ce8993be67a72%29%3B%0A%20%20%20%20%20%20%20%20%20%20%20%20%0A%20%20%20%20%0A%20%20%20%20%20%20%20%20%20%20%20%20var%20popup_39f216a0aab643ff9e766810137e334c%20%3D%20L.popup%28%7BmaxWidth%3A%20%27100%25%27%0A%20%20%20%20%20%20%20%20%20%20%20%20%0A%20%20%20%20%20%20%20%20%20%20%20%20%7D%29%3B%0A%0A%20%20%20%20%20%20%20%20%20%20%20%20%0A%20%20%20%20%20%20%20%20%20%20%20%20%20%20%20%20var%20html_a6c3b8dd818b459e868ece774d39d9d3%20%3D%20%24%28%60%3Cdiv%20id%3D%22html_a6c3b8dd818b459e868ece774d39d9d3%22%20style%3D%22width%3A%20100.0%25%3B%20height%3A%20100.0%25%3B%22%3E%20A%20%20Jd%20Bonfiglioli%3C/div%3E%60%29%5B0%5D%3B%0A%20%20%20%20%20%20%20%20%20%20%20%20%20%20%20%20popup_39f216a0aab643ff9e766810137e334c.setContent%28html_a6c3b8dd818b459e868ece774d39d9d3%29%3B%0A%20%20%20%20%20%20%20%20%20%20%20%20%0A%0A%20%20%20%20%20%20%20%20%20%20%20%20circle_marker_fa434211d0b94832a0360d9b20a57d05.bindPopup%28popup_39f216a0aab643ff9e766810137e334c%29%0A%20%20%20%20%20%20%20%20%20%20%20%20%3B%0A%0A%20%20%20%20%20%20%20%20%20%20%20%20%0A%20%20%20%20%20%20%20%20%0A%20%20%20%20%0A%20%20%20%20%20%20%20%20%20%20%20%20var%20circle_marker_881d35fcca124a9dae84f16c2cfc6ea7%20%3D%20L.circleMarker%28%0A%20%20%20%20%20%20%20%20%20%20%20%20%20%20%20%20%5B-23.561734%2C%20-46.6518504%5D%2C%0A%20%20%20%20%20%20%20%20%20%20%20%20%20%20%20%20%7B%0A%20%20%22bubblingMouseEvents%22%3A%20true%2C%0A%20%20%22color%22%3A%20%22blue%22%2C%0A%20%20%22dashArray%22%3A%20null%2C%0A%20%20%22dashOffset%22%3A%20null%2C%0A%20%20%22fill%22%3A%20true%2C%0A%20%20%22fillColor%22%3A%20%22%233186cc%22%2C%0A%20%20%22fillOpacity%22%3A%200.7%2C%0A%20%20%22fillRule%22%3A%20%22evenodd%22%2C%0A%20%20%22lineCap%22%3A%20%22round%22%2C%0A%20%20%22lineJoin%22%3A%20%22round%22%2C%0A%20%20%22opacity%22%3A%201.0%2C%0A%20%20%22radius%22%3A%205%2C%0A%20%20%22stroke%22%3A%20true%2C%0A%20%20%22weight%22%3A%203%0A%7D%0A%20%20%20%20%20%20%20%20%20%20%20%20%20%20%20%20%29%0A%20%20%20%20%20%20%20%20%20%20%20%20%20%20%20%20.addTo%28map_b5b67bda42714c19b60ce8993be67a72%29%3B%0A%20%20%20%20%20%20%20%20%20%20%20%20%0A%20%20%20%20%0A%20%20%20%20%20%20%20%20%20%20%20%20var%20popup_2533bb24adcb425eaeea2a36955053d1%20%3D%20L.popup%28%7BmaxWidth%3A%20%27100%25%27%0A%20%20%20%20%20%20%20%20%20%20%20%20%0A%20%20%20%20%20%20%20%20%20%20%20%20%7D%29%3B%0A%0A%20%20%20%20%20%20%20%20%20%20%20%20%0A%20%20%20%20%20%20%20%20%20%20%20%20%20%20%20%20var%20html_5c65e736ca5d4530b1e7ef34e78aedff%20%3D%20%24%28%60%3Cdiv%20id%3D%22html_5c65e736ca5d4530b1e7ef34e78aedff%22%20style%3D%22width%3A%20100.0%25%3B%20height%3A%20100.0%25%3B%22%3E%20%20Cerqueira%20C%C3%A9sar%3C/div%3E%60%29%5B0%5D%3B%0A%20%20%20%20%20%20%20%20%20%20%20%20%20%20%20%20popup_2533bb24adcb425eaeea2a36955053d1.setContent%28html_5c65e736ca5d4530b1e7ef34e78aedff%29%3B%0A%20%20%20%20%20%20%20%20%20%20%20%20%0A%0A%20%20%20%20%20%20%20%20%20%20%20%20circle_marker_881d35fcca124a9dae84f16c2cfc6ea7.bindPopup%28popup_2533bb24adcb425eaeea2a36955053d1%29%0A%20%20%20%20%20%20%20%20%20%20%20%20%3B%0A%0A%20%20%20%20%20%20%20%20%20%20%20%20%0A%20%20%20%20%20%20%20%20%0A%20%20%20%20%0A%20%20%20%20%20%20%20%20%20%20%20%20var%20circle_marker_910d1aa20a034f79ab2c1ae813bf47ea%20%3D%20L.circleMarker%28%0A%20%20%20%20%20%20%20%20%20%20%20%20%20%20%20%20%5B-23.6726727%2C%20-46.6653257%5D%2C%0A%20%20%20%20%20%20%20%20%20%20%20%20%20%20%20%20%7B%0A%20%20%22bubblingMouseEvents%22%3A%20true%2C%0A%20%20%22color%22%3A%20%22blue%22%2C%0A%20%20%22dashArray%22%3A%20null%2C%0A%20%20%22dashOffset%22%3A%20null%2C%0A%20%20%22fill%22%3A%20true%2C%0A%20%20%22fillColor%22%3A%20%22%233186cc%22%2C%0A%20%20%22fillOpacity%22%3A%200.7%2C%0A%20%20%22fillRule%22%3A%20%22evenodd%22%2C%0A%20%20%22lineCap%22%3A%20%22round%22%2C%0A%20%20%22lineJoin%22%3A%20%22round%22%2C%0A%20%20%22opacity%22%3A%201.0%2C%0A%20%20%22radius%22%3A%205%2C%0A%20%20%22stroke%22%3A%20true%2C%0A%20%20%22weight%22%3A%203%0A%7D%0A%20%20%20%20%20%20%20%20%20%20%20%20%20%20%20%20%29%0A%20%20%20%20%20%20%20%20%20%20%20%20%20%20%20%20.addTo%28map_b5b67bda42714c19b60ce8993be67a72%29%3B%0A%20%20%20%20%20%20%20%20%20%20%20%20%0A%20%20%20%20%0A%20%20%20%20%20%20%20%20%20%20%20%20var%20popup_d76f9b37b78240d9a43c356b0a697953%20%3D%20L.popup%28%7BmaxWidth%3A%20%27100%25%27%0A%20%20%20%20%20%20%20%20%20%20%20%20%0A%20%20%20%20%20%20%20%20%20%20%20%20%7D%29%3B%0A%0A%20%20%20%20%20%20%20%20%20%20%20%20%0A%20%20%20%20%20%20%20%20%20%20%20%20%20%20%20%20var%20html_196493abf4c648db87385cc34d7994a5%20%3D%20%24%28%60%3Cdiv%20id%3D%22html_196493abf4c648db87385cc34d7994a5%22%20style%3D%22width%3A%20100.0%25%3B%20height%3A%20100.0%25%3B%22%3E%20CS%201%20Vl%20Joaniza%3C/div%3E%60%29%5B0%5D%3B%0A%20%20%20%20%20%20%20%20%20%20%20%20%20%20%20%20popup_d76f9b37b78240d9a43c356b0a697953.setContent%28html_196493abf4c648db87385cc34d7994a5%29%3B%0A%20%20%20%20%20%20%20%20%20%20%20%20%0A%0A%20%20%20%20%20%20%20%20%20%20%20%20circle_marker_910d1aa20a034f79ab2c1ae813bf47ea.bindPopup%28popup_d76f9b37b78240d9a43c356b0a697953%29%0A%20%20%20%20%20%20%20%20%20%20%20%20%3B%0A%0A%20%20%20%20%20%20%20%20%20%20%20%20%0A%20%20%20%20%20%20%20%20%0A%20%20%20%20%0A%20%20%20%20%20%20%20%20%20%20%20%20var%20circle_marker_7484c7b0b7404a5e9831c03eb59ec365%20%3D%20L.circleMarker%28%0A%20%20%20%20%20%20%20%20%20%20%20%20%20%20%20%20%5B-23.5412756%2C%20-46.5754895%5D%2C%0A%20%20%20%20%20%20%20%20%20%20%20%20%20%20%20%20%7B%0A%20%20%22bubblingMouseEvents%22%3A%20true%2C%0A%20%20%22color%22%3A%20%22blue%22%2C%0A%20%20%22dashArray%22%3A%20null%2C%0A%20%20%22dashOffset%22%3A%20null%2C%0A%20%20%22fill%22%3A%20true%2C%0A%20%20%22fillColor%22%3A%20%22%233186cc%22%2C%0A%20%20%22fillOpacity%22%3A%200.7%2C%0A%20%20%22fillRule%22%3A%20%22evenodd%22%2C%0A%20%20%22lineCap%22%3A%20%22round%22%2C%0A%20%20%22lineJoin%22%3A%20%22round%22%2C%0A%20%20%22opacity%22%3A%201.0%2C%0A%20%20%22radius%22%3A%205%2C%0A%20%20%22stroke%22%3A%20true%2C%0A%20%20%22weight%22%3A%203%0A%7D%0A%20%20%20%20%20%20%20%20%20%20%20%20%20%20%20%20%29%0A%20%20%20%20%20%20%20%20%20%20%20%20%20%20%20%20.addTo%28map_b5b67bda42714c19b60ce8993be67a72%29%3B%0A%20%20%20%20%20%20%20%20%20%20%20%20%0A%20%20%20%20%0A%20%20%20%20%20%20%20%20%20%20%20%20var%20popup_8a0c2ecce3e941db888c439010114915%20%3D%20L.popup%28%7BmaxWidth%3A%20%27100%25%27%0A%20%20%20%20%20%20%20%20%20%20%20%20%0A%20%20%20%20%20%20%20%20%20%20%20%20%7D%29%3B%0A%0A%20%20%20%20%20%20%20%20%20%20%20%20%0A%20%20%20%20%20%20%20%20%20%20%20%20%20%20%20%20var%20html_f8a20cc913a84c28817c59c04cae236c%20%3D%20%24%28%60%3Cdiv%20id%3D%22html_f8a20cc913a84c28817c59c04cae236c%22%20style%3D%22width%3A%20100.0%25%3B%20height%3A%20100.0%25%3B%22%3E%20%20Tatuap%C3%A9%3C/div%3E%60%29%5B0%5D%3B%0A%20%20%20%20%20%20%20%20%20%20%20%20%20%20%20%20popup_8a0c2ecce3e941db888c439010114915.setContent%28html_f8a20cc913a84c28817c59c04cae236c%29%3B%0A%20%20%20%20%20%20%20%20%20%20%20%20%0A%0A%20%20%20%20%20%20%20%20%20%20%20%20circle_marker_7484c7b0b7404a5e9831c03eb59ec365.bindPopup%28popup_8a0c2ecce3e941db888c439010114915%29%0A%20%20%20%20%20%20%20%20%20%20%20%20%3B%0A%0A%20%20%20%20%20%20%20%20%20%20%20%20%0A%20%20%20%20%20%20%20%20%0A%20%20%20%20%0A%20%20%20%20%20%20%20%20%20%20%20%20var%20circle_marker_0779f6147e8e4327889d6b740f3f9973%20%3D%20L.circleMarker%28%0A%20%20%20%20%20%20%20%20%20%20%20%20%20%20%20%20%5B-23.5517855%2C%20-46.5299732%5D%2C%0A%20%20%20%20%20%20%20%20%20%20%20%20%20%20%20%20%7B%0A%20%20%22bubblingMouseEvents%22%3A%20true%2C%0A%20%20%22color%22%3A%20%22blue%22%2C%0A%20%20%22dashArray%22%3A%20null%2C%0A%20%20%22dashOffset%22%3A%20null%2C%0A%20%20%22fill%22%3A%20true%2C%0A%20%20%22fillColor%22%3A%20%22%233186cc%22%2C%0A%20%20%22fillOpacity%22%3A%200.7%2C%0A%20%20%22fillRule%22%3A%20%22evenodd%22%2C%0A%20%20%22lineCap%22%3A%20%22round%22%2C%0A%20%20%22lineJoin%22%3A%20%22round%22%2C%0A%20%20%22opacity%22%3A%201.0%2C%0A%20%20%22radius%22%3A%205%2C%0A%20%20%22stroke%22%3A%20true%2C%0A%20%20%22weight%22%3A%203%0A%7D%0A%20%20%20%20%20%20%20%20%20%20%20%20%20%20%20%20%29%0A%20%20%20%20%20%20%20%20%20%20%20%20%20%20%20%20.addTo%28map_b5b67bda42714c19b60ce8993be67a72%29%3B%0A%20%20%20%20%20%20%20%20%20%20%20%20%0A%20%20%20%20%0A%20%20%20%20%20%20%20%20%20%20%20%20var%20popup_8ec2bc9f064e4966b72b8927a92cc3b3%20%3D%20L.popup%28%7BmaxWidth%3A%20%27100%25%27%0A%20%20%20%20%20%20%20%20%20%20%20%20%0A%20%20%20%20%20%20%20%20%20%20%20%20%7D%29%3B%0A%0A%20%20%20%20%20%20%20%20%20%20%20%20%0A%20%20%20%20%20%20%20%20%20%20%20%20%20%20%20%20var%20html_34055313bbfe4c73bf3af0fc22f83c21%20%3D%20%24%28%60%3Cdiv%20id%3D%22html_34055313bbfe4c73bf3af0fc22f83c21%22%20style%3D%22width%3A%20100.0%25%3B%20height%3A%20100.0%25%3B%22%3E%20%20Vl%20Carr%C3%A3o%3C/div%3E%60%29%5B0%5D%3B%0A%20%20%20%20%20%20%20%20%20%20%20%20%20%20%20%20popup_8ec2bc9f064e4966b72b8927a92cc3b3.setContent%28html_34055313bbfe4c73bf3af0fc22f83c21%29%3B%0A%20%20%20%20%20%20%20%20%20%20%20%20%0A%0A%20%20%20%20%20%20%20%20%20%20%20%20circle_marker_0779f6147e8e4327889d6b740f3f9973.bindPopup%28popup_8ec2bc9f064e4966b72b8927a92cc3b3%29%0A%20%20%20%20%20%20%20%20%20%20%20%20%3B%0A%0A%20%20%20%20%20%20%20%20%20%20%20%20%0A%20%20%20%20%20%20%20%20%0A%20%20%20%20%0A%20%20%20%20%20%20%20%20%20%20%20%20var%20circle_marker_84d31ac45dfa447d8c6ef630737ae78b%20%3D%20L.circleMarker%28%0A%20%20%20%20%20%20%20%20%20%20%20%20%20%20%20%20%5B-23.586324%2C%20-46.6727974%5D%2C%0A%20%20%20%20%20%20%20%20%20%20%20%20%20%20%20%20%7B%0A%20%20%22bubblingMouseEvents%22%3A%20true%2C%0A%20%20%22color%22%3A%20%22blue%22%2C%0A%20%20%22dashArray%22%3A%20null%2C%0A%20%20%22dashOffset%22%3A%20null%2C%0A%20%20%22fill%22%3A%20true%2C%0A%20%20%22fillColor%22%3A%20%22%233186cc%22%2C%0A%20%20%22fillOpacity%22%3A%200.7%2C%0A%20%20%22fillRule%22%3A%20%22evenodd%22%2C%0A%20%20%22lineCap%22%3A%20%22round%22%2C%0A%20%20%22lineJoin%22%3A%20%22round%22%2C%0A%20%20%22opacity%22%3A%201.0%2C%0A%20%20%22radius%22%3A%205%2C%0A%20%20%22stroke%22%3A%20true%2C%0A%20%20%22weight%22%3A%203%0A%7D%0A%20%20%20%20%20%20%20%20%20%20%20%20%20%20%20%20%29%0A%20%20%20%20%20%20%20%20%20%20%20%20%20%20%20%20.addTo%28map_b5b67bda42714c19b60ce8993be67a72%29%3B%0A%20%20%20%20%20%20%20%20%20%20%20%20%0A%20%20%20%20%0A%20%20%20%20%20%20%20%20%20%20%20%20var%20popup_d2341f824e99435f895f78da669f10c2%20%3D%20L.popup%28%7BmaxWidth%3A%20%27100%25%27%0A%20%20%20%20%20%20%20%20%20%20%20%20%0A%20%20%20%20%20%20%20%20%20%20%20%20%7D%29%3B%0A%0A%20%20%20%20%20%20%20%20%20%20%20%20%0A%20%20%20%20%20%20%20%20%20%20%20%20%20%20%20%20var%20html_162f7ce909ea459c88170211fd08993f%20%3D%20%24%28%60%3Cdiv%20id%3D%22html_162f7ce909ea459c88170211fd08993f%22%20style%3D%22width%3A%20100.0%25%3B%20height%3A%20100.0%25%3B%22%3E%204%20Andar%20%20Jd%20Paulista%3C/div%3E%60%29%5B0%5D%3B%0A%20%20%20%20%20%20%20%20%20%20%20%20%20%20%20%20popup_d2341f824e99435f895f78da669f10c2.setContent%28html_162f7ce909ea459c88170211fd08993f%29%3B%0A%20%20%20%20%20%20%20%20%20%20%20%20%0A%0A%20%20%20%20%20%20%20%20%20%20%20%20circle_marker_84d31ac45dfa447d8c6ef630737ae78b.bindPopup%28popup_d2341f824e99435f895f78da669f10c2%29%0A%20%20%20%20%20%20%20%20%20%20%20%20%3B%0A%0A%20%20%20%20%20%20%20%20%20%20%20%20%0A%20%20%20%20%20%20%20%20%0A%20%20%20%20%0A%20%20%20%20%20%20%20%20%20%20%20%20var%20circle_marker_67cd7ce86c79473a9df71879a6192db3%20%3D%20L.circleMarker%28%0A%20%20%20%20%20%20%20%20%20%20%20%20%20%20%20%20%5B-23.5659871%2C%20-46.5725147%5D%2C%0A%20%20%20%20%20%20%20%20%20%20%20%20%20%20%20%20%7B%0A%20%20%22bubblingMouseEvents%22%3A%20true%2C%0A%20%20%22color%22%3A%20%22blue%22%2C%0A%20%20%22dashArray%22%3A%20null%2C%0A%20%20%22dashOffset%22%3A%20null%2C%0A%20%20%22fill%22%3A%20true%2C%0A%20%20%22fillColor%22%3A%20%22%233186cc%22%2C%0A%20%20%22fillOpacity%22%3A%200.7%2C%0A%20%20%22fillRule%22%3A%20%22evenodd%22%2C%0A%20%20%22lineCap%22%3A%20%22round%22%2C%0A%20%20%22lineJoin%22%3A%20%22round%22%2C%0A%20%20%22opacity%22%3A%201.0%2C%0A%20%20%22radius%22%3A%205%2C%0A%20%20%22stroke%22%3A%20true%2C%0A%20%20%22weight%22%3A%203%0A%7D%0A%20%20%20%20%20%20%20%20%20%20%20%20%20%20%20%20%29%0A%20%20%20%20%20%20%20%20%20%20%20%20%20%20%20%20.addTo%28map_b5b67bda42714c19b60ce8993be67a72%29%3B%0A%20%20%20%20%20%20%20%20%20%20%20%20%0A%20%20%20%20%0A%20%20%20%20%20%20%20%20%20%20%20%20var%20popup_f374d0745c564e4bb45ea1302b1feaad%20%3D%20L.popup%28%7BmaxWidth%3A%20%27100%25%27%0A%20%20%20%20%20%20%20%20%20%20%20%20%0A%20%20%20%20%20%20%20%20%20%20%20%20%7D%29%3B%0A%0A%20%20%20%20%20%20%20%20%20%20%20%20%0A%20%20%20%20%20%20%20%20%20%20%20%20%20%20%20%20var%20html_30018d7418f4431aa7ac87054aa7dcea%20%3D%20%24%28%60%3Cdiv%20id%3D%22html_30018d7418f4431aa7ac87054aa7dcea%22%20style%3D%22width%3A%20100.0%25%3B%20height%3A%20100.0%25%3B%22%3E%20%20Vl%20Leme%3C/div%3E%60%29%5B0%5D%3B%0A%20%20%20%20%20%20%20%20%20%20%20%20%20%20%20%20popup_f374d0745c564e4bb45ea1302b1feaad.setContent%28html_30018d7418f4431aa7ac87054aa7dcea%29%3B%0A%20%20%20%20%20%20%20%20%20%20%20%20%0A%0A%20%20%20%20%20%20%20%20%20%20%20%20circle_marker_67cd7ce86c79473a9df71879a6192db3.bindPopup%28popup_f374d0745c564e4bb45ea1302b1feaad%29%0A%20%20%20%20%20%20%20%20%20%20%20%20%3B%0A%0A%20%20%20%20%20%20%20%20%20%20%20%20%0A%20%20%20%20%20%20%20%20%0A%20%20%20%20%0A%20%20%20%20%20%20%20%20%20%20%20%20var%20circle_marker_7b04ab6a172241c0a2912f19840fcae1%20%3D%20L.circleMarker%28%0A%20%20%20%20%20%20%20%20%20%20%20%20%20%20%20%20%5B-23.5741181%2C%20-46.6845744%5D%2C%0A%20%20%20%20%20%20%20%20%20%20%20%20%20%20%20%20%7B%0A%20%20%22bubblingMouseEvents%22%3A%20true%2C%0A%20%20%22color%22%3A%20%22blue%22%2C%0A%20%20%22dashArray%22%3A%20null%2C%0A%20%20%22dashOffset%22%3A%20null%2C%0A%20%20%22fill%22%3A%20true%2C%0A%20%20%22fillColor%22%3A%20%22%233186cc%22%2C%0A%20%20%22fillOpacity%22%3A%200.7%2C%0A%20%20%22fillRule%22%3A%20%22evenodd%22%2C%0A%20%20%22lineCap%22%3A%20%22round%22%2C%0A%20%20%22lineJoin%22%3A%20%22round%22%2C%0A%20%20%22opacity%22%3A%201.0%2C%0A%20%20%22radius%22%3A%205%2C%0A%20%20%22stroke%22%3A%20true%2C%0A%20%20%22weight%22%3A%203%0A%7D%0A%20%20%20%20%20%20%20%20%20%20%20%20%20%20%20%20%29%0A%20%20%20%20%20%20%20%20%20%20%20%20%20%20%20%20.addTo%28map_b5b67bda42714c19b60ce8993be67a72%29%3B%0A%20%20%20%20%20%20%20%20%20%20%20%20%0A%20%20%20%20%0A%20%20%20%20%20%20%20%20%20%20%20%20var%20popup_4a751a5fecdd4a09ab8214911f783e60%20%3D%20L.popup%28%7BmaxWidth%3A%20%27100%25%27%0A%20%20%20%20%20%20%20%20%20%20%20%20%0A%20%20%20%20%20%20%20%20%20%20%20%20%7D%29%3B%0A%0A%20%20%20%20%20%20%20%20%20%20%20%20%0A%20%20%20%20%20%20%20%20%20%20%20%20%20%20%20%20var%20html_fa6a3912ffe14175ad3ffeb00769ccb0%20%3D%20%24%28%60%3Cdiv%20id%3D%22html_fa6a3912ffe14175ad3ffeb00769ccb0%22%20style%3D%22width%3A%20100.0%25%3B%20height%3A%20100.0%25%3B%22%3E%20%20Jd%20Paulistano%3C/div%3E%60%29%5B0%5D%3B%0A%20%20%20%20%20%20%20%20%20%20%20%20%20%20%20%20popup_4a751a5fecdd4a09ab8214911f783e60.setContent%28html_fa6a3912ffe14175ad3ffeb00769ccb0%29%3B%0A%20%20%20%20%20%20%20%20%20%20%20%20%0A%0A%20%20%20%20%20%20%20%20%20%20%20%20circle_marker_7b04ab6a172241c0a2912f19840fcae1.bindPopup%28popup_4a751a5fecdd4a09ab8214911f783e60%29%0A%20%20%20%20%20%20%20%20%20%20%20%20%3B%0A%0A%20%20%20%20%20%20%20%20%20%20%20%20%0A%20%20%20%20%20%20%20%20%0A%20%20%20%20%0A%20%20%20%20%20%20%20%20%20%20%20%20var%20circle_marker_75af7de018a840fd924932d1ccd1ecfe%20%3D%20L.circleMarker%28%0A%20%20%20%20%20%20%20%20%20%20%20%20%20%20%20%20%5B-23.5774987%2C%20-46.6868248%5D%2C%0A%20%20%20%20%20%20%20%20%20%20%20%20%20%20%20%20%7B%0A%20%20%22bubblingMouseEvents%22%3A%20true%2C%0A%20%20%22color%22%3A%20%22blue%22%2C%0A%20%20%22dashArray%22%3A%20null%2C%0A%20%20%22dashOffset%22%3A%20null%2C%0A%20%20%22fill%22%3A%20true%2C%0A%20%20%22fillColor%22%3A%20%22%233186cc%22%2C%0A%20%20%22fillOpacity%22%3A%200.7%2C%0A%20%20%22fillRule%22%3A%20%22evenodd%22%2C%0A%20%20%22lineCap%22%3A%20%22round%22%2C%0A%20%20%22lineJoin%22%3A%20%22round%22%2C%0A%20%20%22opacity%22%3A%201.0%2C%0A%20%20%22radius%22%3A%205%2C%0A%20%20%22stroke%22%3A%20true%2C%0A%20%20%22weight%22%3A%203%0A%7D%0A%20%20%20%20%20%20%20%20%20%20%20%20%20%20%20%20%29%0A%20%20%20%20%20%20%20%20%20%20%20%20%20%20%20%20.addTo%28map_b5b67bda42714c19b60ce8993be67a72%29%3B%0A%20%20%20%20%20%20%20%20%20%20%20%20%0A%20%20%20%20%0A%20%20%20%20%20%20%20%20%20%20%20%20var%20popup_54ea0c3279a0423898fea88fc499b21b%20%3D%20L.popup%28%7BmaxWidth%3A%20%27100%25%27%0A%20%20%20%20%20%20%20%20%20%20%20%20%0A%20%20%20%20%20%20%20%20%20%20%20%20%7D%29%3B%0A%0A%20%20%20%20%20%20%20%20%20%20%20%20%0A%20%20%20%20%20%20%20%20%20%20%20%20%20%20%20%20var%20html_1b78924862234f478b9c46268de9e9d8%20%3D%20%24%28%60%3Cdiv%20id%3D%22html_1b78924862234f478b9c46268de9e9d8%22%20style%3D%22width%3A%20100.0%25%3B%20height%3A%20100.0%25%3B%22%3E%2011%20ANDAR%20CJ%201101%20Pinheiros%3C/div%3E%60%29%5B0%5D%3B%0A%20%20%20%20%20%20%20%20%20%20%20%20%20%20%20%20popup_54ea0c3279a0423898fea88fc499b21b.setContent%28html_1b78924862234f478b9c46268de9e9d8%29%3B%0A%20%20%20%20%20%20%20%20%20%20%20%20%0A%0A%20%20%20%20%20%20%20%20%20%20%20%20circle_marker_75af7de018a840fd924932d1ccd1ecfe.bindPopup%28popup_54ea0c3279a0423898fea88fc499b21b%29%0A%20%20%20%20%20%20%20%20%20%20%20%20%3B%0A%0A%20%20%20%20%20%20%20%20%20%20%20%20%0A%20%20%20%20%20%20%20%20%0A%20%20%20%20%0A%20%20%20%20%20%20%20%20%20%20%20%20var%20circle_marker_9c9ca8da0b16447d83c687630a46ac89%20%3D%20L.circleMarker%28%0A%20%20%20%20%20%20%20%20%20%20%20%20%20%20%20%20%5B-23.5774987%2C%20-46.6868248%5D%2C%0A%20%20%20%20%20%20%20%20%20%20%20%20%20%20%20%20%7B%0A%20%20%22bubblingMouseEvents%22%3A%20true%2C%0A%20%20%22color%22%3A%20%22blue%22%2C%0A%20%20%22dashArray%22%3A%20null%2C%0A%20%20%22dashOffset%22%3A%20null%2C%0A%20%20%22fill%22%3A%20true%2C%0A%20%20%22fillColor%22%3A%20%22%233186cc%22%2C%0A%20%20%22fillOpacity%22%3A%200.7%2C%0A%20%20%22fillRule%22%3A%20%22evenodd%22%2C%0A%20%20%22lineCap%22%3A%20%22round%22%2C%0A%20%20%22lineJoin%22%3A%20%22round%22%2C%0A%20%20%22opacity%22%3A%201.0%2C%0A%20%20%22radius%22%3A%205%2C%0A%20%20%22stroke%22%3A%20true%2C%0A%20%20%22weight%22%3A%203%0A%7D%0A%20%20%20%20%20%20%20%20%20%20%20%20%20%20%20%20%29%0A%20%20%20%20%20%20%20%20%20%20%20%20%20%20%20%20.addTo%28map_b5b67bda42714c19b60ce8993be67a72%29%3B%0A%20%20%20%20%20%20%20%20%20%20%20%20%0A%20%20%20%20%0A%20%20%20%20%20%20%20%20%20%20%20%20var%20popup_99407361b785414ebc9548647fe028f8%20%3D%20L.popup%28%7BmaxWidth%3A%20%27100%25%27%0A%20%20%20%20%20%20%20%20%20%20%20%20%0A%20%20%20%20%20%20%20%20%20%20%20%20%7D%29%3B%0A%0A%20%20%20%20%20%20%20%20%20%20%20%20%0A%20%20%20%20%20%20%20%20%20%20%20%20%20%20%20%20var%20html_33809807b84e4e9d9d12d047ed8c0c2d%20%3D%20%24%28%60%3Cdiv%20id%3D%22html_33809807b84e4e9d9d12d047ed8c0c2d%22%20style%3D%22width%3A%20100.0%25%3B%20height%3A%20100.0%25%3B%22%3E%209%20AN%20Itaim%20Bibi%3C/div%3E%60%29%5B0%5D%3B%0A%20%20%20%20%20%20%20%20%20%20%20%20%20%20%20%20popup_99407361b785414ebc9548647fe028f8.setContent%28html_33809807b84e4e9d9d12d047ed8c0c2d%29%3B%0A%20%20%20%20%20%20%20%20%20%20%20%20%0A%0A%20%20%20%20%20%20%20%20%20%20%20%20circle_marker_9c9ca8da0b16447d83c687630a46ac89.bindPopup%28popup_99407361b785414ebc9548647fe028f8%29%0A%20%20%20%20%20%20%20%20%20%20%20%20%3B%0A%0A%20%20%20%20%20%20%20%20%20%20%20%20%0A%20%20%20%20%20%20%20%20%0A%20%20%20%20%0A%20%20%20%20%20%20%20%20%20%20%20%20var%20circle_marker_817c73ca3e7f4f3399378fa0f267d03f%20%3D%20L.circleMarker%28%0A%20%20%20%20%20%20%20%20%20%20%20%20%20%20%20%20%5B-23.5298378%2C%20-46.6850028%5D%2C%0A%20%20%20%20%20%20%20%20%20%20%20%20%20%20%20%20%7B%0A%20%20%22bubblingMouseEvents%22%3A%20true%2C%0A%20%20%22color%22%3A%20%22blue%22%2C%0A%20%20%22dashArray%22%3A%20null%2C%0A%20%20%22dashOffset%22%3A%20null%2C%0A%20%20%22fill%22%3A%20true%2C%0A%20%20%22fillColor%22%3A%20%22%233186cc%22%2C%0A%20%20%22fillOpacity%22%3A%200.7%2C%0A%20%20%22fillRule%22%3A%20%22evenodd%22%2C%0A%20%20%22lineCap%22%3A%20%22round%22%2C%0A%20%20%22lineJoin%22%3A%20%22round%22%2C%0A%20%20%22opacity%22%3A%201.0%2C%0A%20%20%22radius%22%3A%205%2C%0A%20%20%22stroke%22%3A%20true%2C%0A%20%20%22weight%22%3A%203%0A%7D%0A%20%20%20%20%20%20%20%20%20%20%20%20%20%20%20%20%29%0A%20%20%20%20%20%20%20%20%20%20%20%20%20%20%20%20.addTo%28map_b5b67bda42714c19b60ce8993be67a72%29%3B%0A%20%20%20%20%20%20%20%20%20%20%20%20%0A%20%20%20%20%0A%20%20%20%20%20%20%20%20%20%20%20%20var%20popup_4fca35c1ea5249768657e36e6158f625%20%3D%20L.popup%28%7BmaxWidth%3A%20%27100%25%27%0A%20%20%20%20%20%20%20%20%20%20%20%20%0A%20%20%20%20%20%20%20%20%20%20%20%20%7D%29%3B%0A%0A%20%20%20%20%20%20%20%20%20%20%20%20%0A%20%20%20%20%20%20%20%20%20%20%20%20%20%20%20%20var%20html_a71d3c96e0b24402b69751f40e77762e%20%3D%20%24%28%60%3Cdiv%20id%3D%22html_a71d3c96e0b24402b69751f40e77762e%22%20style%3D%22width%3A%20100.0%25%3B%20height%3A%20100.0%25%3B%22%3E%20%20%3C/div%3E%60%29%5B0%5D%3B%0A%20%20%20%20%20%20%20%20%20%20%20%20%20%20%20%20popup_4fca35c1ea5249768657e36e6158f625.setContent%28html_a71d3c96e0b24402b69751f40e77762e%29%3B%0A%20%20%20%20%20%20%20%20%20%20%20%20%0A%0A%20%20%20%20%20%20%20%20%20%20%20%20circle_marker_817c73ca3e7f4f3399378fa0f267d03f.bindPopup%28popup_4fca35c1ea5249768657e36e6158f625%29%0A%20%20%20%20%20%20%20%20%20%20%20%20%3B%0A%0A%20%20%20%20%20%20%20%20%20%20%20%20%0A%20%20%20%20%20%20%20%20%0A%20%20%20%20%0A%20%20%20%20%20%20%20%20%20%20%20%20var%20circle_marker_2467f82b278c4350aed0c3d282ce6cbc%20%3D%20L.circleMarker%28%0A%20%20%20%20%20%20%20%20%20%20%20%20%20%20%20%20%5B-23.6034531%2C%20-46.6601581%5D%2C%0A%20%20%20%20%20%20%20%20%20%20%20%20%20%20%20%20%7B%0A%20%20%22bubblingMouseEvents%22%3A%20true%2C%0A%20%20%22color%22%3A%20%22blue%22%2C%0A%20%20%22dashArray%22%3A%20null%2C%0A%20%20%22dashOffset%22%3A%20null%2C%0A%20%20%22fill%22%3A%20true%2C%0A%20%20%22fillColor%22%3A%20%22%233186cc%22%2C%0A%20%20%22fillOpacity%22%3A%200.7%2C%0A%20%20%22fillRule%22%3A%20%22evenodd%22%2C%0A%20%20%22lineCap%22%3A%20%22round%22%2C%0A%20%20%22lineJoin%22%3A%20%22round%22%2C%0A%20%20%22opacity%22%3A%201.0%2C%0A%20%20%22radius%22%3A%205%2C%0A%20%20%22stroke%22%3A%20true%2C%0A%20%20%22weight%22%3A%203%0A%7D%0A%20%20%20%20%20%20%20%20%20%20%20%20%20%20%20%20%29%0A%20%20%20%20%20%20%20%20%20%20%20%20%20%20%20%20.addTo%28map_b5b67bda42714c19b60ce8993be67a72%29%3B%0A%20%20%20%20%20%20%20%20%20%20%20%20%0A%20%20%20%20%0A%20%20%20%20%20%20%20%20%20%20%20%20var%20popup_8929766605bf43e39ec7e98d5ab0bbad%20%3D%20L.popup%28%7BmaxWidth%3A%20%27100%25%27%0A%20%20%20%20%20%20%20%20%20%20%20%20%0A%20%20%20%20%20%20%20%20%20%20%20%20%7D%29%3B%0A%0A%20%20%20%20%20%20%20%20%20%20%20%20%0A%20%20%20%20%20%20%20%20%20%20%20%20%20%20%20%20var%20html_ebd996bffe524065a7f47a8f9c988c97%20%3D%20%24%28%60%3Cdiv%20id%3D%22html_ebd996bffe524065a7f47a8f9c988c97%22%20style%3D%22width%3A%20100.0%25%3B%20height%3A%20100.0%25%3B%22%3E%20%20Moema%3C/div%3E%60%29%5B0%5D%3B%0A%20%20%20%20%20%20%20%20%20%20%20%20%20%20%20%20popup_8929766605bf43e39ec7e98d5ab0bbad.setContent%28html_ebd996bffe524065a7f47a8f9c988c97%29%3B%0A%20%20%20%20%20%20%20%20%20%20%20%20%0A%0A%20%20%20%20%20%20%20%20%20%20%20%20circle_marker_2467f82b278c4350aed0c3d282ce6cbc.bindPopup%28popup_8929766605bf43e39ec7e98d5ab0bbad%29%0A%20%20%20%20%20%20%20%20%20%20%20%20%3B%0A%0A%20%20%20%20%20%20%20%20%20%20%20%20%0A%20%20%20%20%20%20%20%20%0A%20%20%20%20%0A%20%20%20%20%20%20%20%20%20%20%20%20var%20circle_marker_9a75450ad3b14df9ab305d965adedec7%20%3D%20L.circleMarker%28%0A%20%20%20%20%20%20%20%20%20%20%20%20%20%20%20%20%5B-23.5610562%2C%20-46.6930783%5D%2C%0A%20%20%20%20%20%20%20%20%20%20%20%20%20%20%20%20%7B%0A%20%20%22bubblingMouseEvents%22%3A%20true%2C%0A%20%20%22color%22%3A%20%22blue%22%2C%0A%20%20%22dashArray%22%3A%20null%2C%0A%20%20%22dashOffset%22%3A%20null%2C%0A%20%20%22fill%22%3A%20true%2C%0A%20%20%22fillColor%22%3A%20%22%233186cc%22%2C%0A%20%20%22fillOpacity%22%3A%200.7%2C%0A%20%20%22fillRule%22%3A%20%22evenodd%22%2C%0A%20%20%22lineCap%22%3A%20%22round%22%2C%0A%20%20%22lineJoin%22%3A%20%22round%22%2C%0A%20%20%22opacity%22%3A%201.0%2C%0A%20%20%22radius%22%3A%205%2C%0A%20%20%22stroke%22%3A%20true%2C%0A%20%20%22weight%22%3A%203%0A%7D%0A%20%20%20%20%20%20%20%20%20%20%20%20%20%20%20%20%29%0A%20%20%20%20%20%20%20%20%20%20%20%20%20%20%20%20.addTo%28map_b5b67bda42714c19b60ce8993be67a72%29%3B%0A%20%20%20%20%20%20%20%20%20%20%20%20%0A%20%20%20%20%0A%20%20%20%20%20%20%20%20%20%20%20%20var%20popup_edebf46f92c44f00be1375f46d85c558%20%3D%20L.popup%28%7BmaxWidth%3A%20%27100%25%27%0A%20%20%20%20%20%20%20%20%20%20%20%20%0A%20%20%20%20%20%20%20%20%20%20%20%20%7D%29%3B%0A%0A%20%20%20%20%20%20%20%20%20%20%20%20%0A%20%20%20%20%20%20%20%20%20%20%20%20%20%20%20%20var%20html_09a290afb2444b8381d19e08a034d2b6%20%3D%20%24%28%60%3Cdiv%20id%3D%22html_09a290afb2444b8381d19e08a034d2b6%22%20style%3D%22width%3A%20100.0%25%3B%20height%3A%20100.0%25%3B%22%3E%20%20%3C/div%3E%60%29%5B0%5D%3B%0A%20%20%20%20%20%20%20%20%20%20%20%20%20%20%20%20popup_edebf46f92c44f00be1375f46d85c558.setContent%28html_09a290afb2444b8381d19e08a034d2b6%29%3B%0A%20%20%20%20%20%20%20%20%20%20%20%20%0A%0A%20%20%20%20%20%20%20%20%20%20%20%20circle_marker_9a75450ad3b14df9ab305d965adedec7.bindPopup%28popup_edebf46f92c44f00be1375f46d85c558%29%0A%20%20%20%20%20%20%20%20%20%20%20%20%3B%0A%0A%20%20%20%20%20%20%20%20%20%20%20%20%0A%20%20%20%20%20%20%20%20%0A%20%20%20%20%0A%20%20%20%20%20%20%20%20%20%20%20%20var%20circle_marker_b274bf31e0d746f0a9f914ccf7545f85%20%3D%20L.circleMarker%28%0A%20%20%20%20%20%20%20%20%20%20%20%20%20%20%20%20%5B-23.532273%2C%20-46.575437%5D%2C%0A%20%20%20%20%20%20%20%20%20%20%20%20%20%20%20%20%7B%0A%20%20%22bubblingMouseEvents%22%3A%20true%2C%0A%20%20%22color%22%3A%20%22blue%22%2C%0A%20%20%22dashArray%22%3A%20null%2C%0A%20%20%22dashOffset%22%3A%20null%2C%0A%20%20%22fill%22%3A%20true%2C%0A%20%20%22fillColor%22%3A%20%22%233186cc%22%2C%0A%20%20%22fillOpacity%22%3A%200.7%2C%0A%20%20%22fillRule%22%3A%20%22evenodd%22%2C%0A%20%20%22lineCap%22%3A%20%22round%22%2C%0A%20%20%22lineJoin%22%3A%20%22round%22%2C%0A%20%20%22opacity%22%3A%201.0%2C%0A%20%20%22radius%22%3A%205%2C%0A%20%20%22stroke%22%3A%20true%2C%0A%20%20%22weight%22%3A%203%0A%7D%0A%20%20%20%20%20%20%20%20%20%20%20%20%20%20%20%20%29%0A%20%20%20%20%20%20%20%20%20%20%20%20%20%20%20%20.addTo%28map_b5b67bda42714c19b60ce8993be67a72%29%3B%0A%20%20%20%20%20%20%20%20%20%20%20%20%0A%20%20%20%20%0A%20%20%20%20%20%20%20%20%20%20%20%20var%20popup_7ce08bb806df4fd1bd0560a3a816a549%20%3D%20L.popup%28%7BmaxWidth%3A%20%27100%25%27%0A%20%20%20%20%20%20%20%20%20%20%20%20%0A%20%20%20%20%20%20%20%20%20%20%20%20%7D%29%3B%0A%0A%20%20%20%20%20%20%20%20%20%20%20%20%0A%20%20%20%20%20%20%20%20%20%20%20%20%20%20%20%20var%20html_0c11be4789bf4eeca2261237a98338fd%20%3D%20%24%28%60%3Cdiv%20id%3D%22html_0c11be4789bf4eeca2261237a98338fd%22%20style%3D%22width%3A%20100.0%25%3B%20height%3A%20100.0%25%3B%22%3E%20%20Tatuap%C3%A9%3C/div%3E%60%29%5B0%5D%3B%0A%20%20%20%20%20%20%20%20%20%20%20%20%20%20%20%20popup_7ce08bb806df4fd1bd0560a3a816a549.setContent%28html_0c11be4789bf4eeca2261237a98338fd%29%3B%0A%20%20%20%20%20%20%20%20%20%20%20%20%0A%0A%20%20%20%20%20%20%20%20%20%20%20%20circle_marker_b274bf31e0d746f0a9f914ccf7545f85.bindPopup%28popup_7ce08bb806df4fd1bd0560a3a816a549%29%0A%20%20%20%20%20%20%20%20%20%20%20%20%3B%0A%0A%20%20%20%20%20%20%20%20%20%20%20%20%0A%20%20%20%20%20%20%20%20%0A%20%20%20%20%0A%20%20%20%20%20%20%20%20%20%20%20%20var%20circle_marker_32811538268048fdb40056c67cf3a07d%20%3D%20L.circleMarker%28%0A%20%20%20%20%20%20%20%20%20%20%20%20%20%20%20%20%5B-23.5426915%2C%20-46.4585157%5D%2C%0A%20%20%20%20%20%20%20%20%20%20%20%20%20%20%20%20%7B%0A%20%20%22bubblingMouseEvents%22%3A%20true%2C%0A%20%20%22color%22%3A%20%22blue%22%2C%0A%20%20%22dashArray%22%3A%20null%2C%0A%20%20%22dashOffset%22%3A%20null%2C%0A%20%20%22fill%22%3A%20true%2C%0A%20%20%22fillColor%22%3A%20%22%233186cc%22%2C%0A%20%20%22fillOpacity%22%3A%200.7%2C%0A%20%20%22fillRule%22%3A%20%22evenodd%22%2C%0A%20%20%22lineCap%22%3A%20%22round%22%2C%0A%20%20%22lineJoin%22%3A%20%22round%22%2C%0A%20%20%22opacity%22%3A%201.0%2C%0A%20%20%22radius%22%3A%205%2C%0A%20%20%22stroke%22%3A%20true%2C%0A%20%20%22weight%22%3A%203%0A%7D%0A%20%20%20%20%20%20%20%20%20%20%20%20%20%20%20%20%29%0A%20%20%20%20%20%20%20%20%20%20%20%20%20%20%20%20.addTo%28map_b5b67bda42714c19b60ce8993be67a72%29%3B%0A%20%20%20%20%20%20%20%20%20%20%20%20%0A%20%20%20%20%0A%20%20%20%20%20%20%20%20%20%20%20%20var%20popup_5421ca030e814492955787bff5e96032%20%3D%20L.popup%28%7BmaxWidth%3A%20%27100%25%27%0A%20%20%20%20%20%20%20%20%20%20%20%20%0A%20%20%20%20%20%20%20%20%20%20%20%20%7D%29%3B%0A%0A%20%20%20%20%20%20%20%20%20%20%20%20%0A%20%20%20%20%20%20%20%20%20%20%20%20%20%20%20%20var%20html_449a04e96e69425ead13678f157b8fa9%20%3D%20%24%28%60%3Cdiv%20id%3D%22html_449a04e96e69425ead13678f157b8fa9%22%20style%3D%22width%3A%20100.0%25%3B%20height%3A%20100.0%25%3B%22%3E%20%20Itaquera%3C/div%3E%60%29%5B0%5D%3B%0A%20%20%20%20%20%20%20%20%20%20%20%20%20%20%20%20popup_5421ca030e814492955787bff5e96032.setContent%28html_449a04e96e69425ead13678f157b8fa9%29%3B%0A%20%20%20%20%20%20%20%20%20%20%20%20%0A%0A%20%20%20%20%20%20%20%20%20%20%20%20circle_marker_32811538268048fdb40056c67cf3a07d.bindPopup%28popup_5421ca030e814492955787bff5e96032%29%0A%20%20%20%20%20%20%20%20%20%20%20%20%3B%0A%0A%20%20%20%20%20%20%20%20%20%20%20%20%0A%20%20%20%20%20%20%20%20%0A%20%20%20%20%0A%20%20%20%20%20%20%20%20%20%20%20%20var%20circle_marker_06dd896383d54f28adcc725ef4939e90%20%3D%20L.circleMarker%28%0A%20%20%20%20%20%20%20%20%20%20%20%20%20%20%20%20%5B-23.5445611%2C%20-46.5346811%5D%2C%0A%20%20%20%20%20%20%20%20%20%20%20%20%20%20%20%20%7B%0A%20%20%22bubblingMouseEvents%22%3A%20true%2C%0A%20%20%22color%22%3A%20%22blue%22%2C%0A%20%20%22dashArray%22%3A%20null%2C%0A%20%20%22dashOffset%22%3A%20null%2C%0A%20%20%22fill%22%3A%20true%2C%0A%20%20%22fillColor%22%3A%20%22%233186cc%22%2C%0A%20%20%22fillOpacity%22%3A%200.7%2C%0A%20%20%22fillRule%22%3A%20%22evenodd%22%2C%0A%20%20%22lineCap%22%3A%20%22round%22%2C%0A%20%20%22lineJoin%22%3A%20%22round%22%2C%0A%20%20%22opacity%22%3A%201.0%2C%0A%20%20%22radius%22%3A%205%2C%0A%20%20%22stroke%22%3A%20true%2C%0A%20%20%22weight%22%3A%203%0A%7D%0A%20%20%20%20%20%20%20%20%20%20%20%20%20%20%20%20%29%0A%20%20%20%20%20%20%20%20%20%20%20%20%20%20%20%20.addTo%28map_b5b67bda42714c19b60ce8993be67a72%29%3B%0A%20%20%20%20%20%20%20%20%20%20%20%20%0A%20%20%20%20%0A%20%20%20%20%20%20%20%20%20%20%20%20var%20popup_19834df2591b4c8d8faf4e4267d7b4c3%20%3D%20L.popup%28%7BmaxWidth%3A%20%27100%25%27%0A%20%20%20%20%20%20%20%20%20%20%20%20%0A%20%20%20%20%20%20%20%20%20%20%20%20%7D%29%3B%0A%0A%20%20%20%20%20%20%20%20%20%20%20%20%0A%20%20%20%20%20%20%20%20%20%20%20%20%20%20%20%20var%20html_219443327ca64ab9994ad0f669d8b913%20%3D%20%24%28%60%3Cdiv%20id%3D%22html_219443327ca64ab9994ad0f669d8b913%22%20style%3D%22width%3A%20100.0%25%3B%20height%3A%20100.0%25%3B%22%3E%20%20Vl%20Carr%C3%A3o%3C/div%3E%60%29%5B0%5D%3B%0A%20%20%20%20%20%20%20%20%20%20%20%20%20%20%20%20popup_19834df2591b4c8d8faf4e4267d7b4c3.setContent%28html_219443327ca64ab9994ad0f669d8b913%29%3B%0A%20%20%20%20%20%20%20%20%20%20%20%20%0A%0A%20%20%20%20%20%20%20%20%20%20%20%20circle_marker_06dd896383d54f28adcc725ef4939e90.bindPopup%28popup_19834df2591b4c8d8faf4e4267d7b4c3%29%0A%20%20%20%20%20%20%20%20%20%20%20%20%3B%0A%0A%20%20%20%20%20%20%20%20%20%20%20%20%0A%20%20%20%20%20%20%20%20%0A%20%20%20%20%0A%20%20%20%20%20%20%20%20%20%20%20%20var%20circle_marker_00e63e68ae8542fc950edbd8544221ef%20%3D%20L.circleMarker%28%0A%20%20%20%20%20%20%20%20%20%20%20%20%20%20%20%20%5B-23.5484881%2C%20-46.5713849%5D%2C%0A%20%20%20%20%20%20%20%20%20%20%20%20%20%20%20%20%7B%0A%20%20%22bubblingMouseEvents%22%3A%20true%2C%0A%20%20%22color%22%3A%20%22blue%22%2C%0A%20%20%22dashArray%22%3A%20null%2C%0A%20%20%22dashOffset%22%3A%20null%2C%0A%20%20%22fill%22%3A%20true%2C%0A%20%20%22fillColor%22%3A%20%22%233186cc%22%2C%0A%20%20%22fillOpacity%22%3A%200.7%2C%0A%20%20%22fillRule%22%3A%20%22evenodd%22%2C%0A%20%20%22lineCap%22%3A%20%22round%22%2C%0A%20%20%22lineJoin%22%3A%20%22round%22%2C%0A%20%20%22opacity%22%3A%201.0%2C%0A%20%20%22radius%22%3A%205%2C%0A%20%20%22stroke%22%3A%20true%2C%0A%20%20%22weight%22%3A%203%0A%7D%0A%20%20%20%20%20%20%20%20%20%20%20%20%20%20%20%20%29%0A%20%20%20%20%20%20%20%20%20%20%20%20%20%20%20%20.addTo%28map_b5b67bda42714c19b60ce8993be67a72%29%3B%0A%20%20%20%20%20%20%20%20%20%20%20%20%0A%20%20%20%20%0A%20%20%20%20%20%20%20%20%20%20%20%20var%20popup_2100e2ca00d84a629311f0f442d28bd9%20%3D%20L.popup%28%7BmaxWidth%3A%20%27100%25%27%0A%20%20%20%20%20%20%20%20%20%20%20%20%0A%20%20%20%20%20%20%20%20%20%20%20%20%7D%29%3B%0A%0A%20%20%20%20%20%20%20%20%20%20%20%20%0A%20%20%20%20%20%20%20%20%20%20%20%20%20%20%20%20var%20html_97db23d17f244169bc8d7a448793489e%20%3D%20%24%28%60%3Cdiv%20id%3D%22html_97db23d17f244169bc8d7a448793489e%22%20style%3D%22width%3A%20100.0%25%3B%20height%3A%20100.0%25%3B%22%3E%20%20%3C/div%3E%60%29%5B0%5D%3B%0A%20%20%20%20%20%20%20%20%20%20%20%20%20%20%20%20popup_2100e2ca00d84a629311f0f442d28bd9.setContent%28html_97db23d17f244169bc8d7a448793489e%29%3B%0A%20%20%20%20%20%20%20%20%20%20%20%20%0A%0A%20%20%20%20%20%20%20%20%20%20%20%20circle_marker_00e63e68ae8542fc950edbd8544221ef.bindPopup%28popup_2100e2ca00d84a629311f0f442d28bd9%29%0A%20%20%20%20%20%20%20%20%20%20%20%20%3B%0A%0A%20%20%20%20%20%20%20%20%20%20%20%20%0A%20%20%20%20%20%20%20%20%0A%20%20%20%20%0A%20%20%20%20%20%20%20%20%20%20%20%20var%20circle_marker_2ef4431a1ede49ed88078eadfc03497b%20%3D%20L.circleMarker%28%0A%20%20%20%20%20%20%20%20%20%20%20%20%20%20%20%20%5B-23.5320246%2C%20-46.6382693%5D%2C%0A%20%20%20%20%20%20%20%20%20%20%20%20%20%20%20%20%7B%0A%20%20%22bubblingMouseEvents%22%3A%20true%2C%0A%20%20%22color%22%3A%20%22blue%22%2C%0A%20%20%22dashArray%22%3A%20null%2C%0A%20%20%22dashOffset%22%3A%20null%2C%0A%20%20%22fill%22%3A%20true%2C%0A%20%20%22fillColor%22%3A%20%22%233186cc%22%2C%0A%20%20%22fillOpacity%22%3A%200.7%2C%0A%20%20%22fillRule%22%3A%20%22evenodd%22%2C%0A%20%20%22lineCap%22%3A%20%22round%22%2C%0A%20%20%22lineJoin%22%3A%20%22round%22%2C%0A%20%20%22opacity%22%3A%201.0%2C%0A%20%20%22radius%22%3A%205%2C%0A%20%20%22stroke%22%3A%20true%2C%0A%20%20%22weight%22%3A%203%0A%7D%0A%20%20%20%20%20%20%20%20%20%20%20%20%20%20%20%20%29%0A%20%20%20%20%20%20%20%20%20%20%20%20%20%20%20%20.addTo%28map_b5b67bda42714c19b60ce8993be67a72%29%3B%0A%20%20%20%20%20%20%20%20%20%20%20%20%0A%20%20%20%20%0A%20%20%20%20%20%20%20%20%20%20%20%20var%20popup_79012e3208cb4067ac8339264d63ecf8%20%3D%20L.popup%28%7BmaxWidth%3A%20%27100%25%27%0A%20%20%20%20%20%20%20%20%20%20%20%20%0A%20%20%20%20%20%20%20%20%20%20%20%20%7D%29%3B%0A%0A%20%20%20%20%20%20%20%20%20%20%20%20%0A%20%20%20%20%20%20%20%20%20%20%20%20%20%20%20%20var%20html_3a5c617564754de8a114190594b90ffc%20%3D%20%24%28%60%3Cdiv%20id%3D%22html_3a5c617564754de8a114190594b90ffc%22%20style%3D%22width%3A%20100.0%25%3B%20height%3A%20100.0%25%3B%22%3E%20Lj%2013%20%20Bom%20Retiro%3C/div%3E%60%29%5B0%5D%3B%0A%20%20%20%20%20%20%20%20%20%20%20%20%20%20%20%20popup_79012e3208cb4067ac8339264d63ecf8.setContent%28html_3a5c617564754de8a114190594b90ffc%29%3B%0A%20%20%20%20%20%20%20%20%20%20%20%20%0A%0A%20%20%20%20%20%20%20%20%20%20%20%20circle_marker_2ef4431a1ede49ed88078eadfc03497b.bindPopup%28popup_79012e3208cb4067ac8339264d63ecf8%29%0A%20%20%20%20%20%20%20%20%20%20%20%20%3B%0A%0A%20%20%20%20%20%20%20%20%20%20%20%20%0A%20%20%20%20%20%20%20%20%0A%20%20%20%20%0A%20%20%20%20%20%20%20%20%20%20%20%20var%20circle_marker_376e2561718f48e998d6097c0d5d8b5b%20%3D%20L.circleMarker%28%0A%20%20%20%20%20%20%20%20%20%20%20%20%20%20%20%20%5B-23.5669632%2C%20-46.5438668%5D%2C%0A%20%20%20%20%20%20%20%20%20%20%20%20%20%20%20%20%7B%0A%20%20%22bubblingMouseEvents%22%3A%20true%2C%0A%20%20%22color%22%3A%20%22blue%22%2C%0A%20%20%22dashArray%22%3A%20null%2C%0A%20%20%22dashOffset%22%3A%20null%2C%0A%20%20%22fill%22%3A%20true%2C%0A%20%20%22fillColor%22%3A%20%22%233186cc%22%2C%0A%20%20%22fillOpacity%22%3A%200.7%2C%0A%20%20%22fillRule%22%3A%20%22evenodd%22%2C%0A%20%20%22lineCap%22%3A%20%22round%22%2C%0A%20%20%22lineJoin%22%3A%20%22round%22%2C%0A%20%20%22opacity%22%3A%201.0%2C%0A%20%20%22radius%22%3A%205%2C%0A%20%20%22stroke%22%3A%20true%2C%0A%20%20%22weight%22%3A%203%0A%7D%0A%20%20%20%20%20%20%20%20%20%20%20%20%20%20%20%20%29%0A%20%20%20%20%20%20%20%20%20%20%20%20%20%20%20%20.addTo%28map_b5b67bda42714c19b60ce8993be67a72%29%3B%0A%20%20%20%20%20%20%20%20%20%20%20%20%0A%20%20%20%20%0A%20%20%20%20%20%20%20%20%20%20%20%20var%20popup_2bcd34da53774d1eba591ce9835c1527%20%3D%20L.popup%28%7BmaxWidth%3A%20%27100%25%27%0A%20%20%20%20%20%20%20%20%20%20%20%20%0A%20%20%20%20%20%20%20%20%20%20%20%20%7D%29%3B%0A%0A%20%20%20%20%20%20%20%20%20%20%20%20%0A%20%20%20%20%20%20%20%20%20%20%20%20%20%20%20%20var%20html_eb819cf4886441afbbd9846f6cda8278%20%3D%20%24%28%60%3Cdiv%20id%3D%22html_eb819cf4886441afbbd9846f6cda8278%22%20style%3D%22width%3A%20100.0%25%3B%20height%3A%20100.0%25%3B%22%3E%20%20Vl%20Formosa%3C/div%3E%60%29%5B0%5D%3B%0A%20%20%20%20%20%20%20%20%20%20%20%20%20%20%20%20popup_2bcd34da53774d1eba591ce9835c1527.setContent%28html_eb819cf4886441afbbd9846f6cda8278%29%3B%0A%20%20%20%20%20%20%20%20%20%20%20%20%0A%0A%20%20%20%20%20%20%20%20%20%20%20%20circle_marker_376e2561718f48e998d6097c0d5d8b5b.bindPopup%28popup_2bcd34da53774d1eba591ce9835c1527%29%0A%20%20%20%20%20%20%20%20%20%20%20%20%3B%0A%0A%20%20%20%20%20%20%20%20%20%20%20%20%0A%20%20%20%20%20%20%20%20%0A%20%20%20%20%0A%20%20%20%20%20%20%20%20%20%20%20%20var%20circle_marker_3e0c189a35a440429a72913cb5d63cdb%20%3D%20L.circleMarker%28%0A%20%20%20%20%20%20%20%20%20%20%20%20%20%20%20%20%5B-23.4811901%2C%20-46.6184217%5D%2C%0A%20%20%20%20%20%20%20%20%20%20%20%20%20%20%20%20%7B%0A%20%20%22bubblingMouseEvents%22%3A%20true%2C%0A%20%20%22color%22%3A%20%22blue%22%2C%0A%20%20%22dashArray%22%3A%20null%2C%0A%20%20%22dashOffset%22%3A%20null%2C%0A%20%20%22fill%22%3A%20true%2C%0A%20%20%22fillColor%22%3A%20%22%233186cc%22%2C%0A%20%20%22fillOpacity%22%3A%200.7%2C%0A%20%20%22fillRule%22%3A%20%22evenodd%22%2C%0A%20%20%22lineCap%22%3A%20%22round%22%2C%0A%20%20%22lineJoin%22%3A%20%22round%22%2C%0A%20%20%22opacity%22%3A%201.0%2C%0A%20%20%22radius%22%3A%205%2C%0A%20%20%22stroke%22%3A%20true%2C%0A%20%20%22weight%22%3A%203%0A%7D%0A%20%20%20%20%20%20%20%20%20%20%20%20%20%20%20%20%29%0A%20%20%20%20%20%20%20%20%20%20%20%20%20%20%20%20.addTo%28map_b5b67bda42714c19b60ce8993be67a72%29%3B%0A%20%20%20%20%20%20%20%20%20%20%20%20%0A%20%20%20%20%0A%20%20%20%20%20%20%20%20%20%20%20%20var%20popup_a8621a29732f4527bbb3173214100930%20%3D%20L.popup%28%7BmaxWidth%3A%20%27100%25%27%0A%20%20%20%20%20%20%20%20%20%20%20%20%0A%20%20%20%20%20%20%20%20%20%20%20%20%7D%29%3B%0A%0A%20%20%20%20%20%20%20%20%20%20%20%20%0A%20%20%20%20%20%20%20%20%20%20%20%20%20%20%20%20var%20html_375472c3e968408180a5012dc58b5b96%20%3D%20%24%28%60%3Cdiv%20id%3D%22html_375472c3e968408180a5012dc58b5b96%22%20style%3D%22width%3A%20100.0%25%3B%20height%3A%20100.0%25%3B%22%3E%20%20%C3%81gua%20Fria%3C/div%3E%60%29%5B0%5D%3B%0A%20%20%20%20%20%20%20%20%20%20%20%20%20%20%20%20popup_a8621a29732f4527bbb3173214100930.setContent%28html_375472c3e968408180a5012dc58b5b96%29%3B%0A%20%20%20%20%20%20%20%20%20%20%20%20%0A%0A%20%20%20%20%20%20%20%20%20%20%20%20circle_marker_3e0c189a35a440429a72913cb5d63cdb.bindPopup%28popup_a8621a29732f4527bbb3173214100930%29%0A%20%20%20%20%20%20%20%20%20%20%20%20%3B%0A%0A%20%20%20%20%20%20%20%20%20%20%20%20%0A%20%20%20%20%20%20%20%20%0A%20%20%20%20%0A%20%20%20%20%20%20%20%20%20%20%20%20var%20circle_marker_842f5a7c95354e53b5372e25028be0a0%20%3D%20L.circleMarker%28%0A%20%20%20%20%20%20%20%20%20%20%20%20%20%20%20%20%5B-23.4925895%2C%20-46.6093669%5D%2C%0A%20%20%20%20%20%20%20%20%20%20%20%20%20%20%20%20%7B%0A%20%20%22bubblingMouseEvents%22%3A%20true%2C%0A%20%20%22color%22%3A%20%22blue%22%2C%0A%20%20%22dashArray%22%3A%20null%2C%0A%20%20%22dashOffset%22%3A%20null%2C%0A%20%20%22fill%22%3A%20true%2C%0A%20%20%22fillColor%22%3A%20%22%233186cc%22%2C%0A%20%20%22fillOpacity%22%3A%200.7%2C%0A%20%20%22fillRule%22%3A%20%22evenodd%22%2C%0A%20%20%22lineCap%22%3A%20%22round%22%2C%0A%20%20%22lineJoin%22%3A%20%22round%22%2C%0A%20%20%22opacity%22%3A%201.0%2C%0A%20%20%22radius%22%3A%205%2C%0A%20%20%22stroke%22%3A%20true%2C%0A%20%20%22weight%22%3A%203%0A%7D%0A%20%20%20%20%20%20%20%20%20%20%20%20%20%20%20%20%29%0A%20%20%20%20%20%20%20%20%20%20%20%20%20%20%20%20.addTo%28map_b5b67bda42714c19b60ce8993be67a72%29%3B%0A%20%20%20%20%20%20%20%20%20%20%20%20%0A%20%20%20%20%0A%20%20%20%20%20%20%20%20%20%20%20%20var%20popup_28a261325a5747e19b62fc9e1c7ee9f5%20%3D%20L.popup%28%7BmaxWidth%3A%20%27100%25%27%0A%20%20%20%20%20%20%20%20%20%20%20%20%0A%20%20%20%20%20%20%20%20%20%20%20%20%7D%29%3B%0A%0A%20%20%20%20%20%20%20%20%20%20%20%20%0A%20%20%20%20%20%20%20%20%20%20%20%20%20%20%20%20var%20html_14296c10c480402c8bbae695802beb07%20%3D%20%24%28%60%3Cdiv%20id%3D%22html_14296c10c480402c8bbae695802beb07%22%20style%3D%22width%3A%20100.0%25%3B%20height%3A%20100.0%25%3B%22%3E%20Fr%20%20Vl%20Dom%20Pedro%20Ii%3C/div%3E%60%29%5B0%5D%3B%0A%20%20%20%20%20%20%20%20%20%20%20%20%20%20%20%20popup_28a261325a5747e19b62fc9e1c7ee9f5.setContent%28html_14296c10c480402c8bbae695802beb07%29%3B%0A%20%20%20%20%20%20%20%20%20%20%20%20%0A%0A%20%20%20%20%20%20%20%20%20%20%20%20circle_marker_842f5a7c95354e53b5372e25028be0a0.bindPopup%28popup_28a261325a5747e19b62fc9e1c7ee9f5%29%0A%20%20%20%20%20%20%20%20%20%20%20%20%3B%0A%0A%20%20%20%20%20%20%20%20%20%20%20%20%0A%20%20%20%20%20%20%20%20%0A%20%20%20%20%0A%20%20%20%20%20%20%20%20%20%20%20%20var%20circle_marker_12c2aa166bc549e7886d6f1e84537f92%20%3D%20L.circleMarker%28%0A%20%20%20%20%20%20%20%20%20%20%20%20%20%20%20%20%5B-23.5480935%2C%20-46.572232%5D%2C%0A%20%20%20%20%20%20%20%20%20%20%20%20%20%20%20%20%7B%0A%20%20%22bubblingMouseEvents%22%3A%20true%2C%0A%20%20%22color%22%3A%20%22blue%22%2C%0A%20%20%22dashArray%22%3A%20null%2C%0A%20%20%22dashOffset%22%3A%20null%2C%0A%20%20%22fill%22%3A%20true%2C%0A%20%20%22fillColor%22%3A%20%22%233186cc%22%2C%0A%20%20%22fillOpacity%22%3A%200.7%2C%0A%20%20%22fillRule%22%3A%20%22evenodd%22%2C%0A%20%20%22lineCap%22%3A%20%22round%22%2C%0A%20%20%22lineJoin%22%3A%20%22round%22%2C%0A%20%20%22opacity%22%3A%201.0%2C%0A%20%20%22radius%22%3A%205%2C%0A%20%20%22stroke%22%3A%20true%2C%0A%20%20%22weight%22%3A%203%0A%7D%0A%20%20%20%20%20%20%20%20%20%20%20%20%20%20%20%20%29%0A%20%20%20%20%20%20%20%20%20%20%20%20%20%20%20%20.addTo%28map_b5b67bda42714c19b60ce8993be67a72%29%3B%0A%20%20%20%20%20%20%20%20%20%20%20%20%0A%20%20%20%20%0A%20%20%20%20%20%20%20%20%20%20%20%20var%20popup_c2f72423fb1e464bb85fe4dc3655ed49%20%3D%20L.popup%28%7BmaxWidth%3A%20%27100%25%27%0A%20%20%20%20%20%20%20%20%20%20%20%20%0A%20%20%20%20%20%20%20%20%20%20%20%20%7D%29%3B%0A%0A%20%20%20%20%20%20%20%20%20%20%20%20%0A%20%20%20%20%20%20%20%20%20%20%20%20%20%20%20%20var%20html_97e9e0df11d54f128e342169e2ae7e8e%20%3D%20%24%28%60%3Cdiv%20id%3D%22html_97e9e0df11d54f128e342169e2ae7e8e%22%20style%3D%22width%3A%20100.0%25%3B%20height%3A%20100.0%25%3B%22%3E%20%20Cidade%20M%C3%A3e%20do%20C%C3%A9u%3C/div%3E%60%29%5B0%5D%3B%0A%20%20%20%20%20%20%20%20%20%20%20%20%20%20%20%20popup_c2f72423fb1e464bb85fe4dc3655ed49.setContent%28html_97e9e0df11d54f128e342169e2ae7e8e%29%3B%0A%20%20%20%20%20%20%20%20%20%20%20%20%0A%0A%20%20%20%20%20%20%20%20%20%20%20%20circle_marker_12c2aa166bc549e7886d6f1e84537f92.bindPopup%28popup_c2f72423fb1e464bb85fe4dc3655ed49%29%0A%20%20%20%20%20%20%20%20%20%20%20%20%3B%0A%0A%20%20%20%20%20%20%20%20%20%20%20%20%0A%20%20%20%20%20%20%20%20%0A%20%20%20%20%0A%20%20%20%20%20%20%20%20%20%20%20%20var%20circle_marker_5ee26f49ac3843f5b2cd0caa1b9ea9ee%20%3D%20L.circleMarker%28%0A%20%20%20%20%20%20%20%20%20%20%20%20%20%20%20%20%5B-23.588433%2C%20-46.63216800000001%5D%2C%0A%20%20%20%20%20%20%20%20%20%20%20%20%20%20%20%20%7B%0A%20%20%22bubblingMouseEvents%22%3A%20true%2C%0A%20%20%22color%22%3A%20%22blue%22%2C%0A%20%20%22dashArray%22%3A%20null%2C%0A%20%20%22dashOffset%22%3A%20null%2C%0A%20%20%22fill%22%3A%20true%2C%0A%20%20%22fillColor%22%3A%20%22%233186cc%22%2C%0A%20%20%22fillOpacity%22%3A%200.7%2C%0A%20%20%22fillRule%22%3A%20%22evenodd%22%2C%0A%20%20%22lineCap%22%3A%20%22round%22%2C%0A%20%20%22lineJoin%22%3A%20%22round%22%2C%0A%20%20%22opacity%22%3A%201.0%2C%0A%20%20%22radius%22%3A%205%2C%0A%20%20%22stroke%22%3A%20true%2C%0A%20%20%22weight%22%3A%203%0A%7D%0A%20%20%20%20%20%20%20%20%20%20%20%20%20%20%20%20%29%0A%20%20%20%20%20%20%20%20%20%20%20%20%20%20%20%20.addTo%28map_b5b67bda42714c19b60ce8993be67a72%29%3B%0A%20%20%20%20%20%20%20%20%20%20%20%20%0A%20%20%20%20%0A%20%20%20%20%20%20%20%20%20%20%20%20var%20popup_3dd1a91861b144b6a3c4d4e365ba75ac%20%3D%20L.popup%28%7BmaxWidth%3A%20%27100%25%27%0A%20%20%20%20%20%20%20%20%20%20%20%20%0A%20%20%20%20%20%20%20%20%20%20%20%20%7D%29%3B%0A%0A%20%20%20%20%20%20%20%20%20%20%20%20%0A%20%20%20%20%20%20%20%20%20%20%20%20%20%20%20%20var%20html_b265a3d32e2d4a1fa2dbfb42653c2b7c%20%3D%20%24%28%60%3Cdiv%20id%3D%22html_b265a3d32e2d4a1fa2dbfb42653c2b7c%22%20style%3D%22width%3A%20100.0%25%3B%20height%3A%20100.0%25%3B%22%3E%20%20%3C/div%3E%60%29%5B0%5D%3B%0A%20%20%20%20%20%20%20%20%20%20%20%20%20%20%20%20popup_3dd1a91861b144b6a3c4d4e365ba75ac.setContent%28html_b265a3d32e2d4a1fa2dbfb42653c2b7c%29%3B%0A%20%20%20%20%20%20%20%20%20%20%20%20%0A%0A%20%20%20%20%20%20%20%20%20%20%20%20circle_marker_5ee26f49ac3843f5b2cd0caa1b9ea9ee.bindPopup%28popup_3dd1a91861b144b6a3c4d4e365ba75ac%29%0A%20%20%20%20%20%20%20%20%20%20%20%20%3B%0A%0A%20%20%20%20%20%20%20%20%20%20%20%20%0A%20%20%20%20%20%20%20%20%0A%20%20%20%20%0A%20%20%20%20%20%20%20%20%20%20%20%20var%20circle_marker_566215bbb3c548599604562203e3abf8%20%3D%20L.circleMarker%28%0A%20%20%20%20%20%20%20%20%20%20%20%20%20%20%20%20%5B-23.5822459%2C%20-46.6494602%5D%2C%0A%20%20%20%20%20%20%20%20%20%20%20%20%20%20%20%20%7B%0A%20%20%22bubblingMouseEvents%22%3A%20true%2C%0A%20%20%22color%22%3A%20%22blue%22%2C%0A%20%20%22dashArray%22%3A%20null%2C%0A%20%20%22dashOffset%22%3A%20null%2C%0A%20%20%22fill%22%3A%20true%2C%0A%20%20%22fillColor%22%3A%20%22%233186cc%22%2C%0A%20%20%22fillOpacity%22%3A%200.7%2C%0A%20%20%22fillRule%22%3A%20%22evenodd%22%2C%0A%20%20%22lineCap%22%3A%20%22round%22%2C%0A%20%20%22lineJoin%22%3A%20%22round%22%2C%0A%20%20%22opacity%22%3A%201.0%2C%0A%20%20%22radius%22%3A%205%2C%0A%20%20%22stroke%22%3A%20true%2C%0A%20%20%22weight%22%3A%203%0A%7D%0A%20%20%20%20%20%20%20%20%20%20%20%20%20%20%20%20%29%0A%20%20%20%20%20%20%20%20%20%20%20%20%20%20%20%20.addTo%28map_b5b67bda42714c19b60ce8993be67a72%29%3B%0A%20%20%20%20%20%20%20%20%20%20%20%20%0A%20%20%20%20%0A%20%20%20%20%20%20%20%20%20%20%20%20var%20popup_916503d196f645edb1eb93c50ece2b19%20%3D%20L.popup%28%7BmaxWidth%3A%20%27100%25%27%0A%20%20%20%20%20%20%20%20%20%20%20%20%0A%20%20%20%20%20%20%20%20%20%20%20%20%7D%29%3B%0A%0A%20%20%20%20%20%20%20%20%20%20%20%20%0A%20%20%20%20%20%20%20%20%20%20%20%20%20%20%20%20var%20html_05e27128dbbf40588b1e791bcd5120a7%20%3D%20%24%28%60%3Cdiv%20id%3D%22html_05e27128dbbf40588b1e791bcd5120a7%22%20style%3D%22width%3A%20100.0%25%3B%20height%3A%20100.0%25%3B%22%3E%20%20Vl%20Mariana%3C/div%3E%60%29%5B0%5D%3B%0A%20%20%20%20%20%20%20%20%20%20%20%20%20%20%20%20popup_916503d196f645edb1eb93c50ece2b19.setContent%28html_05e27128dbbf40588b1e791bcd5120a7%29%3B%0A%20%20%20%20%20%20%20%20%20%20%20%20%0A%0A%20%20%20%20%20%20%20%20%20%20%20%20circle_marker_566215bbb3c548599604562203e3abf8.bindPopup%28popup_916503d196f645edb1eb93c50ece2b19%29%0A%20%20%20%20%20%20%20%20%20%20%20%20%3B%0A%0A%20%20%20%20%20%20%20%20%20%20%20%20%0A%20%20%20%20%20%20%20%20%0A%20%20%20%20%0A%20%20%20%20%20%20%20%20%20%20%20%20var%20circle_marker_41ff4a39059f402a8c77fc075de1128b%20%3D%20L.circleMarker%28%0A%20%20%20%20%20%20%20%20%20%20%20%20%20%20%20%20%5B-23.5698961%2C%20-46.6597714%5D%2C%0A%20%20%20%20%20%20%20%20%20%20%20%20%20%20%20%20%7B%0A%20%20%22bubblingMouseEvents%22%3A%20true%2C%0A%20%20%22color%22%3A%20%22blue%22%2C%0A%20%20%22dashArray%22%3A%20null%2C%0A%20%20%22dashOffset%22%3A%20null%2C%0A%20%20%22fill%22%3A%20true%2C%0A%20%20%22fillColor%22%3A%20%22%233186cc%22%2C%0A%20%20%22fillOpacity%22%3A%200.7%2C%0A%20%20%22fillRule%22%3A%20%22evenodd%22%2C%0A%20%20%22lineCap%22%3A%20%22round%22%2C%0A%20%20%22lineJoin%22%3A%20%22round%22%2C%0A%20%20%22opacity%22%3A%201.0%2C%0A%20%20%22radius%22%3A%205%2C%0A%20%20%22stroke%22%3A%20true%2C%0A%20%20%22weight%22%3A%203%0A%7D%0A%20%20%20%20%20%20%20%20%20%20%20%20%20%20%20%20%29%0A%20%20%20%20%20%20%20%20%20%20%20%20%20%20%20%20.addTo%28map_b5b67bda42714c19b60ce8993be67a72%29%3B%0A%20%20%20%20%20%20%20%20%20%20%20%20%0A%20%20%20%20%0A%20%20%20%20%20%20%20%20%20%20%20%20var%20popup_ad82988687f5476ab55d9d4d4b40339a%20%3D%20L.popup%28%7BmaxWidth%3A%20%27100%25%27%0A%20%20%20%20%20%20%20%20%20%20%20%20%0A%20%20%20%20%20%20%20%20%20%20%20%20%7D%29%3B%0A%0A%20%20%20%20%20%20%20%20%20%20%20%20%0A%20%20%20%20%20%20%20%20%20%20%20%20%20%20%20%20var%20html_986c9c997c0742ba8068165f426ca295%20%3D%20%24%28%60%3Cdiv%20id%3D%22html_986c9c997c0742ba8068165f426ca295%22%20style%3D%22width%3A%20100.0%25%3B%20height%3A%20100.0%25%3B%22%3E%20Lj%204%20%20Cerqueira%20C%C3%A9sar%3C/div%3E%60%29%5B0%5D%3B%0A%20%20%20%20%20%20%20%20%20%20%20%20%20%20%20%20popup_ad82988687f5476ab55d9d4d4b40339a.setContent%28html_986c9c997c0742ba8068165f426ca295%29%3B%0A%20%20%20%20%20%20%20%20%20%20%20%20%0A%0A%20%20%20%20%20%20%20%20%20%20%20%20circle_marker_41ff4a39059f402a8c77fc075de1128b.bindPopup%28popup_ad82988687f5476ab55d9d4d4b40339a%29%0A%20%20%20%20%20%20%20%20%20%20%20%20%3B%0A%0A%20%20%20%20%20%20%20%20%20%20%20%20%0A%20%20%20%20%20%20%20%20%0A%20%20%20%20%0A%20%20%20%20%20%20%20%20%20%20%20%20var%20circle_marker_e985bcb865a342ccb88a0fc844babd73%20%3D%20L.circleMarker%28%0A%20%20%20%20%20%20%20%20%20%20%20%20%20%20%20%20%5B-23.5893838%2C%20-46.6316989%5D%2C%0A%20%20%20%20%20%20%20%20%20%20%20%20%20%20%20%20%7B%0A%20%20%22bubblingMouseEvents%22%3A%20true%2C%0A%20%20%22color%22%3A%20%22blue%22%2C%0A%20%20%22dashArray%22%3A%20null%2C%0A%20%20%22dashOffset%22%3A%20null%2C%0A%20%20%22fill%22%3A%20true%2C%0A%20%20%22fillColor%22%3A%20%22%233186cc%22%2C%0A%20%20%22fillOpacity%22%3A%200.7%2C%0A%20%20%22fillRule%22%3A%20%22evenodd%22%2C%0A%20%20%22lineCap%22%3A%20%22round%22%2C%0A%20%20%22lineJoin%22%3A%20%22round%22%2C%0A%20%20%22opacity%22%3A%201.0%2C%0A%20%20%22radius%22%3A%205%2C%0A%20%20%22stroke%22%3A%20true%2C%0A%20%20%22weight%22%3A%203%0A%7D%0A%20%20%20%20%20%20%20%20%20%20%20%20%20%20%20%20%29%0A%20%20%20%20%20%20%20%20%20%20%20%20%20%20%20%20.addTo%28map_b5b67bda42714c19b60ce8993be67a72%29%3B%0A%20%20%20%20%20%20%20%20%20%20%20%20%0A%20%20%20%20%0A%20%20%20%20%20%20%20%20%20%20%20%20var%20popup_5acd300755ad4951b5b64d58fff84f25%20%3D%20L.popup%28%7BmaxWidth%3A%20%27100%25%27%0A%20%20%20%20%20%20%20%20%20%20%20%20%0A%20%20%20%20%20%20%20%20%20%20%20%20%7D%29%3B%0A%0A%20%20%20%20%20%20%20%20%20%20%20%20%0A%20%20%20%20%20%20%20%20%20%20%20%20%20%20%20%20var%20html_b73bc45c83244662960a0e8b97f3a919%20%3D%20%24%28%60%3Cdiv%20id%3D%22html_b73bc45c83244662960a0e8b97f3a919%22%20style%3D%22width%3A%20100.0%25%3B%20height%3A%20100.0%25%3B%22%3E%20%20%3C/div%3E%60%29%5B0%5D%3B%0A%20%20%20%20%20%20%20%20%20%20%20%20%20%20%20%20popup_5acd300755ad4951b5b64d58fff84f25.setContent%28html_b73bc45c83244662960a0e8b97f3a919%29%3B%0A%20%20%20%20%20%20%20%20%20%20%20%20%0A%0A%20%20%20%20%20%20%20%20%20%20%20%20circle_marker_e985bcb865a342ccb88a0fc844babd73.bindPopup%28popup_5acd300755ad4951b5b64d58fff84f25%29%0A%20%20%20%20%20%20%20%20%20%20%20%20%3B%0A%0A%20%20%20%20%20%20%20%20%20%20%20%20%0A%20%20%20%20%20%20%20%20%0A%20%20%20%20%0A%20%20%20%20%20%20%20%20%20%20%20%20var%20circle_marker_9b5f9d4735bd482eb46290b5a0253d9f%20%3D%20L.circleMarker%28%0A%20%20%20%20%20%20%20%20%20%20%20%20%20%20%20%20%5B-23.5659871%2C%20-46.5725147%5D%2C%0A%20%20%20%20%20%20%20%20%20%20%20%20%20%20%20%20%7B%0A%20%20%22bubblingMouseEvents%22%3A%20true%2C%0A%20%20%22color%22%3A%20%22blue%22%2C%0A%20%20%22dashArray%22%3A%20null%2C%0A%20%20%22dashOffset%22%3A%20null%2C%0A%20%20%22fill%22%3A%20true%2C%0A%20%20%22fillColor%22%3A%20%22%233186cc%22%2C%0A%20%20%22fillOpacity%22%3A%200.7%2C%0A%20%20%22fillRule%22%3A%20%22evenodd%22%2C%0A%20%20%22lineCap%22%3A%20%22round%22%2C%0A%20%20%22lineJoin%22%3A%20%22round%22%2C%0A%20%20%22opacity%22%3A%201.0%2C%0A%20%20%22radius%22%3A%205%2C%0A%20%20%22stroke%22%3A%20true%2C%0A%20%20%22weight%22%3A%203%0A%7D%0A%20%20%20%20%20%20%20%20%20%20%20%20%20%20%20%20%29%0A%20%20%20%20%20%20%20%20%20%20%20%20%20%20%20%20.addTo%28map_b5b67bda42714c19b60ce8993be67a72%29%3B%0A%20%20%20%20%20%20%20%20%20%20%20%20%0A%20%20%20%20%0A%20%20%20%20%20%20%20%20%20%20%20%20var%20popup_9ead01789dd449c4adaf39e4593aaf97%20%3D%20L.popup%28%7BmaxWidth%3A%20%27100%25%27%0A%20%20%20%20%20%20%20%20%20%20%20%20%0A%20%20%20%20%20%20%20%20%20%20%20%20%7D%29%3B%0A%0A%20%20%20%20%20%20%20%20%20%20%20%20%0A%20%20%20%20%20%20%20%20%20%20%20%20%20%20%20%20var%20html_5645dc3b163f4b7ca2d53c23d36996d9%20%3D%20%24%28%60%3Cdiv%20id%3D%22html_5645dc3b163f4b7ca2d53c23d36996d9%22%20style%3D%22width%3A%20100.0%25%3B%20height%3A%20100.0%25%3B%22%3E%20Migracao%20%20Vl%20Canero%3C/div%3E%60%29%5B0%5D%3B%0A%20%20%20%20%20%20%20%20%20%20%20%20%20%20%20%20popup_9ead01789dd449c4adaf39e4593aaf97.setContent%28html_5645dc3b163f4b7ca2d53c23d36996d9%29%3B%0A%20%20%20%20%20%20%20%20%20%20%20%20%0A%0A%20%20%20%20%20%20%20%20%20%20%20%20circle_marker_9b5f9d4735bd482eb46290b5a0253d9f.bindPopup%28popup_9ead01789dd449c4adaf39e4593aaf97%29%0A%20%20%20%20%20%20%20%20%20%20%20%20%3B%0A%0A%20%20%20%20%20%20%20%20%20%20%20%20%0A%20%20%20%20%20%20%20%20%0A%20%20%20%20%0A%20%20%20%20%20%20%20%20%20%20%20%20var%20circle_marker_145dc5c071154840be9e24384ace3550%20%3D%20L.circleMarker%28%0A%20%20%20%20%20%20%20%20%20%20%20%20%20%20%20%20%5B-23.6409799%2C%20-46.6436387%5D%2C%0A%20%20%20%20%20%20%20%20%20%20%20%20%20%20%20%20%7B%0A%20%20%22bubblingMouseEvents%22%3A%20true%2C%0A%20%20%22color%22%3A%20%22blue%22%2C%0A%20%20%22dashArray%22%3A%20null%2C%0A%20%20%22dashOffset%22%3A%20null%2C%0A%20%20%22fill%22%3A%20true%2C%0A%20%20%22fillColor%22%3A%20%22%233186cc%22%2C%0A%20%20%22fillOpacity%22%3A%200.7%2C%0A%20%20%22fillRule%22%3A%20%22evenodd%22%2C%0A%20%20%22lineCap%22%3A%20%22round%22%2C%0A%20%20%22lineJoin%22%3A%20%22round%22%2C%0A%20%20%22opacity%22%3A%201.0%2C%0A%20%20%22radius%22%3A%205%2C%0A%20%20%22stroke%22%3A%20true%2C%0A%20%20%22weight%22%3A%203%0A%7D%0A%20%20%20%20%20%20%20%20%20%20%20%20%20%20%20%20%29%0A%20%20%20%20%20%20%20%20%20%20%20%20%20%20%20%20.addTo%28map_b5b67bda42714c19b60ce8993be67a72%29%3B%0A%20%20%20%20%20%20%20%20%20%20%20%20%0A%20%20%20%20%0A%20%20%20%20%20%20%20%20%20%20%20%20var%20popup_f5099ec1d16946fa8d972bd9649deee3%20%3D%20L.popup%28%7BmaxWidth%3A%20%27100%25%27%0A%20%20%20%20%20%20%20%20%20%20%20%20%0A%20%20%20%20%20%20%20%20%20%20%20%20%7D%29%3B%0A%0A%20%20%20%20%20%20%20%20%20%20%20%20%0A%20%20%20%20%20%20%20%20%20%20%20%20%20%20%20%20var%20html_b8c63a4ef9d54ce0809e4d1134d6288d%20%3D%20%24%28%60%3Cdiv%20id%3D%22html_b8c63a4ef9d54ce0809e4d1134d6288d%22%20style%3D%22width%3A%20100.0%25%3B%20height%3A%20100.0%25%3B%22%3E%20%20Jabaquara%3C/div%3E%60%29%5B0%5D%3B%0A%20%20%20%20%20%20%20%20%20%20%20%20%20%20%20%20popup_f5099ec1d16946fa8d972bd9649deee3.setContent%28html_b8c63a4ef9d54ce0809e4d1134d6288d%29%3B%0A%20%20%20%20%20%20%20%20%20%20%20%20%0A%0A%20%20%20%20%20%20%20%20%20%20%20%20circle_marker_145dc5c071154840be9e24384ace3550.bindPopup%28popup_f5099ec1d16946fa8d972bd9649deee3%29%0A%20%20%20%20%20%20%20%20%20%20%20%20%3B%0A%0A%20%20%20%20%20%20%20%20%20%20%20%20%0A%20%20%20%20%20%20%20%20%0A%20%20%20%20%0A%20%20%20%20%20%20%20%20%20%20%20%20var%20circle_marker_dd5e444739814e599c8c80c3107a1ccc%20%3D%20L.circleMarker%28%0A%20%20%20%20%20%20%20%20%20%20%20%20%20%20%20%20%5B-23.5718843%2C%20-46.6458107%5D%2C%0A%20%20%20%20%20%20%20%20%20%20%20%20%20%20%20%20%7B%0A%20%20%22bubblingMouseEvents%22%3A%20true%2C%0A%20%20%22color%22%3A%20%22blue%22%2C%0A%20%20%22dashArray%22%3A%20null%2C%0A%20%20%22dashOffset%22%3A%20null%2C%0A%20%20%22fill%22%3A%20true%2C%0A%20%20%22fillColor%22%3A%20%22%233186cc%22%2C%0A%20%20%22fillOpacity%22%3A%200.7%2C%0A%20%20%22fillRule%22%3A%20%22evenodd%22%2C%0A%20%20%22lineCap%22%3A%20%22round%22%2C%0A%20%20%22lineJoin%22%3A%20%22round%22%2C%0A%20%20%22opacity%22%3A%201.0%2C%0A%20%20%22radius%22%3A%205%2C%0A%20%20%22stroke%22%3A%20true%2C%0A%20%20%22weight%22%3A%203%0A%7D%0A%20%20%20%20%20%20%20%20%20%20%20%20%20%20%20%20%29%0A%20%20%20%20%20%20%20%20%20%20%20%20%20%20%20%20.addTo%28map_b5b67bda42714c19b60ce8993be67a72%29%3B%0A%20%20%20%20%20%20%20%20%20%20%20%20%0A%20%20%20%20%0A%20%20%20%20%20%20%20%20%20%20%20%20var%20popup_ad22dc47e93a47efb920faac532e92ea%20%3D%20L.popup%28%7BmaxWidth%3A%20%27100%25%27%0A%20%20%20%20%20%20%20%20%20%20%20%20%0A%20%20%20%20%20%20%20%20%20%20%20%20%7D%29%3B%0A%0A%20%20%20%20%20%20%20%20%20%20%20%20%0A%20%20%20%20%20%20%20%20%20%20%20%20%20%20%20%20var%20html_9224ccb1d6fe4dc793636ac2d94cf37d%20%3D%20%24%28%60%3Cdiv%20id%3D%22html_9224ccb1d6fe4dc793636ac2d94cf37d%22%20style%3D%22width%3A%20100.0%25%3B%20height%3A%20100.0%25%3B%22%3E%20Restaurante%20%20Cerqueira%20C%C3%A9sar%3C/div%3E%60%29%5B0%5D%3B%0A%20%20%20%20%20%20%20%20%20%20%20%20%20%20%20%20popup_ad22dc47e93a47efb920faac532e92ea.setContent%28html_9224ccb1d6fe4dc793636ac2d94cf37d%29%3B%0A%20%20%20%20%20%20%20%20%20%20%20%20%0A%0A%20%20%20%20%20%20%20%20%20%20%20%20circle_marker_dd5e444739814e599c8c80c3107a1ccc.bindPopup%28popup_ad22dc47e93a47efb920faac532e92ea%29%0A%20%20%20%20%20%20%20%20%20%20%20%20%3B%0A%0A%20%20%20%20%20%20%20%20%20%20%20%20%0A%20%20%20%20%20%20%20%20%0A%20%20%20%20%0A%20%20%20%20%20%20%20%20%20%20%20%20var%20circle_marker_ec880ffb552046efbc39069b71568bf6%20%3D%20L.circleMarker%28%0A%20%20%20%20%20%20%20%20%20%20%20%20%20%20%20%20%5B-23.5594101%2C%20-46.6509908%5D%2C%0A%20%20%20%20%20%20%20%20%20%20%20%20%20%20%20%20%7B%0A%20%20%22bubblingMouseEvents%22%3A%20true%2C%0A%20%20%22color%22%3A%20%22blue%22%2C%0A%20%20%22dashArray%22%3A%20null%2C%0A%20%20%22dashOffset%22%3A%20null%2C%0A%20%20%22fill%22%3A%20true%2C%0A%20%20%22fillColor%22%3A%20%22%233186cc%22%2C%0A%20%20%22fillOpacity%22%3A%200.7%2C%0A%20%20%22fillRule%22%3A%20%22evenodd%22%2C%0A%20%20%22lineCap%22%3A%20%22round%22%2C%0A%20%20%22lineJoin%22%3A%20%22round%22%2C%0A%20%20%22opacity%22%3A%201.0%2C%0A%20%20%22radius%22%3A%205%2C%0A%20%20%22stroke%22%3A%20true%2C%0A%20%20%22weight%22%3A%203%0A%7D%0A%20%20%20%20%20%20%20%20%20%20%20%20%20%20%20%20%29%0A%20%20%20%20%20%20%20%20%20%20%20%20%20%20%20%20.addTo%28map_b5b67bda42714c19b60ce8993be67a72%29%3B%0A%20%20%20%20%20%20%20%20%20%20%20%20%0A%20%20%20%20%0A%20%20%20%20%20%20%20%20%20%20%20%20var%20popup_6b904bc74e5346ebb66af6a91d83aa7b%20%3D%20L.popup%28%7BmaxWidth%3A%20%27100%25%27%0A%20%20%20%20%20%20%20%20%20%20%20%20%0A%20%20%20%20%20%20%20%20%20%20%20%20%7D%29%3B%0A%0A%20%20%20%20%20%20%20%20%20%20%20%20%0A%20%20%20%20%20%20%20%20%20%20%20%20%20%20%20%20var%20html_90125c37dbc948109bf0b8b04d83b021%20%3D%20%24%28%60%3Cdiv%20id%3D%22html_90125c37dbc948109bf0b8b04d83b021%22%20style%3D%22width%3A%20100.0%25%3B%20height%3A%20100.0%25%3B%22%3E%20An%2011%20%20Bela%20Vista%3C/div%3E%60%29%5B0%5D%3B%0A%20%20%20%20%20%20%20%20%20%20%20%20%20%20%20%20popup_6b904bc74e5346ebb66af6a91d83aa7b.setContent%28html_90125c37dbc948109bf0b8b04d83b021%29%3B%0A%20%20%20%20%20%20%20%20%20%20%20%20%0A%0A%20%20%20%20%20%20%20%20%20%20%20%20circle_marker_ec880ffb552046efbc39069b71568bf6.bindPopup%28popup_6b904bc74e5346ebb66af6a91d83aa7b%29%0A%20%20%20%20%20%20%20%20%20%20%20%20%3B%0A%0A%20%20%20%20%20%20%20%20%20%20%20%20%0A%20%20%20%20%20%20%20%20%0A%20%20%20%20%0A%20%20%20%20%20%20%20%20%20%20%20%20var%20circle_marker_aec63660dfc74f84888fc2f36e388048%20%3D%20L.circleMarker%28%0A%20%20%20%20%20%20%20%20%20%20%20%20%20%20%20%20%5B-23.6023528%2C%20-46.66164269999999%5D%2C%0A%20%20%20%20%20%20%20%20%20%20%20%20%20%20%20%20%7B%0A%20%20%22bubblingMouseEvents%22%3A%20true%2C%0A%20%20%22color%22%3A%20%22blue%22%2C%0A%20%20%22dashArray%22%3A%20null%2C%0A%20%20%22dashOffset%22%3A%20null%2C%0A%20%20%22fill%22%3A%20true%2C%0A%20%20%22fillColor%22%3A%20%22%233186cc%22%2C%0A%20%20%22fillOpacity%22%3A%200.7%2C%0A%20%20%22fillRule%22%3A%20%22evenodd%22%2C%0A%20%20%22lineCap%22%3A%20%22round%22%2C%0A%20%20%22lineJoin%22%3A%20%22round%22%2C%0A%20%20%22opacity%22%3A%201.0%2C%0A%20%20%22radius%22%3A%205%2C%0A%20%20%22stroke%22%3A%20true%2C%0A%20%20%22weight%22%3A%203%0A%7D%0A%20%20%20%20%20%20%20%20%20%20%20%20%20%20%20%20%29%0A%20%20%20%20%20%20%20%20%20%20%20%20%20%20%20%20.addTo%28map_b5b67bda42714c19b60ce8993be67a72%29%3B%0A%20%20%20%20%20%20%20%20%20%20%20%20%0A%20%20%20%20%0A%20%20%20%20%20%20%20%20%20%20%20%20var%20popup_35e9bb3b0df84e2e85d3dae7551b0346%20%3D%20L.popup%28%7BmaxWidth%3A%20%27100%25%27%0A%20%20%20%20%20%20%20%20%20%20%20%20%0A%20%20%20%20%20%20%20%20%20%20%20%20%7D%29%3B%0A%0A%20%20%20%20%20%20%20%20%20%20%20%20%0A%20%20%20%20%20%20%20%20%20%20%20%20%20%20%20%20var%20html_b93c8a09b6e1490d991fef1c8d80047a%20%3D%20%24%28%60%3Cdiv%20id%3D%22html_b93c8a09b6e1490d991fef1c8d80047a%22%20style%3D%22width%3A%20100.0%25%3B%20height%3A%20100.0%25%3B%22%3E%20%20Vl%20Helena%3C/div%3E%60%29%5B0%5D%3B%0A%20%20%20%20%20%20%20%20%20%20%20%20%20%20%20%20popup_35e9bb3b0df84e2e85d3dae7551b0346.setContent%28html_b93c8a09b6e1490d991fef1c8d80047a%29%3B%0A%20%20%20%20%20%20%20%20%20%20%20%20%0A%0A%20%20%20%20%20%20%20%20%20%20%20%20circle_marker_aec63660dfc74f84888fc2f36e388048.bindPopup%28popup_35e9bb3b0df84e2e85d3dae7551b0346%29%0A%20%20%20%20%20%20%20%20%20%20%20%20%3B%0A%0A%20%20%20%20%20%20%20%20%20%20%20%20%0A%20%20%20%20%20%20%20%20%0A%20%20%20%20%0A%20%20%20%20%20%20%20%20%20%20%20%20var%20circle_marker_3b7ca2109b244c38abec0b7f60109fa6%20%3D%20L.circleMarker%28%0A%20%20%20%20%20%20%20%20%20%20%20%20%20%20%20%20%5B-23.6102554%2C%20-46.6666907%5D%2C%0A%20%20%20%20%20%20%20%20%20%20%20%20%20%20%20%20%7B%0A%20%20%22bubblingMouseEvents%22%3A%20true%2C%0A%20%20%22color%22%3A%20%22blue%22%2C%0A%20%20%22dashArray%22%3A%20null%2C%0A%20%20%22dashOffset%22%3A%20null%2C%0A%20%20%22fill%22%3A%20true%2C%0A%20%20%22fillColor%22%3A%20%22%233186cc%22%2C%0A%20%20%22fillOpacity%22%3A%200.7%2C%0A%20%20%22fillRule%22%3A%20%22evenodd%22%2C%0A%20%20%22lineCap%22%3A%20%22round%22%2C%0A%20%20%22lineJoin%22%3A%20%22round%22%2C%0A%20%20%22opacity%22%3A%201.0%2C%0A%20%20%22radius%22%3A%205%2C%0A%20%20%22stroke%22%3A%20true%2C%0A%20%20%22weight%22%3A%203%0A%7D%0A%20%20%20%20%20%20%20%20%20%20%20%20%20%20%20%20%29%0A%20%20%20%20%20%20%20%20%20%20%20%20%20%20%20%20.addTo%28map_b5b67bda42714c19b60ce8993be67a72%29%3B%0A%20%20%20%20%20%20%20%20%20%20%20%20%0A%20%20%20%20%0A%20%20%20%20%20%20%20%20%20%20%20%20var%20popup_631b4a66d8c04c7e9a815fb49ca5f9c6%20%3D%20L.popup%28%7BmaxWidth%3A%20%27100%25%27%0A%20%20%20%20%20%20%20%20%20%20%20%20%0A%20%20%20%20%20%20%20%20%20%20%20%20%7D%29%3B%0A%0A%20%20%20%20%20%20%20%20%20%20%20%20%0A%20%20%20%20%20%20%20%20%20%20%20%20%20%20%20%20var%20html_0ef0a6acbfd2437f93b51f8dd20142ef%20%3D%20%24%28%60%3Cdiv%20id%3D%22html_0ef0a6acbfd2437f93b51f8dd20142ef%22%20style%3D%22width%3A%20100.0%25%3B%20height%3A%20100.0%25%3B%22%3E%20Lj%203%20%20Indianopolis%3C/div%3E%60%29%5B0%5D%3B%0A%20%20%20%20%20%20%20%20%20%20%20%20%20%20%20%20popup_631b4a66d8c04c7e9a815fb49ca5f9c6.setContent%28html_0ef0a6acbfd2437f93b51f8dd20142ef%29%3B%0A%20%20%20%20%20%20%20%20%20%20%20%20%0A%0A%20%20%20%20%20%20%20%20%20%20%20%20circle_marker_3b7ca2109b244c38abec0b7f60109fa6.bindPopup%28popup_631b4a66d8c04c7e9a815fb49ca5f9c6%29%0A%20%20%20%20%20%20%20%20%20%20%20%20%3B%0A%0A%20%20%20%20%20%20%20%20%20%20%20%20%0A%20%20%20%20%20%20%20%20%0A%20%20%20%20%0A%20%20%20%20%20%20%20%20%20%20%20%20var%20circle_marker_499ed22c424f4c6a9069da914ea2c5b9%20%3D%20L.circleMarker%28%0A%20%20%20%20%20%20%20%20%20%20%20%20%20%20%20%20%5B-23.53121%2C%20-46.6803523%5D%2C%0A%20%20%20%20%20%20%20%20%20%20%20%20%20%20%20%20%7B%0A%20%20%22bubblingMouseEvents%22%3A%20true%2C%0A%20%20%22color%22%3A%20%22blue%22%2C%0A%20%20%22dashArray%22%3A%20null%2C%0A%20%20%22dashOffset%22%3A%20null%2C%0A%20%20%22fill%22%3A%20true%2C%0A%20%20%22fillColor%22%3A%20%22%233186cc%22%2C%0A%20%20%22fillOpacity%22%3A%200.7%2C%0A%20%20%22fillRule%22%3A%20%22evenodd%22%2C%0A%20%20%22lineCap%22%3A%20%22round%22%2C%0A%20%20%22lineJoin%22%3A%20%22round%22%2C%0A%20%20%22opacity%22%3A%201.0%2C%0A%20%20%22radius%22%3A%205%2C%0A%20%20%22stroke%22%3A%20true%2C%0A%20%20%22weight%22%3A%203%0A%7D%0A%20%20%20%20%20%20%20%20%20%20%20%20%20%20%20%20%29%0A%20%20%20%20%20%20%20%20%20%20%20%20%20%20%20%20.addTo%28map_b5b67bda42714c19b60ce8993be67a72%29%3B%0A%20%20%20%20%20%20%20%20%20%20%20%20%0A%20%20%20%20%0A%20%20%20%20%20%20%20%20%20%20%20%20var%20popup_5b4779d365f0426bb99e3f9d68891f6c%20%3D%20L.popup%28%7BmaxWidth%3A%20%27100%25%27%0A%20%20%20%20%20%20%20%20%20%20%20%20%0A%20%20%20%20%20%20%20%20%20%20%20%20%7D%29%3B%0A%0A%20%20%20%20%20%20%20%20%20%20%20%20%0A%20%20%20%20%20%20%20%20%20%20%20%20%20%20%20%20var%20html_f56f57ef926f40fa92ebc3223a3e6006%20%3D%20%24%28%60%3Cdiv%20id%3D%22html_f56f57ef926f40fa92ebc3223a3e6006%22%20style%3D%22width%3A%20100.0%25%3B%20height%3A%20100.0%25%3B%22%3E%20%20Perdizes%3C/div%3E%60%29%5B0%5D%3B%0A%20%20%20%20%20%20%20%20%20%20%20%20%20%20%20%20popup_5b4779d365f0426bb99e3f9d68891f6c.setContent%28html_f56f57ef926f40fa92ebc3223a3e6006%29%3B%0A%20%20%20%20%20%20%20%20%20%20%20%20%0A%0A%20%20%20%20%20%20%20%20%20%20%20%20circle_marker_499ed22c424f4c6a9069da914ea2c5b9.bindPopup%28popup_5b4779d365f0426bb99e3f9d68891f6c%29%0A%20%20%20%20%20%20%20%20%20%20%20%20%3B%0A%0A%20%20%20%20%20%20%20%20%20%20%20%20%0A%20%20%20%20%20%20%20%20%0A%20%20%20%20%0A%20%20%20%20%20%20%20%20%20%20%20%20var%20circle_marker_1ee7f60af50940089ebec5cc0ccbd360%20%3D%20L.circleMarker%28%0A%20%20%20%20%20%20%20%20%20%20%20%20%20%20%20%20%5B-23.5173919%2C%20-46.6985941%5D%2C%0A%20%20%20%20%20%20%20%20%20%20%20%20%20%20%20%20%7B%0A%20%20%22bubblingMouseEvents%22%3A%20true%2C%0A%20%20%22color%22%3A%20%22blue%22%2C%0A%20%20%22dashArray%22%3A%20null%2C%0A%20%20%22dashOffset%22%3A%20null%2C%0A%20%20%22fill%22%3A%20true%2C%0A%20%20%22fillColor%22%3A%20%22%233186cc%22%2C%0A%20%20%22fillOpacity%22%3A%200.7%2C%0A%20%20%22fillRule%22%3A%20%22evenodd%22%2C%0A%20%20%22lineCap%22%3A%20%22round%22%2C%0A%20%20%22lineJoin%22%3A%20%22round%22%2C%0A%20%20%22opacity%22%3A%201.0%2C%0A%20%20%22radius%22%3A%205%2C%0A%20%20%22stroke%22%3A%20true%2C%0A%20%20%22weight%22%3A%203%0A%7D%0A%20%20%20%20%20%20%20%20%20%20%20%20%20%20%20%20%29%0A%20%20%20%20%20%20%20%20%20%20%20%20%20%20%20%20.addTo%28map_b5b67bda42714c19b60ce8993be67a72%29%3B%0A%20%20%20%20%20%20%20%20%20%20%20%20%0A%20%20%20%20%0A%20%20%20%20%20%20%20%20%20%20%20%20var%20popup_852bab3373044ac6988b3d822cbcb084%20%3D%20L.popup%28%7BmaxWidth%3A%20%27100%25%27%0A%20%20%20%20%20%20%20%20%20%20%20%20%0A%20%20%20%20%20%20%20%20%20%20%20%20%7D%29%3B%0A%0A%20%20%20%20%20%20%20%20%20%20%20%20%0A%20%20%20%20%20%20%20%20%20%20%20%20%20%20%20%20var%20html_082033906b324aa7a6184868f88e195f%20%3D%20%24%28%60%3Cdiv%20id%3D%22html_082033906b324aa7a6184868f88e195f%22%20style%3D%22width%3A%20100.0%25%3B%20height%3A%20100.0%25%3B%22%3E%20Loja%2005%20%20Lapa%3C/div%3E%60%29%5B0%5D%3B%0A%20%20%20%20%20%20%20%20%20%20%20%20%20%20%20%20popup_852bab3373044ac6988b3d822cbcb084.setContent%28html_082033906b324aa7a6184868f88e195f%29%3B%0A%20%20%20%20%20%20%20%20%20%20%20%20%0A%0A%20%20%20%20%20%20%20%20%20%20%20%20circle_marker_1ee7f60af50940089ebec5cc0ccbd360.bindPopup%28popup_852bab3373044ac6988b3d822cbcb084%29%0A%20%20%20%20%20%20%20%20%20%20%20%20%3B%0A%0A%20%20%20%20%20%20%20%20%20%20%20%20%0A%20%20%20%20%20%20%20%20%0A%20%20%20%20%0A%20%20%20%20%20%20%20%20%20%20%20%20var%20circle_marker_bbacbdd52489476eaeb521ee1f2f040c%20%3D%20L.circleMarker%28%0A%20%20%20%20%20%20%20%20%20%20%20%20%20%20%20%20%5B-23.540713%2C%20-46.6509382%5D%2C%0A%20%20%20%20%20%20%20%20%20%20%20%20%20%20%20%20%7B%0A%20%20%22bubblingMouseEvents%22%3A%20true%2C%0A%20%20%22color%22%3A%20%22blue%22%2C%0A%20%20%22dashArray%22%3A%20null%2C%0A%20%20%22dashOffset%22%3A%20null%2C%0A%20%20%22fill%22%3A%20true%2C%0A%20%20%22fillColor%22%3A%20%22%233186cc%22%2C%0A%20%20%22fillOpacity%22%3A%200.7%2C%0A%20%20%22fillRule%22%3A%20%22evenodd%22%2C%0A%20%20%22lineCap%22%3A%20%22round%22%2C%0A%20%20%22lineJoin%22%3A%20%22round%22%2C%0A%20%20%22opacity%22%3A%201.0%2C%0A%20%20%22radius%22%3A%205%2C%0A%20%20%22stroke%22%3A%20true%2C%0A%20%20%22weight%22%3A%203%0A%7D%0A%20%20%20%20%20%20%20%20%20%20%20%20%20%20%20%20%29%0A%20%20%20%20%20%20%20%20%20%20%20%20%20%20%20%20.addTo%28map_b5b67bda42714c19b60ce8993be67a72%29%3B%0A%20%20%20%20%20%20%20%20%20%20%20%20%0A%20%20%20%20%0A%20%20%20%20%20%20%20%20%20%20%20%20var%20popup_c9d5e3e526294574972d7228aff5c07f%20%3D%20L.popup%28%7BmaxWidth%3A%20%27100%25%27%0A%20%20%20%20%20%20%20%20%20%20%20%20%0A%20%20%20%20%20%20%20%20%20%20%20%20%7D%29%3B%0A%0A%20%20%20%20%20%20%20%20%20%20%20%20%0A%20%20%20%20%20%20%20%20%20%20%20%20%20%20%20%20var%20html_a43ef1178f2346039055911665a7c9b9%20%3D%20%24%28%60%3Cdiv%20id%3D%22html_a43ef1178f2346039055911665a7c9b9%22%20style%3D%22width%3A%20100.0%25%3B%20height%3A%20100.0%25%3B%22%3E%20%20Sta%20Cec%C3%ADlia%3C/div%3E%60%29%5B0%5D%3B%0A%20%20%20%20%20%20%20%20%20%20%20%20%20%20%20%20popup_c9d5e3e526294574972d7228aff5c07f.setContent%28html_a43ef1178f2346039055911665a7c9b9%29%3B%0A%20%20%20%20%20%20%20%20%20%20%20%20%0A%0A%20%20%20%20%20%20%20%20%20%20%20%20circle_marker_bbacbdd52489476eaeb521ee1f2f040c.bindPopup%28popup_c9d5e3e526294574972d7228aff5c07f%29%0A%20%20%20%20%20%20%20%20%20%20%20%20%3B%0A%0A%20%20%20%20%20%20%20%20%20%20%20%20%0A%20%20%20%20%20%20%20%20%0A%20%20%20%20%0A%20%20%20%20%20%20%20%20%20%20%20%20var%20circle_marker_52ee74d9638f4c23a2aebb4eb05ca158%20%3D%20L.circleMarker%28%0A%20%20%20%20%20%20%20%20%20%20%20%20%20%20%20%20%5B-23.5436524%2C%20-46.6468352%5D%2C%0A%20%20%20%20%20%20%20%20%20%20%20%20%20%20%20%20%7B%0A%20%20%22bubblingMouseEvents%22%3A%20true%2C%0A%20%20%22color%22%3A%20%22blue%22%2C%0A%20%20%22dashArray%22%3A%20null%2C%0A%20%20%22dashOffset%22%3A%20null%2C%0A%20%20%22fill%22%3A%20true%2C%0A%20%20%22fillColor%22%3A%20%22%233186cc%22%2C%0A%20%20%22fillOpacity%22%3A%200.7%2C%0A%20%20%22fillRule%22%3A%20%22evenodd%22%2C%0A%20%20%22lineCap%22%3A%20%22round%22%2C%0A%20%20%22lineJoin%22%3A%20%22round%22%2C%0A%20%20%22opacity%22%3A%201.0%2C%0A%20%20%22radius%22%3A%205%2C%0A%20%20%22stroke%22%3A%20true%2C%0A%20%20%22weight%22%3A%203%0A%7D%0A%20%20%20%20%20%20%20%20%20%20%20%20%20%20%20%20%29%0A%20%20%20%20%20%20%20%20%20%20%20%20%20%20%20%20.addTo%28map_b5b67bda42714c19b60ce8993be67a72%29%3B%0A%20%20%20%20%20%20%20%20%20%20%20%20%0A%20%20%20%20%0A%20%20%20%20%20%20%20%20%20%20%20%20var%20popup_698c1b57d717446fb0f019069a9f9759%20%3D%20L.popup%28%7BmaxWidth%3A%20%27100%25%27%0A%20%20%20%20%20%20%20%20%20%20%20%20%0A%20%20%20%20%20%20%20%20%20%20%20%20%7D%29%3B%0A%0A%20%20%20%20%20%20%20%20%20%20%20%20%0A%20%20%20%20%20%20%20%20%20%20%20%20%20%20%20%20var%20html_bde6f50ff3274c919f2f5b3af964a9e6%20%3D%20%24%28%60%3Cdiv%20id%3D%22html_bde6f50ff3274c919f2f5b3af964a9e6%22%20style%3D%22width%3A%20100.0%25%3B%20height%3A%20100.0%25%3B%22%3E%20Sl%2014%20%20Vl%20Buarque%3C/div%3E%60%29%5B0%5D%3B%0A%20%20%20%20%20%20%20%20%20%20%20%20%20%20%20%20popup_698c1b57d717446fb0f019069a9f9759.setContent%28html_bde6f50ff3274c919f2f5b3af964a9e6%29%3B%0A%20%20%20%20%20%20%20%20%20%20%20%20%0A%0A%20%20%20%20%20%20%20%20%20%20%20%20circle_marker_52ee74d9638f4c23a2aebb4eb05ca158.bindPopup%28popup_698c1b57d717446fb0f019069a9f9759%29%0A%20%20%20%20%20%20%20%20%20%20%20%20%3B%0A%0A%20%20%20%20%20%20%20%20%20%20%20%20%0A%20%20%20%20%20%20%20%20%0A%20%20%20%20%0A%20%20%20%20%20%20%20%20%20%20%20%20var%20circle_marker_4da6c289732a4c7596966062c1b5aa80%20%3D%20L.circleMarker%28%0A%20%20%20%20%20%20%20%20%20%20%20%20%20%20%20%20%5B-23.5581963%2C%20-46.690248%5D%2C%0A%20%20%20%20%20%20%20%20%20%20%20%20%20%20%20%20%7B%0A%20%20%22bubblingMouseEvents%22%3A%20true%2C%0A%20%20%22color%22%3A%20%22blue%22%2C%0A%20%20%22dashArray%22%3A%20null%2C%0A%20%20%22dashOffset%22%3A%20null%2C%0A%20%20%22fill%22%3A%20true%2C%0A%20%20%22fillColor%22%3A%20%22%233186cc%22%2C%0A%20%20%22fillOpacity%22%3A%200.7%2C%0A%20%20%22fillRule%22%3A%20%22evenodd%22%2C%0A%20%20%22lineCap%22%3A%20%22round%22%2C%0A%20%20%22lineJoin%22%3A%20%22round%22%2C%0A%20%20%22opacity%22%3A%201.0%2C%0A%20%20%22radius%22%3A%205%2C%0A%20%20%22stroke%22%3A%20true%2C%0A%20%20%22weight%22%3A%203%0A%7D%0A%20%20%20%20%20%20%20%20%20%20%20%20%20%20%20%20%29%0A%20%20%20%20%20%20%20%20%20%20%20%20%20%20%20%20.addTo%28map_b5b67bda42714c19b60ce8993be67a72%29%3B%0A%20%20%20%20%20%20%20%20%20%20%20%20%0A%20%20%20%20%0A%20%20%20%20%20%20%20%20%20%20%20%20var%20popup_eb1f0fbdee7b47c5ae1c07f121974e39%20%3D%20L.popup%28%7BmaxWidth%3A%20%27100%25%27%0A%20%20%20%20%20%20%20%20%20%20%20%20%0A%20%20%20%20%20%20%20%20%20%20%20%20%7D%29%3B%0A%0A%20%20%20%20%20%20%20%20%20%20%20%20%0A%20%20%20%20%20%20%20%20%20%20%20%20%20%20%20%20var%20html_8c69d2129cf54f86bebe7a513ea826c6%20%3D%20%24%28%60%3Cdiv%20id%3D%22html_8c69d2129cf54f86bebe7a513ea826c6%22%20style%3D%22width%3A%20100.0%25%3B%20height%3A%20100.0%25%3B%22%3E%20%20Vl%20Madalena%3C/div%3E%60%29%5B0%5D%3B%0A%20%20%20%20%20%20%20%20%20%20%20%20%20%20%20%20popup_eb1f0fbdee7b47c5ae1c07f121974e39.setContent%28html_8c69d2129cf54f86bebe7a513ea826c6%29%3B%0A%20%20%20%20%20%20%20%20%20%20%20%20%0A%0A%20%20%20%20%20%20%20%20%20%20%20%20circle_marker_4da6c289732a4c7596966062c1b5aa80.bindPopup%28popup_eb1f0fbdee7b47c5ae1c07f121974e39%29%0A%20%20%20%20%20%20%20%20%20%20%20%20%3B%0A%0A%20%20%20%20%20%20%20%20%20%20%20%20%0A%20%20%20%20%20%20%20%20%0A%20%20%20%20%0A%20%20%20%20%20%20%20%20%20%20%20%20var%20circle_marker_61a525cbe37440c8842ec7d393966817%20%3D%20L.circleMarker%28%0A%20%20%20%20%20%20%20%20%20%20%20%20%20%20%20%20%5B-23.5779027%2C%20-46.6110675%5D%2C%0A%20%20%20%20%20%20%20%20%20%20%20%20%20%20%20%20%7B%0A%20%20%22bubblingMouseEvents%22%3A%20true%2C%0A%20%20%22color%22%3A%20%22blue%22%2C%0A%20%20%22dashArray%22%3A%20null%2C%0A%20%20%22dashOffset%22%3A%20null%2C%0A%20%20%22fill%22%3A%20true%2C%0A%20%20%22fillColor%22%3A%20%22%233186cc%22%2C%0A%20%20%22fillOpacity%22%3A%200.7%2C%0A%20%20%22fillRule%22%3A%20%22evenodd%22%2C%0A%20%20%22lineCap%22%3A%20%22round%22%2C%0A%20%20%22lineJoin%22%3A%20%22round%22%2C%0A%20%20%22opacity%22%3A%201.0%2C%0A%20%20%22radius%22%3A%205%2C%0A%20%20%22stroke%22%3A%20true%2C%0A%20%20%22weight%22%3A%203%0A%7D%0A%20%20%20%20%20%20%20%20%20%20%20%20%20%20%20%20%29%0A%20%20%20%20%20%20%20%20%20%20%20%20%20%20%20%20.addTo%28map_b5b67bda42714c19b60ce8993be67a72%29%3B%0A%20%20%20%20%20%20%20%20%20%20%20%20%0A%20%20%20%20%0A%20%20%20%20%20%20%20%20%20%20%20%20var%20popup_87a3ea7aec09438e9e3aeb9ca2937f11%20%3D%20L.popup%28%7BmaxWidth%3A%20%27100%25%27%0A%20%20%20%20%20%20%20%20%20%20%20%20%0A%20%20%20%20%20%20%20%20%20%20%20%20%7D%29%3B%0A%0A%20%20%20%20%20%20%20%20%20%20%20%20%0A%20%20%20%20%20%20%20%20%20%20%20%20%20%20%20%20var%20html_e235e22faecd4dec940f863a2374e9a4%20%3D%20%24%28%60%3Cdiv%20id%3D%22html_e235e22faecd4dec940f863a2374e9a4%22%20style%3D%22width%3A%20100.0%25%3B%20height%3A%20100.0%25%3B%22%3E%20%20Vl%20Santa%20Eulalia%3C/div%3E%60%29%5B0%5D%3B%0A%20%20%20%20%20%20%20%20%20%20%20%20%20%20%20%20popup_87a3ea7aec09438e9e3aeb9ca2937f11.setContent%28html_e235e22faecd4dec940f863a2374e9a4%29%3B%0A%20%20%20%20%20%20%20%20%20%20%20%20%0A%0A%20%20%20%20%20%20%20%20%20%20%20%20circle_marker_61a525cbe37440c8842ec7d393966817.bindPopup%28popup_87a3ea7aec09438e9e3aeb9ca2937f11%29%0A%20%20%20%20%20%20%20%20%20%20%20%20%3B%0A%0A%20%20%20%20%20%20%20%20%20%20%20%20%0A%20%20%20%20%20%20%20%20%0A%20%20%20%20%0A%20%20%20%20%20%20%20%20%20%20%20%20var%20circle_marker_29d54cd251cf426d8866bd1b47225030%20%3D%20L.circleMarker%28%0A%20%20%20%20%20%20%20%20%20%20%20%20%20%20%20%20%5B-23.4652412%2C%20-46.6167636%5D%2C%0A%20%20%20%20%20%20%20%20%20%20%20%20%20%20%20%20%7B%0A%20%20%22bubblingMouseEvents%22%3A%20true%2C%0A%20%20%22color%22%3A%20%22blue%22%2C%0A%20%20%22dashArray%22%3A%20null%2C%0A%20%20%22dashOffset%22%3A%20null%2C%0A%20%20%22fill%22%3A%20true%2C%0A%20%20%22fillColor%22%3A%20%22%233186cc%22%2C%0A%20%20%22fillOpacity%22%3A%200.7%2C%0A%20%20%22fillRule%22%3A%20%22evenodd%22%2C%0A%20%20%22lineCap%22%3A%20%22round%22%2C%0A%20%20%22lineJoin%22%3A%20%22round%22%2C%0A%20%20%22opacity%22%3A%201.0%2C%0A%20%20%22radius%22%3A%205%2C%0A%20%20%22stroke%22%3A%20true%2C%0A%20%20%22weight%22%3A%203%0A%7D%0A%20%20%20%20%20%20%20%20%20%20%20%20%20%20%20%20%29%0A%20%20%20%20%20%20%20%20%20%20%20%20%20%20%20%20.addTo%28map_b5b67bda42714c19b60ce8993be67a72%29%3B%0A%20%20%20%20%20%20%20%20%20%20%20%20%0A%20%20%20%20%0A%20%20%20%20%20%20%20%20%20%20%20%20var%20popup_51fecebb1c244207a907574195167aa3%20%3D%20L.popup%28%7BmaxWidth%3A%20%27100%25%27%0A%20%20%20%20%20%20%20%20%20%20%20%20%0A%20%20%20%20%20%20%20%20%20%20%20%20%7D%29%3B%0A%0A%20%20%20%20%20%20%20%20%20%20%20%20%0A%20%20%20%20%20%20%20%20%20%20%20%20%20%20%20%20var%20html_2556309a09ce41e0b8a1fdc0dc32d265%20%3D%20%24%28%60%3Cdiv%20id%3D%22html_2556309a09ce41e0b8a1fdc0dc32d265%22%20style%3D%22width%3A%20100.0%25%3B%20height%3A%20100.0%25%3B%22%3E%20%20Tucuruvi%3C/div%3E%60%29%5B0%5D%3B%0A%20%20%20%20%20%20%20%20%20%20%20%20%20%20%20%20popup_51fecebb1c244207a907574195167aa3.setContent%28html_2556309a09ce41e0b8a1fdc0dc32d265%29%3B%0A%20%20%20%20%20%20%20%20%20%20%20%20%0A%0A%20%20%20%20%20%20%20%20%20%20%20%20circle_marker_29d54cd251cf426d8866bd1b47225030.bindPopup%28popup_51fecebb1c244207a907574195167aa3%29%0A%20%20%20%20%20%20%20%20%20%20%20%20%3B%0A%0A%20%20%20%20%20%20%20%20%20%20%20%20%0A%20%20%20%20%20%20%20%20%0A%20%20%20%20%0A%20%20%20%20%20%20%20%20%20%20%20%20var%20circle_marker_c4257db2c6d941f3a8d61989dfedcee2%20%3D%20L.circleMarker%28%0A%20%20%20%20%20%20%20%20%20%20%20%20%20%20%20%20%5B-23.5677325%2C%20-46.6887957%5D%2C%0A%20%20%20%20%20%20%20%20%20%20%20%20%20%20%20%20%7B%0A%20%20%22bubblingMouseEvents%22%3A%20true%2C%0A%20%20%22color%22%3A%20%22blue%22%2C%0A%20%20%22dashArray%22%3A%20null%2C%0A%20%20%22dashOffset%22%3A%20null%2C%0A%20%20%22fill%22%3A%20true%2C%0A%20%20%22fillColor%22%3A%20%22%233186cc%22%2C%0A%20%20%22fillOpacity%22%3A%200.7%2C%0A%20%20%22fillRule%22%3A%20%22evenodd%22%2C%0A%20%20%22lineCap%22%3A%20%22round%22%2C%0A%20%20%22lineJoin%22%3A%20%22round%22%2C%0A%20%20%22opacity%22%3A%201.0%2C%0A%20%20%22radius%22%3A%205%2C%0A%20%20%22stroke%22%3A%20true%2C%0A%20%20%22weight%22%3A%203%0A%7D%0A%20%20%20%20%20%20%20%20%20%20%20%20%20%20%20%20%29%0A%20%20%20%20%20%20%20%20%20%20%20%20%20%20%20%20.addTo%28map_b5b67bda42714c19b60ce8993be67a72%29%3B%0A%20%20%20%20%20%20%20%20%20%20%20%20%0A%20%20%20%20%0A%20%20%20%20%20%20%20%20%20%20%20%20var%20popup_a8185299fa0f4cf48ec5c6a3b395a156%20%3D%20L.popup%28%7BmaxWidth%3A%20%27100%25%27%0A%20%20%20%20%20%20%20%20%20%20%20%20%0A%20%20%20%20%20%20%20%20%20%20%20%20%7D%29%3B%0A%0A%20%20%20%20%20%20%20%20%20%20%20%20%0A%20%20%20%20%20%20%20%20%20%20%20%20%20%20%20%20var%20html_c931ebea7d7d4b1db91179ded82f1c16%20%3D%20%24%28%60%3Cdiv%20id%3D%22html_c931ebea7d7d4b1db91179ded82f1c16%22%20style%3D%22width%3A%20100.0%25%3B%20height%3A%20100.0%25%3B%22%3E%20%20Alto%20de%20Pinheiros%3C/div%3E%60%29%5B0%5D%3B%0A%20%20%20%20%20%20%20%20%20%20%20%20%20%20%20%20popup_a8185299fa0f4cf48ec5c6a3b395a156.setContent%28html_c931ebea7d7d4b1db91179ded82f1c16%29%3B%0A%20%20%20%20%20%20%20%20%20%20%20%20%0A%0A%20%20%20%20%20%20%20%20%20%20%20%20circle_marker_c4257db2c6d941f3a8d61989dfedcee2.bindPopup%28popup_a8185299fa0f4cf48ec5c6a3b395a156%29%0A%20%20%20%20%20%20%20%20%20%20%20%20%3B%0A%0A%20%20%20%20%20%20%20%20%20%20%20%20%0A%20%20%20%20%20%20%20%20%0A%20%20%20%20%0A%20%20%20%20%20%20%20%20%20%20%20%20var%20circle_marker_293d8dfc69de483eabec6bfb5327a2a4%20%3D%20L.circleMarker%28%0A%20%20%20%20%20%20%20%20%20%20%20%20%20%20%20%20%5B-23.5081861%2C%20-46.626204%5D%2C%0A%20%20%20%20%20%20%20%20%20%20%20%20%20%20%20%20%7B%0A%20%20%22bubblingMouseEvents%22%3A%20true%2C%0A%20%20%22color%22%3A%20%22blue%22%2C%0A%20%20%22dashArray%22%3A%20null%2C%0A%20%20%22dashOffset%22%3A%20null%2C%0A%20%20%22fill%22%3A%20true%2C%0A%20%20%22fillColor%22%3A%20%22%233186cc%22%2C%0A%20%20%22fillOpacity%22%3A%200.7%2C%0A%20%20%22fillRule%22%3A%20%22evenodd%22%2C%0A%20%20%22lineCap%22%3A%20%22round%22%2C%0A%20%20%22lineJoin%22%3A%20%22round%22%2C%0A%20%20%22opacity%22%3A%201.0%2C%0A%20%20%22radius%22%3A%205%2C%0A%20%20%22stroke%22%3A%20true%2C%0A%20%20%22weight%22%3A%203%0A%7D%0A%20%20%20%20%20%20%20%20%20%20%20%20%20%20%20%20%29%0A%20%20%20%20%20%20%20%20%20%20%20%20%20%20%20%20.addTo%28map_b5b67bda42714c19b60ce8993be67a72%29%3B%0A%20%20%20%20%20%20%20%20%20%20%20%20%0A%20%20%20%20%0A%20%20%20%20%20%20%20%20%20%20%20%20var%20popup_e89a3ba9efe5423e98bd39fcb0355681%20%3D%20L.popup%28%7BmaxWidth%3A%20%27100%25%27%0A%20%20%20%20%20%20%20%20%20%20%20%20%0A%20%20%20%20%20%20%20%20%20%20%20%20%7D%29%3B%0A%0A%20%20%20%20%20%20%20%20%20%20%20%20%0A%20%20%20%20%20%20%20%20%20%20%20%20%20%20%20%20var%20html_aca4aef187264adabc0ea9aca4068dae%20%3D%20%24%28%60%3Cdiv%20id%3D%22html_aca4aef187264adabc0ea9aca4068dae%22%20style%3D%22width%3A%20100.0%25%3B%20height%3A%20100.0%25%3B%22%3E%20%20Santana%3C/div%3E%60%29%5B0%5D%3B%0A%20%20%20%20%20%20%20%20%20%20%20%20%20%20%20%20popup_e89a3ba9efe5423e98bd39fcb0355681.setContent%28html_aca4aef187264adabc0ea9aca4068dae%29%3B%0A%20%20%20%20%20%20%20%20%20%20%20%20%0A%0A%20%20%20%20%20%20%20%20%20%20%20%20circle_marker_293d8dfc69de483eabec6bfb5327a2a4.bindPopup%28popup_e89a3ba9efe5423e98bd39fcb0355681%29%0A%20%20%20%20%20%20%20%20%20%20%20%20%3B%0A%0A%20%20%20%20%20%20%20%20%20%20%20%20%0A%20%20%20%20%20%20%20%20%0A%20%20%20%20%0A%20%20%20%20%20%20%20%20%20%20%20%20var%20circle_marker_6c7adee67b43490fa0d31e3c7495f6be%20%3D%20L.circleMarker%28%0A%20%20%20%20%20%20%20%20%20%20%20%20%20%20%20%20%5B-23.551103%2C%20-46.5540061%5D%2C%0A%20%20%20%20%20%20%20%20%20%20%20%20%20%20%20%20%7B%0A%20%20%22bubblingMouseEvents%22%3A%20true%2C%0A%20%20%22color%22%3A%20%22blue%22%2C%0A%20%20%22dashArray%22%3A%20null%2C%0A%20%20%22dashOffset%22%3A%20null%2C%0A%20%20%22fill%22%3A%20true%2C%0A%20%20%22fillColor%22%3A%20%22%233186cc%22%2C%0A%20%20%22fillOpacity%22%3A%200.7%2C%0A%20%20%22fillRule%22%3A%20%22evenodd%22%2C%0A%20%20%22lineCap%22%3A%20%22round%22%2C%0A%20%20%22lineJoin%22%3A%20%22round%22%2C%0A%20%20%22opacity%22%3A%201.0%2C%0A%20%20%22radius%22%3A%205%2C%0A%20%20%22stroke%22%3A%20true%2C%0A%20%20%22weight%22%3A%203%0A%7D%0A%20%20%20%20%20%20%20%20%20%20%20%20%20%20%20%20%29%0A%20%20%20%20%20%20%20%20%20%20%20%20%20%20%20%20.addTo%28map_b5b67bda42714c19b60ce8993be67a72%29%3B%0A%20%20%20%20%20%20%20%20%20%20%20%20%0A%20%20%20%20%0A%20%20%20%20%20%20%20%20%20%20%20%20var%20popup_9b49106b5af447f29f51693a92bffd0b%20%3D%20L.popup%28%7BmaxWidth%3A%20%27100%25%27%0A%20%20%20%20%20%20%20%20%20%20%20%20%0A%20%20%20%20%20%20%20%20%20%20%20%20%7D%29%3B%0A%0A%20%20%20%20%20%20%20%20%20%20%20%20%0A%20%20%20%20%20%20%20%20%20%20%20%20%20%20%20%20var%20html_19a7a405244d42b4898cbbd8108f7ab7%20%3D%20%24%28%60%3Cdiv%20id%3D%22html_19a7a405244d42b4898cbbd8108f7ab7%22%20style%3D%22width%3A%20100.0%25%3B%20height%3A%20100.0%25%3B%22%3E%20Ap%20112%20%20Vl%20Carr%C3%A3o%3C/div%3E%60%29%5B0%5D%3B%0A%20%20%20%20%20%20%20%20%20%20%20%20%20%20%20%20popup_9b49106b5af447f29f51693a92bffd0b.setContent%28html_19a7a405244d42b4898cbbd8108f7ab7%29%3B%0A%20%20%20%20%20%20%20%20%20%20%20%20%0A%0A%20%20%20%20%20%20%20%20%20%20%20%20circle_marker_6c7adee67b43490fa0d31e3c7495f6be.bindPopup%28popup_9b49106b5af447f29f51693a92bffd0b%29%0A%20%20%20%20%20%20%20%20%20%20%20%20%3B%0A%0A%20%20%20%20%20%20%20%20%20%20%20%20%0A%20%20%20%20%20%20%20%20%0A%20%20%20%20%0A%20%20%20%20%20%20%20%20%20%20%20%20var%20circle_marker_350bcd882ea1476d8ee07638ba26c889%20%3D%20L.circleMarker%28%0A%20%20%20%20%20%20%20%20%20%20%20%20%20%20%20%20%5B-23.604773%2C%20-46.4641944%5D%2C%0A%20%20%20%20%20%20%20%20%20%20%20%20%20%20%20%20%7B%0A%20%20%22bubblingMouseEvents%22%3A%20true%2C%0A%20%20%22color%22%3A%20%22blue%22%2C%0A%20%20%22dashArray%22%3A%20null%2C%0A%20%20%22dashOffset%22%3A%20null%2C%0A%20%20%22fill%22%3A%20true%2C%0A%20%20%22fillColor%22%3A%20%22%233186cc%22%2C%0A%20%20%22fillOpacity%22%3A%200.7%2C%0A%20%20%22fillRule%22%3A%20%22evenodd%22%2C%0A%20%20%22lineCap%22%3A%20%22round%22%2C%0A%20%20%22lineJoin%22%3A%20%22round%22%2C%0A%20%20%22opacity%22%3A%201.0%2C%0A%20%20%22radius%22%3A%205%2C%0A%20%20%22stroke%22%3A%20true%2C%0A%20%20%22weight%22%3A%203%0A%7D%0A%20%20%20%20%20%20%20%20%20%20%20%20%20%20%20%20%29%0A%20%20%20%20%20%20%20%20%20%20%20%20%20%20%20%20.addTo%28map_b5b67bda42714c19b60ce8993be67a72%29%3B%0A%20%20%20%20%20%20%20%20%20%20%20%20%0A%20%20%20%20%0A%20%20%20%20%20%20%20%20%20%20%20%20var%20popup_d5495f48f19e44a599a6c3a81e07f403%20%3D%20L.popup%28%7BmaxWidth%3A%20%27100%25%27%0A%20%20%20%20%20%20%20%20%20%20%20%20%0A%20%20%20%20%20%20%20%20%20%20%20%20%7D%29%3B%0A%0A%20%20%20%20%20%20%20%20%20%20%20%20%0A%20%20%20%20%20%20%20%20%20%20%20%20%20%20%20%20var%20html_7b241a80b5414251a82bfa79770ec942%20%3D%20%24%28%60%3Cdiv%20id%3D%22html_7b241a80b5414251a82bfa79770ec942%22%20style%3D%22width%3A%20100.0%25%3B%20height%3A%20100.0%25%3B%22%3E%20%20%3C/div%3E%60%29%5B0%5D%3B%0A%20%20%20%20%20%20%20%20%20%20%20%20%20%20%20%20popup_d5495f48f19e44a599a6c3a81e07f403.setContent%28html_7b241a80b5414251a82bfa79770ec942%29%3B%0A%20%20%20%20%20%20%20%20%20%20%20%20%0A%0A%20%20%20%20%20%20%20%20%20%20%20%20circle_marker_350bcd882ea1476d8ee07638ba26c889.bindPopup%28popup_d5495f48f19e44a599a6c3a81e07f403%29%0A%20%20%20%20%20%20%20%20%20%20%20%20%3B%0A%0A%20%20%20%20%20%20%20%20%20%20%20%20%0A%20%20%20%20%20%20%20%20%0A%3C/script%3E onload=\"this.contentDocument.open();this.contentDocument.write(    decodeURIComponent(this.getAttribute('data-html')));this.contentDocument.close();\" allowfullscreen webkitallowfullscreen mozallowfullscreen></iframe></div></div>"
            ],
            "text/plain": [
              "<folium.folium.Map at 0x7f957bbb3190>"
            ]
          },
          "metadata": {
            "tags": []
          },
          "execution_count": 13
        }
      ]
    },
    {
      "cell_type": "markdown",
      "metadata": {
        "id": "gzSCkU_QxxYs"
      },
      "source": [
        "### Applying kmeans model - finding clusters"
      ]
    },
    {
      "cell_type": "markdown",
      "metadata": {
        "id": "D2XNBKMZmhvf"
      },
      "source": [
        "### K-Means"
      ]
    },
    {
      "cell_type": "code",
      "metadata": {
        "id": "AmP678Z_zAKh"
      },
      "source": [
        "df_f=df"
      ],
      "execution_count": null,
      "outputs": []
    },
    {
      "cell_type": "code",
      "metadata": {
        "id": "8XHH-rjI0zoc"
      },
      "source": [
        "k=6\n",
        "sampa_clust = df_f.drop(['Store_Name','Locality','Postal_Code','Street_Address','Street_Name','Number','Neighborhood'],1)\n",
        "kmeans = KMeans(n_clusters = k,random_state=0).fit(sampa_clust)\n",
        "kmeans.labels_\n",
        "df_f.insert(0, 'ClusterLabels', kmeans.labels_)"
      ],
      "execution_count": null,
      "outputs": []
    },
    {
      "cell_type": "code",
      "metadata": {
        "id": "rmmDS7PvzEhu"
      },
      "source": [
        "df_f.to_excel(\"Cervejarias em Sampa (Matriz Final - última versão - com Clusters).xlsx\")"
      ],
      "execution_count": null,
      "outputs": []
    },
    {
      "cell_type": "code",
      "metadata": {
        "colab": {
          "base_uri": "https://localhost:8080/",
          "height": 877
        },
        "id": "SL6rFXJ4J543",
        "outputId": "ad660976-4a0f-480d-9429-679efeb0a521"
      },
      "source": [
        "df_f"
      ],
      "execution_count": null,
      "outputs": [
        {
          "output_type": "execute_result",
          "data": {
            "text/html": [
              "<div>\n",
              "<style scoped>\n",
              "    .dataframe tbody tr th:only-of-type {\n",
              "        vertical-align: middle;\n",
              "    }\n",
              "\n",
              "    .dataframe tbody tr th {\n",
              "        vertical-align: top;\n",
              "    }\n",
              "\n",
              "    .dataframe thead th {\n",
              "        text-align: right;\n",
              "    }\n",
              "</style>\n",
              "<table border=\"1\" class=\"dataframe\">\n",
              "  <thead>\n",
              "    <tr style=\"text-align: right;\">\n",
              "      <th></th>\n",
              "      <th>ClusterLabels</th>\n",
              "      <th>Store_Name</th>\n",
              "      <th>Locality</th>\n",
              "      <th>Postal_Code</th>\n",
              "      <th>Street_Address</th>\n",
              "      <th>Street_Name</th>\n",
              "      <th>Number</th>\n",
              "      <th>Neighborhood</th>\n",
              "      <th>Num_oc_geral_1</th>\n",
              "      <th>Score_geral_1</th>\n",
              "      <th>Num_oc_geral_2</th>\n",
              "      <th>Score_geral_2</th>\n",
              "      <th>Num_oc_espec_1</th>\n",
              "      <th>Score_espec_1</th>\n",
              "      <th>latitude</th>\n",
              "      <th>longitude</th>\n",
              "    </tr>\n",
              "  </thead>\n",
              "  <tbody>\n",
              "    <tr>\n",
              "      <th>0</th>\n",
              "      <td>2</td>\n",
              "      <td>The Old Beer Cervejaria Ltda</td>\n",
              "      <td>São Paulo</td>\n",
              "      <td>04583-020</td>\n",
              "      <td>Rua Baltazar Fernandes, 54,  Vl Gertrudes</td>\n",
              "      <td>Rua Baltazar Fernandes</td>\n",
              "      <td>54</td>\n",
              "      <td>Vl Gertrudes</td>\n",
              "      <td>10</td>\n",
              "      <td>0.022972</td>\n",
              "      <td>10</td>\n",
              "      <td>0.023334</td>\n",
              "      <td>10</td>\n",
              "      <td>0.022972</td>\n",
              "      <td>-23.619878</td>\n",
              "      <td>-46.693677</td>\n",
              "    </tr>\n",
              "    <tr>\n",
              "      <th>1</th>\n",
              "      <td>2</td>\n",
              "      <td>Choperia Nova Palace Ltda Me</td>\n",
              "      <td>São Paulo</td>\n",
              "      <td>04142-082</td>\n",
              "      <td>Avenida Bosque Saúde, 2198,  Bosque da Saúde</td>\n",
              "      <td>Avenida Bosque Saúde</td>\n",
              "      <td>2198</td>\n",
              "      <td>Bosque da Saúde</td>\n",
              "      <td>11</td>\n",
              "      <td>0.002410</td>\n",
              "      <td>9</td>\n",
              "      <td>0.003012</td>\n",
              "      <td>9</td>\n",
              "      <td>0.003012</td>\n",
              "      <td>-23.612507</td>\n",
              "      <td>-46.617928</td>\n",
              "    </tr>\n",
              "    <tr>\n",
              "      <th>2</th>\n",
              "      <td>5</td>\n",
              "      <td>Cervejaria Der Braumeister Paulista Ltda</td>\n",
              "      <td>São Paulo</td>\n",
              "      <td>04849-529</td>\n",
              "      <td>Rua Treze Maio, 1947, Lj 423  Bela Vista</td>\n",
              "      <td>Rua Treze Maio</td>\n",
              "      <td>1947</td>\n",
              "      <td>Lj 423  Bela Vista</td>\n",
              "      <td>2</td>\n",
              "      <td>0.061224</td>\n",
              "      <td>2</td>\n",
              "      <td>0.061224</td>\n",
              "      <td>2</td>\n",
              "      <td>0.061224</td>\n",
              "      <td>-23.570553</td>\n",
              "      <td>-46.643525</td>\n",
              "    </tr>\n",
              "    <tr>\n",
              "      <th>3</th>\n",
              "      <td>1</td>\n",
              "      <td>Lanchonete Choperia Mallorca Ltda Epp</td>\n",
              "      <td>São Paulo</td>\n",
              "      <td>01037-001</td>\n",
              "      <td>Rua Conselheiro Crispiniano, 65,  Sé</td>\n",
              "      <td>Rua Conselheiro Crispiniano</td>\n",
              "      <td>65</td>\n",
              "      <td>Sé</td>\n",
              "      <td>5</td>\n",
              "      <td>0.012274</td>\n",
              "      <td>5</td>\n",
              "      <td>0.009149</td>\n",
              "      <td>5</td>\n",
              "      <td>0.009149</td>\n",
              "      <td>-23.546337</td>\n",
              "      <td>-46.640149</td>\n",
              "    </tr>\n",
              "    <tr>\n",
              "      <th>4</th>\n",
              "      <td>0</td>\n",
              "      <td>Plínio Bar e Choperia Ltda</td>\n",
              "      <td>São Paulo</td>\n",
              "      <td>02512-000</td>\n",
              "      <td>Rua Bernardino Fanganiello, 282, Ap 102  Casa ...</td>\n",
              "      <td>Rua Bernardino Fanganiello</td>\n",
              "      <td>282</td>\n",
              "      <td>Ap 102  Casa Verde Baixa</td>\n",
              "      <td>13</td>\n",
              "      <td>0.003090</td>\n",
              "      <td>13</td>\n",
              "      <td>0.003090</td>\n",
              "      <td>13</td>\n",
              "      <td>0.003090</td>\n",
              "      <td>-23.512952</td>\n",
              "      <td>-46.658629</td>\n",
              "    </tr>\n",
              "    <tr>\n",
              "      <th>...</th>\n",
              "      <td>...</td>\n",
              "      <td>...</td>\n",
              "      <td>...</td>\n",
              "      <td>...</td>\n",
              "      <td>...</td>\n",
              "      <td>...</td>\n",
              "      <td>...</td>\n",
              "      <td>...</td>\n",
              "      <td>...</td>\n",
              "      <td>...</td>\n",
              "      <td>...</td>\n",
              "      <td>...</td>\n",
              "      <td>...</td>\n",
              "      <td>...</td>\n",
              "      <td>...</td>\n",
              "      <td>...</td>\n",
              "    </tr>\n",
              "    <tr>\n",
              "      <th>86</th>\n",
              "      <td>4</td>\n",
              "      <td>Nevada Chopperia Lancheteria L</td>\n",
              "      <td>São Paulo</td>\n",
              "      <td>02341-001</td>\n",
              "      <td>Avenida Nova Cantareira, 4055,  Tucuruvi</td>\n",
              "      <td>Avenida Nova Cantareira</td>\n",
              "      <td>4055</td>\n",
              "      <td>Tucuruvi</td>\n",
              "      <td>14</td>\n",
              "      <td>0.002024</td>\n",
              "      <td>14</td>\n",
              "      <td>0.002079</td>\n",
              "      <td>14</td>\n",
              "      <td>0.002024</td>\n",
              "      <td>-23.465241</td>\n",
              "      <td>-46.616764</td>\n",
              "    </tr>\n",
              "    <tr>\n",
              "      <th>87</th>\n",
              "      <td>3</td>\n",
              "      <td>Chopps Frios Donn Ltda</td>\n",
              "      <td>São Paulo</td>\n",
              "      <td>05419-000</td>\n",
              "      <td>Avenida Pedroso Morais, 221,  Alto de Pinheiros</td>\n",
              "      <td>Avenida Pedroso Morais</td>\n",
              "      <td>221</td>\n",
              "      <td>Alto de Pinheiros</td>\n",
              "      <td>9</td>\n",
              "      <td>0.003289</td>\n",
              "      <td>9</td>\n",
              "      <td>0.003289</td>\n",
              "      <td>9</td>\n",
              "      <td>0.003289</td>\n",
              "      <td>-23.567733</td>\n",
              "      <td>-46.688796</td>\n",
              "    </tr>\n",
              "    <tr>\n",
              "      <th>88</th>\n",
              "      <td>4</td>\n",
              "      <td>General Galinha Choperia e Res</td>\n",
              "      <td>São Paulo</td>\n",
              "      <td>02033-010</td>\n",
              "      <td>Avenida General Ataliba Leonel, 2493,  Santana</td>\n",
              "      <td>Avenida General Ataliba Leonel</td>\n",
              "      <td>2493</td>\n",
              "      <td>Santana</td>\n",
              "      <td>14</td>\n",
              "      <td>0.010201</td>\n",
              "      <td>14</td>\n",
              "      <td>0.010191</td>\n",
              "      <td>14</td>\n",
              "      <td>0.010349</td>\n",
              "      <td>-23.508186</td>\n",
              "      <td>-46.626204</td>\n",
              "    </tr>\n",
              "    <tr>\n",
              "      <th>89</th>\n",
              "      <td>2</td>\n",
              "      <td>Brasimax Com Equip Sup Esc Se</td>\n",
              "      <td>São Paulo</td>\n",
              "      <td>03401-001</td>\n",
              "      <td>Rua Antônio Barros, 2391, Ap 112  Vl Carrão</td>\n",
              "      <td>Rua Antônio Barros</td>\n",
              "      <td>2391</td>\n",
              "      <td>Ap 112  Vl Carrão</td>\n",
              "      <td>10</td>\n",
              "      <td>0.003175</td>\n",
              "      <td>10</td>\n",
              "      <td>0.003130</td>\n",
              "      <td>10</td>\n",
              "      <td>0.003130</td>\n",
              "      <td>-23.551103</td>\n",
              "      <td>-46.554006</td>\n",
              "    </tr>\n",
              "    <tr>\n",
              "      <th>90</th>\n",
              "      <td>4</td>\n",
              "      <td>Cervejaria Cristal</td>\n",
              "      <td>São Paulo</td>\n",
              "      <td>08340-140</td>\n",
              "      <td>Rua Forte Rio Branco, 455,</td>\n",
              "      <td>Rua Forte Rio Branco</td>\n",
              "      <td>455</td>\n",
              "      <td></td>\n",
              "      <td>14</td>\n",
              "      <td>0.013220</td>\n",
              "      <td>14</td>\n",
              "      <td>0.013220</td>\n",
              "      <td>14</td>\n",
              "      <td>0.013220</td>\n",
              "      <td>-23.604773</td>\n",
              "      <td>-46.464194</td>\n",
              "    </tr>\n",
              "  </tbody>\n",
              "</table>\n",
              "<p>91 rows × 16 columns</p>\n",
              "</div>"
            ],
            "text/plain": [
              "    ClusterLabels  ...  longitude\n",
              "0               2  ... -46.693677\n",
              "1               2  ... -46.617928\n",
              "2               5  ... -46.643525\n",
              "3               1  ... -46.640149\n",
              "4               0  ... -46.658629\n",
              "..            ...  ...        ...\n",
              "86              4  ... -46.616764\n",
              "87              3  ... -46.688796\n",
              "88              4  ... -46.626204\n",
              "89              2  ... -46.554006\n",
              "90              4  ... -46.464194\n",
              "\n",
              "[91 rows x 16 columns]"
            ]
          },
          "metadata": {
            "tags": []
          },
          "execution_count": 16
        }
      ]
    },
    {
      "cell_type": "markdown",
      "metadata": {
        "id": "weY_Pp3pHNdE"
      },
      "source": [
        "### Clustering statistics"
      ]
    },
    {
      "cell_type": "markdown",
      "metadata": {
        "id": "suW159VVqoaD"
      },
      "source": [
        "#### Scores Topic Word"
      ]
    },
    {
      "cell_type": "code",
      "metadata": {
        "id": "PmoKq9p7G-Rc"
      },
      "source": [
        "df_clt_scores = df_f.pivot_table(index='ClusterLabels', values=['Score_geral_1', 'Score_geral_2', 'Score_espec_1'] , aggfunc='mean')"
      ],
      "execution_count": null,
      "outputs": []
    },
    {
      "cell_type": "code",
      "metadata": {
        "colab": {
          "base_uri": "https://localhost:8080/",
          "height": 283
        },
        "id": "s4SQIZJ5p0z6",
        "outputId": "82c2cc01-655e-4a5a-e683-5e7ac133f5be"
      },
      "source": [
        "df_clt_scores.plot.barh()"
      ],
      "execution_count": null,
      "outputs": [
        {
          "output_type": "execute_result",
          "data": {
            "text/plain": [
              "<matplotlib.axes._subplots.AxesSubplot at 0x7f956da1ca90>"
            ]
          },
          "metadata": {
            "tags": []
          },
          "execution_count": 22
        },
        {
          "output_type": "display_data",
          "data": {
            "image/png": "[encoded data removed]",
            "text/plain": [
              "<Figure size 432x288 with 1 Axes>"
            ]
          },
          "metadata": {
            "tags": [],
            "needs_background": "light"
          }
        }
      ]
    },
    {
      "cell_type": "code",
      "metadata": {
        "colab": {
          "base_uri": "https://localhost:8080/",
          "height": 265
        },
        "id": "cHCp3y_qqYSI",
        "outputId": "f4c22e2b-d21f-4730-fd4a-13eb5f5f6c9b"
      },
      "source": [
        "df_clt_scores"
      ],
      "execution_count": null,
      "outputs": [
        {
          "output_type": "execute_result",
          "data": {
            "text/html": [
              "<div>\n",
              "<style scoped>\n",
              "    .dataframe tbody tr th:only-of-type {\n",
              "        vertical-align: middle;\n",
              "    }\n",
              "\n",
              "    .dataframe tbody tr th {\n",
              "        vertical-align: top;\n",
              "    }\n",
              "\n",
              "    .dataframe thead th {\n",
              "        text-align: right;\n",
              "    }\n",
              "</style>\n",
              "<table border=\"1\" class=\"dataframe\">\n",
              "  <thead>\n",
              "    <tr style=\"text-align: right;\">\n",
              "      <th></th>\n",
              "      <th>Score_espec_1</th>\n",
              "      <th>Score_geral_1</th>\n",
              "      <th>Score_geral_2</th>\n",
              "    </tr>\n",
              "    <tr>\n",
              "      <th>ClusterLabels</th>\n",
              "      <th></th>\n",
              "      <th></th>\n",
              "      <th></th>\n",
              "    </tr>\n",
              "  </thead>\n",
              "  <tbody>\n",
              "    <tr>\n",
              "      <th>0</th>\n",
              "      <td>0.006720</td>\n",
              "      <td>0.006510</td>\n",
              "      <td>0.006668</td>\n",
              "    </tr>\n",
              "    <tr>\n",
              "      <th>1</th>\n",
              "      <td>0.007798</td>\n",
              "      <td>0.009394</td>\n",
              "      <td>0.010346</td>\n",
              "    </tr>\n",
              "    <tr>\n",
              "      <th>2</th>\n",
              "      <td>0.009841</td>\n",
              "      <td>0.009971</td>\n",
              "      <td>0.009859</td>\n",
              "    </tr>\n",
              "    <tr>\n",
              "      <th>3</th>\n",
              "      <td>0.006819</td>\n",
              "      <td>0.005506</td>\n",
              "      <td>0.007131</td>\n",
              "    </tr>\n",
              "    <tr>\n",
              "      <th>4</th>\n",
              "      <td>0.006358</td>\n",
              "      <td>0.006259</td>\n",
              "      <td>0.006244</td>\n",
              "    </tr>\n",
              "    <tr>\n",
              "      <th>5</th>\n",
              "      <td>0.041411</td>\n",
              "      <td>0.041411</td>\n",
              "      <td>0.035786</td>\n",
              "    </tr>\n",
              "  </tbody>\n",
              "</table>\n",
              "</div>"
            ],
            "text/plain": [
              "               Score_espec_1  Score_geral_1  Score_geral_2\n",
              "ClusterLabels                                             \n",
              "0                   0.006720       0.006510       0.006668\n",
              "1                   0.007798       0.009394       0.010346\n",
              "2                   0.009841       0.009971       0.009859\n",
              "3                   0.006819       0.005506       0.007131\n",
              "4                   0.006358       0.006259       0.006244\n",
              "5                   0.041411       0.041411       0.035786"
            ]
          },
          "metadata": {
            "tags": []
          },
          "execution_count": 23
        }
      ]
    },
    {
      "cell_type": "markdown",
      "metadata": {
        "id": "Rz4Lsgg1qvK5"
      },
      "source": [
        "#### Number of Quotes"
      ]
    },
    {
      "cell_type": "code",
      "metadata": {
        "id": "vFrPjd9AqzHP"
      },
      "source": [
        "df_clt_numq = df_f.pivot_table(index='ClusterLabels', values=['Num_oc_geral_1', 'Num_oc_geral_2', 'Num_oc_espec_1'] , aggfunc='mean')"
      ],
      "execution_count": null,
      "outputs": []
    },
    {
      "cell_type": "code",
      "metadata": {
        "colab": {
          "base_uri": "https://localhost:8080/",
          "height": 283
        },
        "id": "8P8c0xqfrKjR",
        "outputId": "29eb4c2e-3f10-4443-e41d-ad6d114d946d"
      },
      "source": [
        "df_clt_numq.plot.barh()"
      ],
      "execution_count": null,
      "outputs": [
        {
          "output_type": "execute_result",
          "data": {
            "text/plain": [
              "<matplotlib.axes._subplots.AxesSubplot at 0x7f956c183290>"
            ]
          },
          "metadata": {
            "tags": []
          },
          "execution_count": 26
        },
        {
          "output_type": "display_data",
          "data": {
            "image/png": "[encoded data removed]",
            "text/plain": [
              "<Figure size 432x288 with 1 Axes>"
            ]
          },
          "metadata": {
            "tags": [],
            "needs_background": "light"
          }
        }
      ]
    },
    {
      "cell_type": "code",
      "metadata": {
        "colab": {
          "base_uri": "https://localhost:8080/",
          "height": 265
        },
        "id": "FvLqQDyArQxE",
        "outputId": "45e09011-45c1-425b-8cec-f94fd74e5202"
      },
      "source": [
        "df_clt_numq"
      ],
      "execution_count": null,
      "outputs": [
        {
          "output_type": "execute_result",
          "data": {
            "text/html": [
              "<div>\n",
              "<style scoped>\n",
              "    .dataframe tbody tr th:only-of-type {\n",
              "        vertical-align: middle;\n",
              "    }\n",
              "\n",
              "    .dataframe tbody tr th {\n",
              "        vertical-align: top;\n",
              "    }\n",
              "\n",
              "    .dataframe thead th {\n",
              "        text-align: right;\n",
              "    }\n",
              "</style>\n",
              "<table border=\"1\" class=\"dataframe\">\n",
              "  <thead>\n",
              "    <tr style=\"text-align: right;\">\n",
              "      <th></th>\n",
              "      <th>Num_oc_espec_1</th>\n",
              "      <th>Num_oc_geral_1</th>\n",
              "      <th>Num_oc_geral_2</th>\n",
              "    </tr>\n",
              "    <tr>\n",
              "      <th>ClusterLabels</th>\n",
              "      <th></th>\n",
              "      <th></th>\n",
              "      <th></th>\n",
              "    </tr>\n",
              "  </thead>\n",
              "  <tbody>\n",
              "    <tr>\n",
              "      <th>0</th>\n",
              "      <td>12.578947</td>\n",
              "      <td>12.789474</td>\n",
              "      <td>12.736842</td>\n",
              "    </tr>\n",
              "    <tr>\n",
              "      <th>1</th>\n",
              "      <td>6.000000</td>\n",
              "      <td>6.250000</td>\n",
              "      <td>5.666667</td>\n",
              "    </tr>\n",
              "    <tr>\n",
              "      <th>2</th>\n",
              "      <td>10.076923</td>\n",
              "      <td>10.307692</td>\n",
              "      <td>10.076923</td>\n",
              "    </tr>\n",
              "    <tr>\n",
              "      <th>3</th>\n",
              "      <td>8.384615</td>\n",
              "      <td>8.615385</td>\n",
              "      <td>8.230769</td>\n",
              "    </tr>\n",
              "    <tr>\n",
              "      <th>4</th>\n",
              "      <td>13.966667</td>\n",
              "      <td>14.066667</td>\n",
              "      <td>13.966667</td>\n",
              "    </tr>\n",
              "    <tr>\n",
              "      <th>5</th>\n",
              "      <td>3.250000</td>\n",
              "      <td>3.250000</td>\n",
              "      <td>3.500000</td>\n",
              "    </tr>\n",
              "  </tbody>\n",
              "</table>\n",
              "</div>"
            ],
            "text/plain": [
              "               Num_oc_espec_1  Num_oc_geral_1  Num_oc_geral_2\n",
              "ClusterLabels                                                \n",
              "0                   12.578947       12.789474       12.736842\n",
              "1                    6.000000        6.250000        5.666667\n",
              "2                   10.076923       10.307692       10.076923\n",
              "3                    8.384615        8.615385        8.230769\n",
              "4                   13.966667       14.066667       13.966667\n",
              "5                    3.250000        3.250000        3.500000"
            ]
          },
          "metadata": {
            "tags": []
          },
          "execution_count": 27
        }
      ]
    },
    {
      "cell_type": "markdown",
      "metadata": {
        "id": "QX4wJkAPrfwj"
      },
      "source": [
        "#### Geolocation analysis of clusters"
      ]
    },
    {
      "cell_type": "code",
      "metadata": {
        "id": "kY8vX5PArn5W"
      },
      "source": [
        "df_clt_geol_m = df_f.pivot_table(index='ClusterLabels', values=['latitude', 'longitude'] , aggfunc=['mean'])"
      ],
      "execution_count": null,
      "outputs": []
    },
    {
      "cell_type": "code",
      "metadata": {
        "colab": {
          "base_uri": "https://localhost:8080/",
          "height": 283
        },
        "id": "4Uwokox4sEWX",
        "outputId": "9b899ca0-9fc1-4208-cc22-24dbcab4299b"
      },
      "source": [
        "df_clt_geol_m.plot.barh()"
      ],
      "execution_count": null,
      "outputs": [
        {
          "output_type": "execute_result",
          "data": {
            "text/plain": [
              "<matplotlib.axes._subplots.AxesSubplot at 0x7f956bfb7510>"
            ]
          },
          "metadata": {
            "tags": []
          },
          "execution_count": 37
        },
        {
          "output_type": "display_data",
          "data": {
            "image/png": "[encoded data removed]",
            "text/plain": [
              "<Figure size 432x288 with 1 Axes>"
            ]
          },
          "metadata": {
            "tags": [],
            "needs_background": "light"
          }
        }
      ]
    },
    {
      "cell_type": "code",
      "metadata": {
        "id": "z8kIc_M6tCxV"
      },
      "source": [
        "df_clt_geol_s = df_f.pivot_table(index='ClusterLabels', values=['latitude', 'longitude'] , aggfunc=['std'])"
      ],
      "execution_count": null,
      "outputs": []
    },
    {
      "cell_type": "code",
      "metadata": {
        "colab": {
          "base_uri": "https://localhost:8080/",
          "height": 283
        },
        "id": "n7oRz0y_tGkW",
        "outputId": "f7de2d1d-db06-49a9-9d31-87ca5bce30e6"
      },
      "source": [
        "df_clt_geol_s.plot.barh()"
      ],
      "execution_count": null,
      "outputs": [
        {
          "output_type": "execute_result",
          "data": {
            "text/plain": [
              "<matplotlib.axes._subplots.AxesSubplot at 0x7f956be307d0>"
            ]
          },
          "metadata": {
            "tags": []
          },
          "execution_count": 39
        },
        {
          "output_type": "display_data",
          "data": {
            "image/png": "[encoded data removed]",
            "text/plain": [
              "<Figure size 432x288 with 1 Axes>"
            ]
          },
          "metadata": {
            "tags": [],
            "needs_background": "light"
          }
        }
      ]
    },
    {
      "cell_type": "code",
      "metadata": {
        "colab": {
          "base_uri": "https://localhost:8080/",
          "height": 296
        },
        "id": "pYbkbqyysIDy",
        "outputId": "0543df32-e978-4759-b22a-ec61adb6adb7"
      },
      "source": [
        "df_clt_geol_m"
      ],
      "execution_count": null,
      "outputs": [
        {
          "output_type": "execute_result",
          "data": {
            "text/html": [
              "<div>\n",
              "<style scoped>\n",
              "    .dataframe tbody tr th:only-of-type {\n",
              "        vertical-align: middle;\n",
              "    }\n",
              "\n",
              "    .dataframe tbody tr th {\n",
              "        vertical-align: top;\n",
              "    }\n",
              "\n",
              "    .dataframe thead tr th {\n",
              "        text-align: left;\n",
              "    }\n",
              "\n",
              "    .dataframe thead tr:last-of-type th {\n",
              "        text-align: right;\n",
              "    }\n",
              "</style>\n",
              "<table border=\"1\" class=\"dataframe\">\n",
              "  <thead>\n",
              "    <tr>\n",
              "      <th></th>\n",
              "      <th colspan=\"2\" halign=\"left\">mean</th>\n",
              "    </tr>\n",
              "    <tr>\n",
              "      <th></th>\n",
              "      <th>latitude</th>\n",
              "      <th>longitude</th>\n",
              "    </tr>\n",
              "    <tr>\n",
              "      <th>ClusterLabels</th>\n",
              "      <th></th>\n",
              "      <th></th>\n",
              "    </tr>\n",
              "  </thead>\n",
              "  <tbody>\n",
              "    <tr>\n",
              "      <th>0</th>\n",
              "      <td>-23.547307</td>\n",
              "      <td>-46.633334</td>\n",
              "    </tr>\n",
              "    <tr>\n",
              "      <th>1</th>\n",
              "      <td>-23.569215</td>\n",
              "      <td>-46.613637</td>\n",
              "    </tr>\n",
              "    <tr>\n",
              "      <th>2</th>\n",
              "      <td>-23.580482</td>\n",
              "      <td>-46.632538</td>\n",
              "    </tr>\n",
              "    <tr>\n",
              "      <th>3</th>\n",
              "      <td>-23.553793</td>\n",
              "      <td>-46.652762</td>\n",
              "    </tr>\n",
              "    <tr>\n",
              "      <th>4</th>\n",
              "      <td>-23.511555</td>\n",
              "      <td>-46.634269</td>\n",
              "    </tr>\n",
              "    <tr>\n",
              "      <th>5</th>\n",
              "      <td>-23.566199</td>\n",
              "      <td>-46.620958</td>\n",
              "    </tr>\n",
              "  </tbody>\n",
              "</table>\n",
              "</div>"
            ],
            "text/plain": [
              "                    mean           \n",
              "                latitude  longitude\n",
              "ClusterLabels                      \n",
              "0             -23.547307 -46.633334\n",
              "1             -23.569215 -46.613637\n",
              "2             -23.580482 -46.632538\n",
              "3             -23.553793 -46.652762\n",
              "4             -23.511555 -46.634269\n",
              "5             -23.566199 -46.620958"
            ]
          },
          "metadata": {
            "tags": []
          },
          "execution_count": 40
        }
      ]
    },
    {
      "cell_type": "code",
      "metadata": {
        "colab": {
          "base_uri": "https://localhost:8080/",
          "height": 296
        },
        "id": "Nf7ejBT4tVVm",
        "outputId": "eedcf6a8-61df-47da-8fd1-0a263361461d"
      },
      "source": [
        "df_clt_geol_s"
      ],
      "execution_count": null,
      "outputs": [
        {
          "output_type": "execute_result",
          "data": {
            "text/html": [
              "<div>\n",
              "<style scoped>\n",
              "    .dataframe tbody tr th:only-of-type {\n",
              "        vertical-align: middle;\n",
              "    }\n",
              "\n",
              "    .dataframe tbody tr th {\n",
              "        vertical-align: top;\n",
              "    }\n",
              "\n",
              "    .dataframe thead tr th {\n",
              "        text-align: left;\n",
              "    }\n",
              "\n",
              "    .dataframe thead tr:last-of-type th {\n",
              "        text-align: right;\n",
              "    }\n",
              "</style>\n",
              "<table border=\"1\" class=\"dataframe\">\n",
              "  <thead>\n",
              "    <tr>\n",
              "      <th></th>\n",
              "      <th colspan=\"2\" halign=\"left\">std</th>\n",
              "    </tr>\n",
              "    <tr>\n",
              "      <th></th>\n",
              "      <th>latitude</th>\n",
              "      <th>longitude</th>\n",
              "    </tr>\n",
              "    <tr>\n",
              "      <th>ClusterLabels</th>\n",
              "      <th></th>\n",
              "      <th></th>\n",
              "    </tr>\n",
              "  </thead>\n",
              "  <tbody>\n",
              "    <tr>\n",
              "      <th>0</th>\n",
              "      <td>0.029983</td>\n",
              "      <td>0.048305</td>\n",
              "    </tr>\n",
              "    <tr>\n",
              "      <th>1</th>\n",
              "      <td>0.058379</td>\n",
              "      <td>0.075136</td>\n",
              "    </tr>\n",
              "    <tr>\n",
              "      <th>2</th>\n",
              "      <td>0.034780</td>\n",
              "      <td>0.054221</td>\n",
              "    </tr>\n",
              "    <tr>\n",
              "      <th>3</th>\n",
              "      <td>0.031247</td>\n",
              "      <td>0.053588</td>\n",
              "    </tr>\n",
              "    <tr>\n",
              "      <th>4</th>\n",
              "      <td>0.275316</td>\n",
              "      <td>0.063331</td>\n",
              "    </tr>\n",
              "    <tr>\n",
              "      <th>5</th>\n",
              "      <td>0.046191</td>\n",
              "      <td>0.023322</td>\n",
              "    </tr>\n",
              "  </tbody>\n",
              "</table>\n",
              "</div>"
            ],
            "text/plain": [
              "                    std          \n",
              "               latitude longitude\n",
              "ClusterLabels                    \n",
              "0              0.029983  0.048305\n",
              "1              0.058379  0.075136\n",
              "2              0.034780  0.054221\n",
              "3              0.031247  0.053588\n",
              "4              0.275316  0.063331\n",
              "5              0.046191  0.023322"
            ]
          },
          "metadata": {
            "tags": []
          },
          "execution_count": 41
        }
      ]
    },
    {
      "cell_type": "markdown",
      "metadata": {
        "id": "ieWBahUQmbAR"
      },
      "source": [
        "### Cluster Mapping"
      ]
    },
    {
      "cell_type": "code",
      "metadata": {
        "id": "0uq2ITSOzqM_"
      },
      "source": [
        "# create map\n",
        "map_clusters = folium.Map(location=[-23.562477,-46.630399],zoom_start=11)\n",
        "\n",
        "# set color scheme for the clusters\n",
        "x = np.arange(k)\n",
        "ys = [i + x + (i*x)**2 for i in range(k)]\n",
        "colors_array = cm.rainbow(np.linspace(0, 1, len(ys)))\n",
        "rainbow = [colors.rgb2hex(i) for i in colors_array]\n",
        "\n",
        "# add markers to the map\n",
        "markers_colors = []\n",
        "for lat, lon, neighbourhood, cluster in zip(df_f['latitude'], df_f['longitude'], df_f['Neighborhood'], df_f['ClusterLabels']):\n",
        "    label = folium.Popup(' Cluster ' + str(cluster), parse_html=True)\n",
        "    folium.CircleMarker(\n",
        "        [lat, lon],\n",
        "        radius=5,\n",
        "        popup=label,\n",
        "        color=rainbow[cluster-1],\n",
        "        fill=True,\n",
        "        fill_color=rainbow[cluster-1],\n",
        "        fill_opacity=0.7).add_to(map_clusters)\n",
        "\n"
      ],
      "execution_count": null,
      "outputs": []
    },
    {
      "cell_type": "code",
      "metadata": {
        "colab": {
          "base_uri": "https://localhost:8080/",
          "height": 968
        },
        "id": "MdUmJ8Iy1C3f",
        "outputId": "5d889f2b-6b3c-4e4d-a7b5-127c2de3e635"
      },
      "source": [
        "map_clusters"
      ],
      "execution_count": null,
      "outputs": [
        {
          "output_type": "execute_result",
          "data": {
            "text/html": [
              "<div style=\"width:100%;\"><div style=\"position:relative;width:100%;height:0;padding-bottom:60%;\"><span style=\"color:#565656\">Make this Notebook Trusted to load map: File -> Trust Notebook</span><iframe src=\"about:blank\" style=\"position:absolute;width:100%;height:100%;left:0;top:0;border:none !important;\" data-html=%3C%21DOCTYPE%20html%3E%0A%3Chead%3E%20%20%20%20%0A%20%20%20%20%3Cmeta%20http-equiv%3D%22content-type%22%20content%3D%22text/html%3B%20charset%3DUTF-8%22%20/%3E%0A%20%20%20%20%3Cscript%3EL_PREFER_CANVAS%3Dfalse%3B%20L_NO_TOUCH%3Dfalse%3B%20L_DISABLE_3D%3Dfalse%3B%3C/script%3E%0A%20%20%20%20%3Cscript%20src%3D%22https%3A//cdn.jsdelivr.net/npm/leaflet%401.4.0/dist/leaflet.js%22%3E%3C/script%3E%0A%20%20%20%20%3Cscript%20src%3D%22https%3A//code.jquery.com/jquery-1.12.4.min.js%22%3E%3C/script%3E%0A%20%20%20%20%3Cscript%20src%3D%22https%3A//maxcdn.bootstrapcdn.com/bootstrap/3.2.0/js/bootstrap.min.js%22%3E%3C/script%3E%0A%20%20%20%20%3Cscript%20src%3D%22https%3A//cdnjs.cloudflare.com/ajax/libs/Leaflet.awesome-markers/2.0.2/leaflet.awesome-markers.js%22%3E%3C/script%3E%0A%20%20%20%20%3Clink%20rel%3D%22stylesheet%22%20href%3D%22https%3A//cdn.jsdelivr.net/npm/leaflet%401.4.0/dist/leaflet.css%22/%3E%0A%20%20%20%20%3Clink%20rel%3D%22stylesheet%22%20href%3D%22https%3A//maxcdn.bootstrapcdn.com/bootstrap/3.2.0/css/bootstrap.min.css%22/%3E%0A%20%20%20%20%3Clink%20rel%3D%22stylesheet%22%20href%3D%22https%3A//maxcdn.bootstrapcdn.com/bootstrap/3.2.0/css/bootstrap-theme.min.css%22/%3E%0A%20%20%20%20%3Clink%20rel%3D%22stylesheet%22%20href%3D%22https%3A//maxcdn.bootstrapcdn.com/font-awesome/4.6.3/css/font-awesome.min.css%22/%3E%0A%20%20%20%20%3Clink%20rel%3D%22stylesheet%22%20href%3D%22https%3A//cdnjs.cloudflare.com/ajax/libs/Leaflet.awesome-markers/2.0.2/leaflet.awesome-markers.css%22/%3E%0A%20%20%20%20%3Clink%20rel%3D%22stylesheet%22%20href%3D%22https%3A//rawcdn.githack.com/python-visualization/folium/master/folium/templates/leaflet.awesome.rotate.css%22/%3E%0A%20%20%20%20%3Cstyle%3Ehtml%2C%20body%20%7Bwidth%3A%20100%25%3Bheight%3A%20100%25%3Bmargin%3A%200%3Bpadding%3A%200%3B%7D%3C/style%3E%0A%20%20%20%20%3Cstyle%3E%23map%20%7Bposition%3Aabsolute%3Btop%3A0%3Bbottom%3A0%3Bright%3A0%3Bleft%3A0%3B%7D%3C/style%3E%0A%20%20%20%20%0A%20%20%20%20%3Cmeta%20name%3D%22viewport%22%20content%3D%22width%3Ddevice-width%2C%0A%20%20%20%20%20%20%20%20initial-scale%3D1.0%2C%20maximum-scale%3D1.0%2C%20user-scalable%3Dno%22%20/%3E%0A%20%20%20%20%3Cstyle%3E%23map_60c342cb0efd42cca2d79889e0aeb8c8%20%7B%0A%20%20%20%20%20%20%20%20position%3A%20relative%3B%0A%20%20%20%20%20%20%20%20width%3A%20100.0%25%3B%0A%20%20%20%20%20%20%20%20height%3A%20100.0%25%3B%0A%20%20%20%20%20%20%20%20left%3A%200.0%25%3B%0A%20%20%20%20%20%20%20%20top%3A%200.0%25%3B%0A%20%20%20%20%20%20%20%20%7D%0A%20%20%20%20%3C/style%3E%0A%3C/head%3E%0A%3Cbody%3E%20%20%20%20%0A%20%20%20%20%0A%20%20%20%20%3Cdiv%20class%3D%22folium-map%22%20id%3D%22map_60c342cb0efd42cca2d79889e0aeb8c8%22%20%3E%3C/div%3E%0A%3C/body%3E%0A%3Cscript%3E%20%20%20%20%0A%20%20%20%20%0A%20%20%20%20%0A%20%20%20%20%20%20%20%20var%20bounds%20%3D%20null%3B%0A%20%20%20%20%0A%0A%20%20%20%20var%20map_60c342cb0efd42cca2d79889e0aeb8c8%20%3D%20L.map%28%0A%20%20%20%20%20%20%20%20%27map_60c342cb0efd42cca2d79889e0aeb8c8%27%2C%20%7B%0A%20%20%20%20%20%20%20%20center%3A%20%5B-23.562477%2C%20-46.630399%5D%2C%0A%20%20%20%20%20%20%20%20zoom%3A%2011%2C%0A%20%20%20%20%20%20%20%20maxBounds%3A%20bounds%2C%0A%20%20%20%20%20%20%20%20layers%3A%20%5B%5D%2C%0A%20%20%20%20%20%20%20%20worldCopyJump%3A%20false%2C%0A%20%20%20%20%20%20%20%20crs%3A%20L.CRS.EPSG3857%2C%0A%20%20%20%20%20%20%20%20zoomControl%3A%20true%2C%0A%20%20%20%20%20%20%20%20%7D%29%3B%0A%0A%0A%20%20%20%20%0A%20%20%20%20var%20tile_layer_1eb53af125db4d52a85b5853e912d203%20%3D%20L.tileLayer%28%0A%20%20%20%20%20%20%20%20%27https%3A//%7Bs%7D.tile.openstreetmap.org/%7Bz%7D/%7Bx%7D/%7By%7D.png%27%2C%0A%20%20%20%20%20%20%20%20%7B%0A%20%20%20%20%20%20%20%20%22attribution%22%3A%20null%2C%0A%20%20%20%20%20%20%20%20%22detectRetina%22%3A%20false%2C%0A%20%20%20%20%20%20%20%20%22maxNativeZoom%22%3A%2018%2C%0A%20%20%20%20%20%20%20%20%22maxZoom%22%3A%2018%2C%0A%20%20%20%20%20%20%20%20%22minZoom%22%3A%200%2C%0A%20%20%20%20%20%20%20%20%22noWrap%22%3A%20false%2C%0A%20%20%20%20%20%20%20%20%22opacity%22%3A%201%2C%0A%20%20%20%20%20%20%20%20%22subdomains%22%3A%20%22abc%22%2C%0A%20%20%20%20%20%20%20%20%22tms%22%3A%20false%0A%7D%29.addTo%28map_60c342cb0efd42cca2d79889e0aeb8c8%29%3B%0A%20%20%20%20%0A%20%20%20%20%20%20%20%20%20%20%20%20var%20circle_marker_00e4a32077ad4df2b6a9118c97cc435a%20%3D%20L.circleMarker%28%0A%20%20%20%20%20%20%20%20%20%20%20%20%20%20%20%20%5B-23.6198783%2C%20-46.6936771%5D%2C%0A%20%20%20%20%20%20%20%20%20%20%20%20%20%20%20%20%7B%0A%20%20%22bubblingMouseEvents%22%3A%20true%2C%0A%20%20%22color%22%3A%20%22%231996f3%22%2C%0A%20%20%22dashArray%22%3A%20null%2C%0A%20%20%22dashOffset%22%3A%20null%2C%0A%20%20%22fill%22%3A%20true%2C%0A%20%20%22fillColor%22%3A%20%22%231996f3%22%2C%0A%20%20%22fillOpacity%22%3A%200.7%2C%0A%20%20%22fillRule%22%3A%20%22evenodd%22%2C%0A%20%20%22lineCap%22%3A%20%22round%22%2C%0A%20%20%22lineJoin%22%3A%20%22round%22%2C%0A%20%20%22opacity%22%3A%201.0%2C%0A%20%20%22radius%22%3A%205%2C%0A%20%20%22stroke%22%3A%20true%2C%0A%20%20%22weight%22%3A%203%0A%7D%0A%20%20%20%20%20%20%20%20%20%20%20%20%20%20%20%20%29%0A%20%20%20%20%20%20%20%20%20%20%20%20%20%20%20%20.addTo%28map_60c342cb0efd42cca2d79889e0aeb8c8%29%3B%0A%20%20%20%20%20%20%20%20%20%20%20%20%0A%20%20%20%20%0A%20%20%20%20%20%20%20%20%20%20%20%20var%20popup_c15625cf187048a587b7ae4c84088dc3%20%3D%20L.popup%28%7BmaxWidth%3A%20%27100%25%27%0A%20%20%20%20%20%20%20%20%20%20%20%20%0A%20%20%20%20%20%20%20%20%20%20%20%20%7D%29%3B%0A%0A%20%20%20%20%20%20%20%20%20%20%20%20%0A%20%20%20%20%20%20%20%20%20%20%20%20%20%20%20%20var%20html_4a52434a0f964732ab9fd7137ad584d2%20%3D%20%24%28%60%3Cdiv%20id%3D%22html_4a52434a0f964732ab9fd7137ad584d2%22%20style%3D%22width%3A%20100.0%25%3B%20height%3A%20100.0%25%3B%22%3E%20Cluster%202%3C/div%3E%60%29%5B0%5D%3B%0A%20%20%20%20%20%20%20%20%20%20%20%20%20%20%20%20popup_c15625cf187048a587b7ae4c84088dc3.setContent%28html_4a52434a0f964732ab9fd7137ad584d2%29%3B%0A%20%20%20%20%20%20%20%20%20%20%20%20%0A%0A%20%20%20%20%20%20%20%20%20%20%20%20circle_marker_00e4a32077ad4df2b6a9118c97cc435a.bindPopup%28popup_c15625cf187048a587b7ae4c84088dc3%29%0A%20%20%20%20%20%20%20%20%20%20%20%20%3B%0A%0A%20%20%20%20%20%20%20%20%20%20%20%20%0A%20%20%20%20%20%20%20%20%0A%20%20%20%20%0A%20%20%20%20%20%20%20%20%20%20%20%20var%20circle_marker_99396e44ed864ed097772a8a692e88f3%20%3D%20L.circleMarker%28%0A%20%20%20%20%20%20%20%20%20%20%20%20%20%20%20%20%5B-23.6125073%2C%20-46.6179285%5D%2C%0A%20%20%20%20%20%20%20%20%20%20%20%20%20%20%20%20%7B%0A%20%20%22bubblingMouseEvents%22%3A%20true%2C%0A%20%20%22color%22%3A%20%22%231996f3%22%2C%0A%20%20%22dashArray%22%3A%20null%2C%0A%20%20%22dashOffset%22%3A%20null%2C%0A%20%20%22fill%22%3A%20true%2C%0A%20%20%22fillColor%22%3A%20%22%231996f3%22%2C%0A%20%20%22fillOpacity%22%3A%200.7%2C%0A%20%20%22fillRule%22%3A%20%22evenodd%22%2C%0A%20%20%22lineCap%22%3A%20%22round%22%2C%0A%20%20%22lineJoin%22%3A%20%22round%22%2C%0A%20%20%22opacity%22%3A%201.0%2C%0A%20%20%22radius%22%3A%205%2C%0A%20%20%22stroke%22%3A%20true%2C%0A%20%20%22weight%22%3A%203%0A%7D%0A%20%20%20%20%20%20%20%20%20%20%20%20%20%20%20%20%29%0A%20%20%20%20%20%20%20%20%20%20%20%20%20%20%20%20.addTo%28map_60c342cb0efd42cca2d79889e0aeb8c8%29%3B%0A%20%20%20%20%20%20%20%20%20%20%20%20%0A%20%20%20%20%0A%20%20%20%20%20%20%20%20%20%20%20%20var%20popup_2f7edab547ee4a67b0f448d37863a128%20%3D%20L.popup%28%7BmaxWidth%3A%20%27100%25%27%0A%20%20%20%20%20%20%20%20%20%20%20%20%0A%20%20%20%20%20%20%20%20%20%20%20%20%7D%29%3B%0A%0A%20%20%20%20%20%20%20%20%20%20%20%20%0A%20%20%20%20%20%20%20%20%20%20%20%20%20%20%20%20var%20html_2d520128218f460b905415145a71276f%20%3D%20%24%28%60%3Cdiv%20id%3D%22html_2d520128218f460b905415145a71276f%22%20style%3D%22width%3A%20100.0%25%3B%20height%3A%20100.0%25%3B%22%3E%20Cluster%202%3C/div%3E%60%29%5B0%5D%3B%0A%20%20%20%20%20%20%20%20%20%20%20%20%20%20%20%20popup_2f7edab547ee4a67b0f448d37863a128.setContent%28html_2d520128218f460b905415145a71276f%29%3B%0A%20%20%20%20%20%20%20%20%20%20%20%20%0A%0A%20%20%20%20%20%20%20%20%20%20%20%20circle_marker_99396e44ed864ed097772a8a692e88f3.bindPopup%28popup_2f7edab547ee4a67b0f448d37863a128%29%0A%20%20%20%20%20%20%20%20%20%20%20%20%3B%0A%0A%20%20%20%20%20%20%20%20%20%20%20%20%0A%20%20%20%20%20%20%20%20%0A%20%20%20%20%0A%20%20%20%20%20%20%20%20%20%20%20%20var%20circle_marker_e5a32f2752114899a98a03e7efa3e30f%20%3D%20L.circleMarker%28%0A%20%20%20%20%20%20%20%20%20%20%20%20%20%20%20%20%5B-23.5705533%2C%20-46.6435249%5D%2C%0A%20%20%20%20%20%20%20%20%20%20%20%20%20%20%20%20%7B%0A%20%20%22bubblingMouseEvents%22%3A%20true%2C%0A%20%20%22color%22%3A%20%22%23ff964f%22%2C%0A%20%20%22dashArray%22%3A%20null%2C%0A%20%20%22dashOffset%22%3A%20null%2C%0A%20%20%22fill%22%3A%20true%2C%0A%20%20%22fillColor%22%3A%20%22%23ff964f%22%2C%0A%20%20%22fillOpacity%22%3A%200.7%2C%0A%20%20%22fillRule%22%3A%20%22evenodd%22%2C%0A%20%20%22lineCap%22%3A%20%22round%22%2C%0A%20%20%22lineJoin%22%3A%20%22round%22%2C%0A%20%20%22opacity%22%3A%201.0%2C%0A%20%20%22radius%22%3A%205%2C%0A%20%20%22stroke%22%3A%20true%2C%0A%20%20%22weight%22%3A%203%0A%7D%0A%20%20%20%20%20%20%20%20%20%20%20%20%20%20%20%20%29%0A%20%20%20%20%20%20%20%20%20%20%20%20%20%20%20%20.addTo%28map_60c342cb0efd42cca2d79889e0aeb8c8%29%3B%0A%20%20%20%20%20%20%20%20%20%20%20%20%0A%20%20%20%20%0A%20%20%20%20%20%20%20%20%20%20%20%20var%20popup_9aba1c66b3b841b3be856e35c36102f0%20%3D%20L.popup%28%7BmaxWidth%3A%20%27100%25%27%0A%20%20%20%20%20%20%20%20%20%20%20%20%0A%20%20%20%20%20%20%20%20%20%20%20%20%7D%29%3B%0A%0A%20%20%20%20%20%20%20%20%20%20%20%20%0A%20%20%20%20%20%20%20%20%20%20%20%20%20%20%20%20var%20html_d0bd584cd1b84b0a9e5da66918fc5ded%20%3D%20%24%28%60%3Cdiv%20id%3D%22html_d0bd584cd1b84b0a9e5da66918fc5ded%22%20style%3D%22width%3A%20100.0%25%3B%20height%3A%20100.0%25%3B%22%3E%20Cluster%205%3C/div%3E%60%29%5B0%5D%3B%0A%20%20%20%20%20%20%20%20%20%20%20%20%20%20%20%20popup_9aba1c66b3b841b3be856e35c36102f0.setContent%28html_d0bd584cd1b84b0a9e5da66918fc5ded%29%3B%0A%20%20%20%20%20%20%20%20%20%20%20%20%0A%0A%20%20%20%20%20%20%20%20%20%20%20%20circle_marker_e5a32f2752114899a98a03e7efa3e30f.bindPopup%28popup_9aba1c66b3b841b3be856e35c36102f0%29%0A%20%20%20%20%20%20%20%20%20%20%20%20%3B%0A%0A%20%20%20%20%20%20%20%20%20%20%20%20%0A%20%20%20%20%20%20%20%20%0A%20%20%20%20%0A%20%20%20%20%20%20%20%20%20%20%20%20var%20circle_marker_7bea2641cd1b4c1ea57aba1faafc086a%20%3D%20L.circleMarker%28%0A%20%20%20%20%20%20%20%20%20%20%20%20%20%20%20%20%5B-23.5463366%2C%20-46.640149%5D%2C%0A%20%20%20%20%20%20%20%20%20%20%20%20%20%20%20%20%7B%0A%20%20%22bubblingMouseEvents%22%3A%20true%2C%0A%20%20%22color%22%3A%20%22%238000ff%22%2C%0A%20%20%22dashArray%22%3A%20null%2C%0A%20%20%22dashOffset%22%3A%20null%2C%0A%20%20%22fill%22%3A%20true%2C%0A%20%20%22fillColor%22%3A%20%22%238000ff%22%2C%0A%20%20%22fillOpacity%22%3A%200.7%2C%0A%20%20%22fillRule%22%3A%20%22evenodd%22%2C%0A%20%20%22lineCap%22%3A%20%22round%22%2C%0A%20%20%22lineJoin%22%3A%20%22round%22%2C%0A%20%20%22opacity%22%3A%201.0%2C%0A%20%20%22radius%22%3A%205%2C%0A%20%20%22stroke%22%3A%20true%2C%0A%20%20%22weight%22%3A%203%0A%7D%0A%20%20%20%20%20%20%20%20%20%20%20%20%20%20%20%20%29%0A%20%20%20%20%20%20%20%20%20%20%20%20%20%20%20%20.addTo%28map_60c342cb0efd42cca2d79889e0aeb8c8%29%3B%0A%20%20%20%20%20%20%20%20%20%20%20%20%0A%20%20%20%20%0A%20%20%20%20%20%20%20%20%20%20%20%20var%20popup_0958734022d646baa91d9c05aa6f67b1%20%3D%20L.popup%28%7BmaxWidth%3A%20%27100%25%27%0A%20%20%20%20%20%20%20%20%20%20%20%20%0A%20%20%20%20%20%20%20%20%20%20%20%20%7D%29%3B%0A%0A%20%20%20%20%20%20%20%20%20%20%20%20%0A%20%20%20%20%20%20%20%20%20%20%20%20%20%20%20%20var%20html_cd807f7edd304d49b93f1daab5e40ed3%20%3D%20%24%28%60%3Cdiv%20id%3D%22html_cd807f7edd304d49b93f1daab5e40ed3%22%20style%3D%22width%3A%20100.0%25%3B%20height%3A%20100.0%25%3B%22%3E%20Cluster%201%3C/div%3E%60%29%5B0%5D%3B%0A%20%20%20%20%20%20%20%20%20%20%20%20%20%20%20%20popup_0958734022d646baa91d9c05aa6f67b1.setContent%28html_cd807f7edd304d49b93f1daab5e40ed3%29%3B%0A%20%20%20%20%20%20%20%20%20%20%20%20%0A%0A%20%20%20%20%20%20%20%20%20%20%20%20circle_marker_7bea2641cd1b4c1ea57aba1faafc086a.bindPopup%28popup_0958734022d646baa91d9c05aa6f67b1%29%0A%20%20%20%20%20%20%20%20%20%20%20%20%3B%0A%0A%20%20%20%20%20%20%20%20%20%20%20%20%0A%20%20%20%20%20%20%20%20%0A%20%20%20%20%0A%20%20%20%20%20%20%20%20%20%20%20%20var%20circle_marker_ffbb65d620ec4bce9d1f57205769fafe%20%3D%20L.circleMarker%28%0A%20%20%20%20%20%20%20%20%20%20%20%20%20%20%20%20%5B-23.5129523%2C%20-46.6586286%5D%2C%0A%20%20%20%20%20%20%20%20%20%20%20%20%20%20%20%20%7B%0A%20%20%22bubblingMouseEvents%22%3A%20true%2C%0A%20%20%22color%22%3A%20%22%23ff0000%22%2C%0A%20%20%22dashArray%22%3A%20null%2C%0A%20%20%22dashOffset%22%3A%20null%2C%0A%20%20%22fill%22%3A%20true%2C%0A%20%20%22fillColor%22%3A%20%22%23ff0000%22%2C%0A%20%20%22fillOpacity%22%3A%200.7%2C%0A%20%20%22fillRule%22%3A%20%22evenodd%22%2C%0A%20%20%22lineCap%22%3A%20%22round%22%2C%0A%20%20%22lineJoin%22%3A%20%22round%22%2C%0A%20%20%22opacity%22%3A%201.0%2C%0A%20%20%22radius%22%3A%205%2C%0A%20%20%22stroke%22%3A%20true%2C%0A%20%20%22weight%22%3A%203%0A%7D%0A%20%20%20%20%20%20%20%20%20%20%20%20%20%20%20%20%29%0A%20%20%20%20%20%20%20%20%20%20%20%20%20%20%20%20.addTo%28map_60c342cb0efd42cca2d79889e0aeb8c8%29%3B%0A%20%20%20%20%20%20%20%20%20%20%20%20%0A%20%20%20%20%0A%20%20%20%20%20%20%20%20%20%20%20%20var%20popup_bccc1a3d35c34f77a7110629e04b7f42%20%3D%20L.popup%28%7BmaxWidth%3A%20%27100%25%27%0A%20%20%20%20%20%20%20%20%20%20%20%20%0A%20%20%20%20%20%20%20%20%20%20%20%20%7D%29%3B%0A%0A%20%20%20%20%20%20%20%20%20%20%20%20%0A%20%20%20%20%20%20%20%20%20%20%20%20%20%20%20%20var%20html_618d2cd90faf473e8ff1aa01d124a1d9%20%3D%20%24%28%60%3Cdiv%20id%3D%22html_618d2cd90faf473e8ff1aa01d124a1d9%22%20style%3D%22width%3A%20100.0%25%3B%20height%3A%20100.0%25%3B%22%3E%20Cluster%200%3C/div%3E%60%29%5B0%5D%3B%0A%20%20%20%20%20%20%20%20%20%20%20%20%20%20%20%20popup_bccc1a3d35c34f77a7110629e04b7f42.setContent%28html_618d2cd90faf473e8ff1aa01d124a1d9%29%3B%0A%20%20%20%20%20%20%20%20%20%20%20%20%0A%0A%20%20%20%20%20%20%20%20%20%20%20%20circle_marker_ffbb65d620ec4bce9d1f57205769fafe.bindPopup%28popup_bccc1a3d35c34f77a7110629e04b7f42%29%0A%20%20%20%20%20%20%20%20%20%20%20%20%3B%0A%0A%20%20%20%20%20%20%20%20%20%20%20%20%0A%20%20%20%20%20%20%20%20%0A%20%20%20%20%0A%20%20%20%20%20%20%20%20%20%20%20%20var%20circle_marker_250de58d769246d7817c699dae2c0ca4%20%3D%20L.circleMarker%28%0A%20%20%20%20%20%20%20%20%20%20%20%20%20%20%20%20%5B-23.5238573%2C%20-46.7374961%5D%2C%0A%20%20%20%20%20%20%20%20%20%20%20%20%20%20%20%20%7B%0A%20%20%22bubblingMouseEvents%22%3A%20true%2C%0A%20%20%22color%22%3A%20%22%23b2f396%22%2C%0A%20%20%22dashArray%22%3A%20null%2C%0A%20%20%22dashOffset%22%3A%20null%2C%0A%20%20%22fill%22%3A%20true%2C%0A%20%20%22fillColor%22%3A%20%22%23b2f396%22%2C%0A%20%20%22fillOpacity%22%3A%200.7%2C%0A%20%20%22fillRule%22%3A%20%22evenodd%22%2C%0A%20%20%22lineCap%22%3A%20%22round%22%2C%0A%20%20%22lineJoin%22%3A%20%22round%22%2C%0A%20%20%22opacity%22%3A%201.0%2C%0A%20%20%22radius%22%3A%205%2C%0A%20%20%22stroke%22%3A%20true%2C%0A%20%20%22weight%22%3A%203%0A%7D%0A%20%20%20%20%20%20%20%20%20%20%20%20%20%20%20%20%29%0A%20%20%20%20%20%20%20%20%20%20%20%20%20%20%20%20.addTo%28map_60c342cb0efd42cca2d79889e0aeb8c8%29%3B%0A%20%20%20%20%20%20%20%20%20%20%20%20%0A%20%20%20%20%0A%20%20%20%20%20%20%20%20%20%20%20%20var%20popup_73c1addbf480410495a8aad5191083e9%20%3D%20L.popup%28%7BmaxWidth%3A%20%27100%25%27%0A%20%20%20%20%20%20%20%20%20%20%20%20%0A%20%20%20%20%20%20%20%20%20%20%20%20%7D%29%3B%0A%0A%20%20%20%20%20%20%20%20%20%20%20%20%0A%20%20%20%20%20%20%20%20%20%20%20%20%20%20%20%20var%20html_23630632485b44fea54b684f366f1478%20%3D%20%24%28%60%3Cdiv%20id%3D%22html_23630632485b44fea54b684f366f1478%22%20style%3D%22width%3A%20100.0%25%3B%20height%3A%20100.0%25%3B%22%3E%20Cluster%204%3C/div%3E%60%29%5B0%5D%3B%0A%20%20%20%20%20%20%20%20%20%20%20%20%20%20%20%20popup_73c1addbf480410495a8aad5191083e9.setContent%28html_23630632485b44fea54b684f366f1478%29%3B%0A%20%20%20%20%20%20%20%20%20%20%20%20%0A%0A%20%20%20%20%20%20%20%20%20%20%20%20circle_marker_250de58d769246d7817c699dae2c0ca4.bindPopup%28popup_73c1addbf480410495a8aad5191083e9%29%0A%20%20%20%20%20%20%20%20%20%20%20%20%3B%0A%0A%20%20%20%20%20%20%20%20%20%20%20%20%0A%20%20%20%20%20%20%20%20%0A%20%20%20%20%0A%20%20%20%20%20%20%20%20%20%20%20%20var%20circle_marker_d7342fea2bca4beebb545338f6df980c%20%3D%20L.circleMarker%28%0A%20%20%20%20%20%20%20%20%20%20%20%20%20%20%20%20%5B-23.5599621%2C%20-46.6892798%5D%2C%0A%20%20%20%20%20%20%20%20%20%20%20%20%20%20%20%20%7B%0A%20%20%22bubblingMouseEvents%22%3A%20true%2C%0A%20%20%22color%22%3A%20%22%234df3ce%22%2C%0A%20%20%22dashArray%22%3A%20null%2C%0A%20%20%22dashOffset%22%3A%20null%2C%0A%20%20%22fill%22%3A%20true%2C%0A%20%20%22fillColor%22%3A%20%22%234df3ce%22%2C%0A%20%20%22fillOpacity%22%3A%200.7%2C%0A%20%20%22fillRule%22%3A%20%22evenodd%22%2C%0A%20%20%22lineCap%22%3A%20%22round%22%2C%0A%20%20%22lineJoin%22%3A%20%22round%22%2C%0A%20%20%22opacity%22%3A%201.0%2C%0A%20%20%22radius%22%3A%205%2C%0A%20%20%22stroke%22%3A%20true%2C%0A%20%20%22weight%22%3A%203%0A%7D%0A%20%20%20%20%20%20%20%20%20%20%20%20%20%20%20%20%29%0A%20%20%20%20%20%20%20%20%20%20%20%20%20%20%20%20.addTo%28map_60c342cb0efd42cca2d79889e0aeb8c8%29%3B%0A%20%20%20%20%20%20%20%20%20%20%20%20%0A%20%20%20%20%0A%20%20%20%20%20%20%20%20%20%20%20%20var%20popup_bc56e29f4f8c4a719b2aca71caea0836%20%3D%20L.popup%28%7BmaxWidth%3A%20%27100%25%27%0A%20%20%20%20%20%20%20%20%20%20%20%20%0A%20%20%20%20%20%20%20%20%20%20%20%20%7D%29%3B%0A%0A%20%20%20%20%20%20%20%20%20%20%20%20%0A%20%20%20%20%20%20%20%20%20%20%20%20%20%20%20%20var%20html_07b114d065ee4cb58b7c21d1175101fe%20%3D%20%24%28%60%3Cdiv%20id%3D%22html_07b114d065ee4cb58b7c21d1175101fe%22%20style%3D%22width%3A%20100.0%25%3B%20height%3A%20100.0%25%3B%22%3E%20Cluster%203%3C/div%3E%60%29%5B0%5D%3B%0A%20%20%20%20%20%20%20%20%20%20%20%20%20%20%20%20popup_bc56e29f4f8c4a719b2aca71caea0836.setContent%28html_07b114d065ee4cb58b7c21d1175101fe%29%3B%0A%20%20%20%20%20%20%20%20%20%20%20%20%0A%0A%20%20%20%20%20%20%20%20%20%20%20%20circle_marker_d7342fea2bca4beebb545338f6df980c.bindPopup%28popup_bc56e29f4f8c4a719b2aca71caea0836%29%0A%20%20%20%20%20%20%20%20%20%20%20%20%3B%0A%0A%20%20%20%20%20%20%20%20%20%20%20%20%0A%20%20%20%20%20%20%20%20%0A%20%20%20%20%0A%20%20%20%20%20%20%20%20%20%20%20%20var%20circle_marker_3a0f465ea7a04b2fa610c837a9fdac30%20%3D%20L.circleMarker%28%0A%20%20%20%20%20%20%20%20%20%20%20%20%20%20%20%20%5B-23.5618321%2C%20-46.5971704%5D%2C%0A%20%20%20%20%20%20%20%20%20%20%20%20%20%20%20%20%7B%0A%20%20%22bubblingMouseEvents%22%3A%20true%2C%0A%20%20%22color%22%3A%20%22%231996f3%22%2C%0A%20%20%22dashArray%22%3A%20null%2C%0A%20%20%22dashOffset%22%3A%20null%2C%0A%20%20%22fill%22%3A%20true%2C%0A%20%20%22fillColor%22%3A%20%22%231996f3%22%2C%0A%20%20%22fillOpacity%22%3A%200.7%2C%0A%20%20%22fillRule%22%3A%20%22evenodd%22%2C%0A%20%20%22lineCap%22%3A%20%22round%22%2C%0A%20%20%22lineJoin%22%3A%20%22round%22%2C%0A%20%20%22opacity%22%3A%201.0%2C%0A%20%20%22radius%22%3A%205%2C%0A%20%20%22stroke%22%3A%20true%2C%0A%20%20%22weight%22%3A%203%0A%7D%0A%20%20%20%20%20%20%20%20%20%20%20%20%20%20%20%20%29%0A%20%20%20%20%20%20%20%20%20%20%20%20%20%20%20%20.addTo%28map_60c342cb0efd42cca2d79889e0aeb8c8%29%3B%0A%20%20%20%20%20%20%20%20%20%20%20%20%0A%20%20%20%20%0A%20%20%20%20%20%20%20%20%20%20%20%20var%20popup_35536c9ea2514ba5a83ebd630ff44bce%20%3D%20L.popup%28%7BmaxWidth%3A%20%27100%25%27%0A%20%20%20%20%20%20%20%20%20%20%20%20%0A%20%20%20%20%20%20%20%20%20%20%20%20%7D%29%3B%0A%0A%20%20%20%20%20%20%20%20%20%20%20%20%0A%20%20%20%20%20%20%20%20%20%20%20%20%20%20%20%20var%20html_8e82153ce642498ea8256c0aa09f7b8e%20%3D%20%24%28%60%3Cdiv%20id%3D%22html_8e82153ce642498ea8256c0aa09f7b8e%22%20style%3D%22width%3A%20100.0%25%3B%20height%3A%20100.0%25%3B%22%3E%20Cluster%202%3C/div%3E%60%29%5B0%5D%3B%0A%20%20%20%20%20%20%20%20%20%20%20%20%20%20%20%20popup_35536c9ea2514ba5a83ebd630ff44bce.setContent%28html_8e82153ce642498ea8256c0aa09f7b8e%29%3B%0A%20%20%20%20%20%20%20%20%20%20%20%20%0A%0A%20%20%20%20%20%20%20%20%20%20%20%20circle_marker_3a0f465ea7a04b2fa610c837a9fdac30.bindPopup%28popup_35536c9ea2514ba5a83ebd630ff44bce%29%0A%20%20%20%20%20%20%20%20%20%20%20%20%3B%0A%0A%20%20%20%20%20%20%20%20%20%20%20%20%0A%20%20%20%20%20%20%20%20%0A%20%20%20%20%0A%20%20%20%20%20%20%20%20%20%20%20%20var%20circle_marker_a6fad3b47f524879b34000ff4269f7c7%20%3D%20L.circleMarker%28%0A%20%20%20%20%20%20%20%20%20%20%20%20%20%20%20%20%5B-23.5281629%2C%20-46.6177882%5D%2C%0A%20%20%20%20%20%20%20%20%20%20%20%20%20%20%20%20%7B%0A%20%20%22bubblingMouseEvents%22%3A%20true%2C%0A%20%20%22color%22%3A%20%22%234df3ce%22%2C%0A%20%20%22dashArray%22%3A%20null%2C%0A%20%20%22dashOffset%22%3A%20null%2C%0A%20%20%22fill%22%3A%20true%2C%0A%20%20%22fillColor%22%3A%20%22%234df3ce%22%2C%0A%20%20%22fillOpacity%22%3A%200.7%2C%0A%20%20%22fillRule%22%3A%20%22evenodd%22%2C%0A%20%20%22lineCap%22%3A%20%22round%22%2C%0A%20%20%22lineJoin%22%3A%20%22round%22%2C%0A%20%20%22opacity%22%3A%201.0%2C%0A%20%20%22radius%22%3A%205%2C%0A%20%20%22stroke%22%3A%20true%2C%0A%20%20%22weight%22%3A%203%0A%7D%0A%20%20%20%20%20%20%20%20%20%20%20%20%20%20%20%20%29%0A%20%20%20%20%20%20%20%20%20%20%20%20%20%20%20%20.addTo%28map_60c342cb0efd42cca2d79889e0aeb8c8%29%3B%0A%20%20%20%20%20%20%20%20%20%20%20%20%0A%20%20%20%20%0A%20%20%20%20%20%20%20%20%20%20%20%20var%20popup_a206b1b793444688ba4bf878a2d84298%20%3D%20L.popup%28%7BmaxWidth%3A%20%27100%25%27%0A%20%20%20%20%20%20%20%20%20%20%20%20%0A%20%20%20%20%20%20%20%20%20%20%20%20%7D%29%3B%0A%0A%20%20%20%20%20%20%20%20%20%20%20%20%0A%20%20%20%20%20%20%20%20%20%20%20%20%20%20%20%20var%20html_079dfd8970604bc29defea6d7a230dd6%20%3D%20%24%28%60%3Cdiv%20id%3D%22html_079dfd8970604bc29defea6d7a230dd6%22%20style%3D%22width%3A%20100.0%25%3B%20height%3A%20100.0%25%3B%22%3E%20Cluster%203%3C/div%3E%60%29%5B0%5D%3B%0A%20%20%20%20%20%20%20%20%20%20%20%20%20%20%20%20popup_a206b1b793444688ba4bf878a2d84298.setContent%28html_079dfd8970604bc29defea6d7a230dd6%29%3B%0A%20%20%20%20%20%20%20%20%20%20%20%20%0A%0A%20%20%20%20%20%20%20%20%20%20%20%20circle_marker_a6fad3b47f524879b34000ff4269f7c7.bindPopup%28popup_a206b1b793444688ba4bf878a2d84298%29%0A%20%20%20%20%20%20%20%20%20%20%20%20%3B%0A%0A%20%20%20%20%20%20%20%20%20%20%20%20%0A%20%20%20%20%20%20%20%20%0A%20%20%20%20%0A%20%20%20%20%20%20%20%20%20%20%20%20var%20circle_marker_b97eb9b39fc348d9966390011cd72ff7%20%3D%20L.circleMarker%28%0A%20%20%20%20%20%20%20%20%20%20%20%20%20%20%20%20%5B-23.527016%2C%20-46.6750091%5D%2C%0A%20%20%20%20%20%20%20%20%20%20%20%20%20%20%20%20%7B%0A%20%20%22bubblingMouseEvents%22%3A%20true%2C%0A%20%20%22color%22%3A%20%22%23ff0000%22%2C%0A%20%20%22dashArray%22%3A%20null%2C%0A%20%20%22dashOffset%22%3A%20null%2C%0A%20%20%22fill%22%3A%20true%2C%0A%20%20%22fillColor%22%3A%20%22%23ff0000%22%2C%0A%20%20%22fillOpacity%22%3A%200.7%2C%0A%20%20%22fillRule%22%3A%20%22evenodd%22%2C%0A%20%20%22lineCap%22%3A%20%22round%22%2C%0A%20%20%22lineJoin%22%3A%20%22round%22%2C%0A%20%20%22opacity%22%3A%201.0%2C%0A%20%20%22radius%22%3A%205%2C%0A%20%20%22stroke%22%3A%20true%2C%0A%20%20%22weight%22%3A%203%0A%7D%0A%20%20%20%20%20%20%20%20%20%20%20%20%20%20%20%20%29%0A%20%20%20%20%20%20%20%20%20%20%20%20%20%20%20%20.addTo%28map_60c342cb0efd42cca2d79889e0aeb8c8%29%3B%0A%20%20%20%20%20%20%20%20%20%20%20%20%0A%20%20%20%20%0A%20%20%20%20%20%20%20%20%20%20%20%20var%20popup_df0912bdb5e44d98857be0f0af57bcb5%20%3D%20L.popup%28%7BmaxWidth%3A%20%27100%25%27%0A%20%20%20%20%20%20%20%20%20%20%20%20%0A%20%20%20%20%20%20%20%20%20%20%20%20%7D%29%3B%0A%0A%20%20%20%20%20%20%20%20%20%20%20%20%0A%20%20%20%20%20%20%20%20%20%20%20%20%20%20%20%20var%20html_854b0c837218487ba13142ce83c3cfdd%20%3D%20%24%28%60%3Cdiv%20id%3D%22html_854b0c837218487ba13142ce83c3cfdd%22%20style%3D%22width%3A%20100.0%25%3B%20height%3A%20100.0%25%3B%22%3E%20Cluster%200%3C/div%3E%60%29%5B0%5D%3B%0A%20%20%20%20%20%20%20%20%20%20%20%20%20%20%20%20popup_df0912bdb5e44d98857be0f0af57bcb5.setContent%28html_854b0c837218487ba13142ce83c3cfdd%29%3B%0A%20%20%20%20%20%20%20%20%20%20%20%20%0A%0A%20%20%20%20%20%20%20%20%20%20%20%20circle_marker_b97eb9b39fc348d9966390011cd72ff7.bindPopup%28popup_df0912bdb5e44d98857be0f0af57bcb5%29%0A%20%20%20%20%20%20%20%20%20%20%20%20%3B%0A%0A%20%20%20%20%20%20%20%20%20%20%20%20%0A%20%20%20%20%20%20%20%20%0A%20%20%20%20%0A%20%20%20%20%20%20%20%20%20%20%20%20var%20circle_marker_3d459f4c302f4bdca9947b67849fdcc5%20%3D%20L.circleMarker%28%0A%20%20%20%20%20%20%20%20%20%20%20%20%20%20%20%20%5B-23.5446441%2C%20-46.5717326%5D%2C%0A%20%20%20%20%20%20%20%20%20%20%20%20%20%20%20%20%7B%0A%20%20%22bubblingMouseEvents%22%3A%20true%2C%0A%20%20%22color%22%3A%20%22%23b2f396%22%2C%0A%20%20%22dashArray%22%3A%20null%2C%0A%20%20%22dashOffset%22%3A%20null%2C%0A%20%20%22fill%22%3A%20true%2C%0A%20%20%22fillColor%22%3A%20%22%23b2f396%22%2C%0A%20%20%22fillOpacity%22%3A%200.7%2C%0A%20%20%22fillRule%22%3A%20%22evenodd%22%2C%0A%20%20%22lineCap%22%3A%20%22round%22%2C%0A%20%20%22lineJoin%22%3A%20%22round%22%2C%0A%20%20%22opacity%22%3A%201.0%2C%0A%20%20%22radius%22%3A%205%2C%0A%20%20%22stroke%22%3A%20true%2C%0A%20%20%22weight%22%3A%203%0A%7D%0A%20%20%20%20%20%20%20%20%20%20%20%20%20%20%20%20%29%0A%20%20%20%20%20%20%20%20%20%20%20%20%20%20%20%20.addTo%28map_60c342cb0efd42cca2d79889e0aeb8c8%29%3B%0A%20%20%20%20%20%20%20%20%20%20%20%20%0A%20%20%20%20%0A%20%20%20%20%20%20%20%20%20%20%20%20var%20popup_53b8beac73964fc19219f0ad2b22ff48%20%3D%20L.popup%28%7BmaxWidth%3A%20%27100%25%27%0A%20%20%20%20%20%20%20%20%20%20%20%20%0A%20%20%20%20%20%20%20%20%20%20%20%20%7D%29%3B%0A%0A%20%20%20%20%20%20%20%20%20%20%20%20%0A%20%20%20%20%20%20%20%20%20%20%20%20%20%20%20%20var%20html_f84c67c32f464fe3b98199d58ce0a0dc%20%3D%20%24%28%60%3Cdiv%20id%3D%22html_f84c67c32f464fe3b98199d58ce0a0dc%22%20style%3D%22width%3A%20100.0%25%3B%20height%3A%20100.0%25%3B%22%3E%20Cluster%204%3C/div%3E%60%29%5B0%5D%3B%0A%20%20%20%20%20%20%20%20%20%20%20%20%20%20%20%20popup_53b8beac73964fc19219f0ad2b22ff48.setContent%28html_f84c67c32f464fe3b98199d58ce0a0dc%29%3B%0A%20%20%20%20%20%20%20%20%20%20%20%20%0A%0A%20%20%20%20%20%20%20%20%20%20%20%20circle_marker_3d459f4c302f4bdca9947b67849fdcc5.bindPopup%28popup_53b8beac73964fc19219f0ad2b22ff48%29%0A%20%20%20%20%20%20%20%20%20%20%20%20%3B%0A%0A%20%20%20%20%20%20%20%20%20%20%20%20%0A%20%20%20%20%20%20%20%20%0A%20%20%20%20%0A%20%20%20%20%20%20%20%20%20%20%20%20var%20circle_marker_d29e205cf94c4eebacc45216fc106baf%20%3D%20L.circleMarker%28%0A%20%20%20%20%20%20%20%20%20%20%20%20%20%20%20%20%5B-23.5453045%2C%20-46.5691493%5D%2C%0A%20%20%20%20%20%20%20%20%20%20%20%20%20%20%20%20%7B%0A%20%20%22bubblingMouseEvents%22%3A%20true%2C%0A%20%20%22color%22%3A%20%22%23b2f396%22%2C%0A%20%20%22dashArray%22%3A%20null%2C%0A%20%20%22dashOffset%22%3A%20null%2C%0A%20%20%22fill%22%3A%20true%2C%0A%20%20%22fillColor%22%3A%20%22%23b2f396%22%2C%0A%20%20%22fillOpacity%22%3A%200.7%2C%0A%20%20%22fillRule%22%3A%20%22evenodd%22%2C%0A%20%20%22lineCap%22%3A%20%22round%22%2C%0A%20%20%22lineJoin%22%3A%20%22round%22%2C%0A%20%20%22opacity%22%3A%201.0%2C%0A%20%20%22radius%22%3A%205%2C%0A%20%20%22stroke%22%3A%20true%2C%0A%20%20%22weight%22%3A%203%0A%7D%0A%20%20%20%20%20%20%20%20%20%20%20%20%20%20%20%20%29%0A%20%20%20%20%20%20%20%20%20%20%20%20%20%20%20%20.addTo%28map_60c342cb0efd42cca2d79889e0aeb8c8%29%3B%0A%20%20%20%20%20%20%20%20%20%20%20%20%0A%20%20%20%20%0A%20%20%20%20%20%20%20%20%20%20%20%20var%20popup_76db83b476dc43c587a48b502e97d0c8%20%3D%20L.popup%28%7BmaxWidth%3A%20%27100%25%27%0A%20%20%20%20%20%20%20%20%20%20%20%20%0A%20%20%20%20%20%20%20%20%20%20%20%20%7D%29%3B%0A%0A%20%20%20%20%20%20%20%20%20%20%20%20%0A%20%20%20%20%20%20%20%20%20%20%20%20%20%20%20%20var%20html_37d1e1e75c4f49298ae2c57157000d84%20%3D%20%24%28%60%3Cdiv%20id%3D%22html_37d1e1e75c4f49298ae2c57157000d84%22%20style%3D%22width%3A%20100.0%25%3B%20height%3A%20100.0%25%3B%22%3E%20Cluster%204%3C/div%3E%60%29%5B0%5D%3B%0A%20%20%20%20%20%20%20%20%20%20%20%20%20%20%20%20popup_76db83b476dc43c587a48b502e97d0c8.setContent%28html_37d1e1e75c4f49298ae2c57157000d84%29%3B%0A%20%20%20%20%20%20%20%20%20%20%20%20%0A%0A%20%20%20%20%20%20%20%20%20%20%20%20circle_marker_d29e205cf94c4eebacc45216fc106baf.bindPopup%28popup_76db83b476dc43c587a48b502e97d0c8%29%0A%20%20%20%20%20%20%20%20%20%20%20%20%3B%0A%0A%20%20%20%20%20%20%20%20%20%20%20%20%0A%20%20%20%20%20%20%20%20%0A%20%20%20%20%0A%20%20%20%20%20%20%20%20%20%20%20%20var%20circle_marker_6225c1832efb41a8837a552623a842d7%20%3D%20L.circleMarker%28%0A%20%20%20%20%20%20%20%20%20%20%20%20%20%20%20%20%5B-23.5141109%2C%20-46.5342972%5D%2C%0A%20%20%20%20%20%20%20%20%20%20%20%20%20%20%20%20%7B%0A%20%20%22bubblingMouseEvents%22%3A%20true%2C%0A%20%20%22color%22%3A%20%22%23ff0000%22%2C%0A%20%20%22dashArray%22%3A%20null%2C%0A%20%20%22dashOffset%22%3A%20null%2C%0A%20%20%22fill%22%3A%20true%2C%0A%20%20%22fillColor%22%3A%20%22%23ff0000%22%2C%0A%20%20%22fillOpacity%22%3A%200.7%2C%0A%20%20%22fillRule%22%3A%20%22evenodd%22%2C%0A%20%20%22lineCap%22%3A%20%22round%22%2C%0A%20%20%22lineJoin%22%3A%20%22round%22%2C%0A%20%20%22opacity%22%3A%201.0%2C%0A%20%20%22radius%22%3A%205%2C%0A%20%20%22stroke%22%3A%20true%2C%0A%20%20%22weight%22%3A%203%0A%7D%0A%20%20%20%20%20%20%20%20%20%20%20%20%20%20%20%20%29%0A%20%20%20%20%20%20%20%20%20%20%20%20%20%20%20%20.addTo%28map_60c342cb0efd42cca2d79889e0aeb8c8%29%3B%0A%20%20%20%20%20%20%20%20%20%20%20%20%0A%20%20%20%20%0A%20%20%20%20%20%20%20%20%20%20%20%20var%20popup_ec09a1ceb1244e8ea8f88d74d3a4be87%20%3D%20L.popup%28%7BmaxWidth%3A%20%27100%25%27%0A%20%20%20%20%20%20%20%20%20%20%20%20%0A%20%20%20%20%20%20%20%20%20%20%20%20%7D%29%3B%0A%0A%20%20%20%20%20%20%20%20%20%20%20%20%0A%20%20%20%20%20%20%20%20%20%20%20%20%20%20%20%20var%20html_31c83d21241840c489b0ff7ce40c38e5%20%3D%20%24%28%60%3Cdiv%20id%3D%22html_31c83d21241840c489b0ff7ce40c38e5%22%20style%3D%22width%3A%20100.0%25%3B%20height%3A%20100.0%25%3B%22%3E%20Cluster%200%3C/div%3E%60%29%5B0%5D%3B%0A%20%20%20%20%20%20%20%20%20%20%20%20%20%20%20%20popup_ec09a1ceb1244e8ea8f88d74d3a4be87.setContent%28html_31c83d21241840c489b0ff7ce40c38e5%29%3B%0A%20%20%20%20%20%20%20%20%20%20%20%20%0A%0A%20%20%20%20%20%20%20%20%20%20%20%20circle_marker_6225c1832efb41a8837a552623a842d7.bindPopup%28popup_ec09a1ceb1244e8ea8f88d74d3a4be87%29%0A%20%20%20%20%20%20%20%20%20%20%20%20%3B%0A%0A%20%20%20%20%20%20%20%20%20%20%20%20%0A%20%20%20%20%20%20%20%20%0A%20%20%20%20%0A%20%20%20%20%20%20%20%20%20%20%20%20var%20circle_marker_aff136d6ff774f2da249ad0c44d28f5b%20%3D%20L.circleMarker%28%0A%20%20%20%20%20%20%20%20%20%20%20%20%20%20%20%20%5B-23.5865485%2C%20-46.5932629%5D%2C%0A%20%20%20%20%20%20%20%20%20%20%20%20%20%20%20%20%7B%0A%20%20%22bubblingMouseEvents%22%3A%20true%2C%0A%20%20%22color%22%3A%20%22%23ff0000%22%2C%0A%20%20%22dashArray%22%3A%20null%2C%0A%20%20%22dashOffset%22%3A%20null%2C%0A%20%20%22fill%22%3A%20true%2C%0A%20%20%22fillColor%22%3A%20%22%23ff0000%22%2C%0A%20%20%22fillOpacity%22%3A%200.7%2C%0A%20%20%22fillRule%22%3A%20%22evenodd%22%2C%0A%20%20%22lineCap%22%3A%20%22round%22%2C%0A%20%20%22lineJoin%22%3A%20%22round%22%2C%0A%20%20%22opacity%22%3A%201.0%2C%0A%20%20%22radius%22%3A%205%2C%0A%20%20%22stroke%22%3A%20true%2C%0A%20%20%22weight%22%3A%203%0A%7D%0A%20%20%20%20%20%20%20%20%20%20%20%20%20%20%20%20%29%0A%20%20%20%20%20%20%20%20%20%20%20%20%20%20%20%20.addTo%28map_60c342cb0efd42cca2d79889e0aeb8c8%29%3B%0A%20%20%20%20%20%20%20%20%20%20%20%20%0A%20%20%20%20%0A%20%20%20%20%20%20%20%20%20%20%20%20var%20popup_06867e50f6a2407284d2cf8319f96472%20%3D%20L.popup%28%7BmaxWidth%3A%20%27100%25%27%0A%20%20%20%20%20%20%20%20%20%20%20%20%0A%20%20%20%20%20%20%20%20%20%20%20%20%7D%29%3B%0A%0A%20%20%20%20%20%20%20%20%20%20%20%20%0A%20%20%20%20%20%20%20%20%20%20%20%20%20%20%20%20var%20html_a50dc0352f5f449c85854c3cd58baaca%20%3D%20%24%28%60%3Cdiv%20id%3D%22html_a50dc0352f5f449c85854c3cd58baaca%22%20style%3D%22width%3A%20100.0%25%3B%20height%3A%20100.0%25%3B%22%3E%20Cluster%200%3C/div%3E%60%29%5B0%5D%3B%0A%20%20%20%20%20%20%20%20%20%20%20%20%20%20%20%20popup_06867e50f6a2407284d2cf8319f96472.setContent%28html_a50dc0352f5f449c85854c3cd58baaca%29%3B%0A%20%20%20%20%20%20%20%20%20%20%20%20%0A%0A%20%20%20%20%20%20%20%20%20%20%20%20circle_marker_aff136d6ff774f2da249ad0c44d28f5b.bindPopup%28popup_06867e50f6a2407284d2cf8319f96472%29%0A%20%20%20%20%20%20%20%20%20%20%20%20%3B%0A%0A%20%20%20%20%20%20%20%20%20%20%20%20%0A%20%20%20%20%20%20%20%20%0A%20%20%20%20%0A%20%20%20%20%20%20%20%20%20%20%20%20var%20circle_marker_6e2bb5e37ff8444bb5089d3491bdf801%20%3D%20L.circleMarker%28%0A%20%20%20%20%20%20%20%20%20%20%20%20%20%20%20%20%5B-23.5475059%2C%20-46.6493454%5D%2C%0A%20%20%20%20%20%20%20%20%20%20%20%20%20%20%20%20%7B%0A%20%20%22bubblingMouseEvents%22%3A%20true%2C%0A%20%20%22color%22%3A%20%22%234df3ce%22%2C%0A%20%20%22dashArray%22%3A%20null%2C%0A%20%20%22dashOffset%22%3A%20null%2C%0A%20%20%22fill%22%3A%20true%2C%0A%20%20%22fillColor%22%3A%20%22%234df3ce%22%2C%0A%20%20%22fillOpacity%22%3A%200.7%2C%0A%20%20%22fillRule%22%3A%20%22evenodd%22%2C%0A%20%20%22lineCap%22%3A%20%22round%22%2C%0A%20%20%22lineJoin%22%3A%20%22round%22%2C%0A%20%20%22opacity%22%3A%201.0%2C%0A%20%20%22radius%22%3A%205%2C%0A%20%20%22stroke%22%3A%20true%2C%0A%20%20%22weight%22%3A%203%0A%7D%0A%20%20%20%20%20%20%20%20%20%20%20%20%20%20%20%20%29%0A%20%20%20%20%20%20%20%20%20%20%20%20%20%20%20%20.addTo%28map_60c342cb0efd42cca2d79889e0aeb8c8%29%3B%0A%20%20%20%20%20%20%20%20%20%20%20%20%0A%20%20%20%20%0A%20%20%20%20%20%20%20%20%20%20%20%20var%20popup_7a073f81afc14c9eae44302da0296edc%20%3D%20L.popup%28%7BmaxWidth%3A%20%27100%25%27%0A%20%20%20%20%20%20%20%20%20%20%20%20%0A%20%20%20%20%20%20%20%20%20%20%20%20%7D%29%3B%0A%0A%20%20%20%20%20%20%20%20%20%20%20%20%0A%20%20%20%20%20%20%20%20%20%20%20%20%20%20%20%20var%20html_c2e84b11c31742409712fa4f75e27c72%20%3D%20%24%28%60%3Cdiv%20id%3D%22html_c2e84b11c31742409712fa4f75e27c72%22%20style%3D%22width%3A%20100.0%25%3B%20height%3A%20100.0%25%3B%22%3E%20Cluster%203%3C/div%3E%60%29%5B0%5D%3B%0A%20%20%20%20%20%20%20%20%20%20%20%20%20%20%20%20popup_7a073f81afc14c9eae44302da0296edc.setContent%28html_c2e84b11c31742409712fa4f75e27c72%29%3B%0A%20%20%20%20%20%20%20%20%20%20%20%20%0A%0A%20%20%20%20%20%20%20%20%20%20%20%20circle_marker_6e2bb5e37ff8444bb5089d3491bdf801.bindPopup%28popup_7a073f81afc14c9eae44302da0296edc%29%0A%20%20%20%20%20%20%20%20%20%20%20%20%3B%0A%0A%20%20%20%20%20%20%20%20%20%20%20%20%0A%20%20%20%20%20%20%20%20%0A%20%20%20%20%0A%20%20%20%20%20%20%20%20%20%20%20%20var%20circle_marker_f438684be50d45b1a5fc88b6362a07c7%20%3D%20L.circleMarker%28%0A%20%20%20%20%20%20%20%20%20%20%20%20%20%20%20%20%5B-23.5642202%2C%20-46.5961066%5D%2C%0A%20%20%20%20%20%20%20%20%20%20%20%20%20%20%20%20%7B%0A%20%20%22bubblingMouseEvents%22%3A%20true%2C%0A%20%20%22color%22%3A%20%22%231996f3%22%2C%0A%20%20%22dashArray%22%3A%20null%2C%0A%20%20%22dashOffset%22%3A%20null%2C%0A%20%20%22fill%22%3A%20true%2C%0A%20%20%22fillColor%22%3A%20%22%231996f3%22%2C%0A%20%20%22fillOpacity%22%3A%200.7%2C%0A%20%20%22fillRule%22%3A%20%22evenodd%22%2C%0A%20%20%22lineCap%22%3A%20%22round%22%2C%0A%20%20%22lineJoin%22%3A%20%22round%22%2C%0A%20%20%22opacity%22%3A%201.0%2C%0A%20%20%22radius%22%3A%205%2C%0A%20%20%22stroke%22%3A%20true%2C%0A%20%20%22weight%22%3A%203%0A%7D%0A%20%20%20%20%20%20%20%20%20%20%20%20%20%20%20%20%29%0A%20%20%20%20%20%20%20%20%20%20%20%20%20%20%20%20.addTo%28map_60c342cb0efd42cca2d79889e0aeb8c8%29%3B%0A%20%20%20%20%20%20%20%20%20%20%20%20%0A%20%20%20%20%0A%20%20%20%20%20%20%20%20%20%20%20%20var%20popup_d58d0c70a0714a6aa800a8683e5bccb5%20%3D%20L.popup%28%7BmaxWidth%3A%20%27100%25%27%0A%20%20%20%20%20%20%20%20%20%20%20%20%0A%20%20%20%20%20%20%20%20%20%20%20%20%7D%29%3B%0A%0A%20%20%20%20%20%20%20%20%20%20%20%20%0A%20%20%20%20%20%20%20%20%20%20%20%20%20%20%20%20var%20html_b3ebb4b6dd264079b51d89cbbaf52a9d%20%3D%20%24%28%60%3Cdiv%20id%3D%22html_b3ebb4b6dd264079b51d89cbbaf52a9d%22%20style%3D%22width%3A%20100.0%25%3B%20height%3A%20100.0%25%3B%22%3E%20Cluster%202%3C/div%3E%60%29%5B0%5D%3B%0A%20%20%20%20%20%20%20%20%20%20%20%20%20%20%20%20popup_d58d0c70a0714a6aa800a8683e5bccb5.setContent%28html_b3ebb4b6dd264079b51d89cbbaf52a9d%29%3B%0A%20%20%20%20%20%20%20%20%20%20%20%20%0A%0A%20%20%20%20%20%20%20%20%20%20%20%20circle_marker_f438684be50d45b1a5fc88b6362a07c7.bindPopup%28popup_d58d0c70a0714a6aa800a8683e5bccb5%29%0A%20%20%20%20%20%20%20%20%20%20%20%20%3B%0A%0A%20%20%20%20%20%20%20%20%20%20%20%20%0A%20%20%20%20%20%20%20%20%0A%20%20%20%20%0A%20%20%20%20%20%20%20%20%20%20%20%20var%20circle_marker_82b27435636d4a8aa4882a2dfa992d7c%20%3D%20L.circleMarker%28%0A%20%20%20%20%20%20%20%20%20%20%20%20%20%20%20%20%5B-23.6198179%2C%20-46.62680839999999%5D%2C%0A%20%20%20%20%20%20%20%20%20%20%20%20%20%20%20%20%7B%0A%20%20%22bubblingMouseEvents%22%3A%20true%2C%0A%20%20%22color%22%3A%20%22%23ff964f%22%2C%0A%20%20%22dashArray%22%3A%20null%2C%0A%20%20%22dashOffset%22%3A%20null%2C%0A%20%20%22fill%22%3A%20true%2C%0A%20%20%22fillColor%22%3A%20%22%23ff964f%22%2C%0A%20%20%22fillOpacity%22%3A%200.7%2C%0A%20%20%22fillRule%22%3A%20%22evenodd%22%2C%0A%20%20%22lineCap%22%3A%20%22round%22%2C%0A%20%20%22lineJoin%22%3A%20%22round%22%2C%0A%20%20%22opacity%22%3A%201.0%2C%0A%20%20%22radius%22%3A%205%2C%0A%20%20%22stroke%22%3A%20true%2C%0A%20%20%22weight%22%3A%203%0A%7D%0A%20%20%20%20%20%20%20%20%20%20%20%20%20%20%20%20%29%0A%20%20%20%20%20%20%20%20%20%20%20%20%20%20%20%20.addTo%28map_60c342cb0efd42cca2d79889e0aeb8c8%29%3B%0A%20%20%20%20%20%20%20%20%20%20%20%20%0A%20%20%20%20%0A%20%20%20%20%20%20%20%20%20%20%20%20var%20popup_50fa985592794faebd557f69e20b4594%20%3D%20L.popup%28%7BmaxWidth%3A%20%27100%25%27%0A%20%20%20%20%20%20%20%20%20%20%20%20%0A%20%20%20%20%20%20%20%20%20%20%20%20%7D%29%3B%0A%0A%20%20%20%20%20%20%20%20%20%20%20%20%0A%20%20%20%20%20%20%20%20%20%20%20%20%20%20%20%20var%20html_444c86db19b345d1bfb8a38d5fe59ddf%20%3D%20%24%28%60%3Cdiv%20id%3D%22html_444c86db19b345d1bfb8a38d5fe59ddf%22%20style%3D%22width%3A%20100.0%25%3B%20height%3A%20100.0%25%3B%22%3E%20Cluster%205%3C/div%3E%60%29%5B0%5D%3B%0A%20%20%20%20%20%20%20%20%20%20%20%20%20%20%20%20popup_50fa985592794faebd557f69e20b4594.setContent%28html_444c86db19b345d1bfb8a38d5fe59ddf%29%3B%0A%20%20%20%20%20%20%20%20%20%20%20%20%0A%0A%20%20%20%20%20%20%20%20%20%20%20%20circle_marker_82b27435636d4a8aa4882a2dfa992d7c.bindPopup%28popup_50fa985592794faebd557f69e20b4594%29%0A%20%20%20%20%20%20%20%20%20%20%20%20%3B%0A%0A%20%20%20%20%20%20%20%20%20%20%20%20%0A%20%20%20%20%20%20%20%20%0A%20%20%20%20%0A%20%20%20%20%20%20%20%20%20%20%20%20var%20circle_marker_744f7ae9c126487b8a2ad5e93f896178%20%3D%20L.circleMarker%28%0A%20%20%20%20%20%20%20%20%20%20%20%20%20%20%20%20%5B-23.567432%2C%20-46.5882487%5D%2C%0A%20%20%20%20%20%20%20%20%20%20%20%20%20%20%20%20%7B%0A%20%20%22bubblingMouseEvents%22%3A%20true%2C%0A%20%20%22color%22%3A%20%22%23ff964f%22%2C%0A%20%20%22dashArray%22%3A%20null%2C%0A%20%20%22dashOffset%22%3A%20null%2C%0A%20%20%22fill%22%3A%20true%2C%0A%20%20%22fillColor%22%3A%20%22%23ff964f%22%2C%0A%20%20%22fillOpacity%22%3A%200.7%2C%0A%20%20%22fillRule%22%3A%20%22evenodd%22%2C%0A%20%20%22lineCap%22%3A%20%22round%22%2C%0A%20%20%22lineJoin%22%3A%20%22round%22%2C%0A%20%20%22opacity%22%3A%201.0%2C%0A%20%20%22radius%22%3A%205%2C%0A%20%20%22stroke%22%3A%20true%2C%0A%20%20%22weight%22%3A%203%0A%7D%0A%20%20%20%20%20%20%20%20%20%20%20%20%20%20%20%20%29%0A%20%20%20%20%20%20%20%20%20%20%20%20%20%20%20%20.addTo%28map_60c342cb0efd42cca2d79889e0aeb8c8%29%3B%0A%20%20%20%20%20%20%20%20%20%20%20%20%0A%20%20%20%20%0A%20%20%20%20%20%20%20%20%20%20%20%20var%20popup_4496b438ff474f6dba5dc2357481645c%20%3D%20L.popup%28%7BmaxWidth%3A%20%27100%25%27%0A%20%20%20%20%20%20%20%20%20%20%20%20%0A%20%20%20%20%20%20%20%20%20%20%20%20%7D%29%3B%0A%0A%20%20%20%20%20%20%20%20%20%20%20%20%0A%20%20%20%20%20%20%20%20%20%20%20%20%20%20%20%20var%20html_8d6ce4a41b204880bae8b8f74f4c001f%20%3D%20%24%28%60%3Cdiv%20id%3D%22html_8d6ce4a41b204880bae8b8f74f4c001f%22%20style%3D%22width%3A%20100.0%25%3B%20height%3A%20100.0%25%3B%22%3E%20Cluster%205%3C/div%3E%60%29%5B0%5D%3B%0A%20%20%20%20%20%20%20%20%20%20%20%20%20%20%20%20popup_4496b438ff474f6dba5dc2357481645c.setContent%28html_8d6ce4a41b204880bae8b8f74f4c001f%29%3B%0A%20%20%20%20%20%20%20%20%20%20%20%20%0A%0A%20%20%20%20%20%20%20%20%20%20%20%20circle_marker_744f7ae9c126487b8a2ad5e93f896178.bindPopup%28popup_4496b438ff474f6dba5dc2357481645c%29%0A%20%20%20%20%20%20%20%20%20%20%20%20%3B%0A%0A%20%20%20%20%20%20%20%20%20%20%20%20%0A%20%20%20%20%20%20%20%20%0A%20%20%20%20%0A%20%20%20%20%20%20%20%20%20%20%20%20var%20circle_marker_c1a9c65ef55c4049b53f71a1d6ac52c2%20%3D%20L.circleMarker%28%0A%20%20%20%20%20%20%20%20%20%20%20%20%20%20%20%20%5B-23.5966062%2C%20-46.67934349999999%5D%2C%0A%20%20%20%20%20%20%20%20%20%20%20%20%20%20%20%20%7B%0A%20%20%22bubblingMouseEvents%22%3A%20true%2C%0A%20%20%22color%22%3A%20%22%23ff0000%22%2C%0A%20%20%22dashArray%22%3A%20null%2C%0A%20%20%22dashOffset%22%3A%20null%2C%0A%20%20%22fill%22%3A%20true%2C%0A%20%20%22fillColor%22%3A%20%22%23ff0000%22%2C%0A%20%20%22fillOpacity%22%3A%200.7%2C%0A%20%20%22fillRule%22%3A%20%22evenodd%22%2C%0A%20%20%22lineCap%22%3A%20%22round%22%2C%0A%20%20%22lineJoin%22%3A%20%22round%22%2C%0A%20%20%22opacity%22%3A%201.0%2C%0A%20%20%22radius%22%3A%205%2C%0A%20%20%22stroke%22%3A%20true%2C%0A%20%20%22weight%22%3A%203%0A%7D%0A%20%20%20%20%20%20%20%20%20%20%20%20%20%20%20%20%29%0A%20%20%20%20%20%20%20%20%20%20%20%20%20%20%20%20.addTo%28map_60c342cb0efd42cca2d79889e0aeb8c8%29%3B%0A%20%20%20%20%20%20%20%20%20%20%20%20%0A%20%20%20%20%0A%20%20%20%20%20%20%20%20%20%20%20%20var%20popup_ef7f968ddae1482c88dcbc5b7aac66bc%20%3D%20L.popup%28%7BmaxWidth%3A%20%27100%25%27%0A%20%20%20%20%20%20%20%20%20%20%20%20%0A%20%20%20%20%20%20%20%20%20%20%20%20%7D%29%3B%0A%0A%20%20%20%20%20%20%20%20%20%20%20%20%0A%20%20%20%20%20%20%20%20%20%20%20%20%20%20%20%20var%20html_18dd580924954ead852e260351288e71%20%3D%20%24%28%60%3Cdiv%20id%3D%22html_18dd580924954ead852e260351288e71%22%20style%3D%22width%3A%20100.0%25%3B%20height%3A%20100.0%25%3B%22%3E%20Cluster%200%3C/div%3E%60%29%5B0%5D%3B%0A%20%20%20%20%20%20%20%20%20%20%20%20%20%20%20%20popup_ef7f968ddae1482c88dcbc5b7aac66bc.setContent%28html_18dd580924954ead852e260351288e71%29%3B%0A%20%20%20%20%20%20%20%20%20%20%20%20%0A%0A%20%20%20%20%20%20%20%20%20%20%20%20circle_marker_c1a9c65ef55c4049b53f71a1d6ac52c2.bindPopup%28popup_ef7f968ddae1482c88dcbc5b7aac66bc%29%0A%20%20%20%20%20%20%20%20%20%20%20%20%3B%0A%0A%20%20%20%20%20%20%20%20%20%20%20%20%0A%20%20%20%20%20%20%20%20%0A%20%20%20%20%0A%20%20%20%20%20%20%20%20%20%20%20%20var%20circle_marker_7d3c035314cd4b5080d1321ac6e08996%20%3D%20L.circleMarker%28%0A%20%20%20%20%20%20%20%20%20%20%20%20%20%20%20%20%5B-23.5180305%2C%20-46.7041035%5D%2C%0A%20%20%20%20%20%20%20%20%20%20%20%20%20%20%20%20%7B%0A%20%20%22bubblingMouseEvents%22%3A%20true%2C%0A%20%20%22color%22%3A%20%22%238000ff%22%2C%0A%20%20%22dashArray%22%3A%20null%2C%0A%20%20%22dashOffset%22%3A%20null%2C%0A%20%20%22fill%22%3A%20true%2C%0A%20%20%22fillColor%22%3A%20%22%238000ff%22%2C%0A%20%20%22fillOpacity%22%3A%200.7%2C%0A%20%20%22fillRule%22%3A%20%22evenodd%22%2C%0A%20%20%22lineCap%22%3A%20%22round%22%2C%0A%20%20%22lineJoin%22%3A%20%22round%22%2C%0A%20%20%22opacity%22%3A%201.0%2C%0A%20%20%22radius%22%3A%205%2C%0A%20%20%22stroke%22%3A%20true%2C%0A%20%20%22weight%22%3A%203%0A%7D%0A%20%20%20%20%20%20%20%20%20%20%20%20%20%20%20%20%29%0A%20%20%20%20%20%20%20%20%20%20%20%20%20%20%20%20.addTo%28map_60c342cb0efd42cca2d79889e0aeb8c8%29%3B%0A%20%20%20%20%20%20%20%20%20%20%20%20%0A%20%20%20%20%0A%20%20%20%20%20%20%20%20%20%20%20%20var%20popup_b3039f1f9d51488c812f824fa097c1d1%20%3D%20L.popup%28%7BmaxWidth%3A%20%27100%25%27%0A%20%20%20%20%20%20%20%20%20%20%20%20%0A%20%20%20%20%20%20%20%20%20%20%20%20%7D%29%3B%0A%0A%20%20%20%20%20%20%20%20%20%20%20%20%0A%20%20%20%20%20%20%20%20%20%20%20%20%20%20%20%20var%20html_6a584407f9c5485e80c653fc674edf17%20%3D%20%24%28%60%3Cdiv%20id%3D%22html_6a584407f9c5485e80c653fc674edf17%22%20style%3D%22width%3A%20100.0%25%3B%20height%3A%20100.0%25%3B%22%3E%20Cluster%201%3C/div%3E%60%29%5B0%5D%3B%0A%20%20%20%20%20%20%20%20%20%20%20%20%20%20%20%20popup_b3039f1f9d51488c812f824fa097c1d1.setContent%28html_6a584407f9c5485e80c653fc674edf17%29%3B%0A%20%20%20%20%20%20%20%20%20%20%20%20%0A%0A%20%20%20%20%20%20%20%20%20%20%20%20circle_marker_7d3c035314cd4b5080d1321ac6e08996.bindPopup%28popup_b3039f1f9d51488c812f824fa097c1d1%29%0A%20%20%20%20%20%20%20%20%20%20%20%20%3B%0A%0A%20%20%20%20%20%20%20%20%20%20%20%20%0A%20%20%20%20%20%20%20%20%0A%20%20%20%20%0A%20%20%20%20%20%20%20%20%20%20%20%20var%20circle_marker_8b8ab66a8b43444ebf429de264172b1f%20%3D%20L.circleMarker%28%0A%20%20%20%20%20%20%20%20%20%20%20%20%20%20%20%20%5B-23.615213%2C%20-46.6730349%5D%2C%0A%20%20%20%20%20%20%20%20%20%20%20%20%20%20%20%20%7B%0A%20%20%22bubblingMouseEvents%22%3A%20true%2C%0A%20%20%22color%22%3A%20%22%238000ff%22%2C%0A%20%20%22dashArray%22%3A%20null%2C%0A%20%20%22dashOffset%22%3A%20null%2C%0A%20%20%22fill%22%3A%20true%2C%0A%20%20%22fillColor%22%3A%20%22%238000ff%22%2C%0A%20%20%22fillOpacity%22%3A%200.7%2C%0A%20%20%22fillRule%22%3A%20%22evenodd%22%2C%0A%20%20%22lineCap%22%3A%20%22round%22%2C%0A%20%20%22lineJoin%22%3A%20%22round%22%2C%0A%20%20%22opacity%22%3A%201.0%2C%0A%20%20%22radius%22%3A%205%2C%0A%20%20%22stroke%22%3A%20true%2C%0A%20%20%22weight%22%3A%203%0A%7D%0A%20%20%20%20%20%20%20%20%20%20%20%20%20%20%20%20%29%0A%20%20%20%20%20%20%20%20%20%20%20%20%20%20%20%20.addTo%28map_60c342cb0efd42cca2d79889e0aeb8c8%29%3B%0A%20%20%20%20%20%20%20%20%20%20%20%20%0A%20%20%20%20%0A%20%20%20%20%20%20%20%20%20%20%20%20var%20popup_8924dfac2ba14696b39c956d561f0ceb%20%3D%20L.popup%28%7BmaxWidth%3A%20%27100%25%27%0A%20%20%20%20%20%20%20%20%20%20%20%20%0A%20%20%20%20%20%20%20%20%20%20%20%20%7D%29%3B%0A%0A%20%20%20%20%20%20%20%20%20%20%20%20%0A%20%20%20%20%20%20%20%20%20%20%20%20%20%20%20%20var%20html_ca8151546c474fb6900e70870be34063%20%3D%20%24%28%60%3Cdiv%20id%3D%22html_ca8151546c474fb6900e70870be34063%22%20style%3D%22width%3A%20100.0%25%3B%20height%3A%20100.0%25%3B%22%3E%20Cluster%201%3C/div%3E%60%29%5B0%5D%3B%0A%20%20%20%20%20%20%20%20%20%20%20%20%20%20%20%20popup_8924dfac2ba14696b39c956d561f0ceb.setContent%28html_ca8151546c474fb6900e70870be34063%29%3B%0A%20%20%20%20%20%20%20%20%20%20%20%20%0A%0A%20%20%20%20%20%20%20%20%20%20%20%20circle_marker_8b8ab66a8b43444ebf429de264172b1f.bindPopup%28popup_8924dfac2ba14696b39c956d561f0ceb%29%0A%20%20%20%20%20%20%20%20%20%20%20%20%3B%0A%0A%20%20%20%20%20%20%20%20%20%20%20%20%0A%20%20%20%20%20%20%20%20%0A%20%20%20%20%0A%20%20%20%20%20%20%20%20%20%20%20%20var%20circle_marker_c302975ec9fe4db5a97230ea701d8694%20%3D%20L.circleMarker%28%0A%20%20%20%20%20%20%20%20%20%20%20%20%20%20%20%20%5B-23.6169209%2C%20-46.6729427%5D%2C%0A%20%20%20%20%20%20%20%20%20%20%20%20%20%20%20%20%7B%0A%20%20%22bubblingMouseEvents%22%3A%20true%2C%0A%20%20%22color%22%3A%20%22%234df3ce%22%2C%0A%20%20%22dashArray%22%3A%20null%2C%0A%20%20%22dashOffset%22%3A%20null%2C%0A%20%20%22fill%22%3A%20true%2C%0A%20%20%22fillColor%22%3A%20%22%234df3ce%22%2C%0A%20%20%22fillOpacity%22%3A%200.7%2C%0A%20%20%22fillRule%22%3A%20%22evenodd%22%2C%0A%20%20%22lineCap%22%3A%20%22round%22%2C%0A%20%20%22lineJoin%22%3A%20%22round%22%2C%0A%20%20%22opacity%22%3A%201.0%2C%0A%20%20%22radius%22%3A%205%2C%0A%20%20%22stroke%22%3A%20true%2C%0A%20%20%22weight%22%3A%203%0A%7D%0A%20%20%20%20%20%20%20%20%20%20%20%20%20%20%20%20%29%0A%20%20%20%20%20%20%20%20%20%20%20%20%20%20%20%20.addTo%28map_60c342cb0efd42cca2d79889e0aeb8c8%29%3B%0A%20%20%20%20%20%20%20%20%20%20%20%20%0A%20%20%20%20%0A%20%20%20%20%20%20%20%20%20%20%20%20var%20popup_572351e69abb4cd89d0fce0d5ef62ee6%20%3D%20L.popup%28%7BmaxWidth%3A%20%27100%25%27%0A%20%20%20%20%20%20%20%20%20%20%20%20%0A%20%20%20%20%20%20%20%20%20%20%20%20%7D%29%3B%0A%0A%20%20%20%20%20%20%20%20%20%20%20%20%0A%20%20%20%20%20%20%20%20%20%20%20%20%20%20%20%20var%20html_fae1d66cb1fa47cc97700e07710b014a%20%3D%20%24%28%60%3Cdiv%20id%3D%22html_fae1d66cb1fa47cc97700e07710b014a%22%20style%3D%22width%3A%20100.0%25%3B%20height%3A%20100.0%25%3B%22%3E%20Cluster%203%3C/div%3E%60%29%5B0%5D%3B%0A%20%20%20%20%20%20%20%20%20%20%20%20%20%20%20%20popup_572351e69abb4cd89d0fce0d5ef62ee6.setContent%28html_fae1d66cb1fa47cc97700e07710b014a%29%3B%0A%20%20%20%20%20%20%20%20%20%20%20%20%0A%0A%20%20%20%20%20%20%20%20%20%20%20%20circle_marker_c302975ec9fe4db5a97230ea701d8694.bindPopup%28popup_572351e69abb4cd89d0fce0d5ef62ee6%29%0A%20%20%20%20%20%20%20%20%20%20%20%20%3B%0A%0A%20%20%20%20%20%20%20%20%20%20%20%20%0A%20%20%20%20%20%20%20%20%0A%20%20%20%20%0A%20%20%20%20%20%20%20%20%20%20%20%20var%20circle_marker_9ae041940f59451da8f204994ee1cf99%20%3D%20L.circleMarker%28%0A%20%20%20%20%20%20%20%20%20%20%20%20%20%20%20%20%5B-23.7137237%2C%20-46.7054206%5D%2C%0A%20%20%20%20%20%20%20%20%20%20%20%20%20%20%20%20%7B%0A%20%20%22bubblingMouseEvents%22%3A%20true%2C%0A%20%20%22color%22%3A%20%22%238000ff%22%2C%0A%20%20%22dashArray%22%3A%20null%2C%0A%20%20%22dashOffset%22%3A%20null%2C%0A%20%20%22fill%22%3A%20true%2C%0A%20%20%22fillColor%22%3A%20%22%238000ff%22%2C%0A%20%20%22fillOpacity%22%3A%200.7%2C%0A%20%20%22fillRule%22%3A%20%22evenodd%22%2C%0A%20%20%22lineCap%22%3A%20%22round%22%2C%0A%20%20%22lineJoin%22%3A%20%22round%22%2C%0A%20%20%22opacity%22%3A%201.0%2C%0A%20%20%22radius%22%3A%205%2C%0A%20%20%22stroke%22%3A%20true%2C%0A%20%20%22weight%22%3A%203%0A%7D%0A%20%20%20%20%20%20%20%20%20%20%20%20%20%20%20%20%29%0A%20%20%20%20%20%20%20%20%20%20%20%20%20%20%20%20.addTo%28map_60c342cb0efd42cca2d79889e0aeb8c8%29%3B%0A%20%20%20%20%20%20%20%20%20%20%20%20%0A%20%20%20%20%0A%20%20%20%20%20%20%20%20%20%20%20%20var%20popup_a0522aa0a67d4e57a41555b9b672163f%20%3D%20L.popup%28%7BmaxWidth%3A%20%27100%25%27%0A%20%20%20%20%20%20%20%20%20%20%20%20%0A%20%20%20%20%20%20%20%20%20%20%20%20%7D%29%3B%0A%0A%20%20%20%20%20%20%20%20%20%20%20%20%0A%20%20%20%20%20%20%20%20%20%20%20%20%20%20%20%20var%20html_b627d9b8d7bd446aa6e0dbfe4a0ba2e1%20%3D%20%24%28%60%3Cdiv%20id%3D%22html_b627d9b8d7bd446aa6e0dbfe4a0ba2e1%22%20style%3D%22width%3A%20100.0%25%3B%20height%3A%20100.0%25%3B%22%3E%20Cluster%201%3C/div%3E%60%29%5B0%5D%3B%0A%20%20%20%20%20%20%20%20%20%20%20%20%20%20%20%20popup_a0522aa0a67d4e57a41555b9b672163f.setContent%28html_b627d9b8d7bd446aa6e0dbfe4a0ba2e1%29%3B%0A%20%20%20%20%20%20%20%20%20%20%20%20%0A%0A%20%20%20%20%20%20%20%20%20%20%20%20circle_marker_9ae041940f59451da8f204994ee1cf99.bindPopup%28popup_a0522aa0a67d4e57a41555b9b672163f%29%0A%20%20%20%20%20%20%20%20%20%20%20%20%3B%0A%0A%20%20%20%20%20%20%20%20%20%20%20%20%0A%20%20%20%20%20%20%20%20%0A%20%20%20%20%0A%20%20%20%20%20%20%20%20%20%20%20%20var%20circle_marker_6d49d43d107640fcb268442709664eaf%20%3D%20L.circleMarker%28%0A%20%20%20%20%20%20%20%20%20%20%20%20%20%20%20%20%5B-23.6198783%2C%20-46.6936771%5D%2C%0A%20%20%20%20%20%20%20%20%20%20%20%20%20%20%20%20%7B%0A%20%20%22bubblingMouseEvents%22%3A%20true%2C%0A%20%20%22color%22%3A%20%22%231996f3%22%2C%0A%20%20%22dashArray%22%3A%20null%2C%0A%20%20%22dashOffset%22%3A%20null%2C%0A%20%20%22fill%22%3A%20true%2C%0A%20%20%22fillColor%22%3A%20%22%231996f3%22%2C%0A%20%20%22fillOpacity%22%3A%200.7%2C%0A%20%20%22fillRule%22%3A%20%22evenodd%22%2C%0A%20%20%22lineCap%22%3A%20%22round%22%2C%0A%20%20%22lineJoin%22%3A%20%22round%22%2C%0A%20%20%22opacity%22%3A%201.0%2C%0A%20%20%22radius%22%3A%205%2C%0A%20%20%22stroke%22%3A%20true%2C%0A%20%20%22weight%22%3A%203%0A%7D%0A%20%20%20%20%20%20%20%20%20%20%20%20%20%20%20%20%29%0A%20%20%20%20%20%20%20%20%20%20%20%20%20%20%20%20.addTo%28map_60c342cb0efd42cca2d79889e0aeb8c8%29%3B%0A%20%20%20%20%20%20%20%20%20%20%20%20%0A%20%20%20%20%0A%20%20%20%20%20%20%20%20%20%20%20%20var%20popup_72cf61b1b2c64b43a1b706f55817c036%20%3D%20L.popup%28%7BmaxWidth%3A%20%27100%25%27%0A%20%20%20%20%20%20%20%20%20%20%20%20%0A%20%20%20%20%20%20%20%20%20%20%20%20%7D%29%3B%0A%0A%20%20%20%20%20%20%20%20%20%20%20%20%0A%20%20%20%20%20%20%20%20%20%20%20%20%20%20%20%20var%20html_44408869560142ef99421bb3671e1afd%20%3D%20%24%28%60%3Cdiv%20id%3D%22html_44408869560142ef99421bb3671e1afd%22%20style%3D%22width%3A%20100.0%25%3B%20height%3A%20100.0%25%3B%22%3E%20Cluster%202%3C/div%3E%60%29%5B0%5D%3B%0A%20%20%20%20%20%20%20%20%20%20%20%20%20%20%20%20popup_72cf61b1b2c64b43a1b706f55817c036.setContent%28html_44408869560142ef99421bb3671e1afd%29%3B%0A%20%20%20%20%20%20%20%20%20%20%20%20%0A%0A%20%20%20%20%20%20%20%20%20%20%20%20circle_marker_6d49d43d107640fcb268442709664eaf.bindPopup%28popup_72cf61b1b2c64b43a1b706f55817c036%29%0A%20%20%20%20%20%20%20%20%20%20%20%20%3B%0A%0A%20%20%20%20%20%20%20%20%20%20%20%20%0A%20%20%20%20%20%20%20%20%0A%20%20%20%20%0A%20%20%20%20%20%20%20%20%20%20%20%20var%20circle_marker_e40f51ddd5a042b5b9415ff45a67e28e%20%3D%20L.circleMarker%28%0A%20%20%20%20%20%20%20%20%20%20%20%20%20%20%20%20%5B-23.5592161%2C%20-46.68799310000001%5D%2C%0A%20%20%20%20%20%20%20%20%20%20%20%20%20%20%20%20%7B%0A%20%20%22bubblingMouseEvents%22%3A%20true%2C%0A%20%20%22color%22%3A%20%22%231996f3%22%2C%0A%20%20%22dashArray%22%3A%20null%2C%0A%20%20%22dashOffset%22%3A%20null%2C%0A%20%20%22fill%22%3A%20true%2C%0A%20%20%22fillColor%22%3A%20%22%231996f3%22%2C%0A%20%20%22fillOpacity%22%3A%200.7%2C%0A%20%20%22fillRule%22%3A%20%22evenodd%22%2C%0A%20%20%22lineCap%22%3A%20%22round%22%2C%0A%20%20%22lineJoin%22%3A%20%22round%22%2C%0A%20%20%22opacity%22%3A%201.0%2C%0A%20%20%22radius%22%3A%205%2C%0A%20%20%22stroke%22%3A%20true%2C%0A%20%20%22weight%22%3A%203%0A%7D%0A%20%20%20%20%20%20%20%20%20%20%20%20%20%20%20%20%29%0A%20%20%20%20%20%20%20%20%20%20%20%20%20%20%20%20.addTo%28map_60c342cb0efd42cca2d79889e0aeb8c8%29%3B%0A%20%20%20%20%20%20%20%20%20%20%20%20%0A%20%20%20%20%0A%20%20%20%20%20%20%20%20%20%20%20%20var%20popup_2a17226c8c3f41b6afb125239e31055b%20%3D%20L.popup%28%7BmaxWidth%3A%20%27100%25%27%0A%20%20%20%20%20%20%20%20%20%20%20%20%0A%20%20%20%20%20%20%20%20%20%20%20%20%7D%29%3B%0A%0A%20%20%20%20%20%20%20%20%20%20%20%20%0A%20%20%20%20%20%20%20%20%20%20%20%20%20%20%20%20var%20html_d753e6a62c0c41faa370b17f6e75f1b2%20%3D%20%24%28%60%3Cdiv%20id%3D%22html_d753e6a62c0c41faa370b17f6e75f1b2%22%20style%3D%22width%3A%20100.0%25%3B%20height%3A%20100.0%25%3B%22%3E%20Cluster%202%3C/div%3E%60%29%5B0%5D%3B%0A%20%20%20%20%20%20%20%20%20%20%20%20%20%20%20%20popup_2a17226c8c3f41b6afb125239e31055b.setContent%28html_d753e6a62c0c41faa370b17f6e75f1b2%29%3B%0A%20%20%20%20%20%20%20%20%20%20%20%20%0A%0A%20%20%20%20%20%20%20%20%20%20%20%20circle_marker_e40f51ddd5a042b5b9415ff45a67e28e.bindPopup%28popup_2a17226c8c3f41b6afb125239e31055b%29%0A%20%20%20%20%20%20%20%20%20%20%20%20%3B%0A%0A%20%20%20%20%20%20%20%20%20%20%20%20%0A%20%20%20%20%20%20%20%20%0A%20%20%20%20%0A%20%20%20%20%20%20%20%20%20%20%20%20var%20circle_marker_eb4fadbd60a5472caa68f6a1c62fd243%20%3D%20L.circleMarker%28%0A%20%20%20%20%20%20%20%20%20%20%20%20%20%20%20%20%5B-23.5219993%2C%20-46.7007895%5D%2C%0A%20%20%20%20%20%20%20%20%20%20%20%20%20%20%20%20%7B%0A%20%20%22bubblingMouseEvents%22%3A%20true%2C%0A%20%20%22color%22%3A%20%22%231996f3%22%2C%0A%20%20%22dashArray%22%3A%20null%2C%0A%20%20%22dashOffset%22%3A%20null%2C%0A%20%20%22fill%22%3A%20true%2C%0A%20%20%22fillColor%22%3A%20%22%231996f3%22%2C%0A%20%20%22fillOpacity%22%3A%200.7%2C%0A%20%20%22fillRule%22%3A%20%22evenodd%22%2C%0A%20%20%22lineCap%22%3A%20%22round%22%2C%0A%20%20%22lineJoin%22%3A%20%22round%22%2C%0A%20%20%22opacity%22%3A%201.0%2C%0A%20%20%22radius%22%3A%205%2C%0A%20%20%22stroke%22%3A%20true%2C%0A%20%20%22weight%22%3A%203%0A%7D%0A%20%20%20%20%20%20%20%20%20%20%20%20%20%20%20%20%29%0A%20%20%20%20%20%20%20%20%20%20%20%20%20%20%20%20.addTo%28map_60c342cb0efd42cca2d79889e0aeb8c8%29%3B%0A%20%20%20%20%20%20%20%20%20%20%20%20%0A%20%20%20%20%0A%20%20%20%20%20%20%20%20%20%20%20%20var%20popup_ed931d7ff7e445dba844f8e93f42862e%20%3D%20L.popup%28%7BmaxWidth%3A%20%27100%25%27%0A%20%20%20%20%20%20%20%20%20%20%20%20%0A%20%20%20%20%20%20%20%20%20%20%20%20%7D%29%3B%0A%0A%20%20%20%20%20%20%20%20%20%20%20%20%0A%20%20%20%20%20%20%20%20%20%20%20%20%20%20%20%20var%20html_60c1015ce770415891adc0d010322993%20%3D%20%24%28%60%3Cdiv%20id%3D%22html_60c1015ce770415891adc0d010322993%22%20style%3D%22width%3A%20100.0%25%3B%20height%3A%20100.0%25%3B%22%3E%20Cluster%202%3C/div%3E%60%29%5B0%5D%3B%0A%20%20%20%20%20%20%20%20%20%20%20%20%20%20%20%20popup_ed931d7ff7e445dba844f8e93f42862e.setContent%28html_60c1015ce770415891adc0d010322993%29%3B%0A%20%20%20%20%20%20%20%20%20%20%20%20%0A%0A%20%20%20%20%20%20%20%20%20%20%20%20circle_marker_eb4fadbd60a5472caa68f6a1c62fd243.bindPopup%28popup_ed931d7ff7e445dba844f8e93f42862e%29%0A%20%20%20%20%20%20%20%20%20%20%20%20%3B%0A%0A%20%20%20%20%20%20%20%20%20%20%20%20%0A%20%20%20%20%20%20%20%20%0A%20%20%20%20%0A%20%20%20%20%20%20%20%20%20%20%20%20var%20circle_marker_0cf7c6b96af64a9687c948a1ef356717%20%3D%20L.circleMarker%28%0A%20%20%20%20%20%20%20%20%20%20%20%20%20%20%20%20%5B-23.5492994%2C%20-46.683555%5D%2C%0A%20%20%20%20%20%20%20%20%20%20%20%20%20%20%20%20%7B%0A%20%20%22bubblingMouseEvents%22%3A%20true%2C%0A%20%20%22color%22%3A%20%22%234df3ce%22%2C%0A%20%20%22dashArray%22%3A%20null%2C%0A%20%20%22dashOffset%22%3A%20null%2C%0A%20%20%22fill%22%3A%20true%2C%0A%20%20%22fillColor%22%3A%20%22%234df3ce%22%2C%0A%20%20%22fillOpacity%22%3A%200.7%2C%0A%20%20%22fillRule%22%3A%20%22evenodd%22%2C%0A%20%20%22lineCap%22%3A%20%22round%22%2C%0A%20%20%22lineJoin%22%3A%20%22round%22%2C%0A%20%20%22opacity%22%3A%201.0%2C%0A%20%20%22radius%22%3A%205%2C%0A%20%20%22stroke%22%3A%20true%2C%0A%20%20%22weight%22%3A%203%0A%7D%0A%20%20%20%20%20%20%20%20%20%20%20%20%20%20%20%20%29%0A%20%20%20%20%20%20%20%20%20%20%20%20%20%20%20%20.addTo%28map_60c342cb0efd42cca2d79889e0aeb8c8%29%3B%0A%20%20%20%20%20%20%20%20%20%20%20%20%0A%20%20%20%20%0A%20%20%20%20%20%20%20%20%20%20%20%20var%20popup_4bf76aebe169448a923b2f2927f27db8%20%3D%20L.popup%28%7BmaxWidth%3A%20%27100%25%27%0A%20%20%20%20%20%20%20%20%20%20%20%20%0A%20%20%20%20%20%20%20%20%20%20%20%20%7D%29%3B%0A%0A%20%20%20%20%20%20%20%20%20%20%20%20%0A%20%20%20%20%20%20%20%20%20%20%20%20%20%20%20%20var%20html_78f34ad946e245bbb7f156156f648e97%20%3D%20%24%28%60%3Cdiv%20id%3D%22html_78f34ad946e245bbb7f156156f648e97%22%20style%3D%22width%3A%20100.0%25%3B%20height%3A%20100.0%25%3B%22%3E%20Cluster%203%3C/div%3E%60%29%5B0%5D%3B%0A%20%20%20%20%20%20%20%20%20%20%20%20%20%20%20%20popup_4bf76aebe169448a923b2f2927f27db8.setContent%28html_78f34ad946e245bbb7f156156f648e97%29%3B%0A%20%20%20%20%20%20%20%20%20%20%20%20%0A%0A%20%20%20%20%20%20%20%20%20%20%20%20circle_marker_0cf7c6b96af64a9687c948a1ef356717.bindPopup%28popup_4bf76aebe169448a923b2f2927f27db8%29%0A%20%20%20%20%20%20%20%20%20%20%20%20%3B%0A%0A%20%20%20%20%20%20%20%20%20%20%20%20%0A%20%20%20%20%20%20%20%20%0A%20%20%20%20%0A%20%20%20%20%20%20%20%20%20%20%20%20var%20circle_marker_aad30b2ba9d0481aab9beba16057e957%20%3D%20L.circleMarker%28%0A%20%20%20%20%20%20%20%20%20%20%20%20%20%20%20%20%5B-23.4973417%2C%20-46.7034321%5D%2C%0A%20%20%20%20%20%20%20%20%20%20%20%20%20%20%20%20%7B%0A%20%20%22bubblingMouseEvents%22%3A%20true%2C%0A%20%20%22color%22%3A%20%22%23ff0000%22%2C%0A%20%20%22dashArray%22%3A%20null%2C%0A%20%20%22dashOffset%22%3A%20null%2C%0A%20%20%22fill%22%3A%20true%2C%0A%20%20%22fillColor%22%3A%20%22%23ff0000%22%2C%0A%20%20%22fillOpacity%22%3A%200.7%2C%0A%20%20%22fillRule%22%3A%20%22evenodd%22%2C%0A%20%20%22lineCap%22%3A%20%22round%22%2C%0A%20%20%22lineJoin%22%3A%20%22round%22%2C%0A%20%20%22opacity%22%3A%201.0%2C%0A%20%20%22radius%22%3A%205%2C%0A%20%20%22stroke%22%3A%20true%2C%0A%20%20%22weight%22%3A%203%0A%7D%0A%20%20%20%20%20%20%20%20%20%20%20%20%20%20%20%20%29%0A%20%20%20%20%20%20%20%20%20%20%20%20%20%20%20%20.addTo%28map_60c342cb0efd42cca2d79889e0aeb8c8%29%3B%0A%20%20%20%20%20%20%20%20%20%20%20%20%0A%20%20%20%20%0A%20%20%20%20%20%20%20%20%20%20%20%20var%20popup_63a51fc9983948bfa208e9d477491fab%20%3D%20L.popup%28%7BmaxWidth%3A%20%27100%25%27%0A%20%20%20%20%20%20%20%20%20%20%20%20%0A%20%20%20%20%20%20%20%20%20%20%20%20%7D%29%3B%0A%0A%20%20%20%20%20%20%20%20%20%20%20%20%0A%20%20%20%20%20%20%20%20%20%20%20%20%20%20%20%20var%20html_5f4c8e4fa61b45fda4f107bc0e34c3cf%20%3D%20%24%28%60%3Cdiv%20id%3D%22html_5f4c8e4fa61b45fda4f107bc0e34c3cf%22%20style%3D%22width%3A%20100.0%25%3B%20height%3A%20100.0%25%3B%22%3E%20Cluster%200%3C/div%3E%60%29%5B0%5D%3B%0A%20%20%20%20%20%20%20%20%20%20%20%20%20%20%20%20popup_63a51fc9983948bfa208e9d477491fab.setContent%28html_5f4c8e4fa61b45fda4f107bc0e34c3cf%29%3B%0A%20%20%20%20%20%20%20%20%20%20%20%20%0A%0A%20%20%20%20%20%20%20%20%20%20%20%20circle_marker_aad30b2ba9d0481aab9beba16057e957.bindPopup%28popup_63a51fc9983948bfa208e9d477491fab%29%0A%20%20%20%20%20%20%20%20%20%20%20%20%3B%0A%0A%20%20%20%20%20%20%20%20%20%20%20%20%0A%20%20%20%20%20%20%20%20%0A%20%20%20%20%0A%20%20%20%20%20%20%20%20%20%20%20%20var%20circle_marker_fa2b53a8ab984bb3abc5565dc2fa2d36%20%3D%20L.circleMarker%28%0A%20%20%20%20%20%20%20%20%20%20%20%20%20%20%20%20%5B-23.577089%2C%20-46.5876848%5D%2C%0A%20%20%20%20%20%20%20%20%20%20%20%20%20%20%20%20%7B%0A%20%20%22bubblingMouseEvents%22%3A%20true%2C%0A%20%20%22color%22%3A%20%22%23ff0000%22%2C%0A%20%20%22dashArray%22%3A%20null%2C%0A%20%20%22dashOffset%22%3A%20null%2C%0A%20%20%22fill%22%3A%20true%2C%0A%20%20%22fillColor%22%3A%20%22%23ff0000%22%2C%0A%20%20%22fillOpacity%22%3A%200.7%2C%0A%20%20%22fillRule%22%3A%20%22evenodd%22%2C%0A%20%20%22lineCap%22%3A%20%22round%22%2C%0A%20%20%22lineJoin%22%3A%20%22round%22%2C%0A%20%20%22opacity%22%3A%201.0%2C%0A%20%20%22radius%22%3A%205%2C%0A%20%20%22stroke%22%3A%20true%2C%0A%20%20%22weight%22%3A%203%0A%7D%0A%20%20%20%20%20%20%20%20%20%20%20%20%20%20%20%20%29%0A%20%20%20%20%20%20%20%20%20%20%20%20%20%20%20%20.addTo%28map_60c342cb0efd42cca2d79889e0aeb8c8%29%3B%0A%20%20%20%20%20%20%20%20%20%20%20%20%0A%20%20%20%20%0A%20%20%20%20%20%20%20%20%20%20%20%20var%20popup_a33b5613416f404da180e913975581a9%20%3D%20L.popup%28%7BmaxWidth%3A%20%27100%25%27%0A%20%20%20%20%20%20%20%20%20%20%20%20%0A%20%20%20%20%20%20%20%20%20%20%20%20%7D%29%3B%0A%0A%20%20%20%20%20%20%20%20%20%20%20%20%0A%20%20%20%20%20%20%20%20%20%20%20%20%20%20%20%20var%20html_4ac6008830aa482985179db8e6cb1700%20%3D%20%24%28%60%3Cdiv%20id%3D%22html_4ac6008830aa482985179db8e6cb1700%22%20style%3D%22width%3A%20100.0%25%3B%20height%3A%20100.0%25%3B%22%3E%20Cluster%200%3C/div%3E%60%29%5B0%5D%3B%0A%20%20%20%20%20%20%20%20%20%20%20%20%20%20%20%20popup_a33b5613416f404da180e913975581a9.setContent%28html_4ac6008830aa482985179db8e6cb1700%29%3B%0A%20%20%20%20%20%20%20%20%20%20%20%20%0A%0A%20%20%20%20%20%20%20%20%20%20%20%20circle_marker_fa2b53a8ab984bb3abc5565dc2fa2d36.bindPopup%28popup_a33b5613416f404da180e913975581a9%29%0A%20%20%20%20%20%20%20%20%20%20%20%20%3B%0A%0A%20%20%20%20%20%20%20%20%20%20%20%20%0A%20%20%20%20%20%20%20%20%0A%20%20%20%20%0A%20%20%20%20%20%20%20%20%20%20%20%20var%20circle_marker_9ddf42cf38d04dabaf5d76f2e202111c%20%3D%20L.circleMarker%28%0A%20%20%20%20%20%20%20%20%20%20%20%20%20%20%20%20%5B-23.5069934%2C%20-46.6252499%5D%2C%0A%20%20%20%20%20%20%20%20%20%20%20%20%20%20%20%20%7B%0A%20%20%22bubblingMouseEvents%22%3A%20true%2C%0A%20%20%22color%22%3A%20%22%23ff964f%22%2C%0A%20%20%22dashArray%22%3A%20null%2C%0A%20%20%22dashOffset%22%3A%20null%2C%0A%20%20%22fill%22%3A%20true%2C%0A%20%20%22fillColor%22%3A%20%22%23ff964f%22%2C%0A%20%20%22fillOpacity%22%3A%200.7%2C%0A%20%20%22fillRule%22%3A%20%22evenodd%22%2C%0A%20%20%22lineCap%22%3A%20%22round%22%2C%0A%20%20%22lineJoin%22%3A%20%22round%22%2C%0A%20%20%22opacity%22%3A%201.0%2C%0A%20%20%22radius%22%3A%205%2C%0A%20%20%22stroke%22%3A%20true%2C%0A%20%20%22weight%22%3A%203%0A%7D%0A%20%20%20%20%20%20%20%20%20%20%20%20%20%20%20%20%29%0A%20%20%20%20%20%20%20%20%20%20%20%20%20%20%20%20.addTo%28map_60c342cb0efd42cca2d79889e0aeb8c8%29%3B%0A%20%20%20%20%20%20%20%20%20%20%20%20%0A%20%20%20%20%0A%20%20%20%20%20%20%20%20%20%20%20%20var%20popup_f33374de156640de98f0d87de2fedc72%20%3D%20L.popup%28%7BmaxWidth%3A%20%27100%25%27%0A%20%20%20%20%20%20%20%20%20%20%20%20%0A%20%20%20%20%20%20%20%20%20%20%20%20%7D%29%3B%0A%0A%20%20%20%20%20%20%20%20%20%20%20%20%0A%20%20%20%20%20%20%20%20%20%20%20%20%20%20%20%20var%20html_8729a8dcfeb64aacaaf7dd6d9a872237%20%3D%20%24%28%60%3Cdiv%20id%3D%22html_8729a8dcfeb64aacaaf7dd6d9a872237%22%20style%3D%22width%3A%20100.0%25%3B%20height%3A%20100.0%25%3B%22%3E%20Cluster%205%3C/div%3E%60%29%5B0%5D%3B%0A%20%20%20%20%20%20%20%20%20%20%20%20%20%20%20%20popup_f33374de156640de98f0d87de2fedc72.setContent%28html_8729a8dcfeb64aacaaf7dd6d9a872237%29%3B%0A%20%20%20%20%20%20%20%20%20%20%20%20%0A%0A%20%20%20%20%20%20%20%20%20%20%20%20circle_marker_9ddf42cf38d04dabaf5d76f2e202111c.bindPopup%28popup_f33374de156640de98f0d87de2fedc72%29%0A%20%20%20%20%20%20%20%20%20%20%20%20%3B%0A%0A%20%20%20%20%20%20%20%20%20%20%20%20%0A%20%20%20%20%20%20%20%20%0A%20%20%20%20%0A%20%20%20%20%20%20%20%20%20%20%20%20var%20circle_marker_009963dbd0144212b358e7ea3f334810%20%3D%20L.circleMarker%28%0A%20%20%20%20%20%20%20%20%20%20%20%20%20%20%20%20%5B-23.5218596%2C%20-46.5792539%5D%2C%0A%20%20%20%20%20%20%20%20%20%20%20%20%20%20%20%20%7B%0A%20%20%22bubblingMouseEvents%22%3A%20true%2C%0A%20%20%22color%22%3A%20%22%23ff0000%22%2C%0A%20%20%22dashArray%22%3A%20null%2C%0A%20%20%22dashOffset%22%3A%20null%2C%0A%20%20%22fill%22%3A%20true%2C%0A%20%20%22fillColor%22%3A%20%22%23ff0000%22%2C%0A%20%20%22fillOpacity%22%3A%200.7%2C%0A%20%20%22fillRule%22%3A%20%22evenodd%22%2C%0A%20%20%22lineCap%22%3A%20%22round%22%2C%0A%20%20%22lineJoin%22%3A%20%22round%22%2C%0A%20%20%22opacity%22%3A%201.0%2C%0A%20%20%22radius%22%3A%205%2C%0A%20%20%22stroke%22%3A%20true%2C%0A%20%20%22weight%22%3A%203%0A%7D%0A%20%20%20%20%20%20%20%20%20%20%20%20%20%20%20%20%29%0A%20%20%20%20%20%20%20%20%20%20%20%20%20%20%20%20.addTo%28map_60c342cb0efd42cca2d79889e0aeb8c8%29%3B%0A%20%20%20%20%20%20%20%20%20%20%20%20%0A%20%20%20%20%0A%20%20%20%20%20%20%20%20%20%20%20%20var%20popup_9e7312dc0e014faf8bd85c918b05f5af%20%3D%20L.popup%28%7BmaxWidth%3A%20%27100%25%27%0A%20%20%20%20%20%20%20%20%20%20%20%20%0A%20%20%20%20%20%20%20%20%20%20%20%20%7D%29%3B%0A%0A%20%20%20%20%20%20%20%20%20%20%20%20%0A%20%20%20%20%20%20%20%20%20%20%20%20%20%20%20%20var%20html_0f1f12c1d90c4b5ca8050e81a672aa07%20%3D%20%24%28%60%3Cdiv%20id%3D%22html_0f1f12c1d90c4b5ca8050e81a672aa07%22%20style%3D%22width%3A%20100.0%25%3B%20height%3A%20100.0%25%3B%22%3E%20Cluster%200%3C/div%3E%60%29%5B0%5D%3B%0A%20%20%20%20%20%20%20%20%20%20%20%20%20%20%20%20popup_9e7312dc0e014faf8bd85c918b05f5af.setContent%28html_0f1f12c1d90c4b5ca8050e81a672aa07%29%3B%0A%20%20%20%20%20%20%20%20%20%20%20%20%0A%0A%20%20%20%20%20%20%20%20%20%20%20%20circle_marker_009963dbd0144212b358e7ea3f334810.bindPopup%28popup_9e7312dc0e014faf8bd85c918b05f5af%29%0A%20%20%20%20%20%20%20%20%20%20%20%20%3B%0A%0A%20%20%20%20%20%20%20%20%20%20%20%20%0A%20%20%20%20%20%20%20%20%0A%20%20%20%20%0A%20%20%20%20%20%20%20%20%20%20%20%20var%20circle_marker_7d0fa754a6b1485fa6b8ece938c0030c%20%3D%20L.circleMarker%28%0A%20%20%20%20%20%20%20%20%20%20%20%20%20%20%20%20%5B-23.5492322%2C%20-46.5850668%5D%2C%0A%20%20%20%20%20%20%20%20%20%20%20%20%20%20%20%20%7B%0A%20%20%22bubblingMouseEvents%22%3A%20true%2C%0A%20%20%22color%22%3A%20%22%238000ff%22%2C%0A%20%20%22dashArray%22%3A%20null%2C%0A%20%20%22dashOffset%22%3A%20null%2C%0A%20%20%22fill%22%3A%20true%2C%0A%20%20%22fillColor%22%3A%20%22%238000ff%22%2C%0A%20%20%22fillOpacity%22%3A%200.7%2C%0A%20%20%22fillRule%22%3A%20%22evenodd%22%2C%0A%20%20%22lineCap%22%3A%20%22round%22%2C%0A%20%20%22lineJoin%22%3A%20%22round%22%2C%0A%20%20%22opacity%22%3A%201.0%2C%0A%20%20%22radius%22%3A%205%2C%0A%20%20%22stroke%22%3A%20true%2C%0A%20%20%22weight%22%3A%203%0A%7D%0A%20%20%20%20%20%20%20%20%20%20%20%20%20%20%20%20%29%0A%20%20%20%20%20%20%20%20%20%20%20%20%20%20%20%20.addTo%28map_60c342cb0efd42cca2d79889e0aeb8c8%29%3B%0A%20%20%20%20%20%20%20%20%20%20%20%20%0A%20%20%20%20%0A%20%20%20%20%20%20%20%20%20%20%20%20var%20popup_979483a973d04ab2803ee74f75159b2f%20%3D%20L.popup%28%7BmaxWidth%3A%20%27100%25%27%0A%20%20%20%20%20%20%20%20%20%20%20%20%0A%20%20%20%20%20%20%20%20%20%20%20%20%7D%29%3B%0A%0A%20%20%20%20%20%20%20%20%20%20%20%20%0A%20%20%20%20%20%20%20%20%20%20%20%20%20%20%20%20var%20html_960abb05a0a947cd92d520c9defd249f%20%3D%20%24%28%60%3Cdiv%20id%3D%22html_960abb05a0a947cd92d520c9defd249f%22%20style%3D%22width%3A%20100.0%25%3B%20height%3A%20100.0%25%3B%22%3E%20Cluster%201%3C/div%3E%60%29%5B0%5D%3B%0A%20%20%20%20%20%20%20%20%20%20%20%20%20%20%20%20popup_979483a973d04ab2803ee74f75159b2f.setContent%28html_960abb05a0a947cd92d520c9defd249f%29%3B%0A%20%20%20%20%20%20%20%20%20%20%20%20%0A%0A%20%20%20%20%20%20%20%20%20%20%20%20circle_marker_7d0fa754a6b1485fa6b8ece938c0030c.bindPopup%28popup_979483a973d04ab2803ee74f75159b2f%29%0A%20%20%20%20%20%20%20%20%20%20%20%20%3B%0A%0A%20%20%20%20%20%20%20%20%20%20%20%20%0A%20%20%20%20%20%20%20%20%0A%20%20%20%20%0A%20%20%20%20%20%20%20%20%20%20%20%20var%20circle_marker_52b1da3c32b442168412dd50de2f418c%20%3D%20L.circleMarker%28%0A%20%20%20%20%20%20%20%20%20%20%20%20%20%20%20%20%5B-23.5081861%2C%20-46.626204%5D%2C%0A%20%20%20%20%20%20%20%20%20%20%20%20%20%20%20%20%7B%0A%20%20%22bubblingMouseEvents%22%3A%20true%2C%0A%20%20%22color%22%3A%20%22%23ff0000%22%2C%0A%20%20%22dashArray%22%3A%20null%2C%0A%20%20%22dashOffset%22%3A%20null%2C%0A%20%20%22fill%22%3A%20true%2C%0A%20%20%22fillColor%22%3A%20%22%23ff0000%22%2C%0A%20%20%22fillOpacity%22%3A%200.7%2C%0A%20%20%22fillRule%22%3A%20%22evenodd%22%2C%0A%20%20%22lineCap%22%3A%20%22round%22%2C%0A%20%20%22lineJoin%22%3A%20%22round%22%2C%0A%20%20%22opacity%22%3A%201.0%2C%0A%20%20%22radius%22%3A%205%2C%0A%20%20%22stroke%22%3A%20true%2C%0A%20%20%22weight%22%3A%203%0A%7D%0A%20%20%20%20%20%20%20%20%20%20%20%20%20%20%20%20%29%0A%20%20%20%20%20%20%20%20%20%20%20%20%20%20%20%20.addTo%28map_60c342cb0efd42cca2d79889e0aeb8c8%29%3B%0A%20%20%20%20%20%20%20%20%20%20%20%20%0A%20%20%20%20%0A%20%20%20%20%20%20%20%20%20%20%20%20var%20popup_67570f9bdcac4c10a645eade74dc5163%20%3D%20L.popup%28%7BmaxWidth%3A%20%27100%25%27%0A%20%20%20%20%20%20%20%20%20%20%20%20%0A%20%20%20%20%20%20%20%20%20%20%20%20%7D%29%3B%0A%0A%20%20%20%20%20%20%20%20%20%20%20%20%0A%20%20%20%20%20%20%20%20%20%20%20%20%20%20%20%20var%20html_d58d7ef5d7974057a637b5ffb1e05704%20%3D%20%24%28%60%3Cdiv%20id%3D%22html_d58d7ef5d7974057a637b5ffb1e05704%22%20style%3D%22width%3A%20100.0%25%3B%20height%3A%20100.0%25%3B%22%3E%20Cluster%200%3C/div%3E%60%29%5B0%5D%3B%0A%20%20%20%20%20%20%20%20%20%20%20%20%20%20%20%20popup_67570f9bdcac4c10a645eade74dc5163.setContent%28html_d58d7ef5d7974057a637b5ffb1e05704%29%3B%0A%20%20%20%20%20%20%20%20%20%20%20%20%0A%0A%20%20%20%20%20%20%20%20%20%20%20%20circle_marker_52b1da3c32b442168412dd50de2f418c.bindPopup%28popup_67570f9bdcac4c10a645eade74dc5163%29%0A%20%20%20%20%20%20%20%20%20%20%20%20%3B%0A%0A%20%20%20%20%20%20%20%20%20%20%20%20%0A%20%20%20%20%20%20%20%20%0A%20%20%20%20%0A%20%20%20%20%20%20%20%20%20%20%20%20var%20circle_marker_1fef8fe620f84652ba20a6414d4dd832%20%3D%20L.circleMarker%28%0A%20%20%20%20%20%20%20%20%20%20%20%20%20%20%20%20%5B-23.5245028%2C%20-46.606615%5D%2C%0A%20%20%20%20%20%20%20%20%20%20%20%20%20%20%20%20%7B%0A%20%20%22bubblingMouseEvents%22%3A%20true%2C%0A%20%20%22color%22%3A%20%22%238000ff%22%2C%0A%20%20%22dashArray%22%3A%20null%2C%0A%20%20%22dashOffset%22%3A%20null%2C%0A%20%20%22fill%22%3A%20true%2C%0A%20%20%22fillColor%22%3A%20%22%238000ff%22%2C%0A%20%20%22fillOpacity%22%3A%200.7%2C%0A%20%20%22fillRule%22%3A%20%22evenodd%22%2C%0A%20%20%22lineCap%22%3A%20%22round%22%2C%0A%20%20%22lineJoin%22%3A%20%22round%22%2C%0A%20%20%22opacity%22%3A%201.0%2C%0A%20%20%22radius%22%3A%205%2C%0A%20%20%22stroke%22%3A%20true%2C%0A%20%20%22weight%22%3A%203%0A%7D%0A%20%20%20%20%20%20%20%20%20%20%20%20%20%20%20%20%29%0A%20%20%20%20%20%20%20%20%20%20%20%20%20%20%20%20.addTo%28map_60c342cb0efd42cca2d79889e0aeb8c8%29%3B%0A%20%20%20%20%20%20%20%20%20%20%20%20%0A%20%20%20%20%0A%20%20%20%20%20%20%20%20%20%20%20%20var%20popup_b0d406e5dab741a49b601a5e5e28c2a3%20%3D%20L.popup%28%7BmaxWidth%3A%20%27100%25%27%0A%20%20%20%20%20%20%20%20%20%20%20%20%0A%20%20%20%20%20%20%20%20%20%20%20%20%7D%29%3B%0A%0A%20%20%20%20%20%20%20%20%20%20%20%20%0A%20%20%20%20%20%20%20%20%20%20%20%20%20%20%20%20var%20html_29d475fe91324275a55e82d91f204ae7%20%3D%20%24%28%60%3Cdiv%20id%3D%22html_29d475fe91324275a55e82d91f204ae7%22%20style%3D%22width%3A%20100.0%25%3B%20height%3A%20100.0%25%3B%22%3E%20Cluster%201%3C/div%3E%60%29%5B0%5D%3B%0A%20%20%20%20%20%20%20%20%20%20%20%20%20%20%20%20popup_b0d406e5dab741a49b601a5e5e28c2a3.setContent%28html_29d475fe91324275a55e82d91f204ae7%29%3B%0A%20%20%20%20%20%20%20%20%20%20%20%20%0A%0A%20%20%20%20%20%20%20%20%20%20%20%20circle_marker_1fef8fe620f84652ba20a6414d4dd832.bindPopup%28popup_b0d406e5dab741a49b601a5e5e28c2a3%29%0A%20%20%20%20%20%20%20%20%20%20%20%20%3B%0A%0A%20%20%20%20%20%20%20%20%20%20%20%20%0A%20%20%20%20%20%20%20%20%0A%20%20%20%20%0A%20%20%20%20%20%20%20%20%20%20%20%20var%20circle_marker_6c22563609414e8a865b705762666963%20%3D%20L.circleMarker%28%0A%20%20%20%20%20%20%20%20%20%20%20%20%20%20%20%20%5B-23.5634803%2C%20-46.5534876%5D%2C%0A%20%20%20%20%20%20%20%20%20%20%20%20%20%20%20%20%7B%0A%20%20%22bubblingMouseEvents%22%3A%20true%2C%0A%20%20%22color%22%3A%20%22%231996f3%22%2C%0A%20%20%22dashArray%22%3A%20null%2C%0A%20%20%22dashOffset%22%3A%20null%2C%0A%20%20%22fill%22%3A%20true%2C%0A%20%20%22fillColor%22%3A%20%22%231996f3%22%2C%0A%20%20%22fillOpacity%22%3A%200.7%2C%0A%20%20%22fillRule%22%3A%20%22evenodd%22%2C%0A%20%20%22lineCap%22%3A%20%22round%22%2C%0A%20%20%22lineJoin%22%3A%20%22round%22%2C%0A%20%20%22opacity%22%3A%201.0%2C%0A%20%20%22radius%22%3A%205%2C%0A%20%20%22stroke%22%3A%20true%2C%0A%20%20%22weight%22%3A%203%0A%7D%0A%20%20%20%20%20%20%20%20%20%20%20%20%20%20%20%20%29%0A%20%20%20%20%20%20%20%20%20%20%20%20%20%20%20%20.addTo%28map_60c342cb0efd42cca2d79889e0aeb8c8%29%3B%0A%20%20%20%20%20%20%20%20%20%20%20%20%0A%20%20%20%20%0A%20%20%20%20%20%20%20%20%20%20%20%20var%20popup_50f3d09b937b40598c88a78366d04fe6%20%3D%20L.popup%28%7BmaxWidth%3A%20%27100%25%27%0A%20%20%20%20%20%20%20%20%20%20%20%20%0A%20%20%20%20%20%20%20%20%20%20%20%20%7D%29%3B%0A%0A%20%20%20%20%20%20%20%20%20%20%20%20%0A%20%20%20%20%20%20%20%20%20%20%20%20%20%20%20%20var%20html_cc2e89e004954ad5a5641748fd4cffe8%20%3D%20%24%28%60%3Cdiv%20id%3D%22html_cc2e89e004954ad5a5641748fd4cffe8%22%20style%3D%22width%3A%20100.0%25%3B%20height%3A%20100.0%25%3B%22%3E%20Cluster%202%3C/div%3E%60%29%5B0%5D%3B%0A%20%20%20%20%20%20%20%20%20%20%20%20%20%20%20%20popup_50f3d09b937b40598c88a78366d04fe6.setContent%28html_cc2e89e004954ad5a5641748fd4cffe8%29%3B%0A%20%20%20%20%20%20%20%20%20%20%20%20%0A%0A%20%20%20%20%20%20%20%20%20%20%20%20circle_marker_6c22563609414e8a865b705762666963.bindPopup%28popup_50f3d09b937b40598c88a78366d04fe6%29%0A%20%20%20%20%20%20%20%20%20%20%20%20%3B%0A%0A%20%20%20%20%20%20%20%20%20%20%20%20%0A%20%20%20%20%20%20%20%20%0A%20%20%20%20%0A%20%20%20%20%20%20%20%20%20%20%20%20var%20circle_marker_09ae21bd87004c03aa9a67e3e25ebfd5%20%3D%20L.circleMarker%28%0A%20%20%20%20%20%20%20%20%20%20%20%20%20%20%20%20%5B-23.5298378%2C%20-46.6850028%5D%2C%0A%20%20%20%20%20%20%20%20%20%20%20%20%20%20%20%20%7B%0A%20%20%22bubblingMouseEvents%22%3A%20true%2C%0A%20%20%22color%22%3A%20%22%23b2f396%22%2C%0A%20%20%22dashArray%22%3A%20null%2C%0A%20%20%22dashOffset%22%3A%20null%2C%0A%20%20%22fill%22%3A%20true%2C%0A%20%20%22fillColor%22%3A%20%22%23b2f396%22%2C%0A%20%20%22fillOpacity%22%3A%200.7%2C%0A%20%20%22fillRule%22%3A%20%22evenodd%22%2C%0A%20%20%22lineCap%22%3A%20%22round%22%2C%0A%20%20%22lineJoin%22%3A%20%22round%22%2C%0A%20%20%22opacity%22%3A%201.0%2C%0A%20%20%22radius%22%3A%205%2C%0A%20%20%22stroke%22%3A%20true%2C%0A%20%20%22weight%22%3A%203%0A%7D%0A%20%20%20%20%20%20%20%20%20%20%20%20%20%20%20%20%29%0A%20%20%20%20%20%20%20%20%20%20%20%20%20%20%20%20.addTo%28map_60c342cb0efd42cca2d79889e0aeb8c8%29%3B%0A%20%20%20%20%20%20%20%20%20%20%20%20%0A%20%20%20%20%0A%20%20%20%20%20%20%20%20%20%20%20%20var%20popup_a4a2ff95a9d842019479665d160b0454%20%3D%20L.popup%28%7BmaxWidth%3A%20%27100%25%27%0A%20%20%20%20%20%20%20%20%20%20%20%20%0A%20%20%20%20%20%20%20%20%20%20%20%20%7D%29%3B%0A%0A%20%20%20%20%20%20%20%20%20%20%20%20%0A%20%20%20%20%20%20%20%20%20%20%20%20%20%20%20%20var%20html_e69fa9b5ed11460fadadfd14476885a5%20%3D%20%24%28%60%3Cdiv%20id%3D%22html_e69fa9b5ed11460fadadfd14476885a5%22%20style%3D%22width%3A%20100.0%25%3B%20height%3A%20100.0%25%3B%22%3E%20Cluster%204%3C/div%3E%60%29%5B0%5D%3B%0A%20%20%20%20%20%20%20%20%20%20%20%20%20%20%20%20popup_a4a2ff95a9d842019479665d160b0454.setContent%28html_e69fa9b5ed11460fadadfd14476885a5%29%3B%0A%20%20%20%20%20%20%20%20%20%20%20%20%0A%0A%20%20%20%20%20%20%20%20%20%20%20%20circle_marker_09ae21bd87004c03aa9a67e3e25ebfd5.bindPopup%28popup_a4a2ff95a9d842019479665d160b0454%29%0A%20%20%20%20%20%20%20%20%20%20%20%20%3B%0A%0A%20%20%20%20%20%20%20%20%20%20%20%20%0A%20%20%20%20%20%20%20%20%0A%20%20%20%20%0A%20%20%20%20%20%20%20%20%20%20%20%20var%20circle_marker_4f2797b8166b469d8be0bc32bdd0e854%20%3D%20L.circleMarker%28%0A%20%20%20%20%20%20%20%20%20%20%20%20%20%20%20%20%5B-23.5523952%2C%20-46.5874203%5D%2C%0A%20%20%20%20%20%20%20%20%20%20%20%20%20%20%20%20%7B%0A%20%20%22bubblingMouseEvents%22%3A%20true%2C%0A%20%20%22color%22%3A%20%22%238000ff%22%2C%0A%20%20%22dashArray%22%3A%20null%2C%0A%20%20%22dashOffset%22%3A%20null%2C%0A%20%20%22fill%22%3A%20true%2C%0A%20%20%22fillColor%22%3A%20%22%238000ff%22%2C%0A%20%20%22fillOpacity%22%3A%200.7%2C%0A%20%20%22fillRule%22%3A%20%22evenodd%22%2C%0A%20%20%22lineCap%22%3A%20%22round%22%2C%0A%20%20%22lineJoin%22%3A%20%22round%22%2C%0A%20%20%22opacity%22%3A%201.0%2C%0A%20%20%22radius%22%3A%205%2C%0A%20%20%22stroke%22%3A%20true%2C%0A%20%20%22weight%22%3A%203%0A%7D%0A%20%20%20%20%20%20%20%20%20%20%20%20%20%20%20%20%29%0A%20%20%20%20%20%20%20%20%20%20%20%20%20%20%20%20.addTo%28map_60c342cb0efd42cca2d79889e0aeb8c8%29%3B%0A%20%20%20%20%20%20%20%20%20%20%20%20%0A%20%20%20%20%0A%20%20%20%20%20%20%20%20%20%20%20%20var%20popup_dd37f81ce1444b9eb941fd9ffda08390%20%3D%20L.popup%28%7BmaxWidth%3A%20%27100%25%27%0A%20%20%20%20%20%20%20%20%20%20%20%20%0A%20%20%20%20%20%20%20%20%20%20%20%20%7D%29%3B%0A%0A%20%20%20%20%20%20%20%20%20%20%20%20%0A%20%20%20%20%20%20%20%20%20%20%20%20%20%20%20%20var%20html_6a368fcbed3f4a27996109584b77b3f8%20%3D%20%24%28%60%3Cdiv%20id%3D%22html_6a368fcbed3f4a27996109584b77b3f8%22%20style%3D%22width%3A%20100.0%25%3B%20height%3A%20100.0%25%3B%22%3E%20Cluster%201%3C/div%3E%60%29%5B0%5D%3B%0A%20%20%20%20%20%20%20%20%20%20%20%20%20%20%20%20popup_dd37f81ce1444b9eb941fd9ffda08390.setContent%28html_6a368fcbed3f4a27996109584b77b3f8%29%3B%0A%20%20%20%20%20%20%20%20%20%20%20%20%0A%0A%20%20%20%20%20%20%20%20%20%20%20%20circle_marker_4f2797b8166b469d8be0bc32bdd0e854.bindPopup%28popup_dd37f81ce1444b9eb941fd9ffda08390%29%0A%20%20%20%20%20%20%20%20%20%20%20%20%3B%0A%0A%20%20%20%20%20%20%20%20%20%20%20%20%0A%20%20%20%20%20%20%20%20%0A%20%20%20%20%0A%20%20%20%20%20%20%20%20%20%20%20%20var%20circle_marker_427629210fd84e84ae9f1a1b0d1a2195%20%3D%20L.circleMarker%28%0A%20%20%20%20%20%20%20%20%20%20%20%20%20%20%20%20%5B-23.5826859%2C%20-46.4983628%5D%2C%0A%20%20%20%20%20%20%20%20%20%20%20%20%20%20%20%20%7B%0A%20%20%22bubblingMouseEvents%22%3A%20true%2C%0A%20%20%22color%22%3A%20%22%238000ff%22%2C%0A%20%20%22dashArray%22%3A%20null%2C%0A%20%20%22dashOffset%22%3A%20null%2C%0A%20%20%22fill%22%3A%20true%2C%0A%20%20%22fillColor%22%3A%20%22%238000ff%22%2C%0A%20%20%22fillOpacity%22%3A%200.7%2C%0A%20%20%22fillRule%22%3A%20%22evenodd%22%2C%0A%20%20%22lineCap%22%3A%20%22round%22%2C%0A%20%20%22lineJoin%22%3A%20%22round%22%2C%0A%20%20%22opacity%22%3A%201.0%2C%0A%20%20%22radius%22%3A%205%2C%0A%20%20%22stroke%22%3A%20true%2C%0A%20%20%22weight%22%3A%203%0A%7D%0A%20%20%20%20%20%20%20%20%20%20%20%20%20%20%20%20%29%0A%20%20%20%20%20%20%20%20%20%20%20%20%20%20%20%20.addTo%28map_60c342cb0efd42cca2d79889e0aeb8c8%29%3B%0A%20%20%20%20%20%20%20%20%20%20%20%20%0A%20%20%20%20%0A%20%20%20%20%20%20%20%20%20%20%20%20var%20popup_7e9e45e4a7d147bb8bcb87372a844706%20%3D%20L.popup%28%7BmaxWidth%3A%20%27100%25%27%0A%20%20%20%20%20%20%20%20%20%20%20%20%0A%20%20%20%20%20%20%20%20%20%20%20%20%7D%29%3B%0A%0A%20%20%20%20%20%20%20%20%20%20%20%20%0A%20%20%20%20%20%20%20%20%20%20%20%20%20%20%20%20var%20html_b74765fa372543cc8dd8fc01f25d5032%20%3D%20%24%28%60%3Cdiv%20id%3D%22html_b74765fa372543cc8dd8fc01f25d5032%22%20style%3D%22width%3A%20100.0%25%3B%20height%3A%20100.0%25%3B%22%3E%20Cluster%201%3C/div%3E%60%29%5B0%5D%3B%0A%20%20%20%20%20%20%20%20%20%20%20%20%20%20%20%20popup_7e9e45e4a7d147bb8bcb87372a844706.setContent%28html_b74765fa372543cc8dd8fc01f25d5032%29%3B%0A%20%20%20%20%20%20%20%20%20%20%20%20%0A%0A%20%20%20%20%20%20%20%20%20%20%20%20circle_marker_427629210fd84e84ae9f1a1b0d1a2195.bindPopup%28popup_7e9e45e4a7d147bb8bcb87372a844706%29%0A%20%20%20%20%20%20%20%20%20%20%20%20%3B%0A%0A%20%20%20%20%20%20%20%20%20%20%20%20%0A%20%20%20%20%20%20%20%20%0A%20%20%20%20%0A%20%20%20%20%20%20%20%20%20%20%20%20var%20circle_marker_d4f75a63dad34a2994c34d8774a90c74%20%3D%20L.circleMarker%28%0A%20%20%20%20%20%20%20%20%20%20%20%20%20%20%20%20%5B-23.5451378%2C%20-46.5704217%5D%2C%0A%20%20%20%20%20%20%20%20%20%20%20%20%20%20%20%20%7B%0A%20%20%22bubblingMouseEvents%22%3A%20true%2C%0A%20%20%22color%22%3A%20%22%234df3ce%22%2C%0A%20%20%22dashArray%22%3A%20null%2C%0A%20%20%22dashOffset%22%3A%20null%2C%0A%20%20%22fill%22%3A%20true%2C%0A%20%20%22fillColor%22%3A%20%22%234df3ce%22%2C%0A%20%20%22fillOpacity%22%3A%200.7%2C%0A%20%20%22fillRule%22%3A%20%22evenodd%22%2C%0A%20%20%22lineCap%22%3A%20%22round%22%2C%0A%20%20%22lineJoin%22%3A%20%22round%22%2C%0A%20%20%22opacity%22%3A%201.0%2C%0A%20%20%22radius%22%3A%205%2C%0A%20%20%22stroke%22%3A%20true%2C%0A%20%20%22weight%22%3A%203%0A%7D%0A%20%20%20%20%20%20%20%20%20%20%20%20%20%20%20%20%29%0A%20%20%20%20%20%20%20%20%20%20%20%20%20%20%20%20.addTo%28map_60c342cb0efd42cca2d79889e0aeb8c8%29%3B%0A%20%20%20%20%20%20%20%20%20%20%20%20%0A%20%20%20%20%0A%20%20%20%20%20%20%20%20%20%20%20%20var%20popup_03546b2121624d2d90f6ccbb4c530631%20%3D%20L.popup%28%7BmaxWidth%3A%20%27100%25%27%0A%20%20%20%20%20%20%20%20%20%20%20%20%0A%20%20%20%20%20%20%20%20%20%20%20%20%7D%29%3B%0A%0A%20%20%20%20%20%20%20%20%20%20%20%20%0A%20%20%20%20%20%20%20%20%20%20%20%20%20%20%20%20var%20html_12ecfe9723a64f0b8e256b549254e411%20%3D%20%24%28%60%3Cdiv%20id%3D%22html_12ecfe9723a64f0b8e256b549254e411%22%20style%3D%22width%3A%20100.0%25%3B%20height%3A%20100.0%25%3B%22%3E%20Cluster%203%3C/div%3E%60%29%5B0%5D%3B%0A%20%20%20%20%20%20%20%20%20%20%20%20%20%20%20%20popup_03546b2121624d2d90f6ccbb4c530631.setContent%28html_12ecfe9723a64f0b8e256b549254e411%29%3B%0A%20%20%20%20%20%20%20%20%20%20%20%20%0A%0A%20%20%20%20%20%20%20%20%20%20%20%20circle_marker_d4f75a63dad34a2994c34d8774a90c74.bindPopup%28popup_03546b2121624d2d90f6ccbb4c530631%29%0A%20%20%20%20%20%20%20%20%20%20%20%20%3B%0A%0A%20%20%20%20%20%20%20%20%20%20%20%20%0A%20%20%20%20%20%20%20%20%0A%20%20%20%20%0A%20%20%20%20%20%20%20%20%20%20%20%20var%20circle_marker_1881fc4ae0604bf5ad46956945c2aad1%20%3D%20L.circleMarker%28%0A%20%20%20%20%20%20%20%20%20%20%20%20%20%20%20%20%5B-23.547802%2C%20-46.649413%5D%2C%0A%20%20%20%20%20%20%20%20%20%20%20%20%20%20%20%20%7B%0A%20%20%22bubblingMouseEvents%22%3A%20true%2C%0A%20%20%22color%22%3A%20%22%234df3ce%22%2C%0A%20%20%22dashArray%22%3A%20null%2C%0A%20%20%22dashOffset%22%3A%20null%2C%0A%20%20%22fill%22%3A%20true%2C%0A%20%20%22fillColor%22%3A%20%22%234df3ce%22%2C%0A%20%20%22fillOpacity%22%3A%200.7%2C%0A%20%20%22fillRule%22%3A%20%22evenodd%22%2C%0A%20%20%22lineCap%22%3A%20%22round%22%2C%0A%20%20%22lineJoin%22%3A%20%22round%22%2C%0A%20%20%22opacity%22%3A%201.0%2C%0A%20%20%22radius%22%3A%205%2C%0A%20%20%22stroke%22%3A%20true%2C%0A%20%20%22weight%22%3A%203%0A%7D%0A%20%20%20%20%20%20%20%20%20%20%20%20%20%20%20%20%29%0A%20%20%20%20%20%20%20%20%20%20%20%20%20%20%20%20.addTo%28map_60c342cb0efd42cca2d79889e0aeb8c8%29%3B%0A%20%20%20%20%20%20%20%20%20%20%20%20%0A%20%20%20%20%0A%20%20%20%20%20%20%20%20%20%20%20%20var%20popup_7470ecc514414199b6b0b948d3fa8beb%20%3D%20L.popup%28%7BmaxWidth%3A%20%27100%25%27%0A%20%20%20%20%20%20%20%20%20%20%20%20%0A%20%20%20%20%20%20%20%20%20%20%20%20%7D%29%3B%0A%0A%20%20%20%20%20%20%20%20%20%20%20%20%0A%20%20%20%20%20%20%20%20%20%20%20%20%20%20%20%20var%20html_f5d15957558f46bca43526403c413e99%20%3D%20%24%28%60%3Cdiv%20id%3D%22html_f5d15957558f46bca43526403c413e99%22%20style%3D%22width%3A%20100.0%25%3B%20height%3A%20100.0%25%3B%22%3E%20Cluster%203%3C/div%3E%60%29%5B0%5D%3B%0A%20%20%20%20%20%20%20%20%20%20%20%20%20%20%20%20popup_7470ecc514414199b6b0b948d3fa8beb.setContent%28html_f5d15957558f46bca43526403c413e99%29%3B%0A%20%20%20%20%20%20%20%20%20%20%20%20%0A%0A%20%20%20%20%20%20%20%20%20%20%20%20circle_marker_1881fc4ae0604bf5ad46956945c2aad1.bindPopup%28popup_7470ecc514414199b6b0b948d3fa8beb%29%0A%20%20%20%20%20%20%20%20%20%20%20%20%3B%0A%0A%20%20%20%20%20%20%20%20%20%20%20%20%0A%20%20%20%20%20%20%20%20%0A%20%20%20%20%0A%20%20%20%20%20%20%20%20%20%20%20%20var%20circle_marker_e619dd1887de45c09a6c1b54deb3eaa1%20%3D%20L.circleMarker%28%0A%20%20%20%20%20%20%20%20%20%20%20%20%20%20%20%20%5B-23.5822459%2C%20-46.6494602%5D%2C%0A%20%20%20%20%20%20%20%20%20%20%20%20%20%20%20%20%7B%0A%20%20%22bubblingMouseEvents%22%3A%20true%2C%0A%20%20%22color%22%3A%20%22%238000ff%22%2C%0A%20%20%22dashArray%22%3A%20null%2C%0A%20%20%22dashOffset%22%3A%20null%2C%0A%20%20%22fill%22%3A%20true%2C%0A%20%20%22fillColor%22%3A%20%22%238000ff%22%2C%0A%20%20%22fillOpacity%22%3A%200.7%2C%0A%20%20%22fillRule%22%3A%20%22evenodd%22%2C%0A%20%20%22lineCap%22%3A%20%22round%22%2C%0A%20%20%22lineJoin%22%3A%20%22round%22%2C%0A%20%20%22opacity%22%3A%201.0%2C%0A%20%20%22radius%22%3A%205%2C%0A%20%20%22stroke%22%3A%20true%2C%0A%20%20%22weight%22%3A%203%0A%7D%0A%20%20%20%20%20%20%20%20%20%20%20%20%20%20%20%20%29%0A%20%20%20%20%20%20%20%20%20%20%20%20%20%20%20%20.addTo%28map_60c342cb0efd42cca2d79889e0aeb8c8%29%3B%0A%20%20%20%20%20%20%20%20%20%20%20%20%0A%20%20%20%20%0A%20%20%20%20%20%20%20%20%20%20%20%20var%20popup_d335b978d33a4e4b904fb699dc7eef5a%20%3D%20L.popup%28%7BmaxWidth%3A%20%27100%25%27%0A%20%20%20%20%20%20%20%20%20%20%20%20%0A%20%20%20%20%20%20%20%20%20%20%20%20%7D%29%3B%0A%0A%20%20%20%20%20%20%20%20%20%20%20%20%0A%20%20%20%20%20%20%20%20%20%20%20%20%20%20%20%20var%20html_8278a8661ec3479e9e11aaba6f08eb20%20%3D%20%24%28%60%3Cdiv%20id%3D%22html_8278a8661ec3479e9e11aaba6f08eb20%22%20style%3D%22width%3A%20100.0%25%3B%20height%3A%20100.0%25%3B%22%3E%20Cluster%201%3C/div%3E%60%29%5B0%5D%3B%0A%20%20%20%20%20%20%20%20%20%20%20%20%20%20%20%20popup_d335b978d33a4e4b904fb699dc7eef5a.setContent%28html_8278a8661ec3479e9e11aaba6f08eb20%29%3B%0A%20%20%20%20%20%20%20%20%20%20%20%20%0A%0A%20%20%20%20%20%20%20%20%20%20%20%20circle_marker_e619dd1887de45c09a6c1b54deb3eaa1.bindPopup%28popup_d335b978d33a4e4b904fb699dc7eef5a%29%0A%20%20%20%20%20%20%20%20%20%20%20%20%3B%0A%0A%20%20%20%20%20%20%20%20%20%20%20%20%0A%20%20%20%20%20%20%20%20%0A%20%20%20%20%0A%20%20%20%20%20%20%20%20%20%20%20%20var%20circle_marker_3f28f58672a947d1901d3814fc961ebc%20%3D%20L.circleMarker%28%0A%20%20%20%20%20%20%20%20%20%20%20%20%20%20%20%20%5B-23.6595545%2C%20-46.7000605%5D%2C%0A%20%20%20%20%20%20%20%20%20%20%20%20%20%20%20%20%7B%0A%20%20%22bubblingMouseEvents%22%3A%20true%2C%0A%20%20%22color%22%3A%20%22%23b2f396%22%2C%0A%20%20%22dashArray%22%3A%20null%2C%0A%20%20%22dashOffset%22%3A%20null%2C%0A%20%20%22fill%22%3A%20true%2C%0A%20%20%22fillColor%22%3A%20%22%23b2f396%22%2C%0A%20%20%22fillOpacity%22%3A%200.7%2C%0A%20%20%22fillRule%22%3A%20%22evenodd%22%2C%0A%20%20%22lineCap%22%3A%20%22round%22%2C%0A%20%20%22lineJoin%22%3A%20%22round%22%2C%0A%20%20%22opacity%22%3A%201.0%2C%0A%20%20%22radius%22%3A%205%2C%0A%20%20%22stroke%22%3A%20true%2C%0A%20%20%22weight%22%3A%203%0A%7D%0A%20%20%20%20%20%20%20%20%20%20%20%20%20%20%20%20%29%0A%20%20%20%20%20%20%20%20%20%20%20%20%20%20%20%20.addTo%28map_60c342cb0efd42cca2d79889e0aeb8c8%29%3B%0A%20%20%20%20%20%20%20%20%20%20%20%20%0A%20%20%20%20%0A%20%20%20%20%20%20%20%20%20%20%20%20var%20popup_801d582b720d4df884fb284a690ffa89%20%3D%20L.popup%28%7BmaxWidth%3A%20%27100%25%27%0A%20%20%20%20%20%20%20%20%20%20%20%20%0A%20%20%20%20%20%20%20%20%20%20%20%20%7D%29%3B%0A%0A%20%20%20%20%20%20%20%20%20%20%20%20%0A%20%20%20%20%20%20%20%20%20%20%20%20%20%20%20%20var%20html_6c05bef479b8495a952970511114c453%20%3D%20%24%28%60%3Cdiv%20id%3D%22html_6c05bef479b8495a952970511114c453%22%20style%3D%22width%3A%20100.0%25%3B%20height%3A%20100.0%25%3B%22%3E%20Cluster%204%3C/div%3E%60%29%5B0%5D%3B%0A%20%20%20%20%20%20%20%20%20%20%20%20%20%20%20%20popup_801d582b720d4df884fb284a690ffa89.setContent%28html_6c05bef479b8495a952970511114c453%29%3B%0A%20%20%20%20%20%20%20%20%20%20%20%20%0A%0A%20%20%20%20%20%20%20%20%20%20%20%20circle_marker_3f28f58672a947d1901d3814fc961ebc.bindPopup%28popup_801d582b720d4df884fb284a690ffa89%29%0A%20%20%20%20%20%20%20%20%20%20%20%20%3B%0A%0A%20%20%20%20%20%20%20%20%20%20%20%20%0A%20%20%20%20%20%20%20%20%0A%20%20%20%20%0A%20%20%20%20%20%20%20%20%20%20%20%20var%20circle_marker_416a2d426d1c448db1ba50695aed86de%20%3D%20L.circleMarker%28%0A%20%20%20%20%20%20%20%20%20%20%20%20%20%20%20%20%5B-23.5598155%2C%20-46.6793848%5D%2C%0A%20%20%20%20%20%20%20%20%20%20%20%20%20%20%20%20%7B%0A%20%20%22bubblingMouseEvents%22%3A%20true%2C%0A%20%20%22color%22%3A%20%22%23b2f396%22%2C%0A%20%20%22dashArray%22%3A%20null%2C%0A%20%20%22dashOffset%22%3A%20null%2C%0A%20%20%22fill%22%3A%20true%2C%0A%20%20%22fillColor%22%3A%20%22%23b2f396%22%2C%0A%20%20%22fillOpacity%22%3A%200.7%2C%0A%20%20%22fillRule%22%3A%20%22evenodd%22%2C%0A%20%20%22lineCap%22%3A%20%22round%22%2C%0A%20%20%22lineJoin%22%3A%20%22round%22%2C%0A%20%20%22opacity%22%3A%201.0%2C%0A%20%20%22radius%22%3A%205%2C%0A%20%20%22stroke%22%3A%20true%2C%0A%20%20%22weight%22%3A%203%0A%7D%0A%20%20%20%20%20%20%20%20%20%20%20%20%20%20%20%20%29%0A%20%20%20%20%20%20%20%20%20%20%20%20%20%20%20%20.addTo%28map_60c342cb0efd42cca2d79889e0aeb8c8%29%3B%0A%20%20%20%20%20%20%20%20%20%20%20%20%0A%20%20%20%20%0A%20%20%20%20%20%20%20%20%20%20%20%20var%20popup_476afdaaff4944419dcdf8b2b0195a94%20%3D%20L.popup%28%7BmaxWidth%3A%20%27100%25%27%0A%20%20%20%20%20%20%20%20%20%20%20%20%0A%20%20%20%20%20%20%20%20%20%20%20%20%7D%29%3B%0A%0A%20%20%20%20%20%20%20%20%20%20%20%20%0A%20%20%20%20%20%20%20%20%20%20%20%20%20%20%20%20var%20html_6e3e8a01d4cf4619b50587a1ff85601f%20%3D%20%24%28%60%3Cdiv%20id%3D%22html_6e3e8a01d4cf4619b50587a1ff85601f%22%20style%3D%22width%3A%20100.0%25%3B%20height%3A%20100.0%25%3B%22%3E%20Cluster%204%3C/div%3E%60%29%5B0%5D%3B%0A%20%20%20%20%20%20%20%20%20%20%20%20%20%20%20%20popup_476afdaaff4944419dcdf8b2b0195a94.setContent%28html_6e3e8a01d4cf4619b50587a1ff85601f%29%3B%0A%20%20%20%20%20%20%20%20%20%20%20%20%0A%0A%20%20%20%20%20%20%20%20%20%20%20%20circle_marker_416a2d426d1c448db1ba50695aed86de.bindPopup%28popup_476afdaaff4944419dcdf8b2b0195a94%29%0A%20%20%20%20%20%20%20%20%20%20%20%20%3B%0A%0A%20%20%20%20%20%20%20%20%20%20%20%20%0A%20%20%20%20%20%20%20%20%0A%20%20%20%20%0A%20%20%20%20%20%20%20%20%20%20%20%20var%20circle_marker_f2cc62d794e8464ea522c400eab1e07c%20%3D%20L.circleMarker%28%0A%20%20%20%20%20%20%20%20%20%20%20%20%20%20%20%20%5B-22.0709856%2C%20-46.5734039%5D%2C%0A%20%20%20%20%20%20%20%20%20%20%20%20%20%20%20%20%7B%0A%20%20%22bubblingMouseEvents%22%3A%20true%2C%0A%20%20%22color%22%3A%20%22%23b2f396%22%2C%0A%20%20%22dashArray%22%3A%20null%2C%0A%20%20%22dashOffset%22%3A%20null%2C%0A%20%20%22fill%22%3A%20true%2C%0A%20%20%22fillColor%22%3A%20%22%23b2f396%22%2C%0A%20%20%22fillOpacity%22%3A%200.7%2C%0A%20%20%22fillRule%22%3A%20%22evenodd%22%2C%0A%20%20%22lineCap%22%3A%20%22round%22%2C%0A%20%20%22lineJoin%22%3A%20%22round%22%2C%0A%20%20%22opacity%22%3A%201.0%2C%0A%20%20%22radius%22%3A%205%2C%0A%20%20%22stroke%22%3A%20true%2C%0A%20%20%22weight%22%3A%203%0A%7D%0A%20%20%20%20%20%20%20%20%20%20%20%20%20%20%20%20%29%0A%20%20%20%20%20%20%20%20%20%20%20%20%20%20%20%20.addTo%28map_60c342cb0efd42cca2d79889e0aeb8c8%29%3B%0A%20%20%20%20%20%20%20%20%20%20%20%20%0A%20%20%20%20%0A%20%20%20%20%20%20%20%20%20%20%20%20var%20popup_3827331cbf4644c2b1bd7fe79c92ac55%20%3D%20L.popup%28%7BmaxWidth%3A%20%27100%25%27%0A%20%20%20%20%20%20%20%20%20%20%20%20%0A%20%20%20%20%20%20%20%20%20%20%20%20%7D%29%3B%0A%0A%20%20%20%20%20%20%20%20%20%20%20%20%0A%20%20%20%20%20%20%20%20%20%20%20%20%20%20%20%20var%20html_cfcee77efd024e02b22f243edeb14b0e%20%3D%20%24%28%60%3Cdiv%20id%3D%22html_cfcee77efd024e02b22f243edeb14b0e%22%20style%3D%22width%3A%20100.0%25%3B%20height%3A%20100.0%25%3B%22%3E%20Cluster%204%3C/div%3E%60%29%5B0%5D%3B%0A%20%20%20%20%20%20%20%20%20%20%20%20%20%20%20%20popup_3827331cbf4644c2b1bd7fe79c92ac55.setContent%28html_cfcee77efd024e02b22f243edeb14b0e%29%3B%0A%20%20%20%20%20%20%20%20%20%20%20%20%0A%0A%20%20%20%20%20%20%20%20%20%20%20%20circle_marker_f2cc62d794e8464ea522c400eab1e07c.bindPopup%28popup_3827331cbf4644c2b1bd7fe79c92ac55%29%0A%20%20%20%20%20%20%20%20%20%20%20%20%3B%0A%0A%20%20%20%20%20%20%20%20%20%20%20%20%0A%20%20%20%20%20%20%20%20%0A%20%20%20%20%0A%20%20%20%20%20%20%20%20%20%20%20%20var%20circle_marker_f8d9e6c5a0e24523a622dd1411fa90f7%20%3D%20L.circleMarker%28%0A%20%20%20%20%20%20%20%20%20%20%20%20%20%20%20%20%5B-23.6109307%2C%20-46.6461231%5D%2C%0A%20%20%20%20%20%20%20%20%20%20%20%20%20%20%20%20%7B%0A%20%20%22bubblingMouseEvents%22%3A%20true%2C%0A%20%20%22color%22%3A%20%22%238000ff%22%2C%0A%20%20%22dashArray%22%3A%20null%2C%0A%20%20%22dashOffset%22%3A%20null%2C%0A%20%20%22fill%22%3A%20true%2C%0A%20%20%22fillColor%22%3A%20%22%238000ff%22%2C%0A%20%20%22fillOpacity%22%3A%200.7%2C%0A%20%20%22fillRule%22%3A%20%22evenodd%22%2C%0A%20%20%22lineCap%22%3A%20%22round%22%2C%0A%20%20%22lineJoin%22%3A%20%22round%22%2C%0A%20%20%22opacity%22%3A%201.0%2C%0A%20%20%22radius%22%3A%205%2C%0A%20%20%22stroke%22%3A%20true%2C%0A%20%20%22weight%22%3A%203%0A%7D%0A%20%20%20%20%20%20%20%20%20%20%20%20%20%20%20%20%29%0A%20%20%20%20%20%20%20%20%20%20%20%20%20%20%20%20.addTo%28map_60c342cb0efd42cca2d79889e0aeb8c8%29%3B%0A%20%20%20%20%20%20%20%20%20%20%20%20%0A%20%20%20%20%0A%20%20%20%20%20%20%20%20%20%20%20%20var%20popup_9a56af3ff77d4f09a9b613487e1bfa2f%20%3D%20L.popup%28%7BmaxWidth%3A%20%27100%25%27%0A%20%20%20%20%20%20%20%20%20%20%20%20%0A%20%20%20%20%20%20%20%20%20%20%20%20%7D%29%3B%0A%0A%20%20%20%20%20%20%20%20%20%20%20%20%0A%20%20%20%20%20%20%20%20%20%20%20%20%20%20%20%20var%20html_2fac4f67922348a5b25f7fe9fa9ec78d%20%3D%20%24%28%60%3Cdiv%20id%3D%22html_2fac4f67922348a5b25f7fe9fa9ec78d%22%20style%3D%22width%3A%20100.0%25%3B%20height%3A%20100.0%25%3B%22%3E%20Cluster%201%3C/div%3E%60%29%5B0%5D%3B%0A%20%20%20%20%20%20%20%20%20%20%20%20%20%20%20%20popup_9a56af3ff77d4f09a9b613487e1bfa2f.setContent%28html_2fac4f67922348a5b25f7fe9fa9ec78d%29%3B%0A%20%20%20%20%20%20%20%20%20%20%20%20%0A%0A%20%20%20%20%20%20%20%20%20%20%20%20circle_marker_f8d9e6c5a0e24523a622dd1411fa90f7.bindPopup%28popup_9a56af3ff77d4f09a9b613487e1bfa2f%29%0A%20%20%20%20%20%20%20%20%20%20%20%20%3B%0A%0A%20%20%20%20%20%20%20%20%20%20%20%20%0A%20%20%20%20%20%20%20%20%0A%20%20%20%20%0A%20%20%20%20%20%20%20%20%20%20%20%20var%20circle_marker_5b44df5d5db34f60b56ada9e556f2153%20%3D%20L.circleMarker%28%0A%20%20%20%20%20%20%20%20%20%20%20%20%20%20%20%20%5B-23.5376348%2C%20-46.6745843%5D%2C%0A%20%20%20%20%20%20%20%20%20%20%20%20%20%20%20%20%7B%0A%20%20%22bubblingMouseEvents%22%3A%20true%2C%0A%20%20%22color%22%3A%20%22%23ff0000%22%2C%0A%20%20%22dashArray%22%3A%20null%2C%0A%20%20%22dashOffset%22%3A%20null%2C%0A%20%20%22fill%22%3A%20true%2C%0A%20%20%22fillColor%22%3A%20%22%23ff0000%22%2C%0A%20%20%22fillOpacity%22%3A%200.7%2C%0A%20%20%22fillRule%22%3A%20%22evenodd%22%2C%0A%20%20%22lineCap%22%3A%20%22round%22%2C%0A%20%20%22lineJoin%22%3A%20%22round%22%2C%0A%20%20%22opacity%22%3A%201.0%2C%0A%20%20%22radius%22%3A%205%2C%0A%20%20%22stroke%22%3A%20true%2C%0A%20%20%22weight%22%3A%203%0A%7D%0A%20%20%20%20%20%20%20%20%20%20%20%20%20%20%20%20%29%0A%20%20%20%20%20%20%20%20%20%20%20%20%20%20%20%20.addTo%28map_60c342cb0efd42cca2d79889e0aeb8c8%29%3B%0A%20%20%20%20%20%20%20%20%20%20%20%20%0A%20%20%20%20%0A%20%20%20%20%20%20%20%20%20%20%20%20var%20popup_1b483b282a2543e49f079493199c062a%20%3D%20L.popup%28%7BmaxWidth%3A%20%27100%25%27%0A%20%20%20%20%20%20%20%20%20%20%20%20%0A%20%20%20%20%20%20%20%20%20%20%20%20%7D%29%3B%0A%0A%20%20%20%20%20%20%20%20%20%20%20%20%0A%20%20%20%20%20%20%20%20%20%20%20%20%20%20%20%20var%20html_c60fde6bbe3d4c9f958c299e78d8ee9c%20%3D%20%24%28%60%3Cdiv%20id%3D%22html_c60fde6bbe3d4c9f958c299e78d8ee9c%22%20style%3D%22width%3A%20100.0%25%3B%20height%3A%20100.0%25%3B%22%3E%20Cluster%200%3C/div%3E%60%29%5B0%5D%3B%0A%20%20%20%20%20%20%20%20%20%20%20%20%20%20%20%20popup_1b483b282a2543e49f079493199c062a.setContent%28html_c60fde6bbe3d4c9f958c299e78d8ee9c%29%3B%0A%20%20%20%20%20%20%20%20%20%20%20%20%0A%0A%20%20%20%20%20%20%20%20%20%20%20%20circle_marker_5b44df5d5db34f60b56ada9e556f2153.bindPopup%28popup_1b483b282a2543e49f079493199c062a%29%0A%20%20%20%20%20%20%20%20%20%20%20%20%3B%0A%0A%20%20%20%20%20%20%20%20%20%20%20%20%0A%20%20%20%20%20%20%20%20%0A%20%20%20%20%0A%20%20%20%20%20%20%20%20%20%20%20%20var%20circle_marker_a93a58b8bed844f9a1bdbd258ac0dddd%20%3D%20L.circleMarker%28%0A%20%20%20%20%20%20%20%20%20%20%20%20%20%20%20%20%5B-23.5416425%2C%20-46.6902068%5D%2C%0A%20%20%20%20%20%20%20%20%20%20%20%20%20%20%20%20%7B%0A%20%20%22bubblingMouseEvents%22%3A%20true%2C%0A%20%20%22color%22%3A%20%22%23b2f396%22%2C%0A%20%20%22dashArray%22%3A%20null%2C%0A%20%20%22dashOffset%22%3A%20null%2C%0A%20%20%22fill%22%3A%20true%2C%0A%20%20%22fillColor%22%3A%20%22%23b2f396%22%2C%0A%20%20%22fillOpacity%22%3A%200.7%2C%0A%20%20%22fillRule%22%3A%20%22evenodd%22%2C%0A%20%20%22lineCap%22%3A%20%22round%22%2C%0A%20%20%22lineJoin%22%3A%20%22round%22%2C%0A%20%20%22opacity%22%3A%201.0%2C%0A%20%20%22radius%22%3A%205%2C%0A%20%20%22stroke%22%3A%20true%2C%0A%20%20%22weight%22%3A%203%0A%7D%0A%20%20%20%20%20%20%20%20%20%20%20%20%20%20%20%20%29%0A%20%20%20%20%20%20%20%20%20%20%20%20%20%20%20%20.addTo%28map_60c342cb0efd42cca2d79889e0aeb8c8%29%3B%0A%20%20%20%20%20%20%20%20%20%20%20%20%0A%20%20%20%20%0A%20%20%20%20%20%20%20%20%20%20%20%20var%20popup_8d2eb9c2d9a34d51bfe6a73a04472012%20%3D%20L.popup%28%7BmaxWidth%3A%20%27100%25%27%0A%20%20%20%20%20%20%20%20%20%20%20%20%0A%20%20%20%20%20%20%20%20%20%20%20%20%7D%29%3B%0A%0A%20%20%20%20%20%20%20%20%20%20%20%20%0A%20%20%20%20%20%20%20%20%20%20%20%20%20%20%20%20var%20html_e495becd7c444c89a281d8f72b91dd61%20%3D%20%24%28%60%3Cdiv%20id%3D%22html_e495becd7c444c89a281d8f72b91dd61%22%20style%3D%22width%3A%20100.0%25%3B%20height%3A%20100.0%25%3B%22%3E%20Cluster%204%3C/div%3E%60%29%5B0%5D%3B%0A%20%20%20%20%20%20%20%20%20%20%20%20%20%20%20%20popup_8d2eb9c2d9a34d51bfe6a73a04472012.setContent%28html_e495becd7c444c89a281d8f72b91dd61%29%3B%0A%20%20%20%20%20%20%20%20%20%20%20%20%0A%0A%20%20%20%20%20%20%20%20%20%20%20%20circle_marker_a93a58b8bed844f9a1bdbd258ac0dddd.bindPopup%28popup_8d2eb9c2d9a34d51bfe6a73a04472012%29%0A%20%20%20%20%20%20%20%20%20%20%20%20%3B%0A%0A%20%20%20%20%20%20%20%20%20%20%20%20%0A%20%20%20%20%20%20%20%20%0A%20%20%20%20%0A%20%20%20%20%20%20%20%20%20%20%20%20var%20circle_marker_4035d0a0a848484cbcc28fe87143ec75%20%3D%20L.circleMarker%28%0A%20%20%20%20%20%20%20%20%20%20%20%20%20%20%20%20%5B-23.5373918%2C%20-46.6761311%5D%2C%0A%20%20%20%20%20%20%20%20%20%20%20%20%20%20%20%20%7B%0A%20%20%22bubblingMouseEvents%22%3A%20true%2C%0A%20%20%22color%22%3A%20%22%234df3ce%22%2C%0A%20%20%22dashArray%22%3A%20null%2C%0A%20%20%22dashOffset%22%3A%20null%2C%0A%20%20%22fill%22%3A%20true%2C%0A%20%20%22fillColor%22%3A%20%22%234df3ce%22%2C%0A%20%20%22fillOpacity%22%3A%200.7%2C%0A%20%20%22fillRule%22%3A%20%22evenodd%22%2C%0A%20%20%22lineCap%22%3A%20%22round%22%2C%0A%20%20%22lineJoin%22%3A%20%22round%22%2C%0A%20%20%22opacity%22%3A%201.0%2C%0A%20%20%22radius%22%3A%205%2C%0A%20%20%22stroke%22%3A%20true%2C%0A%20%20%22weight%22%3A%203%0A%7D%0A%20%20%20%20%20%20%20%20%20%20%20%20%20%20%20%20%29%0A%20%20%20%20%20%20%20%20%20%20%20%20%20%20%20%20.addTo%28map_60c342cb0efd42cca2d79889e0aeb8c8%29%3B%0A%20%20%20%20%20%20%20%20%20%20%20%20%0A%20%20%20%20%0A%20%20%20%20%20%20%20%20%20%20%20%20var%20popup_5356a2eed8b845008a97c37386adbfe5%20%3D%20L.popup%28%7BmaxWidth%3A%20%27100%25%27%0A%20%20%20%20%20%20%20%20%20%20%20%20%0A%20%20%20%20%20%20%20%20%20%20%20%20%7D%29%3B%0A%0A%20%20%20%20%20%20%20%20%20%20%20%20%0A%20%20%20%20%20%20%20%20%20%20%20%20%20%20%20%20var%20html_2726852d5f434456b4e77a18aef05b26%20%3D%20%24%28%60%3Cdiv%20id%3D%22html_2726852d5f434456b4e77a18aef05b26%22%20style%3D%22width%3A%20100.0%25%3B%20height%3A%20100.0%25%3B%22%3E%20Cluster%203%3C/div%3E%60%29%5B0%5D%3B%0A%20%20%20%20%20%20%20%20%20%20%20%20%20%20%20%20popup_5356a2eed8b845008a97c37386adbfe5.setContent%28html_2726852d5f434456b4e77a18aef05b26%29%3B%0A%20%20%20%20%20%20%20%20%20%20%20%20%0A%0A%20%20%20%20%20%20%20%20%20%20%20%20circle_marker_4035d0a0a848484cbcc28fe87143ec75.bindPopup%28popup_5356a2eed8b845008a97c37386adbfe5%29%0A%20%20%20%20%20%20%20%20%20%20%20%20%3B%0A%0A%20%20%20%20%20%20%20%20%20%20%20%20%0A%20%20%20%20%20%20%20%20%0A%20%20%20%20%0A%20%20%20%20%20%20%20%20%20%20%20%20var%20circle_marker_e8cf2053bb5c4c25812f6713592997a3%20%3D%20L.circleMarker%28%0A%20%20%20%20%20%20%20%20%20%20%20%20%20%20%20%20%5B-23.5771286%2C%20-46.7413703%5D%2C%0A%20%20%20%20%20%20%20%20%20%20%20%20%20%20%20%20%7B%0A%20%20%22bubblingMouseEvents%22%3A%20true%2C%0A%20%20%22color%22%3A%20%22%234df3ce%22%2C%0A%20%20%22dashArray%22%3A%20null%2C%0A%20%20%22dashOffset%22%3A%20null%2C%0A%20%20%22fill%22%3A%20true%2C%0A%20%20%22fillColor%22%3A%20%22%234df3ce%22%2C%0A%20%20%22fillOpacity%22%3A%200.7%2C%0A%20%20%22fillRule%22%3A%20%22evenodd%22%2C%0A%20%20%22lineCap%22%3A%20%22round%22%2C%0A%20%20%22lineJoin%22%3A%20%22round%22%2C%0A%20%20%22opacity%22%3A%201.0%2C%0A%20%20%22radius%22%3A%205%2C%0A%20%20%22stroke%22%3A%20true%2C%0A%20%20%22weight%22%3A%203%0A%7D%0A%20%20%20%20%20%20%20%20%20%20%20%20%20%20%20%20%29%0A%20%20%20%20%20%20%20%20%20%20%20%20%20%20%20%20.addTo%28map_60c342cb0efd42cca2d79889e0aeb8c8%29%3B%0A%20%20%20%20%20%20%20%20%20%20%20%20%0A%20%20%20%20%0A%20%20%20%20%20%20%20%20%20%20%20%20var%20popup_7ea44570f11743c486db823b958d83e1%20%3D%20L.popup%28%7BmaxWidth%3A%20%27100%25%27%0A%20%20%20%20%20%20%20%20%20%20%20%20%0A%20%20%20%20%20%20%20%20%20%20%20%20%7D%29%3B%0A%0A%20%20%20%20%20%20%20%20%20%20%20%20%0A%20%20%20%20%20%20%20%20%20%20%20%20%20%20%20%20var%20html_f2160d6675c14e5b9123675176d5ae32%20%3D%20%24%28%60%3Cdiv%20id%3D%22html_f2160d6675c14e5b9123675176d5ae32%22%20style%3D%22width%3A%20100.0%25%3B%20height%3A%20100.0%25%3B%22%3E%20Cluster%203%3C/div%3E%60%29%5B0%5D%3B%0A%20%20%20%20%20%20%20%20%20%20%20%20%20%20%20%20popup_7ea44570f11743c486db823b958d83e1.setContent%28html_f2160d6675c14e5b9123675176d5ae32%29%3B%0A%20%20%20%20%20%20%20%20%20%20%20%20%0A%0A%20%20%20%20%20%20%20%20%20%20%20%20circle_marker_e8cf2053bb5c4c25812f6713592997a3.bindPopup%28popup_7ea44570f11743c486db823b958d83e1%29%0A%20%20%20%20%20%20%20%20%20%20%20%20%3B%0A%0A%20%20%20%20%20%20%20%20%20%20%20%20%0A%20%20%20%20%20%20%20%20%0A%20%20%20%20%0A%20%20%20%20%20%20%20%20%20%20%20%20var%20circle_marker_54c99a59b7ae438d80afc8b386addb84%20%3D%20L.circleMarker%28%0A%20%20%20%20%20%20%20%20%20%20%20%20%20%20%20%20%5B-23.561734%2C%20-46.6518504%5D%2C%0A%20%20%20%20%20%20%20%20%20%20%20%20%20%20%20%20%7B%0A%20%20%22bubblingMouseEvents%22%3A%20true%2C%0A%20%20%22color%22%3A%20%22%231996f3%22%2C%0A%20%20%22dashArray%22%3A%20null%2C%0A%20%20%22dashOffset%22%3A%20null%2C%0A%20%20%22fill%22%3A%20true%2C%0A%20%20%22fillColor%22%3A%20%22%231996f3%22%2C%0A%20%20%22fillOpacity%22%3A%200.7%2C%0A%20%20%22fillRule%22%3A%20%22evenodd%22%2C%0A%20%20%22lineCap%22%3A%20%22round%22%2C%0A%20%20%22lineJoin%22%3A%20%22round%22%2C%0A%20%20%22opacity%22%3A%201.0%2C%0A%20%20%22radius%22%3A%205%2C%0A%20%20%22stroke%22%3A%20true%2C%0A%20%20%22weight%22%3A%203%0A%7D%0A%20%20%20%20%20%20%20%20%20%20%20%20%20%20%20%20%29%0A%20%20%20%20%20%20%20%20%20%20%20%20%20%20%20%20.addTo%28map_60c342cb0efd42cca2d79889e0aeb8c8%29%3B%0A%20%20%20%20%20%20%20%20%20%20%20%20%0A%20%20%20%20%0A%20%20%20%20%20%20%20%20%20%20%20%20var%20popup_a9dfcc29b3b1442f944b8165705d209e%20%3D%20L.popup%28%7BmaxWidth%3A%20%27100%25%27%0A%20%20%20%20%20%20%20%20%20%20%20%20%0A%20%20%20%20%20%20%20%20%20%20%20%20%7D%29%3B%0A%0A%20%20%20%20%20%20%20%20%20%20%20%20%0A%20%20%20%20%20%20%20%20%20%20%20%20%20%20%20%20var%20html_6fc9c8f9b76546c4939ea55d12a101d7%20%3D%20%24%28%60%3Cdiv%20id%3D%22html_6fc9c8f9b76546c4939ea55d12a101d7%22%20style%3D%22width%3A%20100.0%25%3B%20height%3A%20100.0%25%3B%22%3E%20Cluster%202%3C/div%3E%60%29%5B0%5D%3B%0A%20%20%20%20%20%20%20%20%20%20%20%20%20%20%20%20popup_a9dfcc29b3b1442f944b8165705d209e.setContent%28html_6fc9c8f9b76546c4939ea55d12a101d7%29%3B%0A%20%20%20%20%20%20%20%20%20%20%20%20%0A%0A%20%20%20%20%20%20%20%20%20%20%20%20circle_marker_54c99a59b7ae438d80afc8b386addb84.bindPopup%28popup_a9dfcc29b3b1442f944b8165705d209e%29%0A%20%20%20%20%20%20%20%20%20%20%20%20%3B%0A%0A%20%20%20%20%20%20%20%20%20%20%20%20%0A%20%20%20%20%20%20%20%20%0A%20%20%20%20%0A%20%20%20%20%20%20%20%20%20%20%20%20var%20circle_marker_adb83a85499d4e10a6c2b9cba9d15a90%20%3D%20L.circleMarker%28%0A%20%20%20%20%20%20%20%20%20%20%20%20%20%20%20%20%5B-23.6726727%2C%20-46.6653257%5D%2C%0A%20%20%20%20%20%20%20%20%20%20%20%20%20%20%20%20%7B%0A%20%20%22bubblingMouseEvents%22%3A%20true%2C%0A%20%20%22color%22%3A%20%22%23b2f396%22%2C%0A%20%20%22dashArray%22%3A%20null%2C%0A%20%20%22dashOffset%22%3A%20null%2C%0A%20%20%22fill%22%3A%20true%2C%0A%20%20%22fillColor%22%3A%20%22%23b2f396%22%2C%0A%20%20%22fillOpacity%22%3A%200.7%2C%0A%20%20%22fillRule%22%3A%20%22evenodd%22%2C%0A%20%20%22lineCap%22%3A%20%22round%22%2C%0A%20%20%22lineJoin%22%3A%20%22round%22%2C%0A%20%20%22opacity%22%3A%201.0%2C%0A%20%20%22radius%22%3A%205%2C%0A%20%20%22stroke%22%3A%20true%2C%0A%20%20%22weight%22%3A%203%0A%7D%0A%20%20%20%20%20%20%20%20%20%20%20%20%20%20%20%20%29%0A%20%20%20%20%20%20%20%20%20%20%20%20%20%20%20%20.addTo%28map_60c342cb0efd42cca2d79889e0aeb8c8%29%3B%0A%20%20%20%20%20%20%20%20%20%20%20%20%0A%20%20%20%20%0A%20%20%20%20%20%20%20%20%20%20%20%20var%20popup_10aace30f90f470f8ddc6b8f10bfe4df%20%3D%20L.popup%28%7BmaxWidth%3A%20%27100%25%27%0A%20%20%20%20%20%20%20%20%20%20%20%20%0A%20%20%20%20%20%20%20%20%20%20%20%20%7D%29%3B%0A%0A%20%20%20%20%20%20%20%20%20%20%20%20%0A%20%20%20%20%20%20%20%20%20%20%20%20%20%20%20%20var%20html_7239aa27d1af494da9c29fa5d6f6249c%20%3D%20%24%28%60%3Cdiv%20id%3D%22html_7239aa27d1af494da9c29fa5d6f6249c%22%20style%3D%22width%3A%20100.0%25%3B%20height%3A%20100.0%25%3B%22%3E%20Cluster%204%3C/div%3E%60%29%5B0%5D%3B%0A%20%20%20%20%20%20%20%20%20%20%20%20%20%20%20%20popup_10aace30f90f470f8ddc6b8f10bfe4df.setContent%28html_7239aa27d1af494da9c29fa5d6f6249c%29%3B%0A%20%20%20%20%20%20%20%20%20%20%20%20%0A%0A%20%20%20%20%20%20%20%20%20%20%20%20circle_marker_adb83a85499d4e10a6c2b9cba9d15a90.bindPopup%28popup_10aace30f90f470f8ddc6b8f10bfe4df%29%0A%20%20%20%20%20%20%20%20%20%20%20%20%3B%0A%0A%20%20%20%20%20%20%20%20%20%20%20%20%0A%20%20%20%20%20%20%20%20%0A%20%20%20%20%0A%20%20%20%20%20%20%20%20%20%20%20%20var%20circle_marker_e26eea2740774a9fb5e10ddb29284430%20%3D%20L.circleMarker%28%0A%20%20%20%20%20%20%20%20%20%20%20%20%20%20%20%20%5B-23.5412756%2C%20-46.5754895%5D%2C%0A%20%20%20%20%20%20%20%20%20%20%20%20%20%20%20%20%7B%0A%20%20%22bubblingMouseEvents%22%3A%20true%2C%0A%20%20%22color%22%3A%20%22%23ff0000%22%2C%0A%20%20%22dashArray%22%3A%20null%2C%0A%20%20%22dashOffset%22%3A%20null%2C%0A%20%20%22fill%22%3A%20true%2C%0A%20%20%22fillColor%22%3A%20%22%23ff0000%22%2C%0A%20%20%22fillOpacity%22%3A%200.7%2C%0A%20%20%22fillRule%22%3A%20%22evenodd%22%2C%0A%20%20%22lineCap%22%3A%20%22round%22%2C%0A%20%20%22lineJoin%22%3A%20%22round%22%2C%0A%20%20%22opacity%22%3A%201.0%2C%0A%20%20%22radius%22%3A%205%2C%0A%20%20%22stroke%22%3A%20true%2C%0A%20%20%22weight%22%3A%203%0A%7D%0A%20%20%20%20%20%20%20%20%20%20%20%20%20%20%20%20%29%0A%20%20%20%20%20%20%20%20%20%20%20%20%20%20%20%20.addTo%28map_60c342cb0efd42cca2d79889e0aeb8c8%29%3B%0A%20%20%20%20%20%20%20%20%20%20%20%20%0A%20%20%20%20%0A%20%20%20%20%20%20%20%20%20%20%20%20var%20popup_123a1a7a1a4c46298a69dae04a356eb1%20%3D%20L.popup%28%7BmaxWidth%3A%20%27100%25%27%0A%20%20%20%20%20%20%20%20%20%20%20%20%0A%20%20%20%20%20%20%20%20%20%20%20%20%7D%29%3B%0A%0A%20%20%20%20%20%20%20%20%20%20%20%20%0A%20%20%20%20%20%20%20%20%20%20%20%20%20%20%20%20var%20html_0d46d535ab734df4a8face4664f197d4%20%3D%20%24%28%60%3Cdiv%20id%3D%22html_0d46d535ab734df4a8face4664f197d4%22%20style%3D%22width%3A%20100.0%25%3B%20height%3A%20100.0%25%3B%22%3E%20Cluster%200%3C/div%3E%60%29%5B0%5D%3B%0A%20%20%20%20%20%20%20%20%20%20%20%20%20%20%20%20popup_123a1a7a1a4c46298a69dae04a356eb1.setContent%28html_0d46d535ab734df4a8face4664f197d4%29%3B%0A%20%20%20%20%20%20%20%20%20%20%20%20%0A%0A%20%20%20%20%20%20%20%20%20%20%20%20circle_marker_e26eea2740774a9fb5e10ddb29284430.bindPopup%28popup_123a1a7a1a4c46298a69dae04a356eb1%29%0A%20%20%20%20%20%20%20%20%20%20%20%20%3B%0A%0A%20%20%20%20%20%20%20%20%20%20%20%20%0A%20%20%20%20%20%20%20%20%0A%20%20%20%20%0A%20%20%20%20%20%20%20%20%20%20%20%20var%20circle_marker_4e43efcd75f44fe89554cd686c2addae%20%3D%20L.circleMarker%28%0A%20%20%20%20%20%20%20%20%20%20%20%20%20%20%20%20%5B-23.5517855%2C%20-46.5299732%5D%2C%0A%20%20%20%20%20%20%20%20%20%20%20%20%20%20%20%20%7B%0A%20%20%22bubblingMouseEvents%22%3A%20true%2C%0A%20%20%22color%22%3A%20%22%23b2f396%22%2C%0A%20%20%22dashArray%22%3A%20null%2C%0A%20%20%22dashOffset%22%3A%20null%2C%0A%20%20%22fill%22%3A%20true%2C%0A%20%20%22fillColor%22%3A%20%22%23b2f396%22%2C%0A%20%20%22fillOpacity%22%3A%200.7%2C%0A%20%20%22fillRule%22%3A%20%22evenodd%22%2C%0A%20%20%22lineCap%22%3A%20%22round%22%2C%0A%20%20%22lineJoin%22%3A%20%22round%22%2C%0A%20%20%22opacity%22%3A%201.0%2C%0A%20%20%22radius%22%3A%205%2C%0A%20%20%22stroke%22%3A%20true%2C%0A%20%20%22weight%22%3A%203%0A%7D%0A%20%20%20%20%20%20%20%20%20%20%20%20%20%20%20%20%29%0A%20%20%20%20%20%20%20%20%20%20%20%20%20%20%20%20.addTo%28map_60c342cb0efd42cca2d79889e0aeb8c8%29%3B%0A%20%20%20%20%20%20%20%20%20%20%20%20%0A%20%20%20%20%0A%20%20%20%20%20%20%20%20%20%20%20%20var%20popup_c50f2c6f251942a9925b5c19fca9298f%20%3D%20L.popup%28%7BmaxWidth%3A%20%27100%25%27%0A%20%20%20%20%20%20%20%20%20%20%20%20%0A%20%20%20%20%20%20%20%20%20%20%20%20%7D%29%3B%0A%0A%20%20%20%20%20%20%20%20%20%20%20%20%0A%20%20%20%20%20%20%20%20%20%20%20%20%20%20%20%20var%20html_0d9c679ff60f479194279679e559e219%20%3D%20%24%28%60%3Cdiv%20id%3D%22html_0d9c679ff60f479194279679e559e219%22%20style%3D%22width%3A%20100.0%25%3B%20height%3A%20100.0%25%3B%22%3E%20Cluster%204%3C/div%3E%60%29%5B0%5D%3B%0A%20%20%20%20%20%20%20%20%20%20%20%20%20%20%20%20popup_c50f2c6f251942a9925b5c19fca9298f.setContent%28html_0d9c679ff60f479194279679e559e219%29%3B%0A%20%20%20%20%20%20%20%20%20%20%20%20%0A%0A%20%20%20%20%20%20%20%20%20%20%20%20circle_marker_4e43efcd75f44fe89554cd686c2addae.bindPopup%28popup_c50f2c6f251942a9925b5c19fca9298f%29%0A%20%20%20%20%20%20%20%20%20%20%20%20%3B%0A%0A%20%20%20%20%20%20%20%20%20%20%20%20%0A%20%20%20%20%20%20%20%20%0A%20%20%20%20%0A%20%20%20%20%20%20%20%20%20%20%20%20var%20circle_marker_61b4b9edad4d443384cf5866bdf99914%20%3D%20L.circleMarker%28%0A%20%20%20%20%20%20%20%20%20%20%20%20%20%20%20%20%5B-23.586324%2C%20-46.6727974%5D%2C%0A%20%20%20%20%20%20%20%20%20%20%20%20%20%20%20%20%7B%0A%20%20%22bubblingMouseEvents%22%3A%20true%2C%0A%20%20%22color%22%3A%20%22%23b2f396%22%2C%0A%20%20%22dashArray%22%3A%20null%2C%0A%20%20%22dashOffset%22%3A%20null%2C%0A%20%20%22fill%22%3A%20true%2C%0A%20%20%22fillColor%22%3A%20%22%23b2f396%22%2C%0A%20%20%22fillOpacity%22%3A%200.7%2C%0A%20%20%22fillRule%22%3A%20%22evenodd%22%2C%0A%20%20%22lineCap%22%3A%20%22round%22%2C%0A%20%20%22lineJoin%22%3A%20%22round%22%2C%0A%20%20%22opacity%22%3A%201.0%2C%0A%20%20%22radius%22%3A%205%2C%0A%20%20%22stroke%22%3A%20true%2C%0A%20%20%22weight%22%3A%203%0A%7D%0A%20%20%20%20%20%20%20%20%20%20%20%20%20%20%20%20%29%0A%20%20%20%20%20%20%20%20%20%20%20%20%20%20%20%20.addTo%28map_60c342cb0efd42cca2d79889e0aeb8c8%29%3B%0A%20%20%20%20%20%20%20%20%20%20%20%20%0A%20%20%20%20%0A%20%20%20%20%20%20%20%20%20%20%20%20var%20popup_0e8ec431414b416083c48d3db86fd953%20%3D%20L.popup%28%7BmaxWidth%3A%20%27100%25%27%0A%20%20%20%20%20%20%20%20%20%20%20%20%0A%20%20%20%20%20%20%20%20%20%20%20%20%7D%29%3B%0A%0A%20%20%20%20%20%20%20%20%20%20%20%20%0A%20%20%20%20%20%20%20%20%20%20%20%20%20%20%20%20var%20html_134e0dd5b95d4dc698668306289ee580%20%3D%20%24%28%60%3Cdiv%20id%3D%22html_134e0dd5b95d4dc698668306289ee580%22%20style%3D%22width%3A%20100.0%25%3B%20height%3A%20100.0%25%3B%22%3E%20Cluster%204%3C/div%3E%60%29%5B0%5D%3B%0A%20%20%20%20%20%20%20%20%20%20%20%20%20%20%20%20popup_0e8ec431414b416083c48d3db86fd953.setContent%28html_134e0dd5b95d4dc698668306289ee580%29%3B%0A%20%20%20%20%20%20%20%20%20%20%20%20%0A%0A%20%20%20%20%20%20%20%20%20%20%20%20circle_marker_61b4b9edad4d443384cf5866bdf99914.bindPopup%28popup_0e8ec431414b416083c48d3db86fd953%29%0A%20%20%20%20%20%20%20%20%20%20%20%20%3B%0A%0A%20%20%20%20%20%20%20%20%20%20%20%20%0A%20%20%20%20%20%20%20%20%0A%20%20%20%20%0A%20%20%20%20%20%20%20%20%20%20%20%20var%20circle_marker_daf501627c48493f8a0033b9989e2c37%20%3D%20L.circleMarker%28%0A%20%20%20%20%20%20%20%20%20%20%20%20%20%20%20%20%5B-23.5659871%2C%20-46.5725147%5D%2C%0A%20%20%20%20%20%20%20%20%20%20%20%20%20%20%20%20%7B%0A%20%20%22bubblingMouseEvents%22%3A%20true%2C%0A%20%20%22color%22%3A%20%22%23ff0000%22%2C%0A%20%20%22dashArray%22%3A%20null%2C%0A%20%20%22dashOffset%22%3A%20null%2C%0A%20%20%22fill%22%3A%20true%2C%0A%20%20%22fillColor%22%3A%20%22%23ff0000%22%2C%0A%20%20%22fillOpacity%22%3A%200.7%2C%0A%20%20%22fillRule%22%3A%20%22evenodd%22%2C%0A%20%20%22lineCap%22%3A%20%22round%22%2C%0A%20%20%22lineJoin%22%3A%20%22round%22%2C%0A%20%20%22opacity%22%3A%201.0%2C%0A%20%20%22radius%22%3A%205%2C%0A%20%20%22stroke%22%3A%20true%2C%0A%20%20%22weight%22%3A%203%0A%7D%0A%20%20%20%20%20%20%20%20%20%20%20%20%20%20%20%20%29%0A%20%20%20%20%20%20%20%20%20%20%20%20%20%20%20%20.addTo%28map_60c342cb0efd42cca2d79889e0aeb8c8%29%3B%0A%20%20%20%20%20%20%20%20%20%20%20%20%0A%20%20%20%20%0A%20%20%20%20%20%20%20%20%20%20%20%20var%20popup_f95d7c3874e146c28011bb9564b5eee0%20%3D%20L.popup%28%7BmaxWidth%3A%20%27100%25%27%0A%20%20%20%20%20%20%20%20%20%20%20%20%0A%20%20%20%20%20%20%20%20%20%20%20%20%7D%29%3B%0A%0A%20%20%20%20%20%20%20%20%20%20%20%20%0A%20%20%20%20%20%20%20%20%20%20%20%20%20%20%20%20var%20html_42e3d6617fde435da9155addc94eeda4%20%3D%20%24%28%60%3Cdiv%20id%3D%22html_42e3d6617fde435da9155addc94eeda4%22%20style%3D%22width%3A%20100.0%25%3B%20height%3A%20100.0%25%3B%22%3E%20Cluster%200%3C/div%3E%60%29%5B0%5D%3B%0A%20%20%20%20%20%20%20%20%20%20%20%20%20%20%20%20popup_f95d7c3874e146c28011bb9564b5eee0.setContent%28html_42e3d6617fde435da9155addc94eeda4%29%3B%0A%20%20%20%20%20%20%20%20%20%20%20%20%0A%0A%20%20%20%20%20%20%20%20%20%20%20%20circle_marker_daf501627c48493f8a0033b9989e2c37.bindPopup%28popup_f95d7c3874e146c28011bb9564b5eee0%29%0A%20%20%20%20%20%20%20%20%20%20%20%20%3B%0A%0A%20%20%20%20%20%20%20%20%20%20%20%20%0A%20%20%20%20%20%20%20%20%0A%20%20%20%20%0A%20%20%20%20%20%20%20%20%20%20%20%20var%20circle_marker_6325f84f030c4e51adf675f4d938f1a5%20%3D%20L.circleMarker%28%0A%20%20%20%20%20%20%20%20%20%20%20%20%20%20%20%20%5B-23.5741181%2C%20-46.6845744%5D%2C%0A%20%20%20%20%20%20%20%20%20%20%20%20%20%20%20%20%7B%0A%20%20%22bubblingMouseEvents%22%3A%20true%2C%0A%20%20%22color%22%3A%20%22%234df3ce%22%2C%0A%20%20%22dashArray%22%3A%20null%2C%0A%20%20%22dashOffset%22%3A%20null%2C%0A%20%20%22fill%22%3A%20true%2C%0A%20%20%22fillColor%22%3A%20%22%234df3ce%22%2C%0A%20%20%22fillOpacity%22%3A%200.7%2C%0A%20%20%22fillRule%22%3A%20%22evenodd%22%2C%0A%20%20%22lineCap%22%3A%20%22round%22%2C%0A%20%20%22lineJoin%22%3A%20%22round%22%2C%0A%20%20%22opacity%22%3A%201.0%2C%0A%20%20%22radius%22%3A%205%2C%0A%20%20%22stroke%22%3A%20true%2C%0A%20%20%22weight%22%3A%203%0A%7D%0A%20%20%20%20%20%20%20%20%20%20%20%20%20%20%20%20%29%0A%20%20%20%20%20%20%20%20%20%20%20%20%20%20%20%20.addTo%28map_60c342cb0efd42cca2d79889e0aeb8c8%29%3B%0A%20%20%20%20%20%20%20%20%20%20%20%20%0A%20%20%20%20%0A%20%20%20%20%20%20%20%20%20%20%20%20var%20popup_a9dd0ff1ff034261b0cab1d5fd309a67%20%3D%20L.popup%28%7BmaxWidth%3A%20%27100%25%27%0A%20%20%20%20%20%20%20%20%20%20%20%20%0A%20%20%20%20%20%20%20%20%20%20%20%20%7D%29%3B%0A%0A%20%20%20%20%20%20%20%20%20%20%20%20%0A%20%20%20%20%20%20%20%20%20%20%20%20%20%20%20%20var%20html_1e1913bb243249919eaadc792cb67f03%20%3D%20%24%28%60%3Cdiv%20id%3D%22html_1e1913bb243249919eaadc792cb67f03%22%20style%3D%22width%3A%20100.0%25%3B%20height%3A%20100.0%25%3B%22%3E%20Cluster%203%3C/div%3E%60%29%5B0%5D%3B%0A%20%20%20%20%20%20%20%20%20%20%20%20%20%20%20%20popup_a9dd0ff1ff034261b0cab1d5fd309a67.setContent%28html_1e1913bb243249919eaadc792cb67f03%29%3B%0A%20%20%20%20%20%20%20%20%20%20%20%20%0A%0A%20%20%20%20%20%20%20%20%20%20%20%20circle_marker_6325f84f030c4e51adf675f4d938f1a5.bindPopup%28popup_a9dd0ff1ff034261b0cab1d5fd309a67%29%0A%20%20%20%20%20%20%20%20%20%20%20%20%3B%0A%0A%20%20%20%20%20%20%20%20%20%20%20%20%0A%20%20%20%20%20%20%20%20%0A%20%20%20%20%0A%20%20%20%20%20%20%20%20%20%20%20%20var%20circle_marker_3df8f976ab084778a2c6d76a0aaf523b%20%3D%20L.circleMarker%28%0A%20%20%20%20%20%20%20%20%20%20%20%20%20%20%20%20%5B-23.5774987%2C%20-46.6868248%5D%2C%0A%20%20%20%20%20%20%20%20%20%20%20%20%20%20%20%20%7B%0A%20%20%22bubblingMouseEvents%22%3A%20true%2C%0A%20%20%22color%22%3A%20%22%23b2f396%22%2C%0A%20%20%22dashArray%22%3A%20null%2C%0A%20%20%22dashOffset%22%3A%20null%2C%0A%20%20%22fill%22%3A%20true%2C%0A%20%20%22fillColor%22%3A%20%22%23b2f396%22%2C%0A%20%20%22fillOpacity%22%3A%200.7%2C%0A%20%20%22fillRule%22%3A%20%22evenodd%22%2C%0A%20%20%22lineCap%22%3A%20%22round%22%2C%0A%20%20%22lineJoin%22%3A%20%22round%22%2C%0A%20%20%22opacity%22%3A%201.0%2C%0A%20%20%22radius%22%3A%205%2C%0A%20%20%22stroke%22%3A%20true%2C%0A%20%20%22weight%22%3A%203%0A%7D%0A%20%20%20%20%20%20%20%20%20%20%20%20%20%20%20%20%29%0A%20%20%20%20%20%20%20%20%20%20%20%20%20%20%20%20.addTo%28map_60c342cb0efd42cca2d79889e0aeb8c8%29%3B%0A%20%20%20%20%20%20%20%20%20%20%20%20%0A%20%20%20%20%0A%20%20%20%20%20%20%20%20%20%20%20%20var%20popup_1d8dc53b578c4b7789a691abc74db6eb%20%3D%20L.popup%28%7BmaxWidth%3A%20%27100%25%27%0A%20%20%20%20%20%20%20%20%20%20%20%20%0A%20%20%20%20%20%20%20%20%20%20%20%20%7D%29%3B%0A%0A%20%20%20%20%20%20%20%20%20%20%20%20%0A%20%20%20%20%20%20%20%20%20%20%20%20%20%20%20%20var%20html_dfbfd8de743248bd8b21748ab22009e1%20%3D%20%24%28%60%3Cdiv%20id%3D%22html_dfbfd8de743248bd8b21748ab22009e1%22%20style%3D%22width%3A%20100.0%25%3B%20height%3A%20100.0%25%3B%22%3E%20Cluster%204%3C/div%3E%60%29%5B0%5D%3B%0A%20%20%20%20%20%20%20%20%20%20%20%20%20%20%20%20popup_1d8dc53b578c4b7789a691abc74db6eb.setContent%28html_dfbfd8de743248bd8b21748ab22009e1%29%3B%0A%20%20%20%20%20%20%20%20%20%20%20%20%0A%0A%20%20%20%20%20%20%20%20%20%20%20%20circle_marker_3df8f976ab084778a2c6d76a0aaf523b.bindPopup%28popup_1d8dc53b578c4b7789a691abc74db6eb%29%0A%20%20%20%20%20%20%20%20%20%20%20%20%3B%0A%0A%20%20%20%20%20%20%20%20%20%20%20%20%0A%20%20%20%20%20%20%20%20%0A%20%20%20%20%0A%20%20%20%20%20%20%20%20%20%20%20%20var%20circle_marker_73306cde46f24bceac6f7eb96d737f52%20%3D%20L.circleMarker%28%0A%20%20%20%20%20%20%20%20%20%20%20%20%20%20%20%20%5B-23.5774987%2C%20-46.6868248%5D%2C%0A%20%20%20%20%20%20%20%20%20%20%20%20%20%20%20%20%7B%0A%20%20%22bubblingMouseEvents%22%3A%20true%2C%0A%20%20%22color%22%3A%20%22%23ff0000%22%2C%0A%20%20%22dashArray%22%3A%20null%2C%0A%20%20%22dashOffset%22%3A%20null%2C%0A%20%20%22fill%22%3A%20true%2C%0A%20%20%22fillColor%22%3A%20%22%23ff0000%22%2C%0A%20%20%22fillOpacity%22%3A%200.7%2C%0A%20%20%22fillRule%22%3A%20%22evenodd%22%2C%0A%20%20%22lineCap%22%3A%20%22round%22%2C%0A%20%20%22lineJoin%22%3A%20%22round%22%2C%0A%20%20%22opacity%22%3A%201.0%2C%0A%20%20%22radius%22%3A%205%2C%0A%20%20%22stroke%22%3A%20true%2C%0A%20%20%22weight%22%3A%203%0A%7D%0A%20%20%20%20%20%20%20%20%20%20%20%20%20%20%20%20%29%0A%20%20%20%20%20%20%20%20%20%20%20%20%20%20%20%20.addTo%28map_60c342cb0efd42cca2d79889e0aeb8c8%29%3B%0A%20%20%20%20%20%20%20%20%20%20%20%20%0A%20%20%20%20%0A%20%20%20%20%20%20%20%20%20%20%20%20var%20popup_f6202bae5acf4a89a3db6497d93bdff5%20%3D%20L.popup%28%7BmaxWidth%3A%20%27100%25%27%0A%20%20%20%20%20%20%20%20%20%20%20%20%0A%20%20%20%20%20%20%20%20%20%20%20%20%7D%29%3B%0A%0A%20%20%20%20%20%20%20%20%20%20%20%20%0A%20%20%20%20%20%20%20%20%20%20%20%20%20%20%20%20var%20html_ec7bc1d1daf3469ea35ac1452a583372%20%3D%20%24%28%60%3Cdiv%20id%3D%22html_ec7bc1d1daf3469ea35ac1452a583372%22%20style%3D%22width%3A%20100.0%25%3B%20height%3A%20100.0%25%3B%22%3E%20Cluster%200%3C/div%3E%60%29%5B0%5D%3B%0A%20%20%20%20%20%20%20%20%20%20%20%20%20%20%20%20popup_f6202bae5acf4a89a3db6497d93bdff5.setContent%28html_ec7bc1d1daf3469ea35ac1452a583372%29%3B%0A%20%20%20%20%20%20%20%20%20%20%20%20%0A%0A%20%20%20%20%20%20%20%20%20%20%20%20circle_marker_73306cde46f24bceac6f7eb96d737f52.bindPopup%28popup_f6202bae5acf4a89a3db6497d93bdff5%29%0A%20%20%20%20%20%20%20%20%20%20%20%20%3B%0A%0A%20%20%20%20%20%20%20%20%20%20%20%20%0A%20%20%20%20%20%20%20%20%0A%20%20%20%20%0A%20%20%20%20%20%20%20%20%20%20%20%20var%20circle_marker_98840e73b07048dea5bb5a7952cdb366%20%3D%20L.circleMarker%28%0A%20%20%20%20%20%20%20%20%20%20%20%20%20%20%20%20%5B-23.5298378%2C%20-46.6850028%5D%2C%0A%20%20%20%20%20%20%20%20%20%20%20%20%20%20%20%20%7B%0A%20%20%22bubblingMouseEvents%22%3A%20true%2C%0A%20%20%22color%22%3A%20%22%23b2f396%22%2C%0A%20%20%22dashArray%22%3A%20null%2C%0A%20%20%22dashOffset%22%3A%20null%2C%0A%20%20%22fill%22%3A%20true%2C%0A%20%20%22fillColor%22%3A%20%22%23b2f396%22%2C%0A%20%20%22fillOpacity%22%3A%200.7%2C%0A%20%20%22fillRule%22%3A%20%22evenodd%22%2C%0A%20%20%22lineCap%22%3A%20%22round%22%2C%0A%20%20%22lineJoin%22%3A%20%22round%22%2C%0A%20%20%22opacity%22%3A%201.0%2C%0A%20%20%22radius%22%3A%205%2C%0A%20%20%22stroke%22%3A%20true%2C%0A%20%20%22weight%22%3A%203%0A%7D%0A%20%20%20%20%20%20%20%20%20%20%20%20%20%20%20%20%29%0A%20%20%20%20%20%20%20%20%20%20%20%20%20%20%20%20.addTo%28map_60c342cb0efd42cca2d79889e0aeb8c8%29%3B%0A%20%20%20%20%20%20%20%20%20%20%20%20%0A%20%20%20%20%0A%20%20%20%20%20%20%20%20%20%20%20%20var%20popup_629699d5ad854f9f9fd0c6cca4fd8ad0%20%3D%20L.popup%28%7BmaxWidth%3A%20%27100%25%27%0A%20%20%20%20%20%20%20%20%20%20%20%20%0A%20%20%20%20%20%20%20%20%20%20%20%20%7D%29%3B%0A%0A%20%20%20%20%20%20%20%20%20%20%20%20%0A%20%20%20%20%20%20%20%20%20%20%20%20%20%20%20%20var%20html_695be3ae017a4c31ae621690d0f0716b%20%3D%20%24%28%60%3Cdiv%20id%3D%22html_695be3ae017a4c31ae621690d0f0716b%22%20style%3D%22width%3A%20100.0%25%3B%20height%3A%20100.0%25%3B%22%3E%20Cluster%204%3C/div%3E%60%29%5B0%5D%3B%0A%20%20%20%20%20%20%20%20%20%20%20%20%20%20%20%20popup_629699d5ad854f9f9fd0c6cca4fd8ad0.setContent%28html_695be3ae017a4c31ae621690d0f0716b%29%3B%0A%20%20%20%20%20%20%20%20%20%20%20%20%0A%0A%20%20%20%20%20%20%20%20%20%20%20%20circle_marker_98840e73b07048dea5bb5a7952cdb366.bindPopup%28popup_629699d5ad854f9f9fd0c6cca4fd8ad0%29%0A%20%20%20%20%20%20%20%20%20%20%20%20%3B%0A%0A%20%20%20%20%20%20%20%20%20%20%20%20%0A%20%20%20%20%20%20%20%20%0A%20%20%20%20%0A%20%20%20%20%20%20%20%20%20%20%20%20var%20circle_marker_27453ff4f942451dbed1fe1f2b291d97%20%3D%20L.circleMarker%28%0A%20%20%20%20%20%20%20%20%20%20%20%20%20%20%20%20%5B-23.6034531%2C%20-46.6601581%5D%2C%0A%20%20%20%20%20%20%20%20%20%20%20%20%20%20%20%20%7B%0A%20%20%22bubblingMouseEvents%22%3A%20true%2C%0A%20%20%22color%22%3A%20%22%231996f3%22%2C%0A%20%20%22dashArray%22%3A%20null%2C%0A%20%20%22dashOffset%22%3A%20null%2C%0A%20%20%22fill%22%3A%20true%2C%0A%20%20%22fillColor%22%3A%20%22%231996f3%22%2C%0A%20%20%22fillOpacity%22%3A%200.7%2C%0A%20%20%22fillRule%22%3A%20%22evenodd%22%2C%0A%20%20%22lineCap%22%3A%20%22round%22%2C%0A%20%20%22lineJoin%22%3A%20%22round%22%2C%0A%20%20%22opacity%22%3A%201.0%2C%0A%20%20%22radius%22%3A%205%2C%0A%20%20%22stroke%22%3A%20true%2C%0A%20%20%22weight%22%3A%203%0A%7D%0A%20%20%20%20%20%20%20%20%20%20%20%20%20%20%20%20%29%0A%20%20%20%20%20%20%20%20%20%20%20%20%20%20%20%20.addTo%28map_60c342cb0efd42cca2d79889e0aeb8c8%29%3B%0A%20%20%20%20%20%20%20%20%20%20%20%20%0A%20%20%20%20%0A%20%20%20%20%20%20%20%20%20%20%20%20var%20popup_1980060cab3c481eb4bd512106ba3251%20%3D%20L.popup%28%7BmaxWidth%3A%20%27100%25%27%0A%20%20%20%20%20%20%20%20%20%20%20%20%0A%20%20%20%20%20%20%20%20%20%20%20%20%7D%29%3B%0A%0A%20%20%20%20%20%20%20%20%20%20%20%20%0A%20%20%20%20%20%20%20%20%20%20%20%20%20%20%20%20var%20html_e66461bb3e1c45c5aac61184fc314cbc%20%3D%20%24%28%60%3Cdiv%20id%3D%22html_e66461bb3e1c45c5aac61184fc314cbc%22%20style%3D%22width%3A%20100.0%25%3B%20height%3A%20100.0%25%3B%22%3E%20Cluster%202%3C/div%3E%60%29%5B0%5D%3B%0A%20%20%20%20%20%20%20%20%20%20%20%20%20%20%20%20popup_1980060cab3c481eb4bd512106ba3251.setContent%28html_e66461bb3e1c45c5aac61184fc314cbc%29%3B%0A%20%20%20%20%20%20%20%20%20%20%20%20%0A%0A%20%20%20%20%20%20%20%20%20%20%20%20circle_marker_27453ff4f942451dbed1fe1f2b291d97.bindPopup%28popup_1980060cab3c481eb4bd512106ba3251%29%0A%20%20%20%20%20%20%20%20%20%20%20%20%3B%0A%0A%20%20%20%20%20%20%20%20%20%20%20%20%0A%20%20%20%20%20%20%20%20%0A%20%20%20%20%0A%20%20%20%20%20%20%20%20%20%20%20%20var%20circle_marker_e974c57387ff4cf493196ad3484949f0%20%3D%20L.circleMarker%28%0A%20%20%20%20%20%20%20%20%20%20%20%20%20%20%20%20%5B-23.5610562%2C%20-46.6930783%5D%2C%0A%20%20%20%20%20%20%20%20%20%20%20%20%20%20%20%20%7B%0A%20%20%22bubblingMouseEvents%22%3A%20true%2C%0A%20%20%22color%22%3A%20%22%23b2f396%22%2C%0A%20%20%22dashArray%22%3A%20null%2C%0A%20%20%22dashOffset%22%3A%20null%2C%0A%20%20%22fill%22%3A%20true%2C%0A%20%20%22fillColor%22%3A%20%22%23b2f396%22%2C%0A%20%20%22fillOpacity%22%3A%200.7%2C%0A%20%20%22fillRule%22%3A%20%22evenodd%22%2C%0A%20%20%22lineCap%22%3A%20%22round%22%2C%0A%20%20%22lineJoin%22%3A%20%22round%22%2C%0A%20%20%22opacity%22%3A%201.0%2C%0A%20%20%22radius%22%3A%205%2C%0A%20%20%22stroke%22%3A%20true%2C%0A%20%20%22weight%22%3A%203%0A%7D%0A%20%20%20%20%20%20%20%20%20%20%20%20%20%20%20%20%29%0A%20%20%20%20%20%20%20%20%20%20%20%20%20%20%20%20.addTo%28map_60c342cb0efd42cca2d79889e0aeb8c8%29%3B%0A%20%20%20%20%20%20%20%20%20%20%20%20%0A%20%20%20%20%0A%20%20%20%20%20%20%20%20%20%20%20%20var%20popup_6eb196b87ebe4328b6f6d3976b2b6890%20%3D%20L.popup%28%7BmaxWidth%3A%20%27100%25%27%0A%20%20%20%20%20%20%20%20%20%20%20%20%0A%20%20%20%20%20%20%20%20%20%20%20%20%7D%29%3B%0A%0A%20%20%20%20%20%20%20%20%20%20%20%20%0A%20%20%20%20%20%20%20%20%20%20%20%20%20%20%20%20var%20html_edf53153f8e14b63bf9dfb844f072f08%20%3D%20%24%28%60%3Cdiv%20id%3D%22html_edf53153f8e14b63bf9dfb844f072f08%22%20style%3D%22width%3A%20100.0%25%3B%20height%3A%20100.0%25%3B%22%3E%20Cluster%204%3C/div%3E%60%29%5B0%5D%3B%0A%20%20%20%20%20%20%20%20%20%20%20%20%20%20%20%20popup_6eb196b87ebe4328b6f6d3976b2b6890.setContent%28html_edf53153f8e14b63bf9dfb844f072f08%29%3B%0A%20%20%20%20%20%20%20%20%20%20%20%20%0A%0A%20%20%20%20%20%20%20%20%20%20%20%20circle_marker_e974c57387ff4cf493196ad3484949f0.bindPopup%28popup_6eb196b87ebe4328b6f6d3976b2b6890%29%0A%20%20%20%20%20%20%20%20%20%20%20%20%3B%0A%0A%20%20%20%20%20%20%20%20%20%20%20%20%0A%20%20%20%20%20%20%20%20%0A%20%20%20%20%0A%20%20%20%20%20%20%20%20%20%20%20%20var%20circle_marker_0d31428efb734636a9228d979c6984bb%20%3D%20L.circleMarker%28%0A%20%20%20%20%20%20%20%20%20%20%20%20%20%20%20%20%5B-23.532273%2C%20-46.575437%5D%2C%0A%20%20%20%20%20%20%20%20%20%20%20%20%20%20%20%20%7B%0A%20%20%22bubblingMouseEvents%22%3A%20true%2C%0A%20%20%22color%22%3A%20%22%23b2f396%22%2C%0A%20%20%22dashArray%22%3A%20null%2C%0A%20%20%22dashOffset%22%3A%20null%2C%0A%20%20%22fill%22%3A%20true%2C%0A%20%20%22fillColor%22%3A%20%22%23b2f396%22%2C%0A%20%20%22fillOpacity%22%3A%200.7%2C%0A%20%20%22fillRule%22%3A%20%22evenodd%22%2C%0A%20%20%22lineCap%22%3A%20%22round%22%2C%0A%20%20%22lineJoin%22%3A%20%22round%22%2C%0A%20%20%22opacity%22%3A%201.0%2C%0A%20%20%22radius%22%3A%205%2C%0A%20%20%22stroke%22%3A%20true%2C%0A%20%20%22weight%22%3A%203%0A%7D%0A%20%20%20%20%20%20%20%20%20%20%20%20%20%20%20%20%29%0A%20%20%20%20%20%20%20%20%20%20%20%20%20%20%20%20.addTo%28map_60c342cb0efd42cca2d79889e0aeb8c8%29%3B%0A%20%20%20%20%20%20%20%20%20%20%20%20%0A%20%20%20%20%0A%20%20%20%20%20%20%20%20%20%20%20%20var%20popup_8f78f4aca3734cccaab23be41959388b%20%3D%20L.popup%28%7BmaxWidth%3A%20%27100%25%27%0A%20%20%20%20%20%20%20%20%20%20%20%20%0A%20%20%20%20%20%20%20%20%20%20%20%20%7D%29%3B%0A%0A%20%20%20%20%20%20%20%20%20%20%20%20%0A%20%20%20%20%20%20%20%20%20%20%20%20%20%20%20%20var%20html_24352925ac214089b2c600a9ae1c518f%20%3D%20%24%28%60%3Cdiv%20id%3D%22html_24352925ac214089b2c600a9ae1c518f%22%20style%3D%22width%3A%20100.0%25%3B%20height%3A%20100.0%25%3B%22%3E%20Cluster%204%3C/div%3E%60%29%5B0%5D%3B%0A%20%20%20%20%20%20%20%20%20%20%20%20%20%20%20%20popup_8f78f4aca3734cccaab23be41959388b.setContent%28html_24352925ac214089b2c600a9ae1c518f%29%3B%0A%20%20%20%20%20%20%20%20%20%20%20%20%0A%0A%20%20%20%20%20%20%20%20%20%20%20%20circle_marker_0d31428efb734636a9228d979c6984bb.bindPopup%28popup_8f78f4aca3734cccaab23be41959388b%29%0A%20%20%20%20%20%20%20%20%20%20%20%20%3B%0A%0A%20%20%20%20%20%20%20%20%20%20%20%20%0A%20%20%20%20%20%20%20%20%0A%20%20%20%20%0A%20%20%20%20%20%20%20%20%20%20%20%20var%20circle_marker_408cc73bd6b644838cba8d4ada5e9a82%20%3D%20L.circleMarker%28%0A%20%20%20%20%20%20%20%20%20%20%20%20%20%20%20%20%5B-23.5426915%2C%20-46.4585157%5D%2C%0A%20%20%20%20%20%20%20%20%20%20%20%20%20%20%20%20%7B%0A%20%20%22bubblingMouseEvents%22%3A%20true%2C%0A%20%20%22color%22%3A%20%22%238000ff%22%2C%0A%20%20%22dashArray%22%3A%20null%2C%0A%20%20%22dashOffset%22%3A%20null%2C%0A%20%20%22fill%22%3A%20true%2C%0A%20%20%22fillColor%22%3A%20%22%238000ff%22%2C%0A%20%20%22fillOpacity%22%3A%200.7%2C%0A%20%20%22fillRule%22%3A%20%22evenodd%22%2C%0A%20%20%22lineCap%22%3A%20%22round%22%2C%0A%20%20%22lineJoin%22%3A%20%22round%22%2C%0A%20%20%22opacity%22%3A%201.0%2C%0A%20%20%22radius%22%3A%205%2C%0A%20%20%22stroke%22%3A%20true%2C%0A%20%20%22weight%22%3A%203%0A%7D%0A%20%20%20%20%20%20%20%20%20%20%20%20%20%20%20%20%29%0A%20%20%20%20%20%20%20%20%20%20%20%20%20%20%20%20.addTo%28map_60c342cb0efd42cca2d79889e0aeb8c8%29%3B%0A%20%20%20%20%20%20%20%20%20%20%20%20%0A%20%20%20%20%0A%20%20%20%20%20%20%20%20%20%20%20%20var%20popup_8fa4d87435374ecab7bf473a217fa7fd%20%3D%20L.popup%28%7BmaxWidth%3A%20%27100%25%27%0A%20%20%20%20%20%20%20%20%20%20%20%20%0A%20%20%20%20%20%20%20%20%20%20%20%20%7D%29%3B%0A%0A%20%20%20%20%20%20%20%20%20%20%20%20%0A%20%20%20%20%20%20%20%20%20%20%20%20%20%20%20%20var%20html_874c36a3ee6445dc96c47b9f25ba1f85%20%3D%20%24%28%60%3Cdiv%20id%3D%22html_874c36a3ee6445dc96c47b9f25ba1f85%22%20style%3D%22width%3A%20100.0%25%3B%20height%3A%20100.0%25%3B%22%3E%20Cluster%201%3C/div%3E%60%29%5B0%5D%3B%0A%20%20%20%20%20%20%20%20%20%20%20%20%20%20%20%20popup_8fa4d87435374ecab7bf473a217fa7fd.setContent%28html_874c36a3ee6445dc96c47b9f25ba1f85%29%3B%0A%20%20%20%20%20%20%20%20%20%20%20%20%0A%0A%20%20%20%20%20%20%20%20%20%20%20%20circle_marker_408cc73bd6b644838cba8d4ada5e9a82.bindPopup%28popup_8fa4d87435374ecab7bf473a217fa7fd%29%0A%20%20%20%20%20%20%20%20%20%20%20%20%3B%0A%0A%20%20%20%20%20%20%20%20%20%20%20%20%0A%20%20%20%20%20%20%20%20%0A%20%20%20%20%0A%20%20%20%20%20%20%20%20%20%20%20%20var%20circle_marker_8533dda90f21481ab0d7a9ef6c0d48c1%20%3D%20L.circleMarker%28%0A%20%20%20%20%20%20%20%20%20%20%20%20%20%20%20%20%5B-23.5445611%2C%20-46.5346811%5D%2C%0A%20%20%20%20%20%20%20%20%20%20%20%20%20%20%20%20%7B%0A%20%20%22bubblingMouseEvents%22%3A%20true%2C%0A%20%20%22color%22%3A%20%22%23b2f396%22%2C%0A%20%20%22dashArray%22%3A%20null%2C%0A%20%20%22dashOffset%22%3A%20null%2C%0A%20%20%22fill%22%3A%20true%2C%0A%20%20%22fillColor%22%3A%20%22%23b2f396%22%2C%0A%20%20%22fillOpacity%22%3A%200.7%2C%0A%20%20%22fillRule%22%3A%20%22evenodd%22%2C%0A%20%20%22lineCap%22%3A%20%22round%22%2C%0A%20%20%22lineJoin%22%3A%20%22round%22%2C%0A%20%20%22opacity%22%3A%201.0%2C%0A%20%20%22radius%22%3A%205%2C%0A%20%20%22stroke%22%3A%20true%2C%0A%20%20%22weight%22%3A%203%0A%7D%0A%20%20%20%20%20%20%20%20%20%20%20%20%20%20%20%20%29%0A%20%20%20%20%20%20%20%20%20%20%20%20%20%20%20%20.addTo%28map_60c342cb0efd42cca2d79889e0aeb8c8%29%3B%0A%20%20%20%20%20%20%20%20%20%20%20%20%0A%20%20%20%20%0A%20%20%20%20%20%20%20%20%20%20%20%20var%20popup_6d1c23c480044092b1f3b465fe00e706%20%3D%20L.popup%28%7BmaxWidth%3A%20%27100%25%27%0A%20%20%20%20%20%20%20%20%20%20%20%20%0A%20%20%20%20%20%20%20%20%20%20%20%20%7D%29%3B%0A%0A%20%20%20%20%20%20%20%20%20%20%20%20%0A%20%20%20%20%20%20%20%20%20%20%20%20%20%20%20%20var%20html_599b60be25794a5f8719880bf4294004%20%3D%20%24%28%60%3Cdiv%20id%3D%22html_599b60be25794a5f8719880bf4294004%22%20style%3D%22width%3A%20100.0%25%3B%20height%3A%20100.0%25%3B%22%3E%20Cluster%204%3C/div%3E%60%29%5B0%5D%3B%0A%20%20%20%20%20%20%20%20%20%20%20%20%20%20%20%20popup_6d1c23c480044092b1f3b465fe00e706.setContent%28html_599b60be25794a5f8719880bf4294004%29%3B%0A%20%20%20%20%20%20%20%20%20%20%20%20%0A%0A%20%20%20%20%20%20%20%20%20%20%20%20circle_marker_8533dda90f21481ab0d7a9ef6c0d48c1.bindPopup%28popup_6d1c23c480044092b1f3b465fe00e706%29%0A%20%20%20%20%20%20%20%20%20%20%20%20%3B%0A%0A%20%20%20%20%20%20%20%20%20%20%20%20%0A%20%20%20%20%20%20%20%20%0A%20%20%20%20%0A%20%20%20%20%20%20%20%20%20%20%20%20var%20circle_marker_a09bb469ba8a4774a35557607a0dfcc9%20%3D%20L.circleMarker%28%0A%20%20%20%20%20%20%20%20%20%20%20%20%20%20%20%20%5B-23.5484881%2C%20-46.5713849%5D%2C%0A%20%20%20%20%20%20%20%20%20%20%20%20%20%20%20%20%7B%0A%20%20%22bubblingMouseEvents%22%3A%20true%2C%0A%20%20%22color%22%3A%20%22%23b2f396%22%2C%0A%20%20%22dashArray%22%3A%20null%2C%0A%20%20%22dashOffset%22%3A%20null%2C%0A%20%20%22fill%22%3A%20true%2C%0A%20%20%22fillColor%22%3A%20%22%23b2f396%22%2C%0A%20%20%22fillOpacity%22%3A%200.7%2C%0A%20%20%22fillRule%22%3A%20%22evenodd%22%2C%0A%20%20%22lineCap%22%3A%20%22round%22%2C%0A%20%20%22lineJoin%22%3A%20%22round%22%2C%0A%20%20%22opacity%22%3A%201.0%2C%0A%20%20%22radius%22%3A%205%2C%0A%20%20%22stroke%22%3A%20true%2C%0A%20%20%22weight%22%3A%203%0A%7D%0A%20%20%20%20%20%20%20%20%20%20%20%20%20%20%20%20%29%0A%20%20%20%20%20%20%20%20%20%20%20%20%20%20%20%20.addTo%28map_60c342cb0efd42cca2d79889e0aeb8c8%29%3B%0A%20%20%20%20%20%20%20%20%20%20%20%20%0A%20%20%20%20%0A%20%20%20%20%20%20%20%20%20%20%20%20var%20popup_86e8d4ad674d427680d7d077418d48f7%20%3D%20L.popup%28%7BmaxWidth%3A%20%27100%25%27%0A%20%20%20%20%20%20%20%20%20%20%20%20%0A%20%20%20%20%20%20%20%20%20%20%20%20%7D%29%3B%0A%0A%20%20%20%20%20%20%20%20%20%20%20%20%0A%20%20%20%20%20%20%20%20%20%20%20%20%20%20%20%20var%20html_14d96ee0289a426b93df1090497734aa%20%3D%20%24%28%60%3Cdiv%20id%3D%22html_14d96ee0289a426b93df1090497734aa%22%20style%3D%22width%3A%20100.0%25%3B%20height%3A%20100.0%25%3B%22%3E%20Cluster%204%3C/div%3E%60%29%5B0%5D%3B%0A%20%20%20%20%20%20%20%20%20%20%20%20%20%20%20%20popup_86e8d4ad674d427680d7d077418d48f7.setContent%28html_14d96ee0289a426b93df1090497734aa%29%3B%0A%20%20%20%20%20%20%20%20%20%20%20%20%0A%0A%20%20%20%20%20%20%20%20%20%20%20%20circle_marker_a09bb469ba8a4774a35557607a0dfcc9.bindPopup%28popup_86e8d4ad674d427680d7d077418d48f7%29%0A%20%20%20%20%20%20%20%20%20%20%20%20%3B%0A%0A%20%20%20%20%20%20%20%20%20%20%20%20%0A%20%20%20%20%20%20%20%20%0A%20%20%20%20%0A%20%20%20%20%20%20%20%20%20%20%20%20var%20circle_marker_5abba82ac84245fb93e7b85fff12f7b0%20%3D%20L.circleMarker%28%0A%20%20%20%20%20%20%20%20%20%20%20%20%20%20%20%20%5B-23.5320246%2C%20-46.6382693%5D%2C%0A%20%20%20%20%20%20%20%20%20%20%20%20%20%20%20%20%7B%0A%20%20%22bubblingMouseEvents%22%3A%20true%2C%0A%20%20%22color%22%3A%20%22%23ff0000%22%2C%0A%20%20%22dashArray%22%3A%20null%2C%0A%20%20%22dashOffset%22%3A%20null%2C%0A%20%20%22fill%22%3A%20true%2C%0A%20%20%22fillColor%22%3A%20%22%23ff0000%22%2C%0A%20%20%22fillOpacity%22%3A%200.7%2C%0A%20%20%22fillRule%22%3A%20%22evenodd%22%2C%0A%20%20%22lineCap%22%3A%20%22round%22%2C%0A%20%20%22lineJoin%22%3A%20%22round%22%2C%0A%20%20%22opacity%22%3A%201.0%2C%0A%20%20%22radius%22%3A%205%2C%0A%20%20%22stroke%22%3A%20true%2C%0A%20%20%22weight%22%3A%203%0A%7D%0A%20%20%20%20%20%20%20%20%20%20%20%20%20%20%20%20%29%0A%20%20%20%20%20%20%20%20%20%20%20%20%20%20%20%20.addTo%28map_60c342cb0efd42cca2d79889e0aeb8c8%29%3B%0A%20%20%20%20%20%20%20%20%20%20%20%20%0A%20%20%20%20%0A%20%20%20%20%20%20%20%20%20%20%20%20var%20popup_4d9074dd5eb844f3b41fe194e44d6f41%20%3D%20L.popup%28%7BmaxWidth%3A%20%27100%25%27%0A%20%20%20%20%20%20%20%20%20%20%20%20%0A%20%20%20%20%20%20%20%20%20%20%20%20%7D%29%3B%0A%0A%20%20%20%20%20%20%20%20%20%20%20%20%0A%20%20%20%20%20%20%20%20%20%20%20%20%20%20%20%20var%20html_13dfe3c4b8cd4206a8a925b3fafb4120%20%3D%20%24%28%60%3Cdiv%20id%3D%22html_13dfe3c4b8cd4206a8a925b3fafb4120%22%20style%3D%22width%3A%20100.0%25%3B%20height%3A%20100.0%25%3B%22%3E%20Cluster%200%3C/div%3E%60%29%5B0%5D%3B%0A%20%20%20%20%20%20%20%20%20%20%20%20%20%20%20%20popup_4d9074dd5eb844f3b41fe194e44d6f41.setContent%28html_13dfe3c4b8cd4206a8a925b3fafb4120%29%3B%0A%20%20%20%20%20%20%20%20%20%20%20%20%0A%0A%20%20%20%20%20%20%20%20%20%20%20%20circle_marker_5abba82ac84245fb93e7b85fff12f7b0.bindPopup%28popup_4d9074dd5eb844f3b41fe194e44d6f41%29%0A%20%20%20%20%20%20%20%20%20%20%20%20%3B%0A%0A%20%20%20%20%20%20%20%20%20%20%20%20%0A%20%20%20%20%20%20%20%20%0A%20%20%20%20%0A%20%20%20%20%20%20%20%20%20%20%20%20var%20circle_marker_d05b998bea714ec898a1013bfbf261ad%20%3D%20L.circleMarker%28%0A%20%20%20%20%20%20%20%20%20%20%20%20%20%20%20%20%5B-23.5669632%2C%20-46.5438668%5D%2C%0A%20%20%20%20%20%20%20%20%20%20%20%20%20%20%20%20%7B%0A%20%20%22bubblingMouseEvents%22%3A%20true%2C%0A%20%20%22color%22%3A%20%22%234df3ce%22%2C%0A%20%20%22dashArray%22%3A%20null%2C%0A%20%20%22dashOffset%22%3A%20null%2C%0A%20%20%22fill%22%3A%20true%2C%0A%20%20%22fillColor%22%3A%20%22%234df3ce%22%2C%0A%20%20%22fillOpacity%22%3A%200.7%2C%0A%20%20%22fillRule%22%3A%20%22evenodd%22%2C%0A%20%20%22lineCap%22%3A%20%22round%22%2C%0A%20%20%22lineJoin%22%3A%20%22round%22%2C%0A%20%20%22opacity%22%3A%201.0%2C%0A%20%20%22radius%22%3A%205%2C%0A%20%20%22stroke%22%3A%20true%2C%0A%20%20%22weight%22%3A%203%0A%7D%0A%20%20%20%20%20%20%20%20%20%20%20%20%20%20%20%20%29%0A%20%20%20%20%20%20%20%20%20%20%20%20%20%20%20%20.addTo%28map_60c342cb0efd42cca2d79889e0aeb8c8%29%3B%0A%20%20%20%20%20%20%20%20%20%20%20%20%0A%20%20%20%20%0A%20%20%20%20%20%20%20%20%20%20%20%20var%20popup_2fe6a7d519c24a41a15cdb5abc3b3113%20%3D%20L.popup%28%7BmaxWidth%3A%20%27100%25%27%0A%20%20%20%20%20%20%20%20%20%20%20%20%0A%20%20%20%20%20%20%20%20%20%20%20%20%7D%29%3B%0A%0A%20%20%20%20%20%20%20%20%20%20%20%20%0A%20%20%20%20%20%20%20%20%20%20%20%20%20%20%20%20var%20html_801f3e643cee4f178f4d1eae73c68916%20%3D%20%24%28%60%3Cdiv%20id%3D%22html_801f3e643cee4f178f4d1eae73c68916%22%20style%3D%22width%3A%20100.0%25%3B%20height%3A%20100.0%25%3B%22%3E%20Cluster%203%3C/div%3E%60%29%5B0%5D%3B%0A%20%20%20%20%20%20%20%20%20%20%20%20%20%20%20%20popup_2fe6a7d519c24a41a15cdb5abc3b3113.setContent%28html_801f3e643cee4f178f4d1eae73c68916%29%3B%0A%20%20%20%20%20%20%20%20%20%20%20%20%0A%0A%20%20%20%20%20%20%20%20%20%20%20%20circle_marker_d05b998bea714ec898a1013bfbf261ad.bindPopup%28popup_2fe6a7d519c24a41a15cdb5abc3b3113%29%0A%20%20%20%20%20%20%20%20%20%20%20%20%3B%0A%0A%20%20%20%20%20%20%20%20%20%20%20%20%0A%20%20%20%20%20%20%20%20%0A%20%20%20%20%0A%20%20%20%20%20%20%20%20%20%20%20%20var%20circle_marker_385591c8138041339a41cf390aee1361%20%3D%20L.circleMarker%28%0A%20%20%20%20%20%20%20%20%20%20%20%20%20%20%20%20%5B-23.4811901%2C%20-46.6184217%5D%2C%0A%20%20%20%20%20%20%20%20%20%20%20%20%20%20%20%20%7B%0A%20%20%22bubblingMouseEvents%22%3A%20true%2C%0A%20%20%22color%22%3A%20%22%234df3ce%22%2C%0A%20%20%22dashArray%22%3A%20null%2C%0A%20%20%22dashOffset%22%3A%20null%2C%0A%20%20%22fill%22%3A%20true%2C%0A%20%20%22fillColor%22%3A%20%22%234df3ce%22%2C%0A%20%20%22fillOpacity%22%3A%200.7%2C%0A%20%20%22fillRule%22%3A%20%22evenodd%22%2C%0A%20%20%22lineCap%22%3A%20%22round%22%2C%0A%20%20%22lineJoin%22%3A%20%22round%22%2C%0A%20%20%22opacity%22%3A%201.0%2C%0A%20%20%22radius%22%3A%205%2C%0A%20%20%22stroke%22%3A%20true%2C%0A%20%20%22weight%22%3A%203%0A%7D%0A%20%20%20%20%20%20%20%20%20%20%20%20%20%20%20%20%29%0A%20%20%20%20%20%20%20%20%20%20%20%20%20%20%20%20.addTo%28map_60c342cb0efd42cca2d79889e0aeb8c8%29%3B%0A%20%20%20%20%20%20%20%20%20%20%20%20%0A%20%20%20%20%0A%20%20%20%20%20%20%20%20%20%20%20%20var%20popup_934e5c9b80144671af7e939d87a8d34b%20%3D%20L.popup%28%7BmaxWidth%3A%20%27100%25%27%0A%20%20%20%20%20%20%20%20%20%20%20%20%0A%20%20%20%20%20%20%20%20%20%20%20%20%7D%29%3B%0A%0A%20%20%20%20%20%20%20%20%20%20%20%20%0A%20%20%20%20%20%20%20%20%20%20%20%20%20%20%20%20var%20html_c83fa1db1c924a1ba57f80dd6ca1ae7f%20%3D%20%24%28%60%3Cdiv%20id%3D%22html_c83fa1db1c924a1ba57f80dd6ca1ae7f%22%20style%3D%22width%3A%20100.0%25%3B%20height%3A%20100.0%25%3B%22%3E%20Cluster%203%3C/div%3E%60%29%5B0%5D%3B%0A%20%20%20%20%20%20%20%20%20%20%20%20%20%20%20%20popup_934e5c9b80144671af7e939d87a8d34b.setContent%28html_c83fa1db1c924a1ba57f80dd6ca1ae7f%29%3B%0A%20%20%20%20%20%20%20%20%20%20%20%20%0A%0A%20%20%20%20%20%20%20%20%20%20%20%20circle_marker_385591c8138041339a41cf390aee1361.bindPopup%28popup_934e5c9b80144671af7e939d87a8d34b%29%0A%20%20%20%20%20%20%20%20%20%20%20%20%3B%0A%0A%20%20%20%20%20%20%20%20%20%20%20%20%0A%20%20%20%20%20%20%20%20%0A%20%20%20%20%0A%20%20%20%20%20%20%20%20%20%20%20%20var%20circle_marker_842fe50caf754f11bb2bc2ebd5816360%20%3D%20L.circleMarker%28%0A%20%20%20%20%20%20%20%20%20%20%20%20%20%20%20%20%5B-23.4925895%2C%20-46.6093669%5D%2C%0A%20%20%20%20%20%20%20%20%20%20%20%20%20%20%20%20%7B%0A%20%20%22bubblingMouseEvents%22%3A%20true%2C%0A%20%20%22color%22%3A%20%22%238000ff%22%2C%0A%20%20%22dashArray%22%3A%20null%2C%0A%20%20%22dashOffset%22%3A%20null%2C%0A%20%20%22fill%22%3A%20true%2C%0A%20%20%22fillColor%22%3A%20%22%238000ff%22%2C%0A%20%20%22fillOpacity%22%3A%200.7%2C%0A%20%20%22fillRule%22%3A%20%22evenodd%22%2C%0A%20%20%22lineCap%22%3A%20%22round%22%2C%0A%20%20%22lineJoin%22%3A%20%22round%22%2C%0A%20%20%22opacity%22%3A%201.0%2C%0A%20%20%22radius%22%3A%205%2C%0A%20%20%22stroke%22%3A%20true%2C%0A%20%20%22weight%22%3A%203%0A%7D%0A%20%20%20%20%20%20%20%20%20%20%20%20%20%20%20%20%29%0A%20%20%20%20%20%20%20%20%20%20%20%20%20%20%20%20.addTo%28map_60c342cb0efd42cca2d79889e0aeb8c8%29%3B%0A%20%20%20%20%20%20%20%20%20%20%20%20%0A%20%20%20%20%0A%20%20%20%20%20%20%20%20%20%20%20%20var%20popup_f53d6a25e4ff43089e0f0617c69e1d63%20%3D%20L.popup%28%7BmaxWidth%3A%20%27100%25%27%0A%20%20%20%20%20%20%20%20%20%20%20%20%0A%20%20%20%20%20%20%20%20%20%20%20%20%7D%29%3B%0A%0A%20%20%20%20%20%20%20%20%20%20%20%20%0A%20%20%20%20%20%20%20%20%20%20%20%20%20%20%20%20var%20html_055f7efbca6a488697f8486dc3bdfee8%20%3D%20%24%28%60%3Cdiv%20id%3D%22html_055f7efbca6a488697f8486dc3bdfee8%22%20style%3D%22width%3A%20100.0%25%3B%20height%3A%20100.0%25%3B%22%3E%20Cluster%201%3C/div%3E%60%29%5B0%5D%3B%0A%20%20%20%20%20%20%20%20%20%20%20%20%20%20%20%20popup_f53d6a25e4ff43089e0f0617c69e1d63.setContent%28html_055f7efbca6a488697f8486dc3bdfee8%29%3B%0A%20%20%20%20%20%20%20%20%20%20%20%20%0A%0A%20%20%20%20%20%20%20%20%20%20%20%20circle_marker_842fe50caf754f11bb2bc2ebd5816360.bindPopup%28popup_f53d6a25e4ff43089e0f0617c69e1d63%29%0A%20%20%20%20%20%20%20%20%20%20%20%20%3B%0A%0A%20%20%20%20%20%20%20%20%20%20%20%20%0A%20%20%20%20%20%20%20%20%0A%20%20%20%20%0A%20%20%20%20%20%20%20%20%20%20%20%20var%20circle_marker_5890055214064ba8b8760a54d9656d0e%20%3D%20L.circleMarker%28%0A%20%20%20%20%20%20%20%20%20%20%20%20%20%20%20%20%5B-23.5480935%2C%20-46.572232%5D%2C%0A%20%20%20%20%20%20%20%20%20%20%20%20%20%20%20%20%7B%0A%20%20%22bubblingMouseEvents%22%3A%20true%2C%0A%20%20%22color%22%3A%20%22%23b2f396%22%2C%0A%20%20%22dashArray%22%3A%20null%2C%0A%20%20%22dashOffset%22%3A%20null%2C%0A%20%20%22fill%22%3A%20true%2C%0A%20%20%22fillColor%22%3A%20%22%23b2f396%22%2C%0A%20%20%22fillOpacity%22%3A%200.7%2C%0A%20%20%22fillRule%22%3A%20%22evenodd%22%2C%0A%20%20%22lineCap%22%3A%20%22round%22%2C%0A%20%20%22lineJoin%22%3A%20%22round%22%2C%0A%20%20%22opacity%22%3A%201.0%2C%0A%20%20%22radius%22%3A%205%2C%0A%20%20%22stroke%22%3A%20true%2C%0A%20%20%22weight%22%3A%203%0A%7D%0A%20%20%20%20%20%20%20%20%20%20%20%20%20%20%20%20%29%0A%20%20%20%20%20%20%20%20%20%20%20%20%20%20%20%20.addTo%28map_60c342cb0efd42cca2d79889e0aeb8c8%29%3B%0A%20%20%20%20%20%20%20%20%20%20%20%20%0A%20%20%20%20%0A%20%20%20%20%20%20%20%20%20%20%20%20var%20popup_53c2e61dcc854fd788eb1cc95766c01f%20%3D%20L.popup%28%7BmaxWidth%3A%20%27100%25%27%0A%20%20%20%20%20%20%20%20%20%20%20%20%0A%20%20%20%20%20%20%20%20%20%20%20%20%7D%29%3B%0A%0A%20%20%20%20%20%20%20%20%20%20%20%20%0A%20%20%20%20%20%20%20%20%20%20%20%20%20%20%20%20var%20html_41041497296f428b8b45e4fe36a55681%20%3D%20%24%28%60%3Cdiv%20id%3D%22html_41041497296f428b8b45e4fe36a55681%22%20style%3D%22width%3A%20100.0%25%3B%20height%3A%20100.0%25%3B%22%3E%20Cluster%204%3C/div%3E%60%29%5B0%5D%3B%0A%20%20%20%20%20%20%20%20%20%20%20%20%20%20%20%20popup_53c2e61dcc854fd788eb1cc95766c01f.setContent%28html_41041497296f428b8b45e4fe36a55681%29%3B%0A%20%20%20%20%20%20%20%20%20%20%20%20%0A%0A%20%20%20%20%20%20%20%20%20%20%20%20circle_marker_5890055214064ba8b8760a54d9656d0e.bindPopup%28popup_53c2e61dcc854fd788eb1cc95766c01f%29%0A%20%20%20%20%20%20%20%20%20%20%20%20%3B%0A%0A%20%20%20%20%20%20%20%20%20%20%20%20%0A%20%20%20%20%20%20%20%20%0A%20%20%20%20%0A%20%20%20%20%20%20%20%20%20%20%20%20var%20circle_marker_c50c9d35beff4000abef73724817bbab%20%3D%20L.circleMarker%28%0A%20%20%20%20%20%20%20%20%20%20%20%20%20%20%20%20%5B-23.588433%2C%20-46.63216800000001%5D%2C%0A%20%20%20%20%20%20%20%20%20%20%20%20%20%20%20%20%7B%0A%20%20%22bubblingMouseEvents%22%3A%20true%2C%0A%20%20%22color%22%3A%20%22%23b2f396%22%2C%0A%20%20%22dashArray%22%3A%20null%2C%0A%20%20%22dashOffset%22%3A%20null%2C%0A%20%20%22fill%22%3A%20true%2C%0A%20%20%22fillColor%22%3A%20%22%23b2f396%22%2C%0A%20%20%22fillOpacity%22%3A%200.7%2C%0A%20%20%22fillRule%22%3A%20%22evenodd%22%2C%0A%20%20%22lineCap%22%3A%20%22round%22%2C%0A%20%20%22lineJoin%22%3A%20%22round%22%2C%0A%20%20%22opacity%22%3A%201.0%2C%0A%20%20%22radius%22%3A%205%2C%0A%20%20%22stroke%22%3A%20true%2C%0A%20%20%22weight%22%3A%203%0A%7D%0A%20%20%20%20%20%20%20%20%20%20%20%20%20%20%20%20%29%0A%20%20%20%20%20%20%20%20%20%20%20%20%20%20%20%20.addTo%28map_60c342cb0efd42cca2d79889e0aeb8c8%29%3B%0A%20%20%20%20%20%20%20%20%20%20%20%20%0A%20%20%20%20%0A%20%20%20%20%20%20%20%20%20%20%20%20var%20popup_1296df97eef24f2eae7437615a31e2ee%20%3D%20L.popup%28%7BmaxWidth%3A%20%27100%25%27%0A%20%20%20%20%20%20%20%20%20%20%20%20%0A%20%20%20%20%20%20%20%20%20%20%20%20%7D%29%3B%0A%0A%20%20%20%20%20%20%20%20%20%20%20%20%0A%20%20%20%20%20%20%20%20%20%20%20%20%20%20%20%20var%20html_30077808e73746d99e7cdaac1d3db3ba%20%3D%20%24%28%60%3Cdiv%20id%3D%22html_30077808e73746d99e7cdaac1d3db3ba%22%20style%3D%22width%3A%20100.0%25%3B%20height%3A%20100.0%25%3B%22%3E%20Cluster%204%3C/div%3E%60%29%5B0%5D%3B%0A%20%20%20%20%20%20%20%20%20%20%20%20%20%20%20%20popup_1296df97eef24f2eae7437615a31e2ee.setContent%28html_30077808e73746d99e7cdaac1d3db3ba%29%3B%0A%20%20%20%20%20%20%20%20%20%20%20%20%0A%0A%20%20%20%20%20%20%20%20%20%20%20%20circle_marker_c50c9d35beff4000abef73724817bbab.bindPopup%28popup_1296df97eef24f2eae7437615a31e2ee%29%0A%20%20%20%20%20%20%20%20%20%20%20%20%3B%0A%0A%20%20%20%20%20%20%20%20%20%20%20%20%0A%20%20%20%20%20%20%20%20%0A%20%20%20%20%0A%20%20%20%20%20%20%20%20%20%20%20%20var%20circle_marker_76f1bc8c815d4c04a36047c8a0f74384%20%3D%20L.circleMarker%28%0A%20%20%20%20%20%20%20%20%20%20%20%20%20%20%20%20%5B-23.5822459%2C%20-46.6494602%5D%2C%0A%20%20%20%20%20%20%20%20%20%20%20%20%20%20%20%20%7B%0A%20%20%22bubblingMouseEvents%22%3A%20true%2C%0A%20%20%22color%22%3A%20%22%23ff0000%22%2C%0A%20%20%22dashArray%22%3A%20null%2C%0A%20%20%22dashOffset%22%3A%20null%2C%0A%20%20%22fill%22%3A%20true%2C%0A%20%20%22fillColor%22%3A%20%22%23ff0000%22%2C%0A%20%20%22fillOpacity%22%3A%200.7%2C%0A%20%20%22fillRule%22%3A%20%22evenodd%22%2C%0A%20%20%22lineCap%22%3A%20%22round%22%2C%0A%20%20%22lineJoin%22%3A%20%22round%22%2C%0A%20%20%22opacity%22%3A%201.0%2C%0A%20%20%22radius%22%3A%205%2C%0A%20%20%22stroke%22%3A%20true%2C%0A%20%20%22weight%22%3A%203%0A%7D%0A%20%20%20%20%20%20%20%20%20%20%20%20%20%20%20%20%29%0A%20%20%20%20%20%20%20%20%20%20%20%20%20%20%20%20.addTo%28map_60c342cb0efd42cca2d79889e0aeb8c8%29%3B%0A%20%20%20%20%20%20%20%20%20%20%20%20%0A%20%20%20%20%0A%20%20%20%20%20%20%20%20%20%20%20%20var%20popup_6a3ec55a56304056808c339d7f3da2df%20%3D%20L.popup%28%7BmaxWidth%3A%20%27100%25%27%0A%20%20%20%20%20%20%20%20%20%20%20%20%0A%20%20%20%20%20%20%20%20%20%20%20%20%7D%29%3B%0A%0A%20%20%20%20%20%20%20%20%20%20%20%20%0A%20%20%20%20%20%20%20%20%20%20%20%20%20%20%20%20var%20html_075f9bb3a243456da742b7838a5fe7e2%20%3D%20%24%28%60%3Cdiv%20id%3D%22html_075f9bb3a243456da742b7838a5fe7e2%22%20style%3D%22width%3A%20100.0%25%3B%20height%3A%20100.0%25%3B%22%3E%20Cluster%200%3C/div%3E%60%29%5B0%5D%3B%0A%20%20%20%20%20%20%20%20%20%20%20%20%20%20%20%20popup_6a3ec55a56304056808c339d7f3da2df.setContent%28html_075f9bb3a243456da742b7838a5fe7e2%29%3B%0A%20%20%20%20%20%20%20%20%20%20%20%20%0A%0A%20%20%20%20%20%20%20%20%20%20%20%20circle_marker_76f1bc8c815d4c04a36047c8a0f74384.bindPopup%28popup_6a3ec55a56304056808c339d7f3da2df%29%0A%20%20%20%20%20%20%20%20%20%20%20%20%3B%0A%0A%20%20%20%20%20%20%20%20%20%20%20%20%0A%20%20%20%20%20%20%20%20%0A%20%20%20%20%0A%20%20%20%20%20%20%20%20%20%20%20%20var%20circle_marker_1d2c4e7d555f464db244aed89ae0b9b0%20%3D%20L.circleMarker%28%0A%20%20%20%20%20%20%20%20%20%20%20%20%20%20%20%20%5B-23.5698961%2C%20-46.6597714%5D%2C%0A%20%20%20%20%20%20%20%20%20%20%20%20%20%20%20%20%7B%0A%20%20%22bubblingMouseEvents%22%3A%20true%2C%0A%20%20%22color%22%3A%20%22%23b2f396%22%2C%0A%20%20%22dashArray%22%3A%20null%2C%0A%20%20%22dashOffset%22%3A%20null%2C%0A%20%20%22fill%22%3A%20true%2C%0A%20%20%22fillColor%22%3A%20%22%23b2f396%22%2C%0A%20%20%22fillOpacity%22%3A%200.7%2C%0A%20%20%22fillRule%22%3A%20%22evenodd%22%2C%0A%20%20%22lineCap%22%3A%20%22round%22%2C%0A%20%20%22lineJoin%22%3A%20%22round%22%2C%0A%20%20%22opacity%22%3A%201.0%2C%0A%20%20%22radius%22%3A%205%2C%0A%20%20%22stroke%22%3A%20true%2C%0A%20%20%22weight%22%3A%203%0A%7D%0A%20%20%20%20%20%20%20%20%20%20%20%20%20%20%20%20%29%0A%20%20%20%20%20%20%20%20%20%20%20%20%20%20%20%20.addTo%28map_60c342cb0efd42cca2d79889e0aeb8c8%29%3B%0A%20%20%20%20%20%20%20%20%20%20%20%20%0A%20%20%20%20%0A%20%20%20%20%20%20%20%20%20%20%20%20var%20popup_72ba8260950c4240884cdde1f084878b%20%3D%20L.popup%28%7BmaxWidth%3A%20%27100%25%27%0A%20%20%20%20%20%20%20%20%20%20%20%20%0A%20%20%20%20%20%20%20%20%20%20%20%20%7D%29%3B%0A%0A%20%20%20%20%20%20%20%20%20%20%20%20%0A%20%20%20%20%20%20%20%20%20%20%20%20%20%20%20%20var%20html_05592eb7c55d4619925ae1c3124160ad%20%3D%20%24%28%60%3Cdiv%20id%3D%22html_05592eb7c55d4619925ae1c3124160ad%22%20style%3D%22width%3A%20100.0%25%3B%20height%3A%20100.0%25%3B%22%3E%20Cluster%204%3C/div%3E%60%29%5B0%5D%3B%0A%20%20%20%20%20%20%20%20%20%20%20%20%20%20%20%20popup_72ba8260950c4240884cdde1f084878b.setContent%28html_05592eb7c55d4619925ae1c3124160ad%29%3B%0A%20%20%20%20%20%20%20%20%20%20%20%20%0A%0A%20%20%20%20%20%20%20%20%20%20%20%20circle_marker_1d2c4e7d555f464db244aed89ae0b9b0.bindPopup%28popup_72ba8260950c4240884cdde1f084878b%29%0A%20%20%20%20%20%20%20%20%20%20%20%20%3B%0A%0A%20%20%20%20%20%20%20%20%20%20%20%20%0A%20%20%20%20%20%20%20%20%0A%20%20%20%20%0A%20%20%20%20%20%20%20%20%20%20%20%20var%20circle_marker_98dbcf3cf33e432c8b576b05fcf44ce6%20%3D%20L.circleMarker%28%0A%20%20%20%20%20%20%20%20%20%20%20%20%20%20%20%20%5B-23.5893838%2C%20-46.6316989%5D%2C%0A%20%20%20%20%20%20%20%20%20%20%20%20%20%20%20%20%7B%0A%20%20%22bubblingMouseEvents%22%3A%20true%2C%0A%20%20%22color%22%3A%20%22%23b2f396%22%2C%0A%20%20%22dashArray%22%3A%20null%2C%0A%20%20%22dashOffset%22%3A%20null%2C%0A%20%20%22fill%22%3A%20true%2C%0A%20%20%22fillColor%22%3A%20%22%23b2f396%22%2C%0A%20%20%22fillOpacity%22%3A%200.7%2C%0A%20%20%22fillRule%22%3A%20%22evenodd%22%2C%0A%20%20%22lineCap%22%3A%20%22round%22%2C%0A%20%20%22lineJoin%22%3A%20%22round%22%2C%0A%20%20%22opacity%22%3A%201.0%2C%0A%20%20%22radius%22%3A%205%2C%0A%20%20%22stroke%22%3A%20true%2C%0A%20%20%22weight%22%3A%203%0A%7D%0A%20%20%20%20%20%20%20%20%20%20%20%20%20%20%20%20%29%0A%20%20%20%20%20%20%20%20%20%20%20%20%20%20%20%20.addTo%28map_60c342cb0efd42cca2d79889e0aeb8c8%29%3B%0A%20%20%20%20%20%20%20%20%20%20%20%20%0A%20%20%20%20%0A%20%20%20%20%20%20%20%20%20%20%20%20var%20popup_0b64b8e8e36b4cda955bfe026cb7d4ec%20%3D%20L.popup%28%7BmaxWidth%3A%20%27100%25%27%0A%20%20%20%20%20%20%20%20%20%20%20%20%0A%20%20%20%20%20%20%20%20%20%20%20%20%7D%29%3B%0A%0A%20%20%20%20%20%20%20%20%20%20%20%20%0A%20%20%20%20%20%20%20%20%20%20%20%20%20%20%20%20var%20html_e17acb676e694c69b66c45410994bc89%20%3D%20%24%28%60%3Cdiv%20id%3D%22html_e17acb676e694c69b66c45410994bc89%22%20style%3D%22width%3A%20100.0%25%3B%20height%3A%20100.0%25%3B%22%3E%20Cluster%204%3C/div%3E%60%29%5B0%5D%3B%0A%20%20%20%20%20%20%20%20%20%20%20%20%20%20%20%20popup_0b64b8e8e36b4cda955bfe026cb7d4ec.setContent%28html_e17acb676e694c69b66c45410994bc89%29%3B%0A%20%20%20%20%20%20%20%20%20%20%20%20%0A%0A%20%20%20%20%20%20%20%20%20%20%20%20circle_marker_98dbcf3cf33e432c8b576b05fcf44ce6.bindPopup%28popup_0b64b8e8e36b4cda955bfe026cb7d4ec%29%0A%20%20%20%20%20%20%20%20%20%20%20%20%3B%0A%0A%20%20%20%20%20%20%20%20%20%20%20%20%0A%20%20%20%20%20%20%20%20%0A%20%20%20%20%0A%20%20%20%20%20%20%20%20%20%20%20%20var%20circle_marker_cd9fd324b7d9402d9ba7729124ee90b4%20%3D%20L.circleMarker%28%0A%20%20%20%20%20%20%20%20%20%20%20%20%20%20%20%20%5B-23.5659871%2C%20-46.5725147%5D%2C%0A%20%20%20%20%20%20%20%20%20%20%20%20%20%20%20%20%7B%0A%20%20%22bubblingMouseEvents%22%3A%20true%2C%0A%20%20%22color%22%3A%20%22%231996f3%22%2C%0A%20%20%22dashArray%22%3A%20null%2C%0A%20%20%22dashOffset%22%3A%20null%2C%0A%20%20%22fill%22%3A%20true%2C%0A%20%20%22fillColor%22%3A%20%22%231996f3%22%2C%0A%20%20%22fillOpacity%22%3A%200.7%2C%0A%20%20%22fillRule%22%3A%20%22evenodd%22%2C%0A%20%20%22lineCap%22%3A%20%22round%22%2C%0A%20%20%22lineJoin%22%3A%20%22round%22%2C%0A%20%20%22opacity%22%3A%201.0%2C%0A%20%20%22radius%22%3A%205%2C%0A%20%20%22stroke%22%3A%20true%2C%0A%20%20%22weight%22%3A%203%0A%7D%0A%20%20%20%20%20%20%20%20%20%20%20%20%20%20%20%20%29%0A%20%20%20%20%20%20%20%20%20%20%20%20%20%20%20%20.addTo%28map_60c342cb0efd42cca2d79889e0aeb8c8%29%3B%0A%20%20%20%20%20%20%20%20%20%20%20%20%0A%20%20%20%20%0A%20%20%20%20%20%20%20%20%20%20%20%20var%20popup_b5b5572e23584ac2ba7b97337407b5a4%20%3D%20L.popup%28%7BmaxWidth%3A%20%27100%25%27%0A%20%20%20%20%20%20%20%20%20%20%20%20%0A%20%20%20%20%20%20%20%20%20%20%20%20%7D%29%3B%0A%0A%20%20%20%20%20%20%20%20%20%20%20%20%0A%20%20%20%20%20%20%20%20%20%20%20%20%20%20%20%20var%20html_ad162895204c4e56a1dca2c2b83e9792%20%3D%20%24%28%60%3Cdiv%20id%3D%22html_ad162895204c4e56a1dca2c2b83e9792%22%20style%3D%22width%3A%20100.0%25%3B%20height%3A%20100.0%25%3B%22%3E%20Cluster%202%3C/div%3E%60%29%5B0%5D%3B%0A%20%20%20%20%20%20%20%20%20%20%20%20%20%20%20%20popup_b5b5572e23584ac2ba7b97337407b5a4.setContent%28html_ad162895204c4e56a1dca2c2b83e9792%29%3B%0A%20%20%20%20%20%20%20%20%20%20%20%20%0A%0A%20%20%20%20%20%20%20%20%20%20%20%20circle_marker_cd9fd324b7d9402d9ba7729124ee90b4.bindPopup%28popup_b5b5572e23584ac2ba7b97337407b5a4%29%0A%20%20%20%20%20%20%20%20%20%20%20%20%3B%0A%0A%20%20%20%20%20%20%20%20%20%20%20%20%0A%20%20%20%20%20%20%20%20%0A%20%20%20%20%0A%20%20%20%20%20%20%20%20%20%20%20%20var%20circle_marker_4dc3edf1f69f4cd48a478516bc674138%20%3D%20L.circleMarker%28%0A%20%20%20%20%20%20%20%20%20%20%20%20%20%20%20%20%5B-23.6409799%2C%20-46.6436387%5D%2C%0A%20%20%20%20%20%20%20%20%20%20%20%20%20%20%20%20%7B%0A%20%20%22bubblingMouseEvents%22%3A%20true%2C%0A%20%20%22color%22%3A%20%22%231996f3%22%2C%0A%20%20%22dashArray%22%3A%20null%2C%0A%20%20%22dashOffset%22%3A%20null%2C%0A%20%20%22fill%22%3A%20true%2C%0A%20%20%22fillColor%22%3A%20%22%231996f3%22%2C%0A%20%20%22fillOpacity%22%3A%200.7%2C%0A%20%20%22fillRule%22%3A%20%22evenodd%22%2C%0A%20%20%22lineCap%22%3A%20%22round%22%2C%0A%20%20%22lineJoin%22%3A%20%22round%22%2C%0A%20%20%22opacity%22%3A%201.0%2C%0A%20%20%22radius%22%3A%205%2C%0A%20%20%22stroke%22%3A%20true%2C%0A%20%20%22weight%22%3A%203%0A%7D%0A%20%20%20%20%20%20%20%20%20%20%20%20%20%20%20%20%29%0A%20%20%20%20%20%20%20%20%20%20%20%20%20%20%20%20.addTo%28map_60c342cb0efd42cca2d79889e0aeb8c8%29%3B%0A%20%20%20%20%20%20%20%20%20%20%20%20%0A%20%20%20%20%0A%20%20%20%20%20%20%20%20%20%20%20%20var%20popup_faa40463c40d4735b28bc9e2def4a9ed%20%3D%20L.popup%28%7BmaxWidth%3A%20%27100%25%27%0A%20%20%20%20%20%20%20%20%20%20%20%20%0A%20%20%20%20%20%20%20%20%20%20%20%20%7D%29%3B%0A%0A%20%20%20%20%20%20%20%20%20%20%20%20%0A%20%20%20%20%20%20%20%20%20%20%20%20%20%20%20%20var%20html_87303ddea11b439896b6afd42be220f0%20%3D%20%24%28%60%3Cdiv%20id%3D%22html_87303ddea11b439896b6afd42be220f0%22%20style%3D%22width%3A%20100.0%25%3B%20height%3A%20100.0%25%3B%22%3E%20Cluster%202%3C/div%3E%60%29%5B0%5D%3B%0A%20%20%20%20%20%20%20%20%20%20%20%20%20%20%20%20popup_faa40463c40d4735b28bc9e2def4a9ed.setContent%28html_87303ddea11b439896b6afd42be220f0%29%3B%0A%20%20%20%20%20%20%20%20%20%20%20%20%0A%0A%20%20%20%20%20%20%20%20%20%20%20%20circle_marker_4dc3edf1f69f4cd48a478516bc674138.bindPopup%28popup_faa40463c40d4735b28bc9e2def4a9ed%29%0A%20%20%20%20%20%20%20%20%20%20%20%20%3B%0A%0A%20%20%20%20%20%20%20%20%20%20%20%20%0A%20%20%20%20%20%20%20%20%0A%20%20%20%20%0A%20%20%20%20%20%20%20%20%20%20%20%20var%20circle_marker_84e9701e37d64052b9cd9e65ce0ed826%20%3D%20L.circleMarker%28%0A%20%20%20%20%20%20%20%20%20%20%20%20%20%20%20%20%5B-23.5718843%2C%20-46.6458107%5D%2C%0A%20%20%20%20%20%20%20%20%20%20%20%20%20%20%20%20%7B%0A%20%20%22bubblingMouseEvents%22%3A%20true%2C%0A%20%20%22color%22%3A%20%22%23b2f396%22%2C%0A%20%20%22dashArray%22%3A%20null%2C%0A%20%20%22dashOffset%22%3A%20null%2C%0A%20%20%22fill%22%3A%20true%2C%0A%20%20%22fillColor%22%3A%20%22%23b2f396%22%2C%0A%20%20%22fillOpacity%22%3A%200.7%2C%0A%20%20%22fillRule%22%3A%20%22evenodd%22%2C%0A%20%20%22lineCap%22%3A%20%22round%22%2C%0A%20%20%22lineJoin%22%3A%20%22round%22%2C%0A%20%20%22opacity%22%3A%201.0%2C%0A%20%20%22radius%22%3A%205%2C%0A%20%20%22stroke%22%3A%20true%2C%0A%20%20%22weight%22%3A%203%0A%7D%0A%20%20%20%20%20%20%20%20%20%20%20%20%20%20%20%20%29%0A%20%20%20%20%20%20%20%20%20%20%20%20%20%20%20%20.addTo%28map_60c342cb0efd42cca2d79889e0aeb8c8%29%3B%0A%20%20%20%20%20%20%20%20%20%20%20%20%0A%20%20%20%20%0A%20%20%20%20%20%20%20%20%20%20%20%20var%20popup_78165f500df6448698ce0505fc2b4e09%20%3D%20L.popup%28%7BmaxWidth%3A%20%27100%25%27%0A%20%20%20%20%20%20%20%20%20%20%20%20%0A%20%20%20%20%20%20%20%20%20%20%20%20%7D%29%3B%0A%0A%20%20%20%20%20%20%20%20%20%20%20%20%0A%20%20%20%20%20%20%20%20%20%20%20%20%20%20%20%20var%20html_733ce4e0f0f946da9c802cf55abc4bc8%20%3D%20%24%28%60%3Cdiv%20id%3D%22html_733ce4e0f0f946da9c802cf55abc4bc8%22%20style%3D%22width%3A%20100.0%25%3B%20height%3A%20100.0%25%3B%22%3E%20Cluster%204%3C/div%3E%60%29%5B0%5D%3B%0A%20%20%20%20%20%20%20%20%20%20%20%20%20%20%20%20popup_78165f500df6448698ce0505fc2b4e09.setContent%28html_733ce4e0f0f946da9c802cf55abc4bc8%29%3B%0A%20%20%20%20%20%20%20%20%20%20%20%20%0A%0A%20%20%20%20%20%20%20%20%20%20%20%20circle_marker_84e9701e37d64052b9cd9e65ce0ed826.bindPopup%28popup_78165f500df6448698ce0505fc2b4e09%29%0A%20%20%20%20%20%20%20%20%20%20%20%20%3B%0A%0A%20%20%20%20%20%20%20%20%20%20%20%20%0A%20%20%20%20%20%20%20%20%0A%20%20%20%20%0A%20%20%20%20%20%20%20%20%20%20%20%20var%20circle_marker_8dbb3dd2c01740958238bbc1594dbe98%20%3D%20L.circleMarker%28%0A%20%20%20%20%20%20%20%20%20%20%20%20%20%20%20%20%5B-23.5594101%2C%20-46.6509908%5D%2C%0A%20%20%20%20%20%20%20%20%20%20%20%20%20%20%20%20%7B%0A%20%20%22bubblingMouseEvents%22%3A%20true%2C%0A%20%20%22color%22%3A%20%22%23b2f396%22%2C%0A%20%20%22dashArray%22%3A%20null%2C%0A%20%20%22dashOffset%22%3A%20null%2C%0A%20%20%22fill%22%3A%20true%2C%0A%20%20%22fillColor%22%3A%20%22%23b2f396%22%2C%0A%20%20%22fillOpacity%22%3A%200.7%2C%0A%20%20%22fillRule%22%3A%20%22evenodd%22%2C%0A%20%20%22lineCap%22%3A%20%22round%22%2C%0A%20%20%22lineJoin%22%3A%20%22round%22%2C%0A%20%20%22opacity%22%3A%201.0%2C%0A%20%20%22radius%22%3A%205%2C%0A%20%20%22stroke%22%3A%20true%2C%0A%20%20%22weight%22%3A%203%0A%7D%0A%20%20%20%20%20%20%20%20%20%20%20%20%20%20%20%20%29%0A%20%20%20%20%20%20%20%20%20%20%20%20%20%20%20%20.addTo%28map_60c342cb0efd42cca2d79889e0aeb8c8%29%3B%0A%20%20%20%20%20%20%20%20%20%20%20%20%0A%20%20%20%20%0A%20%20%20%20%20%20%20%20%20%20%20%20var%20popup_a306b26bf68d4abaaa99b9560697e8b0%20%3D%20L.popup%28%7BmaxWidth%3A%20%27100%25%27%0A%20%20%20%20%20%20%20%20%20%20%20%20%0A%20%20%20%20%20%20%20%20%20%20%20%20%7D%29%3B%0A%0A%20%20%20%20%20%20%20%20%20%20%20%20%0A%20%20%20%20%20%20%20%20%20%20%20%20%20%20%20%20var%20html_130330c856e94ed4ad9770f6aa7a8a04%20%3D%20%24%28%60%3Cdiv%20id%3D%22html_130330c856e94ed4ad9770f6aa7a8a04%22%20style%3D%22width%3A%20100.0%25%3B%20height%3A%20100.0%25%3B%22%3E%20Cluster%204%3C/div%3E%60%29%5B0%5D%3B%0A%20%20%20%20%20%20%20%20%20%20%20%20%20%20%20%20popup_a306b26bf68d4abaaa99b9560697e8b0.setContent%28html_130330c856e94ed4ad9770f6aa7a8a04%29%3B%0A%20%20%20%20%20%20%20%20%20%20%20%20%0A%0A%20%20%20%20%20%20%20%20%20%20%20%20circle_marker_8dbb3dd2c01740958238bbc1594dbe98.bindPopup%28popup_a306b26bf68d4abaaa99b9560697e8b0%29%0A%20%20%20%20%20%20%20%20%20%20%20%20%3B%0A%0A%20%20%20%20%20%20%20%20%20%20%20%20%0A%20%20%20%20%20%20%20%20%0A%20%20%20%20%0A%20%20%20%20%20%20%20%20%20%20%20%20var%20circle_marker_1439627fd84a4c7ead940593658b2979%20%3D%20L.circleMarker%28%0A%20%20%20%20%20%20%20%20%20%20%20%20%20%20%20%20%5B-23.6023528%2C%20-46.66164269999999%5D%2C%0A%20%20%20%20%20%20%20%20%20%20%20%20%20%20%20%20%7B%0A%20%20%22bubblingMouseEvents%22%3A%20true%2C%0A%20%20%22color%22%3A%20%22%23b2f396%22%2C%0A%20%20%22dashArray%22%3A%20null%2C%0A%20%20%22dashOffset%22%3A%20null%2C%0A%20%20%22fill%22%3A%20true%2C%0A%20%20%22fillColor%22%3A%20%22%23b2f396%22%2C%0A%20%20%22fillOpacity%22%3A%200.7%2C%0A%20%20%22fillRule%22%3A%20%22evenodd%22%2C%0A%20%20%22lineCap%22%3A%20%22round%22%2C%0A%20%20%22lineJoin%22%3A%20%22round%22%2C%0A%20%20%22opacity%22%3A%201.0%2C%0A%20%20%22radius%22%3A%205%2C%0A%20%20%22stroke%22%3A%20true%2C%0A%20%20%22weight%22%3A%203%0A%7D%0A%20%20%20%20%20%20%20%20%20%20%20%20%20%20%20%20%29%0A%20%20%20%20%20%20%20%20%20%20%20%20%20%20%20%20.addTo%28map_60c342cb0efd42cca2d79889e0aeb8c8%29%3B%0A%20%20%20%20%20%20%20%20%20%20%20%20%0A%20%20%20%20%0A%20%20%20%20%20%20%20%20%20%20%20%20var%20popup_bcede34700cb4be89d2cfa96cb2b2189%20%3D%20L.popup%28%7BmaxWidth%3A%20%27100%25%27%0A%20%20%20%20%20%20%20%20%20%20%20%20%0A%20%20%20%20%20%20%20%20%20%20%20%20%7D%29%3B%0A%0A%20%20%20%20%20%20%20%20%20%20%20%20%0A%20%20%20%20%20%20%20%20%20%20%20%20%20%20%20%20var%20html_d05d390fc39e430091612ad707804284%20%3D%20%24%28%60%3Cdiv%20id%3D%22html_d05d390fc39e430091612ad707804284%22%20style%3D%22width%3A%20100.0%25%3B%20height%3A%20100.0%25%3B%22%3E%20Cluster%204%3C/div%3E%60%29%5B0%5D%3B%0A%20%20%20%20%20%20%20%20%20%20%20%20%20%20%20%20popup_bcede34700cb4be89d2cfa96cb2b2189.setContent%28html_d05d390fc39e430091612ad707804284%29%3B%0A%20%20%20%20%20%20%20%20%20%20%20%20%0A%0A%20%20%20%20%20%20%20%20%20%20%20%20circle_marker_1439627fd84a4c7ead940593658b2979.bindPopup%28popup_bcede34700cb4be89d2cfa96cb2b2189%29%0A%20%20%20%20%20%20%20%20%20%20%20%20%3B%0A%0A%20%20%20%20%20%20%20%20%20%20%20%20%0A%20%20%20%20%20%20%20%20%0A%20%20%20%20%0A%20%20%20%20%20%20%20%20%20%20%20%20var%20circle_marker_3db0afbc94cc475187348093ec7f5cc8%20%3D%20L.circleMarker%28%0A%20%20%20%20%20%20%20%20%20%20%20%20%20%20%20%20%5B-23.6102554%2C%20-46.6666907%5D%2C%0A%20%20%20%20%20%20%20%20%20%20%20%20%20%20%20%20%7B%0A%20%20%22bubblingMouseEvents%22%3A%20true%2C%0A%20%20%22color%22%3A%20%22%23b2f396%22%2C%0A%20%20%22dashArray%22%3A%20null%2C%0A%20%20%22dashOffset%22%3A%20null%2C%0A%20%20%22fill%22%3A%20true%2C%0A%20%20%22fillColor%22%3A%20%22%23b2f396%22%2C%0A%20%20%22fillOpacity%22%3A%200.7%2C%0A%20%20%22fillRule%22%3A%20%22evenodd%22%2C%0A%20%20%22lineCap%22%3A%20%22round%22%2C%0A%20%20%22lineJoin%22%3A%20%22round%22%2C%0A%20%20%22opacity%22%3A%201.0%2C%0A%20%20%22radius%22%3A%205%2C%0A%20%20%22stroke%22%3A%20true%2C%0A%20%20%22weight%22%3A%203%0A%7D%0A%20%20%20%20%20%20%20%20%20%20%20%20%20%20%20%20%29%0A%20%20%20%20%20%20%20%20%20%20%20%20%20%20%20%20.addTo%28map_60c342cb0efd42cca2d79889e0aeb8c8%29%3B%0A%20%20%20%20%20%20%20%20%20%20%20%20%0A%20%20%20%20%0A%20%20%20%20%20%20%20%20%20%20%20%20var%20popup_11fd2e1978dc4c539dfc8896e14527e9%20%3D%20L.popup%28%7BmaxWidth%3A%20%27100%25%27%0A%20%20%20%20%20%20%20%20%20%20%20%20%0A%20%20%20%20%20%20%20%20%20%20%20%20%7D%29%3B%0A%0A%20%20%20%20%20%20%20%20%20%20%20%20%0A%20%20%20%20%20%20%20%20%20%20%20%20%20%20%20%20var%20html_bbda407187084b978cd261c9aaa39152%20%3D%20%24%28%60%3Cdiv%20id%3D%22html_bbda407187084b978cd261c9aaa39152%22%20style%3D%22width%3A%20100.0%25%3B%20height%3A%20100.0%25%3B%22%3E%20Cluster%204%3C/div%3E%60%29%5B0%5D%3B%0A%20%20%20%20%20%20%20%20%20%20%20%20%20%20%20%20popup_11fd2e1978dc4c539dfc8896e14527e9.setContent%28html_bbda407187084b978cd261c9aaa39152%29%3B%0A%20%20%20%20%20%20%20%20%20%20%20%20%0A%0A%20%20%20%20%20%20%20%20%20%20%20%20circle_marker_3db0afbc94cc475187348093ec7f5cc8.bindPopup%28popup_11fd2e1978dc4c539dfc8896e14527e9%29%0A%20%20%20%20%20%20%20%20%20%20%20%20%3B%0A%0A%20%20%20%20%20%20%20%20%20%20%20%20%0A%20%20%20%20%20%20%20%20%0A%20%20%20%20%0A%20%20%20%20%20%20%20%20%20%20%20%20var%20circle_marker_b76638ccf7234f89bf43de023fdff94b%20%3D%20L.circleMarker%28%0A%20%20%20%20%20%20%20%20%20%20%20%20%20%20%20%20%5B-23.53121%2C%20-46.6803523%5D%2C%0A%20%20%20%20%20%20%20%20%20%20%20%20%20%20%20%20%7B%0A%20%20%22bubblingMouseEvents%22%3A%20true%2C%0A%20%20%22color%22%3A%20%22%23b2f396%22%2C%0A%20%20%22dashArray%22%3A%20null%2C%0A%20%20%22dashOffset%22%3A%20null%2C%0A%20%20%22fill%22%3A%20true%2C%0A%20%20%22fillColor%22%3A%20%22%23b2f396%22%2C%0A%20%20%22fillOpacity%22%3A%200.7%2C%0A%20%20%22fillRule%22%3A%20%22evenodd%22%2C%0A%20%20%22lineCap%22%3A%20%22round%22%2C%0A%20%20%22lineJoin%22%3A%20%22round%22%2C%0A%20%20%22opacity%22%3A%201.0%2C%0A%20%20%22radius%22%3A%205%2C%0A%20%20%22stroke%22%3A%20true%2C%0A%20%20%22weight%22%3A%203%0A%7D%0A%20%20%20%20%20%20%20%20%20%20%20%20%20%20%20%20%29%0A%20%20%20%20%20%20%20%20%20%20%20%20%20%20%20%20.addTo%28map_60c342cb0efd42cca2d79889e0aeb8c8%29%3B%0A%20%20%20%20%20%20%20%20%20%20%20%20%0A%20%20%20%20%0A%20%20%20%20%20%20%20%20%20%20%20%20var%20popup_90d123493a6740f7944e233f7d057744%20%3D%20L.popup%28%7BmaxWidth%3A%20%27100%25%27%0A%20%20%20%20%20%20%20%20%20%20%20%20%0A%20%20%20%20%20%20%20%20%20%20%20%20%7D%29%3B%0A%0A%20%20%20%20%20%20%20%20%20%20%20%20%0A%20%20%20%20%20%20%20%20%20%20%20%20%20%20%20%20var%20html_485ce9fd4a5d440881d40db06dbfc494%20%3D%20%24%28%60%3Cdiv%20id%3D%22html_485ce9fd4a5d440881d40db06dbfc494%22%20style%3D%22width%3A%20100.0%25%3B%20height%3A%20100.0%25%3B%22%3E%20Cluster%204%3C/div%3E%60%29%5B0%5D%3B%0A%20%20%20%20%20%20%20%20%20%20%20%20%20%20%20%20popup_90d123493a6740f7944e233f7d057744.setContent%28html_485ce9fd4a5d440881d40db06dbfc494%29%3B%0A%20%20%20%20%20%20%20%20%20%20%20%20%0A%0A%20%20%20%20%20%20%20%20%20%20%20%20circle_marker_b76638ccf7234f89bf43de023fdff94b.bindPopup%28popup_90d123493a6740f7944e233f7d057744%29%0A%20%20%20%20%20%20%20%20%20%20%20%20%3B%0A%0A%20%20%20%20%20%20%20%20%20%20%20%20%0A%20%20%20%20%20%20%20%20%0A%20%20%20%20%0A%20%20%20%20%20%20%20%20%20%20%20%20var%20circle_marker_b936034108074af0ae0dc436034bcbd0%20%3D%20L.circleMarker%28%0A%20%20%20%20%20%20%20%20%20%20%20%20%20%20%20%20%5B-23.5173919%2C%20-46.6985941%5D%2C%0A%20%20%20%20%20%20%20%20%20%20%20%20%20%20%20%20%7B%0A%20%20%22bubblingMouseEvents%22%3A%20true%2C%0A%20%20%22color%22%3A%20%22%23b2f396%22%2C%0A%20%20%22dashArray%22%3A%20null%2C%0A%20%20%22dashOffset%22%3A%20null%2C%0A%20%20%22fill%22%3A%20true%2C%0A%20%20%22fillColor%22%3A%20%22%23b2f396%22%2C%0A%20%20%22fillOpacity%22%3A%200.7%2C%0A%20%20%22fillRule%22%3A%20%22evenodd%22%2C%0A%20%20%22lineCap%22%3A%20%22round%22%2C%0A%20%20%22lineJoin%22%3A%20%22round%22%2C%0A%20%20%22opacity%22%3A%201.0%2C%0A%20%20%22radius%22%3A%205%2C%0A%20%20%22stroke%22%3A%20true%2C%0A%20%20%22weight%22%3A%203%0A%7D%0A%20%20%20%20%20%20%20%20%20%20%20%20%20%20%20%20%29%0A%20%20%20%20%20%20%20%20%20%20%20%20%20%20%20%20.addTo%28map_60c342cb0efd42cca2d79889e0aeb8c8%29%3B%0A%20%20%20%20%20%20%20%20%20%20%20%20%0A%20%20%20%20%0A%20%20%20%20%20%20%20%20%20%20%20%20var%20popup_4236739e5dcc4659b0e52e3311496923%20%3D%20L.popup%28%7BmaxWidth%3A%20%27100%25%27%0A%20%20%20%20%20%20%20%20%20%20%20%20%0A%20%20%20%20%20%20%20%20%20%20%20%20%7D%29%3B%0A%0A%20%20%20%20%20%20%20%20%20%20%20%20%0A%20%20%20%20%20%20%20%20%20%20%20%20%20%20%20%20var%20html_39e7abbae09346d48335c2e9057815a1%20%3D%20%24%28%60%3Cdiv%20id%3D%22html_39e7abbae09346d48335c2e9057815a1%22%20style%3D%22width%3A%20100.0%25%3B%20height%3A%20100.0%25%3B%22%3E%20Cluster%204%3C/div%3E%60%29%5B0%5D%3B%0A%20%20%20%20%20%20%20%20%20%20%20%20%20%20%20%20popup_4236739e5dcc4659b0e52e3311496923.setContent%28html_39e7abbae09346d48335c2e9057815a1%29%3B%0A%20%20%20%20%20%20%20%20%20%20%20%20%0A%0A%20%20%20%20%20%20%20%20%20%20%20%20circle_marker_b936034108074af0ae0dc436034bcbd0.bindPopup%28popup_4236739e5dcc4659b0e52e3311496923%29%0A%20%20%20%20%20%20%20%20%20%20%20%20%3B%0A%0A%20%20%20%20%20%20%20%20%20%20%20%20%0A%20%20%20%20%20%20%20%20%0A%20%20%20%20%0A%20%20%20%20%20%20%20%20%20%20%20%20var%20circle_marker_4390666387d8456baec07ede3b2234f8%20%3D%20L.circleMarker%28%0A%20%20%20%20%20%20%20%20%20%20%20%20%20%20%20%20%5B-23.540713%2C%20-46.6509382%5D%2C%0A%20%20%20%20%20%20%20%20%20%20%20%20%20%20%20%20%7B%0A%20%20%22bubblingMouseEvents%22%3A%20true%2C%0A%20%20%22color%22%3A%20%22%23ff0000%22%2C%0A%20%20%22dashArray%22%3A%20null%2C%0A%20%20%22dashOffset%22%3A%20null%2C%0A%20%20%22fill%22%3A%20true%2C%0A%20%20%22fillColor%22%3A%20%22%23ff0000%22%2C%0A%20%20%22fillOpacity%22%3A%200.7%2C%0A%20%20%22fillRule%22%3A%20%22evenodd%22%2C%0A%20%20%22lineCap%22%3A%20%22round%22%2C%0A%20%20%22lineJoin%22%3A%20%22round%22%2C%0A%20%20%22opacity%22%3A%201.0%2C%0A%20%20%22radius%22%3A%205%2C%0A%20%20%22stroke%22%3A%20true%2C%0A%20%20%22weight%22%3A%203%0A%7D%0A%20%20%20%20%20%20%20%20%20%20%20%20%20%20%20%20%29%0A%20%20%20%20%20%20%20%20%20%20%20%20%20%20%20%20.addTo%28map_60c342cb0efd42cca2d79889e0aeb8c8%29%3B%0A%20%20%20%20%20%20%20%20%20%20%20%20%0A%20%20%20%20%0A%20%20%20%20%20%20%20%20%20%20%20%20var%20popup_e49ad8e4ff8e4d5bbd6eafa8d78f329e%20%3D%20L.popup%28%7BmaxWidth%3A%20%27100%25%27%0A%20%20%20%20%20%20%20%20%20%20%20%20%0A%20%20%20%20%20%20%20%20%20%20%20%20%7D%29%3B%0A%0A%20%20%20%20%20%20%20%20%20%20%20%20%0A%20%20%20%20%20%20%20%20%20%20%20%20%20%20%20%20var%20html_44e5874c8de54ee79b16bb3225512ae4%20%3D%20%24%28%60%3Cdiv%20id%3D%22html_44e5874c8de54ee79b16bb3225512ae4%22%20style%3D%22width%3A%20100.0%25%3B%20height%3A%20100.0%25%3B%22%3E%20Cluster%200%3C/div%3E%60%29%5B0%5D%3B%0A%20%20%20%20%20%20%20%20%20%20%20%20%20%20%20%20popup_e49ad8e4ff8e4d5bbd6eafa8d78f329e.setContent%28html_44e5874c8de54ee79b16bb3225512ae4%29%3B%0A%20%20%20%20%20%20%20%20%20%20%20%20%0A%0A%20%20%20%20%20%20%20%20%20%20%20%20circle_marker_4390666387d8456baec07ede3b2234f8.bindPopup%28popup_e49ad8e4ff8e4d5bbd6eafa8d78f329e%29%0A%20%20%20%20%20%20%20%20%20%20%20%20%3B%0A%0A%20%20%20%20%20%20%20%20%20%20%20%20%0A%20%20%20%20%20%20%20%20%0A%20%20%20%20%0A%20%20%20%20%20%20%20%20%20%20%20%20var%20circle_marker_10fb0dd91eee447fb25ab8559c3f9122%20%3D%20L.circleMarker%28%0A%20%20%20%20%20%20%20%20%20%20%20%20%20%20%20%20%5B-23.5436524%2C%20-46.6468352%5D%2C%0A%20%20%20%20%20%20%20%20%20%20%20%20%20%20%20%20%7B%0A%20%20%22bubblingMouseEvents%22%3A%20true%2C%0A%20%20%22color%22%3A%20%22%23ff0000%22%2C%0A%20%20%22dashArray%22%3A%20null%2C%0A%20%20%22dashOffset%22%3A%20null%2C%0A%20%20%22fill%22%3A%20true%2C%0A%20%20%22fillColor%22%3A%20%22%23ff0000%22%2C%0A%20%20%22fillOpacity%22%3A%200.7%2C%0A%20%20%22fillRule%22%3A%20%22evenodd%22%2C%0A%20%20%22lineCap%22%3A%20%22round%22%2C%0A%20%20%22lineJoin%22%3A%20%22round%22%2C%0A%20%20%22opacity%22%3A%201.0%2C%0A%20%20%22radius%22%3A%205%2C%0A%20%20%22stroke%22%3A%20true%2C%0A%20%20%22weight%22%3A%203%0A%7D%0A%20%20%20%20%20%20%20%20%20%20%20%20%20%20%20%20%29%0A%20%20%20%20%20%20%20%20%20%20%20%20%20%20%20%20.addTo%28map_60c342cb0efd42cca2d79889e0aeb8c8%29%3B%0A%20%20%20%20%20%20%20%20%20%20%20%20%0A%20%20%20%20%0A%20%20%20%20%20%20%20%20%20%20%20%20var%20popup_d128eff6a6304170ab84f174b517b733%20%3D%20L.popup%28%7BmaxWidth%3A%20%27100%25%27%0A%20%20%20%20%20%20%20%20%20%20%20%20%0A%20%20%20%20%20%20%20%20%20%20%20%20%7D%29%3B%0A%0A%20%20%20%20%20%20%20%20%20%20%20%20%0A%20%20%20%20%20%20%20%20%20%20%20%20%20%20%20%20var%20html_b86eb6e8b797458b84f006c8d1698342%20%3D%20%24%28%60%3Cdiv%20id%3D%22html_b86eb6e8b797458b84f006c8d1698342%22%20style%3D%22width%3A%20100.0%25%3B%20height%3A%20100.0%25%3B%22%3E%20Cluster%200%3C/div%3E%60%29%5B0%5D%3B%0A%20%20%20%20%20%20%20%20%20%20%20%20%20%20%20%20popup_d128eff6a6304170ab84f174b517b733.setContent%28html_b86eb6e8b797458b84f006c8d1698342%29%3B%0A%20%20%20%20%20%20%20%20%20%20%20%20%0A%0A%20%20%20%20%20%20%20%20%20%20%20%20circle_marker_10fb0dd91eee447fb25ab8559c3f9122.bindPopup%28popup_d128eff6a6304170ab84f174b517b733%29%0A%20%20%20%20%20%20%20%20%20%20%20%20%3B%0A%0A%20%20%20%20%20%20%20%20%20%20%20%20%0A%20%20%20%20%20%20%20%20%0A%20%20%20%20%0A%20%20%20%20%20%20%20%20%20%20%20%20var%20circle_marker_bba4211d3cec469a80405d7614bf9f60%20%3D%20L.circleMarker%28%0A%20%20%20%20%20%20%20%20%20%20%20%20%20%20%20%20%5B-23.5581963%2C%20-46.690248%5D%2C%0A%20%20%20%20%20%20%20%20%20%20%20%20%20%20%20%20%7B%0A%20%20%22bubblingMouseEvents%22%3A%20true%2C%0A%20%20%22color%22%3A%20%22%23ff0000%22%2C%0A%20%20%22dashArray%22%3A%20null%2C%0A%20%20%22dashOffset%22%3A%20null%2C%0A%20%20%22fill%22%3A%20true%2C%0A%20%20%22fillColor%22%3A%20%22%23ff0000%22%2C%0A%20%20%22fillOpacity%22%3A%200.7%2C%0A%20%20%22fillRule%22%3A%20%22evenodd%22%2C%0A%20%20%22lineCap%22%3A%20%22round%22%2C%0A%20%20%22lineJoin%22%3A%20%22round%22%2C%0A%20%20%22opacity%22%3A%201.0%2C%0A%20%20%22radius%22%3A%205%2C%0A%20%20%22stroke%22%3A%20true%2C%0A%20%20%22weight%22%3A%203%0A%7D%0A%20%20%20%20%20%20%20%20%20%20%20%20%20%20%20%20%29%0A%20%20%20%20%20%20%20%20%20%20%20%20%20%20%20%20.addTo%28map_60c342cb0efd42cca2d79889e0aeb8c8%29%3B%0A%20%20%20%20%20%20%20%20%20%20%20%20%0A%20%20%20%20%0A%20%20%20%20%20%20%20%20%20%20%20%20var%20popup_77e8de223d6e4bfa95781463b9aaf417%20%3D%20L.popup%28%7BmaxWidth%3A%20%27100%25%27%0A%20%20%20%20%20%20%20%20%20%20%20%20%0A%20%20%20%20%20%20%20%20%20%20%20%20%7D%29%3B%0A%0A%20%20%20%20%20%20%20%20%20%20%20%20%0A%20%20%20%20%20%20%20%20%20%20%20%20%20%20%20%20var%20html_77d09027949846e7ab0e76136de93f8b%20%3D%20%24%28%60%3Cdiv%20id%3D%22html_77d09027949846e7ab0e76136de93f8b%22%20style%3D%22width%3A%20100.0%25%3B%20height%3A%20100.0%25%3B%22%3E%20Cluster%200%3C/div%3E%60%29%5B0%5D%3B%0A%20%20%20%20%20%20%20%20%20%20%20%20%20%20%20%20popup_77e8de223d6e4bfa95781463b9aaf417.setContent%28html_77d09027949846e7ab0e76136de93f8b%29%3B%0A%20%20%20%20%20%20%20%20%20%20%20%20%0A%0A%20%20%20%20%20%20%20%20%20%20%20%20circle_marker_bba4211d3cec469a80405d7614bf9f60.bindPopup%28popup_77e8de223d6e4bfa95781463b9aaf417%29%0A%20%20%20%20%20%20%20%20%20%20%20%20%3B%0A%0A%20%20%20%20%20%20%20%20%20%20%20%20%0A%20%20%20%20%20%20%20%20%0A%20%20%20%20%0A%20%20%20%20%20%20%20%20%20%20%20%20var%20circle_marker_e73055a3bcd64d7bbbab6a451e35cb5a%20%3D%20L.circleMarker%28%0A%20%20%20%20%20%20%20%20%20%20%20%20%20%20%20%20%5B-23.5779027%2C%20-46.6110675%5D%2C%0A%20%20%20%20%20%20%20%20%20%20%20%20%20%20%20%20%7B%0A%20%20%22bubblingMouseEvents%22%3A%20true%2C%0A%20%20%22color%22%3A%20%22%23ff0000%22%2C%0A%20%20%22dashArray%22%3A%20null%2C%0A%20%20%22dashOffset%22%3A%20null%2C%0A%20%20%22fill%22%3A%20true%2C%0A%20%20%22fillColor%22%3A%20%22%23ff0000%22%2C%0A%20%20%22fillOpacity%22%3A%200.7%2C%0A%20%20%22fillRule%22%3A%20%22evenodd%22%2C%0A%20%20%22lineCap%22%3A%20%22round%22%2C%0A%20%20%22lineJoin%22%3A%20%22round%22%2C%0A%20%20%22opacity%22%3A%201.0%2C%0A%20%20%22radius%22%3A%205%2C%0A%20%20%22stroke%22%3A%20true%2C%0A%20%20%22weight%22%3A%203%0A%7D%0A%20%20%20%20%20%20%20%20%20%20%20%20%20%20%20%20%29%0A%20%20%20%20%20%20%20%20%20%20%20%20%20%20%20%20.addTo%28map_60c342cb0efd42cca2d79889e0aeb8c8%29%3B%0A%20%20%20%20%20%20%20%20%20%20%20%20%0A%20%20%20%20%0A%20%20%20%20%20%20%20%20%20%20%20%20var%20popup_26d9c4a1b40d4cc688c9fc3654b0e928%20%3D%20L.popup%28%7BmaxWidth%3A%20%27100%25%27%0A%20%20%20%20%20%20%20%20%20%20%20%20%0A%20%20%20%20%20%20%20%20%20%20%20%20%7D%29%3B%0A%0A%20%20%20%20%20%20%20%20%20%20%20%20%0A%20%20%20%20%20%20%20%20%20%20%20%20%20%20%20%20var%20html_2c144749a91a44dd88b47d0bb2f38283%20%3D%20%24%28%60%3Cdiv%20id%3D%22html_2c144749a91a44dd88b47d0bb2f38283%22%20style%3D%22width%3A%20100.0%25%3B%20height%3A%20100.0%25%3B%22%3E%20Cluster%200%3C/div%3E%60%29%5B0%5D%3B%0A%20%20%20%20%20%20%20%20%20%20%20%20%20%20%20%20popup_26d9c4a1b40d4cc688c9fc3654b0e928.setContent%28html_2c144749a91a44dd88b47d0bb2f38283%29%3B%0A%20%20%20%20%20%20%20%20%20%20%20%20%0A%0A%20%20%20%20%20%20%20%20%20%20%20%20circle_marker_e73055a3bcd64d7bbbab6a451e35cb5a.bindPopup%28popup_26d9c4a1b40d4cc688c9fc3654b0e928%29%0A%20%20%20%20%20%20%20%20%20%20%20%20%3B%0A%0A%20%20%20%20%20%20%20%20%20%20%20%20%0A%20%20%20%20%20%20%20%20%0A%20%20%20%20%0A%20%20%20%20%20%20%20%20%20%20%20%20var%20circle_marker_200ce93c66e346efbf3a1303cbd3523e%20%3D%20L.circleMarker%28%0A%20%20%20%20%20%20%20%20%20%20%20%20%20%20%20%20%5B-23.4652412%2C%20-46.6167636%5D%2C%0A%20%20%20%20%20%20%20%20%20%20%20%20%20%20%20%20%7B%0A%20%20%22bubblingMouseEvents%22%3A%20true%2C%0A%20%20%22color%22%3A%20%22%23b2f396%22%2C%0A%20%20%22dashArray%22%3A%20null%2C%0A%20%20%22dashOffset%22%3A%20null%2C%0A%20%20%22fill%22%3A%20true%2C%0A%20%20%22fillColor%22%3A%20%22%23b2f396%22%2C%0A%20%20%22fillOpacity%22%3A%200.7%2C%0A%20%20%22fillRule%22%3A%20%22evenodd%22%2C%0A%20%20%22lineCap%22%3A%20%22round%22%2C%0A%20%20%22lineJoin%22%3A%20%22round%22%2C%0A%20%20%22opacity%22%3A%201.0%2C%0A%20%20%22radius%22%3A%205%2C%0A%20%20%22stroke%22%3A%20true%2C%0A%20%20%22weight%22%3A%203%0A%7D%0A%20%20%20%20%20%20%20%20%20%20%20%20%20%20%20%20%29%0A%20%20%20%20%20%20%20%20%20%20%20%20%20%20%20%20.addTo%28map_60c342cb0efd42cca2d79889e0aeb8c8%29%3B%0A%20%20%20%20%20%20%20%20%20%20%20%20%0A%20%20%20%20%0A%20%20%20%20%20%20%20%20%20%20%20%20var%20popup_2743618111174bcbad4a5e2c3347ff78%20%3D%20L.popup%28%7BmaxWidth%3A%20%27100%25%27%0A%20%20%20%20%20%20%20%20%20%20%20%20%0A%20%20%20%20%20%20%20%20%20%20%20%20%7D%29%3B%0A%0A%20%20%20%20%20%20%20%20%20%20%20%20%0A%20%20%20%20%20%20%20%20%20%20%20%20%20%20%20%20var%20html_65e594e8116b42329929d1c09a32b779%20%3D%20%24%28%60%3Cdiv%20id%3D%22html_65e594e8116b42329929d1c09a32b779%22%20style%3D%22width%3A%20100.0%25%3B%20height%3A%20100.0%25%3B%22%3E%20Cluster%204%3C/div%3E%60%29%5B0%5D%3B%0A%20%20%20%20%20%20%20%20%20%20%20%20%20%20%20%20popup_2743618111174bcbad4a5e2c3347ff78.setContent%28html_65e594e8116b42329929d1c09a32b779%29%3B%0A%20%20%20%20%20%20%20%20%20%20%20%20%0A%0A%20%20%20%20%20%20%20%20%20%20%20%20circle_marker_200ce93c66e346efbf3a1303cbd3523e.bindPopup%28popup_2743618111174bcbad4a5e2c3347ff78%29%0A%20%20%20%20%20%20%20%20%20%20%20%20%3B%0A%0A%20%20%20%20%20%20%20%20%20%20%20%20%0A%20%20%20%20%20%20%20%20%0A%20%20%20%20%0A%20%20%20%20%20%20%20%20%20%20%20%20var%20circle_marker_9c9b85d664364a90967bbe79ec8665d1%20%3D%20L.circleMarker%28%0A%20%20%20%20%20%20%20%20%20%20%20%20%20%20%20%20%5B-23.5677325%2C%20-46.6887957%5D%2C%0A%20%20%20%20%20%20%20%20%20%20%20%20%20%20%20%20%7B%0A%20%20%22bubblingMouseEvents%22%3A%20true%2C%0A%20%20%22color%22%3A%20%22%234df3ce%22%2C%0A%20%20%22dashArray%22%3A%20null%2C%0A%20%20%22dashOffset%22%3A%20null%2C%0A%20%20%22fill%22%3A%20true%2C%0A%20%20%22fillColor%22%3A%20%22%234df3ce%22%2C%0A%20%20%22fillOpacity%22%3A%200.7%2C%0A%20%20%22fillRule%22%3A%20%22evenodd%22%2C%0A%20%20%22lineCap%22%3A%20%22round%22%2C%0A%20%20%22lineJoin%22%3A%20%22round%22%2C%0A%20%20%22opacity%22%3A%201.0%2C%0A%20%20%22radius%22%3A%205%2C%0A%20%20%22stroke%22%3A%20true%2C%0A%20%20%22weight%22%3A%203%0A%7D%0A%20%20%20%20%20%20%20%20%20%20%20%20%20%20%20%20%29%0A%20%20%20%20%20%20%20%20%20%20%20%20%20%20%20%20.addTo%28map_60c342cb0efd42cca2d79889e0aeb8c8%29%3B%0A%20%20%20%20%20%20%20%20%20%20%20%20%0A%20%20%20%20%0A%20%20%20%20%20%20%20%20%20%20%20%20var%20popup_57abdf28bf864fa58772b68994146bbf%20%3D%20L.popup%28%7BmaxWidth%3A%20%27100%25%27%0A%20%20%20%20%20%20%20%20%20%20%20%20%0A%20%20%20%20%20%20%20%20%20%20%20%20%7D%29%3B%0A%0A%20%20%20%20%20%20%20%20%20%20%20%20%0A%20%20%20%20%20%20%20%20%20%20%20%20%20%20%20%20var%20html_05d77d33de2c4400a06d8b8d5e7bf4d0%20%3D%20%24%28%60%3Cdiv%20id%3D%22html_05d77d33de2c4400a06d8b8d5e7bf4d0%22%20style%3D%22width%3A%20100.0%25%3B%20height%3A%20100.0%25%3B%22%3E%20Cluster%203%3C/div%3E%60%29%5B0%5D%3B%0A%20%20%20%20%20%20%20%20%20%20%20%20%20%20%20%20popup_57abdf28bf864fa58772b68994146bbf.setContent%28html_05d77d33de2c4400a06d8b8d5e7bf4d0%29%3B%0A%20%20%20%20%20%20%20%20%20%20%20%20%0A%0A%20%20%20%20%20%20%20%20%20%20%20%20circle_marker_9c9b85d664364a90967bbe79ec8665d1.bindPopup%28popup_57abdf28bf864fa58772b68994146bbf%29%0A%20%20%20%20%20%20%20%20%20%20%20%20%3B%0A%0A%20%20%20%20%20%20%20%20%20%20%20%20%0A%20%20%20%20%20%20%20%20%0A%20%20%20%20%0A%20%20%20%20%20%20%20%20%20%20%20%20var%20circle_marker_e752a5ac0d534385b1c283b82b6a2db5%20%3D%20L.circleMarker%28%0A%20%20%20%20%20%20%20%20%20%20%20%20%20%20%20%20%5B-23.5081861%2C%20-46.626204%5D%2C%0A%20%20%20%20%20%20%20%20%20%20%20%20%20%20%20%20%7B%0A%20%20%22bubblingMouseEvents%22%3A%20true%2C%0A%20%20%22color%22%3A%20%22%23b2f396%22%2C%0A%20%20%22dashArray%22%3A%20null%2C%0A%20%20%22dashOffset%22%3A%20null%2C%0A%20%20%22fill%22%3A%20true%2C%0A%20%20%22fillColor%22%3A%20%22%23b2f396%22%2C%0A%20%20%22fillOpacity%22%3A%200.7%2C%0A%20%20%22fillRule%22%3A%20%22evenodd%22%2C%0A%20%20%22lineCap%22%3A%20%22round%22%2C%0A%20%20%22lineJoin%22%3A%20%22round%22%2C%0A%20%20%22opacity%22%3A%201.0%2C%0A%20%20%22radius%22%3A%205%2C%0A%20%20%22stroke%22%3A%20true%2C%0A%20%20%22weight%22%3A%203%0A%7D%0A%20%20%20%20%20%20%20%20%20%20%20%20%20%20%20%20%29%0A%20%20%20%20%20%20%20%20%20%20%20%20%20%20%20%20.addTo%28map_60c342cb0efd42cca2d79889e0aeb8c8%29%3B%0A%20%20%20%20%20%20%20%20%20%20%20%20%0A%20%20%20%20%0A%20%20%20%20%20%20%20%20%20%20%20%20var%20popup_1b439b4f2a36473fa0ae5a85d68465fa%20%3D%20L.popup%28%7BmaxWidth%3A%20%27100%25%27%0A%20%20%20%20%20%20%20%20%20%20%20%20%0A%20%20%20%20%20%20%20%20%20%20%20%20%7D%29%3B%0A%0A%20%20%20%20%20%20%20%20%20%20%20%20%0A%20%20%20%20%20%20%20%20%20%20%20%20%20%20%20%20var%20html_1f3cf7e3d74c4651b895f53d5d5d8aa4%20%3D%20%24%28%60%3Cdiv%20id%3D%22html_1f3cf7e3d74c4651b895f53d5d5d8aa4%22%20style%3D%22width%3A%20100.0%25%3B%20height%3A%20100.0%25%3B%22%3E%20Cluster%204%3C/div%3E%60%29%5B0%5D%3B%0A%20%20%20%20%20%20%20%20%20%20%20%20%20%20%20%20popup_1b439b4f2a36473fa0ae5a85d68465fa.setContent%28html_1f3cf7e3d74c4651b895f53d5d5d8aa4%29%3B%0A%20%20%20%20%20%20%20%20%20%20%20%20%0A%0A%20%20%20%20%20%20%20%20%20%20%20%20circle_marker_e752a5ac0d534385b1c283b82b6a2db5.bindPopup%28popup_1b439b4f2a36473fa0ae5a85d68465fa%29%0A%20%20%20%20%20%20%20%20%20%20%20%20%3B%0A%0A%20%20%20%20%20%20%20%20%20%20%20%20%0A%20%20%20%20%20%20%20%20%0A%20%20%20%20%0A%20%20%20%20%20%20%20%20%20%20%20%20var%20circle_marker_858277d61b114c02acc67e7a0b53d831%20%3D%20L.circleMarker%28%0A%20%20%20%20%20%20%20%20%20%20%20%20%20%20%20%20%5B-23.551103%2C%20-46.5540061%5D%2C%0A%20%20%20%20%20%20%20%20%20%20%20%20%20%20%20%20%7B%0A%20%20%22bubblingMouseEvents%22%3A%20true%2C%0A%20%20%22color%22%3A%20%22%231996f3%22%2C%0A%20%20%22dashArray%22%3A%20null%2C%0A%20%20%22dashOffset%22%3A%20null%2C%0A%20%20%22fill%22%3A%20true%2C%0A%20%20%22fillColor%22%3A%20%22%231996f3%22%2C%0A%20%20%22fillOpacity%22%3A%200.7%2C%0A%20%20%22fillRule%22%3A%20%22evenodd%22%2C%0A%20%20%22lineCap%22%3A%20%22round%22%2C%0A%20%20%22lineJoin%22%3A%20%22round%22%2C%0A%20%20%22opacity%22%3A%201.0%2C%0A%20%20%22radius%22%3A%205%2C%0A%20%20%22stroke%22%3A%20true%2C%0A%20%20%22weight%22%3A%203%0A%7D%0A%20%20%20%20%20%20%20%20%20%20%20%20%20%20%20%20%29%0A%20%20%20%20%20%20%20%20%20%20%20%20%20%20%20%20.addTo%28map_60c342cb0efd42cca2d79889e0aeb8c8%29%3B%0A%20%20%20%20%20%20%20%20%20%20%20%20%0A%20%20%20%20%0A%20%20%20%20%20%20%20%20%20%20%20%20var%20popup_185a7b0291c1491c99e5ffacaaab68d7%20%3D%20L.popup%28%7BmaxWidth%3A%20%27100%25%27%0A%20%20%20%20%20%20%20%20%20%20%20%20%0A%20%20%20%20%20%20%20%20%20%20%20%20%7D%29%3B%0A%0A%20%20%20%20%20%20%20%20%20%20%20%20%0A%20%20%20%20%20%20%20%20%20%20%20%20%20%20%20%20var%20html_5a5b6b86ab28490596c0ff9ea45e2bab%20%3D%20%24%28%60%3Cdiv%20id%3D%22html_5a5b6b86ab28490596c0ff9ea45e2bab%22%20style%3D%22width%3A%20100.0%25%3B%20height%3A%20100.0%25%3B%22%3E%20Cluster%202%3C/div%3E%60%29%5B0%5D%3B%0A%20%20%20%20%20%20%20%20%20%20%20%20%20%20%20%20popup_185a7b0291c1491c99e5ffacaaab68d7.setContent%28html_5a5b6b86ab28490596c0ff9ea45e2bab%29%3B%0A%20%20%20%20%20%20%20%20%20%20%20%20%0A%0A%20%20%20%20%20%20%20%20%20%20%20%20circle_marker_858277d61b114c02acc67e7a0b53d831.bindPopup%28popup_185a7b0291c1491c99e5ffacaaab68d7%29%0A%20%20%20%20%20%20%20%20%20%20%20%20%3B%0A%0A%20%20%20%20%20%20%20%20%20%20%20%20%0A%20%20%20%20%20%20%20%20%0A%20%20%20%20%0A%20%20%20%20%20%20%20%20%20%20%20%20var%20circle_marker_4a1f519fe5774022bdf48a83af8f7fbc%20%3D%20L.circleMarker%28%0A%20%20%20%20%20%20%20%20%20%20%20%20%20%20%20%20%5B-23.604773%2C%20-46.4641944%5D%2C%0A%20%20%20%20%20%20%20%20%20%20%20%20%20%20%20%20%7B%0A%20%20%22bubblingMouseEvents%22%3A%20true%2C%0A%20%20%22color%22%3A%20%22%23b2f396%22%2C%0A%20%20%22dashArray%22%3A%20null%2C%0A%20%20%22dashOffset%22%3A%20null%2C%0A%20%20%22fill%22%3A%20true%2C%0A%20%20%22fillColor%22%3A%20%22%23b2f396%22%2C%0A%20%20%22fillOpacity%22%3A%200.7%2C%0A%20%20%22fillRule%22%3A%20%22evenodd%22%2C%0A%20%20%22lineCap%22%3A%20%22round%22%2C%0A%20%20%22lineJoin%22%3A%20%22round%22%2C%0A%20%20%22opacity%22%3A%201.0%2C%0A%20%20%22radius%22%3A%205%2C%0A%20%20%22stroke%22%3A%20true%2C%0A%20%20%22weight%22%3A%203%0A%7D%0A%20%20%20%20%20%20%20%20%20%20%20%20%20%20%20%20%29%0A%20%20%20%20%20%20%20%20%20%20%20%20%20%20%20%20.addTo%28map_60c342cb0efd42cca2d79889e0aeb8c8%29%3B%0A%20%20%20%20%20%20%20%20%20%20%20%20%0A%20%20%20%20%0A%20%20%20%20%20%20%20%20%20%20%20%20var%20popup_fe3d7f64f8c34e42a67fa5f3b6d9bb7e%20%3D%20L.popup%28%7BmaxWidth%3A%20%27100%25%27%0A%20%20%20%20%20%20%20%20%20%20%20%20%0A%20%20%20%20%20%20%20%20%20%20%20%20%7D%29%3B%0A%0A%20%20%20%20%20%20%20%20%20%20%20%20%0A%20%20%20%20%20%20%20%20%20%20%20%20%20%20%20%20var%20html_cb7fb5cab0a24c638d8c54b03fb47a76%20%3D%20%24%28%60%3Cdiv%20id%3D%22html_cb7fb5cab0a24c638d8c54b03fb47a76%22%20style%3D%22width%3A%20100.0%25%3B%20height%3A%20100.0%25%3B%22%3E%20Cluster%204%3C/div%3E%60%29%5B0%5D%3B%0A%20%20%20%20%20%20%20%20%20%20%20%20%20%20%20%20popup_fe3d7f64f8c34e42a67fa5f3b6d9bb7e.setContent%28html_cb7fb5cab0a24c638d8c54b03fb47a76%29%3B%0A%20%20%20%20%20%20%20%20%20%20%20%20%0A%0A%20%20%20%20%20%20%20%20%20%20%20%20circle_marker_4a1f519fe5774022bdf48a83af8f7fbc.bindPopup%28popup_fe3d7f64f8c34e42a67fa5f3b6d9bb7e%29%0A%20%20%20%20%20%20%20%20%20%20%20%20%3B%0A%0A%20%20%20%20%20%20%20%20%20%20%20%20%0A%20%20%20%20%20%20%20%20%0A%3C/script%3E onload=\"this.contentDocument.open();this.contentDocument.write(    decodeURIComponent(this.getAttribute('data-html')));this.contentDocument.close();\" allowfullscreen webkitallowfullscreen mozallowfullscreen></iframe></div></div>"
            ],
            "text/plain": [
              "<folium.folium.Map at 0x7f957bae2290>"
            ]
          },
          "metadata": {
            "tags": []
          },
          "execution_count": 18
        }
      ]
    },
    {
      "cell_type": "markdown",
      "metadata": {
        "id": "6zNdDVLrKyd4"
      },
      "source": [
        "## Load / Save the Processed File - Cervejarias em Sampa.xls"
      ]
    },
    {
      "cell_type": "markdown",
      "metadata": {
        "id": "2mN56MVmHwwz"
      },
      "source": [
        "### LOAD"
      ]
    },
    {
      "cell_type": "code",
      "metadata": {
        "id": "5FMZ0-i-NQW0",
        "colab": {
          "base_uri": "https://localhost:8080/"
        },
        "outputId": "56d8b647-10bd-46ea-c1f7-f64a126c672b"
      },
      "source": [
        "df = pd.read_excel(\"Cervejarias em Sampa (Matriz Final - última versão) (3).xlsx\")\n",
        "\n",
        "df.drop(\"Unnamed: 0\", inplace=True, axis=1)\n",
        "\n",
        "df"
      ],
      "execution_count": null,
      "outputs": [
        {
          "output_type": "execute_result",
          "data": {
            "text/html": [
              "<div>\n",
              "<style scoped>\n",
              "    .dataframe tbody tr th:only-of-type {\n",
              "        vertical-align: middle;\n",
              "    }\n",
              "\n",
              "    .dataframe tbody tr th {\n",
              "        vertical-align: top;\n",
              "    }\n",
              "\n",
              "    .dataframe thead th {\n",
              "        text-align: right;\n",
              "    }\n",
              "</style>\n",
              "<table border=\"1\" class=\"dataframe\">\n",
              "  <thead>\n",
              "    <tr style=\"text-align: right;\">\n",
              "      <th></th>\n",
              "      <th>Store_Name</th>\n",
              "      <th>Locality</th>\n",
              "      <th>Postal_Code</th>\n",
              "      <th>Street_Address</th>\n",
              "      <th>Street_Name</th>\n",
              "      <th>Number</th>\n",
              "      <th>Neighborhood</th>\n",
              "      <th>Num_oc_geral_1</th>\n",
              "      <th>Sscore_geral_1</th>\n",
              "      <th>Num_oc_geral_2</th>\n",
              "      <th>Sscore_geral_2</th>\n",
              "      <th>Num_oc_espec_1</th>\n",
              "      <th>Sscore_espec_1</th>\n",
              "      <th>latitude</th>\n",
              "      <th>longitude</th>\n",
              "    </tr>\n",
              "  </thead>\n",
              "  <tbody>\n",
              "    <tr>\n",
              "      <th>0</th>\n",
              "      <td>The Old Beer Cervejaria Ltda</td>\n",
              "      <td>São Paulo</td>\n",
              "      <td>04583-020</td>\n",
              "      <td>Rua Baltazar Fernandes, 54,  Vl Gertrudes</td>\n",
              "      <td>Rua Baltazar Fernandes</td>\n",
              "      <td>54</td>\n",
              "      <td>Vl Gertrudes</td>\n",
              "      <td>10</td>\n",
              "      <td>0.022972</td>\n",
              "      <td>10</td>\n",
              "      <td>0.023334</td>\n",
              "      <td>10</td>\n",
              "      <td>0.022972</td>\n",
              "      <td>-23.619878</td>\n",
              "      <td>-46.693677</td>\n",
              "    </tr>\n",
              "    <tr>\n",
              "      <th>1</th>\n",
              "      <td>Choperia Nova Palace Ltda Me</td>\n",
              "      <td>São Paulo</td>\n",
              "      <td>04142-082</td>\n",
              "      <td>Avenida Bosque Saúde, 2198,  Bosque da Saúde</td>\n",
              "      <td>Avenida Bosque Saúde</td>\n",
              "      <td>2198</td>\n",
              "      <td>Bosque da Saúde</td>\n",
              "      <td>11</td>\n",
              "      <td>0.002410</td>\n",
              "      <td>9</td>\n",
              "      <td>0.003012</td>\n",
              "      <td>9</td>\n",
              "      <td>0.003012</td>\n",
              "      <td>-23.612507</td>\n",
              "      <td>-46.617928</td>\n",
              "    </tr>\n",
              "    <tr>\n",
              "      <th>2</th>\n",
              "      <td>Cervejaria Der Braumeister Paulista Ltda</td>\n",
              "      <td>São Paulo</td>\n",
              "      <td>04849-529</td>\n",
              "      <td>Rua Treze Maio, 1947, Lj 423  Bela Vista</td>\n",
              "      <td>Rua Treze Maio</td>\n",
              "      <td>1947</td>\n",
              "      <td>Lj 423  Bela Vista</td>\n",
              "      <td>2</td>\n",
              "      <td>0.061224</td>\n",
              "      <td>2</td>\n",
              "      <td>0.061224</td>\n",
              "      <td>2</td>\n",
              "      <td>0.061224</td>\n",
              "      <td>-23.570553</td>\n",
              "      <td>-46.643525</td>\n",
              "    </tr>\n",
              "    <tr>\n",
              "      <th>3</th>\n",
              "      <td>Lanchonete Choperia Mallorca Ltda Epp</td>\n",
              "      <td>São Paulo</td>\n",
              "      <td>01037-001</td>\n",
              "      <td>Rua Conselheiro Crispiniano, 65,  Sé</td>\n",
              "      <td>Rua Conselheiro Crispiniano</td>\n",
              "      <td>65</td>\n",
              "      <td>Sé</td>\n",
              "      <td>5</td>\n",
              "      <td>0.012274</td>\n",
              "      <td>5</td>\n",
              "      <td>0.009149</td>\n",
              "      <td>5</td>\n",
              "      <td>0.009149</td>\n",
              "      <td>-23.546337</td>\n",
              "      <td>-46.640149</td>\n",
              "    </tr>\n",
              "    <tr>\n",
              "      <th>4</th>\n",
              "      <td>Plínio Bar e Choperia Ltda</td>\n",
              "      <td>São Paulo</td>\n",
              "      <td>02512-000</td>\n",
              "      <td>Rua Bernardino Fanganiello, 282, Ap 102  Casa ...</td>\n",
              "      <td>Rua Bernardino Fanganiello</td>\n",
              "      <td>282</td>\n",
              "      <td>Ap 102  Casa Verde Baixa</td>\n",
              "      <td>13</td>\n",
              "      <td>0.003090</td>\n",
              "      <td>13</td>\n",
              "      <td>0.003090</td>\n",
              "      <td>13</td>\n",
              "      <td>0.003090</td>\n",
              "      <td>-23.512952</td>\n",
              "      <td>-46.658629</td>\n",
              "    </tr>\n",
              "    <tr>\n",
              "      <th>...</th>\n",
              "      <td>...</td>\n",
              "      <td>...</td>\n",
              "      <td>...</td>\n",
              "      <td>...</td>\n",
              "      <td>...</td>\n",
              "      <td>...</td>\n",
              "      <td>...</td>\n",
              "      <td>...</td>\n",
              "      <td>...</td>\n",
              "      <td>...</td>\n",
              "      <td>...</td>\n",
              "      <td>...</td>\n",
              "      <td>...</td>\n",
              "      <td>...</td>\n",
              "      <td>...</td>\n",
              "    </tr>\n",
              "    <tr>\n",
              "      <th>86</th>\n",
              "      <td>Nevada Chopperia Lancheteria L</td>\n",
              "      <td>São Paulo</td>\n",
              "      <td>02341-001</td>\n",
              "      <td>Avenida Nova Cantareira, 4055,  Tucuruvi</td>\n",
              "      <td>Avenida Nova Cantareira</td>\n",
              "      <td>4055</td>\n",
              "      <td>Tucuruvi</td>\n",
              "      <td>14</td>\n",
              "      <td>0.002024</td>\n",
              "      <td>14</td>\n",
              "      <td>0.002079</td>\n",
              "      <td>14</td>\n",
              "      <td>0.002024</td>\n",
              "      <td>-23.465241</td>\n",
              "      <td>-46.616764</td>\n",
              "    </tr>\n",
              "    <tr>\n",
              "      <th>87</th>\n",
              "      <td>Chopps Frios Donn Ltda</td>\n",
              "      <td>São Paulo</td>\n",
              "      <td>05419-000</td>\n",
              "      <td>Avenida Pedroso Morais, 221,  Alto de Pinheiros</td>\n",
              "      <td>Avenida Pedroso Morais</td>\n",
              "      <td>221</td>\n",
              "      <td>Alto de Pinheiros</td>\n",
              "      <td>9</td>\n",
              "      <td>0.003289</td>\n",
              "      <td>9</td>\n",
              "      <td>0.003289</td>\n",
              "      <td>9</td>\n",
              "      <td>0.003289</td>\n",
              "      <td>-23.567733</td>\n",
              "      <td>-46.688796</td>\n",
              "    </tr>\n",
              "    <tr>\n",
              "      <th>88</th>\n",
              "      <td>General Galinha Choperia e Res</td>\n",
              "      <td>São Paulo</td>\n",
              "      <td>02033-010</td>\n",
              "      <td>Avenida General Ataliba Leonel, 2493,  Santana</td>\n",
              "      <td>Avenida General Ataliba Leonel</td>\n",
              "      <td>2493</td>\n",
              "      <td>Santana</td>\n",
              "      <td>14</td>\n",
              "      <td>0.010201</td>\n",
              "      <td>14</td>\n",
              "      <td>0.010191</td>\n",
              "      <td>14</td>\n",
              "      <td>0.010349</td>\n",
              "      <td>-23.508186</td>\n",
              "      <td>-46.626204</td>\n",
              "    </tr>\n",
              "    <tr>\n",
              "      <th>89</th>\n",
              "      <td>Brasimax Com Equip Sup Esc Se</td>\n",
              "      <td>São Paulo</td>\n",
              "      <td>03401-001</td>\n",
              "      <td>Rua Antônio Barros, 2391, Ap 112  Vl Carrão</td>\n",
              "      <td>Rua Antônio Barros</td>\n",
              "      <td>2391</td>\n",
              "      <td>Ap 112  Vl Carrão</td>\n",
              "      <td>10</td>\n",
              "      <td>0.003175</td>\n",
              "      <td>10</td>\n",
              "      <td>0.003130</td>\n",
              "      <td>10</td>\n",
              "      <td>0.003130</td>\n",
              "      <td>-23.551103</td>\n",
              "      <td>-46.554006</td>\n",
              "    </tr>\n",
              "    <tr>\n",
              "      <th>90</th>\n",
              "      <td>Cervejaria Cristal</td>\n",
              "      <td>São Paulo</td>\n",
              "      <td>08340-140</td>\n",
              "      <td>Rua Forte Rio Branco, 455,</td>\n",
              "      <td>Rua Forte Rio Branco</td>\n",
              "      <td>455</td>\n",
              "      <td></td>\n",
              "      <td>14</td>\n",
              "      <td>0.013220</td>\n",
              "      <td>14</td>\n",
              "      <td>0.013220</td>\n",
              "      <td>14</td>\n",
              "      <td>0.013220</td>\n",
              "      <td>-23.604773</td>\n",
              "      <td>-46.464194</td>\n",
              "    </tr>\n",
              "  </tbody>\n",
              "</table>\n",
              "<p>91 rows × 15 columns</p>\n",
              "</div>"
            ],
            "text/plain": [
              "                                   Store_Name    Locality  ...   latitude  longitude\n",
              "0               The Old Beer Cervejaria Ltda   São Paulo   ... -23.619878 -46.693677\n",
              "1               Choperia Nova Palace Ltda Me   São Paulo   ... -23.612507 -46.617928\n",
              "2   Cervejaria Der Braumeister Paulista Ltda   São Paulo   ... -23.570553 -46.643525\n",
              "3      Lanchonete Choperia Mallorca Ltda Epp   São Paulo   ... -23.546337 -46.640149\n",
              "4                 Plínio Bar e Choperia Ltda   São Paulo   ... -23.512952 -46.658629\n",
              "..                                        ...         ...  ...        ...        ...\n",
              "86            Nevada Chopperia Lancheteria L   São Paulo   ... -23.465241 -46.616764\n",
              "87                    Chopps Frios Donn Ltda   São Paulo   ... -23.567733 -46.688796\n",
              "88            General Galinha Choperia e Res   São Paulo   ... -23.508186 -46.626204\n",
              "89             Brasimax Com Equip Sup Esc Se   São Paulo   ... -23.551103 -46.554006\n",
              "90                        Cervejaria Cristal   São Paulo   ... -23.604773 -46.464194\n",
              "\n",
              "[91 rows x 15 columns]"
            ]
          },
          "metadata": {
            "tags": []
          },
          "execution_count": 8
        }
      ]
    },
    {
      "cell_type": "code",
      "metadata": {
        "colab": {
          "base_uri": "https://localhost:8080/"
        },
        "id": "9ZneZtIeI5_l",
        "outputId": "79ea352e-7f59-428b-a5de-839afb43bd4a"
      },
      "source": [
        "df.rename(columns={'Sscore_geral_1': 'Score_geral_1', 'Sscore_geral_2': 'Score_geral_2', 'Sscore_espec_1': 'Score_espec_1'}, inplace=True)\n",
        "\n",
        "df"
      ],
      "execution_count": null,
      "outputs": [
        {
          "output_type": "execute_result",
          "data": {
            "text/html": [
              "<div>\n",
              "<style scoped>\n",
              "    .dataframe tbody tr th:only-of-type {\n",
              "        vertical-align: middle;\n",
              "    }\n",
              "\n",
              "    .dataframe tbody tr th {\n",
              "        vertical-align: top;\n",
              "    }\n",
              "\n",
              "    .dataframe thead th {\n",
              "        text-align: right;\n",
              "    }\n",
              "</style>\n",
              "<table border=\"1\" class=\"dataframe\">\n",
              "  <thead>\n",
              "    <tr style=\"text-align: right;\">\n",
              "      <th></th>\n",
              "      <th>Store_Name</th>\n",
              "      <th>Locality</th>\n",
              "      <th>Postal_Code</th>\n",
              "      <th>Street_Address</th>\n",
              "      <th>Street_Name</th>\n",
              "      <th>Number</th>\n",
              "      <th>Neighborhood</th>\n",
              "      <th>Num_oc_geral_1</th>\n",
              "      <th>Score_geral_1</th>\n",
              "      <th>Num_oc_geral_2</th>\n",
              "      <th>Score_geral_2</th>\n",
              "      <th>Num_oc_espec_1</th>\n",
              "      <th>Score_espec_1</th>\n",
              "      <th>latitude</th>\n",
              "      <th>longitude</th>\n",
              "    </tr>\n",
              "  </thead>\n",
              "  <tbody>\n",
              "    <tr>\n",
              "      <th>0</th>\n",
              "      <td>The Old Beer Cervejaria Ltda</td>\n",
              "      <td>São Paulo</td>\n",
              "      <td>04583-020</td>\n",
              "      <td>Rua Baltazar Fernandes, 54,  Vl Gertrudes</td>\n",
              "      <td>Rua Baltazar Fernandes</td>\n",
              "      <td>54</td>\n",
              "      <td>Vl Gertrudes</td>\n",
              "      <td>10</td>\n",
              "      <td>0.022972</td>\n",
              "      <td>10</td>\n",
              "      <td>0.023334</td>\n",
              "      <td>10</td>\n",
              "      <td>0.022972</td>\n",
              "      <td>-23.619878</td>\n",
              "      <td>-46.693677</td>\n",
              "    </tr>\n",
              "    <tr>\n",
              "      <th>1</th>\n",
              "      <td>Choperia Nova Palace Ltda Me</td>\n",
              "      <td>São Paulo</td>\n",
              "      <td>04142-082</td>\n",
              "      <td>Avenida Bosque Saúde, 2198,  Bosque da Saúde</td>\n",
              "      <td>Avenida Bosque Saúde</td>\n",
              "      <td>2198</td>\n",
              "      <td>Bosque da Saúde</td>\n",
              "      <td>11</td>\n",
              "      <td>0.002410</td>\n",
              "      <td>9</td>\n",
              "      <td>0.003012</td>\n",
              "      <td>9</td>\n",
              "      <td>0.003012</td>\n",
              "      <td>-23.612507</td>\n",
              "      <td>-46.617928</td>\n",
              "    </tr>\n",
              "    <tr>\n",
              "      <th>2</th>\n",
              "      <td>Cervejaria Der Braumeister Paulista Ltda</td>\n",
              "      <td>São Paulo</td>\n",
              "      <td>04849-529</td>\n",
              "      <td>Rua Treze Maio, 1947, Lj 423  Bela Vista</td>\n",
              "      <td>Rua Treze Maio</td>\n",
              "      <td>1947</td>\n",
              "      <td>Lj 423  Bela Vista</td>\n",
              "      <td>2</td>\n",
              "      <td>0.061224</td>\n",
              "      <td>2</td>\n",
              "      <td>0.061224</td>\n",
              "      <td>2</td>\n",
              "      <td>0.061224</td>\n",
              "      <td>-23.570553</td>\n",
              "      <td>-46.643525</td>\n",
              "    </tr>\n",
              "    <tr>\n",
              "      <th>3</th>\n",
              "      <td>Lanchonete Choperia Mallorca Ltda Epp</td>\n",
              "      <td>São Paulo</td>\n",
              "      <td>01037-001</td>\n",
              "      <td>Rua Conselheiro Crispiniano, 65,  Sé</td>\n",
              "      <td>Rua Conselheiro Crispiniano</td>\n",
              "      <td>65</td>\n",
              "      <td>Sé</td>\n",
              "      <td>5</td>\n",
              "      <td>0.012274</td>\n",
              "      <td>5</td>\n",
              "      <td>0.009149</td>\n",
              "      <td>5</td>\n",
              "      <td>0.009149</td>\n",
              "      <td>-23.546337</td>\n",
              "      <td>-46.640149</td>\n",
              "    </tr>\n",
              "    <tr>\n",
              "      <th>4</th>\n",
              "      <td>Plínio Bar e Choperia Ltda</td>\n",
              "      <td>São Paulo</td>\n",
              "      <td>02512-000</td>\n",
              "      <td>Rua Bernardino Fanganiello, 282, Ap 102  Casa ...</td>\n",
              "      <td>Rua Bernardino Fanganiello</td>\n",
              "      <td>282</td>\n",
              "      <td>Ap 102  Casa Verde Baixa</td>\n",
              "      <td>13</td>\n",
              "      <td>0.003090</td>\n",
              "      <td>13</td>\n",
              "      <td>0.003090</td>\n",
              "      <td>13</td>\n",
              "      <td>0.003090</td>\n",
              "      <td>-23.512952</td>\n",
              "      <td>-46.658629</td>\n",
              "    </tr>\n",
              "    <tr>\n",
              "      <th>...</th>\n",
              "      <td>...</td>\n",
              "      <td>...</td>\n",
              "      <td>...</td>\n",
              "      <td>...</td>\n",
              "      <td>...</td>\n",
              "      <td>...</td>\n",
              "      <td>...</td>\n",
              "      <td>...</td>\n",
              "      <td>...</td>\n",
              "      <td>...</td>\n",
              "      <td>...</td>\n",
              "      <td>...</td>\n",
              "      <td>...</td>\n",
              "      <td>...</td>\n",
              "      <td>...</td>\n",
              "    </tr>\n",
              "    <tr>\n",
              "      <th>86</th>\n",
              "      <td>Nevada Chopperia Lancheteria L</td>\n",
              "      <td>São Paulo</td>\n",
              "      <td>02341-001</td>\n",
              "      <td>Avenida Nova Cantareira, 4055,  Tucuruvi</td>\n",
              "      <td>Avenida Nova Cantareira</td>\n",
              "      <td>4055</td>\n",
              "      <td>Tucuruvi</td>\n",
              "      <td>14</td>\n",
              "      <td>0.002024</td>\n",
              "      <td>14</td>\n",
              "      <td>0.002079</td>\n",
              "      <td>14</td>\n",
              "      <td>0.002024</td>\n",
              "      <td>-23.465241</td>\n",
              "      <td>-46.616764</td>\n",
              "    </tr>\n",
              "    <tr>\n",
              "      <th>87</th>\n",
              "      <td>Chopps Frios Donn Ltda</td>\n",
              "      <td>São Paulo</td>\n",
              "      <td>05419-000</td>\n",
              "      <td>Avenida Pedroso Morais, 221,  Alto de Pinheiros</td>\n",
              "      <td>Avenida Pedroso Morais</td>\n",
              "      <td>221</td>\n",
              "      <td>Alto de Pinheiros</td>\n",
              "      <td>9</td>\n",
              "      <td>0.003289</td>\n",
              "      <td>9</td>\n",
              "      <td>0.003289</td>\n",
              "      <td>9</td>\n",
              "      <td>0.003289</td>\n",
              "      <td>-23.567733</td>\n",
              "      <td>-46.688796</td>\n",
              "    </tr>\n",
              "    <tr>\n",
              "      <th>88</th>\n",
              "      <td>General Galinha Choperia e Res</td>\n",
              "      <td>São Paulo</td>\n",
              "      <td>02033-010</td>\n",
              "      <td>Avenida General Ataliba Leonel, 2493,  Santana</td>\n",
              "      <td>Avenida General Ataliba Leonel</td>\n",
              "      <td>2493</td>\n",
              "      <td>Santana</td>\n",
              "      <td>14</td>\n",
              "      <td>0.010201</td>\n",
              "      <td>14</td>\n",
              "      <td>0.010191</td>\n",
              "      <td>14</td>\n",
              "      <td>0.010349</td>\n",
              "      <td>-23.508186</td>\n",
              "      <td>-46.626204</td>\n",
              "    </tr>\n",
              "    <tr>\n",
              "      <th>89</th>\n",
              "      <td>Brasimax Com Equip Sup Esc Se</td>\n",
              "      <td>São Paulo</td>\n",
              "      <td>03401-001</td>\n",
              "      <td>Rua Antônio Barros, 2391, Ap 112  Vl Carrão</td>\n",
              "      <td>Rua Antônio Barros</td>\n",
              "      <td>2391</td>\n",
              "      <td>Ap 112  Vl Carrão</td>\n",
              "      <td>10</td>\n",
              "      <td>0.003175</td>\n",
              "      <td>10</td>\n",
              "      <td>0.003130</td>\n",
              "      <td>10</td>\n",
              "      <td>0.003130</td>\n",
              "      <td>-23.551103</td>\n",
              "      <td>-46.554006</td>\n",
              "    </tr>\n",
              "    <tr>\n",
              "      <th>90</th>\n",
              "      <td>Cervejaria Cristal</td>\n",
              "      <td>São Paulo</td>\n",
              "      <td>08340-140</td>\n",
              "      <td>Rua Forte Rio Branco, 455,</td>\n",
              "      <td>Rua Forte Rio Branco</td>\n",
              "      <td>455</td>\n",
              "      <td></td>\n",
              "      <td>14</td>\n",
              "      <td>0.013220</td>\n",
              "      <td>14</td>\n",
              "      <td>0.013220</td>\n",
              "      <td>14</td>\n",
              "      <td>0.013220</td>\n",
              "      <td>-23.604773</td>\n",
              "      <td>-46.464194</td>\n",
              "    </tr>\n",
              "  </tbody>\n",
              "</table>\n",
              "<p>91 rows × 15 columns</p>\n",
              "</div>"
            ],
            "text/plain": [
              "                                   Store_Name    Locality  ...   latitude  longitude\n",
              "0               The Old Beer Cervejaria Ltda   São Paulo   ... -23.619878 -46.693677\n",
              "1               Choperia Nova Palace Ltda Me   São Paulo   ... -23.612507 -46.617928\n",
              "2   Cervejaria Der Braumeister Paulista Ltda   São Paulo   ... -23.570553 -46.643525\n",
              "3      Lanchonete Choperia Mallorca Ltda Epp   São Paulo   ... -23.546337 -46.640149\n",
              "4                 Plínio Bar e Choperia Ltda   São Paulo   ... -23.512952 -46.658629\n",
              "..                                        ...         ...  ...        ...        ...\n",
              "86            Nevada Chopperia Lancheteria L   São Paulo   ... -23.465241 -46.616764\n",
              "87                    Chopps Frios Donn Ltda   São Paulo   ... -23.567733 -46.688796\n",
              "88            General Galinha Choperia e Res   São Paulo   ... -23.508186 -46.626204\n",
              "89             Brasimax Com Equip Sup Esc Se   São Paulo   ... -23.551103 -46.554006\n",
              "90                        Cervejaria Cristal   São Paulo   ... -23.604773 -46.464194\n",
              "\n",
              "[91 rows x 15 columns]"
            ]
          },
          "metadata": {
            "tags": []
          },
          "execution_count": 9
        }
      ]
    },
    {
      "cell_type": "markdown",
      "metadata": {
        "id": "Wxbfp24vH0Zh"
      },
      "source": [
        "### SAVE"
      ]
    },
    {
      "cell_type": "code",
      "metadata": {
        "id": "DTa2rfgHHjhI"
      },
      "source": [
        "df_f.to_excel(\"Cervejarias em Sampa (Matriz Final - última versão) (REV4).xlsx\")"
      ],
      "execution_count": null,
      "outputs": []
    }
  ]
}